{
 "cells": [
  {
   "cell_type": "code",
   "execution_count": 1,
   "metadata": {
    "collapsed": true
   },
   "outputs": [
    {
     "name": "stderr",
     "output_type": "stream",
     "text": [
      "Using TensorFlow backend.\n"
     ]
    }
   ],
   "source": [
    "import os\n",
    "import PIL\n",
    "import h5py\n",
    "import math\n",
    "import numpy as np\n",
    "import matplotlib.pyplot as plt\n",
    "from keras.applications.vgg16 import preprocess_input, VGG16\n",
    "from keras.utils.np_utils import to_categorical\n",
    "%matplotlib inline"
   ]
  },
  {
   "cell_type": "code",
   "execution_count": 2,
   "metadata": {},
   "outputs": [],
   "source": [
    "OUT_FILE = 'data/aug_train_data.h5'\n",
    "METADATA = 'metadata.npy'\n",
    "DATA_FOLDER = 'data/augmentated'\n",
    "SHAPE = (150, 250, 3)\n",
    "BATCH_SIZE = 16"
   ]
  },
  {
   "cell_type": "code",
   "execution_count": 3,
   "metadata": {},
   "outputs": [
    {
     "name": "stdout",
     "output_type": "stream",
     "text": [
      "['data/augmentated/ALB', 'data/augmentated/BET', 'data/augmentated/DOL', 'data/augmentated/LAG', 'data/augmentated/NoF', 'data/augmentated/OTHER', 'data/augmentated/SHARK', 'data/augmentated/YFT']\n"
     ]
    },
    {
     "name": "stdout",
     "output_type": "stream",
     "text": [
      "model output shape: {} (None, 4, 7, 512)\n"
     ]
    }
   ],
   "source": [
    "labels = os.listdir(DATA_FOLDER)\n",
    "labels = [l for l in labels if \".DS_Store\" not in l]\n",
    "labels_path = [os.path.join(DATA_FOLDER, l) for l in labels]\n",
    "print(labels_path)\n",
    "n_labels = len(labels)\n",
    "n_images = np.sum([len(os.listdir(l)) for l in labels_path])\n",
    "\n",
    "label2idx = {j:to_categorical(i, n_labels)[0] for i,j in enumerate(labels)}\n",
    "np.save(METADATA, label2idx)\n",
    "\n",
    "model = VGG16(include_top=False, input_shape=SHAPE)\n",
    "model.layers.pop()\n",
    "    \n",
    "print('model output shape: {}', model.output_shape)\n",
    "\n",
    "f = h5py.File(OUT_FILE)\n",
    "output_shape = (n_images, *model.output_shape[1:])\n",
    "chunk_shape = (BATCH_SIZE, *model.output_shape[1:])\n",
    "try:\n",
    "    f.pop('x')\n",
    "    f.pop('y')\n",
    "except:\n",
    "    None\n",
    "\n",
    "img_data = f.create_dataset('x', shape=output_shape,\n",
    "                            dtype=np.float32, chunks=chunk_shape)\n",
    "labels_data = f.create_dataset('y', shape=(n_images, n_labels),\n",
    "                               dtype=np.float32, chunks=(BATCH_SIZE, n_labels))"
   ]
  },
  {
   "cell_type": "code",
   "execution_count": 4,
   "metadata": {
    "collapsed": false
   },
   "outputs": [
    {
     "name": "stdout",
     "output_type": "stream",
     "text": [
      "ALB: 0000/4824 (ETA: 999.00s)...\r"
     ]
    },
    {
     "name": "stdout",
     "output_type": "stream",
     "text": [
      "ALB: 0016/4824 (ETA: 7329.12s)...\r"
     ]
    },
    {
     "name": "stdout",
     "output_type": "stream",
     "text": [
      "ALB: 0032/4824 (ETA: 8807.79s)...\r"
     ]
    },
    {
     "name": "stdout",
     "output_type": "stream",
     "text": [
      "ALB: 0048/4824 (ETA: 7932.41s)...\r"
     ]
    },
    {
     "name": "stdout",
     "output_type": "stream",
     "text": [
      "ALB: 0064/4824 (ETA: 7722.84s)...\r"
     ]
    },
    {
     "name": "stdout",
     "output_type": "stream",
     "text": [
      "ALB: 0080/4824 (ETA: 7585.47s)...\r"
     ]
    },
    {
     "name": "stdout",
     "output_type": "stream",
     "text": [
      "ALB: 0096/4824 (ETA: 7323.27s)...\r"
     ]
    },
    {
     "name": "stdout",
     "output_type": "stream",
     "text": [
      "ALB: 0112/4824 (ETA: 6761.78s)...\r"
     ]
    },
    {
     "name": "stdout",
     "output_type": "stream",
     "text": [
      "ALB: 0128/4824 (ETA: 6722.24s)...\r"
     ]
    },
    {
     "name": "stdout",
     "output_type": "stream",
     "text": [
      "ALB: 0144/4824 (ETA: 6481.25s)...\r"
     ]
    },
    {
     "name": "stdout",
     "output_type": "stream",
     "text": [
      "ALB: 0160/4824 (ETA: 6251.85s)...\r"
     ]
    },
    {
     "name": "stdout",
     "output_type": "stream",
     "text": [
      "ALB: 0176/4824 (ETA: 6228.80s)...\r"
     ]
    },
    {
     "name": "stdout",
     "output_type": "stream",
     "text": [
      "ALB: 0192/4824 (ETA: 5917.84s)...\r"
     ]
    },
    {
     "name": "stdout",
     "output_type": "stream",
     "text": [
      "ALB: 0208/4824 (ETA: 5891.26s)...\r"
     ]
    },
    {
     "name": "stdout",
     "output_type": "stream",
     "text": [
      "ALB: 0224/4824 (ETA: 5893.65s)...\r"
     ]
    },
    {
     "name": "stdout",
     "output_type": "stream",
     "text": [
      "ALB: 0240/4824 (ETA: 5886.43s)...\r"
     ]
    },
    {
     "name": "stdout",
     "output_type": "stream",
     "text": [
      "ALB: 0256/4824 (ETA: 5878.50s)...\r"
     ]
    },
    {
     "name": "stdout",
     "output_type": "stream",
     "text": [
      "ALB: 0272/4824 (ETA: 5879.68s)...\r"
     ]
    },
    {
     "name": "stdout",
     "output_type": "stream",
     "text": [
      "ALB: 0288/4824 (ETA: 5870.28s)...\r"
     ]
    },
    {
     "name": "stdout",
     "output_type": "stream",
     "text": [
      "ALB: 0304/4824 (ETA: 5849.11s)...\r"
     ]
    },
    {
     "name": "stdout",
     "output_type": "stream",
     "text": [
      "ALB: 0320/4824 (ETA: 5829.29s)...\r"
     ]
    },
    {
     "name": "stdout",
     "output_type": "stream",
     "text": [
      "ALB: 0336/4824 (ETA: 5816.84s)...\r"
     ]
    },
    {
     "name": "stdout",
     "output_type": "stream",
     "text": [
      "ALB: 0352/4824 (ETA: 5794.51s)...\r"
     ]
    },
    {
     "name": "stdout",
     "output_type": "stream",
     "text": [
      "ALB: 0368/4824 (ETA: 5790.15s)...\r"
     ]
    },
    {
     "name": "stdout",
     "output_type": "stream",
     "text": [
      "ALB: 0384/4824 (ETA: 5778.57s)...\r"
     ]
    },
    {
     "name": "stdout",
     "output_type": "stream",
     "text": [
      "ALB: 0400/4824 (ETA: 5782.21s)...\r"
     ]
    },
    {
     "name": "stdout",
     "output_type": "stream",
     "text": [
      "ALB: 0416/4824 (ETA: 5771.63s)...\r"
     ]
    },
    {
     "name": "stdout",
     "output_type": "stream",
     "text": [
      "ALB: 0432/4824 (ETA: 5759.95s)...\r"
     ]
    },
    {
     "name": "stdout",
     "output_type": "stream",
     "text": [
      "ALB: 0448/4824 (ETA: 5748.36s)...\r"
     ]
    },
    {
     "name": "stdout",
     "output_type": "stream",
     "text": [
      "ALB: 0464/4824 (ETA: 5743.11s)...\r"
     ]
    },
    {
     "name": "stdout",
     "output_type": "stream",
     "text": [
      "ALB: 0480/4824 (ETA: 5723.06s)...\r"
     ]
    },
    {
     "name": "stdout",
     "output_type": "stream",
     "text": [
      "ALB: 0496/4824 (ETA: 5713.53s)...\r"
     ]
    },
    {
     "name": "stdout",
     "output_type": "stream",
     "text": [
      "ALB: 0512/4824 (ETA: 5704.77s)...\r"
     ]
    },
    {
     "name": "stdout",
     "output_type": "stream",
     "text": [
      "ALB: 0528/4824 (ETA: 5791.88s)...\r"
     ]
    },
    {
     "name": "stdout",
     "output_type": "stream",
     "text": [
      "ALB: 0544/4824 (ETA: 5787.39s)...\r"
     ]
    },
    {
     "name": "stdout",
     "output_type": "stream",
     "text": [
      "ALB: 0560/4824 (ETA: 5776.75s)...\r"
     ]
    },
    {
     "name": "stdout",
     "output_type": "stream",
     "text": [
      "ALB: 0576/4824 (ETA: 5766.29s)...\r"
     ]
    },
    {
     "name": "stdout",
     "output_type": "stream",
     "text": [
      "ALB: 0592/4824 (ETA: 5761.10s)...\r"
     ]
    },
    {
     "name": "stdout",
     "output_type": "stream",
     "text": [
      "ALB: 0608/4824 (ETA: 5649.36s)...\r"
     ]
    },
    {
     "name": "stdout",
     "output_type": "stream",
     "text": [
      "ALB: 0624/4824 (ETA: 5630.75s)...\r"
     ]
    },
    {
     "name": "stdout",
     "output_type": "stream",
     "text": [
      "ALB: 0640/4824 (ETA: 5619.93s)...\r"
     ]
    },
    {
     "name": "stdout",
     "output_type": "stream",
     "text": [
      "ALB: 0656/4824 (ETA: 5617.25s)...\r"
     ]
    },
    {
     "name": "stdout",
     "output_type": "stream",
     "text": [
      "ALB: 0672/4824 (ETA: 5602.43s)...\r"
     ]
    },
    {
     "name": "stdout",
     "output_type": "stream",
     "text": [
      "ALB: 0688/4824 (ETA: 5594.16s)...\r"
     ]
    },
    {
     "name": "stdout",
     "output_type": "stream",
     "text": [
      "ALB: 0704/4824 (ETA: 5583.11s)...\r"
     ]
    },
    {
     "name": "stdout",
     "output_type": "stream",
     "text": [
      "ALB: 0720/4824 (ETA: 5574.80s)...\r"
     ]
    },
    {
     "name": "stdout",
     "output_type": "stream",
     "text": [
      "ALB: 0736/4824 (ETA: 5557.93s)...\r"
     ]
    },
    {
     "name": "stdout",
     "output_type": "stream",
     "text": [
      "ALB: 0752/4824 (ETA: 5551.62s)...\r"
     ]
    },
    {
     "name": "stdout",
     "output_type": "stream",
     "text": [
      "ALB: 0768/4824 (ETA: 5548.39s)...\r"
     ]
    },
    {
     "name": "stdout",
     "output_type": "stream",
     "text": [
      "ALB: 0784/4824 (ETA: 5544.98s)...\r"
     ]
    },
    {
     "name": "stdout",
     "output_type": "stream",
     "text": [
      "ALB: 0800/4824 (ETA: 5541.76s)...\r"
     ]
    },
    {
     "name": "stdout",
     "output_type": "stream",
     "text": [
      "ALB: 0816/4824 (ETA: 5540.99s)...\r"
     ]
    },
    {
     "name": "stdout",
     "output_type": "stream",
     "text": [
      "ALB: 0832/4824 (ETA: 5533.56s)...\r"
     ]
    },
    {
     "name": "stdout",
     "output_type": "stream",
     "text": [
      "ALB: 0848/4824 (ETA: 5522.08s)...\r"
     ]
    },
    {
     "name": "stdout",
     "output_type": "stream",
     "text": [
      "ALB: 0864/4824 (ETA: 5508.01s)...\r"
     ]
    },
    {
     "name": "stdout",
     "output_type": "stream",
     "text": [
      "ALB: 0880/4824 (ETA: 5493.67s)...\r"
     ]
    },
    {
     "name": "stdout",
     "output_type": "stream",
     "text": [
      "ALB: 0896/4824 (ETA: 5477.35s)...\r"
     ]
    },
    {
     "name": "stdout",
     "output_type": "stream",
     "text": [
      "ALB: 0912/4824 (ETA: 5464.17s)...\r"
     ]
    },
    {
     "name": "stdout",
     "output_type": "stream",
     "text": [
      "ALB: 0928/4824 (ETA: 5451.36s)...\r"
     ]
    },
    {
     "name": "stdout",
     "output_type": "stream",
     "text": [
      "ALB: 0944/4824 (ETA: 5437.40s)...\r"
     ]
    },
    {
     "name": "stdout",
     "output_type": "stream",
     "text": [
      "ALB: 0960/4824 (ETA: 5423.90s)...\r"
     ]
    },
    {
     "name": "stdout",
     "output_type": "stream",
     "text": [
      "ALB: 0976/4824 (ETA: 5417.49s)...\r"
     ]
    },
    {
     "name": "stdout",
     "output_type": "stream",
     "text": [
      "ALB: 0992/4824 (ETA: 5408.14s)...\r"
     ]
    },
    {
     "name": "stdout",
     "output_type": "stream",
     "text": [
      "ALB: 1008/4824 (ETA: 5399.36s)...\r"
     ]
    },
    {
     "name": "stdout",
     "output_type": "stream",
     "text": [
      "ALB: 1024/4824 (ETA: 5396.00s)...\r"
     ]
    },
    {
     "name": "stdout",
     "output_type": "stream",
     "text": [
      "ALB: 1040/4824 (ETA: 5393.55s)...\r"
     ]
    },
    {
     "name": "stdout",
     "output_type": "stream",
     "text": [
      "ALB: 1056/4824 (ETA: 5457.84s)...\r"
     ]
    },
    {
     "name": "stdout",
     "output_type": "stream",
     "text": [
      "ALB: 1072/4824 (ETA: 5446.87s)...\r"
     ]
    },
    {
     "name": "stdout",
     "output_type": "stream",
     "text": [
      "ALB: 1088/4824 (ETA: 5440.56s)...\r"
     ]
    },
    {
     "name": "stdout",
     "output_type": "stream",
     "text": [
      "ALB: 1104/4824 (ETA: 5434.61s)...\r"
     ]
    },
    {
     "name": "stdout",
     "output_type": "stream",
     "text": [
      "ALB: 1120/4824 (ETA: 5423.37s)...\r"
     ]
    },
    {
     "name": "stdout",
     "output_type": "stream",
     "text": [
      "ALB: 1136/4824 (ETA: 5337.38s)...\r"
     ]
    },
    {
     "name": "stdout",
     "output_type": "stream",
     "text": [
      "ALB: 1152/4824 (ETA: 5328.07s)...\r"
     ]
    },
    {
     "name": "stdout",
     "output_type": "stream",
     "text": [
      "ALB: 1168/4824 (ETA: 5324.93s)...\r"
     ]
    },
    {
     "name": "stdout",
     "output_type": "stream",
     "text": [
      "ALB: 1184/4824 (ETA: 5342.03s)...\r"
     ]
    },
    {
     "name": "stdout",
     "output_type": "stream",
     "text": [
      "ALB: 1200/4824 (ETA: 5329.88s)...\r"
     ]
    },
    {
     "name": "stdout",
     "output_type": "stream",
     "text": [
      "ALB: 1216/4824 (ETA: 5317.82s)...\r"
     ]
    },
    {
     "name": "stdout",
     "output_type": "stream",
     "text": [
      "ALB: 1232/4824 (ETA: 5303.86s)...\r"
     ]
    },
    {
     "name": "stdout",
     "output_type": "stream",
     "text": [
      "ALB: 1248/4824 (ETA: 5277.21s)...\r"
     ]
    },
    {
     "name": "stdout",
     "output_type": "stream",
     "text": [
      "ALB: 1264/4824 (ETA: 5237.27s)...\r"
     ]
    },
    {
     "name": "stdout",
     "output_type": "stream",
     "text": [
      "ALB: 1280/4824 (ETA: 5232.20s)...\r"
     ]
    },
    {
     "name": "stdout",
     "output_type": "stream",
     "text": [
      "ALB: 1296/4824 (ETA: 5226.41s)...\r"
     ]
    },
    {
     "name": "stdout",
     "output_type": "stream",
     "text": [
      "ALB: 1312/4824 (ETA: 5227.17s)...\r"
     ]
    },
    {
     "name": "stdout",
     "output_type": "stream",
     "text": [
      "ALB: 1328/4824 (ETA: 5226.68s)...\r"
     ]
    },
    {
     "name": "stdout",
     "output_type": "stream",
     "text": [
      "ALB: 1344/4824 (ETA: 5215.98s)...\r"
     ]
    },
    {
     "name": "stdout",
     "output_type": "stream",
     "text": [
      "ALB: 1360/4824 (ETA: 5217.14s)...\r"
     ]
    },
    {
     "name": "stdout",
     "output_type": "stream",
     "text": [
      "ALB: 1376/4824 (ETA: 5211.45s)...\r"
     ]
    },
    {
     "name": "stdout",
     "output_type": "stream",
     "text": [
      "ALB: 1392/4824 (ETA: 5194.84s)...\r"
     ]
    },
    {
     "name": "stdout",
     "output_type": "stream",
     "text": [
      "ALB: 1408/4824 (ETA: 5184.67s)...\r"
     ]
    },
    {
     "name": "stdout",
     "output_type": "stream",
     "text": [
      "ALB: 1424/4824 (ETA: 5181.22s)...\r"
     ]
    },
    {
     "name": "stdout",
     "output_type": "stream",
     "text": [
      "ALB: 1440/4824 (ETA: 5164.27s)...\r"
     ]
    },
    {
     "name": "stdout",
     "output_type": "stream",
     "text": [
      "ALB: 1456/4824 (ETA: 5153.88s)...\r"
     ]
    },
    {
     "name": "stdout",
     "output_type": "stream",
     "text": [
      "ALB: 1472/4824 (ETA: 5150.46s)...\r"
     ]
    },
    {
     "name": "stdout",
     "output_type": "stream",
     "text": [
      "ALB: 1488/4824 (ETA: 5139.79s)...\r"
     ]
    },
    {
     "name": "stdout",
     "output_type": "stream",
     "text": [
      "ALB: 1504/4824 (ETA: 5122.18s)...\r"
     ]
    },
    {
     "name": "stdout",
     "output_type": "stream",
     "text": [
      "ALB: 1520/4824 (ETA: 5108.03s)...\r"
     ]
    },
    {
     "name": "stdout",
     "output_type": "stream",
     "text": [
      "ALB: 1536/4824 (ETA: 5095.23s)...\r"
     ]
    },
    {
     "name": "stdout",
     "output_type": "stream",
     "text": [
      "ALB: 1552/4824 (ETA: 5080.85s)...\r"
     ]
    },
    {
     "name": "stdout",
     "output_type": "stream",
     "text": [
      "ALB: 1568/4824 (ETA: 5072.58s)...\r"
     ]
    },
    {
     "name": "stdout",
     "output_type": "stream",
     "text": [
      "ALB: 1584/4824 (ETA: 5141.77s)...\r"
     ]
    },
    {
     "name": "stdout",
     "output_type": "stream",
     "text": [
      "ALB: 1600/4824 (ETA: 5131.50s)...\r"
     ]
    },
    {
     "name": "stdout",
     "output_type": "stream",
     "text": [
      "ALB: 1616/4824 (ETA: 5127.71s)...\r"
     ]
    },
    {
     "name": "stdout",
     "output_type": "stream",
     "text": [
      "ALB: 1632/4824 (ETA: 5123.68s)...\r"
     ]
    },
    {
     "name": "stdout",
     "output_type": "stream",
     "text": [
      "ALB: 1648/4824 (ETA: 5119.15s)...\r"
     ]
    },
    {
     "name": "stdout",
     "output_type": "stream",
     "text": [
      "ALB: 1664/4824 (ETA: 5040.33s)...\r"
     ]
    },
    {
     "name": "stdout",
     "output_type": "stream",
     "text": [
      "ALB: 1680/4824 (ETA: 5031.68s)...\r"
     ]
    },
    {
     "name": "stdout",
     "output_type": "stream",
     "text": [
      "ALB: 1696/4824 (ETA: 5013.05s)...\r"
     ]
    },
    {
     "name": "stdout",
     "output_type": "stream",
     "text": [
      "ALB: 1712/4824 (ETA: 4994.98s)...\r"
     ]
    },
    {
     "name": "stdout",
     "output_type": "stream",
     "text": [
      "ALB: 1728/4824 (ETA: 4982.00s)...\r"
     ]
    },
    {
     "name": "stdout",
     "output_type": "stream",
     "text": [
      "ALB: 1744/4824 (ETA: 4966.86s)...\r"
     ]
    },
    {
     "name": "stdout",
     "output_type": "stream",
     "text": [
      "ALB: 1760/4824 (ETA: 4955.40s)...\r"
     ]
    },
    {
     "name": "stdout",
     "output_type": "stream",
     "text": [
      "ALB: 1776/4824 (ETA: 4947.40s)...\r"
     ]
    },
    {
     "name": "stdout",
     "output_type": "stream",
     "text": [
      "ALB: 1792/4824 (ETA: 4945.14s)...\r"
     ]
    },
    {
     "name": "stdout",
     "output_type": "stream",
     "text": [
      "ALB: 1808/4824 (ETA: 4940.33s)...\r"
     ]
    },
    {
     "name": "stdout",
     "output_type": "stream",
     "text": [
      "ALB: 1824/4824 (ETA: 4937.54s)...\r"
     ]
    },
    {
     "name": "stdout",
     "output_type": "stream",
     "text": [
      "ALB: 1840/4824 (ETA: 4929.68s)...\r"
     ]
    },
    {
     "name": "stdout",
     "output_type": "stream",
     "text": [
      "ALB: 1856/4824 (ETA: 4924.28s)...\r"
     ]
    },
    {
     "name": "stdout",
     "output_type": "stream",
     "text": [
      "ALB: 1872/4824 (ETA: 4918.61s)...\r"
     ]
    },
    {
     "name": "stdout",
     "output_type": "stream",
     "text": [
      "ALB: 1888/4824 (ETA: 4903.30s)...\r"
     ]
    },
    {
     "name": "stdout",
     "output_type": "stream",
     "text": [
      "ALB: 1904/4824 (ETA: 4886.38s)...\r"
     ]
    },
    {
     "name": "stdout",
     "output_type": "stream",
     "text": [
      "ALB: 1920/4824 (ETA: 4875.48s)...\r"
     ]
    },
    {
     "name": "stdout",
     "output_type": "stream",
     "text": [
      "ALB: 1936/4824 (ETA: 4871.18s)...\r"
     ]
    },
    {
     "name": "stdout",
     "output_type": "stream",
     "text": [
      "ALB: 1952/4824 (ETA: 4861.65s)...\r"
     ]
    },
    {
     "name": "stdout",
     "output_type": "stream",
     "text": [
      "ALB: 1968/4824 (ETA: 4851.02s)...\r"
     ]
    },
    {
     "name": "stdout",
     "output_type": "stream",
     "text": [
      "ALB: 1984/4824 (ETA: 4845.94s)...\r"
     ]
    },
    {
     "name": "stdout",
     "output_type": "stream",
     "text": [
      "ALB: 2000/4824 (ETA: 4837.44s)...\r"
     ]
    },
    {
     "name": "stdout",
     "output_type": "stream",
     "text": [
      "ALB: 2016/4824 (ETA: 4828.55s)...\r"
     ]
    },
    {
     "name": "stdout",
     "output_type": "stream",
     "text": [
      "ALB: 2032/4824 (ETA: 4814.50s)...\r"
     ]
    },
    {
     "name": "stdout",
     "output_type": "stream",
     "text": [
      "ALB: 2048/4824 (ETA: 4798.71s)...\r"
     ]
    },
    {
     "name": "stdout",
     "output_type": "stream",
     "text": [
      "ALB: 2064/4824 (ETA: 4785.81s)...\r"
     ]
    },
    {
     "name": "stdout",
     "output_type": "stream",
     "text": [
      "ALB: 2080/4824 (ETA: 4778.33s)...\r"
     ]
    },
    {
     "name": "stdout",
     "output_type": "stream",
     "text": [
      "ALB: 2096/4824 (ETA: 4766.02s)...\r"
     ]
    },
    {
     "name": "stdout",
     "output_type": "stream",
     "text": [
      "ALB: 2112/4824 (ETA: 4819.08s)...\r"
     ]
    },
    {
     "name": "stdout",
     "output_type": "stream",
     "text": [
      "ALB: 2128/4824 (ETA: 4835.45s)...\r"
     ]
    },
    {
     "name": "stdout",
     "output_type": "stream",
     "text": [
      "ALB: 2144/4824 (ETA: 4830.63s)...\r"
     ]
    },
    {
     "name": "stdout",
     "output_type": "stream",
     "text": [
      "ALB: 2160/4824 (ETA: 5073.93s)...\r"
     ]
    },
    {
     "name": "stdout",
     "output_type": "stream",
     "text": [
      "ALB: 2176/4824 (ETA: 5065.72s)...\r"
     ]
    },
    {
     "name": "stdout",
     "output_type": "stream",
     "text": [
      "ALB: 2192/4824 (ETA: 4992.24s)...\r"
     ]
    },
    {
     "name": "stdout",
     "output_type": "stream",
     "text": [
      "ALB: 2208/4824 (ETA: 4964.15s)...\r"
     ]
    },
    {
     "name": "stdout",
     "output_type": "stream",
     "text": [
      "ALB: 2224/4824 (ETA: 4946.24s)...\r"
     ]
    },
    {
     "name": "stdout",
     "output_type": "stream",
     "text": [
      "ALB: 2240/4824 (ETA: 4677.28s)...\r"
     ]
    },
    {
     "name": "stdout",
     "output_type": "stream",
     "text": [
      "ALB: 2256/4824 (ETA: 4657.38s)...\r"
     ]
    },
    {
     "name": "stdout",
     "output_type": "stream",
     "text": [
      "ALB: 2272/4824 (ETA: 4648.19s)...\r"
     ]
    },
    {
     "name": "stdout",
     "output_type": "stream",
     "text": [
      "ALB: 2288/4824 (ETA: 4642.61s)...\r"
     ]
    },
    {
     "name": "stdout",
     "output_type": "stream",
     "text": [
      "ALB: 2304/4824 (ETA: 4628.62s)...\r"
     ]
    },
    {
     "name": "stdout",
     "output_type": "stream",
     "text": [
      "ALB: 2320/4824 (ETA: 4620.78s)...\r"
     ]
    },
    {
     "name": "stdout",
     "output_type": "stream",
     "text": [
      "ALB: 2336/4824 (ETA: 4613.59s)...\r"
     ]
    },
    {
     "name": "stdout",
     "output_type": "stream",
     "text": [
      "ALB: 2352/4824 (ETA: 4605.39s)...\r"
     ]
    },
    {
     "name": "stdout",
     "output_type": "stream",
     "text": [
      "ALB: 2368/4824 (ETA: 4601.20s)...\r"
     ]
    },
    {
     "name": "stdout",
     "output_type": "stream",
     "text": [
      "ALB: 2384/4824 (ETA: 4600.58s)...\r"
     ]
    },
    {
     "name": "stdout",
     "output_type": "stream",
     "text": [
      "ALB: 2400/4824 (ETA: 4590.86s)...\r"
     ]
    },
    {
     "name": "stdout",
     "output_type": "stream",
     "text": [
      "ALB: 2416/4824 (ETA: 4587.58s)...\r"
     ]
    },
    {
     "name": "stdout",
     "output_type": "stream",
     "text": [
      "ALB: 2432/4824 (ETA: 4578.99s)...\r"
     ]
    },
    {
     "name": "stdout",
     "output_type": "stream",
     "text": [
      "ALB: 2448/4824 (ETA: 4564.79s)...\r"
     ]
    },
    {
     "name": "stdout",
     "output_type": "stream",
     "text": [
      "ALB: 2464/4824 (ETA: 4563.95s)...\r"
     ]
    },
    {
     "name": "stdout",
     "output_type": "stream",
     "text": [
      "ALB: 2480/4824 (ETA: 4562.36s)...\r"
     ]
    },
    {
     "name": "stdout",
     "output_type": "stream",
     "text": [
      "ALB: 2496/4824 (ETA: 4551.74s)...\r"
     ]
    },
    {
     "name": "stdout",
     "output_type": "stream",
     "text": [
      "ALB: 2512/4824 (ETA: 4538.79s)...\r"
     ]
    },
    {
     "name": "stdout",
     "output_type": "stream",
     "text": [
      "ALB: 2528/4824 (ETA: 4528.03s)...\r"
     ]
    },
    {
     "name": "stdout",
     "output_type": "stream",
     "text": [
      "ALB: 2544/4824 (ETA: 4511.32s)...\r"
     ]
    },
    {
     "name": "stdout",
     "output_type": "stream",
     "text": [
      "ALB: 2560/4824 (ETA: 4495.62s)...\r"
     ]
    },
    {
     "name": "stdout",
     "output_type": "stream",
     "text": [
      "ALB: 2576/4824 (ETA: 4487.87s)...\r"
     ]
    },
    {
     "name": "stdout",
     "output_type": "stream",
     "text": [
      "ALB: 2592/4824 (ETA: 4486.21s)...\r"
     ]
    },
    {
     "name": "stdout",
     "output_type": "stream",
     "text": [
      "ALB: 2608/4824 (ETA: 4472.08s)...\r"
     ]
    },
    {
     "name": "stdout",
     "output_type": "stream",
     "text": [
      "ALB: 2624/4824 (ETA: 4463.90s)...\r"
     ]
    },
    {
     "name": "stdout",
     "output_type": "stream",
     "text": [
      "ALB: 2640/4824 (ETA: 4526.36s)...\r"
     ]
    },
    {
     "name": "stdout",
     "output_type": "stream",
     "text": [
      "ALB: 2656/4824 (ETA: 4513.59s)...\r"
     ]
    },
    {
     "name": "stdout",
     "output_type": "stream",
     "text": [
      "ALB: 2672/4824 (ETA: 4495.45s)...\r"
     ]
    },
    {
     "name": "stdout",
     "output_type": "stream",
     "text": [
      "ALB: 2688/4824 (ETA: 4488.18s)...\r"
     ]
    },
    {
     "name": "stdout",
     "output_type": "stream",
     "text": [
      "ALB: 2704/4824 (ETA: 4478.70s)...\r"
     ]
    },
    {
     "name": "stdout",
     "output_type": "stream",
     "text": [
      "ALB: 2720/4824 (ETA: 4399.40s)...\r"
     ]
    },
    {
     "name": "stdout",
     "output_type": "stream",
     "text": [
      "ALB: 2736/4824 (ETA: 4385.84s)...\r"
     ]
    },
    {
     "name": "stdout",
     "output_type": "stream",
     "text": [
      "ALB: 2752/4824 (ETA: 4379.91s)...\r"
     ]
    },
    {
     "name": "stdout",
     "output_type": "stream",
     "text": [
      "ALB: 2768/4824 (ETA: 4362.95s)...\r"
     ]
    },
    {
     "name": "stdout",
     "output_type": "stream",
     "text": [
      "ALB: 2784/4824 (ETA: 4347.75s)...\r"
     ]
    },
    {
     "name": "stdout",
     "output_type": "stream",
     "text": [
      "ALB: 2800/4824 (ETA: 4340.37s)...\r"
     ]
    },
    {
     "name": "stdout",
     "output_type": "stream",
     "text": [
      "ALB: 2816/4824 (ETA: 4334.68s)...\r"
     ]
    },
    {
     "name": "stdout",
     "output_type": "stream",
     "text": [
      "ALB: 2832/4824 (ETA: 4321.50s)...\r"
     ]
    },
    {
     "name": "stdout",
     "output_type": "stream",
     "text": [
      "ALB: 2848/4824 (ETA: 4315.54s)...\r"
     ]
    },
    {
     "name": "stdout",
     "output_type": "stream",
     "text": [
      "ALB: 2864/4824 (ETA: 4307.42s)...\r"
     ]
    },
    {
     "name": "stdout",
     "output_type": "stream",
     "text": [
      "ALB: 2880/4824 (ETA: 4305.66s)...\r"
     ]
    },
    {
     "name": "stdout",
     "output_type": "stream",
     "text": [
      "ALB: 2896/4824 (ETA: 4291.89s)...\r"
     ]
    },
    {
     "name": "stdout",
     "output_type": "stream",
     "text": [
      "ALB: 2912/4824 (ETA: 4279.71s)...\r"
     ]
    },
    {
     "name": "stdout",
     "output_type": "stream",
     "text": [
      "ALB: 2928/4824 (ETA: 4266.66s)...\r"
     ]
    },
    {
     "name": "stdout",
     "output_type": "stream",
     "text": [
      "ALB: 2944/4824 (ETA: 4259.08s)...\r"
     ]
    },
    {
     "name": "stdout",
     "output_type": "stream",
     "text": [
      "ALB: 2960/4824 (ETA: 4246.30s)...\r"
     ]
    },
    {
     "name": "stdout",
     "output_type": "stream",
     "text": [
      "ALB: 2976/4824 (ETA: 4271.92s)...\r"
     ]
    },
    {
     "name": "stdout",
     "output_type": "stream",
     "text": [
      "ALB: 2992/4824 (ETA: 4268.78s)...\r"
     ]
    },
    {
     "name": "stdout",
     "output_type": "stream",
     "text": [
      "ALB: 3008/4824 (ETA: 4262.00s)...\r"
     ]
    },
    {
     "name": "stdout",
     "output_type": "stream",
     "text": [
      "ALB: 3024/4824 (ETA: 4258.10s)...\r"
     ]
    },
    {
     "name": "stdout",
     "output_type": "stream",
     "text": [
      "ALB: 3040/4824 (ETA: 4241.44s)...\r"
     ]
    },
    {
     "name": "stdout",
     "output_type": "stream",
     "text": [
      "ALB: 3056/4824 (ETA: 4204.67s)...\r"
     ]
    },
    {
     "name": "stdout",
     "output_type": "stream",
     "text": [
      "ALB: 3072/4824 (ETA: 4195.69s)...\r"
     ]
    },
    {
     "name": "stdout",
     "output_type": "stream",
     "text": [
      "ALB: 3088/4824 (ETA: 4190.98s)...\r"
     ]
    },
    {
     "name": "stdout",
     "output_type": "stream",
     "text": [
      "ALB: 3104/4824 (ETA: 4177.64s)...\r"
     ]
    },
    {
     "name": "stdout",
     "output_type": "stream",
     "text": [
      "ALB: 3120/4824 (ETA: 4164.62s)...\r"
     ]
    },
    {
     "name": "stdout",
     "output_type": "stream",
     "text": [
      "ALB: 3136/4824 (ETA: 4156.32s)...\r"
     ]
    },
    {
     "name": "stdout",
     "output_type": "stream",
     "text": [
      "ALB: 3152/4824 (ETA: 4141.82s)...\r"
     ]
    },
    {
     "name": "stdout",
     "output_type": "stream",
     "text": [
      "ALB: 3168/4824 (ETA: 4182.21s)...\r"
     ]
    },
    {
     "name": "stdout",
     "output_type": "stream",
     "text": [
      "ALB: 3184/4824 (ETA: 4167.49s)...\r"
     ]
    },
    {
     "name": "stdout",
     "output_type": "stream",
     "text": [
      "ALB: 3200/4824 (ETA: 4164.43s)...\r"
     ]
    },
    {
     "name": "stdout",
     "output_type": "stream",
     "text": [
      "ALB: 3216/4824 (ETA: 4150.22s)...\r"
     ]
    },
    {
     "name": "stdout",
     "output_type": "stream",
     "text": [
      "ALB: 3232/4824 (ETA: 4145.63s)...\r"
     ]
    },
    {
     "name": "stdout",
     "output_type": "stream",
     "text": [
      "ALB: 3248/4824 (ETA: 4083.53s)...\r"
     ]
    },
    {
     "name": "stdout",
     "output_type": "stream",
     "text": [
      "ALB: 3264/4824 (ETA: 4075.39s)...\r"
     ]
    },
    {
     "name": "stdout",
     "output_type": "stream",
     "text": [
      "ALB: 3280/4824 (ETA: 4061.86s)...\r"
     ]
    },
    {
     "name": "stdout",
     "output_type": "stream",
     "text": [
      "ALB: 3296/4824 (ETA: 4048.98s)...\r"
     ]
    },
    {
     "name": "stdout",
     "output_type": "stream",
     "text": [
      "ALB: 3312/4824 (ETA: 4039.06s)...\r"
     ]
    },
    {
     "name": "stdout",
     "output_type": "stream",
     "text": [
      "ALB: 3328/4824 (ETA: 4032.16s)...\r"
     ]
    },
    {
     "name": "stdout",
     "output_type": "stream",
     "text": [
      "ALB: 3344/4824 (ETA: 4022.98s)...\r"
     ]
    },
    {
     "name": "stdout",
     "output_type": "stream",
     "text": [
      "ALB: 3360/4824 (ETA: 4011.96s)...\r"
     ]
    },
    {
     "name": "stdout",
     "output_type": "stream",
     "text": [
      "ALB: 3376/4824 (ETA: 4006.93s)...\r"
     ]
    },
    {
     "name": "stdout",
     "output_type": "stream",
     "text": [
      "ALB: 3392/4824 (ETA: 3996.52s)...\r"
     ]
    },
    {
     "name": "stdout",
     "output_type": "stream",
     "text": [
      "ALB: 3408/4824 (ETA: 3989.93s)...\r"
     ]
    },
    {
     "name": "stdout",
     "output_type": "stream",
     "text": [
      "ALB: 3424/4824 (ETA: 3983.18s)...\r"
     ]
    },
    {
     "name": "stdout",
     "output_type": "stream",
     "text": [
      "ALB: 3440/4824 (ETA: 3984.48s)...\r"
     ]
    },
    {
     "name": "stdout",
     "output_type": "stream",
     "text": [
      "ALB: 3456/4824 (ETA: 3974.72s)...\r"
     ]
    },
    {
     "name": "stdout",
     "output_type": "stream",
     "text": [
      "ALB: 3472/4824 (ETA: 3966.81s)...\r"
     ]
    },
    {
     "name": "stdout",
     "output_type": "stream",
     "text": [
      "ALB: 3488/4824 (ETA: 3954.14s)...\r"
     ]
    },
    {
     "name": "stdout",
     "output_type": "stream",
     "text": [
      "ALB: 3504/4824 (ETA: 3950.98s)...\r"
     ]
    },
    {
     "name": "stdout",
     "output_type": "stream",
     "text": [
      "ALB: 3520/4824 (ETA: 3939.21s)...\r"
     ]
    },
    {
     "name": "stdout",
     "output_type": "stream",
     "text": [
      "ALB: 3536/4824 (ETA: 3926.56s)...\r"
     ]
    },
    {
     "name": "stdout",
     "output_type": "stream",
     "text": [
      "ALB: 3552/4824 (ETA: 3915.90s)...\r"
     ]
    },
    {
     "name": "stdout",
     "output_type": "stream",
     "text": [
      "ALB: 3568/4824 (ETA: 3907.24s)...\r"
     ]
    },
    {
     "name": "stdout",
     "output_type": "stream",
     "text": [
      "ALB: 3584/4824 (ETA: 3892.78s)...\r"
     ]
    },
    {
     "name": "stdout",
     "output_type": "stream",
     "text": [
      "ALB: 3600/4824 (ETA: 3879.91s)...\r"
     ]
    },
    {
     "name": "stdout",
     "output_type": "stream",
     "text": [
      "ALB: 3616/4824 (ETA: 3870.53s)...\r"
     ]
    },
    {
     "name": "stdout",
     "output_type": "stream",
     "text": [
      "ALB: 3632/4824 (ETA: 3859.90s)...\r"
     ]
    },
    {
     "name": "stdout",
     "output_type": "stream",
     "text": [
      "ALB: 3648/4824 (ETA: 3850.96s)...\r"
     ]
    },
    {
     "name": "stdout",
     "output_type": "stream",
     "text": [
      "ALB: 3664/4824 (ETA: 3841.31s)...\r"
     ]
    },
    {
     "name": "stdout",
     "output_type": "stream",
     "text": [
      "ALB: 3680/4824 (ETA: 3831.36s)...\r"
     ]
    },
    {
     "name": "stdout",
     "output_type": "stream",
     "text": [
      "ALB: 3696/4824 (ETA: 3872.95s)...\r"
     ]
    },
    {
     "name": "stdout",
     "output_type": "stream",
     "text": [
      "ALB: 3712/4824 (ETA: 3866.67s)...\r"
     ]
    },
    {
     "name": "stdout",
     "output_type": "stream",
     "text": [
      "ALB: 3728/4824 (ETA: 3852.08s)...\r"
     ]
    },
    {
     "name": "stdout",
     "output_type": "stream",
     "text": [
      "ALB: 3744/4824 (ETA: 3838.60s)...\r"
     ]
    },
    {
     "name": "stdout",
     "output_type": "stream",
     "text": [
      "ALB: 3760/4824 (ETA: 3829.01s)...\r"
     ]
    },
    {
     "name": "stdout",
     "output_type": "stream",
     "text": [
      "ALB: 3776/4824 (ETA: 3767.79s)...\r"
     ]
    },
    {
     "name": "stdout",
     "output_type": "stream",
     "text": [
      "ALB: 3792/4824 (ETA: 3750.46s)...\r"
     ]
    },
    {
     "name": "stdout",
     "output_type": "stream",
     "text": [
      "ALB: 3808/4824 (ETA: 3744.30s)...\r"
     ]
    },
    {
     "name": "stdout",
     "output_type": "stream",
     "text": [
      "ALB: 3824/4824 (ETA: 3733.71s)...\r"
     ]
    },
    {
     "name": "stdout",
     "output_type": "stream",
     "text": [
      "ALB: 3840/4824 (ETA: 3724.59s)...\r"
     ]
    },
    {
     "name": "stdout",
     "output_type": "stream",
     "text": [
      "ALB: 3856/4824 (ETA: 3718.21s)...\r"
     ]
    },
    {
     "name": "stdout",
     "output_type": "stream",
     "text": [
      "ALB: 3872/4824 (ETA: 3711.65s)...\r"
     ]
    },
    {
     "name": "stdout",
     "output_type": "stream",
     "text": [
      "ALB: 3888/4824 (ETA: 3703.17s)...\r"
     ]
    },
    {
     "name": "stdout",
     "output_type": "stream",
     "text": [
      "ALB: 3904/4824 (ETA: 3698.17s)...\r"
     ]
    },
    {
     "name": "stdout",
     "output_type": "stream",
     "text": [
      "ALB: 3920/4824 (ETA: 3697.40s)...\r"
     ]
    },
    {
     "name": "stdout",
     "output_type": "stream",
     "text": [
      "ALB: 3936/4824 (ETA: 3689.25s)...\r"
     ]
    },
    {
     "name": "stdout",
     "output_type": "stream",
     "text": [
      "ALB: 3952/4824 (ETA: 3684.66s)...\r"
     ]
    },
    {
     "name": "stdout",
     "output_type": "stream",
     "text": [
      "ALB: 3968/4824 (ETA: 3677.26s)...\r"
     ]
    },
    {
     "name": "stdout",
     "output_type": "stream",
     "text": [
      "ALB: 3984/4824 (ETA: 3666.88s)...\r"
     ]
    },
    {
     "name": "stdout",
     "output_type": "stream",
     "text": [
      "ALB: 4000/4824 (ETA: 3654.12s)...\r"
     ]
    },
    {
     "name": "stdout",
     "output_type": "stream",
     "text": [
      "ALB: 4016/4824 (ETA: 3645.79s)...\r"
     ]
    },
    {
     "name": "stdout",
     "output_type": "stream",
     "text": [
      "ALB: 4032/4824 (ETA: 3636.84s)...\r"
     ]
    },
    {
     "name": "stdout",
     "output_type": "stream",
     "text": [
      "ALB: 4048/4824 (ETA: 3628.53s)...\r"
     ]
    },
    {
     "name": "stdout",
     "output_type": "stream",
     "text": [
      "ALB: 4064/4824 (ETA: 3621.56s)...\r"
     ]
    },
    {
     "name": "stdout",
     "output_type": "stream",
     "text": [
      "ALB: 4080/4824 (ETA: 3610.06s)...\r"
     ]
    },
    {
     "name": "stdout",
     "output_type": "stream",
     "text": [
      "ALB: 4096/4824 (ETA: 3598.96s)...\r"
     ]
    },
    {
     "name": "stdout",
     "output_type": "stream",
     "text": [
      "ALB: 4112/4824 (ETA: 3588.22s)...\r"
     ]
    },
    {
     "name": "stdout",
     "output_type": "stream",
     "text": [
      "ALB: 4128/4824 (ETA: 3578.68s)...\r"
     ]
    },
    {
     "name": "stdout",
     "output_type": "stream",
     "text": [
      "ALB: 4144/4824 (ETA: 3570.15s)...\r"
     ]
    },
    {
     "name": "stdout",
     "output_type": "stream",
     "text": [
      "ALB: 4160/4824 (ETA: 3561.52s)...\r"
     ]
    },
    {
     "name": "stdout",
     "output_type": "stream",
     "text": [
      "ALB: 4176/4824 (ETA: 3548.11s)...\r"
     ]
    },
    {
     "name": "stdout",
     "output_type": "stream",
     "text": [
      "ALB: 4192/4824 (ETA: 3542.32s)...\r"
     ]
    },
    {
     "name": "stdout",
     "output_type": "stream",
     "text": [
      "ALB: 4208/4824 (ETA: 3533.37s)...\r"
     ]
    },
    {
     "name": "stdout",
     "output_type": "stream",
     "text": [
      "ALB: 4224/4824 (ETA: 3573.26s)...\r"
     ]
    },
    {
     "name": "stdout",
     "output_type": "stream",
     "text": [
      "ALB: 4240/4824 (ETA: 3563.20s)...\r"
     ]
    },
    {
     "name": "stdout",
     "output_type": "stream",
     "text": [
      "ALB: 4256/4824 (ETA: 3554.58s)...\r"
     ]
    },
    {
     "name": "stdout",
     "output_type": "stream",
     "text": [
      "ALB: 4272/4824 (ETA: 3546.07s)...\r"
     ]
    },
    {
     "name": "stdout",
     "output_type": "stream",
     "text": [
      "ALB: 4288/4824 (ETA: 3534.90s)...\r"
     ]
    },
    {
     "name": "stdout",
     "output_type": "stream",
     "text": [
      "ALB: 4304/4824 (ETA: 3478.11s)...\r"
     ]
    },
    {
     "name": "stdout",
     "output_type": "stream",
     "text": [
      "ALB: 4320/4824 (ETA: 3471.13s)...\r"
     ]
    },
    {
     "name": "stdout",
     "output_type": "stream",
     "text": [
      "ALB: 4336/4824 (ETA: 3467.73s)...\r"
     ]
    },
    {
     "name": "stdout",
     "output_type": "stream",
     "text": [
      "ALB: 4352/4824 (ETA: 3457.39s)...\r"
     ]
    },
    {
     "name": "stdout",
     "output_type": "stream",
     "text": [
      "ALB: 4368/4824 (ETA: 3450.21s)...\r"
     ]
    },
    {
     "name": "stdout",
     "output_type": "stream",
     "text": [
      "ALB: 4384/4824 (ETA: 3572.92s)...\r"
     ]
    },
    {
     "name": "stdout",
     "output_type": "stream",
     "text": [
      "ALB: 4400/4824 (ETA: 3785.55s)...\r"
     ]
    },
    {
     "name": "stdout",
     "output_type": "stream",
     "text": [
      "ALB: 4416/4824 (ETA: 3800.56s)...\r"
     ]
    },
    {
     "name": "stdout",
     "output_type": "stream",
     "text": [
      "ALB: 4432/4824 (ETA: 3787.87s)...\r"
     ]
    },
    {
     "name": "stdout",
     "output_type": "stream",
     "text": [
      "ALB: 4448/4824 (ETA: 3779.85s)...\r"
     ]
    },
    {
     "name": "stdout",
     "output_type": "stream",
     "text": [
      "ALB: 4464/4824 (ETA: 3637.57s)...\r"
     ]
    },
    {
     "name": "stdout",
     "output_type": "stream",
     "text": [
      "ALB: 4480/4824 (ETA: 3411.66s)...\r"
     ]
    },
    {
     "name": "stdout",
     "output_type": "stream",
     "text": [
      "ALB: 4496/4824 (ETA: 3376.63s)...\r"
     ]
    },
    {
     "name": "stdout",
     "output_type": "stream",
     "text": [
      "ALB: 4512/4824 (ETA: 3370.40s)...\r"
     ]
    },
    {
     "name": "stdout",
     "output_type": "stream",
     "text": [
      "ALB: 4528/4824 (ETA: 3356.62s)...\r"
     ]
    },
    {
     "name": "stdout",
     "output_type": "stream",
     "text": [
      "ALB: 4544/4824 (ETA: 3345.27s)...\r"
     ]
    },
    {
     "name": "stdout",
     "output_type": "stream",
     "text": [
      "ALB: 4560/4824 (ETA: 3329.04s)...\r"
     ]
    },
    {
     "name": "stdout",
     "output_type": "stream",
     "text": [
      "ALB: 4576/4824 (ETA: 3316.50s)...\r"
     ]
    },
    {
     "name": "stdout",
     "output_type": "stream",
     "text": [
      "ALB: 4592/4824 (ETA: 3301.27s)...\r"
     ]
    },
    {
     "name": "stdout",
     "output_type": "stream",
     "text": [
      "ALB: 4608/4824 (ETA: 3291.69s)...\r"
     ]
    },
    {
     "name": "stdout",
     "output_type": "stream",
     "text": [
      "ALB: 4624/4824 (ETA: 3280.80s)...\r"
     ]
    },
    {
     "name": "stdout",
     "output_type": "stream",
     "text": [
      "ALB: 4640/4824 (ETA: 3270.67s)...\r"
     ]
    },
    {
     "name": "stdout",
     "output_type": "stream",
     "text": [
      "ALB: 4656/4824 (ETA: 3262.94s)...\r"
     ]
    },
    {
     "name": "stdout",
     "output_type": "stream",
     "text": [
      "ALB: 4672/4824 (ETA: 3255.33s)...\r"
     ]
    },
    {
     "name": "stdout",
     "output_type": "stream",
     "text": [
      "ALB: 4688/4824 (ETA: 3244.31s)...\r"
     ]
    },
    {
     "name": "stdout",
     "output_type": "stream",
     "text": [
      "ALB: 4704/4824 (ETA: 3234.18s)...\r"
     ]
    },
    {
     "name": "stdout",
     "output_type": "stream",
     "text": [
      "ALB: 4720/4824 (ETA: 3228.62s)...\r"
     ]
    },
    {
     "name": "stdout",
     "output_type": "stream",
     "text": [
      "ALB: 4736/4824 (ETA: 3279.91s)...\r"
     ]
    },
    {
     "name": "stdout",
     "output_type": "stream",
     "text": [
      "ALB: 4752/4824 (ETA: 3274.94s)...\r"
     ]
    },
    {
     "name": "stdout",
     "output_type": "stream",
     "text": [
      "ALB: 4768/4824 (ETA: 3270.74s)...\r"
     ]
    },
    {
     "name": "stdout",
     "output_type": "stream",
     "text": [
      "ALB: 4784/4824 (ETA: 3263.58s)...\r"
     ]
    },
    {
     "name": "stdout",
     "output_type": "stream",
     "text": [
      "ALB: 4800/4824 (ETA: 3255.60s)...\r"
     ]
    },
    {
     "name": "stdout",
     "output_type": "stream",
     "text": [
      "ALB: 4816/4824 (ETA: 3187.59s)...\r"
     ]
    },
    {
     "name": "stdout",
     "output_type": "stream",
     "text": [
      "                                                  \rALB: Done\nBET: 0000/0402 (ETA: 3187.26s)...\r"
     ]
    },
    {
     "name": "stdout",
     "output_type": "stream",
     "text": [
      "BET: 0016/0402 (ETA: 3180.90s)...\r"
     ]
    },
    {
     "name": "stdout",
     "output_type": "stream",
     "text": [
      "BET: 0032/0402 (ETA: 3178.56s)...\r"
     ]
    },
    {
     "name": "stdout",
     "output_type": "stream",
     "text": [
      "BET: 0048/0402 (ETA: 3172.60s)...\r"
     ]
    },
    {
     "name": "stdout",
     "output_type": "stream",
     "text": [
      "BET: 0064/0402 (ETA: 3165.05s)...\r"
     ]
    },
    {
     "name": "stdout",
     "output_type": "stream",
     "text": [
      "BET: 0080/0402 (ETA: 3155.32s)...\r"
     ]
    },
    {
     "name": "stdout",
     "output_type": "stream",
     "text": [
      "BET: 0096/0402 (ETA: 3151.50s)...\r"
     ]
    },
    {
     "name": "stdout",
     "output_type": "stream",
     "text": [
      "BET: 0112/0402 (ETA: 3157.20s)...\r"
     ]
    },
    {
     "name": "stdout",
     "output_type": "stream",
     "text": [
      "BET: 0128/0402 (ETA: 3145.69s)...\r"
     ]
    },
    {
     "name": "stdout",
     "output_type": "stream",
     "text": [
      "BET: 0144/0402 (ETA: 3142.54s)...\r"
     ]
    },
    {
     "name": "stdout",
     "output_type": "stream",
     "text": [
      "BET: 0160/0402 (ETA: 3131.43s)...\r"
     ]
    },
    {
     "name": "stdout",
     "output_type": "stream",
     "text": [
      "BET: 0176/0402 (ETA: 3117.36s)...\r"
     ]
    },
    {
     "name": "stdout",
     "output_type": "stream",
     "text": [
      "BET: 0192/0402 (ETA: 3089.19s)...\r"
     ]
    },
    {
     "name": "stdout",
     "output_type": "stream",
     "text": [
      "BET: 0208/0402 (ETA: 3082.00s)...\r"
     ]
    },
    {
     "name": "stdout",
     "output_type": "stream",
     "text": [
      "BET: 0224/0402 (ETA: 3069.06s)...\r"
     ]
    },
    {
     "name": "stdout",
     "output_type": "stream",
     "text": [
      "BET: 0240/0402 (ETA: 3053.98s)...\r"
     ]
    },
    {
     "name": "stdout",
     "output_type": "stream",
     "text": [
      "BET: 0256/0402 (ETA: 3088.70s)...\r"
     ]
    },
    {
     "name": "stdout",
     "output_type": "stream",
     "text": [
      "BET: 0272/0402 (ETA: 3131.28s)...\r"
     ]
    },
    {
     "name": "stdout",
     "output_type": "stream",
     "text": [
      "BET: 0288/0402 (ETA: 3154.87s)...\r"
     ]
    },
    {
     "name": "stdout",
     "output_type": "stream",
     "text": [
      "BET: 0304/0402 (ETA: 3191.39s)...\r"
     ]
    },
    {
     "name": "stdout",
     "output_type": "stream",
     "text": [
      "BET: 0320/0402 (ETA: 3189.42s)...\r"
     ]
    },
    {
     "name": "stdout",
     "output_type": "stream",
     "text": [
      "BET: 0336/0402 (ETA: 3140.21s)...\r"
     ]
    },
    {
     "name": "stdout",
     "output_type": "stream",
     "text": [
      "BET: 0352/0402 (ETA: 3085.73s)...\r"
     ]
    },
    {
     "name": "stdout",
     "output_type": "stream",
     "text": [
      "BET: 0368/0402 (ETA: 3041.80s)...\r"
     ]
    },
    {
     "name": "stdout",
     "output_type": "stream",
     "text": [
      "BET: 0384/0402 (ETA: 2992.40s)...\r"
     ]
    },
    {
     "name": "stdout",
     "output_type": "stream",
     "text": [
      "BET: 0400/0402 (ETA: 2981.63s)...\r"
     ]
    },
    {
     "name": "stdout",
     "output_type": "stream",
     "text": [
      "                                                  \rBET: Done\nDOL: 0000/0312 (ETA: 2996.39s)...\r"
     ]
    },
    {
     "name": "stdout",
     "output_type": "stream",
     "text": [
      "DOL: 0016/0312 (ETA: 2983.34s)...\r"
     ]
    },
    {
     "name": "stdout",
     "output_type": "stream",
     "text": [
      "DOL: 0032/0312 (ETA: 3026.70s)...\r"
     ]
    },
    {
     "name": "stdout",
     "output_type": "stream",
     "text": [
      "DOL: 0048/0312 (ETA: 3015.88s)...\r"
     ]
    },
    {
     "name": "stdout",
     "output_type": "stream",
     "text": [
      "DOL: 0064/0312 (ETA: 3000.45s)...\r"
     ]
    },
    {
     "name": "stdout",
     "output_type": "stream",
     "text": [
      "DOL: 0080/0312 (ETA: 2966.78s)...\r"
     ]
    },
    {
     "name": "stdout",
     "output_type": "stream",
     "text": [
      "DOL: 0096/0312 (ETA: 2960.03s)...\r"
     ]
    },
    {
     "name": "stdout",
     "output_type": "stream",
     "text": [
      "DOL: 0112/0312 (ETA: 2901.67s)...\r"
     ]
    },
    {
     "name": "stdout",
     "output_type": "stream",
     "text": [
      "DOL: 0128/0312 (ETA: 2885.47s)...\r"
     ]
    },
    {
     "name": "stdout",
     "output_type": "stream",
     "text": [
      "DOL: 0144/0312 (ETA: 2878.47s)...\r"
     ]
    },
    {
     "name": "stdout",
     "output_type": "stream",
     "text": [
      "DOL: 0160/0312 (ETA: 2869.19s)...\r"
     ]
    },
    {
     "name": "stdout",
     "output_type": "stream",
     "text": [
      "DOL: 0176/0312 (ETA: 2856.44s)...\r"
     ]
    },
    {
     "name": "stdout",
     "output_type": "stream",
     "text": [
      "DOL: 0192/0312 (ETA: 2840.66s)...\r"
     ]
    },
    {
     "name": "stdout",
     "output_type": "stream",
     "text": [
      "DOL: 0208/0312 (ETA: 2834.32s)...\r"
     ]
    },
    {
     "name": "stdout",
     "output_type": "stream",
     "text": [
      "DOL: 0224/0312 (ETA: 2822.07s)...\r"
     ]
    },
    {
     "name": "stdout",
     "output_type": "stream",
     "text": [
      "DOL: 0240/0312 (ETA: 2810.88s)...\r"
     ]
    },
    {
     "name": "stdout",
     "output_type": "stream",
     "text": [
      "DOL: 0256/0312 (ETA: 2801.34s)...\r"
     ]
    },
    {
     "name": "stdout",
     "output_type": "stream",
     "text": [
      "DOL: 0272/0312 (ETA: 2794.23s)...\r"
     ]
    },
    {
     "name": "stdout",
     "output_type": "stream",
     "text": [
      "DOL: 0288/0312 (ETA: 2781.37s)...\r"
     ]
    },
    {
     "name": "stdout",
     "output_type": "stream",
     "text": [
      "DOL: 0304/0312 (ETA: 2773.13s)...\r"
     ]
    },
    {
     "name": "stdout",
     "output_type": "stream",
     "text": [
      "                                                  \rDOL: Done\nLAG: 0000/0168 (ETA: 2772.95s)...\r"
     ]
    },
    {
     "name": "stdout",
     "output_type": "stream",
     "text": [
      "LAG: 0016/0168 (ETA: 2757.79s)...\r"
     ]
    },
    {
     "name": "stdout",
     "output_type": "stream",
     "text": [
      "LAG: 0032/0168 (ETA: 2747.73s)...\r"
     ]
    },
    {
     "name": "stdout",
     "output_type": "stream",
     "text": [
      "LAG: 0048/0168 (ETA: 2735.69s)...\r"
     ]
    },
    {
     "name": "stdout",
     "output_type": "stream",
     "text": [
      "LAG: 0064/0168 (ETA: 2726.47s)...\r"
     ]
    },
    {
     "name": "stdout",
     "output_type": "stream",
     "text": [
      "LAG: 0080/0168 (ETA: 2711.84s)...\r"
     ]
    },
    {
     "name": "stdout",
     "output_type": "stream",
     "text": [
      "LAG: 0096/0168 (ETA: 2704.09s)...\r"
     ]
    },
    {
     "name": "stdout",
     "output_type": "stream",
     "text": [
      "LAG: 0112/0168 (ETA: 2693.01s)...\r"
     ]
    },
    {
     "name": "stdout",
     "output_type": "stream",
     "text": [
      "LAG: 0128/0168 (ETA: 2686.11s)...\r"
     ]
    },
    {
     "name": "stdout",
     "output_type": "stream",
     "text": [
      "LAG: 0144/0168 (ETA: 2676.89s)...\r"
     ]
    },
    {
     "name": "stdout",
     "output_type": "stream",
     "text": [
      "LAG: 0160/0168 (ETA: 2667.08s)...\r"
     ]
    },
    {
     "name": "stdout",
     "output_type": "stream",
     "text": [
      "                                                  \rLAG: Done\nNoF: 0000/1299 (ETA: 2664.18s)...\r"
     ]
    },
    {
     "name": "stdout",
     "output_type": "stream",
     "text": [
      "NoF: 0016/1299 (ETA: 2658.20s)...\r"
     ]
    },
    {
     "name": "stdout",
     "output_type": "stream",
     "text": [
      "NoF: 0032/1299 (ETA: 2648.40s)...\r"
     ]
    },
    {
     "name": "stdout",
     "output_type": "stream",
     "text": [
      "NoF: 0048/1299 (ETA: 2638.87s)...\r"
     ]
    },
    {
     "name": "stdout",
     "output_type": "stream",
     "text": [
      "NoF: 0064/1299 (ETA: 2652.78s)...\r"
     ]
    },
    {
     "name": "stdout",
     "output_type": "stream",
     "text": [
      "NoF: 0080/1299 (ETA: 2656.92s)...\r"
     ]
    },
    {
     "name": "stdout",
     "output_type": "stream",
     "text": [
      "NoF: 0096/1299 (ETA: 2645.51s)...\r"
     ]
    },
    {
     "name": "stdout",
     "output_type": "stream",
     "text": [
      "NoF: 0112/1299 (ETA: 2633.52s)...\r"
     ]
    },
    {
     "name": "stdout",
     "output_type": "stream",
     "text": [
      "NoF: 0128/1299 (ETA: 2623.09s)...\r"
     ]
    },
    {
     "name": "stdout",
     "output_type": "stream",
     "text": [
      "NoF: 0144/1299 (ETA: 2590.77s)...\r"
     ]
    },
    {
     "name": "stdout",
     "output_type": "stream",
     "text": [
      "NoF: 0160/1299 (ETA: 2563.77s)...\r"
     ]
    },
    {
     "name": "stdout",
     "output_type": "stream",
     "text": [
      "NoF: 0176/1299 (ETA: 2550.64s)...\r"
     ]
    },
    {
     "name": "stdout",
     "output_type": "stream",
     "text": [
      "NoF: 0192/1299 (ETA: 2542.44s)...\r"
     ]
    },
    {
     "name": "stdout",
     "output_type": "stream",
     "text": [
      "NoF: 0208/1299 (ETA: 2534.47s)...\r"
     ]
    },
    {
     "name": "stdout",
     "output_type": "stream",
     "text": [
      "NoF: 0224/1299 (ETA: 2524.00s)...\r"
     ]
    },
    {
     "name": "stdout",
     "output_type": "stream",
     "text": [
      "NoF: 0240/1299 (ETA: 2514.32s)...\r"
     ]
    },
    {
     "name": "stdout",
     "output_type": "stream",
     "text": [
      "NoF: 0256/1299 (ETA: 2507.70s)...\r"
     ]
    },
    {
     "name": "stdout",
     "output_type": "stream",
     "text": [
      "NoF: 0272/1299 (ETA: 2499.39s)...\r"
     ]
    },
    {
     "name": "stdout",
     "output_type": "stream",
     "text": [
      "NoF: 0288/1299 (ETA: 2494.80s)...\r"
     ]
    },
    {
     "name": "stdout",
     "output_type": "stream",
     "text": [
      "NoF: 0304/1299 (ETA: 2492.39s)...\r"
     ]
    },
    {
     "name": "stdout",
     "output_type": "stream",
     "text": [
      "NoF: 0320/1299 (ETA: 2486.07s)...\r"
     ]
    },
    {
     "name": "stdout",
     "output_type": "stream",
     "text": [
      "NoF: 0336/1299 (ETA: 2479.14s)...\r"
     ]
    },
    {
     "name": "stdout",
     "output_type": "stream",
     "text": [
      "NoF: 0352/1299 (ETA: 2466.92s)...\r"
     ]
    },
    {
     "name": "stdout",
     "output_type": "stream",
     "text": [
      "NoF: 0368/1299 (ETA: 2450.73s)...\r"
     ]
    },
    {
     "name": "stdout",
     "output_type": "stream",
     "text": [
      "NoF: 0384/1299 (ETA: 2433.66s)...\r"
     ]
    },
    {
     "name": "stdout",
     "output_type": "stream",
     "text": [
      "NoF: 0400/1299 (ETA: 2429.90s)...\r"
     ]
    },
    {
     "name": "stdout",
     "output_type": "stream",
     "text": [
      "NoF: 0416/1299 (ETA: 2418.25s)...\r"
     ]
    },
    {
     "name": "stdout",
     "output_type": "stream",
     "text": [
      "NoF: 0432/1299 (ETA: 2410.69s)...\r"
     ]
    },
    {
     "name": "stdout",
     "output_type": "stream",
     "text": [
      "NoF: 0448/1299 (ETA: 2400.84s)...\r"
     ]
    },
    {
     "name": "stdout",
     "output_type": "stream",
     "text": [
      "NoF: 0464/1299 (ETA: 2393.49s)...\r"
     ]
    },
    {
     "name": "stdout",
     "output_type": "stream",
     "text": [
      "NoF: 0480/1299 (ETA: 2379.76s)...\r"
     ]
    },
    {
     "name": "stdout",
     "output_type": "stream",
     "text": [
      "NoF: 0496/1299 (ETA: 2373.46s)...\r"
     ]
    },
    {
     "name": "stdout",
     "output_type": "stream",
     "text": [
      "NoF: 0512/1299 (ETA: 2363.84s)...\r"
     ]
    },
    {
     "name": "stdout",
     "output_type": "stream",
     "text": [
      "NoF: 0528/1299 (ETA: 2360.52s)...\r"
     ]
    },
    {
     "name": "stdout",
     "output_type": "stream",
     "text": [
      "NoF: 0544/1299 (ETA: 2351.70s)...\r"
     ]
    },
    {
     "name": "stdout",
     "output_type": "stream",
     "text": [
      "NoF: 0560/1299 (ETA: 2343.51s)...\r"
     ]
    },
    {
     "name": "stdout",
     "output_type": "stream",
     "text": [
      "NoF: 0576/1299 (ETA: 2335.06s)...\r"
     ]
    },
    {
     "name": "stdout",
     "output_type": "stream",
     "text": [
      "NoF: 0592/1299 (ETA: 2361.26s)...\r"
     ]
    },
    {
     "name": "stdout",
     "output_type": "stream",
     "text": [
      "NoF: 0608/1299 (ETA: 2354.15s)...\r"
     ]
    },
    {
     "name": "stdout",
     "output_type": "stream",
     "text": [
      "NoF: 0624/1299 (ETA: 2345.44s)...\r"
     ]
    },
    {
     "name": "stdout",
     "output_type": "stream",
     "text": [
      "NoF: 0640/1299 (ETA: 2334.94s)...\r"
     ]
    },
    {
     "name": "stdout",
     "output_type": "stream",
     "text": [
      "NoF: 0656/1299 (ETA: 2318.85s)...\r"
     ]
    },
    {
     "name": "stdout",
     "output_type": "stream",
     "text": [
      "NoF: 0672/1299 (ETA: 2270.89s)...\r"
     ]
    },
    {
     "name": "stdout",
     "output_type": "stream",
     "text": [
      "NoF: 0688/1299 (ETA: 2254.30s)...\r"
     ]
    },
    {
     "name": "stdout",
     "output_type": "stream",
     "text": [
      "NoF: 0704/1299 (ETA: 2246.94s)...\r"
     ]
    },
    {
     "name": "stdout",
     "output_type": "stream",
     "text": [
      "NoF: 0720/1299 (ETA: 2234.37s)...\r"
     ]
    },
    {
     "name": "stdout",
     "output_type": "stream",
     "text": [
      "NoF: 0736/1299 (ETA: 2326.61s)...\r"
     ]
    },
    {
     "name": "stdout",
     "output_type": "stream",
     "text": [
      "NoF: 0752/1299 (ETA: 2322.61s)...\r"
     ]
    },
    {
     "name": "stdout",
     "output_type": "stream",
     "text": [
      "NoF: 0768/1299 (ETA: 2315.17s)...\r"
     ]
    },
    {
     "name": "stdout",
     "output_type": "stream",
     "text": [
      "NoF: 0784/1299 (ETA: 2305.66s)...\r"
     ]
    },
    {
     "name": "stdout",
     "output_type": "stream",
     "text": [
      "NoF: 0800/1299 (ETA: 2294.80s)...\r"
     ]
    },
    {
     "name": "stdout",
     "output_type": "stream",
     "text": [
      "NoF: 0816/1299 (ETA: 2185.49s)...\r"
     ]
    },
    {
     "name": "stdout",
     "output_type": "stream",
     "text": [
      "NoF: 0832/1299 (ETA: 2172.67s)...\r"
     ]
    },
    {
     "name": "stdout",
     "output_type": "stream",
     "text": [
      "NoF: 0848/1299 (ETA: 2157.90s)...\r"
     ]
    },
    {
     "name": "stdout",
     "output_type": "stream",
     "text": [
      "NoF: 0864/1299 (ETA: 2142.33s)...\r"
     ]
    },
    {
     "name": "stdout",
     "output_type": "stream",
     "text": [
      "NoF: 0880/1299 (ETA: 2133.18s)...\r"
     ]
    },
    {
     "name": "stdout",
     "output_type": "stream",
     "text": [
      "NoF: 0896/1299 (ETA: 2126.37s)...\r"
     ]
    },
    {
     "name": "stdout",
     "output_type": "stream",
     "text": [
      "NoF: 0912/1299 (ETA: 2119.55s)...\r"
     ]
    },
    {
     "name": "stdout",
     "output_type": "stream",
     "text": [
      "NoF: 0928/1299 (ETA: 2114.22s)...\r"
     ]
    },
    {
     "name": "stdout",
     "output_type": "stream",
     "text": [
      "NoF: 0944/1299 (ETA: 2109.27s)...\r"
     ]
    },
    {
     "name": "stdout",
     "output_type": "stream",
     "text": [
      "NoF: 0960/1299 (ETA: 2102.22s)...\r"
     ]
    },
    {
     "name": "stdout",
     "output_type": "stream",
     "text": [
      "NoF: 0976/1299 (ETA: 2089.94s)...\r"
     ]
    },
    {
     "name": "stdout",
     "output_type": "stream",
     "text": [
      "NoF: 0992/1299 (ETA: 2076.13s)...\r"
     ]
    },
    {
     "name": "stdout",
     "output_type": "stream",
     "text": [
      "NoF: 1008/1299 (ETA: 2065.65s)...\r"
     ]
    },
    {
     "name": "stdout",
     "output_type": "stream",
     "text": [
      "NoF: 1024/1299 (ETA: 2052.09s)...\r"
     ]
    },
    {
     "name": "stdout",
     "output_type": "stream",
     "text": [
      "NoF: 1040/1299 (ETA: 2040.02s)...\r"
     ]
    },
    {
     "name": "stdout",
     "output_type": "stream",
     "text": [
      "NoF: 1056/1299 (ETA: 2029.15s)...\r"
     ]
    },
    {
     "name": "stdout",
     "output_type": "stream",
     "text": [
      "NoF: 1072/1299 (ETA: 2023.20s)...\r"
     ]
    },
    {
     "name": "stdout",
     "output_type": "stream",
     "text": [
      "NoF: 1088/1299 (ETA: 2014.52s)...\r"
     ]
    },
    {
     "name": "stdout",
     "output_type": "stream",
     "text": [
      "NoF: 1104/1299 (ETA: 2007.21s)...\r"
     ]
    },
    {
     "name": "stdout",
     "output_type": "stream",
     "text": [
      "NoF: 1120/1299 (ETA: 2031.56s)...\r"
     ]
    },
    {
     "name": "stdout",
     "output_type": "stream",
     "text": [
      "NoF: 1136/1299 (ETA: 2026.01s)...\r"
     ]
    },
    {
     "name": "stdout",
     "output_type": "stream",
     "text": [
      "NoF: 1152/1299 (ETA: 2016.21s)...\r"
     ]
    },
    {
     "name": "stdout",
     "output_type": "stream",
     "text": [
      "NoF: 1168/1299 (ETA: 2004.29s)...\r"
     ]
    },
    {
     "name": "stdout",
     "output_type": "stream",
     "text": [
      "NoF: 1184/1299 (ETA: 1993.36s)...\r"
     ]
    },
    {
     "name": "stdout",
     "output_type": "stream",
     "text": [
      "NoF: 1200/1299 (ETA: 1949.84s)...\r"
     ]
    },
    {
     "name": "stdout",
     "output_type": "stream",
     "text": [
      "NoF: 1216/1299 (ETA: 1935.16s)...\r"
     ]
    },
    {
     "name": "stdout",
     "output_type": "stream",
     "text": [
      "NoF: 1232/1299 (ETA: 1923.35s)...\r"
     ]
    },
    {
     "name": "stdout",
     "output_type": "stream",
     "text": [
      "NoF: 1248/1299 (ETA: 1912.09s)...\r"
     ]
    },
    {
     "name": "stdout",
     "output_type": "stream",
     "text": [
      "NoF: 1264/1299 (ETA: 1902.33s)...\r"
     ]
    },
    {
     "name": "stdout",
     "output_type": "stream",
     "text": [
      "NoF: 1280/1299 (ETA: 1895.99s)...\r"
     ]
    },
    {
     "name": "stdout",
     "output_type": "stream",
     "text": [
      "NoF: 1296/1299 (ETA: 1888.27s)...\r"
     ]
    },
    {
     "name": "stdout",
     "output_type": "stream",
     "text": [
      "                                                  \rNoF: Done\nOTHER: 0000/0789 (ETA: 1901.63s)...\r"
     ]
    },
    {
     "name": "stdout",
     "output_type": "stream",
     "text": [
      "OTHER: 0016/0789 (ETA: 1893.63s)...\r"
     ]
    },
    {
     "name": "stdout",
     "output_type": "stream",
     "text": [
      "OTHER: 0032/0789 (ETA: 1885.57s)...\r"
     ]
    },
    {
     "name": "stdout",
     "output_type": "stream",
     "text": [
      "OTHER: 0048/0789 (ETA: 1913.09s)...\r"
     ]
    },
    {
     "name": "stdout",
     "output_type": "stream",
     "text": [
      "OTHER: 0064/0789 (ETA: 1909.98s)...\r"
     ]
    },
    {
     "name": "stdout",
     "output_type": "stream",
     "text": [
      "OTHER: 0080/0789 (ETA: 1887.91s)...\r"
     ]
    },
    {
     "name": "stdout",
     "output_type": "stream",
     "text": [
      "OTHER: 0096/0789 (ETA: 1880.68s)...\r"
     ]
    },
    {
     "name": "stdout",
     "output_type": "stream",
     "text": [
      "OTHER: 0112/0789 (ETA: 1873.88s)...\r"
     ]
    },
    {
     "name": "stdout",
     "output_type": "stream",
     "text": [
      "OTHER: 0128/0789 (ETA: 1826.69s)...\r"
     ]
    },
    {
     "name": "stdout",
     "output_type": "stream",
     "text": [
      "OTHER: 0144/0789 (ETA: 1812.79s)...\r"
     ]
    },
    {
     "name": "stdout",
     "output_type": "stream",
     "text": [
      "OTHER: 0160/0789 (ETA: 1800.27s)...\r"
     ]
    },
    {
     "name": "stdout",
     "output_type": "stream",
     "text": [
      "OTHER: 0176/0789 (ETA: 1791.64s)...\r"
     ]
    },
    {
     "name": "stdout",
     "output_type": "stream",
     "text": [
      "OTHER: 0192/0789 (ETA: 1778.18s)...\r"
     ]
    },
    {
     "name": "stdout",
     "output_type": "stream",
     "text": [
      "OTHER: 0208/0789 (ETA: 1771.10s)...\r"
     ]
    },
    {
     "name": "stdout",
     "output_type": "stream",
     "text": [
      "OTHER: 0224/0789 (ETA: 1760.99s)...\r"
     ]
    },
    {
     "name": "stdout",
     "output_type": "stream",
     "text": [
      "OTHER: 0240/0789 (ETA: 1754.16s)...\r"
     ]
    },
    {
     "name": "stdout",
     "output_type": "stream",
     "text": [
      "OTHER: 0256/0789 (ETA: 1743.93s)...\r"
     ]
    },
    {
     "name": "stdout",
     "output_type": "stream",
     "text": [
      "OTHER: 0272/0789 (ETA: 1734.96s)...\r"
     ]
    },
    {
     "name": "stdout",
     "output_type": "stream",
     "text": [
      "OTHER: 0288/0789 (ETA: 1724.98s)...\r"
     ]
    },
    {
     "name": "stdout",
     "output_type": "stream",
     "text": [
      "OTHER: 0304/0789 (ETA: 1718.42s)...\r"
     ]
    },
    {
     "name": "stdout",
     "output_type": "stream",
     "text": [
      "OTHER: 0320/0789 (ETA: 1709.16s)...\r"
     ]
    },
    {
     "name": "stdout",
     "output_type": "stream",
     "text": [
      "OTHER: 0336/0789 (ETA: 1699.80s)...\r"
     ]
    },
    {
     "name": "stdout",
     "output_type": "stream",
     "text": [
      "OTHER: 0352/0789 (ETA: 1716.37s)...\r"
     ]
    },
    {
     "name": "stdout",
     "output_type": "stream",
     "text": [
      "OTHER: 0368/0789 (ETA: 1706.10s)...\r"
     ]
    },
    {
     "name": "stdout",
     "output_type": "stream",
     "text": [
      "OTHER: 0384/0789 (ETA: 1693.01s)...\r"
     ]
    },
    {
     "name": "stdout",
     "output_type": "stream",
     "text": [
      "OTHER: 0400/0789 (ETA: 1681.03s)...\r"
     ]
    },
    {
     "name": "stdout",
     "output_type": "stream",
     "text": [
      "OTHER: 0416/0789 (ETA: 1669.22s)...\r"
     ]
    },
    {
     "name": "stdout",
     "output_type": "stream",
     "text": [
      "OTHER: 0432/0789 (ETA: 1633.58s)...\r"
     ]
    },
    {
     "name": "stdout",
     "output_type": "stream",
     "text": [
      "OTHER: 0448/0789 (ETA: 1622.79s)...\r"
     ]
    },
    {
     "name": "stdout",
     "output_type": "stream",
     "text": [
      "OTHER: 0464/0789 (ETA: 1613.52s)...\r"
     ]
    },
    {
     "name": "stdout",
     "output_type": "stream",
     "text": [
      "OTHER: 0480/0789 (ETA: 1604.47s)...\r"
     ]
    },
    {
     "name": "stdout",
     "output_type": "stream",
     "text": [
      "OTHER: 0496/0789 (ETA: 1594.25s)...\r"
     ]
    },
    {
     "name": "stdout",
     "output_type": "stream",
     "text": [
      "OTHER: 0512/0789 (ETA: 1586.42s)...\r"
     ]
    },
    {
     "name": "stdout",
     "output_type": "stream",
     "text": [
      "OTHER: 0528/0789 (ETA: 1579.72s)...\r"
     ]
    },
    {
     "name": "stdout",
     "output_type": "stream",
     "text": [
      "OTHER: 0544/0789 (ETA: 1572.13s)...\r"
     ]
    },
    {
     "name": "stdout",
     "output_type": "stream",
     "text": [
      "OTHER: 0560/0789 (ETA: 1564.15s)...\r"
     ]
    },
    {
     "name": "stdout",
     "output_type": "stream",
     "text": [
      "OTHER: 0576/0789 (ETA: 1554.98s)...\r"
     ]
    },
    {
     "name": "stdout",
     "output_type": "stream",
     "text": [
      "OTHER: 0592/0789 (ETA: 1546.97s)...\r"
     ]
    },
    {
     "name": "stdout",
     "output_type": "stream",
     "text": [
      "OTHER: 0608/0789 (ETA: 1535.48s)...\r"
     ]
    },
    {
     "name": "stdout",
     "output_type": "stream",
     "text": [
      "OTHER: 0624/0789 (ETA: 1525.50s)...\r"
     ]
    },
    {
     "name": "stdout",
     "output_type": "stream",
     "text": [
      "OTHER: 0640/0789 (ETA: 1517.05s)...\r"
     ]
    },
    {
     "name": "stdout",
     "output_type": "stream",
     "text": [
      "OTHER: 0656/0789 (ETA: 1509.42s)...\r"
     ]
    },
    {
     "name": "stdout",
     "output_type": "stream",
     "text": [
      "OTHER: 0672/0789 (ETA: 1499.69s)...\r"
     ]
    },
    {
     "name": "stdout",
     "output_type": "stream",
     "text": [
      "OTHER: 0688/0789 (ETA: 1492.59s)...\r"
     ]
    },
    {
     "name": "stdout",
     "output_type": "stream",
     "text": [
      "OTHER: 0704/0789 (ETA: 1482.88s)...\r"
     ]
    },
    {
     "name": "stdout",
     "output_type": "stream",
     "text": [
      "OTHER: 0720/0789 (ETA: 1472.59s)...\r"
     ]
    },
    {
     "name": "stdout",
     "output_type": "stream",
     "text": [
      "OTHER: 0736/0789 (ETA: 1462.71s)...\r"
     ]
    },
    {
     "name": "stdout",
     "output_type": "stream",
     "text": [
      "OTHER: 0752/0789 (ETA: 1454.34s)...\r"
     ]
    },
    {
     "name": "stdout",
     "output_type": "stream",
     "text": [
      "OTHER: 0768/0789 (ETA: 1444.01s)...\r"
     ]
    },
    {
     "name": "stdout",
     "output_type": "stream",
     "text": [
      "OTHER: 0784/0789 (ETA: 1434.26s)...\r"
     ]
    },
    {
     "name": "stdout",
     "output_type": "stream",
     "text": [
      "                                                  \rOTHER: Done\nSHARK: 0000/0405 (ETA: 1432.21s)...\r"
     ]
    },
    {
     "name": "stdout",
     "output_type": "stream",
     "text": [
      "SHARK: 0016/0405 (ETA: 1427.03s)...\r"
     ]
    },
    {
     "name": "stdout",
     "output_type": "stream",
     "text": [
      "SHARK: 0032/0405 (ETA: 1416.03s)...\r"
     ]
    },
    {
     "name": "stdout",
     "output_type": "stream",
     "text": [
      "SHARK: 0048/0405 (ETA: 1406.87s)...\r"
     ]
    },
    {
     "name": "stdout",
     "output_type": "stream",
     "text": [
      "SHARK: 0064/0405 (ETA: 1399.33s)...\r"
     ]
    },
    {
     "name": "stdout",
     "output_type": "stream",
     "text": [
      "SHARK: 0080/0405 (ETA: 1411.58s)...\r"
     ]
    },
    {
     "name": "stdout",
     "output_type": "stream",
     "text": [
      "SHARK: 0096/0405 (ETA: 1401.84s)...\r"
     ]
    },
    {
     "name": "stdout",
     "output_type": "stream",
     "text": [
      "SHARK: 0112/0405 (ETA: 1393.29s)...\r"
     ]
    },
    {
     "name": "stdout",
     "output_type": "stream",
     "text": [
      "SHARK: 0128/0405 (ETA: 1382.28s)...\r"
     ]
    },
    {
     "name": "stdout",
     "output_type": "stream",
     "text": [
      "SHARK: 0144/0405 (ETA: 1372.13s)...\r"
     ]
    },
    {
     "name": "stdout",
     "output_type": "stream",
     "text": [
      "SHARK: 0160/0405 (ETA: 1341.73s)...\r"
     ]
    },
    {
     "name": "stdout",
     "output_type": "stream",
     "text": [
      "SHARK: 0176/0405 (ETA: 1328.64s)...\r"
     ]
    },
    {
     "name": "stdout",
     "output_type": "stream",
     "text": [
      "SHARK: 0192/0405 (ETA: 1319.15s)...\r"
     ]
    },
    {
     "name": "stdout",
     "output_type": "stream",
     "text": [
      "SHARK: 0208/0405 (ETA: 1310.83s)...\r"
     ]
    },
    {
     "name": "stdout",
     "output_type": "stream",
     "text": [
      "SHARK: 0224/0405 (ETA: 1302.78s)...\r"
     ]
    },
    {
     "name": "stdout",
     "output_type": "stream",
     "text": [
      "SHARK: 0240/0405 (ETA: 1291.27s)...\r"
     ]
    },
    {
     "name": "stdout",
     "output_type": "stream",
     "text": [
      "SHARK: 0256/0405 (ETA: 1282.18s)...\r"
     ]
    },
    {
     "name": "stdout",
     "output_type": "stream",
     "text": [
      "SHARK: 0272/0405 (ETA: 1272.75s)...\r"
     ]
    },
    {
     "name": "stdout",
     "output_type": "stream",
     "text": [
      "SHARK: 0288/0405 (ETA: 1263.46s)...\r"
     ]
    },
    {
     "name": "stdout",
     "output_type": "stream",
     "text": [
      "SHARK: 0304/0405 (ETA: 1252.12s)...\r"
     ]
    },
    {
     "name": "stdout",
     "output_type": "stream",
     "text": [
      "SHARK: 0320/0405 (ETA: 1245.19s)...\r"
     ]
    },
    {
     "name": "stdout",
     "output_type": "stream",
     "text": [
      "SHARK: 0336/0405 (ETA: 1236.49s)...\r"
     ]
    },
    {
     "name": "stdout",
     "output_type": "stream",
     "text": [
      "SHARK: 0352/0405 (ETA: 1228.77s)...\r"
     ]
    },
    {
     "name": "stdout",
     "output_type": "stream",
     "text": [
      "SHARK: 0368/0405 (ETA: 1220.30s)...\r"
     ]
    },
    {
     "name": "stdout",
     "output_type": "stream",
     "text": [
      "SHARK: 0384/0405 (ETA: 1209.81s)...\r"
     ]
    },
    {
     "name": "stdout",
     "output_type": "stream",
     "text": [
      "SHARK: 0400/0405 (ETA: 1201.65s)...\r"
     ]
    },
    {
     "name": "stdout",
     "output_type": "stream",
     "text": [
      "                                                  \rSHARK: Done\nYFT: 0000/2025 (ETA: 1200.10s)...\r"
     ]
    },
    {
     "name": "stdout",
     "output_type": "stream",
     "text": [
      "YFT: 0016/2025 (ETA: 1189.92s)...\r"
     ]
    },
    {
     "name": "stdout",
     "output_type": "stream",
     "text": [
      "YFT: 0032/2025 (ETA: 1180.51s)...\r"
     ]
    },
    {
     "name": "stdout",
     "output_type": "stream",
     "text": [
      "YFT: 0048/2025 (ETA: 1172.51s)...\r"
     ]
    },
    {
     "name": "stdout",
     "output_type": "stream",
     "text": [
      "YFT: 0064/2025 (ETA: 1161.22s)...\r"
     ]
    },
    {
     "name": "stdout",
     "output_type": "stream",
     "text": [
      "YFT: 0080/2025 (ETA: 1151.45s)...\r"
     ]
    },
    {
     "name": "stdout",
     "output_type": "stream",
     "text": [
      "YFT: 0096/2025 (ETA: 1141.80s)...\r"
     ]
    },
    {
     "name": "stdout",
     "output_type": "stream",
     "text": [
      "YFT: 0112/2025 (ETA: 1134.96s)...\r"
     ]
    },
    {
     "name": "stdout",
     "output_type": "stream",
     "text": [
      "YFT: 0128/2025 (ETA: 1127.97s)...\r"
     ]
    },
    {
     "name": "stdout",
     "output_type": "stream",
     "text": [
      "YFT: 0144/2025 (ETA: 1118.93s)...\r"
     ]
    },
    {
     "name": "stdout",
     "output_type": "stream",
     "text": [
      "YFT: 0160/2025 (ETA: 1109.64s)...\r"
     ]
    },
    {
     "name": "stdout",
     "output_type": "stream",
     "text": [
      "YFT: 0176/2025 (ETA: 1098.73s)...\r"
     ]
    },
    {
     "name": "stdout",
     "output_type": "stream",
     "text": [
      "YFT: 0192/2025 (ETA: 1088.42s)...\r"
     ]
    },
    {
     "name": "stdout",
     "output_type": "stream",
     "text": [
      "YFT: 0208/2025 (ETA: 1094.45s)...\r"
     ]
    },
    {
     "name": "stdout",
     "output_type": "stream",
     "text": [
      "YFT: 0224/2025 (ETA: 1085.74s)...\r"
     ]
    },
    {
     "name": "stdout",
     "output_type": "stream",
     "text": [
      "YFT: 0240/2025 (ETA: 1074.05s)...\r"
     ]
    },
    {
     "name": "stdout",
     "output_type": "stream",
     "text": [
      "YFT: 0256/2025 (ETA: 1065.13s)...\r"
     ]
    },
    {
     "name": "stdout",
     "output_type": "stream",
     "text": [
      "YFT: 0272/2025 (ETA: 1053.31s)...\r"
     ]
    },
    {
     "name": "stdout",
     "output_type": "stream",
     "text": [
      "YFT: 0288/2025 (ETA: 1027.77s)...\r"
     ]
    },
    {
     "name": "stdout",
     "output_type": "stream",
     "text": [
      "YFT: 0304/2025 (ETA: 1018.58s)...\r"
     ]
    },
    {
     "name": "stdout",
     "output_type": "stream",
     "text": [
      "YFT: 0320/2025 (ETA: 1010.46s)...\r"
     ]
    },
    {
     "name": "stdout",
     "output_type": "stream",
     "text": [
      "YFT: 0336/2025 (ETA: 1002.09s)...\r"
     ]
    },
    {
     "name": "stdout",
     "output_type": "stream",
     "text": [
      "YFT: 0352/2025 (ETA: 993.28s)...\r"
     ]
    },
    {
     "name": "stdout",
     "output_type": "stream",
     "text": [
      "YFT: 0368/2025 (ETA: 982.79s)...\r"
     ]
    },
    {
     "name": "stdout",
     "output_type": "stream",
     "text": [
      "YFT: 0384/2025 (ETA: 973.14s)...\r"
     ]
    },
    {
     "name": "stdout",
     "output_type": "stream",
     "text": [
      "YFT: 0400/2025 (ETA: 963.34s)...\r"
     ]
    },
    {
     "name": "stdout",
     "output_type": "stream",
     "text": [
      "YFT: 0416/2025 (ETA: 953.42s)...\r"
     ]
    },
    {
     "name": "stdout",
     "output_type": "stream",
     "text": [
      "YFT: 0432/2025 (ETA: 943.70s)...\r"
     ]
    },
    {
     "name": "stdout",
     "output_type": "stream",
     "text": [
      "YFT: 0448/2025 (ETA: 934.53s)...\r"
     ]
    },
    {
     "name": "stdout",
     "output_type": "stream",
     "text": [
      "YFT: 0464/2025 (ETA: 924.96s)...\r"
     ]
    },
    {
     "name": "stdout",
     "output_type": "stream",
     "text": [
      "YFT: 0480/2025 (ETA: 915.88s)...\r"
     ]
    },
    {
     "name": "stdout",
     "output_type": "stream",
     "text": [
      "YFT: 0496/2025 (ETA: 906.13s)...\r"
     ]
    },
    {
     "name": "stdout",
     "output_type": "stream",
     "text": [
      "YFT: 0512/2025 (ETA: 897.31s)...\r"
     ]
    },
    {
     "name": "stdout",
     "output_type": "stream",
     "text": [
      "YFT: 0528/2025 (ETA: 888.78s)...\r"
     ]
    },
    {
     "name": "stdout",
     "output_type": "stream",
     "text": [
      "YFT: 0544/2025 (ETA: 879.36s)...\r"
     ]
    },
    {
     "name": "stdout",
     "output_type": "stream",
     "text": [
      "YFT: 0560/2025 (ETA: 869.96s)...\r"
     ]
    },
    {
     "name": "stdout",
     "output_type": "stream",
     "text": [
      "YFT: 0576/2025 (ETA: 860.54s)...\r"
     ]
    },
    {
     "name": "stdout",
     "output_type": "stream",
     "text": [
      "YFT: 0592/2025 (ETA: 849.69s)...\r"
     ]
    },
    {
     "name": "stdout",
     "output_type": "stream",
     "text": [
      "YFT: 0608/2025 (ETA: 840.69s)...\r"
     ]
    },
    {
     "name": "stdout",
     "output_type": "stream",
     "text": [
      "YFT: 0624/2025 (ETA: 831.40s)...\r"
     ]
    },
    {
     "name": "stdout",
     "output_type": "stream",
     "text": [
      "YFT: 0640/2025 (ETA: 821.52s)...\r"
     ]
    },
    {
     "name": "stdout",
     "output_type": "stream",
     "text": [
      "YFT: 0656/2025 (ETA: 811.60s)...\r"
     ]
    },
    {
     "name": "stdout",
     "output_type": "stream",
     "text": [
      "YFT: 0672/2025 (ETA: 803.70s)...\r"
     ]
    },
    {
     "name": "stdout",
     "output_type": "stream",
     "text": [
      "YFT: 0688/2025 (ETA: 792.63s)...\r"
     ]
    },
    {
     "name": "stdout",
     "output_type": "stream",
     "text": [
      "YFT: 0704/2025 (ETA: 783.03s)...\r"
     ]
    },
    {
     "name": "stdout",
     "output_type": "stream",
     "text": [
      "YFT: 0720/2025 (ETA: 787.47s)...\r"
     ]
    },
    {
     "name": "stdout",
     "output_type": "stream",
     "text": [
      "YFT: 0736/2025 (ETA: 778.59s)...\r"
     ]
    },
    {
     "name": "stdout",
     "output_type": "stream",
     "text": [
      "YFT: 0752/2025 (ETA: 768.03s)...\r"
     ]
    },
    {
     "name": "stdout",
     "output_type": "stream",
     "text": [
      "YFT: 0768/2025 (ETA: 758.86s)...\r"
     ]
    },
    {
     "name": "stdout",
     "output_type": "stream",
     "text": [
      "YFT: 0784/2025 (ETA: 749.35s)...\r"
     ]
    },
    {
     "name": "stdout",
     "output_type": "stream",
     "text": [
      "YFT: 0800/2025 (ETA: 726.31s)...\r"
     ]
    },
    {
     "name": "stdout",
     "output_type": "stream",
     "text": [
      "YFT: 0816/2025 (ETA: 715.57s)...\r"
     ]
    },
    {
     "name": "stdout",
     "output_type": "stream",
     "text": [
      "YFT: 0832/2025 (ETA: 707.54s)...\r"
     ]
    },
    {
     "name": "stdout",
     "output_type": "stream",
     "text": [
      "YFT: 0848/2025 (ETA: 702.34s)...\r"
     ]
    },
    {
     "name": "stdout",
     "output_type": "stream",
     "text": [
      "YFT: 0864/2025 (ETA: 691.91s)...\r"
     ]
    },
    {
     "name": "stdout",
     "output_type": "stream",
     "text": [
      "YFT: 0880/2025 (ETA: 683.63s)...\r"
     ]
    },
    {
     "name": "stdout",
     "output_type": "stream",
     "text": [
      "YFT: 0896/2025 (ETA: 676.16s)...\r"
     ]
    },
    {
     "name": "stdout",
     "output_type": "stream",
     "text": [
      "YFT: 0912/2025 (ETA: 666.93s)...\r"
     ]
    },
    {
     "name": "stdout",
     "output_type": "stream",
     "text": [
      "YFT: 0928/2025 (ETA: 653.61s)...\r"
     ]
    },
    {
     "name": "stdout",
     "output_type": "stream",
     "text": [
      "YFT: 0944/2025 (ETA: 644.87s)...\r"
     ]
    },
    {
     "name": "stdout",
     "output_type": "stream",
     "text": [
      "YFT: 0960/2025 (ETA: 634.60s)...\r"
     ]
    },
    {
     "name": "stdout",
     "output_type": "stream",
     "text": [
      "YFT: 0976/2025 (ETA: 624.54s)...\r"
     ]
    },
    {
     "name": "stdout",
     "output_type": "stream",
     "text": [
      "YFT: 0992/2025 (ETA: 613.45s)...\r"
     ]
    },
    {
     "name": "stdout",
     "output_type": "stream",
     "text": [
      "YFT: 1008/2025 (ETA: 603.43s)...\r"
     ]
    },
    {
     "name": "stdout",
     "output_type": "stream",
     "text": [
      "YFT: 1024/2025 (ETA: 594.09s)...\r"
     ]
    },
    {
     "name": "stdout",
     "output_type": "stream",
     "text": [
      "YFT: 1040/2025 (ETA: 584.78s)...\r"
     ]
    },
    {
     "name": "stdout",
     "output_type": "stream",
     "text": [
      "YFT: 1056/2025 (ETA: 575.17s)...\r"
     ]
    },
    {
     "name": "stdout",
     "output_type": "stream",
     "text": [
      "YFT: 1072/2025 (ETA: 566.27s)...\r"
     ]
    },
    {
     "name": "stdout",
     "output_type": "stream",
     "text": [
      "YFT: 1088/2025 (ETA: 556.63s)...\r"
     ]
    },
    {
     "name": "stdout",
     "output_type": "stream",
     "text": [
      "YFT: 1104/2025 (ETA: 546.76s)...\r"
     ]
    },
    {
     "name": "stdout",
     "output_type": "stream",
     "text": [
      "YFT: 1120/2025 (ETA: 536.74s)...\r"
     ]
    },
    {
     "name": "stdout",
     "output_type": "stream",
     "text": [
      "YFT: 1136/2025 (ETA: 527.20s)...\r"
     ]
    },
    {
     "name": "stdout",
     "output_type": "stream",
     "text": [
      "YFT: 1152/2025 (ETA: 517.89s)...\r"
     ]
    },
    {
     "name": "stdout",
     "output_type": "stream",
     "text": [
      "YFT: 1168/2025 (ETA: 509.21s)...\r"
     ]
    },
    {
     "name": "stdout",
     "output_type": "stream",
     "text": [
      "YFT: 1184/2025 (ETA: 499.61s)...\r"
     ]
    },
    {
     "name": "stdout",
     "output_type": "stream",
     "text": [
      "YFT: 1200/2025 (ETA: 491.35s)...\r"
     ]
    },
    {
     "name": "stdout",
     "output_type": "stream",
     "text": [
      "YFT: 1216/2025 (ETA: 482.03s)...\r"
     ]
    },
    {
     "name": "stdout",
     "output_type": "stream",
     "text": [
      "YFT: 1232/2025 (ETA: 472.94s)...\r"
     ]
    },
    {
     "name": "stdout",
     "output_type": "stream",
     "text": [
      "YFT: 1248/2025 (ETA: 470.52s)...\r"
     ]
    },
    {
     "name": "stdout",
     "output_type": "stream",
     "text": [
      "YFT: 1264/2025 (ETA: 461.65s)...\r"
     ]
    },
    {
     "name": "stdout",
     "output_type": "stream",
     "text": [
      "YFT: 1280/2025 (ETA: 451.69s)...\r"
     ]
    },
    {
     "name": "stdout",
     "output_type": "stream",
     "text": [
      "YFT: 1296/2025 (ETA: 441.07s)...\r"
     ]
    },
    {
     "name": "stdout",
     "output_type": "stream",
     "text": [
      "YFT: 1312/2025 (ETA: 430.46s)...\r"
     ]
    },
    {
     "name": "stdout",
     "output_type": "stream",
     "text": [
      "YFT: 1328/2025 (ETA: 414.12s)...\r"
     ]
    },
    {
     "name": "stdout",
     "output_type": "stream",
     "text": [
      "YFT: 1344/2025 (ETA: 403.95s)...\r"
     ]
    },
    {
     "name": "stdout",
     "output_type": "stream",
     "text": [
      "YFT: 1360/2025 (ETA: 394.57s)...\r"
     ]
    },
    {
     "name": "stdout",
     "output_type": "stream",
     "text": [
      "YFT: 1376/2025 (ETA: 385.10s)...\r"
     ]
    },
    {
     "name": "stdout",
     "output_type": "stream",
     "text": [
      "YFT: 1392/2025 (ETA: 375.52s)...\r"
     ]
    },
    {
     "name": "stdout",
     "output_type": "stream",
     "text": [
      "YFT: 1408/2025 (ETA: 366.16s)...\r"
     ]
    },
    {
     "name": "stdout",
     "output_type": "stream",
     "text": [
      "YFT: 1424/2025 (ETA: 356.56s)...\r"
     ]
    },
    {
     "name": "stdout",
     "output_type": "stream",
     "text": [
      "YFT: 1440/2025 (ETA: 346.66s)...\r"
     ]
    },
    {
     "name": "stdout",
     "output_type": "stream",
     "text": [
      "YFT: 1456/2025 (ETA: 337.76s)...\r"
     ]
    },
    {
     "name": "stdout",
     "output_type": "stream",
     "text": [
      "YFT: 1472/2025 (ETA: 328.50s)...\r"
     ]
    },
    {
     "name": "stdout",
     "output_type": "stream",
     "text": [
      "YFT: 1488/2025 (ETA: 319.81s)...\r"
     ]
    },
    {
     "name": "stdout",
     "output_type": "stream",
     "text": [
      "YFT: 1504/2025 (ETA: 310.69s)...\r"
     ]
    },
    {
     "name": "stdout",
     "output_type": "stream",
     "text": [
      "YFT: 1520/2025 (ETA: 301.73s)...\r"
     ]
    },
    {
     "name": "stdout",
     "output_type": "stream",
     "text": [
      "YFT: 1536/2025 (ETA: 292.74s)...\r"
     ]
    },
    {
     "name": "stdout",
     "output_type": "stream",
     "text": [
      "YFT: 1552/2025 (ETA: 283.50s)...\r"
     ]
    },
    {
     "name": "stdout",
     "output_type": "stream",
     "text": [
      "YFT: 1568/2025 (ETA: 273.82s)...\r"
     ]
    },
    {
     "name": "stdout",
     "output_type": "stream",
     "text": [
      "YFT: 1584/2025 (ETA: 264.40s)...\r"
     ]
    },
    {
     "name": "stdout",
     "output_type": "stream",
     "text": [
      "YFT: 1600/2025 (ETA: 254.73s)...\r"
     ]
    },
    {
     "name": "stdout",
     "output_type": "stream",
     "text": [
      "YFT: 1616/2025 (ETA: 244.95s)...\r"
     ]
    },
    {
     "name": "stdout",
     "output_type": "stream",
     "text": [
      "YFT: 1632/2025 (ETA: 235.48s)...\r"
     ]
    },
    {
     "name": "stdout",
     "output_type": "stream",
     "text": [
      "YFT: 1648/2025 (ETA: 226.03s)...\r"
     ]
    },
    {
     "name": "stdout",
     "output_type": "stream",
     "text": [
      "YFT: 1664/2025 (ETA: 216.67s)...\r"
     ]
    },
    {
     "name": "stdout",
     "output_type": "stream",
     "text": [
      "YFT: 1680/2025 (ETA: 207.09s)...\r"
     ]
    },
    {
     "name": "stdout",
     "output_type": "stream",
     "text": [
      "YFT: 1696/2025 (ETA: 197.61s)...\r"
     ]
    },
    {
     "name": "stdout",
     "output_type": "stream",
     "text": [
      "YFT: 1712/2025 (ETA: 187.97s)...\r"
     ]
    },
    {
     "name": "stdout",
     "output_type": "stream",
     "text": [
      "YFT: 1728/2025 (ETA: 178.07s)...\r"
     ]
    },
    {
     "name": "stdout",
     "output_type": "stream",
     "text": [
      "YFT: 1744/2025 (ETA: 168.54s)...\r"
     ]
    },
    {
     "name": "stdout",
     "output_type": "stream",
     "text": [
      "YFT: 1760/2025 (ETA: 159.40s)...\r"
     ]
    },
    {
     "name": "stdout",
     "output_type": "stream",
     "text": [
      "YFT: 1776/2025 (ETA: 152.36s)...\r"
     ]
    },
    {
     "name": "stdout",
     "output_type": "stream",
     "text": [
      "YFT: 1792/2025 (ETA: 143.04s)...\r"
     ]
    },
    {
     "name": "stdout",
     "output_type": "stream",
     "text": [
      "YFT: 1808/2025 (ETA: 133.53s)...\r"
     ]
    },
    {
     "name": "stdout",
     "output_type": "stream",
     "text": [
      "YFT: 1824/2025 (ETA: 123.81s)...\r"
     ]
    },
    {
     "name": "stdout",
     "output_type": "stream",
     "text": [
      "YFT: 1840/2025 (ETA: 113.93s)...\r"
     ]
    },
    {
     "name": "stdout",
     "output_type": "stream",
     "text": [
      "YFT: 1856/2025 (ETA: 102.66s)...\r"
     ]
    },
    {
     "name": "stdout",
     "output_type": "stream",
     "text": [
      "YFT: 1872/2025 (ETA: 93.03s)...\r"
     ]
    },
    {
     "name": "stdout",
     "output_type": "stream",
     "text": [
      "YFT: 1888/2025 (ETA: 83.64s)...\r"
     ]
    },
    {
     "name": "stdout",
     "output_type": "stream",
     "text": [
      "YFT: 1904/2025 (ETA: 74.26s)...\r"
     ]
    },
    {
     "name": "stdout",
     "output_type": "stream",
     "text": [
      "YFT: 1920/2025 (ETA: 64.84s)...\r"
     ]
    },
    {
     "name": "stdout",
     "output_type": "stream",
     "text": [
      "YFT: 1936/2025 (ETA: 55.45s)...\r"
     ]
    },
    {
     "name": "stdout",
     "output_type": "stream",
     "text": [
      "YFT: 1952/2025 (ETA: 46.03s)...\r"
     ]
    },
    {
     "name": "stdout",
     "output_type": "stream",
     "text": [
      "YFT: 1968/2025 (ETA: 36.57s)...\r"
     ]
    },
    {
     "name": "stdout",
     "output_type": "stream",
     "text": [
      "YFT: 1984/2025 (ETA: 27.14s)...\r"
     ]
    },
    {
     "name": "stdout",
     "output_type": "stream",
     "text": [
      "YFT: 2000/2025 (ETA: 17.71s)...\r"
     ]
    },
    {
     "name": "stdout",
     "output_type": "stream",
     "text": [
      "YFT: 2016/2025 (ETA: 8.26s)...\r"
     ]
    },
    {
     "name": "stdout",
     "output_type": "stream",
     "text": [
      "                                                  \rYFT: Done\nDone (6059.247812986374)\n"
     ]
    }
   ],
   "source": [
    "from collections import deque\n",
    "from time import time\n",
    "\n",
    "t0 = time()\n",
    "ts = deque(maxlen=5)\n",
    "idxx = 0\n",
    "\n",
    "for path, label in zip(labels_path, labels):\n",
    "    files = os.listdir(path)\n",
    "    files = [f for f in files if \".DS_Store\" not in f]\n",
    "    n_files = len(files)\n",
    "    next_idxx = idxx + n_files\n",
    "    labels_data[idxx:next_idxx] = label2idx[label]\n",
    "    idx = 0\n",
    "    for i in range(math.ceil(n_files / BATCH_SIZE)):\n",
    "        tt0 = time()\n",
    "        eta = np.mean(ts) * (n_images - idxx - idx) if len(ts) != 0 else 999\n",
    "        print('%s: %04d/%04d (ETA: %.2fs)...' %\n",
    "              (label, idx, n_files, eta), end='\\r')\n",
    "        next_idx = min(n_files, idx + BATCH_SIZE)\n",
    "        batch_n = next_idx - idx\n",
    "        batch_x = np.ndarray((batch_n, *SHAPE), dtype=np.float32)\n",
    "        for j in range(batch_n):\n",
    "            img = PIL.Image.open(os.path.join(path, files[idx + j]))\n",
    "            img = img.resize(SHAPE[:2][::-1])\n",
    "            img = np.asarray(img, dtype=np.float32)\n",
    "            batch_x[j] = img\n",
    "    \n",
    "        batch_x = preprocess_input(batch_x)\n",
    "        img_data[idxx + idx:idxx + idx + batch_n] = model.predict(batch_x)\n",
    "        idx = next_idx\n",
    "        ts.append((time() - tt0) / batch_n)\n",
    "    \n",
    "    idxx = next_idxx\n",
    "    print(' '*50, end='\\r')\n",
    "    print('{}: Done'.format(label))\n",
    "    \n",
    "print('Done ({})'.format((time() - t0)))"
   ]
  },
  {
   "cell_type": "code",
   "execution_count": 5,
   "metadata": {},
   "outputs": [],
   "source": [
    "f.close()"
   ]
  },
  {
   "cell_type": "code",
   "execution_count": 5,
   "metadata": {},
   "outputs": [],
   "source": [
    "OUT_FILE = 'data/test_data.h5'\n",
    "METADATA = 'metadata.npy'\n",
    "DATA_FOLDER = 'data/test'\n",
    "SHAPE = (150, 250, 3)\n",
    "BATCH_SIZE = 16"
   ]
  },
  {
   "cell_type": "code",
   "execution_count": 6,
   "metadata": {},
   "outputs": [
    {
     "name": "stdout",
     "output_type": "stream",
     "text": [
      "['data/test/ALB', 'data/test/BET', 'data/test/DOL', 'data/test/LAG', 'data/test/NoF', 'data/test/OTHER', 'data/test/SHARK', 'data/test/YFT']\n"
     ]
    },
    {
     "name": "stdout",
     "output_type": "stream",
     "text": [
      "model output shape: {} (None, 4, 7, 512)\n"
     ]
    }
   ],
   "source": [
    "labels = os.listdir(DATA_FOLDER)\n",
    "labels = [l for l in labels if \".DS_Store\" not in l]\n",
    "labels_path = [os.path.join(DATA_FOLDER, l) for l in labels]\n",
    "print(labels_path)\n",
    "n_labels = len(labels)\n",
    "n_images = np.sum([len(os.listdir(l)) for l in labels_path])\n",
    "\n",
    "label2idx = {j:to_categorical(i, n_labels)[0] for i,j in enumerate(labels)}\n",
    "np.save(METADATA, label2idx)\n",
    "\n",
    "model = VGG16(include_top=False, input_shape=SHAPE)\n",
    "model.layers.pop()\n",
    "    \n",
    "print('model output shape: {}', model.output_shape)\n",
    "\n",
    "f = h5py.File(OUT_FILE)\n",
    "output_shape = (n_images, *model.output_shape[1:])\n",
    "chunk_shape = (BATCH_SIZE, *model.output_shape[1:])\n",
    "try:\n",
    "    f.pop('x')\n",
    "    f.pop('y')\n",
    "except:\n",
    "    None\n",
    "\n",
    "img_data = f.create_dataset('x', shape=output_shape,\n",
    "                            dtype=np.float32, chunks=chunk_shape)\n",
    "labels_data = f.create_dataset('y', shape=(n_images, n_labels),\n",
    "                               dtype=np.float32, chunks=(BATCH_SIZE, n_labels))"
   ]
  },
  {
   "cell_type": "code",
   "execution_count": 7,
   "metadata": {},
   "outputs": [
    {
     "name": "stdout",
     "output_type": "stream",
     "text": [
      "ALB: 0000/0111 (ETA: 999.00s)...\r"
     ]
    },
    {
     "name": "stdout",
     "output_type": "stream",
     "text": [
      "ALB: 0016/0111 (ETA: 263.71s)...\r"
     ]
    },
    {
     "name": "stdout",
     "output_type": "stream",
     "text": [
      "ALB: 0032/0111 (ETA: 235.60s)...\r"
     ]
    },
    {
     "name": "stdout",
     "output_type": "stream",
     "text": [
      "ALB: 0048/0111 (ETA: 242.92s)...\r"
     ]
    },
    {
     "name": "stdout",
     "output_type": "stream",
     "text": [
      "ALB: 0064/0111 (ETA: 232.53s)...\r"
     ]
    },
    {
     "name": "stdout",
     "output_type": "stream",
     "text": [
      "ALB: 0080/0111 (ETA: 215.77s)...\r"
     ]
    },
    {
     "name": "stdout",
     "output_type": "stream",
     "text": [
      "ALB: 0096/0111 (ETA: 202.84s)...\r"
     ]
    },
    {
     "name": "stdout",
     "output_type": "stream",
     "text": [
      "                                                  \r{}: Done ALB\nBET: 0000/0066 (ETA: 195.92s)...\r"
     ]
    },
    {
     "name": "stdout",
     "output_type": "stream",
     "text": [
      "BET: 0016/0066 (ETA: 172.74s)...\r"
     ]
    },
    {
     "name": "stdout",
     "output_type": "stream",
     "text": [
      "BET: 0032/0066 (ETA: 153.83s)...\r"
     ]
    },
    {
     "name": "stdout",
     "output_type": "stream",
     "text": [
      "BET: 0048/0066 (ETA: 139.27s)...\r"
     ]
    },
    {
     "name": "stdout",
     "output_type": "stream",
     "text": [
      "BET: 0064/0066 (ETA: 123.65s)...\r"
     ]
    },
    {
     "name": "stdout",
     "output_type": "stream",
     "text": [
      "                                                  \r{}: Done BET\nDOL: 0000/0013 (ETA: 118.09s)...\r"
     ]
    },
    {
     "name": "stdout",
     "output_type": "stream",
     "text": [
      "                                                  \r{}: Done DOL\nLAG: 0000/0011 (ETA: 108.53s)...\r"
     ]
    },
    {
     "name": "stdout",
     "output_type": "stream",
     "text": [
      "                                                  \r{}: Done LAG\nNoF: 0000/0032 (ETA: 101.28s)...\r"
     ]
    },
    {
     "name": "stdout",
     "output_type": "stream",
     "text": [
      "NoF: 0016/0032 (ETA: 91.68s)...\r"
     ]
    },
    {
     "name": "stdout",
     "output_type": "stream",
     "text": [
      "                                                  \r{}: Done NoF\nOTHER: 0000/0036 (ETA: 82.13s)...\r"
     ]
    },
    {
     "name": "stdout",
     "output_type": "stream",
     "text": [
      "OTHER: 0016/0036 (ETA: 71.93s)...\r"
     ]
    },
    {
     "name": "stdout",
     "output_type": "stream",
     "text": [
      "OTHER: 0032/0036 (ETA: 62.32s)...\r"
     ]
    },
    {
     "name": "stdout",
     "output_type": "stream",
     "text": [
      "                                                  \r{}: Done OTHER\nSHARK: 0000/0041 (ETA: 60.24s)...\r"
     ]
    },
    {
     "name": "stdout",
     "output_type": "stream",
     "text": [
      "SHARK: 0016/0041 (ETA: 50.60s)...\r"
     ]
    },
    {
     "name": "stdout",
     "output_type": "stream",
     "text": [
      "SHARK: 0032/0041 (ETA: 40.96s)...\r"
     ]
    },
    {
     "name": "stdout",
     "output_type": "stream",
     "text": [
      "                                                  \r{}: Done SHARK\nYFT: 0000/0059 (ETA: 35.61s)...\r"
     ]
    },
    {
     "name": "stdout",
     "output_type": "stream",
     "text": [
      "YFT: 0016/0059 (ETA: 25.93s)...\r"
     ]
    },
    {
     "name": "stdout",
     "output_type": "stream",
     "text": [
      "YFT: 0032/0059 (ETA: 16.19s)...\r"
     ]
    },
    {
     "name": "stdout",
     "output_type": "stream",
     "text": [
      "YFT: 0048/0059 (ETA: 6.59s)...\r"
     ]
    },
    {
     "name": "stdout",
     "output_type": "stream",
     "text": [
      "                                                  \r{}: Done YFT\nDone ({}) 237.97780179977417\n"
     ]
    }
   ],
   "source": [
    "from collections import deque\n",
    "from time import time\n",
    "\n",
    "t0 = time()\n",
    "ts = deque(maxlen=5)\n",
    "idxx = 0\n",
    "\n",
    "for path, label in zip(labels_path, labels):\n",
    "    files = os.listdir(path)\n",
    "    files = [f for f in files if \".DS_Store\" not in f]\n",
    "    n_files = len(files)\n",
    "    next_idxx = idxx + n_files\n",
    "    labels_data[idxx:next_idxx] = label2idx[label]\n",
    "    idx = 0\n",
    "    for i in range(math.ceil(n_files / BATCH_SIZE)):\n",
    "        tt0 = time()\n",
    "        eta = np.mean(ts) * (n_images - idxx - idx) if len(ts) != 0 else 999\n",
    "        print('%s: %04d/%04d (ETA: %.2fs)...' %\n",
    "              (label, idx, n_files, eta), end='\\r')\n",
    "        next_idx = min(n_files, idx + BATCH_SIZE)\n",
    "        batch_n = next_idx - idx\n",
    "        batch_x = np.ndarray((batch_n, *SHAPE), dtype=np.float32)\n",
    "        for j in range(batch_n):\n",
    "            img = PIL.Image.open(os.path.join(path, files[idx + j]))\n",
    "            img = img.resize(SHAPE[:2][::-1])\n",
    "            img = np.asarray(img, dtype=np.float32)\n",
    "            batch_x[j] = img\n",
    "    \n",
    "        batch_x = preprocess_input(batch_x)\n",
    "        img_data[idxx + idx:idxx + idx + batch_n] = model.predict(batch_x)\n",
    "        idx = next_idx\n",
    "        ts.append((time() - tt0) / batch_n)\n",
    "    \n",
    "    idxx = next_idxx\n",
    "    print(' '*50, end='\\r')\n",
    "    print('{}: Done', label)\n",
    "    \n",
    "print('Done ({})', (time() - t0))"
   ]
  },
  {
   "cell_type": "code",
   "execution_count": 8,
   "metadata": {},
   "outputs": [],
   "source": [
    "f.close()"
   ]
  },
  {
   "cell_type": "code",
   "execution_count": null,
   "metadata": {},
   "outputs": [],
   "source": [
    ""
   ]
  }
 ],
 "metadata": {
  "kernelspec": {
   "display_name": "Python 2",
   "language": "python",
   "name": "python2"
  },
  "language_info": {
   "codemirror_mode": {
    "name": "ipython",
    "version": 2.0
   },
   "file_extension": ".py",
   "mimetype": "text/x-python",
   "name": "python",
   "nbconvert_exporter": "python",
   "pygments_lexer": "ipython2",
   "version": "2.7.6"
  }
 },
 "nbformat": 4,
 "nbformat_minor": 0
}