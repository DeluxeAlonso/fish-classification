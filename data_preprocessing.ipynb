{
 "cells": [
  {
   "cell_type": "code",
   "execution_count": 1,
   "metadata": {
    "collapsed": true
   },
   "outputs": [
    {
     "name": "stderr",
     "output_type": "stream",
     "text": [
      "Using TensorFlow backend.\n"
     ]
    }
   ],
   "source": [
    "import os\n",
    "import PIL\n",
    "import h5py\n",
    "import math\n",
    "import numpy as np\n",
    "import matplotlib.pyplot as plt\n",
    "from keras.applications.vgg16 import preprocess_input, VGG16\n",
    "from keras.preprocessing.image import ImageDataGenerator\n",
    "from keras.utils.np_utils import to_categorical\n",
    "%matplotlib inline"
   ]
  },
  {
   "cell_type": "code",
   "execution_count": 2,
   "metadata": {},
   "outputs": [],
   "source": [
    "OUT_FILE = 'data/pp_train_data.h5'\n",
    "METADATA = 'metadata.npy'\n",
    "DATA_FOLDER = 'data/train'\n",
    "SHAPE = (300, 500, 3)\n",
    "BATCH_SIZE = 16"
   ]
  },
  {
   "cell_type": "code",
   "execution_count": 3,
   "metadata": {},
   "outputs": [
    {
     "name": "stdout",
     "output_type": "stream",
     "text": [
      "['data/train/ALB', 'data/train/BET', 'data/train/DOL', 'data/train/LAG', 'data/train/NoF', 'data/train/OTHER', 'data/train/SHARK', 'data/train/YFT']\n"
     ]
    },
    {
     "name": "stdout",
     "output_type": "stream",
     "text": [
      "model output shape: {} (None, 9, 15, 512)\n"
     ]
    }
   ],
   "source": [
    "labels = os.listdir(DATA_FOLDER)\n",
    "labels = [l for l in labels if \".DS_Store\" not in l]\n",
    "labels_path = [os.path.join(DATA_FOLDER, l) for l in labels]\n",
    "print(labels_path)\n",
    "n_labels = len(labels)\n",
    "n_images = np.sum([len(os.listdir(l)) for l in labels_path])\n",
    "\n",
    "label2idx = {j:to_categorical(i, n_labels)[0] for i,j in enumerate(labels)}\n",
    "np.save(METADATA, label2idx)\n",
    "\n",
    "model = VGG16(include_top=False, input_shape=SHAPE)\n",
    "model.layers.pop()\n",
    "    \n",
    "print('model output shape: {}', model.output_shape)\n",
    "\n",
    "f = h5py.File(OUT_FILE)\n",
    "output_shape = (n_images, *model.output_shape[1:])\n",
    "chunk_shape = (BATCH_SIZE, *model.output_shape[1:])\n",
    "try:\n",
    "    f.pop('x')\n",
    "    f.pop('y')\n",
    "except:\n",
    "    None\n",
    "\n",
    "img_data = f.create_dataset('x', shape=output_shape,\n",
    "                            dtype=np.float32, chunks=chunk_shape)\n",
    "labels_data = f.create_dataset('y', shape=(n_images, n_labels),\n",
    "                               dtype=np.float32, chunks=(BATCH_SIZE, n_labels))"
   ]
  },
  {
   "cell_type": "code",
   "execution_count": 4,
   "metadata": {},
   "outputs": [
    {
     "name": "stdout",
     "output_type": "stream",
     "text": [
      "ALB: 0000/1719 (ETA: 999.00s)...\r"
     ]
    },
    {
     "name": "stdout",
     "output_type": "stream",
     "text": [
      "ALB: 0016/1719 (ETA: 11138.62s)...\r"
     ]
    },
    {
     "name": "stdout",
     "output_type": "stream",
     "text": [
      "ALB: 0032/1719 (ETA: 10507.88s)...\r"
     ]
    },
    {
     "name": "stdout",
     "output_type": "stream",
     "text": [
      "ALB: 0048/1719 (ETA: 10233.75s)...\r"
     ]
    },
    {
     "name": "stdout",
     "output_type": "stream",
     "text": [
      "ALB: 0064/1719 (ETA: 10044.46s)...\r"
     ]
    },
    {
     "name": "stdout",
     "output_type": "stream",
     "text": [
      "ALB: 0080/1719 (ETA: 9890.10s)...\r"
     ]
    },
    {
     "name": "stdout",
     "output_type": "stream",
     "text": [
      "ALB: 0096/1719 (ETA: 9568.52s)...\r"
     ]
    },
    {
     "name": "stdout",
     "output_type": "stream",
     "text": [
      "ALB: 0112/1719 (ETA: 9433.15s)...\r"
     ]
    },
    {
     "name": "stdout",
     "output_type": "stream",
     "text": [
      "ALB: 0128/1719 (ETA: 9343.58s)...\r"
     ]
    },
    {
     "name": "stdout",
     "output_type": "stream",
     "text": [
      "ALB: 0144/1719 (ETA: 9262.36s)...\r"
     ]
    },
    {
     "name": "stdout",
     "output_type": "stream",
     "text": [
      "ALB: 0160/1719 (ETA: 9217.84s)...\r"
     ]
    },
    {
     "name": "stdout",
     "output_type": "stream",
     "text": [
      "ALB: 0176/1719 (ETA: 9162.27s)...\r"
     ]
    },
    {
     "name": "stdout",
     "output_type": "stream",
     "text": [
      "ALB: 0192/1719 (ETA: 9116.53s)...\r"
     ]
    },
    {
     "name": "stdout",
     "output_type": "stream",
     "text": [
      "ALB: 0208/1719 (ETA: 9077.27s)...\r"
     ]
    },
    {
     "name": "stdout",
     "output_type": "stream",
     "text": [
      "ALB: 0224/1719 (ETA: 9050.05s)...\r"
     ]
    },
    {
     "name": "stdout",
     "output_type": "stream",
     "text": [
      "ALB: 0240/1719 (ETA: 8983.26s)...\r"
     ]
    },
    {
     "name": "stdout",
     "output_type": "stream",
     "text": [
      "ALB: 0256/1719 (ETA: 8924.36s)...\r"
     ]
    },
    {
     "name": "stdout",
     "output_type": "stream",
     "text": [
      "ALB: 0272/1719 (ETA: 8923.95s)...\r"
     ]
    },
    {
     "name": "stdout",
     "output_type": "stream",
     "text": [
      "ALB: 0288/1719 (ETA: 8864.00s)...\r"
     ]
    },
    {
     "name": "stdout",
     "output_type": "stream",
     "text": [
      "ALB: 0304/1719 (ETA: 8833.47s)...\r"
     ]
    },
    {
     "name": "stdout",
     "output_type": "stream",
     "text": [
      "ALB: 0320/1719 (ETA: 8807.68s)...\r"
     ]
    },
    {
     "name": "stdout",
     "output_type": "stream",
     "text": [
      "ALB: 0336/1719 (ETA: 8784.02s)...\r"
     ]
    },
    {
     "name": "stdout",
     "output_type": "stream",
     "text": [
      "ALB: 0352/1719 (ETA: 8739.96s)...\r"
     ]
    },
    {
     "name": "stdout",
     "output_type": "stream",
     "text": [
      "ALB: 0368/1719 (ETA: 8716.47s)...\r"
     ]
    },
    {
     "name": "stdout",
     "output_type": "stream",
     "text": [
      "ALB: 0384/1719 (ETA: 8818.47s)...\r"
     ]
    },
    {
     "name": "stdout",
     "output_type": "stream",
     "text": [
      "ALB: 0400/1719 (ETA: 8782.79s)...\r"
     ]
    },
    {
     "name": "stdout",
     "output_type": "stream",
     "text": [
      "ALB: 0416/1719 (ETA: 8751.28s)...\r"
     ]
    },
    {
     "name": "stdout",
     "output_type": "stream",
     "text": [
      "ALB: 0432/1719 (ETA: 8717.55s)...\r"
     ]
    },
    {
     "name": "stdout",
     "output_type": "stream",
     "text": [
      "ALB: 0448/1719 (ETA: 8646.42s)...\r"
     ]
    },
    {
     "name": "stdout",
     "output_type": "stream",
     "text": [
      "ALB: 0464/1719 (ETA: 8457.18s)...\r"
     ]
    },
    {
     "name": "stdout",
     "output_type": "stream",
     "text": [
      "ALB: 0480/1719 (ETA: 8391.30s)...\r"
     ]
    },
    {
     "name": "stdout",
     "output_type": "stream",
     "text": [
      "ALB: 0496/1719 (ETA: 8337.20s)...\r"
     ]
    },
    {
     "name": "stdout",
     "output_type": "stream",
     "text": [
      "ALB: 0512/1719 (ETA: 8291.66s)...\r"
     ]
    },
    {
     "name": "stdout",
     "output_type": "stream",
     "text": [
      "ALB: 0528/1719 (ETA: 8274.75s)...\r"
     ]
    },
    {
     "name": "stdout",
     "output_type": "stream",
     "text": [
      "ALB: 0544/1719 (ETA: 8219.78s)...\r"
     ]
    },
    {
     "name": "stdout",
     "output_type": "stream",
     "text": [
      "ALB: 0560/1719 (ETA: 8197.17s)...\r"
     ]
    },
    {
     "name": "stdout",
     "output_type": "stream",
     "text": [
      "ALB: 0576/1719 (ETA: 8152.16s)...\r"
     ]
    },
    {
     "name": "stdout",
     "output_type": "stream",
     "text": [
      "ALB: 0592/1719 (ETA: 8087.39s)...\r"
     ]
    },
    {
     "name": "stdout",
     "output_type": "stream",
     "text": [
      "ALB: 0608/1719 (ETA: 8045.33s)...\r"
     ]
    },
    {
     "name": "stdout",
     "output_type": "stream",
     "text": [
      "ALB: 0624/1719 (ETA: 8024.35s)...\r"
     ]
    },
    {
     "name": "stdout",
     "output_type": "stream",
     "text": [
      "ALB: 0640/1719 (ETA: 7992.33s)...\r"
     ]
    },
    {
     "name": "stdout",
     "output_type": "stream",
     "text": [
      "ALB: 0656/1719 (ETA: 7944.63s)...\r"
     ]
    },
    {
     "name": "stdout",
     "output_type": "stream",
     "text": [
      "ALB: 0672/1719 (ETA: 7915.85s)...\r"
     ]
    },
    {
     "name": "stdout",
     "output_type": "stream",
     "text": [
      "ALB: 0688/1719 (ETA: 7887.02s)...\r"
     ]
    },
    {
     "name": "stdout",
     "output_type": "stream",
     "text": [
      "ALB: 0704/1719 (ETA: 7837.90s)...\r"
     ]
    },
    {
     "name": "stdout",
     "output_type": "stream",
     "text": [
      "ALB: 0720/1719 (ETA: 7787.85s)...\r"
     ]
    },
    {
     "name": "stdout",
     "output_type": "stream",
     "text": [
      "ALB: 0736/1719 (ETA: 7748.23s)...\r"
     ]
    },
    {
     "name": "stdout",
     "output_type": "stream",
     "text": [
      "ALB: 0752/1719 (ETA: 7703.13s)...\r"
     ]
    },
    {
     "name": "stdout",
     "output_type": "stream",
     "text": [
      "ALB: 0768/1719 (ETA: 7664.17s)...\r"
     ]
    },
    {
     "name": "stdout",
     "output_type": "stream",
     "text": [
      "ALB: 0784/1719 (ETA: 7614.43s)...\r"
     ]
    },
    {
     "name": "stdout",
     "output_type": "stream",
     "text": [
      "ALB: 0800/1719 (ETA: 7581.94s)...\r"
     ]
    },
    {
     "name": "stdout",
     "output_type": "stream",
     "text": [
      "ALB: 0816/1719 (ETA: 7554.01s)...\r"
     ]
    },
    {
     "name": "stdout",
     "output_type": "stream",
     "text": [
      "ALB: 0832/1719 (ETA: 7525.45s)...\r"
     ]
    },
    {
     "name": "stdout",
     "output_type": "stream",
     "text": [
      "ALB: 0848/1719 (ETA: 7471.52s)...\r"
     ]
    },
    {
     "name": "stdout",
     "output_type": "stream",
     "text": [
      "ALB: 0864/1719 (ETA: 7481.78s)...\r"
     ]
    },
    {
     "name": "stdout",
     "output_type": "stream",
     "text": [
      "ALB: 0880/1719 (ETA: 7407.88s)...\r"
     ]
    },
    {
     "name": "stdout",
     "output_type": "stream",
     "text": [
      "ALB: 0896/1719 (ETA: 7345.83s)...\r"
     ]
    },
    {
     "name": "stdout",
     "output_type": "stream",
     "text": [
      "ALB: 0912/1719 (ETA: 7295.73s)...\r"
     ]
    },
    {
     "name": "stdout",
     "output_type": "stream",
     "text": [
      "ALB: 0928/1719 (ETA: 7260.35s)...\r"
     ]
    },
    {
     "name": "stdout",
     "output_type": "stream",
     "text": [
      "ALB: 0944/1719 (ETA: 7156.43s)...\r"
     ]
    },
    {
     "name": "stdout",
     "output_type": "stream",
     "text": [
      "ALB: 0960/1719 (ETA: 7142.95s)...\r"
     ]
    },
    {
     "name": "stdout",
     "output_type": "stream",
     "text": [
      "ALB: 0976/1719 (ETA: 7108.95s)...\r"
     ]
    },
    {
     "name": "stdout",
     "output_type": "stream",
     "text": [
      "ALB: 0992/1719 (ETA: 7057.95s)...\r"
     ]
    },
    {
     "name": "stdout",
     "output_type": "stream",
     "text": [
      "ALB: 1008/1719 (ETA: 7014.38s)...\r"
     ]
    },
    {
     "name": "stdout",
     "output_type": "stream",
     "text": [
      "ALB: 1024/1719 (ETA: 6983.67s)...\r"
     ]
    },
    {
     "name": "stdout",
     "output_type": "stream",
     "text": [
      "ALB: 1040/1719 (ETA: 6955.68s)...\r"
     ]
    },
    {
     "name": "stdout",
     "output_type": "stream",
     "text": [
      "ALB: 1056/1719 (ETA: 6989.85s)...\r"
     ]
    },
    {
     "name": "stdout",
     "output_type": "stream",
     "text": [
      "ALB: 1072/1719 (ETA: 7170.06s)...\r"
     ]
    },
    {
     "name": "stdout",
     "output_type": "stream",
     "text": [
      "ALB: 1088/1719 (ETA: 7137.81s)...\r"
     ]
    },
    {
     "name": "stdout",
     "output_type": "stream",
     "text": [
      "ALB: 1104/1719 (ETA: 7097.49s)...\r"
     ]
    },
    {
     "name": "stdout",
     "output_type": "stream",
     "text": [
      "ALB: 1120/1719 (ETA: 7040.66s)...\r"
     ]
    },
    {
     "name": "stdout",
     "output_type": "stream",
     "text": [
      "ALB: 1136/1719 (ETA: 6958.79s)...\r"
     ]
    },
    {
     "name": "stdout",
     "output_type": "stream",
     "text": [
      "ALB: 1152/1719 (ETA: 6703.07s)...\r"
     ]
    },
    {
     "name": "stdout",
     "output_type": "stream",
     "text": [
      "ALB: 1168/1719 (ETA: 6641.43s)...\r"
     ]
    },
    {
     "name": "stdout",
     "output_type": "stream",
     "text": [
      "ALB: 1184/1719 (ETA: 6712.35s)...\r"
     ]
    },
    {
     "name": "stdout",
     "output_type": "stream",
     "text": [
      "ALB: 1200/1719 (ETA: 6796.18s)...\r"
     ]
    },
    {
     "name": "stdout",
     "output_type": "stream",
     "text": [
      "ALB: 1216/1719 (ETA: 6729.94s)...\r"
     ]
    },
    {
     "name": "stdout",
     "output_type": "stream",
     "text": [
      "ALB: 1232/1719 (ETA: 6672.87s)...\r"
     ]
    },
    {
     "name": "stdout",
     "output_type": "stream",
     "text": [
      "ALB: 1248/1719 (ETA: 6630.00s)...\r"
     ]
    },
    {
     "name": "stdout",
     "output_type": "stream",
     "text": [
      "ALB: 1264/1719 (ETA: 6480.99s)...\r"
     ]
    },
    {
     "name": "stdout",
     "output_type": "stream",
     "text": [
      "ALB: 1280/1719 (ETA: 6318.06s)...\r"
     ]
    },
    {
     "name": "stdout",
     "output_type": "stream",
     "text": [
      "ALB: 1296/1719 (ETA: 6263.45s)...\r"
     ]
    },
    {
     "name": "stdout",
     "output_type": "stream",
     "text": [
      "ALB: 1312/1719 (ETA: 6228.99s)...\r"
     ]
    },
    {
     "name": "stdout",
     "output_type": "stream",
     "text": [
      "ALB: 1328/1719 (ETA: 6182.49s)...\r"
     ]
    },
    {
     "name": "stdout",
     "output_type": "stream",
     "text": [
      "ALB: 1344/1719 (ETA: 6145.83s)...\r"
     ]
    },
    {
     "name": "stdout",
     "output_type": "stream",
     "text": [
      "ALB: 1360/1719 (ETA: 6107.75s)...\r"
     ]
    },
    {
     "name": "stdout",
     "output_type": "stream",
     "text": [
      "ALB: 1376/1719 (ETA: 6064.80s)...\r"
     ]
    },
    {
     "name": "stdout",
     "output_type": "stream",
     "text": [
      "ALB: 1392/1719 (ETA: 6026.95s)...\r"
     ]
    },
    {
     "name": "stdout",
     "output_type": "stream",
     "text": [
      "ALB: 1408/1719 (ETA: 5988.96s)...\r"
     ]
    },
    {
     "name": "stdout",
     "output_type": "stream",
     "text": [
      "ALB: 1424/1719 (ETA: 5937.65s)...\r"
     ]
    },
    {
     "name": "stdout",
     "output_type": "stream",
     "text": [
      "ALB: 1440/1719 (ETA: 5895.21s)...\r"
     ]
    },
    {
     "name": "stdout",
     "output_type": "stream",
     "text": [
      "ALB: 1456/1719 (ETA: 5856.51s)...\r"
     ]
    },
    {
     "name": "stdout",
     "output_type": "stream",
     "text": [
      "ALB: 1472/1719 (ETA: 5820.37s)...\r"
     ]
    },
    {
     "name": "stdout",
     "output_type": "stream",
     "text": [
      "ALB: 1488/1719 (ETA: 5783.41s)...\r"
     ]
    },
    {
     "name": "stdout",
     "output_type": "stream",
     "text": [
      "ALB: 1504/1719 (ETA: 5745.91s)...\r"
     ]
    },
    {
     "name": "stdout",
     "output_type": "stream",
     "text": [
      "ALB: 1520/1719 (ETA: 5698.93s)...\r"
     ]
    },
    {
     "name": "stdout",
     "output_type": "stream",
     "text": [
      "ALB: 1536/1719 (ETA: 5794.36s)...\r"
     ]
    },
    {
     "name": "stdout",
     "output_type": "stream",
     "text": [
      "ALB: 1552/1719 (ETA: 5871.88s)...\r"
     ]
    },
    {
     "name": "stdout",
     "output_type": "stream",
     "text": [
      "ALB: 1568/1719 (ETA: 5846.63s)...\r"
     ]
    },
    {
     "name": "stdout",
     "output_type": "stream",
     "text": [
      "ALB: 1584/1719 (ETA: 5798.45s)...\r"
     ]
    },
    {
     "name": "stdout",
     "output_type": "stream",
     "text": [
      "ALB: 1600/1719 (ETA: 5777.05s)...\r"
     ]
    },
    {
     "name": "stdout",
     "output_type": "stream",
     "text": [
      "ALB: 1616/1719 (ETA: 5593.02s)...\r"
     ]
    },
    {
     "name": "stdout",
     "output_type": "stream",
     "text": [
      "ALB: 1632/1719 (ETA: 5440.21s)...\r"
     ]
    },
    {
     "name": "stdout",
     "output_type": "stream",
     "text": [
      "ALB: 1648/1719 (ETA: 5384.74s)...\r"
     ]
    },
    {
     "name": "stdout",
     "output_type": "stream",
     "text": [
      "ALB: 1664/1719 (ETA: 5351.04s)...\r"
     ]
    },
    {
     "name": "stdout",
     "output_type": "stream",
     "text": [
      "ALB: 1680/1719 (ETA: 5301.02s)...\r"
     ]
    },
    {
     "name": "stdout",
     "output_type": "stream",
     "text": [
      "ALB: 1696/1719 (ETA: 5250.27s)...\r"
     ]
    },
    {
     "name": "stdout",
     "output_type": "stream",
     "text": [
      "ALB: 1712/1719 (ETA: 5204.41s)...\r"
     ]
    },
    {
     "name": "stdout",
     "output_type": "stream",
     "text": [
      "                                                  \r{}: Done ALB\nBET: 0000/0200 (ETA: 5219.01s)...\r"
     ]
    },
    {
     "name": "stdout",
     "output_type": "stream",
     "text": [
      "BET: 0016/0200 (ETA: 5223.41s)...\r"
     ]
    },
    {
     "name": "stdout",
     "output_type": "stream",
     "text": [
      "BET: 0032/0200 (ETA: 5345.74s)...\r"
     ]
    },
    {
     "name": "stdout",
     "output_type": "stream",
     "text": [
      "BET: 0048/0200 (ETA: 5329.84s)...\r"
     ]
    },
    {
     "name": "stdout",
     "output_type": "stream",
     "text": [
      "BET: 0064/0200 (ETA: 5392.61s)...\r"
     ]
    },
    {
     "name": "stdout",
     "output_type": "stream",
     "text": [
      "BET: 0080/0200 (ETA: 5318.20s)...\r"
     ]
    },
    {
     "name": "stdout",
     "output_type": "stream",
     "text": [
      "BET: 0096/0200 (ETA: 5311.11s)...\r"
     ]
    },
    {
     "name": "stdout",
     "output_type": "stream",
     "text": [
      "BET: 0112/0200 (ETA: 5117.92s)...\r"
     ]
    },
    {
     "name": "stdout",
     "output_type": "stream",
     "text": [
      "BET: 0128/0200 (ETA: 5301.95s)...\r"
     ]
    },
    {
     "name": "stdout",
     "output_type": "stream",
     "text": [
      "BET: 0144/0200 (ETA: 5214.03s)...\r"
     ]
    },
    {
     "name": "stdout",
     "output_type": "stream",
     "text": [
      "BET: 0160/0200 (ETA: 5179.55s)...\r"
     ]
    },
    {
     "name": "stdout",
     "output_type": "stream",
     "text": [
      "BET: 0176/0200 (ETA: 5253.59s)...\r"
     ]
    },
    {
     "name": "stdout",
     "output_type": "stream",
     "text": [
      "BET: 0192/0200 (ETA: 5248.37s)...\r"
     ]
    },
    {
     "name": "stdout",
     "output_type": "stream",
     "text": [
      "                                                  \r{}: Done BET\nDOL: 0000/0117 (ETA: 4957.82s)...\r"
     ]
    },
    {
     "name": "stdout",
     "output_type": "stream",
     "text": [
      "DOL: 0016/0117 (ETA: 4884.73s)...\r"
     ]
    },
    {
     "name": "stdout",
     "output_type": "stream",
     "text": [
      "DOL: 0032/0117 (ETA: 4867.21s)...\r"
     ]
    },
    {
     "name": "stdout",
     "output_type": "stream",
     "text": [
      "DOL: 0048/0117 (ETA: 4675.54s)...\r"
     ]
    },
    {
     "name": "stdout",
     "output_type": "stream",
     "text": [
      "DOL: 0064/0117 (ETA: 4638.59s)...\r"
     ]
    },
    {
     "name": "stdout",
     "output_type": "stream",
     "text": [
      "DOL: 0080/0117 (ETA: 4751.56s)...\r"
     ]
    },
    {
     "name": "stdout",
     "output_type": "stream",
     "text": [
      "DOL: 0096/0117 (ETA: 4709.59s)...\r"
     ]
    },
    {
     "name": "stdout",
     "output_type": "stream",
     "text": [
      "DOL: 0112/0117 (ETA: 4635.37s)...\r"
     ]
    },
    {
     "name": "stdout",
     "output_type": "stream",
     "text": [
      "                                                  \r{}: Done DOL\nLAG: 0000/0067 (ETA: 4505.22s)...\r"
     ]
    },
    {
     "name": "stdout",
     "output_type": "stream",
     "text": [
      "LAG: 0016/0067 (ETA: 4497.58s)...\r"
     ]
    },
    {
     "name": "stdout",
     "output_type": "stream",
     "text": [
      "LAG: 0032/0067 (ETA: 4386.42s)...\r"
     ]
    },
    {
     "name": "stdout",
     "output_type": "stream",
     "text": [
      "LAG: 0048/0067 (ETA: 4377.01s)...\r"
     ]
    },
    {
     "name": "stdout",
     "output_type": "stream",
     "text": [
      "LAG: 0064/0067 (ETA: 4367.71s)...\r"
     ]
    },
    {
     "name": "stdout",
     "output_type": "stream",
     "text": [
      "                                                  \r{}: Done LAG\nNoF: 0000/0465 (ETA: 4417.66s)...\r"
     ]
    },
    {
     "name": "stdout",
     "output_type": "stream",
     "text": [
      "NoF: 0016/0465 (ETA: 4307.24s)...\r"
     ]
    },
    {
     "name": "stdout",
     "output_type": "stream",
     "text": [
      "NoF: 0032/0465 (ETA: 4246.14s)...\r"
     ]
    },
    {
     "name": "stdout",
     "output_type": "stream",
     "text": [
      "NoF: 0048/0465 (ETA: 4271.52s)...\r"
     ]
    },
    {
     "name": "stdout",
     "output_type": "stream",
     "text": [
      "NoF: 0064/0465 (ETA: 4278.22s)...\r"
     ]
    },
    {
     "name": "stdout",
     "output_type": "stream",
     "text": [
      "NoF: 0080/0465 (ETA: 4284.89s)...\r"
     ]
    },
    {
     "name": "stdout",
     "output_type": "stream",
     "text": [
      "NoF: 0096/0465 (ETA: 4281.92s)...\r"
     ]
    },
    {
     "name": "stdout",
     "output_type": "stream",
     "text": [
      "NoF: 0112/0465 (ETA: 4339.00s)...\r"
     ]
    },
    {
     "name": "stdout",
     "output_type": "stream",
     "text": [
      "NoF: 0128/0465 (ETA: 4231.19s)...\r"
     ]
    },
    {
     "name": "stdout",
     "output_type": "stream",
     "text": [
      "NoF: 0144/0465 (ETA: 4099.73s)...\r"
     ]
    },
    {
     "name": "stdout",
     "output_type": "stream",
     "text": [
      "NoF: 0160/0465 (ETA: 4090.65s)...\r"
     ]
    },
    {
     "name": "stdout",
     "output_type": "stream",
     "text": [
      "NoF: 0176/0465 (ETA: 4096.81s)...\r"
     ]
    },
    {
     "name": "stdout",
     "output_type": "stream",
     "text": [
      "NoF: 0192/0465 (ETA: 4154.32s)...\r"
     ]
    },
    {
     "name": "stdout",
     "output_type": "stream",
     "text": [
      "NoF: 0208/0465 (ETA: 4130.48s)...\r"
     ]
    },
    {
     "name": "stdout",
     "output_type": "stream",
     "text": [
      "NoF: 0224/0465 (ETA: 4149.21s)...\r"
     ]
    },
    {
     "name": "stdout",
     "output_type": "stream",
     "text": [
      "NoF: 0240/0465 (ETA: 4082.07s)...\r"
     ]
    },
    {
     "name": "stdout",
     "output_type": "stream",
     "text": [
      "NoF: 0256/0465 (ETA: 3996.81s)...\r"
     ]
    },
    {
     "name": "stdout",
     "output_type": "stream",
     "text": [
      "NoF: 0272/0465 (ETA: 3762.28s)...\r"
     ]
    },
    {
     "name": "stdout",
     "output_type": "stream",
     "text": [
      "NoF: 0288/0465 (ETA: 3673.45s)...\r"
     ]
    },
    {
     "name": "stdout",
     "output_type": "stream",
     "text": [
      "NoF: 0304/0465 (ETA: 3716.68s)...\r"
     ]
    },
    {
     "name": "stdout",
     "output_type": "stream",
     "text": [
      "NoF: 0320/0465 (ETA: 3719.22s)...\r"
     ]
    },
    {
     "name": "stdout",
     "output_type": "stream",
     "text": [
      "NoF: 0336/0465 (ETA: 3711.57s)...\r"
     ]
    },
    {
     "name": "stdout",
     "output_type": "stream",
     "text": [
      "NoF: 0352/0465 (ETA: 3814.74s)...\r"
     ]
    },
    {
     "name": "stdout",
     "output_type": "stream",
     "text": [
      "NoF: 0368/0465 (ETA: 3926.67s)...\r"
     ]
    },
    {
     "name": "stdout",
     "output_type": "stream",
     "text": [
      "NoF: 0384/0465 (ETA: 3820.70s)...\r"
     ]
    },
    {
     "name": "stdout",
     "output_type": "stream",
     "text": [
      "NoF: 0400/0465 (ETA: 3809.31s)...\r"
     ]
    },
    {
     "name": "stdout",
     "output_type": "stream",
     "text": [
      "NoF: 0416/0465 (ETA: 3739.33s)...\r"
     ]
    },
    {
     "name": "stdout",
     "output_type": "stream",
     "text": [
      "NoF: 0432/0465 (ETA: 3569.53s)...\r"
     ]
    },
    {
     "name": "stdout",
     "output_type": "stream",
     "text": [
      "NoF: 0448/0465 (ETA: 3359.95s)...\r"
     ]
    },
    {
     "name": "stdout",
     "output_type": "stream",
     "text": [
      "NoF: 0464/0465 (ETA: 3258.02s)...\r"
     ]
    },
    {
     "name": "stdout",
     "output_type": "stream",
     "text": [
      "                                                  \r{}: Done NoF\nOTHER: 0000/0299 (ETA: 3114.34s)...\r"
     ]
    },
    {
     "name": "stdout",
     "output_type": "stream",
     "text": [
      "OTHER: 0016/0299 (ETA: 3016.83s)...\r"
     ]
    },
    {
     "name": "stdout",
     "output_type": "stream",
     "text": [
      "OTHER: 0032/0299 (ETA: 2965.44s)...\r"
     ]
    },
    {
     "name": "stdout",
     "output_type": "stream",
     "text": [
      "OTHER: 0048/0299 (ETA: 2942.86s)...\r"
     ]
    },
    {
     "name": "stdout",
     "output_type": "stream",
     "text": [
      "OTHER: 0064/0299 (ETA: 2895.03s)...\r"
     ]
    },
    {
     "name": "stdout",
     "output_type": "stream",
     "text": [
      "OTHER: 0080/0299 (ETA: 2969.66s)...\r"
     ]
    },
    {
     "name": "stdout",
     "output_type": "stream",
     "text": [
      "OTHER: 0096/0299 (ETA: 2936.28s)...\r"
     ]
    },
    {
     "name": "stdout",
     "output_type": "stream",
     "text": [
      "OTHER: 0112/0299 (ETA: 2968.22s)...\r"
     ]
    },
    {
     "name": "stdout",
     "output_type": "stream",
     "text": [
      "OTHER: 0128/0299 (ETA: 2917.71s)...\r"
     ]
    },
    {
     "name": "stdout",
     "output_type": "stream",
     "text": [
      "OTHER: 0144/0299 (ETA: 2929.79s)...\r"
     ]
    },
    {
     "name": "stdout",
     "output_type": "stream",
     "text": [
      "OTHER: 0160/0299 (ETA: 2788.33s)...\r"
     ]
    },
    {
     "name": "stdout",
     "output_type": "stream",
     "text": [
      "OTHER: 0176/0299 (ETA: 2721.90s)...\r"
     ]
    },
    {
     "name": "stdout",
     "output_type": "stream",
     "text": [
      "OTHER: 0192/0299 (ETA: 2587.45s)...\r"
     ]
    },
    {
     "name": "stdout",
     "output_type": "stream",
     "text": [
      "OTHER: 0208/0299 (ETA: 2523.71s)...\r"
     ]
    },
    {
     "name": "stdout",
     "output_type": "stream",
     "text": [
      "OTHER: 0224/0299 (ETA: 2417.39s)...\r"
     ]
    },
    {
     "name": "stdout",
     "output_type": "stream",
     "text": [
      "OTHER: 0240/0299 (ETA: 2381.11s)...\r"
     ]
    },
    {
     "name": "stdout",
     "output_type": "stream",
     "text": [
      "OTHER: 0256/0299 (ETA: 2342.62s)...\r"
     ]
    },
    {
     "name": "stdout",
     "output_type": "stream",
     "text": [
      "OTHER: 0272/0299 (ETA: 2302.67s)...\r"
     ]
    },
    {
     "name": "stdout",
     "output_type": "stream",
     "text": [
      "OTHER: 0288/0299 (ETA: 2261.29s)...\r"
     ]
    },
    {
     "name": "stdout",
     "output_type": "stream",
     "text": [
      "                                                  \r{}: Done OTHER\nSHARK: 0000/0176 (ETA: 2201.95s)...\r"
     ]
    },
    {
     "name": "stdout",
     "output_type": "stream",
     "text": [
      "SHARK: 0016/0176 (ETA: 2165.16s)...\r"
     ]
    },
    {
     "name": "stdout",
     "output_type": "stream",
     "text": [
      "SHARK: 0032/0176 (ETA: 2129.11s)...\r"
     ]
    },
    {
     "name": "stdout",
     "output_type": "stream",
     "text": [
      "SHARK: 0048/0176 (ETA: 2092.23s)...\r"
     ]
    },
    {
     "name": "stdout",
     "output_type": "stream",
     "text": [
      "SHARK: 0064/0176 (ETA: 2059.80s)...\r"
     ]
    },
    {
     "name": "stdout",
     "output_type": "stream",
     "text": [
      "SHARK: 0080/0176 (ETA: 2051.88s)...\r"
     ]
    },
    {
     "name": "stdout",
     "output_type": "stream",
     "text": [
      "SHARK: 0096/0176 (ETA: 2016.60s)...\r"
     ]
    },
    {
     "name": "stdout",
     "output_type": "stream",
     "text": [
      "SHARK: 0112/0176 (ETA: 1977.94s)...\r"
     ]
    },
    {
     "name": "stdout",
     "output_type": "stream",
     "text": [
      "SHARK: 0128/0176 (ETA: 1939.60s)...\r"
     ]
    },
    {
     "name": "stdout",
     "output_type": "stream",
     "text": [
      "SHARK: 0144/0176 (ETA: 1898.86s)...\r"
     ]
    },
    {
     "name": "stdout",
     "output_type": "stream",
     "text": [
      "SHARK: 0160/0176 (ETA: 1858.37s)...\r"
     ]
    },
    {
     "name": "stdout",
     "output_type": "stream",
     "text": [
      "                                                  \r{}: Done SHARK\nYFT: 0000/0734 (ETA: 1821.90s)...\r"
     ]
    },
    {
     "name": "stdout",
     "output_type": "stream",
     "text": [
      "YFT: 0016/0734 (ETA: 1784.12s)...\r"
     ]
    },
    {
     "name": "stdout",
     "output_type": "stream",
     "text": [
      "YFT: 0032/0734 (ETA: 1747.72s)...\r"
     ]
    },
    {
     "name": "stdout",
     "output_type": "stream",
     "text": [
      "YFT: 0048/0734 (ETA: 1713.70s)...\r"
     ]
    },
    {
     "name": "stdout",
     "output_type": "stream",
     "text": [
      "YFT: 0064/0734 (ETA: 1681.91s)...\r"
     ]
    },
    {
     "name": "stdout",
     "output_type": "stream",
     "text": [
      "YFT: 0080/0734 (ETA: 1635.15s)...\r"
     ]
    },
    {
     "name": "stdout",
     "output_type": "stream",
     "text": [
      "YFT: 0096/0734 (ETA: 1593.39s)...\r"
     ]
    },
    {
     "name": "stdout",
     "output_type": "stream",
     "text": [
      "YFT: 0112/0734 (ETA: 1550.87s)...\r"
     ]
    },
    {
     "name": "stdout",
     "output_type": "stream",
     "text": [
      "YFT: 0128/0734 (ETA: 1507.34s)...\r"
     ]
    },
    {
     "name": "stdout",
     "output_type": "stream",
     "text": [
      "YFT: 0144/0734 (ETA: 1466.08s)...\r"
     ]
    },
    {
     "name": "stdout",
     "output_type": "stream",
     "text": [
      "YFT: 0160/0734 (ETA: 1434.12s)...\r"
     ]
    },
    {
     "name": "stdout",
     "output_type": "stream",
     "text": [
      "YFT: 0176/0734 (ETA: 1396.28s)...\r"
     ]
    },
    {
     "name": "stdout",
     "output_type": "stream",
     "text": [
      "YFT: 0192/0734 (ETA: 1359.45s)...\r"
     ]
    },
    {
     "name": "stdout",
     "output_type": "stream",
     "text": [
      "YFT: 0208/0734 (ETA: 1320.41s)...\r"
     ]
    },
    {
     "name": "stdout",
     "output_type": "stream",
     "text": [
      "YFT: 0224/0734 (ETA: 1278.70s)...\r"
     ]
    },
    {
     "name": "stdout",
     "output_type": "stream",
     "text": [
      "YFT: 0240/0734 (ETA: 1237.51s)...\r"
     ]
    },
    {
     "name": "stdout",
     "output_type": "stream",
     "text": [
      "YFT: 0256/0734 (ETA: 1197.42s)...\r"
     ]
    },
    {
     "name": "stdout",
     "output_type": "stream",
     "text": [
      "YFT: 0272/0734 (ETA: 1156.78s)...\r"
     ]
    },
    {
     "name": "stdout",
     "output_type": "stream",
     "text": [
      "YFT: 0288/0734 (ETA: 1115.94s)...\r"
     ]
    },
    {
     "name": "stdout",
     "output_type": "stream",
     "text": [
      "YFT: 0304/0734 (ETA: 1076.78s)...\r"
     ]
    },
    {
     "name": "stdout",
     "output_type": "stream",
     "text": [
      "YFT: 0320/0734 (ETA: 1036.59s)...\r"
     ]
    },
    {
     "name": "stdout",
     "output_type": "stream",
     "text": [
      "YFT: 0336/0734 (ETA: 994.97s)...\r"
     ]
    },
    {
     "name": "stdout",
     "output_type": "stream",
     "text": [
      "YFT: 0352/0734 (ETA: 954.33s)...\r"
     ]
    },
    {
     "name": "stdout",
     "output_type": "stream",
     "text": [
      "YFT: 0368/0734 (ETA: 914.84s)...\r"
     ]
    },
    {
     "name": "stdout",
     "output_type": "stream",
     "text": [
      "YFT: 0384/0734 (ETA: 876.20s)...\r"
     ]
    },
    {
     "name": "stdout",
     "output_type": "stream",
     "text": [
      "YFT: 0400/0734 (ETA: 836.53s)...\r"
     ]
    },
    {
     "name": "stdout",
     "output_type": "stream",
     "text": [
      "YFT: 0416/0734 (ETA: 797.02s)...\r"
     ]
    },
    {
     "name": "stdout",
     "output_type": "stream",
     "text": [
      "YFT: 0432/0734 (ETA: 756.87s)...\r"
     ]
    },
    {
     "name": "stdout",
     "output_type": "stream",
     "text": [
      "YFT: 0448/0734 (ETA: 716.14s)...\r"
     ]
    },
    {
     "name": "stdout",
     "output_type": "stream",
     "text": [
      "YFT: 0464/0734 (ETA: 674.51s)...\r"
     ]
    },
    {
     "name": "stdout",
     "output_type": "stream",
     "text": [
      "YFT: 0480/0734 (ETA: 633.00s)...\r"
     ]
    },
    {
     "name": "stdout",
     "output_type": "stream",
     "text": [
      "YFT: 0496/0734 (ETA: 594.11s)...\r"
     ]
    },
    {
     "name": "stdout",
     "output_type": "stream",
     "text": [
      "YFT: 0512/0734 (ETA: 554.93s)...\r"
     ]
    },
    {
     "name": "stdout",
     "output_type": "stream",
     "text": [
      "YFT: 0528/0734 (ETA: 515.35s)...\r"
     ]
    },
    {
     "name": "stdout",
     "output_type": "stream",
     "text": [
      "YFT: 0544/0734 (ETA: 476.32s)...\r"
     ]
    },
    {
     "name": "stdout",
     "output_type": "stream",
     "text": [
      "YFT: 0560/0734 (ETA: 437.01s)...\r"
     ]
    },
    {
     "name": "stdout",
     "output_type": "stream",
     "text": [
      "YFT: 0576/0734 (ETA: 396.38s)...\r"
     ]
    },
    {
     "name": "stdout",
     "output_type": "stream",
     "text": [
      "YFT: 0592/0734 (ETA: 355.02s)...\r"
     ]
    },
    {
     "name": "stdout",
     "output_type": "stream",
     "text": [
      "YFT: 0608/0734 (ETA: 315.01s)...\r"
     ]
    },
    {
     "name": "stdout",
     "output_type": "stream",
     "text": [
      "YFT: 0624/0734 (ETA: 274.67s)...\r"
     ]
    },
    {
     "name": "stdout",
     "output_type": "stream",
     "text": [
      "YFT: 0640/0734 (ETA: 234.41s)...\r"
     ]
    },
    {
     "name": "stdout",
     "output_type": "stream",
     "text": [
      "YFT: 0656/0734 (ETA: 194.63s)...\r"
     ]
    },
    {
     "name": "stdout",
     "output_type": "stream",
     "text": [
      "YFT: 0672/0734 (ETA: 154.91s)...\r"
     ]
    },
    {
     "name": "stdout",
     "output_type": "stream",
     "text": [
      "YFT: 0688/0734 (ETA: 114.94s)...\r"
     ]
    },
    {
     "name": "stdout",
     "output_type": "stream",
     "text": [
      "YFT: 0704/0734 (ETA: 74.95s)...\r"
     ]
    },
    {
     "name": "stdout",
     "output_type": "stream",
     "text": [
      "YFT: 0720/0734 (ETA: 34.98s)...\r"
     ]
    },
    {
     "name": "stdout",
     "output_type": "stream",
     "text": [
      "                                                  \r{}: Done YFT\nDone ({}) 9758.74925494194\n"
     ]
    }
   ],
   "source": [
    "from collections import deque\n",
    "from time import time\n",
    "\n",
    "t0 = time()\n",
    "ts = deque(maxlen=5)\n",
    "idxx = 0\n",
    "\n",
    "for path, label in zip(labels_path, labels):\n",
    "    files = os.listdir(path)\n",
    "    n_files = len(files)\n",
    "    next_idxx = idxx + n_files\n",
    "    labels_data[idxx:next_idxx] = label2idx[label]\n",
    "    idx = 0\n",
    "    for i in range(math.ceil(n_files / BATCH_SIZE)):\n",
    "        tt0 = time()\n",
    "        eta = np.mean(ts) * (n_images - idxx - idx) if len(ts) != 0 else 999\n",
    "        print('%s: %04d/%04d (ETA: %.2fs)...' %\n",
    "              (label, idx, n_files, eta), end='\\r')\n",
    "        next_idx = min(n_files, idx + BATCH_SIZE)\n",
    "        batch_n = next_idx - idx\n",
    "        batch_x = np.ndarray((batch_n, *SHAPE), dtype=np.float32)\n",
    "        for j in range(batch_n):\n",
    "            img = PIL.Image.open(os.path.join(path, files[idx + j]))\n",
    "            img = img.resize(SHAPE[:2][::-1])\n",
    "            img = np.asarray(img, dtype=np.float32)\n",
    "            batch_x[j] = img\n",
    "    \n",
    "        batch_x = preprocess_input(batch_x)\n",
    "        img_data[idxx + idx:idxx + idx + batch_n] = model.predict(batch_x)\n",
    "        idx = next_idx\n",
    "        ts.append((time() - tt0) / batch_n)\n",
    "    \n",
    "    idxx = next_idxx\n",
    "    print(' '*50, end='\\r')\n",
    "    print('{}: Done', label)\n",
    "    \n",
    "print('Done ({})', (time() - t0))"
   ]
  },
  {
   "cell_type": "code",
   "execution_count": 5,
   "metadata": {},
   "outputs": [],
   "source": [
    "f.close()"
   ]
  },
  {
   "cell_type": "code",
   "execution_count": null,
   "metadata": {},
   "outputs": [],
   "source": [
    ""
   ]
  }
 ],
 "metadata": {
  "kernelspec": {
   "display_name": "Python 2",
   "language": "python",
   "name": "python2"
  },
  "language_info": {
   "codemirror_mode": {
    "name": "ipython",
    "version": 2.0
   },
   "file_extension": ".py",
   "mimetype": "text/x-python",
   "name": "python",
   "nbconvert_exporter": "python",
   "pygments_lexer": "ipython2",
   "version": "2.7.6"
  }
 },
 "nbformat": 4,
 "nbformat_minor": 0
}