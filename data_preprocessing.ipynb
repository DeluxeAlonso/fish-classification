{
 "cells": [
  {
   "cell_type": "code",
   "execution_count": 1,
   "metadata": {
    "collapsed": true
   },
   "outputs": [
    {
     "name": "stderr",
     "output_type": "stream",
     "text": [
      "Using TensorFlow backend.\n"
     ]
    }
   ],
   "source": [
    "import os\n",
    "import PIL\n",
    "import h5py\n",
    "import math\n",
    "import numpy as np\n",
    "import matplotlib.pyplot as plt\n",
    "from keras.applications.vgg16 import preprocess_input, VGG16\n",
    "from keras.utils.np_utils import to_categorical\n",
    "%matplotlib inline"
   ]
  },
  {
   "cell_type": "code",
   "execution_count": 2,
   "metadata": {},
   "outputs": [],
   "source": [
    "OUT_FILE = 'data/aug_train_data.h5'\n",
    "METADATA = 'metadata.npy'\n",
    "DATA_FOLDER = 'data/augmentated'\n",
    "SHAPE = (150, 250, 3)\n",
    "BATCH_SIZE = 16"
   ]
  },
  {
   "cell_type": "code",
   "execution_count": 3,
   "metadata": {},
   "outputs": [
    {
     "name": "stdout",
     "output_type": "stream",
     "text": [
      "['data/augmentated/ALB', 'data/augmentated/BET', 'data/augmentated/DOL', 'data/augmentated/LAG', 'data/augmentated/NoF', 'data/augmentated/OTHER', 'data/augmentated/SHARK', 'data/augmentated/YFT']\n"
     ]
    },
    {
     "name": "stdout",
     "output_type": "stream",
     "text": [
      "model output shape: {} (None, 4, 7, 512)\n"
     ]
    }
   ],
   "source": [
    "labels = os.listdir(DATA_FOLDER)\n",
    "labels = [l for l in labels if \".DS_Store\" not in l]\n",
    "labels_path = [os.path.join(DATA_FOLDER, l) for l in labels]\n",
    "print(labels_path)\n",
    "n_labels = len(labels)\n",
    "n_images = np.sum([len(os.listdir(l)) for l in labels_path])\n",
    "\n",
    "label2idx = {j:to_categorical(i, n_labels)[0] for i,j in enumerate(labels)}\n",
    "np.save(METADATA, label2idx)\n",
    "\n",
    "model = VGG16(include_top=False, input_shape=SHAPE)\n",
    "model.layers.pop()\n",
    "    \n",
    "print('model output shape: {}', model.output_shape)\n",
    "\n",
    "f = h5py.File(OUT_FILE)\n",
    "output_shape = (n_images, *model.output_shape[1:])\n",
    "chunk_shape = (BATCH_SIZE, *model.output_shape[1:])\n",
    "try:\n",
    "    f.pop('x')\n",
    "    f.pop('y')\n",
    "except:\n",
    "    None\n",
    "\n",
    "img_data = f.create_dataset('x', shape=output_shape,\n",
    "                            dtype=np.float32, chunks=chunk_shape)\n",
    "labels_data = f.create_dataset('y', shape=(n_images, n_labels),\n",
    "                               dtype=np.float32, chunks=(BATCH_SIZE, n_labels))"
   ]
  },
  {
   "cell_type": "code",
   "execution_count": 4,
   "metadata": {
    "collapsed": true
   },
   "outputs": [
    {
     "name": "stdout",
     "output_type": "stream",
     "text": [
      "ALB: 0000/4227 (ETA: 999.00s)...\r"
     ]
    },
    {
     "name": "stdout",
     "output_type": "stream",
     "text": [
      "ALB: 0016/4227 (ETA: 8317.28s)...\r"
     ]
    },
    {
     "name": "stdout",
     "output_type": "stream",
     "text": [
      "ALB: 0032/4227 (ETA: 8330.76s)...\r"
     ]
    },
    {
     "name": "stdout",
     "output_type": "stream",
     "text": [
      "ALB: 0048/4227 (ETA: 7912.24s)...\r"
     ]
    },
    {
     "name": "stdout",
     "output_type": "stream",
     "text": [
      "ALB: 0064/4227 (ETA: 9079.02s)...\r"
     ]
    },
    {
     "name": "stdout",
     "output_type": "stream",
     "text": [
      "ALB: 0080/4227 (ETA: 9176.53s)...\r"
     ]
    },
    {
     "name": "stdout",
     "output_type": "stream",
     "text": [
      "ALB: 0096/4227 (ETA: 9164.20s)...\r"
     ]
    },
    {
     "name": "stdout",
     "output_type": "stream",
     "text": [
      "ALB: 0112/4227 (ETA: 9017.50s)...\r"
     ]
    },
    {
     "name": "stdout",
     "output_type": "stream",
     "text": [
      "ALB: 0128/4227 (ETA: 9024.61s)...\r"
     ]
    },
    {
     "name": "stdout",
     "output_type": "stream",
     "text": [
      "ALB: 0144/4227 (ETA: 8060.57s)...\r"
     ]
    },
    {
     "name": "stdout",
     "output_type": "stream",
     "text": [
      "ALB: 0160/4227 (ETA: 7807.09s)...\r"
     ]
    },
    {
     "name": "stdout",
     "output_type": "stream",
     "text": [
      "ALB: 0176/4227 (ETA: 7730.06s)...\r"
     ]
    },
    {
     "name": "stdout",
     "output_type": "stream",
     "text": [
      "ALB: 0192/4227 (ETA: 8123.94s)...\r"
     ]
    },
    {
     "name": "stdout",
     "output_type": "stream",
     "text": [
      "ALB: 0208/4227 (ETA: 8420.74s)...\r"
     ]
    },
    {
     "name": "stdout",
     "output_type": "stream",
     "text": [
      "ALB: 0224/4227 (ETA: 9287.24s)...\r"
     ]
    },
    {
     "name": "stdout",
     "output_type": "stream",
     "text": [
      "ALB: 0240/4227 (ETA: 9969.50s)...\r"
     ]
    },
    {
     "name": "stdout",
     "output_type": "stream",
     "text": [
      "ALB: 0256/4227 (ETA: 10807.65s)...\r"
     ]
    },
    {
     "name": "stdout",
     "output_type": "stream",
     "text": [
      "ALB: 0272/4227 (ETA: 11590.89s)...\r"
     ]
    },
    {
     "name": "stdout",
     "output_type": "stream",
     "text": [
      "ALB: 0288/4227 (ETA: 12151.13s)...\r"
     ]
    },
    {
     "name": "stdout",
     "output_type": "stream",
     "text": [
      "ALB: 0304/4227 (ETA: 12134.78s)...\r"
     ]
    },
    {
     "name": "stdout",
     "output_type": "stream",
     "text": [
      "ALB: 0320/4227 (ETA: 12264.41s)...\r"
     ]
    },
    {
     "name": "stdout",
     "output_type": "stream",
     "text": [
      "ALB: 0336/4227 (ETA: 12598.30s)...\r"
     ]
    },
    {
     "name": "stdout",
     "output_type": "stream",
     "text": [
      "ALB: 0352/4227 (ETA: 13119.94s)...\r"
     ]
    },
    {
     "name": "stdout",
     "output_type": "stream",
     "text": [
      "ALB: 0368/4227 (ETA: 13617.56s)...\r"
     ]
    },
    {
     "name": "stdout",
     "output_type": "stream",
     "text": [
      "ALB: 0384/4227 (ETA: 14202.18s)...\r"
     ]
    },
    {
     "name": "stdout",
     "output_type": "stream",
     "text": [
      "ALB: 0400/4227 (ETA: 14848.17s)...\r"
     ]
    },
    {
     "name": "stdout",
     "output_type": "stream",
     "text": [
      "ALB: 0416/4227 (ETA: 14743.54s)...\r"
     ]
    },
    {
     "name": "stdout",
     "output_type": "stream",
     "text": [
      "ALB: 0432/4227 (ETA: 13924.92s)...\r"
     ]
    },
    {
     "name": "stdout",
     "output_type": "stream",
     "text": [
      "ALB: 0448/4227 (ETA: 14216.19s)...\r"
     ]
    },
    {
     "name": "stdout",
     "output_type": "stream",
     "text": [
      "ALB: 0464/4227 (ETA: 14002.27s)...\r"
     ]
    },
    {
     "name": "stdout",
     "output_type": "stream",
     "text": [
      "ALB: 0480/4227 (ETA: 13794.61s)...\r"
     ]
    },
    {
     "name": "stdout",
     "output_type": "stream",
     "text": [
      "ALB: 0496/4227 (ETA: 13726.58s)...\r"
     ]
    },
    {
     "name": "stdout",
     "output_type": "stream",
     "text": [
      "ALB: 0512/4227 (ETA: 13573.47s)...\r"
     ]
    },
    {
     "name": "stdout",
     "output_type": "stream",
     "text": [
      "ALB: 0528/4227 (ETA: 12749.66s)...\r"
     ]
    },
    {
     "name": "stdout",
     "output_type": "stream",
     "text": [
      "ALB: 0544/4227 (ETA: 12144.72s)...\r"
     ]
    },
    {
     "name": "stdout",
     "output_type": "stream",
     "text": [
      "ALB: 0560/4227 (ETA: 11490.14s)...\r"
     ]
    },
    {
     "name": "stdout",
     "output_type": "stream",
     "text": [
      "ALB: 0576/4227 (ETA: 11184.29s)...\r"
     ]
    },
    {
     "name": "stdout",
     "output_type": "stream",
     "text": [
      "ALB: 0592/4227 (ETA: 11189.56s)...\r"
     ]
    },
    {
     "name": "stdout",
     "output_type": "stream",
     "text": [
      "ALB: 0608/4227 (ETA: 11132.93s)...\r"
     ]
    },
    {
     "name": "stdout",
     "output_type": "stream",
     "text": [
      "ALB: 0624/4227 (ETA: 11146.20s)...\r"
     ]
    },
    {
     "name": "stdout",
     "output_type": "stream",
     "text": [
      "ALB: 0640/4227 (ETA: 11082.65s)...\r"
     ]
    },
    {
     "name": "stdout",
     "output_type": "stream",
     "text": [
      "ALB: 0656/4227 (ETA: 10982.04s)...\r"
     ]
    },
    {
     "name": "stdout",
     "output_type": "stream",
     "text": [
      "ALB: 0672/4227 (ETA: 11262.04s)...\r"
     ]
    },
    {
     "name": "stdout",
     "output_type": "stream",
     "text": [
      "ALB: 0688/4227 (ETA: 11557.45s)...\r"
     ]
    },
    {
     "name": "stdout",
     "output_type": "stream",
     "text": [
      "ALB: 0704/4227 (ETA: 12080.41s)...\r"
     ]
    },
    {
     "name": "stdout",
     "output_type": "stream",
     "text": [
      "ALB: 0720/4227 (ETA: 12517.17s)...\r"
     ]
    },
    {
     "name": "stdout",
     "output_type": "stream",
     "text": [
      "ALB: 0736/4227 (ETA: 12772.15s)...\r"
     ]
    },
    {
     "name": "stdout",
     "output_type": "stream",
     "text": [
      "ALB: 0752/4227 (ETA: 12476.69s)...\r"
     ]
    },
    {
     "name": "stdout",
     "output_type": "stream",
     "text": [
      "ALB: 0768/4227 (ETA: 12338.43s)...\r"
     ]
    },
    {
     "name": "stdout",
     "output_type": "stream",
     "text": [
      "ALB: 0784/4227 (ETA: 11817.61s)...\r"
     ]
    },
    {
     "name": "stdout",
     "output_type": "stream",
     "text": [
      "ALB: 0800/4227 (ETA: 11361.68s)...\r"
     ]
    },
    {
     "name": "stdout",
     "output_type": "stream",
     "text": [
      "ALB: 0816/4227 (ETA: 11575.89s)...\r"
     ]
    },
    {
     "name": "stdout",
     "output_type": "stream",
     "text": [
      "ALB: 0832/4227 (ETA: 12409.84s)...\r"
     ]
    },
    {
     "name": "stdout",
     "output_type": "stream",
     "text": [
      "ALB: 0848/4227 (ETA: 12745.45s)...\r"
     ]
    },
    {
     "name": "stdout",
     "output_type": "stream",
     "text": [
      "ALB: 0864/4227 (ETA: 13021.83s)...\r"
     ]
    },
    {
     "name": "stdout",
     "output_type": "stream",
     "text": [
      "ALB: 0880/4227 (ETA: 13323.23s)...\r"
     ]
    },
    {
     "name": "stdout",
     "output_type": "stream",
     "text": [
      "ALB: 0896/4227 (ETA: 13155.08s)...\r"
     ]
    },
    {
     "name": "stdout",
     "output_type": "stream",
     "text": [
      "ALB: 0912/4227 (ETA: 12371.21s)...\r"
     ]
    },
    {
     "name": "stdout",
     "output_type": "stream",
     "text": [
      "ALB: 0928/4227 (ETA: 12188.99s)...\r"
     ]
    },
    {
     "name": "stdout",
     "output_type": "stream",
     "text": [
      "ALB: 0944/4227 (ETA: 12042.15s)...\r"
     ]
    },
    {
     "name": "stdout",
     "output_type": "stream",
     "text": [
      "ALB: 0960/4227 (ETA: 11773.16s)...\r"
     ]
    },
    {
     "name": "stdout",
     "output_type": "stream",
     "text": [
      "ALB: 0976/4227 (ETA: 11645.58s)...\r"
     ]
    },
    {
     "name": "stdout",
     "output_type": "stream",
     "text": [
      "ALB: 0992/4227 (ETA: 11699.07s)...\r"
     ]
    },
    {
     "name": "stdout",
     "output_type": "stream",
     "text": [
      "ALB: 1008/4227 (ETA: 11839.17s)...\r"
     ]
    },
    {
     "name": "stdout",
     "output_type": "stream",
     "text": [
      "ALB: 1024/4227 (ETA: 11737.80s)...\r"
     ]
    },
    {
     "name": "stdout",
     "output_type": "stream",
     "text": [
      "ALB: 1040/4227 (ETA: 12222.34s)...\r"
     ]
    },
    {
     "name": "stdout",
     "output_type": "stream",
     "text": [
      "ALB: 1056/4227 (ETA: 12210.76s)...\r"
     ]
    },
    {
     "name": "stdout",
     "output_type": "stream",
     "text": [
      "ALB: 1072/4227 (ETA: 12025.25s)...\r"
     ]
    },
    {
     "name": "stdout",
     "output_type": "stream",
     "text": [
      "ALB: 1088/4227 (ETA: 11503.30s)...\r"
     ]
    },
    {
     "name": "stdout",
     "output_type": "stream",
     "text": [
      "ALB: 1104/4227 (ETA: 11346.71s)...\r"
     ]
    },
    {
     "name": "stdout",
     "output_type": "stream",
     "text": [
      "ALB: 1120/4227 (ETA: 10544.43s)...\r"
     ]
    },
    {
     "name": "stdout",
     "output_type": "stream",
     "text": [
      "ALB: 1136/4227 (ETA: 9237.01s)...\r"
     ]
    },
    {
     "name": "stdout",
     "output_type": "stream",
     "text": [
      "ALB: 1152/4227 (ETA: 8101.19s)...\r"
     ]
    },
    {
     "name": "stdout",
     "output_type": "stream",
     "text": [
      "ALB: 1168/4227 (ETA: 7189.04s)...\r"
     ]
    },
    {
     "name": "stdout",
     "output_type": "stream",
     "text": [
      "ALB: 1184/4227 (ETA: 6272.85s)...\r"
     ]
    },
    {
     "name": "stdout",
     "output_type": "stream",
     "text": [
      "ALB: 1200/4227 (ETA: 5659.16s)...\r"
     ]
    },
    {
     "name": "stdout",
     "output_type": "stream",
     "text": [
      "ALB: 1216/4227 (ETA: 6045.41s)...\r"
     ]
    },
    {
     "name": "stdout",
     "output_type": "stream",
     "text": [
      "ALB: 1232/4227 (ETA: 6496.39s)...\r"
     ]
    },
    {
     "name": "stdout",
     "output_type": "stream",
     "text": [
      "ALB: 1248/4227 (ETA: 6504.68s)...\r"
     ]
    },
    {
     "name": "stdout",
     "output_type": "stream",
     "text": [
      "ALB: 1264/4227 (ETA: 6518.55s)...\r"
     ]
    },
    {
     "name": "stdout",
     "output_type": "stream",
     "text": [
      "ALB: 1280/4227 (ETA: 6254.93s)...\r"
     ]
    },
    {
     "name": "stdout",
     "output_type": "stream",
     "text": [
      "ALB: 1296/4227 (ETA: 5811.32s)...\r"
     ]
    },
    {
     "name": "stdout",
     "output_type": "stream",
     "text": [
      "ALB: 1312/4227 (ETA: 5308.89s)...\r"
     ]
    },
    {
     "name": "stdout",
     "output_type": "stream",
     "text": [
      "ALB: 1328/4227 (ETA: 5080.87s)...\r"
     ]
    },
    {
     "name": "stdout",
     "output_type": "stream",
     "text": [
      "ALB: 1344/4227 (ETA: 4895.93s)...\r"
     ]
    },
    {
     "name": "stdout",
     "output_type": "stream",
     "text": [
      "ALB: 1360/4227 (ETA: 4839.35s)...\r"
     ]
    },
    {
     "name": "stdout",
     "output_type": "stream",
     "text": [
      "ALB: 1376/4227 (ETA: 4846.67s)...\r"
     ]
    },
    {
     "name": "stdout",
     "output_type": "stream",
     "text": [
      "ALB: 1392/4227 (ETA: 4840.38s)...\r"
     ]
    },
    {
     "name": "stdout",
     "output_type": "stream",
     "text": [
      "ALB: 1408/4227 (ETA: 4819.19s)...\r"
     ]
    },
    {
     "name": "stdout",
     "output_type": "stream",
     "text": [
      "ALB: 1424/4227 (ETA: 4797.18s)...\r"
     ]
    },
    {
     "name": "stdout",
     "output_type": "stream",
     "text": [
      "ALB: 1440/4227 (ETA: 4790.52s)...\r"
     ]
    },
    {
     "name": "stdout",
     "output_type": "stream",
     "text": [
      "ALB: 1456/4227 (ETA: 4800.57s)...\r"
     ]
    },
    {
     "name": "stdout",
     "output_type": "stream",
     "text": [
      "ALB: 1472/4227 (ETA: 4992.77s)...\r"
     ]
    },
    {
     "name": "stdout",
     "output_type": "stream",
     "text": [
      "ALB: 1488/4227 (ETA: 4972.12s)...\r"
     ]
    },
    {
     "name": "stdout",
     "output_type": "stream",
     "text": [
      "ALB: 1504/4227 (ETA: 4999.03s)...\r"
     ]
    },
    {
     "name": "stdout",
     "output_type": "stream",
     "text": [
      "ALB: 1520/4227 (ETA: 5023.57s)...\r"
     ]
    },
    {
     "name": "stdout",
     "output_type": "stream",
     "text": [
      "ALB: 1536/4227 (ETA: 4992.90s)...\r"
     ]
    },
    {
     "name": "stdout",
     "output_type": "stream",
     "text": [
      "ALB: 1552/4227 (ETA: 4798.33s)...\r"
     ]
    },
    {
     "name": "stdout",
     "output_type": "stream",
     "text": [
      "ALB: 1568/4227 (ETA: 4848.09s)...\r"
     ]
    },
    {
     "name": "stdout",
     "output_type": "stream",
     "text": [
      "ALB: 1584/4227 (ETA: 4836.40s)...\r"
     ]
    },
    {
     "name": "stdout",
     "output_type": "stream",
     "text": [
      "ALB: 1600/4227 (ETA: 4791.09s)...\r"
     ]
    },
    {
     "name": "stdout",
     "output_type": "stream",
     "text": [
      "ALB: 1616/4227 (ETA: 4790.87s)...\r"
     ]
    },
    {
     "name": "stdout",
     "output_type": "stream",
     "text": [
      "ALB: 1632/4227 (ETA: 4801.11s)...\r"
     ]
    },
    {
     "name": "stdout",
     "output_type": "stream",
     "text": [
      "ALB: 1648/4227 (ETA: 4787.52s)...\r"
     ]
    },
    {
     "name": "stdout",
     "output_type": "stream",
     "text": [
      "ALB: 1664/4227 (ETA: 4761.71s)...\r"
     ]
    },
    {
     "name": "stdout",
     "output_type": "stream",
     "text": [
      "ALB: 1680/4227 (ETA: 4777.47s)...\r"
     ]
    },
    {
     "name": "stdout",
     "output_type": "stream",
     "text": [
      "ALB: 1696/4227 (ETA: 4743.77s)...\r"
     ]
    },
    {
     "name": "stdout",
     "output_type": "stream",
     "text": [
      "ALB: 1712/4227 (ETA: 4717.89s)...\r"
     ]
    },
    {
     "name": "stdout",
     "output_type": "stream",
     "text": [
      "ALB: 1728/4227 (ETA: 4701.22s)...\r"
     ]
    },
    {
     "name": "stdout",
     "output_type": "stream",
     "text": [
      "ALB: 1744/4227 (ETA: 4733.83s)...\r"
     ]
    },
    {
     "name": "stdout",
     "output_type": "stream",
     "text": [
      "ALB: 1760/4227 (ETA: 4779.08s)...\r"
     ]
    },
    {
     "name": "stdout",
     "output_type": "stream",
     "text": [
      "ALB: 1776/4227 (ETA: 4869.53s)...\r"
     ]
    },
    {
     "name": "stdout",
     "output_type": "stream",
     "text": [
      "ALB: 1792/4227 (ETA: 4890.70s)...\r"
     ]
    },
    {
     "name": "stdout",
     "output_type": "stream",
     "text": [
      "ALB: 1808/4227 (ETA: 4903.41s)...\r"
     ]
    },
    {
     "name": "stdout",
     "output_type": "stream",
     "text": [
      "ALB: 1824/4227 (ETA: 4883.34s)...\r"
     ]
    },
    {
     "name": "stdout",
     "output_type": "stream",
     "text": [
      "ALB: 1840/4227 (ETA: 4896.34s)...\r"
     ]
    },
    {
     "name": "stdout",
     "output_type": "stream",
     "text": [
      "ALB: 1856/4227 (ETA: 4841.53s)...\r"
     ]
    },
    {
     "name": "stdout",
     "output_type": "stream",
     "text": [
      "ALB: 1872/4227 (ETA: 5199.94s)...\r"
     ]
    },
    {
     "name": "stdout",
     "output_type": "stream",
     "text": [
      "ALB: 1888/4227 (ETA: 5262.43s)...\r"
     ]
    },
    {
     "name": "stdout",
     "output_type": "stream",
     "text": [
      "ALB: 1904/4227 (ETA: 5360.75s)...\r"
     ]
    },
    {
     "name": "stdout",
     "output_type": "stream",
     "text": [
      "ALB: 1920/4227 (ETA: 5327.45s)...\r"
     ]
    },
    {
     "name": "stdout",
     "output_type": "stream",
     "text": [
      "ALB: 1936/4227 (ETA: 5356.10s)...\r"
     ]
    },
    {
     "name": "stdout",
     "output_type": "stream",
     "text": [
      "ALB: 1952/4227 (ETA: 4938.29s)...\r"
     ]
    },
    {
     "name": "stdout",
     "output_type": "stream",
     "text": [
      "ALB: 1968/4227 (ETA: 4780.57s)...\r"
     ]
    },
    {
     "name": "stdout",
     "output_type": "stream",
     "text": [
      "ALB: 1984/4227 (ETA: 4645.26s)...\r"
     ]
    },
    {
     "name": "stdout",
     "output_type": "stream",
     "text": [
      "ALB: 2000/4227 (ETA: 4579.88s)...\r"
     ]
    },
    {
     "name": "stdout",
     "output_type": "stream",
     "text": [
      "ALB: 2016/4227 (ETA: 4484.19s)...\r"
     ]
    },
    {
     "name": "stdout",
     "output_type": "stream",
     "text": [
      "ALB: 2032/4227 (ETA: 4704.94s)...\r"
     ]
    },
    {
     "name": "stdout",
     "output_type": "stream",
     "text": [
      "ALB: 2048/4227 (ETA: 4755.12s)...\r"
     ]
    },
    {
     "name": "stdout",
     "output_type": "stream",
     "text": [
      "ALB: 2064/4227 (ETA: 5156.57s)...\r"
     ]
    },
    {
     "name": "stdout",
     "output_type": "stream",
     "text": [
      "ALB: 2080/4227 (ETA: 5292.63s)...\r"
     ]
    },
    {
     "name": "stdout",
     "output_type": "stream",
     "text": [
      "ALB: 2096/4227 (ETA: 5321.42s)...\r"
     ]
    },
    {
     "name": "stdout",
     "output_type": "stream",
     "text": [
      "ALB: 2112/4227 (ETA: 5089.77s)...\r"
     ]
    },
    {
     "name": "stdout",
     "output_type": "stream",
     "text": [
      "ALB: 2128/4227 (ETA: 5072.64s)...\r"
     ]
    },
    {
     "name": "stdout",
     "output_type": "stream",
     "text": [
      "ALB: 2144/4227 (ETA: 5002.24s)...\r"
     ]
    },
    {
     "name": "stdout",
     "output_type": "stream",
     "text": [
      "ALB: 2160/4227 (ETA: 5188.15s)...\r"
     ]
    },
    {
     "name": "stdout",
     "output_type": "stream",
     "text": [
      "ALB: 2176/4227 (ETA: 5298.95s)...\r"
     ]
    },
    {
     "name": "stdout",
     "output_type": "stream",
     "text": [
      "ALB: 2192/4227 (ETA: 5318.08s)...\r"
     ]
    },
    {
     "name": "stdout",
     "output_type": "stream",
     "text": [
      "ALB: 2208/4227 (ETA: 5645.78s)...\r"
     ]
    },
    {
     "name": "stdout",
     "output_type": "stream",
     "text": [
      "ALB: 2224/4227 (ETA: 5712.34s)...\r"
     ]
    },
    {
     "name": "stdout",
     "output_type": "stream",
     "text": [
      "ALB: 2240/4227 (ETA: 5595.83s)...\r"
     ]
    },
    {
     "name": "stdout",
     "output_type": "stream",
     "text": [
      "ALB: 2256/4227 (ETA: 5468.18s)...\r"
     ]
    },
    {
     "name": "stdout",
     "output_type": "stream",
     "text": [
      "ALB: 2272/4227 (ETA: 5602.59s)...\r"
     ]
    },
    {
     "name": "stdout",
     "output_type": "stream",
     "text": [
      "ALB: 2288/4227 (ETA: 5275.44s)...\r"
     ]
    },
    {
     "name": "stdout",
     "output_type": "stream",
     "text": [
      "ALB: 2304/4227 (ETA: 4851.83s)...\r"
     ]
    },
    {
     "name": "stdout",
     "output_type": "stream",
     "text": [
      "ALB: 2320/4227 (ETA: 4611.11s)...\r"
     ]
    },
    {
     "name": "stdout",
     "output_type": "stream",
     "text": [
      "ALB: 2336/4227 (ETA: 4578.33s)...\r"
     ]
    },
    {
     "name": "stdout",
     "output_type": "stream",
     "text": [
      "ALB: 2352/4227 (ETA: 4382.95s)...\r"
     ]
    },
    {
     "name": "stdout",
     "output_type": "stream",
     "text": [
      "ALB: 2368/4227 (ETA: 4324.84s)...\r"
     ]
    },
    {
     "name": "stdout",
     "output_type": "stream",
     "text": [
      "ALB: 2384/4227 (ETA: 4382.99s)...\r"
     ]
    },
    {
     "name": "stdout",
     "output_type": "stream",
     "text": [
      "ALB: 2400/4227 (ETA: 4434.42s)...\r"
     ]
    },
    {
     "name": "stdout",
     "output_type": "stream",
     "text": [
      "ALB: 2416/4227 (ETA: 4445.14s)...\r"
     ]
    },
    {
     "name": "stdout",
     "output_type": "stream",
     "text": [
      "ALB: 2432/4227 (ETA: 4459.33s)...\r"
     ]
    },
    {
     "name": "stdout",
     "output_type": "stream",
     "text": [
      "ALB: 2448/4227 (ETA: 4456.63s)...\r"
     ]
    },
    {
     "name": "stdout",
     "output_type": "stream",
     "text": [
      "ALB: 2464/4227 (ETA: 4387.87s)...\r"
     ]
    },
    {
     "name": "stdout",
     "output_type": "stream",
     "text": [
      "ALB: 2480/4227 (ETA: 4326.56s)...\r"
     ]
    },
    {
     "name": "stdout",
     "output_type": "stream",
     "text": [
      "ALB: 2496/4227 (ETA: 4309.40s)...\r"
     ]
    },
    {
     "name": "stdout",
     "output_type": "stream",
     "text": [
      "ALB: 2512/4227 (ETA: 4373.64s)...\r"
     ]
    },
    {
     "name": "stdout",
     "output_type": "stream",
     "text": [
      "ALB: 2528/4227 (ETA: 4504.51s)...\r"
     ]
    },
    {
     "name": "stdout",
     "output_type": "stream",
     "text": [
      "ALB: 2544/4227 (ETA: 4636.07s)...\r"
     ]
    },
    {
     "name": "stdout",
     "output_type": "stream",
     "text": [
      "ALB: 2560/4227 (ETA: 4797.10s)...\r"
     ]
    },
    {
     "name": "stdout",
     "output_type": "stream",
     "text": [
      "ALB: 2576/4227 (ETA: 4998.26s)...\r"
     ]
    },
    {
     "name": "stdout",
     "output_type": "stream",
     "text": [
      "ALB: 2592/4227 (ETA: 5067.88s)...\r"
     ]
    },
    {
     "name": "stdout",
     "output_type": "stream",
     "text": [
      "ALB: 2608/4227 (ETA: 5032.70s)...\r"
     ]
    },
    {
     "name": "stdout",
     "output_type": "stream",
     "text": [
      "ALB: 2624/4227 (ETA: 4900.00s)...\r"
     ]
    },
    {
     "name": "stdout",
     "output_type": "stream",
     "text": [
      "ALB: 2640/4227 (ETA: 4767.34s)...\r"
     ]
    },
    {
     "name": "stdout",
     "output_type": "stream",
     "text": [
      "ALB: 2656/4227 (ETA: 4518.29s)...\r"
     ]
    },
    {
     "name": "stdout",
     "output_type": "stream",
     "text": [
      "ALB: 2672/4227 (ETA: 4361.00s)...\r"
     ]
    },
    {
     "name": "stdout",
     "output_type": "stream",
     "text": [
      "ALB: 2688/4227 (ETA: 4230.91s)...\r"
     ]
    },
    {
     "name": "stdout",
     "output_type": "stream",
     "text": [
      "ALB: 2704/4227 (ETA: 4363.22s)...\r"
     ]
    },
    {
     "name": "stdout",
     "output_type": "stream",
     "text": [
      "ALB: 2720/4227 (ETA: 4395.51s)...\r"
     ]
    },
    {
     "name": "stdout",
     "output_type": "stream",
     "text": [
      "ALB: 2736/4227 (ETA: 4475.84s)...\r"
     ]
    },
    {
     "name": "stdout",
     "output_type": "stream",
     "text": [
      "ALB: 2752/4227 (ETA: 4748.55s)...\r"
     ]
    },
    {
     "name": "stdout",
     "output_type": "stream",
     "text": [
      "ALB: 2768/4227 (ETA: 5293.71s)...\r"
     ]
    },
    {
     "name": "stdout",
     "output_type": "stream",
     "text": [
      "ALB: 2784/4227 (ETA: 5347.61s)...\r"
     ]
    },
    {
     "name": "stdout",
     "output_type": "stream",
     "text": [
      "ALB: 2800/4227 (ETA: 5328.06s)...\r"
     ]
    },
    {
     "name": "stdout",
     "output_type": "stream",
     "text": [
      "ALB: 2816/4227 (ETA: 5273.62s)...\r"
     ]
    },
    {
     "name": "stdout",
     "output_type": "stream",
     "text": [
      "ALB: 2832/4227 (ETA: 5110.52s)...\r"
     ]
    },
    {
     "name": "stdout",
     "output_type": "stream",
     "text": [
      "ALB: 2848/4227 (ETA: 4623.42s)...\r"
     ]
    },
    {
     "name": "stdout",
     "output_type": "stream",
     "text": [
      "ALB: 2864/4227 (ETA: 4431.89s)...\r"
     ]
    },
    {
     "name": "stdout",
     "output_type": "stream",
     "text": [
      "ALB: 2880/4227 (ETA: 4384.71s)...\r"
     ]
    },
    {
     "name": "stdout",
     "output_type": "stream",
     "text": [
      "ALB: 2896/4227 (ETA: 4431.87s)...\r"
     ]
    },
    {
     "name": "stdout",
     "output_type": "stream",
     "text": [
      "ALB: 2912/4227 (ETA: 4331.24s)...\r"
     ]
    },
    {
     "name": "stdout",
     "output_type": "stream",
     "text": [
      "ALB: 2928/4227 (ETA: 4337.93s)...\r"
     ]
    },
    {
     "name": "stdout",
     "output_type": "stream",
     "text": [
      "ALB: 2944/4227 (ETA: 4320.40s)...\r"
     ]
    },
    {
     "name": "stdout",
     "output_type": "stream",
     "text": [
      "ALB: 2960/4227 (ETA: 4363.97s)...\r"
     ]
    },
    {
     "name": "stdout",
     "output_type": "stream",
     "text": [
      "ALB: 2976/4227 (ETA: 4305.84s)...\r"
     ]
    },
    {
     "name": "stdout",
     "output_type": "stream",
     "text": [
      "ALB: 2992/4227 (ETA: 4293.38s)...\r"
     ]
    },
    {
     "name": "stdout",
     "output_type": "stream",
     "text": [
      "ALB: 3008/4227 (ETA: 4220.94s)...\r"
     ]
    },
    {
     "name": "stdout",
     "output_type": "stream",
     "text": [
      "ALB: 3024/4227 (ETA: 4258.32s)...\r"
     ]
    },
    {
     "name": "stdout",
     "output_type": "stream",
     "text": [
      "ALB: 3040/4227 (ETA: 4193.52s)...\r"
     ]
    },
    {
     "name": "stdout",
     "output_type": "stream",
     "text": [
      "ALB: 3056/4227 (ETA: 4213.71s)...\r"
     ]
    },
    {
     "name": "stdout",
     "output_type": "stream",
     "text": [
      "ALB: 3072/4227 (ETA: 4263.82s)...\r"
     ]
    },
    {
     "name": "stdout",
     "output_type": "stream",
     "text": [
      "ALB: 3088/4227 (ETA: 4308.66s)...\r"
     ]
    },
    {
     "name": "stdout",
     "output_type": "stream",
     "text": [
      "ALB: 3104/4227 (ETA: 4319.12s)...\r"
     ]
    },
    {
     "name": "stdout",
     "output_type": "stream",
     "text": [
      "ALB: 3120/4227 (ETA: 4283.88s)...\r"
     ]
    },
    {
     "name": "stdout",
     "output_type": "stream",
     "text": [
      "ALB: 3136/4227 (ETA: 4232.04s)...\r"
     ]
    },
    {
     "name": "stdout",
     "output_type": "stream",
     "text": [
      "ALB: 3152/4227 (ETA: 4154.25s)...\r"
     ]
    },
    {
     "name": "stdout",
     "output_type": "stream",
     "text": [
      "ALB: 3168/4227 (ETA: 4126.55s)...\r"
     ]
    },
    {
     "name": "stdout",
     "output_type": "stream",
     "text": [
      "ALB: 3184/4227 (ETA: 4072.97s)...\r"
     ]
    },
    {
     "name": "stdout",
     "output_type": "stream",
     "text": [
      "ALB: 3200/4227 (ETA: 4191.84s)...\r"
     ]
    },
    {
     "name": "stdout",
     "output_type": "stream",
     "text": [
      "ALB: 3216/4227 (ETA: 4288.37s)...\r"
     ]
    },
    {
     "name": "stdout",
     "output_type": "stream",
     "text": [
      "ALB: 3232/4227 (ETA: 4302.68s)...\r"
     ]
    },
    {
     "name": "stdout",
     "output_type": "stream",
     "text": [
      "ALB: 3248/4227 (ETA: 4285.49s)...\r"
     ]
    },
    {
     "name": "stdout",
     "output_type": "stream",
     "text": [
      "ALB: 3264/4227 (ETA: 4285.62s)...\r"
     ]
    },
    {
     "name": "stdout",
     "output_type": "stream",
     "text": [
      "ALB: 3280/4227 (ETA: 4154.76s)...\r"
     ]
    },
    {
     "name": "stdout",
     "output_type": "stream",
     "text": [
      "ALB: 3296/4227 (ETA: 4065.49s)...\r"
     ]
    },
    {
     "name": "stdout",
     "output_type": "stream",
     "text": [
      "ALB: 3312/4227 (ETA: 4014.05s)...\r"
     ]
    },
    {
     "name": "stdout",
     "output_type": "stream",
     "text": [
      "ALB: 3328/4227 (ETA: 3970.89s)...\r"
     ]
    },
    {
     "name": "stdout",
     "output_type": "stream",
     "text": [
      "ALB: 3344/4227 (ETA: 3968.21s)...\r"
     ]
    },
    {
     "name": "stdout",
     "output_type": "stream",
     "text": [
      "ALB: 3360/4227 (ETA: 3997.45s)...\r"
     ]
    },
    {
     "name": "stdout",
     "output_type": "stream",
     "text": [
      "ALB: 3376/4227 (ETA: 3995.95s)...\r"
     ]
    },
    {
     "name": "stdout",
     "output_type": "stream",
     "text": [
      "ALB: 3392/4227 (ETA: 3977.46s)...\r"
     ]
    },
    {
     "name": "stdout",
     "output_type": "stream",
     "text": [
      "ALB: 3408/4227 (ETA: 3961.70s)...\r"
     ]
    },
    {
     "name": "stdout",
     "output_type": "stream",
     "text": [
      "ALB: 3424/4227 (ETA: 3904.22s)...\r"
     ]
    },
    {
     "name": "stdout",
     "output_type": "stream",
     "text": [
      "ALB: 3440/4227 (ETA: 3859.52s)...\r"
     ]
    },
    {
     "name": "stdout",
     "output_type": "stream",
     "text": [
      "ALB: 3456/4227 (ETA: 3824.30s)...\r"
     ]
    },
    {
     "name": "stdout",
     "output_type": "stream",
     "text": [
      "ALB: 3472/4227 (ETA: 3825.74s)...\r"
     ]
    },
    {
     "name": "stdout",
     "output_type": "stream",
     "text": [
      "ALB: 3488/4227 (ETA: 3867.35s)...\r"
     ]
    },
    {
     "name": "stdout",
     "output_type": "stream",
     "text": [
      "ALB: 3504/4227 (ETA: 3806.96s)...\r"
     ]
    },
    {
     "name": "stdout",
     "output_type": "stream",
     "text": [
      "ALB: 3520/4227 (ETA: 3843.33s)...\r"
     ]
    },
    {
     "name": "stdout",
     "output_type": "stream",
     "text": [
      "ALB: 3536/4227 (ETA: 4078.95s)...\r"
     ]
    },
    {
     "name": "stdout",
     "output_type": "stream",
     "text": [
      "ALB: 3552/4227 (ETA: 4209.44s)...\r"
     ]
    },
    {
     "name": "stdout",
     "output_type": "stream",
     "text": [
      "ALB: 3568/4227 (ETA: 4202.81s)...\r"
     ]
    },
    {
     "name": "stdout",
     "output_type": "stream",
     "text": [
      "ALB: 3584/4227 (ETA: 4423.22s)...\r"
     ]
    },
    {
     "name": "stdout",
     "output_type": "stream",
     "text": [
      "ALB: 3600/4227 (ETA: 4532.33s)...\r"
     ]
    },
    {
     "name": "stdout",
     "output_type": "stream",
     "text": [
      "ALB: 3616/4227 (ETA: 4362.35s)...\r"
     ]
    },
    {
     "name": "stdout",
     "output_type": "stream",
     "text": [
      "ALB: 3632/4227 (ETA: 4308.77s)...\r"
     ]
    },
    {
     "name": "stdout",
     "output_type": "stream",
     "text": [
      "ALB: 3648/4227 (ETA: 4557.54s)...\r"
     ]
    },
    {
     "name": "stdout",
     "output_type": "stream",
     "text": [
      "ALB: 3664/4227 (ETA: 4518.82s)...\r"
     ]
    },
    {
     "name": "stdout",
     "output_type": "stream",
     "text": [
      "ALB: 3680/4227 (ETA: 4458.91s)...\r"
     ]
    },
    {
     "name": "stdout",
     "output_type": "stream",
     "text": [
      "ALB: 3696/4227 (ETA: 4448.24s)...\r"
     ]
    },
    {
     "name": "stdout",
     "output_type": "stream",
     "text": [
      "ALB: 3712/4227 (ETA: 4481.77s)...\r"
     ]
    },
    {
     "name": "stdout",
     "output_type": "stream",
     "text": [
      "ALB: 3728/4227 (ETA: 4239.30s)...\r"
     ]
    },
    {
     "name": "stdout",
     "output_type": "stream",
     "text": [
      "ALB: 3744/4227 (ETA: 4203.67s)...\r"
     ]
    },
    {
     "name": "stdout",
     "output_type": "stream",
     "text": [
      "ALB: 3760/4227 (ETA: 4251.32s)...\r"
     ]
    },
    {
     "name": "stdout",
     "output_type": "stream",
     "text": [
      "ALB: 3776/4227 (ETA: 4163.00s)...\r"
     ]
    },
    {
     "name": "stdout",
     "output_type": "stream",
     "text": [
      "ALB: 3792/4227 (ETA: 3978.37s)...\r"
     ]
    },
    {
     "name": "stdout",
     "output_type": "stream",
     "text": [
      "ALB: 3808/4227 (ETA: 3866.52s)...\r"
     ]
    },
    {
     "name": "stdout",
     "output_type": "stream",
     "text": [
      "ALB: 3824/4227 (ETA: 3699.14s)...\r"
     ]
    },
    {
     "name": "stdout",
     "output_type": "stream",
     "text": [
      "ALB: 3840/4227 (ETA: 3468.73s)...\r"
     ]
    },
    {
     "name": "stdout",
     "output_type": "stream",
     "text": [
      "ALB: 3856/4227 (ETA: 3407.57s)...\r"
     ]
    },
    {
     "name": "stdout",
     "output_type": "stream",
     "text": [
      "ALB: 3872/4227 (ETA: 3382.15s)...\r"
     ]
    },
    {
     "name": "stdout",
     "output_type": "stream",
     "text": [
      "ALB: 3888/4227 (ETA: 3363.32s)...\r"
     ]
    },
    {
     "name": "stdout",
     "output_type": "stream",
     "text": [
      "ALB: 3904/4227 (ETA: 3344.57s)...\r"
     ]
    },
    {
     "name": "stdout",
     "output_type": "stream",
     "text": [
      "ALB: 3920/4227 (ETA: 3330.96s)...\r"
     ]
    },
    {
     "name": "stdout",
     "output_type": "stream",
     "text": [
      "ALB: 3936/4227 (ETA: 3293.39s)...\r"
     ]
    },
    {
     "name": "stdout",
     "output_type": "stream",
     "text": [
      "ALB: 3952/4227 (ETA: 3318.96s)...\r"
     ]
    },
    {
     "name": "stdout",
     "output_type": "stream",
     "text": [
      "ALB: 3968/4227 (ETA: 3284.46s)...\r"
     ]
    },
    {
     "name": "stdout",
     "output_type": "stream",
     "text": [
      "ALB: 3984/4227 (ETA: 3301.56s)...\r"
     ]
    },
    {
     "name": "stdout",
     "output_type": "stream",
     "text": [
      "ALB: 4000/4227 (ETA: 3340.59s)...\r"
     ]
    },
    {
     "name": "stdout",
     "output_type": "stream",
     "text": [
      "ALB: 4016/4227 (ETA: 3359.01s)...\r"
     ]
    },
    {
     "name": "stdout",
     "output_type": "stream",
     "text": [
      "ALB: 4032/4227 (ETA: 3353.34s)...\r"
     ]
    },
    {
     "name": "stdout",
     "output_type": "stream",
     "text": [
      "ALB: 4048/4227 (ETA: 3368.79s)...\r"
     ]
    },
    {
     "name": "stdout",
     "output_type": "stream",
     "text": [
      "ALB: 4064/4227 (ETA: 3328.78s)...\r"
     ]
    },
    {
     "name": "stdout",
     "output_type": "stream",
     "text": [
      "ALB: 4080/4227 (ETA: 3274.73s)...\r"
     ]
    },
    {
     "name": "stdout",
     "output_type": "stream",
     "text": [
      "ALB: 4096/4227 (ETA: 3314.09s)...\r"
     ]
    },
    {
     "name": "stdout",
     "output_type": "stream",
     "text": [
      "ALB: 4112/4227 (ETA: 3463.72s)...\r"
     ]
    },
    {
     "name": "stdout",
     "output_type": "stream",
     "text": [
      "ALB: 4128/4227 (ETA: 3526.68s)...\r"
     ]
    },
    {
     "name": "stdout",
     "output_type": "stream",
     "text": [
      "ALB: 4144/4227 (ETA: 3532.50s)...\r"
     ]
    },
    {
     "name": "stdout",
     "output_type": "stream",
     "text": [
      "ALB: 4160/4227 (ETA: 3513.55s)...\r"
     ]
    },
    {
     "name": "stdout",
     "output_type": "stream",
     "text": [
      "ALB: 4176/4227 (ETA: 3429.17s)...\r"
     ]
    },
    {
     "name": "stdout",
     "output_type": "stream",
     "text": [
      "ALB: 4192/4227 (ETA: 3257.90s)...\r"
     ]
    },
    {
     "name": "stdout",
     "output_type": "stream",
     "text": [
      "ALB: 4208/4227 (ETA: 3183.00s)...\r"
     ]
    },
    {
     "name": "stdout",
     "output_type": "stream",
     "text": [
      "ALB: 4224/4227 (ETA: 3140.61s)...\r"
     ]
    },
    {
     "name": "stdout",
     "output_type": "stream",
     "text": [
      "                                                  \rALB: Done\nBET: 0000/0351 (ETA: 3157.87s)...\r"
     ]
    },
    {
     "name": "stdout",
     "output_type": "stream",
     "text": [
      "BET: 0016/0351 (ETA: 3158.61s)...\r"
     ]
    },
    {
     "name": "stdout",
     "output_type": "stream",
     "text": [
      "BET: 0032/0351 (ETA: 3155.32s)...\r"
     ]
    },
    {
     "name": "stdout",
     "output_type": "stream",
     "text": [
      "BET: 0048/0351 (ETA: 3172.47s)...\r"
     ]
    },
    {
     "name": "stdout",
     "output_type": "stream",
     "text": [
      "BET: 0064/0351 (ETA: 3237.62s)...\r"
     ]
    },
    {
     "name": "stdout",
     "output_type": "stream",
     "text": [
      "BET: 0080/0351 (ETA: 3249.96s)...\r"
     ]
    },
    {
     "name": "stdout",
     "output_type": "stream",
     "text": [
      "BET: 0096/0351 (ETA: 3305.81s)...\r"
     ]
    },
    {
     "name": "stdout",
     "output_type": "stream",
     "text": [
      "BET: 0112/0351 (ETA: 3318.38s)...\r"
     ]
    },
    {
     "name": "stdout",
     "output_type": "stream",
     "text": [
      "BET: 0128/0351 (ETA: 3299.98s)...\r"
     ]
    },
    {
     "name": "stdout",
     "output_type": "stream",
     "text": [
      "BET: 0144/0351 (ETA: 3249.94s)...\r"
     ]
    },
    {
     "name": "stdout",
     "output_type": "stream",
     "text": [
      "BET: 0160/0351 (ETA: 3223.22s)...\r"
     ]
    },
    {
     "name": "stdout",
     "output_type": "stream",
     "text": [
      "BET: 0176/0351 (ETA: 3196.37s)...\r"
     ]
    },
    {
     "name": "stdout",
     "output_type": "stream",
     "text": [
      "BET: 0192/0351 (ETA: 3114.91s)...\r"
     ]
    },
    {
     "name": "stdout",
     "output_type": "stream",
     "text": [
      "BET: 0208/0351 (ETA: 3075.37s)...\r"
     ]
    },
    {
     "name": "stdout",
     "output_type": "stream",
     "text": [
      "BET: 0224/0351 (ETA: 3027.00s)...\r"
     ]
    },
    {
     "name": "stdout",
     "output_type": "stream",
     "text": [
      "BET: 0240/0351 (ETA: 3034.41s)...\r"
     ]
    },
    {
     "name": "stdout",
     "output_type": "stream",
     "text": [
      "BET: 0256/0351 (ETA: 2963.26s)...\r"
     ]
    },
    {
     "name": "stdout",
     "output_type": "stream",
     "text": [
      "BET: 0272/0351 (ETA: 3033.71s)...\r"
     ]
    },
    {
     "name": "stdout",
     "output_type": "stream",
     "text": [
      "BET: 0288/0351 (ETA: 3020.13s)...\r"
     ]
    },
    {
     "name": "stdout",
     "output_type": "stream",
     "text": [
      "BET: 0304/0351 (ETA: 3064.23s)...\r"
     ]
    },
    {
     "name": "stdout",
     "output_type": "stream",
     "text": [
      "BET: 0320/0351 (ETA: 3041.10s)...\r"
     ]
    },
    {
     "name": "stdout",
     "output_type": "stream",
     "text": [
      "BET: 0336/0351 (ETA: 3092.29s)...\r"
     ]
    },
    {
     "name": "stdout",
     "output_type": "stream",
     "text": [
      "                                                  \rBET: Done\nDOL: 0000/0276 (ETA: 2998.46s)...\r"
     ]
    },
    {
     "name": "stdout",
     "output_type": "stream",
     "text": [
      "DOL: 0016/0276 (ETA: 2988.09s)...\r"
     ]
    },
    {
     "name": "stdout",
     "output_type": "stream",
     "text": [
      "DOL: 0032/0276 (ETA: 2952.87s)...\r"
     ]
    },
    {
     "name": "stdout",
     "output_type": "stream",
     "text": [
      "DOL: 0048/0276 (ETA: 2955.81s)...\r"
     ]
    },
    {
     "name": "stdout",
     "output_type": "stream",
     "text": [
      "DOL: 0064/0276 (ETA: 2914.39s)...\r"
     ]
    },
    {
     "name": "stdout",
     "output_type": "stream",
     "text": [
      "DOL: 0080/0276 (ETA: 2915.84s)...\r"
     ]
    },
    {
     "name": "stdout",
     "output_type": "stream",
     "text": [
      "DOL: 0096/0276 (ETA: 2940.05s)...\r"
     ]
    },
    {
     "name": "stdout",
     "output_type": "stream",
     "text": [
      "DOL: 0112/0276 (ETA: 2932.65s)...\r"
     ]
    },
    {
     "name": "stdout",
     "output_type": "stream",
     "text": [
      "DOL: 0128/0276 (ETA: 2894.95s)...\r"
     ]
    },
    {
     "name": "stdout",
     "output_type": "stream",
     "text": [
      "DOL: 0144/0276 (ETA: 2903.75s)...\r"
     ]
    },
    {
     "name": "stdout",
     "output_type": "stream",
     "text": [
      "DOL: 0160/0276 (ETA: 2906.35s)...\r"
     ]
    },
    {
     "name": "stdout",
     "output_type": "stream",
     "text": [
      "DOL: 0176/0276 (ETA: 2891.42s)...\r"
     ]
    },
    {
     "name": "stdout",
     "output_type": "stream",
     "text": [
      "DOL: 0192/0276 (ETA: 2857.33s)...\r"
     ]
    },
    {
     "name": "stdout",
     "output_type": "stream",
     "text": [
      "DOL: 0208/0276 (ETA: 2875.51s)...\r"
     ]
    },
    {
     "name": "stdout",
     "output_type": "stream",
     "text": [
      "DOL: 0224/0276 (ETA: 2853.55s)...\r"
     ]
    },
    {
     "name": "stdout",
     "output_type": "stream",
     "text": [
      "DOL: 0240/0276 (ETA: 3013.48s)...\r"
     ]
    },
    {
     "name": "stdout",
     "output_type": "stream",
     "text": [
      "DOL: 0256/0276 (ETA: 3104.94s)...\r"
     ]
    },
    {
     "name": "stdout",
     "output_type": "stream",
     "text": [
      "DOL: 0272/0276 (ETA: 3184.10s)...\r"
     ]
    },
    {
     "name": "stdout",
     "output_type": "stream",
     "text": [
      "                                                  \rDOL: Done\nLAG: 0000/0150 (ETA: 3160.76s)...\r"
     ]
    },
    {
     "name": "stdout",
     "output_type": "stream",
     "text": [
      "LAG: 0016/0150 (ETA: 3137.59s)...\r"
     ]
    },
    {
     "name": "stdout",
     "output_type": "stream",
     "text": [
      "LAG: 0032/0150 (ETA: 2961.36s)...\r"
     ]
    },
    {
     "name": "stdout",
     "output_type": "stream",
     "text": [
      "LAG: 0048/0150 (ETA: 2814.89s)...\r"
     ]
    },
    {
     "name": "stdout",
     "output_type": "stream",
     "text": [
      "LAG: 0064/0150 (ETA: 2743.55s)...\r"
     ]
    },
    {
     "name": "stdout",
     "output_type": "stream",
     "text": [
      "LAG: 0080/0150 (ETA: 2728.61s)...\r"
     ]
    },
    {
     "name": "stdout",
     "output_type": "stream",
     "text": [
      "LAG: 0096/0150 (ETA: 2702.93s)...\r"
     ]
    },
    {
     "name": "stdout",
     "output_type": "stream",
     "text": [
      "LAG: 0112/0150 (ETA: 2687.79s)...\r"
     ]
    },
    {
     "name": "stdout",
     "output_type": "stream",
     "text": [
      "LAG: 0128/0150 (ETA: 2708.54s)...\r"
     ]
    },
    {
     "name": "stdout",
     "output_type": "stream",
     "text": [
      "LAG: 0144/0150 (ETA: 2696.00s)...\r"
     ]
    },
    {
     "name": "stdout",
     "output_type": "stream",
     "text": [
      "                                                  \rLAG: Done\nNoF: 0000/1167 (ETA: 2695.95s)...\r"
     ]
    },
    {
     "name": "stdout",
     "output_type": "stream",
     "text": [
      "NoF: 0016/1167 (ETA: 2702.40s)...\r"
     ]
    },
    {
     "name": "stdout",
     "output_type": "stream",
     "text": [
      "NoF: 0032/1167 (ETA: 2688.49s)...\r"
     ]
    },
    {
     "name": "stdout",
     "output_type": "stream",
     "text": [
      "NoF: 0048/1167 (ETA: 2668.15s)...\r"
     ]
    },
    {
     "name": "stdout",
     "output_type": "stream",
     "text": [
      "NoF: 0064/1167 (ETA: 2644.81s)...\r"
     ]
    },
    {
     "name": "stdout",
     "output_type": "stream",
     "text": [
      "NoF: 0080/1167 (ETA: 2649.22s)...\r"
     ]
    },
    {
     "name": "stdout",
     "output_type": "stream",
     "text": [
      "NoF: 0096/1167 (ETA: 2673.51s)...\r"
     ]
    },
    {
     "name": "stdout",
     "output_type": "stream",
     "text": [
      "NoF: 0112/1167 (ETA: 2667.14s)...\r"
     ]
    },
    {
     "name": "stdout",
     "output_type": "stream",
     "text": [
      "NoF: 0128/1167 (ETA: 2647.46s)...\r"
     ]
    },
    {
     "name": "stdout",
     "output_type": "stream",
     "text": [
      "NoF: 0144/1167 (ETA: 2621.99s)...\r"
     ]
    },
    {
     "name": "stdout",
     "output_type": "stream",
     "text": [
      "NoF: 0160/1167 (ETA: 2614.51s)...\r"
     ]
    },
    {
     "name": "stdout",
     "output_type": "stream",
     "text": [
      "NoF: 0176/1167 (ETA: 2640.30s)...\r"
     ]
    },
    {
     "name": "stdout",
     "output_type": "stream",
     "text": [
      "NoF: 0192/1167 (ETA: 2740.34s)...\r"
     ]
    },
    {
     "name": "stdout",
     "output_type": "stream",
     "text": [
      "NoF: 0208/1167 (ETA: 2906.05s)...\r"
     ]
    },
    {
     "name": "stdout",
     "output_type": "stream",
     "text": [
      "NoF: 0224/1167 (ETA: 3019.90s)...\r"
     ]
    },
    {
     "name": "stdout",
     "output_type": "stream",
     "text": [
      "NoF: 0240/1167 (ETA: 3053.05s)...\r"
     ]
    },
    {
     "name": "stdout",
     "output_type": "stream",
     "text": [
      "NoF: 0256/1167 (ETA: 2998.58s)...\r"
     ]
    },
    {
     "name": "stdout",
     "output_type": "stream",
     "text": [
      "NoF: 0272/1167 (ETA: 2931.75s)...\r"
     ]
    },
    {
     "name": "stdout",
     "output_type": "stream",
     "text": [
      "NoF: 0288/1167 (ETA: 2757.48s)...\r"
     ]
    },
    {
     "name": "stdout",
     "output_type": "stream",
     "text": [
      "NoF: 0304/1167 (ETA: 2641.92s)...\r"
     ]
    },
    {
     "name": "stdout",
     "output_type": "stream",
     "text": [
      "NoF: 0320/1167 (ETA: 2576.14s)...\r"
     ]
    },
    {
     "name": "stdout",
     "output_type": "stream",
     "text": [
      "NoF: 0336/1167 (ETA: 2541.93s)...\r"
     ]
    },
    {
     "name": "stdout",
     "output_type": "stream",
     "text": [
      "NoF: 0352/1167 (ETA: 2458.66s)...\r"
     ]
    },
    {
     "name": "stdout",
     "output_type": "stream",
     "text": [
      "NoF: 0368/1167 (ETA: 2469.62s)...\r"
     ]
    },
    {
     "name": "stdout",
     "output_type": "stream",
     "text": [
      "NoF: 0384/1167 (ETA: 2446.53s)...\r"
     ]
    },
    {
     "name": "stdout",
     "output_type": "stream",
     "text": [
      "NoF: 0400/1167 (ETA: 2419.61s)...\r"
     ]
    },
    {
     "name": "stdout",
     "output_type": "stream",
     "text": [
      "NoF: 0416/1167 (ETA: 2398.24s)...\r"
     ]
    },
    {
     "name": "stdout",
     "output_type": "stream",
     "text": [
      "NoF: 0432/1167 (ETA: 2473.77s)...\r"
     ]
    },
    {
     "name": "stdout",
     "output_type": "stream",
     "text": [
      "NoF: 0448/1167 (ETA: 2436.39s)...\r"
     ]
    },
    {
     "name": "stdout",
     "output_type": "stream",
     "text": [
      "NoF: 0464/1167 (ETA: 2426.90s)...\r"
     ]
    },
    {
     "name": "stdout",
     "output_type": "stream",
     "text": [
      "NoF: 0480/1167 (ETA: 2433.04s)...\r"
     ]
    },
    {
     "name": "stdout",
     "output_type": "stream",
     "text": [
      "NoF: 0496/1167 (ETA: 2464.78s)...\r"
     ]
    },
    {
     "name": "stdout",
     "output_type": "stream",
     "text": [
      "NoF: 0512/1167 (ETA: 2430.16s)...\r"
     ]
    },
    {
     "name": "stdout",
     "output_type": "stream",
     "text": [
      "NoF: 0528/1167 (ETA: 2615.02s)...\r"
     ]
    },
    {
     "name": "stdout",
     "output_type": "stream",
     "text": [
      "NoF: 0544/1167 (ETA: 2694.00s)...\r"
     ]
    },
    {
     "name": "stdout",
     "output_type": "stream",
     "text": [
      "NoF: 0560/1167 (ETA: 2713.65s)...\r"
     ]
    },
    {
     "name": "stdout",
     "output_type": "stream",
     "text": [
      "NoF: 0576/1167 (ETA: 2710.66s)...\r"
     ]
    },
    {
     "name": "stdout",
     "output_type": "stream",
     "text": [
      "NoF: 0592/1167 (ETA: 2635.05s)...\r"
     ]
    },
    {
     "name": "stdout",
     "output_type": "stream",
     "text": [
      "NoF: 0608/1167 (ETA: 2446.40s)...\r"
     ]
    },
    {
     "name": "stdout",
     "output_type": "stream",
     "text": [
      "NoF: 0624/1167 (ETA: 2353.14s)...\r"
     ]
    },
    {
     "name": "stdout",
     "output_type": "stream",
     "text": [
      "NoF: 0640/1167 (ETA: 2297.49s)...\r"
     ]
    },
    {
     "name": "stdout",
     "output_type": "stream",
     "text": [
      "NoF: 0656/1167 (ETA: 2228.79s)...\r"
     ]
    },
    {
     "name": "stdout",
     "output_type": "stream",
     "text": [
      "NoF: 0672/1167 (ETA: 2226.07s)...\r"
     ]
    },
    {
     "name": "stdout",
     "output_type": "stream",
     "text": [
      "NoF: 0688/1167 (ETA: 2223.10s)...\r"
     ]
    },
    {
     "name": "stdout",
     "output_type": "stream",
     "text": [
      "NoF: 0704/1167 (ETA: 2228.73s)...\r"
     ]
    },
    {
     "name": "stdout",
     "output_type": "stream",
     "text": [
      "NoF: 0720/1167 (ETA: 2214.82s)...\r"
     ]
    },
    {
     "name": "stdout",
     "output_type": "stream",
     "text": [
      "NoF: 0736/1167 (ETA: 2243.32s)...\r"
     ]
    },
    {
     "name": "stdout",
     "output_type": "stream",
     "text": [
      "NoF: 0752/1167 (ETA: 2236.46s)...\r"
     ]
    },
    {
     "name": "stdout",
     "output_type": "stream",
     "text": [
      "NoF: 0768/1167 (ETA: 2227.57s)...\r"
     ]
    },
    {
     "name": "stdout",
     "output_type": "stream",
     "text": [
      "NoF: 0784/1167 (ETA: 2205.46s)...\r"
     ]
    },
    {
     "name": "stdout",
     "output_type": "stream",
     "text": [
      "NoF: 0800/1167 (ETA: 2196.73s)...\r"
     ]
    },
    {
     "name": "stdout",
     "output_type": "stream",
     "text": [
      "NoF: 0816/1167 (ETA: 2156.34s)...\r"
     ]
    },
    {
     "name": "stdout",
     "output_type": "stream",
     "text": [
      "NoF: 0832/1167 (ETA: 2171.62s)...\r"
     ]
    },
    {
     "name": "stdout",
     "output_type": "stream",
     "text": [
      "NoF: 0848/1167 (ETA: 2152.81s)...\r"
     ]
    },
    {
     "name": "stdout",
     "output_type": "stream",
     "text": [
      "NoF: 0864/1167 (ETA: 2148.18s)...\r"
     ]
    },
    {
     "name": "stdout",
     "output_type": "stream",
     "text": [
      "NoF: 0880/1167 (ETA: 2143.46s)...\r"
     ]
    },
    {
     "name": "stdout",
     "output_type": "stream",
     "text": [
      "NoF: 0896/1167 (ETA: 2138.28s)...\r"
     ]
    },
    {
     "name": "stdout",
     "output_type": "stream",
     "text": [
      "NoF: 0912/1167 (ETA: 2120.42s)...\r"
     ]
    },
    {
     "name": "stdout",
     "output_type": "stream",
     "text": [
      "NoF: 0928/1167 (ETA: 2099.35s)...\r"
     ]
    },
    {
     "name": "stdout",
     "output_type": "stream",
     "text": [
      "NoF: 0944/1167 (ETA: 2075.10s)...\r"
     ]
    },
    {
     "name": "stdout",
     "output_type": "stream",
     "text": [
      "NoF: 0960/1167 (ETA: 2067.98s)...\r"
     ]
    },
    {
     "name": "stdout",
     "output_type": "stream",
     "text": [
      "NoF: 0976/1167 (ETA: 2041.48s)...\r"
     ]
    },
    {
     "name": "stdout",
     "output_type": "stream",
     "text": [
      "NoF: 0992/1167 (ETA: 2048.28s)...\r"
     ]
    },
    {
     "name": "stdout",
     "output_type": "stream",
     "text": [
      "NoF: 1008/1167 (ETA: 2033.86s)...\r"
     ]
    },
    {
     "name": "stdout",
     "output_type": "stream",
     "text": [
      "NoF: 1024/1167 (ETA: 2035.02s)...\r"
     ]
    },
    {
     "name": "stdout",
     "output_type": "stream",
     "text": [
      "NoF: 1040/1167 (ETA: 2012.45s)...\r"
     ]
    },
    {
     "name": "stdout",
     "output_type": "stream",
     "text": [
      "NoF: 1056/1167 (ETA: 2035.06s)...\r"
     ]
    },
    {
     "name": "stdout",
     "output_type": "stream",
     "text": [
      "NoF: 1072/1167 (ETA: 1997.23s)...\r"
     ]
    },
    {
     "name": "stdout",
     "output_type": "stream",
     "text": [
      "NoF: 1088/1167 (ETA: 2000.53s)...\r"
     ]
    },
    {
     "name": "stdout",
     "output_type": "stream",
     "text": [
      "NoF: 1104/1167 (ETA: 1988.38s)...\r"
     ]
    },
    {
     "name": "stdout",
     "output_type": "stream",
     "text": [
      "NoF: 1120/1167 (ETA: 2010.12s)...\r"
     ]
    },
    {
     "name": "stdout",
     "output_type": "stream",
     "text": [
      "NoF: 1136/1167 (ETA: 1979.03s)...\r"
     ]
    },
    {
     "name": "stdout",
     "output_type": "stream",
     "text": [
      "NoF: 1152/1167 (ETA: 1970.37s)...\r"
     ]
    },
    {
     "name": "stdout",
     "output_type": "stream",
     "text": [
      "                                                  \rNoF: Done\nOTHER: 0000/0714 (ETA: 1942.13s)...\r"
     ]
    },
    {
     "name": "stdout",
     "output_type": "stream",
     "text": [
      "OTHER: 0016/0714 (ETA: 1905.90s)...\r"
     ]
    },
    {
     "name": "stdout",
     "output_type": "stream",
     "text": [
      "OTHER: 0032/0714 (ETA: 1878.47s)...\r"
     ]
    },
    {
     "name": "stdout",
     "output_type": "stream",
     "text": [
      "OTHER: 0048/0714 (ETA: 1879.51s)...\r"
     ]
    },
    {
     "name": "stdout",
     "output_type": "stream",
     "text": [
      "OTHER: 0064/0714 (ETA: 1858.85s)...\r"
     ]
    },
    {
     "name": "stdout",
     "output_type": "stream",
     "text": [
      "OTHER: 0080/0714 (ETA: 1847.93s)...\r"
     ]
    },
    {
     "name": "stdout",
     "output_type": "stream",
     "text": [
      "OTHER: 0096/0714 (ETA: 1847.54s)...\r"
     ]
    },
    {
     "name": "stdout",
     "output_type": "stream",
     "text": [
      "OTHER: 0112/0714 (ETA: 1828.53s)...\r"
     ]
    },
    {
     "name": "stdout",
     "output_type": "stream",
     "text": [
      "OTHER: 0128/0714 (ETA: 1798.86s)...\r"
     ]
    },
    {
     "name": "stdout",
     "output_type": "stream",
     "text": [
      "OTHER: 0144/0714 (ETA: 1790.93s)...\r"
     ]
    },
    {
     "name": "stdout",
     "output_type": "stream",
     "text": [
      "OTHER: 0160/0714 (ETA: 1780.27s)...\r"
     ]
    },
    {
     "name": "stdout",
     "output_type": "stream",
     "text": [
      "OTHER: 0176/0714 (ETA: 1781.45s)...\r"
     ]
    },
    {
     "name": "stdout",
     "output_type": "stream",
     "text": [
      "OTHER: 0192/0714 (ETA: 1783.12s)...\r"
     ]
    },
    {
     "name": "stdout",
     "output_type": "stream",
     "text": [
      "OTHER: 0208/0714 (ETA: 1763.79s)...\r"
     ]
    },
    {
     "name": "stdout",
     "output_type": "stream",
     "text": [
      "OTHER: 0224/0714 (ETA: 1779.34s)...\r"
     ]
    },
    {
     "name": "stdout",
     "output_type": "stream",
     "text": [
      "OTHER: 0240/0714 (ETA: 1922.76s)...\r"
     ]
    },
    {
     "name": "stdout",
     "output_type": "stream",
     "text": [
      "OTHER: 0256/0714 (ETA: 2026.67s)...\r"
     ]
    },
    {
     "name": "stdout",
     "output_type": "stream",
     "text": [
      "OTHER: 0272/0714 (ETA: 2070.96s)...\r"
     ]
    },
    {
     "name": "stdout",
     "output_type": "stream",
     "text": [
      "OTHER: 0288/0714 (ETA: 2151.59s)...\r"
     ]
    },
    {
     "name": "stdout",
     "output_type": "stream",
     "text": [
      "OTHER: 0304/0714 (ETA: 2256.10s)...\r"
     ]
    },
    {
     "name": "stdout",
     "output_type": "stream",
     "text": [
      "OTHER: 0320/0714 (ETA: 2140.68s)...\r"
     ]
    },
    {
     "name": "stdout",
     "output_type": "stream",
     "text": [
      "OTHER: 0336/0714 (ETA: 2050.14s)...\r"
     ]
    },
    {
     "name": "stdout",
     "output_type": "stream",
     "text": [
      "OTHER: 0352/0714 (ETA: 2069.52s)...\r"
     ]
    },
    {
     "name": "stdout",
     "output_type": "stream",
     "text": [
      "OTHER: 0368/0714 (ETA: 2032.35s)...\r"
     ]
    },
    {
     "name": "stdout",
     "output_type": "stream",
     "text": [
      "OTHER: 0384/0714 (ETA: 2093.88s)...\r"
     ]
    },
    {
     "name": "stdout",
     "output_type": "stream",
     "text": [
      "OTHER: 0400/0714 (ETA: 2184.52s)...\r"
     ]
    },
    {
     "name": "stdout",
     "output_type": "stream",
     "text": [
      "OTHER: 0416/0714 (ETA: 2230.79s)...\r"
     ]
    },
    {
     "name": "stdout",
     "output_type": "stream",
     "text": [
      "OTHER: 0432/0714 (ETA: 2200.31s)...\r"
     ]
    },
    {
     "name": "stdout",
     "output_type": "stream",
     "text": [
      "OTHER: 0448/0714 (ETA: 2230.54s)...\r"
     ]
    },
    {
     "name": "stdout",
     "output_type": "stream",
     "text": [
      "OTHER: 0464/0714 (ETA: 2128.43s)...\r"
     ]
    },
    {
     "name": "stdout",
     "output_type": "stream",
     "text": [
      "OTHER: 0480/0714 (ETA: 2154.51s)...\r"
     ]
    },
    {
     "name": "stdout",
     "output_type": "stream",
     "text": [
      "OTHER: 0496/0714 (ETA: 2055.57s)...\r"
     ]
    },
    {
     "name": "stdout",
     "output_type": "stream",
     "text": [
      "OTHER: 0512/0714 (ETA: 1977.46s)...\r"
     ]
    },
    {
     "name": "stdout",
     "output_type": "stream",
     "text": [
      "OTHER: 0528/0714 (ETA: 1870.02s)...\r"
     ]
    },
    {
     "name": "stdout",
     "output_type": "stream",
     "text": [
      "OTHER: 0544/0714 (ETA: 1747.97s)...\r"
     ]
    },
    {
     "name": "stdout",
     "output_type": "stream",
     "text": [
      "OTHER: 0560/0714 (ETA: 1563.89s)...\r"
     ]
    },
    {
     "name": "stdout",
     "output_type": "stream",
     "text": [
      "OTHER: 0576/0714 (ETA: 1549.05s)...\r"
     ]
    },
    {
     "name": "stdout",
     "output_type": "stream",
     "text": [
      "OTHER: 0592/0714 (ETA: 1537.48s)...\r"
     ]
    },
    {
     "name": "stdout",
     "output_type": "stream",
     "text": [
      "OTHER: 0608/0714 (ETA: 1545.76s)...\r"
     ]
    },
    {
     "name": "stdout",
     "output_type": "stream",
     "text": [
      "OTHER: 0624/0714 (ETA: 1546.67s)...\r"
     ]
    },
    {
     "name": "stdout",
     "output_type": "stream",
     "text": [
      "OTHER: 0640/0714 (ETA: 1551.78s)...\r"
     ]
    },
    {
     "name": "stdout",
     "output_type": "stream",
     "text": [
      "OTHER: 0656/0714 (ETA: 1593.38s)...\r"
     ]
    },
    {
     "name": "stdout",
     "output_type": "stream",
     "text": [
      "OTHER: 0672/0714 (ETA: 1662.62s)...\r"
     ]
    },
    {
     "name": "stdout",
     "output_type": "stream",
     "text": [
      "OTHER: 0688/0714 (ETA: 1669.78s)...\r"
     ]
    },
    {
     "name": "stdout",
     "output_type": "stream",
     "text": [
      "OTHER: 0704/0714 (ETA: 1663.74s)...\r"
     ]
    },
    {
     "name": "stdout",
     "output_type": "stream",
     "text": [
      "                                                  \rOTHER: Done\nSHARK: 0000/0366 (ETA: 1644.35s)...\r"
     ]
    },
    {
     "name": "stdout",
     "output_type": "stream",
     "text": [
      "SHARK: 0016/0366 (ETA: 1587.95s)...\r"
     ]
    },
    {
     "name": "stdout",
     "output_type": "stream",
     "text": [
      "SHARK: 0032/0366 (ETA: 1499.52s)...\r"
     ]
    },
    {
     "name": "stdout",
     "output_type": "stream",
     "text": [
      "SHARK: 0048/0366 (ETA: 1478.60s)...\r"
     ]
    },
    {
     "name": "stdout",
     "output_type": "stream",
     "text": [
      "SHARK: 0064/0366 (ETA: 1469.21s)...\r"
     ]
    },
    {
     "name": "stdout",
     "output_type": "stream",
     "text": [
      "SHARK: 0080/0366 (ETA: 1464.30s)...\r"
     ]
    },
    {
     "name": "stdout",
     "output_type": "stream",
     "text": [
      "SHARK: 0096/0366 (ETA: 1461.91s)...\r"
     ]
    },
    {
     "name": "stdout",
     "output_type": "stream",
     "text": [
      "SHARK: 0112/0366 (ETA: 1458.80s)...\r"
     ]
    },
    {
     "name": "stdout",
     "output_type": "stream",
     "text": [
      "SHARK: 0128/0366 (ETA: 1455.55s)...\r"
     ]
    },
    {
     "name": "stdout",
     "output_type": "stream",
     "text": [
      "SHARK: 0144/0366 (ETA: 1442.32s)...\r"
     ]
    },
    {
     "name": "stdout",
     "output_type": "stream",
     "text": [
      "SHARK: 0160/0366 (ETA: 1436.78s)...\r"
     ]
    },
    {
     "name": "stdout",
     "output_type": "stream",
     "text": [
      "SHARK: 0176/0366 (ETA: 1421.15s)...\r"
     ]
    },
    {
     "name": "stdout",
     "output_type": "stream",
     "text": [
      "SHARK: 0192/0366 (ETA: 1420.01s)...\r"
     ]
    },
    {
     "name": "stdout",
     "output_type": "stream",
     "text": [
      "SHARK: 0208/0366 (ETA: 1394.95s)...\r"
     ]
    },
    {
     "name": "stdout",
     "output_type": "stream",
     "text": [
      "SHARK: 0224/0366 (ETA: 1396.49s)...\r"
     ]
    },
    {
     "name": "stdout",
     "output_type": "stream",
     "text": [
      "SHARK: 0240/0366 (ETA: 1376.18s)...\r"
     ]
    },
    {
     "name": "stdout",
     "output_type": "stream",
     "text": [
      "SHARK: 0256/0366 (ETA: 1368.04s)...\r"
     ]
    },
    {
     "name": "stdout",
     "output_type": "stream",
     "text": [
      "SHARK: 0272/0366 (ETA: 1350.16s)...\r"
     ]
    },
    {
     "name": "stdout",
     "output_type": "stream",
     "text": [
      "SHARK: 0288/0366 (ETA: 1336.96s)...\r"
     ]
    },
    {
     "name": "stdout",
     "output_type": "stream",
     "text": [
      "SHARK: 0304/0366 (ETA: 1324.44s)...\r"
     ]
    },
    {
     "name": "stdout",
     "output_type": "stream",
     "text": [
      "SHARK: 0320/0366 (ETA: 1321.82s)...\r"
     ]
    },
    {
     "name": "stdout",
     "output_type": "stream",
     "text": [
      "SHARK: 0336/0366 (ETA: 1318.95s)...\r"
     ]
    },
    {
     "name": "stdout",
     "output_type": "stream",
     "text": [
      "SHARK: 0352/0366 (ETA: 1303.98s)...\r"
     ]
    },
    {
     "name": "stdout",
     "output_type": "stream",
     "text": [
      "                                                  \rSHARK: Done\nYFT: 0000/1875 (ETA: 1301.89s)...\r"
     ]
    },
    {
     "name": "stdout",
     "output_type": "stream",
     "text": [
      "YFT: 0016/1875 (ETA: 1291.93s)...\r"
     ]
    },
    {
     "name": "stdout",
     "output_type": "stream",
     "text": [
      "YFT: 0032/1875 (ETA: 1287.41s)...\r"
     ]
    },
    {
     "name": "stdout",
     "output_type": "stream",
     "text": [
      "YFT: 0048/1875 (ETA: 1273.07s)...\r"
     ]
    },
    {
     "name": "stdout",
     "output_type": "stream",
     "text": [
      "YFT: 0064/1875 (ETA: 1273.61s)...\r"
     ]
    },
    {
     "name": "stdout",
     "output_type": "stream",
     "text": [
      "YFT: 0080/1875 (ETA: 1259.25s)...\r"
     ]
    },
    {
     "name": "stdout",
     "output_type": "stream",
     "text": [
      "YFT: 0096/1875 (ETA: 1314.22s)...\r"
     ]
    },
    {
     "name": "stdout",
     "output_type": "stream",
     "text": [
      "YFT: 0112/1875 (ETA: 1312.39s)...\r"
     ]
    },
    {
     "name": "stdout",
     "output_type": "stream",
     "text": [
      "YFT: 0128/1875 (ETA: 1302.61s)...\r"
     ]
    },
    {
     "name": "stdout",
     "output_type": "stream",
     "text": [
      "YFT: 0144/1875 (ETA: 1293.67s)...\r"
     ]
    },
    {
     "name": "stdout",
     "output_type": "stream",
     "text": [
      "YFT: 0160/1875 (ETA: 1281.67s)...\r"
     ]
    },
    {
     "name": "stdout",
     "output_type": "stream",
     "text": [
      "YFT: 0176/1875 (ETA: 1214.14s)...\r"
     ]
    },
    {
     "name": "stdout",
     "output_type": "stream",
     "text": [
      "YFT: 0192/1875 (ETA: 1306.63s)...\r"
     ]
    },
    {
     "name": "stdout",
     "output_type": "stream",
     "text": [
      "YFT: 0208/1875 (ETA: 1314.34s)...\r"
     ]
    },
    {
     "name": "stdout",
     "output_type": "stream",
     "text": [
      "YFT: 0224/1875 (ETA: 1341.53s)...\r"
     ]
    },
    {
     "name": "stdout",
     "output_type": "stream",
     "text": [
      "YFT: 0240/1875 (ETA: 1376.01s)...\r"
     ]
    },
    {
     "name": "stdout",
     "output_type": "stream",
     "text": [
      "YFT: 0256/1875 (ETA: 1395.46s)...\r"
     ]
    },
    {
     "name": "stdout",
     "output_type": "stream",
     "text": [
      "YFT: 0272/1875 (ETA: 1275.86s)...\r"
     ]
    },
    {
     "name": "stdout",
     "output_type": "stream",
     "text": [
      "YFT: 0288/1875 (ETA: 1251.41s)...\r"
     ]
    },
    {
     "name": "stdout",
     "output_type": "stream",
     "text": [
      "YFT: 0304/1875 (ETA: 1208.80s)...\r"
     ]
    },
    {
     "name": "stdout",
     "output_type": "stream",
     "text": [
      "YFT: 0320/1875 (ETA: 1188.90s)...\r"
     ]
    },
    {
     "name": "stdout",
     "output_type": "stream",
     "text": [
      "YFT: 0336/1875 (ETA: 1165.28s)...\r"
     ]
    },
    {
     "name": "stdout",
     "output_type": "stream",
     "text": [
      "YFT: 0352/1875 (ETA: 1175.61s)...\r"
     ]
    },
    {
     "name": "stdout",
     "output_type": "stream",
     "text": [
      "YFT: 0368/1875 (ETA: 1191.62s)...\r"
     ]
    },
    {
     "name": "stdout",
     "output_type": "stream",
     "text": [
      "YFT: 0384/1875 (ETA: 1217.01s)...\r"
     ]
    },
    {
     "name": "stdout",
     "output_type": "stream",
     "text": [
      "YFT: 0400/1875 (ETA: 1168.31s)...\r"
     ]
    },
    {
     "name": "stdout",
     "output_type": "stream",
     "text": [
      "YFT: 0416/1875 (ETA: 1130.71s)...\r"
     ]
    },
    {
     "name": "stdout",
     "output_type": "stream",
     "text": [
      "YFT: 0432/1875 (ETA: 1135.89s)...\r"
     ]
    },
    {
     "name": "stdout",
     "output_type": "stream",
     "text": [
      "YFT: 0448/1875 (ETA: 1132.85s)...\r"
     ]
    },
    {
     "name": "stdout",
     "output_type": "stream",
     "text": [
      "YFT: 0464/1875 (ETA: 1105.19s)...\r"
     ]
    },
    {
     "name": "stdout",
     "output_type": "stream",
     "text": [
      "YFT: 0480/1875 (ETA: 1098.42s)...\r"
     ]
    },
    {
     "name": "stdout",
     "output_type": "stream",
     "text": [
      "YFT: 0496/1875 (ETA: 1083.19s)...\r"
     ]
    },
    {
     "name": "stdout",
     "output_type": "stream",
     "text": [
      "YFT: 0512/1875 (ETA: 1022.85s)...\r"
     ]
    },
    {
     "name": "stdout",
     "output_type": "stream",
     "text": [
      "YFT: 0528/1875 (ETA: 968.14s)...\r"
     ]
    },
    {
     "name": "stdout",
     "output_type": "stream",
     "text": [
      "YFT: 0544/1875 (ETA: 918.39s)...\r"
     ]
    },
    {
     "name": "stdout",
     "output_type": "stream",
     "text": [
      "YFT: 0560/1875 (ETA: 903.66s)...\r"
     ]
    },
    {
     "name": "stdout",
     "output_type": "stream",
     "text": [
      "YFT: 0576/1875 (ETA: 884.74s)...\r"
     ]
    },
    {
     "name": "stdout",
     "output_type": "stream",
     "text": [
      "YFT: 0592/1875 (ETA: 881.64s)...\r"
     ]
    },
    {
     "name": "stdout",
     "output_type": "stream",
     "text": [
      "YFT: 0608/1875 (ETA: 866.18s)...\r"
     ]
    },
    {
     "name": "stdout",
     "output_type": "stream",
     "text": [
      "YFT: 0624/1875 (ETA: 858.82s)...\r"
     ]
    },
    {
     "name": "stdout",
     "output_type": "stream",
     "text": [
      "YFT: 0640/1875 (ETA: 842.77s)...\r"
     ]
    },
    {
     "name": "stdout",
     "output_type": "stream",
     "text": [
      "YFT: 0656/1875 (ETA: 851.36s)...\r"
     ]
    },
    {
     "name": "stdout",
     "output_type": "stream",
     "text": [
      "YFT: 0672/1875 (ETA: 833.71s)...\r"
     ]
    },
    {
     "name": "stdout",
     "output_type": "stream",
     "text": [
      "YFT: 0688/1875 (ETA: 828.20s)...\r"
     ]
    },
    {
     "name": "stdout",
     "output_type": "stream",
     "text": [
      "YFT: 0704/1875 (ETA: 838.38s)...\r"
     ]
    },
    {
     "name": "stdout",
     "output_type": "stream",
     "text": [
      "YFT: 0720/1875 (ETA: 834.56s)...\r"
     ]
    },
    {
     "name": "stdout",
     "output_type": "stream",
     "text": [
      "YFT: 0736/1875 (ETA: 805.73s)...\r"
     ]
    },
    {
     "name": "stdout",
     "output_type": "stream",
     "text": [
      "YFT: 0752/1875 (ETA: 797.28s)...\r"
     ]
    },
    {
     "name": "stdout",
     "output_type": "stream",
     "text": [
      "YFT: 0768/1875 (ETA: 781.26s)...\r"
     ]
    },
    {
     "name": "stdout",
     "output_type": "stream",
     "text": [
      "YFT: 0784/1875 (ETA: 748.19s)...\r"
     ]
    },
    {
     "name": "stdout",
     "output_type": "stream",
     "text": [
      "YFT: 0800/1875 (ETA: 730.82s)...\r"
     ]
    },
    {
     "name": "stdout",
     "output_type": "stream",
     "text": [
      "YFT: 0816/1875 (ETA: 727.56s)...\r"
     ]
    },
    {
     "name": "stdout",
     "output_type": "stream",
     "text": [
      "YFT: 0832/1875 (ETA: 717.04s)...\r"
     ]
    },
    {
     "name": "stdout",
     "output_type": "stream",
     "text": [
      "YFT: 0848/1875 (ETA: 724.33s)...\r"
     ]
    },
    {
     "name": "stdout",
     "output_type": "stream",
     "text": [
      "YFT: 0864/1875 (ETA: 711.95s)...\r"
     ]
    },
    {
     "name": "stdout",
     "output_type": "stream",
     "text": [
      "YFT: 0880/1875 (ETA: 705.61s)...\r"
     ]
    },
    {
     "name": "stdout",
     "output_type": "stream",
     "text": [
      "YFT: 0896/1875 (ETA: 687.51s)...\r"
     ]
    },
    {
     "name": "stdout",
     "output_type": "stream",
     "text": [
      "YFT: 0912/1875 (ETA: 677.96s)...\r"
     ]
    },
    {
     "name": "stdout",
     "output_type": "stream",
     "text": [
      "YFT: 0928/1875 (ETA: 649.40s)...\r"
     ]
    },
    {
     "name": "stdout",
     "output_type": "stream",
     "text": [
      "YFT: 0944/1875 (ETA: 636.46s)...\r"
     ]
    },
    {
     "name": "stdout",
     "output_type": "stream",
     "text": [
      "YFT: 0960/1875 (ETA: 625.34s)...\r"
     ]
    },
    {
     "name": "stdout",
     "output_type": "stream",
     "text": [
      "YFT: 0976/1875 (ETA: 615.81s)...\r"
     ]
    },
    {
     "name": "stdout",
     "output_type": "stream",
     "text": [
      "YFT: 0992/1875 (ETA: 631.41s)...\r"
     ]
    },
    {
     "name": "stdout",
     "output_type": "stream",
     "text": [
      "YFT: 1008/1875 (ETA: 623.89s)...\r"
     ]
    },
    {
     "name": "stdout",
     "output_type": "stream",
     "text": [
      "YFT: 1024/1875 (ETA: 611.00s)...\r"
     ]
    },
    {
     "name": "stdout",
     "output_type": "stream",
     "text": [
      "YFT: 1040/1875 (ETA: 595.64s)...\r"
     ]
    },
    {
     "name": "stdout",
     "output_type": "stream",
     "text": [
      "YFT: 1056/1875 (ETA: 594.67s)...\r"
     ]
    },
    {
     "name": "stdout",
     "output_type": "stream",
     "text": [
      "YFT: 1072/1875 (ETA: 570.23s)...\r"
     ]
    },
    {
     "name": "stdout",
     "output_type": "stream",
     "text": [
      "YFT: 1088/1875 (ETA: 555.19s)...\r"
     ]
    },
    {
     "name": "stdout",
     "output_type": "stream",
     "text": [
      "YFT: 1104/1875 (ETA: 550.46s)...\r"
     ]
    },
    {
     "name": "stdout",
     "output_type": "stream",
     "text": [
      "YFT: 1120/1875 (ETA: 552.18s)...\r"
     ]
    },
    {
     "name": "stdout",
     "output_type": "stream",
     "text": [
      "YFT: 1136/1875 (ETA: 553.84s)...\r"
     ]
    },
    {
     "name": "stdout",
     "output_type": "stream",
     "text": [
      "YFT: 1152/1875 (ETA: 540.57s)...\r"
     ]
    },
    {
     "name": "stdout",
     "output_type": "stream",
     "text": [
      "YFT: 1168/1875 (ETA: 531.15s)...\r"
     ]
    },
    {
     "name": "stdout",
     "output_type": "stream",
     "text": [
      "YFT: 1184/1875 (ETA: 537.04s)...\r"
     ]
    },
    {
     "name": "stdout",
     "output_type": "stream",
     "text": [
      "YFT: 1200/1875 (ETA: 524.21s)...\r"
     ]
    },
    {
     "name": "stdout",
     "output_type": "stream",
     "text": [
      "YFT: 1216/1875 (ETA: 522.90s)...\r"
     ]
    },
    {
     "name": "stdout",
     "output_type": "stream",
     "text": [
      "YFT: 1232/1875 (ETA: 511.94s)...\r"
     ]
    },
    {
     "name": "stdout",
     "output_type": "stream",
     "text": [
      "YFT: 1248/1875 (ETA: 499.17s)...\r"
     ]
    },
    {
     "name": "stdout",
     "output_type": "stream",
     "text": [
      "YFT: 1264/1875 (ETA: 468.12s)...\r"
     ]
    },
    {
     "name": "stdout",
     "output_type": "stream",
     "text": [
      "YFT: 1280/1875 (ETA: 448.11s)...\r"
     ]
    },
    {
     "name": "stdout",
     "output_type": "stream",
     "text": [
      "YFT: 1296/1875 (ETA: 405.89s)...\r"
     ]
    },
    {
     "name": "stdout",
     "output_type": "stream",
     "text": [
      "YFT: 1312/1875 (ETA: 385.21s)...\r"
     ]
    },
    {
     "name": "stdout",
     "output_type": "stream",
     "text": [
      "YFT: 1328/1875 (ETA: 371.79s)...\r"
     ]
    },
    {
     "name": "stdout",
     "output_type": "stream",
     "text": [
      "YFT: 1344/1875 (ETA: 360.19s)...\r"
     ]
    },
    {
     "name": "stdout",
     "output_type": "stream",
     "text": [
      "YFT: 1360/1875 (ETA: 351.21s)...\r"
     ]
    },
    {
     "name": "stdout",
     "output_type": "stream",
     "text": [
      "YFT: 1376/1875 (ETA: 348.46s)...\r"
     ]
    },
    {
     "name": "stdout",
     "output_type": "stream",
     "text": [
      "YFT: 1392/1875 (ETA: 358.21s)...\r"
     ]
    },
    {
     "name": "stdout",
     "output_type": "stream",
     "text": [
      "YFT: 1408/1875 (ETA: 362.38s)...\r"
     ]
    },
    {
     "name": "stdout",
     "output_type": "stream",
     "text": [
      "YFT: 1424/1875 (ETA: 354.20s)...\r"
     ]
    },
    {
     "name": "stdout",
     "output_type": "stream",
     "text": [
      "YFT: 1440/1875 (ETA: 343.53s)...\r"
     ]
    },
    {
     "name": "stdout",
     "output_type": "stream",
     "text": [
      "YFT: 1456/1875 (ETA: 327.02s)...\r"
     ]
    },
    {
     "name": "stdout",
     "output_type": "stream",
     "text": [
      "YFT: 1472/1875 (ETA: 295.11s)...\r"
     ]
    },
    {
     "name": "stdout",
     "output_type": "stream",
     "text": [
      "YFT: 1488/1875 (ETA: 269.95s)...\r"
     ]
    },
    {
     "name": "stdout",
     "output_type": "stream",
     "text": [
      "YFT: 1504/1875 (ETA: 255.80s)...\r"
     ]
    },
    {
     "name": "stdout",
     "output_type": "stream",
     "text": [
      "YFT: 1520/1875 (ETA: 243.44s)...\r"
     ]
    },
    {
     "name": "stdout",
     "output_type": "stream",
     "text": [
      "YFT: 1536/1875 (ETA: 235.20s)...\r"
     ]
    },
    {
     "name": "stdout",
     "output_type": "stream",
     "text": [
      "YFT: 1552/1875 (ETA: 230.26s)...\r"
     ]
    },
    {
     "name": "stdout",
     "output_type": "stream",
     "text": [
      "YFT: 1568/1875 (ETA: 219.46s)...\r"
     ]
    },
    {
     "name": "stdout",
     "output_type": "stream",
     "text": [
      "YFT: 1584/1875 (ETA: 212.85s)...\r"
     ]
    },
    {
     "name": "stdout",
     "output_type": "stream",
     "text": [
      "YFT: 1600/1875 (ETA: 201.10s)...\r"
     ]
    },
    {
     "name": "stdout",
     "output_type": "stream",
     "text": [
      "YFT: 1616/1875 (ETA: 188.02s)...\r"
     ]
    },
    {
     "name": "stdout",
     "output_type": "stream",
     "text": [
      "YFT: 1632/1875 (ETA: 174.47s)...\r"
     ]
    },
    {
     "name": "stdout",
     "output_type": "stream",
     "text": [
      "YFT: 1648/1875 (ETA: 166.16s)...\r"
     ]
    },
    {
     "name": "stdout",
     "output_type": "stream",
     "text": [
      "YFT: 1664/1875 (ETA: 155.35s)...\r"
     ]
    },
    {
     "name": "stdout",
     "output_type": "stream",
     "text": [
      "YFT: 1680/1875 (ETA: 144.33s)...\r"
     ]
    },
    {
     "name": "stdout",
     "output_type": "stream",
     "text": [
      "YFT: 1696/1875 (ETA: 132.92s)...\r"
     ]
    },
    {
     "name": "stdout",
     "output_type": "stream",
     "text": [
      "YFT: 1712/1875 (ETA: 119.28s)...\r"
     ]
    },
    {
     "name": "stdout",
     "output_type": "stream",
     "text": [
      "YFT: 1728/1875 (ETA: 105.73s)...\r"
     ]
    },
    {
     "name": "stdout",
     "output_type": "stream",
     "text": [
      "YFT: 1744/1875 (ETA: 91.86s)...\r"
     ]
    },
    {
     "name": "stdout",
     "output_type": "stream",
     "text": [
      "YFT: 1760/1875 (ETA: 79.62s)...\r"
     ]
    },
    {
     "name": "stdout",
     "output_type": "stream",
     "text": [
      "YFT: 1776/1875 (ETA: 67.52s)...\r"
     ]
    },
    {
     "name": "stdout",
     "output_type": "stream",
     "text": [
      "YFT: 1792/1875 (ETA: 57.44s)...\r"
     ]
    },
    {
     "name": "stdout",
     "output_type": "stream",
     "text": [
      "YFT: 1808/1875 (ETA: 46.97s)...\r"
     ]
    },
    {
     "name": "stdout",
     "output_type": "stream",
     "text": [
      "YFT: 1824/1875 (ETA: 36.45s)...\r"
     ]
    },
    {
     "name": "stdout",
     "output_type": "stream",
     "text": [
      "YFT: 1840/1875 (ETA: 26.19s)...\r"
     ]
    },
    {
     "name": "stdout",
     "output_type": "stream",
     "text": [
      "YFT: 1856/1875 (ETA: 16.37s)...\r"
     ]
    },
    {
     "name": "stdout",
     "output_type": "stream",
     "text": [
      "YFT: 1872/1875 (ETA: 6.29s)...\r"
     ]
    },
    {
     "name": "stdout",
     "output_type": "stream",
     "text": [
      "                                                  \rYFT: Done\nDone (7125.220876932144)\n"
     ]
    }
   ],
   "source": [
    "from collections import deque\n",
    "from time import time\n",
    "\n",
    "t0 = time()\n",
    "ts = deque(maxlen=5)\n",
    "idxx = 0\n",
    "\n",
    "for path, label in zip(labels_path, labels):\n",
    "    files = os.listdir(path)\n",
    "    files = [f for f in files if \".DS_Store\" not in f]\n",
    "    n_files = len(files)\n",
    "    next_idxx = idxx + n_files\n",
    "    labels_data[idxx:next_idxx] = label2idx[label]\n",
    "    idx = 0\n",
    "    for i in range(math.ceil(n_files / BATCH_SIZE)):\n",
    "        tt0 = time()\n",
    "        eta = np.mean(ts) * (n_images - idxx - idx) if len(ts) != 0 else 999\n",
    "        print('%s: %04d/%04d (ETA: %.2fs)...' %\n",
    "              (label, idx, n_files, eta), end='\\r')\n",
    "        next_idx = min(n_files, idx + BATCH_SIZE)\n",
    "        batch_n = next_idx - idx\n",
    "        batch_x = np.ndarray((batch_n, *SHAPE), dtype=np.float32)\n",
    "        for j in range(batch_n):\n",
    "            img = PIL.Image.open(os.path.join(path, files[idx + j]))\n",
    "            img = img.resize(SHAPE[:2][::-1])\n",
    "            img = np.asarray(img, dtype=np.float32)\n",
    "            batch_x[j] = img\n",
    "    \n",
    "        batch_x = preprocess_input(batch_x)\n",
    "        img_data[idxx + idx:idxx + idx + batch_n] = model.predict(batch_x)\n",
    "        idx = next_idx\n",
    "        ts.append((time() - tt0) / batch_n)\n",
    "    \n",
    "    idxx = next_idxx\n",
    "    print(' '*50, end='\\r')\n",
    "    print('{}: Done'.format(label))\n",
    "    \n",
    "print('Done ({})'.format((time() - t0)))"
   ]
  },
  {
   "cell_type": "code",
   "execution_count": 5,
   "metadata": {},
   "outputs": [],
   "source": [
    "f.close()"
   ]
  },
  {
   "cell_type": "code",
   "execution_count": 10,
   "metadata": {},
   "outputs": [],
   "source": [
    "OUT_FILE = 'data/test_data.h5'\n",
    "METADATA = 'metadata.npy'\n",
    "DATA_FOLDER = 'data/test'\n",
    "SHAPE = (150, 250, 3)\n",
    "BATCH_SIZE = 16"
   ]
  },
  {
   "cell_type": "code",
   "execution_count": 11,
   "metadata": {},
   "outputs": [
    {
     "name": "stdout",
     "output_type": "stream",
     "text": [
      "['data/test/ALB', 'data/test/BET', 'data/test/DOL', 'data/test/LAG', 'data/test/NoF', 'data/test/OTHER', 'data/test/SHARK', 'data/test/YFT']\n"
     ]
    },
    {
     "name": "stdout",
     "output_type": "stream",
     "text": [
      "model output shape: {} (None, 4, 7, 512)\n"
     ]
    }
   ],
   "source": [
    "labels = os.listdir(DATA_FOLDER)\n",
    "labels = [l for l in labels if \".DS_Store\" not in l]\n",
    "labels_path = [os.path.join(DATA_FOLDER, l) for l in labels]\n",
    "print(labels_path)\n",
    "n_labels = len(labels)\n",
    "n_images = np.sum([len(os.listdir(l)) for l in labels_path])\n",
    "\n",
    "label2idx = {j:to_categorical(i, n_labels)[0] for i,j in enumerate(labels)}\n",
    "np.save(METADATA, label2idx)\n",
    "\n",
    "model = VGG16(include_top=False, input_shape=SHAPE)\n",
    "model.layers.pop()\n",
    "    \n",
    "print('model output shape: {}', model.output_shape)\n",
    "\n",
    "f = h5py.File(OUT_FILE)\n",
    "output_shape = (n_images, *model.output_shape[1:])\n",
    "chunk_shape = (BATCH_SIZE, *model.output_shape[1:])\n",
    "try:\n",
    "    f.pop('x')\n",
    "    f.pop('y')\n",
    "except:\n",
    "    None\n",
    "\n",
    "img_data = f.create_dataset('x', shape=output_shape,\n",
    "                            dtype=np.float32, chunks=chunk_shape)\n",
    "labels_data = f.create_dataset('y', shape=(n_images, n_labels),\n",
    "                               dtype=np.float32, chunks=(BATCH_SIZE, n_labels))"
   ]
  },
  {
   "cell_type": "code",
   "execution_count": 12,
   "metadata": {
    "collapsed": true
   },
   "outputs": [
    {
     "name": "stdout",
     "output_type": "stream",
     "text": [
      "ALB: 0000/0111 (ETA: 999.00s)...\r"
     ]
    },
    {
     "name": "stdout",
     "output_type": "stream",
     "text": [
      "ALB: 0016/0111 (ETA: 228.93s)...\r"
     ]
    },
    {
     "name": "stdout",
     "output_type": "stream",
     "text": [
      "ALB: 0032/0111 (ETA: 244.44s)...\r"
     ]
    },
    {
     "name": "stdout",
     "output_type": "stream",
     "text": [
      "ALB: 0048/0111 (ETA: 250.57s)...\r"
     ]
    },
    {
     "name": "stdout",
     "output_type": "stream",
     "text": [
      "ALB: 0064/0111 (ETA: 254.09s)...\r"
     ]
    },
    {
     "name": "stdout",
     "output_type": "stream",
     "text": [
      "ALB: 0080/0111 (ETA: 239.75s)...\r"
     ]
    },
    {
     "name": "stdout",
     "output_type": "stream",
     "text": [
      "ALB: 0096/0111 (ETA: 228.71s)...\r"
     ]
    },
    {
     "name": "stdout",
     "output_type": "stream",
     "text": [
      "                                                  \r{}: Done ALB\nBET: 0000/0066 (ETA: 206.90s)...\r"
     ]
    },
    {
     "name": "stdout",
     "output_type": "stream",
     "text": [
      "BET: 0016/0066 (ETA: 185.17s)...\r"
     ]
    },
    {
     "name": "stdout",
     "output_type": "stream",
     "text": [
      "BET: 0032/0066 (ETA: 160.46s)...\r"
     ]
    },
    {
     "name": "stdout",
     "output_type": "stream",
     "text": [
      "BET: 0048/0066 (ETA: 143.83s)...\r"
     ]
    },
    {
     "name": "stdout",
     "output_type": "stream",
     "text": [
      "BET: 0064/0066 (ETA: 133.53s)...\r"
     ]
    },
    {
     "name": "stdout",
     "output_type": "stream",
     "text": [
      "                                                  \r{}: Done BET\nDOL: 0000/0013 (ETA: 135.74s)...\r"
     ]
    },
    {
     "name": "stdout",
     "output_type": "stream",
     "text": [
      "                                                  \r{}: Done DOL\nLAG: 0000/0011 (ETA: 125.20s)...\r"
     ]
    },
    {
     "name": "stdout",
     "output_type": "stream",
     "text": [
      "                                                  \r{}: Done LAG\nNoF: 0000/0032 (ETA: 114.83s)...\r"
     ]
    },
    {
     "name": "stdout",
     "output_type": "stream",
     "text": [
      "NoF: 0016/0032 (ETA: 104.66s)...\r"
     ]
    },
    {
     "name": "stdout",
     "output_type": "stream",
     "text": [
      "                                                  \r{}: Done NoF\nOTHER: 0000/0036 (ETA: 92.48s)...\r"
     ]
    },
    {
     "name": "stdout",
     "output_type": "stream",
     "text": [
      "OTHER: 0016/0036 (ETA: 83.85s)...\r"
     ]
    },
    {
     "name": "stdout",
     "output_type": "stream",
     "text": [
      "OTHER: 0032/0036 (ETA: 77.36s)...\r"
     ]
    },
    {
     "name": "stdout",
     "output_type": "stream",
     "text": [
      "                                                  \r{}: Done OTHER\nSHARK: 0000/0041 (ETA: 75.48s)...\r"
     ]
    },
    {
     "name": "stdout",
     "output_type": "stream",
     "text": [
      "SHARK: 0016/0041 (ETA: 63.27s)...\r"
     ]
    },
    {
     "name": "stdout",
     "output_type": "stream",
     "text": [
      "SHARK: 0032/0041 (ETA: 51.77s)...\r"
     ]
    },
    {
     "name": "stdout",
     "output_type": "stream",
     "text": [
      "                                                  \r{}: Done SHARK\nYFT: 0000/0059 (ETA: 44.17s)...\r"
     ]
    },
    {
     "name": "stdout",
     "output_type": "stream",
     "text": [
      "YFT: 0016/0059 (ETA: 30.22s)...\r"
     ]
    },
    {
     "name": "stdout",
     "output_type": "stream",
     "text": [
      "YFT: 0032/0059 (ETA: 19.05s)...\r"
     ]
    },
    {
     "name": "stdout",
     "output_type": "stream",
     "text": [
      "YFT: 0048/0059 (ETA: 7.82s)...\r"
     ]
    },
    {
     "name": "stdout",
     "output_type": "stream",
     "text": [
      "                                                  \r{}: Done YFT\nDone ({}) 271.7203960418701\n"
     ]
    }
   ],
   "source": [
    "from collections import deque\n",
    "from time import time\n",
    "\n",
    "t0 = time()\n",
    "ts = deque(maxlen=5)\n",
    "idxx = 0\n",
    "\n",
    "for path, label in zip(labels_path, labels):\n",
    "    files = os.listdir(path)\n",
    "    files = [f for f in files if \".DS_Store\" not in f]\n",
    "    n_files = len(files)\n",
    "    next_idxx = idxx + n_files\n",
    "    labels_data[idxx:next_idxx] = label2idx[label]\n",
    "    idx = 0\n",
    "    for i in range(math.ceil(n_files / BATCH_SIZE)):\n",
    "        tt0 = time()\n",
    "        eta = np.mean(ts) * (n_images - idxx - idx) if len(ts) != 0 else 999\n",
    "        print('%s: %04d/%04d (ETA: %.2fs)...' %\n",
    "              (label, idx, n_files, eta), end='\\r')\n",
    "        next_idx = min(n_files, idx + BATCH_SIZE)\n",
    "        batch_n = next_idx - idx\n",
    "        batch_x = np.ndarray((batch_n, *SHAPE), dtype=np.float32)\n",
    "        for j in range(batch_n):\n",
    "            img = PIL.Image.open(os.path.join(path, files[idx + j]))\n",
    "            img = img.resize(SHAPE[:2][::-1])\n",
    "            img = np.asarray(img, dtype=np.float32)\n",
    "            batch_x[j] = img\n",
    "    \n",
    "        batch_x = preprocess_input(batch_x)\n",
    "        img_data[idxx + idx:idxx + idx + batch_n] = model.predict(batch_x)\n",
    "        idx = next_idx\n",
    "        ts.append((time() - tt0) / batch_n)\n",
    "    \n",
    "    idxx = next_idxx\n",
    "    print(' '*50, end='\\r')\n",
    "    print('{}: Done', label)\n",
    "    \n",
    "print('Done ({})', (time() - t0))"
   ]
  },
  {
   "cell_type": "code",
   "execution_count": 13,
   "metadata": {},
   "outputs": [],
   "source": [
    "f.close()"
   ]
  },
  {
   "cell_type": "code",
   "execution_count": null,
   "metadata": {},
   "outputs": [],
   "source": [
    ""
   ]
  }
 ],
 "metadata": {
  "kernelspec": {
   "display_name": "Python 2",
   "language": "python",
   "name": "python2"
  },
  "language_info": {
   "codemirror_mode": {
    "name": "ipython",
    "version": 2.0
   },
   "file_extension": ".py",
   "mimetype": "text/x-python",
   "name": "python",
   "nbconvert_exporter": "python",
   "pygments_lexer": "ipython2",
   "version": "2.7.6"
  }
 },
 "nbformat": 4,
 "nbformat_minor": 0
}