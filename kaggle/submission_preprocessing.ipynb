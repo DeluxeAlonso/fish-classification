{
 "cells": [
  {
   "cell_type": "code",
   "execution_count": 1,
   "metadata": {
    "collapsed": true
   },
   "outputs": [
    {
     "name": "stderr",
     "output_type": "stream",
     "text": [
      "Using TensorFlow backend.\n"
     ]
    }
   ],
   "source": [
    "import os\n",
    "import PIL\n",
    "from PIL import Image\n",
    "from keras.applications.vgg16 import preprocess_input, VGG16\n",
    "from keras.models import load_model"
   ]
  },
  {
   "cell_type": "markdown",
   "metadata": {},
   "source": [
    "TEST STAGE 1 DATASET PREPROCESSING"
   ]
  },
  {
   "cell_type": "code",
   "execution_count": 20,
   "metadata": {},
   "outputs": [],
   "source": [
    "DATA_FOLDER = 'original/test/test_stg1/'\n",
    "PP_TEST_DATA = 'data/test_stg1_data'\n",
    "SHAPE = (300, 500, 3)\n",
    "\n",
    "files = os.listdir(DATA_FOLDER)\n",
    "n_files = len(files)"
   ]
  },
  {
   "cell_type": "code",
   "execution_count": 3,
   "metadata": {
    "collapsed": true
   },
   "outputs": [
    {
     "name": "stdout",
     "output_type": "stream",
     "text": [
      "0000/1000\r0001/1000\r0002/1000\r0003/1000\r"
     ]
    },
    {
     "name": "stdout",
     "output_type": "stream",
     "text": [
      "0004/1000\r0005/1000\r0006/1000\r0007/1000\r"
     ]
    },
    {
     "name": "stdout",
     "output_type": "stream",
     "text": [
      "0008/1000\r0009/1000\r0010/1000\r0011/1000\r"
     ]
    },
    {
     "name": "stdout",
     "output_type": "stream",
     "text": [
      "0012/1000\r0013/1000\r0014/1000\r0015/1000\r"
     ]
    },
    {
     "name": "stdout",
     "output_type": "stream",
     "text": [
      "0016/1000\r0017/1000\r0018/1000\r0019/1000\r0020/1000\r"
     ]
    },
    {
     "name": "stdout",
     "output_type": "stream",
     "text": [
      "0021/1000\r0022/1000\r0023/1000\r0024/1000\r0025/1000\r"
     ]
    },
    {
     "name": "stdout",
     "output_type": "stream",
     "text": [
      "0026/1000\r0027/1000\r0028/1000\r0029/1000\r"
     ]
    },
    {
     "name": "stdout",
     "output_type": "stream",
     "text": [
      "0030/1000\r0031/1000\r0032/1000\r0033/1000\r0034/1000\r"
     ]
    },
    {
     "name": "stdout",
     "output_type": "stream",
     "text": [
      "0035/1000\r0036/1000\r0037/1000\r0038/1000\r0039/1000\r0040/1000\r"
     ]
    },
    {
     "name": "stdout",
     "output_type": "stream",
     "text": [
      "0041/1000\r0042/1000\r0043/1000\r0044/1000\r0045/1000\r"
     ]
    },
    {
     "name": "stdout",
     "output_type": "stream",
     "text": [
      "0046/1000\r0047/1000\r0048/1000\r"
     ]
    },
    {
     "name": "stdout",
     "output_type": "stream",
     "text": [
      "0049/1000\r0050/1000\r0051/1000\r0052/1000\r0053/1000\r"
     ]
    },
    {
     "name": "stdout",
     "output_type": "stream",
     "text": [
      "0054/1000\r0055/1000\r0056/1000\r0057/1000\r0058/1000\r0059/1000\r"
     ]
    },
    {
     "name": "stdout",
     "output_type": "stream",
     "text": [
      "0060/1000\r0061/1000\r0062/1000\r0063/1000\r0064/1000\r"
     ]
    },
    {
     "name": "stdout",
     "output_type": "stream",
     "text": [
      "0065/1000\r0066/1000\r0067/1000\r0068/1000\r0069/1000\r"
     ]
    },
    {
     "name": "stdout",
     "output_type": "stream",
     "text": [
      "0070/1000\r0071/1000\r0072/1000\r0073/1000\r0074/1000\r"
     ]
    },
    {
     "name": "stdout",
     "output_type": "stream",
     "text": [
      "0075/1000\r0076/1000\r0077/1000\r0078/1000\r0079/1000\r"
     ]
    },
    {
     "name": "stdout",
     "output_type": "stream",
     "text": [
      "0080/1000\r0081/1000\r0082/1000\r0083/1000\r0084/1000\r"
     ]
    },
    {
     "name": "stdout",
     "output_type": "stream",
     "text": [
      "0085/1000\r0086/1000\r0087/1000\r0088/1000\r0089/1000\r0090/1000\r"
     ]
    },
    {
     "name": "stdout",
     "output_type": "stream",
     "text": [
      "0091/1000\r0092/1000\r0093/1000\r0094/1000\r0095/1000\r"
     ]
    },
    {
     "name": "stdout",
     "output_type": "stream",
     "text": [
      "0096/1000\r0097/1000\r0098/1000\r0099/1000\r0100/1000\r0101/1000\r"
     ]
    },
    {
     "name": "stdout",
     "output_type": "stream",
     "text": [
      "0102/1000\r0103/1000\r0104/1000\r0105/1000\r0106/1000\r0107/1000\r"
     ]
    },
    {
     "name": "stdout",
     "output_type": "stream",
     "text": [
      "0108/1000\r0109/1000\r0110/1000\r0111/1000\r"
     ]
    },
    {
     "name": "stdout",
     "output_type": "stream",
     "text": [
      "0112/1000\r0113/1000\r0114/1000\r0115/1000\r0116/1000\r"
     ]
    },
    {
     "name": "stdout",
     "output_type": "stream",
     "text": [
      "0117/1000\r0118/1000\r0119/1000\r0120/1000\r0121/1000\r0122/1000\r"
     ]
    },
    {
     "name": "stdout",
     "output_type": "stream",
     "text": [
      "0123/1000\r0124/1000\r0125/1000\r0126/1000\r0127/1000\r"
     ]
    },
    {
     "name": "stdout",
     "output_type": "stream",
     "text": [
      "0128/1000\r0129/1000\r0130/1000\r0131/1000\r"
     ]
    },
    {
     "name": "stdout",
     "output_type": "stream",
     "text": [
      "0132/1000\r0133/1000\r0134/1000\r0135/1000\r"
     ]
    },
    {
     "name": "stdout",
     "output_type": "stream",
     "text": [
      "0136/1000\r0137/1000\r0138/1000\r0139/1000\r0140/1000\r"
     ]
    },
    {
     "name": "stdout",
     "output_type": "stream",
     "text": [
      "0141/1000\r0142/1000\r0143/1000\r0144/1000\r0145/1000\r"
     ]
    },
    {
     "name": "stdout",
     "output_type": "stream",
     "text": [
      "0146/1000\r0147/1000\r0148/1000\r0149/1000\r0150/1000\r"
     ]
    },
    {
     "name": "stdout",
     "output_type": "stream",
     "text": [
      "0151/1000\r0152/1000\r0153/1000\r0154/1000\r0155/1000\r"
     ]
    },
    {
     "name": "stdout",
     "output_type": "stream",
     "text": [
      "0156/1000\r0157/1000\r0158/1000\r"
     ]
    },
    {
     "name": "stdout",
     "output_type": "stream",
     "text": [
      "0159/1000\r0160/1000\r0161/1000\r0162/1000\r0163/1000\r"
     ]
    },
    {
     "name": "stdout",
     "output_type": "stream",
     "text": [
      "0164/1000\r0165/1000\r0166/1000\r0167/1000\r"
     ]
    },
    {
     "name": "stdout",
     "output_type": "stream",
     "text": [
      "0168/1000\r0169/1000\r0170/1000\r0171/1000\r"
     ]
    },
    {
     "name": "stdout",
     "output_type": "stream",
     "text": [
      "0172/1000\r0173/1000\r0174/1000\r0175/1000\r0176/1000\r"
     ]
    },
    {
     "name": "stdout",
     "output_type": "stream",
     "text": [
      "0177/1000\r0178/1000\r0179/1000\r0180/1000\r0181/1000\r"
     ]
    },
    {
     "name": "stdout",
     "output_type": "stream",
     "text": [
      "0182/1000\r0183/1000\r0184/1000\r0185/1000\r0186/1000\r"
     ]
    },
    {
     "name": "stdout",
     "output_type": "stream",
     "text": [
      "0187/1000\r0188/1000\r0189/1000\r0190/1000\r0191/1000\r0192/1000"
     ]
    },
    {
     "name": "stdout",
     "output_type": "stream",
     "text": [
      "\r0193/1000\r0194/1000\r0195/1000\r0196/1000\r0197/1000\r0198/1000\r"
     ]
    },
    {
     "name": "stdout",
     "output_type": "stream",
     "text": [
      "0199/1000\r0200/1000\r0201/1000\r0202/1000\r"
     ]
    },
    {
     "name": "stdout",
     "output_type": "stream",
     "text": [
      "0203/1000\r0204/1000\r0205/1000\r0206/1000\r0207/1000\r"
     ]
    },
    {
     "name": "stdout",
     "output_type": "stream",
     "text": [
      "0208/1000\r0209/1000\r0210/1000\r0211/1000\r0212/1000\r"
     ]
    },
    {
     "name": "stdout",
     "output_type": "stream",
     "text": [
      "0213/1000\r0214/1000\r"
     ]
    },
    {
     "name": "stdout",
     "output_type": "stream",
     "text": [
      "0215/1000\r0216/1000\r0217/1000\r"
     ]
    },
    {
     "name": "stdout",
     "output_type": "stream",
     "text": [
      "0218/1000\r0219/1000\r0220/1000\r0221/1000\r0222/1000\r"
     ]
    },
    {
     "name": "stdout",
     "output_type": "stream",
     "text": [
      "0223/1000\r0224/1000\r0225/1000\r0226/1000\r0227/1000\r"
     ]
    },
    {
     "name": "stdout",
     "output_type": "stream",
     "text": [
      "0228/1000\r0229/1000\r0230/1000\r0231/1000\r0232/1000\r"
     ]
    },
    {
     "name": "stdout",
     "output_type": "stream",
     "text": [
      "0233/1000\r0234/1000\r0235/1000\r0236/1000\r0237/1000"
     ]
    },
    {
     "name": "stdout",
     "output_type": "stream",
     "text": [
      "\r0238/1000\r0239/1000\r0240/1000\r0241/1000\r0242/1000\r"
     ]
    },
    {
     "name": "stdout",
     "output_type": "stream",
     "text": [
      "0243/1000\r0244/1000\r0245/1000\r0246/1000\r0247/1000\r0248/1000\r"
     ]
    },
    {
     "name": "stdout",
     "output_type": "stream",
     "text": [
      "0249/1000\r0250/1000\r0251/1000\r0252/1000\r0253/1000\r"
     ]
    },
    {
     "name": "stdout",
     "output_type": "stream",
     "text": [
      "0254/1000\r0255/1000\r0256/1000\r0257/1000\r0258/1000\r"
     ]
    },
    {
     "name": "stdout",
     "output_type": "stream",
     "text": [
      "0259/1000\r0260/1000\r0261/1000\r0262/1000\r0263/1000\r0264/1000\r"
     ]
    },
    {
     "name": "stdout",
     "output_type": "stream",
     "text": [
      "0265/1000\r0266/1000\r0267/1000\r0268/1000\r0269/1000\r0270/1000"
     ]
    },
    {
     "name": "stdout",
     "output_type": "stream",
     "text": [
      "\r0271/1000\r0272/1000\r0273/1000\r0274/1000\r0275/1000\r0276/1000\r"
     ]
    },
    {
     "name": "stdout",
     "output_type": "stream",
     "text": [
      "0277/1000\r0278/1000\r0279/1000\r0280/1000\r0281/1000\r0282/1000\r"
     ]
    },
    {
     "name": "stdout",
     "output_type": "stream",
     "text": [
      "0283/1000\r0284/1000\r0285/1000\r0286/1000\r0287/1000\r0288/1000\r"
     ]
    },
    {
     "name": "stdout",
     "output_type": "stream",
     "text": [
      "0289/1000\r0290/1000\r0291/1000\r0292/1000\r0293/1000\r0294/1000\r"
     ]
    },
    {
     "name": "stdout",
     "output_type": "stream",
     "text": [
      "0295/1000\r0296/1000\r0297/1000\r0298/1000\r0299/1000\r0300/1000\r"
     ]
    },
    {
     "name": "stdout",
     "output_type": "stream",
     "text": [
      "0301/1000\r0302/1000\r0303/1000\r0304/1000\r0305/1000\r0306/1000\r"
     ]
    },
    {
     "name": "stdout",
     "output_type": "stream",
     "text": [
      "0307/1000\r0308/1000\r0309/1000\r0310/1000\r0311/1000\r0312/1000\r"
     ]
    },
    {
     "name": "stdout",
     "output_type": "stream",
     "text": [
      "0313/1000\r0314/1000\r0315/1000\r0316/1000\r0317/1000\r"
     ]
    },
    {
     "name": "stdout",
     "output_type": "stream",
     "text": [
      "0318/1000\r0319/1000\r0320/1000\r0321/1000\r0322/1000\r0323/1000\r"
     ]
    },
    {
     "name": "stdout",
     "output_type": "stream",
     "text": [
      "0324/1000\r0325/1000\r0326/1000\r0327/1000\r0328/1000\r0329/1000\r"
     ]
    },
    {
     "name": "stdout",
     "output_type": "stream",
     "text": [
      "0330/1000\r0331/1000\r0332/1000\r0333/1000\r0334/1000\r0335/1000\r"
     ]
    },
    {
     "name": "stdout",
     "output_type": "stream",
     "text": [
      "0336/1000\r0337/1000\r0338/1000\r0339/1000\r0340/1000\r0341/1000\r"
     ]
    },
    {
     "name": "stdout",
     "output_type": "stream",
     "text": [
      "0342/1000\r0343/1000\r0344/1000\r0345/1000\r0346/1000\r"
     ]
    },
    {
     "name": "stdout",
     "output_type": "stream",
     "text": [
      "0347/1000\r0348/1000\r0349/1000\r0350/1000\r0351/1000\r"
     ]
    },
    {
     "name": "stdout",
     "output_type": "stream",
     "text": [
      "0352/1000\r0353/1000\r0354/1000\r0355/1000\r0356/1000\r"
     ]
    },
    {
     "name": "stdout",
     "output_type": "stream",
     "text": [
      "0357/1000\r0358/1000\r0359/1000\r0360/1000\r0361/1000\r0362/1000\r"
     ]
    },
    {
     "name": "stdout",
     "output_type": "stream",
     "text": [
      "0363/1000\r0364/1000\r0365/1000\r0366/1000\r0367/1000\r"
     ]
    },
    {
     "name": "stdout",
     "output_type": "stream",
     "text": [
      "0368/1000\r0369/1000\r0370/1000\r0371/1000\r0372/1000\r"
     ]
    },
    {
     "name": "stdout",
     "output_type": "stream",
     "text": [
      "0373/1000\r0374/1000\r0375/1000\r0376/1000\r0377/1000\r0378/1000\r"
     ]
    },
    {
     "name": "stdout",
     "output_type": "stream",
     "text": [
      "0379/1000\r0380/1000\r0381/1000\r0382/1000\r0383/1000\r0384/1000\r"
     ]
    },
    {
     "name": "stdout",
     "output_type": "stream",
     "text": [
      "0385/1000\r0386/1000\r0387/1000\r0388/1000\r0389/1000\r"
     ]
    },
    {
     "name": "stdout",
     "output_type": "stream",
     "text": [
      "0390/1000\r0391/1000\r0392/1000\r0393/1000\r0394/1000\r"
     ]
    },
    {
     "name": "stdout",
     "output_type": "stream",
     "text": [
      "0395/1000\r0396/1000\r0397/1000\r0398/1000\r0399/1000\r"
     ]
    },
    {
     "name": "stdout",
     "output_type": "stream",
     "text": [
      "0400/1000\r0401/1000\r0402/1000\r0403/1000\r0404/1000\r0405/1000\r"
     ]
    },
    {
     "name": "stdout",
     "output_type": "stream",
     "text": [
      "0406/1000\r0407/1000\r0408/1000\r0409/1000\r0410/1000\r"
     ]
    },
    {
     "name": "stdout",
     "output_type": "stream",
     "text": [
      "0411/1000\r0412/1000\r0413/1000\r0414/1000\r0415/1000\r0416/1000\r"
     ]
    },
    {
     "name": "stdout",
     "output_type": "stream",
     "text": [
      "0417/1000\r0418/1000\r0419/1000\r0420/1000\r0421/1000\r0422/1000\r"
     ]
    },
    {
     "name": "stdout",
     "output_type": "stream",
     "text": [
      "0423/1000\r0424/1000\r0425/1000\r0426/1000\r0427/1000\r0428/1000\r"
     ]
    },
    {
     "name": "stdout",
     "output_type": "stream",
     "text": [
      "0429/1000\r0430/1000\r0431/1000\r0432/1000\r0433/1000\r0434/1000\r"
     ]
    },
    {
     "name": "stdout",
     "output_type": "stream",
     "text": [
      "0435/1000\r0436/1000\r0437/1000\r0438/1000\r0439/1000\r"
     ]
    },
    {
     "name": "stdout",
     "output_type": "stream",
     "text": [
      "0440/1000\r0441/1000\r0442/1000\r0443/1000\r0444/1000\r"
     ]
    },
    {
     "name": "stdout",
     "output_type": "stream",
     "text": [
      "0445/1000\r0446/1000\r0447/1000\r0448/1000\r0449/1000\r0450/1000\r"
     ]
    },
    {
     "name": "stdout",
     "output_type": "stream",
     "text": [
      "0451/1000\r0452/1000\r0453/1000\r0454/1000\r0455/1000\r0456/1000"
     ]
    },
    {
     "name": "stdout",
     "output_type": "stream",
     "text": [
      "\r0457/1000\r0458/1000\r0459/1000\r0460/1000\r0461/1000\r0462/1000\r"
     ]
    },
    {
     "name": "stdout",
     "output_type": "stream",
     "text": [
      "0463/1000\r0464/1000\r0465/1000\r0466/1000\r0467/1000\r"
     ]
    },
    {
     "name": "stdout",
     "output_type": "stream",
     "text": [
      "0468/1000\r0469/1000\r0470/1000\r0471/1000\r0472/1000\r0473/1000\r"
     ]
    },
    {
     "name": "stdout",
     "output_type": "stream",
     "text": [
      "0474/1000\r0475/1000\r0476/1000\r0477/1000\r0478/1000\r0479/1000\r"
     ]
    },
    {
     "name": "stdout",
     "output_type": "stream",
     "text": [
      "0480/1000\r0481/1000\r0482/1000\r0483/1000\r0484/1000\r0485/1000\r"
     ]
    },
    {
     "name": "stdout",
     "output_type": "stream",
     "text": [
      "0486/1000\r0487/1000\r0488/1000\r0489/1000\r0490/1000\r0491/1000\r"
     ]
    },
    {
     "name": "stdout",
     "output_type": "stream",
     "text": [
      "0492/1000\r0493/1000\r0494/1000\r0495/1000\r0496/1000\r0497/1000\r"
     ]
    },
    {
     "name": "stdout",
     "output_type": "stream",
     "text": [
      "0498/1000\r0499/1000\r0500/1000\r0501/1000\r0502/1000\r"
     ]
    },
    {
     "name": "stdout",
     "output_type": "stream",
     "text": [
      "0503/1000\r0504/1000\r0505/1000\r0506/1000\r0507/1000\r0508/1000\r"
     ]
    },
    {
     "name": "stdout",
     "output_type": "stream",
     "text": [
      "0509/1000\r0510/1000\r0511/1000\r0512/1000\r0513/1000\r"
     ]
    },
    {
     "name": "stdout",
     "output_type": "stream",
     "text": [
      "0514/1000\r0515/1000\r0516/1000\r0517/1000\r0518/1000\r0519/1000\r"
     ]
    },
    {
     "name": "stdout",
     "output_type": "stream",
     "text": [
      "0520/1000\r0521/1000\r0522/1000\r0523/1000\r0524/1000\r0525/1000\r"
     ]
    },
    {
     "name": "stdout",
     "output_type": "stream",
     "text": [
      "0526/1000\r0527/1000\r0528/1000\r0529/1000\r0530/1000\r0531/1000\r"
     ]
    },
    {
     "name": "stdout",
     "output_type": "stream",
     "text": [
      "0532/1000\r0533/1000\r0534/1000\r0535/1000\r0536/1000\r0537/1000\r"
     ]
    },
    {
     "name": "stdout",
     "output_type": "stream",
     "text": [
      "0538/1000\r0539/1000\r0540/1000\r0541/1000\r0542/1000\r0543/1000\r"
     ]
    },
    {
     "name": "stdout",
     "output_type": "stream",
     "text": [
      "0544/1000\r0545/1000\r0546/1000\r0547/1000\r0548/1000\r"
     ]
    },
    {
     "name": "stdout",
     "output_type": "stream",
     "text": [
      "0549/1000\r0550/1000\r0551/1000\r0552/1000\r0553/1000\r0554/1000\r"
     ]
    },
    {
     "name": "stdout",
     "output_type": "stream",
     "text": [
      "0555/1000\r0556/1000\r0557/1000\r0558/1000\r0559/1000\r0560/1000\r"
     ]
    },
    {
     "name": "stdout",
     "output_type": "stream",
     "text": [
      "0561/1000\r0562/1000\r0563/1000\r0564/1000\r0565/1000\r"
     ]
    },
    {
     "name": "stdout",
     "output_type": "stream",
     "text": [
      "0566/1000\r0567/1000\r0568/1000\r0569/1000\r0570/1000\r0571/1000\r"
     ]
    },
    {
     "name": "stdout",
     "output_type": "stream",
     "text": [
      "0572/1000\r0573/1000\r0574/1000\r0575/1000\r0576/1000\r"
     ]
    },
    {
     "name": "stdout",
     "output_type": "stream",
     "text": [
      "0577/1000\r0578/1000\r0579/1000\r0580/1000\r0581/1000\r0582/1000\r"
     ]
    },
    {
     "name": "stdout",
     "output_type": "stream",
     "text": [
      "0583/1000\r0584/1000\r0585/1000\r0586/1000\r0587/1000\r"
     ]
    },
    {
     "name": "stdout",
     "output_type": "stream",
     "text": [
      "0588/1000\r0589/1000\r0590/1000\r0591/1000\r0592/1000\r0593/1000\r"
     ]
    },
    {
     "name": "stdout",
     "output_type": "stream",
     "text": [
      "0594/1000\r0595/1000\r0596/1000\r0597/1000\r0598/1000\r"
     ]
    },
    {
     "name": "stdout",
     "output_type": "stream",
     "text": [
      "0599/1000\r0600/1000\r0601/1000\r0602/1000\r0603/1000\r"
     ]
    },
    {
     "name": "stdout",
     "output_type": "stream",
     "text": [
      "0604/1000\r0605/1000\r0606/1000\r0607/1000\r0608/1000\r"
     ]
    },
    {
     "name": "stdout",
     "output_type": "stream",
     "text": [
      "0609/1000\r0610/1000\r0611/1000\r0612/1000\r0613/1000\r"
     ]
    },
    {
     "name": "stdout",
     "output_type": "stream",
     "text": [
      "0614/1000\r0615/1000\r0616/1000\r0617/1000\r0618/1000\r"
     ]
    },
    {
     "name": "stdout",
     "output_type": "stream",
     "text": [
      "0619/1000\r0620/1000\r0621/1000\r0622/1000\r0623/1000\r"
     ]
    },
    {
     "name": "stdout",
     "output_type": "stream",
     "text": [
      "0624/1000\r0625/1000\r0626/1000\r0627/1000\r0628/1000\r0629/1000\r"
     ]
    },
    {
     "name": "stdout",
     "output_type": "stream",
     "text": [
      "0630/1000\r0631/1000\r0632/1000\r0633/1000\r0634/1000\r0635/1000\r"
     ]
    },
    {
     "name": "stdout",
     "output_type": "stream",
     "text": [
      "0636/1000\r0637/1000\r0638/1000\r0639/1000\r0640/1000\r"
     ]
    },
    {
     "name": "stdout",
     "output_type": "stream",
     "text": [
      "0641/1000\r0642/1000\r0643/1000\r0644/1000\r0645/1000\r"
     ]
    },
    {
     "name": "stdout",
     "output_type": "stream",
     "text": [
      "0646/1000\r0647/1000\r0648/1000\r0649/1000\r0650/1000\r0651/1000\r"
     ]
    },
    {
     "name": "stdout",
     "output_type": "stream",
     "text": [
      "0652/1000\r0653/1000\r0654/1000\r0655/1000\r0656/1000\r"
     ]
    },
    {
     "name": "stdout",
     "output_type": "stream",
     "text": [
      "0657/1000\r0658/1000\r0659/1000\r0660/1000\r0661/1000\r0662/1000\r"
     ]
    },
    {
     "name": "stdout",
     "output_type": "stream",
     "text": [
      "0663/1000\r0664/1000\r0665/1000\r0666/1000\r0667/1000\r0668/1000\r"
     ]
    },
    {
     "name": "stdout",
     "output_type": "stream",
     "text": [
      "0669/1000\r0670/1000\r0671/1000\r0672/1000\r0673/1000\r"
     ]
    },
    {
     "name": "stdout",
     "output_type": "stream",
     "text": [
      "0674/1000\r0675/1000\r0676/1000\r0677/1000\r0678/1000\r0679/1000\r"
     ]
    },
    {
     "name": "stdout",
     "output_type": "stream",
     "text": [
      "0680/1000\r0681/1000\r0682/1000\r0683/1000\r0684/1000\r0685/1000\r"
     ]
    },
    {
     "name": "stdout",
     "output_type": "stream",
     "text": [
      "0686/1000\r0687/1000\r0688/1000\r0689/1000\r0690/1000\r"
     ]
    },
    {
     "name": "stdout",
     "output_type": "stream",
     "text": [
      "0691/1000\r0692/1000\r0693/1000\r0694/1000\r0695/1000\r"
     ]
    },
    {
     "name": "stdout",
     "output_type": "stream",
     "text": [
      "0696/1000\r0697/1000\r0698/1000\r0699/1000\r0700/1000\r"
     ]
    },
    {
     "name": "stdout",
     "output_type": "stream",
     "text": [
      "0701/1000\r0702/1000\r0703/1000\r0704/1000\r0705/1000\r"
     ]
    },
    {
     "name": "stdout",
     "output_type": "stream",
     "text": [
      "0706/1000\r0707/1000\r0708/1000\r0709/1000\r0710/1000\r0711/1000"
     ]
    },
    {
     "name": "stdout",
     "output_type": "stream",
     "text": [
      "\r0712/1000\r0713/1000\r0714/1000\r0715/1000\r0716/1000\r"
     ]
    },
    {
     "name": "stdout",
     "output_type": "stream",
     "text": [
      "0717/1000\r0718/1000\r0719/1000\r0720/1000\r0721/1000\r0722/1000\r"
     ]
    },
    {
     "name": "stdout",
     "output_type": "stream",
     "text": [
      "0723/1000\r0724/1000\r0725/1000\r0726/1000\r0727/1000\r"
     ]
    },
    {
     "name": "stdout",
     "output_type": "stream",
     "text": [
      "0728/1000\r0729/1000\r0730/1000\r0731/1000\r0732/1000\r"
     ]
    },
    {
     "name": "stdout",
     "output_type": "stream",
     "text": [
      "0733/1000\r0734/1000\r0735/1000\r0736/1000\r0737/1000\r"
     ]
    },
    {
     "name": "stdout",
     "output_type": "stream",
     "text": [
      "0738/1000\r0739/1000\r0740/1000\r0741/1000\r0742/1000\r0743/1000"
     ]
    },
    {
     "name": "stdout",
     "output_type": "stream",
     "text": [
      "\r0744/1000\r0745/1000\r0746/1000\r0747/1000\r0748/1000\r0749/1000\r"
     ]
    },
    {
     "name": "stdout",
     "output_type": "stream",
     "text": [
      "0750/1000\r0751/1000\r0752/1000\r0753/1000\r0754/1000\r"
     ]
    },
    {
     "name": "stdout",
     "output_type": "stream",
     "text": [
      "0755/1000\r0756/1000\r0757/1000\r0758/1000\r0759/1000\r0760/1000\r"
     ]
    },
    {
     "name": "stdout",
     "output_type": "stream",
     "text": [
      "0761/1000\r0762/1000\r0763/1000\r0764/1000\r0765/1000\r0766/1000\r"
     ]
    },
    {
     "name": "stdout",
     "output_type": "stream",
     "text": [
      "0767/1000\r0768/1000\r0769/1000\r0770/1000\r0771/1000\r"
     ]
    },
    {
     "name": "stdout",
     "output_type": "stream",
     "text": [
      "0772/1000\r0773/1000\r0774/1000\r0775/1000\r0776/1000\r"
     ]
    },
    {
     "name": "stdout",
     "output_type": "stream",
     "text": [
      "0777/1000\r0778/1000\r0779/1000\r0780/1000\r0781/1000\r"
     ]
    },
    {
     "name": "stdout",
     "output_type": "stream",
     "text": [
      "0782/1000\r0783/1000\r0784/1000\r0785/1000\r0786/1000\r"
     ]
    },
    {
     "name": "stdout",
     "output_type": "stream",
     "text": [
      "0787/1000\r0788/1000\r0789/1000\r0790/1000\r0791/1000\r"
     ]
    },
    {
     "name": "stdout",
     "output_type": "stream",
     "text": [
      "0792/1000\r0793/1000\r0794/1000\r0795/1000\r0796/1000\r0797/1000\r"
     ]
    },
    {
     "name": "stdout",
     "output_type": "stream",
     "text": [
      "0798/1000\r0799/1000\r0800/1000\r0801/1000\r0802/1000\r"
     ]
    },
    {
     "name": "stdout",
     "output_type": "stream",
     "text": [
      "0803/1000\r0804/1000\r0805/1000\r0806/1000\r0807/1000\r0808/1000\r"
     ]
    },
    {
     "name": "stdout",
     "output_type": "stream",
     "text": [
      "0809/1000\r0810/1000\r0811/1000\r0812/1000\r0813/1000\r"
     ]
    },
    {
     "name": "stdout",
     "output_type": "stream",
     "text": [
      "0814/1000\r0815/1000\r0816/1000\r0817/1000\r0818/1000\r"
     ]
    },
    {
     "name": "stdout",
     "output_type": "stream",
     "text": [
      "0819/1000\r0820/1000\r0821/1000\r0822/1000\r0823/1000\r0824/1000\r"
     ]
    },
    {
     "name": "stdout",
     "output_type": "stream",
     "text": [
      "0825/1000\r0826/1000\r0827/1000\r0828/1000\r0829/1000\r0830/1000\r"
     ]
    },
    {
     "name": "stdout",
     "output_type": "stream",
     "text": [
      "0831/1000\r0832/1000\r0833/1000\r0834/1000\r0835/1000\r0836/1000\r"
     ]
    },
    {
     "name": "stdout",
     "output_type": "stream",
     "text": [
      "0837/1000\r0838/1000\r0839/1000\r0840/1000\r0841/1000\r"
     ]
    },
    {
     "name": "stdout",
     "output_type": "stream",
     "text": [
      "0842/1000\r0843/1000\r0844/1000\r0845/1000\r0846/1000\r"
     ]
    },
    {
     "name": "stdout",
     "output_type": "stream",
     "text": [
      "0847/1000\r0848/1000\r0849/1000\r0850/1000\r0851/1000\r"
     ]
    },
    {
     "name": "stdout",
     "output_type": "stream",
     "text": [
      "0852/1000\r0853/1000\r0854/1000\r0855/1000\r0856/1000\r"
     ]
    },
    {
     "name": "stdout",
     "output_type": "stream",
     "text": [
      "0857/1000\r0858/1000\r0859/1000\r0860/1000\r0861/1000\r"
     ]
    },
    {
     "name": "stdout",
     "output_type": "stream",
     "text": [
      "0862/1000\r0863/1000\r0864/1000\r0865/1000\r0866/1000\r0867/1000\r"
     ]
    },
    {
     "name": "stdout",
     "output_type": "stream",
     "text": [
      "0868/1000\r0869/1000\r0870/1000\r0871/1000\r0872/1000\r"
     ]
    },
    {
     "name": "stdout",
     "output_type": "stream",
     "text": [
      "0873/1000\r0874/1000\r0875/1000\r0876/1000\r0877/1000\r0878/1000\r"
     ]
    },
    {
     "name": "stdout",
     "output_type": "stream",
     "text": [
      "0879/1000\r0880/1000\r0881/1000\r0882/1000\r0883/1000\r0884/1000"
     ]
    },
    {
     "name": "stdout",
     "output_type": "stream",
     "text": [
      "\r0885/1000\r0886/1000\r0887/1000\r0888/1000\r0889/1000\r"
     ]
    },
    {
     "name": "stdout",
     "output_type": "stream",
     "text": [
      "0890/1000\r0891/1000\r0892/1000\r0893/1000\r0894/1000\r"
     ]
    },
    {
     "name": "stdout",
     "output_type": "stream",
     "text": [
      "0895/1000\r0896/1000\r0897/1000\r0898/1000\r0899/1000\r0900/1000\r"
     ]
    },
    {
     "name": "stdout",
     "output_type": "stream",
     "text": [
      "0901/1000\r0902/1000\r0903/1000\r0904/1000\r0905/1000\r"
     ]
    },
    {
     "name": "stdout",
     "output_type": "stream",
     "text": [
      "0906/1000\r0907/1000\r0908/1000\r0909/1000\r0910/1000\r0911/1000\r"
     ]
    },
    {
     "name": "stdout",
     "output_type": "stream",
     "text": [
      "0912/1000\r0913/1000\r0914/1000\r0915/1000\r0916/1000\r0917/1000\r"
     ]
    },
    {
     "name": "stdout",
     "output_type": "stream",
     "text": [
      "0918/1000\r0919/1000\r0920/1000\r0921/1000\r0922/1000\r"
     ]
    },
    {
     "name": "stdout",
     "output_type": "stream",
     "text": [
      "0923/1000\r0924/1000\r0925/1000\r0926/1000\r0927/1000\r"
     ]
    },
    {
     "name": "stdout",
     "output_type": "stream",
     "text": [
      "0928/1000\r0929/1000\r0930/1000\r0931/1000\r"
     ]
    },
    {
     "name": "stdout",
     "output_type": "stream",
     "text": [
      "0932/1000\r0933/1000\r0934/1000\r0935/1000\r0936/1000\r"
     ]
    },
    {
     "name": "stdout",
     "output_type": "stream",
     "text": [
      "0937/1000\r0938/1000\r0939/1000\r0940/1000\r0941/1000\r"
     ]
    },
    {
     "name": "stdout",
     "output_type": "stream",
     "text": [
      "0942/1000\r0943/1000\r0944/1000\r0945/1000\r0946/1000\r"
     ]
    },
    {
     "name": "stdout",
     "output_type": "stream",
     "text": [
      "0947/1000\r0948/1000\r0949/1000\r0950/1000\r0951/1000\r"
     ]
    },
    {
     "name": "stdout",
     "output_type": "stream",
     "text": [
      "0952/1000\r0953/1000\r0954/1000\r0955/1000\r0956/1000\r"
     ]
    },
    {
     "name": "stdout",
     "output_type": "stream",
     "text": [
      "0957/1000\r0958/1000\r0959/1000\r0960/1000\r0961/1000\r0962/1000\r"
     ]
    },
    {
     "name": "stdout",
     "output_type": "stream",
     "text": [
      "0963/1000\r0964/1000\r0965/1000\r0966/1000\r0967/1000\r0968/1000\r"
     ]
    },
    {
     "name": "stdout",
     "output_type": "stream",
     "text": [
      "0969/1000\r0970/1000\r0971/1000\r0972/1000\r0973/1000\r"
     ]
    },
    {
     "name": "stdout",
     "output_type": "stream",
     "text": [
      "0974/1000\r0975/1000\r0976/1000\r0977/1000\r0978/1000\r"
     ]
    },
    {
     "name": "stdout",
     "output_type": "stream",
     "text": [
      "0979/1000\r0980/1000\r0981/1000\r0982/1000\r0983/1000\r"
     ]
    },
    {
     "name": "stdout",
     "output_type": "stream",
     "text": [
      "0984/1000\r0985/1000\r0986/1000\r0987/1000\r0988/1000\r"
     ]
    },
    {
     "name": "stdout",
     "output_type": "stream",
     "text": [
      "0989/1000\r0990/1000\r0991/1000\r0992/1000\r0993/1000\r0994/1000\r"
     ]
    },
    {
     "name": "stdout",
     "output_type": "stream",
     "text": [
      "0995/1000\r0996/1000\r0997/1000\r0998/1000\r0999/1000\r"
     ]
    }
   ],
   "source": [
    "import numpy as np\n",
    "\n",
    "batch_x = np.ndarray((n_files, *SHAPE), dtype=np.float32)\n",
    "\n",
    "for idx, file in enumerate(files):\n",
    "    print('%04d/%04d' % (idx, n_files), end='\\r')\n",
    "    path = os.path.join(DATA_FOLDER, file)\n",
    "    img = Image.open(path)\n",
    "    img = img.resize(SHAPE[:2][::-1])\n",
    "    img = np.asarray(img, dtype=np.float32)\n",
    "    batch_x[idx] = img"
   ]
  },
  {
   "cell_type": "code",
   "execution_count": 4,
   "metadata": {},
   "outputs": [],
   "source": [
    "batch_x = preprocess_input(batch_x)"
   ]
  },
  {
   "cell_type": "code",
   "execution_count": 5,
   "metadata": {
    "collapsed": true
   },
   "outputs": [
    {
     "name": "stdout",
     "output_type": "stream",
     "text": [
      "\r  16/1000 [..............................] - ETA: 2914s"
     ]
    },
    {
     "name": "stdout",
     "output_type": "stream",
     "text": [
      "\b\b\b\b\b\b\b\b\b\b\b\b\b\b\b\b\b\b\b\b\b\b\b\b\b\b\b\b\b\b\b\b\b\b\b\b\b\b\b\b\b\b\b\b\b\b\b\b\b\b\b\b\b\b\b\r  32/1000 [..............................] - ETA: 3205s"
     ]
    },
    {
     "name": "stdout",
     "output_type": "stream",
     "text": [
      "\b\b\b\b\b\b\b\b\b\b\b\b\b\b\b\b\b\b\b\b\b\b\b\b\b\b\b\b\b\b\b\b\b\b\b\b\b\b\b\b\b\b\b\b\b\b\b\b\b\b\b\b\b\b\b\r  48/1000 [>.............................] - ETA: 3151s"
     ]
    },
    {
     "name": "stdout",
     "output_type": "stream",
     "text": [
      "\b\b\b\b\b\b\b\b\b\b\b\b\b\b\b\b\b\b\b\b\b\b\b\b\b\b\b\b\b\b\b\b\b\b\b\b\b\b\b\b\b\b\b\b\b\b\b\b\b\b\b\b\b\b\b\r  64/1000 [>.............................] - ETA: 3035s"
     ]
    },
    {
     "name": "stdout",
     "output_type": "stream",
     "text": [
      "\b\b\b\b\b\b\b\b\b\b\b\b\b\b\b\b\b\b\b\b\b\b\b\b\b\b\b\b\b\b\b\b\b\b\b\b\b\b\b\b\b\b\b\b\b\b\b\b\b\b\b\b\b\b\b\r  80/1000 [=>............................] - ETA: 3015s"
     ]
    },
    {
     "name": "stdout",
     "output_type": "stream",
     "text": [
      "\b\b\b\b\b\b\b\b\b\b\b\b\b\b\b\b\b\b\b\b\b\b\b\b\b\b\b\b\b\b\b\b\b\b\b\b\b\b\b\b\b\b\b\b\b\b\b\b\b\b\b\b\b\b\b\r  96/1000 [=>............................] - ETA: 2904s"
     ]
    },
    {
     "name": "stdout",
     "output_type": "stream",
     "text": [
      "\b\b\b\b\b\b\b\b\b\b\b\b\b\b\b\b\b\b\b\b\b\b\b\b\b\b\b\b\b\b\b\b\b\b\b\b\b\b\b\b\b\b\b\b\b\b\b\b\b\b\b\b\b\b\b\r 112/1000 [==>...........................] - ETA: 2810s"
     ]
    },
    {
     "name": "stdout",
     "output_type": "stream",
     "text": [
      "\b\b\b\b\b\b\b\b\b\b\b\b\b\b\b\b\b\b\b\b\b\b\b\b\b\b\b\b\b\b\b\b\b\b\b\b\b\b\b\b\b\b\b\b\b\b\b\b\b\b\b\b\b\b\b\r 128/1000 [==>...........................] - ETA: 2730s"
     ]
    },
    {
     "name": "stdout",
     "output_type": "stream",
     "text": [
      "\b\b\b\b\b\b\b\b\b\b\b\b\b\b\b\b\b\b\b\b\b\b\b\b\b\b\b\b\b\b\b\b\b\b\b\b\b\b\b\b\b\b\b\b\b\b\b\b\b\b\b\b\b\b\b\r 144/1000 [===>..........................] - ETA: 2639s"
     ]
    },
    {
     "name": "stdout",
     "output_type": "stream",
     "text": [
      "\b\b\b\b\b\b\b\b\b\b\b\b\b\b\b\b\b\b\b\b\b\b\b\b\b\b\b\b\b\b\b\b\b\b\b\b\b\b\b\b\b\b\b\b\b\b\b\b\b\b\b\b\b\b\b\r 160/1000 [===>..........................] - ETA: 2632s"
     ]
    },
    {
     "name": "stdout",
     "output_type": "stream",
     "text": [
      "\b\b\b\b\b\b\b\b\b\b\b\b\b\b\b\b\b\b\b\b\b\b\b\b\b\b\b\b\b\b\b\b\b\b\b\b\b\b\b\b\b\b\b\b\b\b\b\b\b\b\b\b\b\b\b\r 176/1000 [====>.........................] - ETA: 2591s"
     ]
    },
    {
     "name": "stdout",
     "output_type": "stream",
     "text": [
      "\b\b\b\b\b\b\b\b\b\b\b\b\b\b\b\b\b\b\b\b\b\b\b\b\b\b\b\b\b\b\b\b\b\b\b\b\b\b\b\b\b\b\b\b\b\b\b\b\b\b\b\b\b\b\b\r 192/1000 [====>.........................] - ETA: 2532s"
     ]
    },
    {
     "name": "stdout",
     "output_type": "stream",
     "text": [
      "\b\b\b\b\b\b\b\b\b\b\b\b\b\b\b\b\b\b\b\b\b\b\b\b\b\b\b\b\b\b\b\b\b\b\b\b\b\b\b\b\b\b\b\b\b\b\b\b\b\b\b\b\b\b\b\r 208/1000 [=====>........................] - ETA: 2471s"
     ]
    },
    {
     "name": "stdout",
     "output_type": "stream",
     "text": [
      "\b\b\b\b\b\b\b\b\b\b\b\b\b\b\b\b\b\b\b\b\b\b\b\b\b\b\b\b\b\b\b\b\b\b\b\b\b\b\b\b\b\b\b\b\b\b\b\b\b\b\b\b\b\b\b\r 224/1000 [=====>........................] - ETA: 2431s"
     ]
    },
    {
     "name": "stdout",
     "output_type": "stream",
     "text": [
      "\b\b\b\b\b\b\b\b\b\b\b\b\b\b\b\b\b\b\b\b\b\b\b\b\b\b\b\b\b\b\b\b\b\b\b\b\b\b\b\b\b\b\b\b\b\b\b\b\b\b\b\b\b\b\b\r 240/1000 [======>.......................] - ETA: 2372s"
     ]
    },
    {
     "name": "stdout",
     "output_type": "stream",
     "text": [
      "\b\b\b\b\b\b\b\b\b\b\b\b\b\b\b\b\b\b\b\b\b\b\b\b\b\b\b\b\b\b\b\b\b\b\b\b\b\b\b\b\b\b\b\b\b\b\b\b\b\b\b\b\b\b\b\r 256/1000 [======>.......................] - ETA: 2315s"
     ]
    },
    {
     "name": "stdout",
     "output_type": "stream",
     "text": [
      "\b\b\b\b\b\b\b\b\b\b\b\b\b\b\b\b\b\b\b\b\b\b\b\b\b\b\b\b\b\b\b\b\b\b\b\b\b\b\b\b\b\b\b\b\b\b\b\b\b\b\b\b\b\b\b\r 272/1000 [=======>......................] - ETA: 2258s"
     ]
    },
    {
     "name": "stdout",
     "output_type": "stream",
     "text": [
      "\b\b\b\b\b\b\b\b\b\b\b\b\b\b\b\b\b\b\b\b\b\b\b\b\b\b\b\b\b\b\b\b\b\b\b\b\b\b\b\b\b\b\b\b\b\b\b\b\b\b\b\b\b\b\b\r 288/1000 [=======>......................] - ETA: 2210s"
     ]
    },
    {
     "name": "stdout",
     "output_type": "stream",
     "text": [
      "\b\b\b\b\b\b\b\b\b\b\b\b\b\b\b\b\b\b\b\b\b\b\b\b\b\b\b\b\b\b\b\b\b\b\b\b\b\b\b\b\b\b\b\b\b\b\b\b\b\b\b\b\b\b\b\r 304/1000 [========>.....................] - ETA: 2157s"
     ]
    },
    {
     "name": "stdout",
     "output_type": "stream",
     "text": [
      "\b\b\b\b\b\b\b\b\b\b\b\b\b\b\b\b\b\b\b\b\b\b\b\b\b\b\b\b\b\b\b\b\b\b\b\b\b\b\b\b\b\b\b\b\b\b\b\b\b\b\b\b\b\b\b\r 320/1000 [========>.....................] - ETA: 2114s"
     ]
    },
    {
     "name": "stdout",
     "output_type": "stream",
     "text": [
      "\b\b\b\b\b\b\b\b\b\b\b\b\b\b\b\b\b\b\b\b\b\b\b\b\b\b\b\b\b\b\b\b\b\b\b\b\b\b\b\b\b\b\b\b\b\b\b\b\b\b\b\b\b\b\b\r 336/1000 [=========>....................] - ETA: 2060s"
     ]
    },
    {
     "name": "stdout",
     "output_type": "stream",
     "text": [
      "\b\b\b\b\b\b\b\b\b\b\b\b\b\b\b\b\b\b\b\b\b\b\b\b\b\b\b\b\b\b\b\b\b\b\b\b\b\b\b\b\b\b\b\b\b\b\b\b\b\b\b\b\b\b\b\r 352/1000 [=========>....................] - ETA: 2004s"
     ]
    },
    {
     "name": "stdout",
     "output_type": "stream",
     "text": [
      "\b\b\b\b\b\b\b\b\b\b\b\b\b\b\b\b\b\b\b\b\b\b\b\b\b\b\b\b\b\b\b\b\b\b\b\b\b\b\b\b\b\b\b\b\b\b\b\b\b\b\b\b\b\b\b\r 368/1000 [==========>...................] - ETA: 1951s"
     ]
    },
    {
     "name": "stdout",
     "output_type": "stream",
     "text": [
      "\b\b\b\b\b\b\b\b\b\b\b\b\b\b\b\b\b\b\b\b\b\b\b\b\b\b\b\b\b\b\b\b\b\b\b\b\b\b\b\b\b\b\b\b\b\b\b\b\b\b\b\b\b\b\b\r 384/1000 [==========>...................] - ETA: 1892s"
     ]
    },
    {
     "name": "stdout",
     "output_type": "stream",
     "text": [
      "\b\b\b\b\b\b\b\b\b\b\b\b\b\b\b\b\b\b\b\b\b\b\b\b\b\b\b\b\b\b\b\b\b\b\b\b\b\b\b\b\b\b\b\b\b\b\b\b\b\b\b\b\b\b\b\r 400/1000 [===========>..................] - ETA: 1844s"
     ]
    },
    {
     "name": "stdout",
     "output_type": "stream",
     "text": [
      "\b\b\b\b\b\b\b\b\b\b\b\b\b\b\b\b\b\b\b\b\b\b\b\b\b\b\b\b\b\b\b\b\b\b\b\b\b\b\b\b\b\b\b\b\b\b\b\b\b\b\b\b\b\b\b\r 416/1000 [===========>..................] - ETA: 1792s"
     ]
    },
    {
     "name": "stdout",
     "output_type": "stream",
     "text": [
      "\b\b\b\b\b\b\b\b\b\b\b\b\b\b\b\b\b\b\b\b\b\b\b\b\b\b\b\b\b\b\b\b\b\b\b\b\b\b\b\b\b\b\b\b\b\b\b\b\b\b\b\b\b\b\b\r 432/1000 [===========>..................] - ETA: 1748s"
     ]
    },
    {
     "name": "stdout",
     "output_type": "stream",
     "text": [
      "\b\b\b\b\b\b\b\b\b\b\b\b\b\b\b\b\b\b\b\b\b\b\b\b\b\b\b\b\b\b\b\b\b\b\b\b\b\b\b\b\b\b\b\b\b\b\b\b\b\b\b\b\b\b\b\r 448/1000 [============>.................] - ETA: 1689s"
     ]
    },
    {
     "name": "stdout",
     "output_type": "stream",
     "text": [
      "\b\b\b\b\b\b\b\b\b\b\b\b\b\b\b\b\b\b\b\b\b\b\b\b\b\b\b\b\b\b\b\b\b\b\b\b\b\b\b\b\b\b\b\b\b\b\b\b\b\b\b\b\b\b\b\r 464/1000 [============>.................] - ETA: 1632s"
     ]
    },
    {
     "name": "stdout",
     "output_type": "stream",
     "text": [
      "\b\b\b\b\b\b\b\b\b\b\b\b\b\b\b\b\b\b\b\b\b\b\b\b\b\b\b\b\b\b\b\b\b\b\b\b\b\b\b\b\b\b\b\b\b\b\b\b\b\b\b\b\b\b\b\r 480/1000 [=============>................] - ETA: 1574s"
     ]
    },
    {
     "name": "stdout",
     "output_type": "stream",
     "text": [
      "\b\b\b\b\b\b\b\b\b\b\b\b\b\b\b\b\b\b\b\b\b\b\b\b\b\b\b\b\b\b\b\b\b\b\b\b\b\b\b\b\b\b\b\b\b\b\b\b\b\b\b\b\b\b\b\r 496/1000 [=============>................] - ETA: 1518s"
     ]
    },
    {
     "name": "stdout",
     "output_type": "stream",
     "text": [
      "\b\b\b\b\b\b\b\b\b\b\b\b\b\b\b\b\b\b\b\b\b\b\b\b\b\b\b\b\b\b\b\b\b\b\b\b\b\b\b\b\b\b\b\b\b\b\b\b\b\b\b\b\b\b\b\r 512/1000 [==============>...............] - ETA: 1463s"
     ]
    },
    {
     "name": "stdout",
     "output_type": "stream",
     "text": [
      "\b\b\b\b\b\b\b\b\b\b\b\b\b\b\b\b\b\b\b\b\b\b\b\b\b\b\b\b\b\b\b\b\b\b\b\b\b\b\b\b\b\b\b\b\b\b\b\b\b\b\b\b\b\b\b\r 528/1000 [==============>...............] - ETA: 1408s"
     ]
    },
    {
     "name": "stdout",
     "output_type": "stream",
     "text": [
      "\b\b\b\b\b\b\b\b\b\b\b\b\b\b\b\b\b\b\b\b\b\b\b\b\b\b\b\b\b\b\b\b\b\b\b\b\b\b\b\b\b\b\b\b\b\b\b\b\b\b\b\b\b\b\b\r 544/1000 [===============>..............] - ETA: 1354s"
     ]
    },
    {
     "name": "stdout",
     "output_type": "stream",
     "text": [
      "\b\b\b\b\b\b\b\b\b\b\b\b\b\b\b\b\b\b\b\b\b\b\b\b\b\b\b\b\b\b\b\b\b\b\b\b\b\b\b\b\b\b\b\b\b\b\b\b\b\b\b\b\b\b\b\r 560/1000 [===============>..............] - ETA: 1302s"
     ]
    },
    {
     "name": "stdout",
     "output_type": "stream",
     "text": [
      "\b\b\b\b\b\b\b\b\b\b\b\b\b\b\b\b\b\b\b\b\b\b\b\b\b\b\b\b\b\b\b\b\b\b\b\b\b\b\b\b\b\b\b\b\b\b\b\b\b\b\b\b\b\b\b\r 576/1000 [================>.............] - ETA: 1250s"
     ]
    },
    {
     "name": "stdout",
     "output_type": "stream",
     "text": [
      "\b\b\b\b\b\b\b\b\b\b\b\b\b\b\b\b\b\b\b\b\b\b\b\b\b\b\b\b\b\b\b\b\b\b\b\b\b\b\b\b\b\b\b\b\b\b\b\b\b\b\b\b\b\b\b\r 592/1000 [================>.............] - ETA: 1198s"
     ]
    },
    {
     "name": "stdout",
     "output_type": "stream",
     "text": [
      "\b\b\b\b\b\b\b\b\b\b\b\b\b\b\b\b\b\b\b\b\b\b\b\b\b\b\b\b\b\b\b\b\b\b\b\b\b\b\b\b\b\b\b\b\b\b\b\b\b\b\b\b\b\b\b\r 608/1000 [=================>............] - ETA: 1147s"
     ]
    },
    {
     "name": "stdout",
     "output_type": "stream",
     "text": [
      "\b\b\b\b\b\b\b\b\b\b\b\b\b\b\b\b\b\b\b\b\b\b\b\b\b\b\b\b\b\b\b\b\b\b\b\b\b\b\b\b\b\b\b\b\b\b\b\b\b\b\b\b\b\b\b\r 624/1000 [=================>............] - ETA: 1099s"
     ]
    },
    {
     "name": "stdout",
     "output_type": "stream",
     "text": [
      "\b\b\b\b\b\b\b\b\b\b\b\b\b\b\b\b\b\b\b\b\b\b\b\b\b\b\b\b\b\b\b\b\b\b\b\b\b\b\b\b\b\b\b\b\b\b\b\b\b\b\b\b\b\b\b\r 640/1000 [==================>...........] - ETA: 1051s"
     ]
    },
    {
     "name": "stdout",
     "output_type": "stream",
     "text": [
      "\b\b\b\b\b\b\b\b\b\b\b\b\b\b\b\b\b\b\b\b\b\b\b\b\b\b\b\b\b\b\b\b\b\b\b\b\b\b\b\b\b\b\b\b\b\b\b\b\b\b\b\b\b\b\b\r 656/1000 [==================>...........] - ETA: 1003s"
     ]
    },
    {
     "name": "stdout",
     "output_type": "stream",
     "text": [
      "\b\b\b\b\b\b\b\b\b\b\b\b\b\b\b\b\b\b\b\b\b\b\b\b\b\b\b\b\b\b\b\b\b\b\b\b\b\b\b\b\b\b\b\b\b\b\b\b\b\b\b\b\b\b\b\r 672/1000 [===================>..........] - ETA: 954s "
     ]
    },
    {
     "name": "stdout",
     "output_type": "stream",
     "text": [
      "\b\b\b\b\b\b\b\b\b\b\b\b\b\b\b\b\b\b\b\b\b\b\b\b\b\b\b\b\b\b\b\b\b\b\b\b\b\b\b\b\b\b\b\b\b\b\b\b\b\b\b\b\b\b\r 688/1000 [===================>..........] - ETA: 907s"
     ]
    },
    {
     "name": "stdout",
     "output_type": "stream",
     "text": [
      "\b\b\b\b\b\b\b\b\b\b\b\b\b\b\b\b\b\b\b\b\b\b\b\b\b\b\b\b\b\b\b\b\b\b\b\b\b\b\b\b\b\b\b\b\b\b\b\b\b\b\b\b\b\b\r 704/1000 [====================>.........] - ETA: 859s"
     ]
    },
    {
     "name": "stdout",
     "output_type": "stream",
     "text": [
      "\b\b\b\b\b\b\b\b\b\b\b\b\b\b\b\b\b\b\b\b\b\b\b\b\b\b\b\b\b\b\b\b\b\b\b\b\b\b\b\b\b\b\b\b\b\b\b\b\b\b\b\b\b\b\r 720/1000 [====================>.........] - ETA: 810s"
     ]
    },
    {
     "name": "stdout",
     "output_type": "stream",
     "text": [
      "\b\b\b\b\b\b\b\b\b\b\b\b\b\b\b\b\b\b\b\b\b\b\b\b\b\b\b\b\b\b\b\b\b\b\b\b\b\b\b\b\b\b\b\b\b\b\b\b\b\b\b\b\b\b\r 736/1000 [=====================>........] - ETA: 762s"
     ]
    },
    {
     "name": "stdout",
     "output_type": "stream",
     "text": [
      "\b\b\b\b\b\b\b\b\b\b\b\b\b\b\b\b\b\b\b\b\b\b\b\b\b\b\b\b\b\b\b\b\b\b\b\b\b\b\b\b\b\b\b\b\b\b\b\b\b\b\b\b\b\b\r 752/1000 [=====================>........] - ETA: 714s"
     ]
    },
    {
     "name": "stdout",
     "output_type": "stream",
     "text": [
      "\b\b\b\b\b\b\b\b\b\b\b\b\b\b\b\b\b\b\b\b\b\b\b\b\b\b\b\b\b\b\b\b\b\b\b\b\b\b\b\b\b\b\b\b\b\b\b\b\b\b\b\b\b\b\r 768/1000 [======================>.......] - ETA: 666s"
     ]
    },
    {
     "name": "stdout",
     "output_type": "stream",
     "text": [
      "\b\b\b\b\b\b\b\b\b\b\b\b\b\b\b\b\b\b\b\b\b\b\b\b\b\b\b\b\b\b\b\b\b\b\b\b\b\b\b\b\b\b\b\b\b\b\b\b\b\b\b\b\b\b\r 784/1000 [======================>.......] - ETA: 619s"
     ]
    },
    {
     "name": "stdout",
     "output_type": "stream",
     "text": [
      "\b\b\b\b\b\b\b\b\b\b\b\b\b\b\b\b\b\b\b\b\b\b\b\b\b\b\b\b\b\b\b\b\b\b\b\b\b\b\b\b\b\b\b\b\b\b\b\b\b\b\b\b\b\b\r 800/1000 [=======================>......] - ETA: 572s"
     ]
    },
    {
     "name": "stdout",
     "output_type": "stream",
     "text": [
      "\b\b\b\b\b\b\b\b\b\b\b\b\b\b\b\b\b\b\b\b\b\b\b\b\b\b\b\b\b\b\b\b\b\b\b\b\b\b\b\b\b\b\b\b\b\b\b\b\b\b\b\b\b\b\r 816/1000 [=======================>......] - ETA: 525s"
     ]
    },
    {
     "name": "stdout",
     "output_type": "stream",
     "text": [
      "\b\b\b\b\b\b\b\b\b\b\b\b\b\b\b\b\b\b\b\b\b\b\b\b\b\b\b\b\b\b\b\b\b\b\b\b\b\b\b\b\b\b\b\b\b\b\b\b\b\b\b\b\b\b\r 832/1000 [=======================>......] - ETA: 478s"
     ]
    },
    {
     "name": "stdout",
     "output_type": "stream",
     "text": [
      "\b\b\b\b\b\b\b\b\b\b\b\b\b\b\b\b\b\b\b\b\b\b\b\b\b\b\b\b\b\b\b\b\b\b\b\b\b\b\b\b\b\b\b\b\b\b\b\b\b\b\b\b\b\b\r 848/1000 [========================>.....] - ETA: 432s"
     ]
    },
    {
     "name": "stdout",
     "output_type": "stream",
     "text": [
      "\b\b\b\b\b\b\b\b\b\b\b\b\b\b\b\b\b\b\b\b\b\b\b\b\b\b\b\b\b\b\b\b\b\b\b\b\b\b\b\b\b\b\b\b\b\b\b\b\b\b\b\b\b\b\r 864/1000 [========================>.....] - ETA: 385s"
     ]
    },
    {
     "name": "stdout",
     "output_type": "stream",
     "text": [
      "\b\b\b\b\b\b\b\b\b\b\b\b\b\b\b\b\b\b\b\b\b\b\b\b\b\b\b\b\b\b\b\b\b\b\b\b\b\b\b\b\b\b\b\b\b\b\b\b\b\b\b\b\b\b\r 880/1000 [=========================>....] - ETA: 339s"
     ]
    },
    {
     "name": "stdout",
     "output_type": "stream",
     "text": [
      "\b\b\b\b\b\b\b\b\b\b\b\b\b\b\b\b\b\b\b\b\b\b\b\b\b\b\b\b\b\b\b\b\b\b\b\b\b\b\b\b\b\b\b\b\b\b\b\b\b\b\b\b\b\b\r 896/1000 [=========================>....] - ETA: 294s"
     ]
    },
    {
     "name": "stdout",
     "output_type": "stream",
     "text": [
      "\b\b\b\b\b\b\b\b\b\b\b\b\b\b\b\b\b\b\b\b\b\b\b\b\b\b\b\b\b\b\b\b\b\b\b\b\b\b\b\b\b\b\b\b\b\b\b\b\b\b\b\b\b\b\r 912/1000 [==========================>...] - ETA: 248s"
     ]
    },
    {
     "name": "stdout",
     "output_type": "stream",
     "text": [
      "\b\b\b\b\b\b\b\b\b\b\b\b\b\b\b\b\b\b\b\b\b\b\b\b\b\b\b\b\b\b\b\b\b\b\b\b\b\b\b\b\b\b\b\b\b\b\b\b\b\b\b\b\b\b\r 928/1000 [==========================>...] - ETA: 202s"
     ]
    },
    {
     "name": "stdout",
     "output_type": "stream",
     "text": [
      "\b\b\b\b\b\b\b\b\b\b\b\b\b\b\b\b\b\b\b\b\b\b\b\b\b\b\b\b\b\b\b\b\b\b\b\b\b\b\b\b\b\b\b\b\b\b\b\b\b\b\b\b\b\b\r 944/1000 [===========================>..] - ETA: 157s"
     ]
    },
    {
     "name": "stdout",
     "output_type": "stream",
     "text": [
      "\b\b\b\b\b\b\b\b\b\b\b\b\b\b\b\b\b\b\b\b\b\b\b\b\b\b\b\b\b\b\b\b\b\b\b\b\b\b\b\b\b\b\b\b\b\b\b\b\b\b\b\b\b\b\r 960/1000 [===========================>..] - ETA: 112s"
     ]
    },
    {
     "name": "stdout",
     "output_type": "stream",
     "text": [
      "\b\b\b\b\b\b\b\b\b\b\b\b\b\b\b\b\b\b\b\b\b\b\b\b\b\b\b\b\b\b\b\b\b\b\b\b\b\b\b\b\b\b\b\b\b\b\b\b\b\b\b\b\b\b\r 976/1000 [============================>.] - ETA: 67s "
     ]
    },
    {
     "name": "stdout",
     "output_type": "stream",
     "text": [
      "\b\b\b\b\b\b\b\b\b\b\b\b\b\b\b\b\b\b\b\b\b\b\b\b\b\b\b\b\b\b\b\b\b\b\b\b\b\b\b\b\b\b\b\b\b\b\b\b\b\b\b\b\b\r 992/1000 [============================>.] - ETA: 22s"
     ]
    },
    {
     "name": "stdout",
     "output_type": "stream",
     "text": [
      "\b\b\b\b\b\b\b\b\b\b\b\b\b\b\b\b\b\b\b\b\b\b\b\b\b\b\b\b\b\b\b\b\b\b\b\b\b\b\b\b\b\b\b\b\b\b\b\b\b\b\b\b\b\r1000/1000 [==============================] - 2793s   "
     ]
    },
    {
     "name": "stdout",
     "output_type": "stream",
     "text": [
      "\n"
     ]
    }
   ],
   "source": [
    "base_model = VGG16(include_top=False, input_shape=SHAPE)\n",
    "base_model.layers.pop()\n",
    "preds = base_model.predict(batch_x, batch_size=16, verbose=1)"
   ]
  },
  {
   "cell_type": "code",
   "execution_count": 21,
   "metadata": {},
   "outputs": [
    {
     "name": "stdout",
     "output_type": "stream",
     "text": [
      "(1000, 9, 15, 512)\n"
     ]
    }
   ],
   "source": [
    "print(preds.shape)\n",
    "\n",
    "np.save(PP_TEST_DATA, preds)"
   ]
  },
  {
   "cell_type": "code",
   "execution_count": 22,
   "metadata": {},
   "outputs": [
    {
     "data": {
      "text/plain": [
       "(1000, 9, 15, 512)"
      ]
     },
     "execution_count": 22,
     "metadata": {},
     "output_type": "execute_result"
    }
   ],
   "source": [
    "loaded_preds = np.load(PP_TEST_DATA + '.npy')\n",
    "loaded_preds.shape"
   ]
  },
  {
   "cell_type": "markdown",
   "metadata": {},
   "source": [
    "TEST STAGE 2 DATASET PREPROCESSING"
   ]
  },
  {
   "cell_type": "code",
   "execution_count": 23,
   "metadata": {},
   "outputs": [],
   "source": [
    "DATA_FOLDER = 'original/test/test_stg2/'\n",
    "PP_TEST_DATA = 'data/test_stg2_data'\n",
    "SHAPE = (300, 500, 3)\n",
    "\n",
    "files = os.listdir(DATA_FOLDER)\n",
    "n_files = len(files)"
   ]
  },
  {
   "cell_type": "code",
   "execution_count": 24,
   "metadata": {
    "collapsed": true
   },
   "outputs": [
    {
     "name": "stdout",
     "output_type": "stream",
     "text": [
      "0000/12153\r0001/12153\r0002/12153\r0003/12153\r0004/12153\r0005/12153\r"
     ]
    },
    {
     "name": "stdout",
     "output_type": "stream",
     "text": [
      "0006/12153\r0007/12153\r0008/12153\r0009/12153\r0010/12153\r"
     ]
    },
    {
     "name": "stdout",
     "output_type": "stream",
     "text": [
      "0011/12153\r"
     ]
    },
    {
     "name": "stdout",
     "output_type": "stream",
     "text": [
      "0012/12153\r0013/12153\r"
     ]
    },
    {
     "name": "stdout",
     "output_type": "stream",
     "text": [
      "0014/12153\r0015/12153\r0016/12153\r"
     ]
    },
    {
     "name": "stdout",
     "output_type": "stream",
     "text": [
      "0017/12153\r0018/12153\r0019/12153\r0020/12153\r"
     ]
    },
    {
     "name": "stdout",
     "output_type": "stream",
     "text": [
      "0021/12153\r0022/12153\r0023/12153\r"
     ]
    },
    {
     "name": "stdout",
     "output_type": "stream",
     "text": [
      "0024/12153\r0025/12153\r0026/12153\r"
     ]
    },
    {
     "name": "stdout",
     "output_type": "stream",
     "text": [
      "0027/12153\r0028/12153\r0029/12153\r0030/12153\r"
     ]
    },
    {
     "name": "stdout",
     "output_type": "stream",
     "text": [
      "0031/12153\r0032/12153\r0033/12153\r0034/12153\r"
     ]
    },
    {
     "name": "stdout",
     "output_type": "stream",
     "text": [
      "0035/12153\r0036/12153\r0037/12153\r0038/12153\r0039/12153\r"
     ]
    },
    {
     "name": "stdout",
     "output_type": "stream",
     "text": [
      "0040/12153\r0041/12153\r0042/12153\r0043/12153\r0044/12153\r0045/12153\r0046/12153\r"
     ]
    },
    {
     "name": "stdout",
     "output_type": "stream",
     "text": [
      "0047/12153\r0048/12153\r0049/12153\r0050/12153\r"
     ]
    },
    {
     "name": "stdout",
     "output_type": "stream",
     "text": [
      "0051/12153\r0052/12153\r0053/12153\r0054/12153\r0055/12153"
     ]
    },
    {
     "name": "stdout",
     "output_type": "stream",
     "text": [
      "\r0056/12153\r0057/12153\r0058/12153\r0059/12153\r"
     ]
    },
    {
     "name": "stdout",
     "output_type": "stream",
     "text": [
      "0060/12153\r0061/12153\r0062/12153\r0063/12153\r"
     ]
    },
    {
     "name": "stdout",
     "output_type": "stream",
     "text": [
      "0064/12153\r0065/12153\r0066/12153\r"
     ]
    },
    {
     "name": "stdout",
     "output_type": "stream",
     "text": [
      "0067/12153\r0068/12153\r0069/12153\r0070/12153\r"
     ]
    },
    {
     "name": "stdout",
     "output_type": "stream",
     "text": [
      "0071/12153\r0072/12153\r0073/12153\r"
     ]
    },
    {
     "name": "stdout",
     "output_type": "stream",
     "text": [
      "0074/12153\r0075/12153\r0076/12153\r0077/12153\r0078/12153\r0079/12153\r"
     ]
    },
    {
     "name": "stdout",
     "output_type": "stream",
     "text": [
      "0080/12153\r0081/12153\r0082/12153\r0083/12153\r0084/12153\r0085/12153\r0086/12153"
     ]
    },
    {
     "name": "stdout",
     "output_type": "stream",
     "text": [
      "\r0087/12153\r0088/12153\r0089/12153\r0090/12153\r0091/12153\r"
     ]
    },
    {
     "name": "stdout",
     "output_type": "stream",
     "text": [
      "0092/12153\r0093/12153\r0094/12153\r0095/12153\r0096/12153\r0097/12153\r0098/12153\r"
     ]
    },
    {
     "name": "stdout",
     "output_type": "stream",
     "text": [
      "0099/12153\r0100/12153\r0101/12153\r0102/12153\r0103/12153\r0104/12153\r0105/12153\r"
     ]
    },
    {
     "name": "stdout",
     "output_type": "stream",
     "text": [
      "0106/12153\r0107/12153\r0108/12153\r0109/12153\r0110/12153\r0111/12153\r"
     ]
    },
    {
     "name": "stdout",
     "output_type": "stream",
     "text": [
      "0112/12153\r0113/12153\r0114/12153\r0115/12153\r"
     ]
    },
    {
     "name": "stdout",
     "output_type": "stream",
     "text": [
      "0116/12153\r0117/12153\r0118/12153\r0119/12153\r"
     ]
    },
    {
     "name": "stdout",
     "output_type": "stream",
     "text": [
      "0120/12153\r0121/12153\r0122/12153\r"
     ]
    },
    {
     "name": "stdout",
     "output_type": "stream",
     "text": [
      "0123/12153\r0124/12153\r0125/12153\r0126/12153\r0127/12153\r0128/12153\r"
     ]
    },
    {
     "name": "stdout",
     "output_type": "stream",
     "text": [
      "0129/12153\r0130/12153\r0131/12153\r"
     ]
    },
    {
     "name": "stdout",
     "output_type": "stream",
     "text": [
      "0132/12153\r0133/12153\r0134/12153\r0135/12153\r0136/12153\r0137/12153\r0138/12153\r"
     ]
    },
    {
     "name": "stdout",
     "output_type": "stream",
     "text": [
      "0139/12153\r0140/12153\r0141/12153\r0142/12153\r0143/12153\r0144/12153\r0145/12153\r"
     ]
    },
    {
     "name": "stdout",
     "output_type": "stream",
     "text": [
      "0146/12153\r0147/12153\r0148/12153\r0149/12153\r"
     ]
    },
    {
     "name": "stdout",
     "output_type": "stream",
     "text": [
      "0150/12153\r0151/12153\r0152/12153\r0153/12153\r0154/12153\r0155/12153\r0156/12153\r"
     ]
    },
    {
     "name": "stdout",
     "output_type": "stream",
     "text": [
      "0157/12153\r0158/12153\r0159/12153\r0160/12153\r0161/12153\r0162/12153\r0163/12153\r"
     ]
    },
    {
     "name": "stdout",
     "output_type": "stream",
     "text": [
      "0164/12153\r0165/12153\r0166/12153\r0167/12153\r0168/12153\r0169/12153\r0170/12153\r"
     ]
    },
    {
     "name": "stdout",
     "output_type": "stream",
     "text": [
      "0171/12153\r0172/12153\r0173/12153\r0174/12153\r0175/12153\r0176/12153\r0177/12153\r"
     ]
    },
    {
     "name": "stdout",
     "output_type": "stream",
     "text": [
      "0178/12153\r0179/12153\r0180/12153\r0181/12153\r0182/12153\r0183/12153\r0184/12153\r"
     ]
    },
    {
     "name": "stdout",
     "output_type": "stream",
     "text": [
      "0185/12153\r0186/12153\r0187/12153\r0188/12153\r0189/12153\r0190/12153\r0191/12153\r"
     ]
    },
    {
     "name": "stdout",
     "output_type": "stream",
     "text": [
      "0192/12153\r0193/12153\r0194/12153\r0195/12153\r0196/12153\r0197/12153\r0198/12153\r"
     ]
    },
    {
     "name": "stdout",
     "output_type": "stream",
     "text": [
      "0199/12153\r0200/12153\r0201/12153\r0202/12153\r0203/12153\r0204/12153\r0205/12153\r"
     ]
    },
    {
     "name": "stdout",
     "output_type": "stream",
     "text": [
      "0206/12153\r0207/12153\r0208/12153\r"
     ]
    },
    {
     "name": "stdout",
     "output_type": "stream",
     "text": [
      "0209/12153\r0210/12153\r0211/12153\r0212/12153\r0213/12153\r0214/12153\r"
     ]
    },
    {
     "name": "stdout",
     "output_type": "stream",
     "text": [
      "0215/12153\r0216/12153\r0217/12153\r0218/12153\r0219/12153\r0220/12153\r"
     ]
    },
    {
     "name": "stdout",
     "output_type": "stream",
     "text": [
      "0221/12153\r0222/12153\r0223/12153\r0224/12153\r0225/12153\r0226/12153\r0227/12153\r"
     ]
    },
    {
     "name": "stdout",
     "output_type": "stream",
     "text": [
      "0228/12153\r0229/12153\r0230/12153\r0231/12153\r0232/12153\r0233/12153\r0234/12153\r"
     ]
    },
    {
     "name": "stdout",
     "output_type": "stream",
     "text": [
      "0235/12153\r0236/12153\r0237/12153\r0238/12153\r0239/12153\r0240/12153\r0241/12153\r"
     ]
    },
    {
     "name": "stdout",
     "output_type": "stream",
     "text": [
      "0242/12153\r0243/12153\r0244/12153\r0245/12153\r0246/12153\r0247/12153\r0248/12153\r"
     ]
    },
    {
     "name": "stdout",
     "output_type": "stream",
     "text": [
      "0249/12153\r0250/12153\r0251/12153\r0252/12153\r"
     ]
    },
    {
     "name": "stdout",
     "output_type": "stream",
     "text": [
      "0253/12153\r0254/12153\r0255/12153\r"
     ]
    },
    {
     "name": "stdout",
     "output_type": "stream",
     "text": [
      "0256/12153\r0257/12153\r0258/12153\r"
     ]
    },
    {
     "name": "stdout",
     "output_type": "stream",
     "text": [
      "0259/12153\r0260/12153\r0261/12153\r"
     ]
    },
    {
     "name": "stdout",
     "output_type": "stream",
     "text": [
      "0262/12153\r0263/12153\r0264/12153\r0265/12153\r0266/12153\r0267/12153\r"
     ]
    },
    {
     "name": "stdout",
     "output_type": "stream",
     "text": [
      "0268/12153\r0269/12153\r0270/12153\r"
     ]
    },
    {
     "name": "stdout",
     "output_type": "stream",
     "text": [
      "0271/12153\r0272/12153\r0273/12153\r0274/12153\r"
     ]
    },
    {
     "name": "stdout",
     "output_type": "stream",
     "text": [
      "0275/12153\r0276/12153\r0277/12153\r0278/12153\r0279/12153\r0280/12153\r"
     ]
    },
    {
     "name": "stdout",
     "output_type": "stream",
     "text": [
      "0281/12153\r0282/12153\r0283/12153\r0284/12153\r"
     ]
    },
    {
     "name": "stdout",
     "output_type": "stream",
     "text": [
      "0285/12153\r0286/12153\r0287/12153\r0288/12153\r"
     ]
    },
    {
     "name": "stdout",
     "output_type": "stream",
     "text": [
      "0289/12153\r0290/12153\r0291/12153\r"
     ]
    },
    {
     "name": "stdout",
     "output_type": "stream",
     "text": [
      "0292/12153\r0293/12153\r0294/12153\r"
     ]
    },
    {
     "name": "stdout",
     "output_type": "stream",
     "text": [
      "0295/12153\r0296/12153\r0297/12153\r"
     ]
    },
    {
     "name": "stdout",
     "output_type": "stream",
     "text": [
      "0298/12153\r0299/12153\r0300/12153\r0301/12153\r"
     ]
    },
    {
     "name": "stdout",
     "output_type": "stream",
     "text": [
      "0302/12153\r0303/12153\r0304/12153\r0305/12153\r"
     ]
    },
    {
     "name": "stdout",
     "output_type": "stream",
     "text": [
      "0306/12153\r0307/12153\r0308/12153\r0309/12153\r0310/12153\r0311/12153\r0312/12153\r"
     ]
    },
    {
     "name": "stdout",
     "output_type": "stream",
     "text": [
      "0313/12153\r0314/12153\r0315/12153\r0316/12153\r0317/12153\r0318/12153\r0319/12153\r"
     ]
    },
    {
     "name": "stdout",
     "output_type": "stream",
     "text": [
      "0320/12153\r0321/12153\r0322/12153\r0323/12153\r0324/12153\r0325/12153\r0326/12153"
     ]
    },
    {
     "name": "stdout",
     "output_type": "stream",
     "text": [
      "\r0327/12153\r0328/12153\r0329/12153\r0330/12153\r0331/12153\r0332/12153\r0333/12153\r"
     ]
    },
    {
     "name": "stdout",
     "output_type": "stream",
     "text": [
      "0334/12153\r0335/12153\r0336/12153\r0337/12153\r0338/12153\r0339/12153\r0340/12153\r"
     ]
    },
    {
     "name": "stdout",
     "output_type": "stream",
     "text": [
      "0341/12153\r0342/12153\r0343/12153\r0344/12153\r0345/12153\r0346/12153\r0347/12153\r"
     ]
    },
    {
     "name": "stdout",
     "output_type": "stream",
     "text": [
      "0348/12153\r0349/12153\r0350/12153\r0351/12153\r0352/12153\r0353/12153\r0354/12153\r"
     ]
    },
    {
     "name": "stdout",
     "output_type": "stream",
     "text": [
      "0355/12153\r0356/12153\r0357/12153\r0358/12153\r0359/12153\r0360/12153\r0361/12153\r"
     ]
    },
    {
     "name": "stdout",
     "output_type": "stream",
     "text": [
      "0362/12153\r0363/12153\r0364/12153\r0365/12153\r0366/12153\r0367/12153\r0368/12153\r"
     ]
    },
    {
     "name": "stdout",
     "output_type": "stream",
     "text": [
      "0369/12153\r0370/12153\r0371/12153\r0372/12153\r0373/12153\r0374/12153\r0375/12153\r"
     ]
    },
    {
     "name": "stdout",
     "output_type": "stream",
     "text": [
      "0376/12153\r0377/12153\r0378/12153\r0379/12153\r0380/12153\r0381/12153\r0382/12153\r"
     ]
    },
    {
     "name": "stdout",
     "output_type": "stream",
     "text": [
      "0383/12153\r0384/12153\r0385/12153\r0386/12153\r0387/12153\r0388/12153\r0389/12153\r"
     ]
    },
    {
     "name": "stdout",
     "output_type": "stream",
     "text": [
      "0390/12153\r0391/12153\r0392/12153\r0393/12153\r0394/12153\r0395/12153\r0396/12153\r0397/12153"
     ]
    },
    {
     "name": "stdout",
     "output_type": "stream",
     "text": [
      "\r0398/12153\r0399/12153\r0400/12153\r0401/12153\r0402/12153\r0403/12153\r0404/12153\r"
     ]
    },
    {
     "name": "stdout",
     "output_type": "stream",
     "text": [
      "0405/12153\r0406/12153\r0407/12153\r0408/12153\r0409/12153\r0410/12153\r0411/12153\r"
     ]
    },
    {
     "name": "stdout",
     "output_type": "stream",
     "text": [
      "0412/12153\r0413/12153\r0414/12153\r0415/12153\r0416/12153\r0417/12153\r0418/12153\r"
     ]
    },
    {
     "name": "stdout",
     "output_type": "stream",
     "text": [
      "0419/12153\r0420/12153\r0421/12153\r0422/12153\r0423/12153\r0424/12153\r0425/12153\r"
     ]
    },
    {
     "name": "stdout",
     "output_type": "stream",
     "text": [
      "0426/12153\r0427/12153\r0428/12153\r0429/12153\r0430/12153\r0431/12153\r0432/12153\r"
     ]
    },
    {
     "name": "stdout",
     "output_type": "stream",
     "text": [
      "0433/12153\r0434/12153\r0435/12153\r0436/12153\r0437/12153\r0438/12153\r0439/12153\r"
     ]
    },
    {
     "name": "stdout",
     "output_type": "stream",
     "text": [
      "0440/12153\r0441/12153\r0442/12153\r0443/12153\r0444/12153\r0445/12153\r0446/12153\r"
     ]
    },
    {
     "name": "stdout",
     "output_type": "stream",
     "text": [
      "0447/12153\r0448/12153\r0449/12153\r0450/12153\r0451/12153\r0452/12153\r0453/12153\r"
     ]
    },
    {
     "name": "stdout",
     "output_type": "stream",
     "text": [
      "0454/12153\r0455/12153\r0456/12153\r0457/12153\r0458/12153\r0459/12153\r0460/12153\r"
     ]
    },
    {
     "name": "stdout",
     "output_type": "stream",
     "text": [
      "0461/12153\r0462/12153\r0463/12153\r0464/12153\r0465/12153\r0466/12153\r0467/12153\r"
     ]
    },
    {
     "name": "stdout",
     "output_type": "stream",
     "text": [
      "0468/12153\r0469/12153\r0470/12153\r0471/12153\r0472/12153\r0473/12153\r0474/12153\r"
     ]
    },
    {
     "name": "stdout",
     "output_type": "stream",
     "text": [
      "0475/12153\r0476/12153\r0477/12153\r0478/12153\r0479/12153\r0480/12153\r0481/12153\r"
     ]
    },
    {
     "name": "stdout",
     "output_type": "stream",
     "text": [
      "0482/12153\r0483/12153\r0484/12153\r0485/12153\r0486/12153\r0487/12153\r0488/12153\r"
     ]
    },
    {
     "name": "stdout",
     "output_type": "stream",
     "text": [
      "0489/12153\r0490/12153\r0491/12153\r0492/12153\r0493/12153\r0494/12153\r0495/12153\r"
     ]
    },
    {
     "name": "stdout",
     "output_type": "stream",
     "text": [
      "0496/12153\r0497/12153\r0498/12153\r0499/12153\r0500/12153\r0501/12153\r0502/12153\r"
     ]
    },
    {
     "name": "stdout",
     "output_type": "stream",
     "text": [
      "0503/12153\r0504/12153\r0505/12153\r0506/12153\r0507/12153\r0508/12153\r0509/12153\r"
     ]
    },
    {
     "name": "stdout",
     "output_type": "stream",
     "text": [
      "0510/12153\r0511/12153\r0512/12153\r0513/12153\r0514/12153\r0515/12153\r0516/12153\r"
     ]
    },
    {
     "name": "stdout",
     "output_type": "stream",
     "text": [
      "0517/12153\r0518/12153\r0519/12153\r0520/12153\r0521/12153\r0522/12153\r0523/12153\r"
     ]
    },
    {
     "name": "stdout",
     "output_type": "stream",
     "text": [
      "0524/12153\r0525/12153\r0526/12153\r0527/12153\r0528/12153\r0529/12153\r0530/12153\r"
     ]
    },
    {
     "name": "stdout",
     "output_type": "stream",
     "text": [
      "0531/12153\r0532/12153\r0533/12153\r0534/12153\r0535/12153\r0536/12153\r0537/12153\r"
     ]
    },
    {
     "name": "stdout",
     "output_type": "stream",
     "text": [
      "0538/12153\r0539/12153\r0540/12153\r0541/12153\r0542/12153\r0543/12153\r0544/12153\r"
     ]
    },
    {
     "name": "stdout",
     "output_type": "stream",
     "text": [
      "0545/12153\r0546/12153\r0547/12153\r0548/12153\r0549/12153\r0550/12153\r0551/12153\r"
     ]
    },
    {
     "name": "stdout",
     "output_type": "stream",
     "text": [
      "0552/12153\r0553/12153\r0554/12153\r0555/12153\r0556/12153\r0557/12153\r0558/12153\r"
     ]
    },
    {
     "name": "stdout",
     "output_type": "stream",
     "text": [
      "0559/12153\r0560/12153\r0561/12153\r0562/12153\r0563/12153\r0564/12153\r0565/12153\r"
     ]
    },
    {
     "name": "stdout",
     "output_type": "stream",
     "text": [
      "0566/12153\r0567/12153\r0568/12153\r0569/12153\r0570/12153\r0571/12153\r0572/12153\r"
     ]
    },
    {
     "name": "stdout",
     "output_type": "stream",
     "text": [
      "0573/12153\r0574/12153\r0575/12153\r0576/12153\r0577/12153\r0578/12153\r0579/12153\r"
     ]
    },
    {
     "name": "stdout",
     "output_type": "stream",
     "text": [
      "0580/12153\r0581/12153\r0582/12153\r0583/12153\r0584/12153\r0585/12153\r0586/12153\r"
     ]
    },
    {
     "name": "stdout",
     "output_type": "stream",
     "text": [
      "0587/12153\r0588/12153\r0589/12153\r0590/12153\r0591/12153\r0592/12153\r0593/12153\r"
     ]
    },
    {
     "name": "stdout",
     "output_type": "stream",
     "text": [
      "0594/12153\r0595/12153\r0596/12153\r0597/12153\r0598/12153\r0599/12153\r0600/12153\r"
     ]
    },
    {
     "name": "stdout",
     "output_type": "stream",
     "text": [
      "0601/12153\r0602/12153\r0603/12153\r0604/12153\r0605/12153\r0606/12153\r0607/12153\r"
     ]
    },
    {
     "name": "stdout",
     "output_type": "stream",
     "text": [
      "0608/12153\r0609/12153\r0610/12153\r0611/12153\r0612/12153\r0613/12153\r0614/12153\r"
     ]
    },
    {
     "name": "stdout",
     "output_type": "stream",
     "text": [
      "0615/12153\r0616/12153\r0617/12153\r0618/12153\r0619/12153\r0620/12153\r0621/12153\r"
     ]
    },
    {
     "name": "stdout",
     "output_type": "stream",
     "text": [
      "0622/12153\r0623/12153\r0624/12153\r0625/12153\r0626/12153\r0627/12153\r"
     ]
    },
    {
     "name": "stdout",
     "output_type": "stream",
     "text": [
      "0628/12153\r0629/12153\r0630/12153\r0631/12153\r0632/12153\r0633/12153\r"
     ]
    },
    {
     "name": "stdout",
     "output_type": "stream",
     "text": [
      "0634/12153\r0635/12153\r0636/12153\r0637/12153\r0638/12153\r0639/12153\r0640/12153\r"
     ]
    },
    {
     "name": "stdout",
     "output_type": "stream",
     "text": [
      "0641/12153\r0642/12153\r0643/12153\r0644/12153\r0645/12153\r0646/12153\r0647/12153\r"
     ]
    },
    {
     "name": "stdout",
     "output_type": "stream",
     "text": [
      "0648/12153\r0649/12153\r0650/12153\r0651/12153\r0652/12153\r"
     ]
    },
    {
     "name": "stdout",
     "output_type": "stream",
     "text": [
      "0653/12153\r0654/12153\r0655/12153\r0656/12153\r0657/12153\r"
     ]
    },
    {
     "name": "stdout",
     "output_type": "stream",
     "text": [
      "0658/12153\r0659/12153\r0660/12153\r0661/12153\r0662/12153\r0663/12153\r0664/12153\r"
     ]
    },
    {
     "name": "stdout",
     "output_type": "stream",
     "text": [
      "0665/12153\r0666/12153\r0667/12153\r0668/12153\r0669/12153\r0670/12153\r0671/12153\r"
     ]
    },
    {
     "name": "stdout",
     "output_type": "stream",
     "text": [
      "0672/12153\r0673/12153\r0674/12153\r0675/12153\r0676/12153\r0677/12153\r0678/12153\r"
     ]
    },
    {
     "name": "stdout",
     "output_type": "stream",
     "text": [
      "0679/12153\r0680/12153\r0681/12153\r0682/12153\r0683/12153\r0684/12153\r0685/12153\r"
     ]
    },
    {
     "name": "stdout",
     "output_type": "stream",
     "text": [
      "0686/12153\r0687/12153\r0688/12153\r0689/12153\r0690/12153\r0691/12153\r0692/12153\r"
     ]
    },
    {
     "name": "stdout",
     "output_type": "stream",
     "text": [
      "0693/12153\r0694/12153\r0695/12153\r0696/12153\r0697/12153\r0698/12153\r0699/12153\r"
     ]
    },
    {
     "name": "stdout",
     "output_type": "stream",
     "text": [
      "0700/12153\r0701/12153\r0702/12153\r0703/12153\r0704/12153\r0705/12153\r0706/12153\r"
     ]
    },
    {
     "name": "stdout",
     "output_type": "stream",
     "text": [
      "0707/12153\r0708/12153\r0709/12153\r0710/12153\r0711/12153\r0712/12153\r0713/12153\r"
     ]
    },
    {
     "name": "stdout",
     "output_type": "stream",
     "text": [
      "0714/12153\r0715/12153\r0716/12153\r0717/12153\r0718/12153\r0719/12153\r0720/12153\r"
     ]
    },
    {
     "name": "stdout",
     "output_type": "stream",
     "text": [
      "0721/12153\r0722/12153\r0723/12153\r0724/12153\r0725/12153\r0726/12153\r0727/12153\r"
     ]
    },
    {
     "name": "stdout",
     "output_type": "stream",
     "text": [
      "0728/12153\r0729/12153\r0730/12153\r0731/12153\r0732/12153\r0733/12153\r0734/12153\r"
     ]
    },
    {
     "name": "stdout",
     "output_type": "stream",
     "text": [
      "0735/12153\r0736/12153\r0737/12153\r0738/12153\r0739/12153\r0740/12153\r0741/12153\r"
     ]
    },
    {
     "name": "stdout",
     "output_type": "stream",
     "text": [
      "0742/12153\r0743/12153\r0744/12153\r0745/12153\r0746/12153\r0747/12153\r"
     ]
    },
    {
     "name": "stdout",
     "output_type": "stream",
     "text": [
      "0748/12153\r0749/12153\r0750/12153\r0751/12153\r0752/12153\r0753/12153\r0754/12153\r"
     ]
    },
    {
     "name": "stdout",
     "output_type": "stream",
     "text": [
      "0755/12153\r0756/12153\r0757/12153\r0758/12153\r0759/12153\r"
     ]
    },
    {
     "name": "stdout",
     "output_type": "stream",
     "text": [
      "0760/12153\r0761/12153\r"
     ]
    },
    {
     "name": "stdout",
     "output_type": "stream",
     "text": [
      "0762/12153\r0763/12153\r0764/12153\r0765/12153\r0766/12153\r0767/12153\r"
     ]
    },
    {
     "name": "stdout",
     "output_type": "stream",
     "text": [
      "0768/12153\r0769/12153\r0770/12153\r0771/12153\r0772/12153\r0773/12153\r"
     ]
    },
    {
     "name": "stdout",
     "output_type": "stream",
     "text": [
      "0774/12153\r0775/12153\r0776/12153\r0777/12153\r0778/12153\r0779/12153\r0780/12153\r"
     ]
    },
    {
     "name": "stdout",
     "output_type": "stream",
     "text": [
      "0781/12153\r0782/12153\r0783/12153\r0784/12153\r0785/12153\r"
     ]
    },
    {
     "name": "stdout",
     "output_type": "stream",
     "text": [
      "0786/12153\r0787/12153\r0788/12153\r0789/12153\r0790/12153\r0791/12153\r0792/12153\r"
     ]
    },
    {
     "name": "stdout",
     "output_type": "stream",
     "text": [
      "0793/12153\r0794/12153\r0795/12153\r0796/12153\r0797/12153\r0798/12153\r0799/12153\r"
     ]
    },
    {
     "name": "stdout",
     "output_type": "stream",
     "text": [
      "0800/12153\r0801/12153\r0802/12153\r0803/12153\r0804/12153\r0805/12153\r0806/12153\r"
     ]
    },
    {
     "name": "stdout",
     "output_type": "stream",
     "text": [
      "0807/12153\r0808/12153\r0809/12153\r0810/12153\r0811/12153\r0812/12153\r0813/12153\r"
     ]
    },
    {
     "name": "stdout",
     "output_type": "stream",
     "text": [
      "0814/12153\r0815/12153\r0816/12153\r0817/12153\r0818/12153\r0819/12153\r0820/12153\r"
     ]
    },
    {
     "name": "stdout",
     "output_type": "stream",
     "text": [
      "0821/12153\r0822/12153\r0823/12153\r0824/12153\r0825/12153\r0826/12153\r0827/12153\r"
     ]
    },
    {
     "name": "stdout",
     "output_type": "stream",
     "text": [
      "0828/12153\r0829/12153\r0830/12153\r0831/12153\r0832/12153\r0833/12153\r0834/12153\r"
     ]
    },
    {
     "name": "stdout",
     "output_type": "stream",
     "text": [
      "0835/12153\r0836/12153\r0837/12153\r0838/12153\r0839/12153\r0840/12153\r0841/12153\r"
     ]
    },
    {
     "name": "stdout",
     "output_type": "stream",
     "text": [
      "0842/12153\r0843/12153\r0844/12153\r0845/12153\r0846/12153\r0847/12153\r0848/12153\r"
     ]
    },
    {
     "name": "stdout",
     "output_type": "stream",
     "text": [
      "0849/12153\r0850/12153\r0851/12153\r0852/12153\r0853/12153\r0854/12153\r0855/12153"
     ]
    },
    {
     "name": "stdout",
     "output_type": "stream",
     "text": [
      "\r0856/12153\r0857/12153\r0858/12153\r0859/12153\r0860/12153\r0861/12153\r0862/12153\r"
     ]
    },
    {
     "name": "stdout",
     "output_type": "stream",
     "text": [
      "0863/12153\r0864/12153\r0865/12153\r0866/12153\r0867/12153\r0868/12153\r0869/12153\r"
     ]
    },
    {
     "name": "stdout",
     "output_type": "stream",
     "text": [
      "0870/12153\r0871/12153\r0872/12153\r0873/12153\r0874/12153\r0875/12153\r0876/12153\r"
     ]
    },
    {
     "name": "stdout",
     "output_type": "stream",
     "text": [
      "0877/12153\r0878/12153\r0879/12153\r0880/12153\r0881/12153\r0882/12153\r0883/12153\r"
     ]
    },
    {
     "name": "stdout",
     "output_type": "stream",
     "text": [
      "0884/12153\r0885/12153\r0886/12153\r0887/12153\r0888/12153\r0889/12153\r0890/12153\r"
     ]
    },
    {
     "name": "stdout",
     "output_type": "stream",
     "text": [
      "0891/12153\r0892/12153\r0893/12153\r0894/12153\r0895/12153\r0896/12153\r0897/12153\r"
     ]
    },
    {
     "name": "stdout",
     "output_type": "stream",
     "text": [
      "0898/12153\r0899/12153\r0900/12153\r0901/12153\r0902/12153\r0903/12153\r0904/12153\r"
     ]
    },
    {
     "name": "stdout",
     "output_type": "stream",
     "text": [
      "0905/12153\r0906/12153\r0907/12153\r0908/12153\r0909/12153\r0910/12153\r0911/12153\r"
     ]
    },
    {
     "name": "stdout",
     "output_type": "stream",
     "text": [
      "0912/12153\r0913/12153\r0914/12153\r0915/12153\r0916/12153\r0917/12153\r0918/12153\r"
     ]
    },
    {
     "name": "stdout",
     "output_type": "stream",
     "text": [
      "0919/12153\r0920/12153\r0921/12153\r0922/12153\r0923/12153\r0924/12153\r0925/12153\r"
     ]
    },
    {
     "name": "stdout",
     "output_type": "stream",
     "text": [
      "0926/12153\r0927/12153\r0928/12153\r0929/12153\r0930/12153\r0931/12153\r0932/12153\r"
     ]
    },
    {
     "name": "stdout",
     "output_type": "stream",
     "text": [
      "0933/12153\r0934/12153\r0935/12153\r0936/12153\r0937/12153\r0938/12153\r0939/12153\r"
     ]
    },
    {
     "name": "stdout",
     "output_type": "stream",
     "text": [
      "0940/12153\r0941/12153\r0942/12153\r0943/12153\r0944/12153\r0945/12153\r0946/12153\r"
     ]
    },
    {
     "name": "stdout",
     "output_type": "stream",
     "text": [
      "0947/12153\r0948/12153\r0949/12153\r0950/12153\r0951/12153\r0952/12153\r"
     ]
    },
    {
     "name": "stdout",
     "output_type": "stream",
     "text": [
      "0953/12153\r0954/12153\r0955/12153\r0956/12153\r0957/12153\r0958/12153\r0959/12153"
     ]
    },
    {
     "name": "stdout",
     "output_type": "stream",
     "text": [
      "\r0960/12153\r0961/12153\r0962/12153\r0963/12153\r0964/12153\r0965/12153\r0966/12153\r"
     ]
    },
    {
     "name": "stdout",
     "output_type": "stream",
     "text": [
      "0967/12153\r0968/12153\r0969/12153\r0970/12153\r0971/12153\r0972/12153\r"
     ]
    },
    {
     "name": "stdout",
     "output_type": "stream",
     "text": [
      "0973/12153\r0974/12153\r0975/12153\r0976/12153\r0977/12153\r"
     ]
    },
    {
     "name": "stdout",
     "output_type": "stream",
     "text": [
      "0978/12153\r0979/12153\r0980/12153\r0981/12153\r"
     ]
    },
    {
     "name": "stdout",
     "output_type": "stream",
     "text": [
      "0982/12153\r0983/12153\r0984/12153\r"
     ]
    },
    {
     "name": "stdout",
     "output_type": "stream",
     "text": [
      "0985/12153\r0986/12153\r"
     ]
    },
    {
     "name": "stdout",
     "output_type": "stream",
     "text": [
      "0987/12153\r0988/12153\r"
     ]
    },
    {
     "name": "stdout",
     "output_type": "stream",
     "text": [
      "0989/12153\r0990/12153\r0991/12153\r"
     ]
    },
    {
     "name": "stdout",
     "output_type": "stream",
     "text": [
      "0992/12153\r0993/12153\r"
     ]
    },
    {
     "name": "stdout",
     "output_type": "stream",
     "text": [
      "0994/12153\r"
     ]
    },
    {
     "name": "stdout",
     "output_type": "stream",
     "text": [
      "0995/12153\r"
     ]
    },
    {
     "name": "stdout",
     "output_type": "stream",
     "text": [
      "0996/12153\r0997/12153\r0998/12153\r0999/12153\r1000/12153\r"
     ]
    },
    {
     "name": "stdout",
     "output_type": "stream",
     "text": [
      "1001/12153\r1002/12153\r1003/12153\r1004/12153\r1005/12153\r1006/12153\r"
     ]
    },
    {
     "name": "stdout",
     "output_type": "stream",
     "text": [
      "1007/12153\r1008/12153\r1009/12153\r"
     ]
    },
    {
     "name": "stdout",
     "output_type": "stream",
     "text": [
      "1010/12153\r1011/12153\r1012/12153\r"
     ]
    },
    {
     "name": "stdout",
     "output_type": "stream",
     "text": [
      "1013/12153\r1014/12153\r1015/12153\r"
     ]
    },
    {
     "name": "stdout",
     "output_type": "stream",
     "text": [
      "1016/12153\r1017/12153\r1018/12153\r1019/12153\r"
     ]
    },
    {
     "name": "stdout",
     "output_type": "stream",
     "text": [
      "1020/12153\r1021/12153\r1022/12153\r1023/12153\r"
     ]
    },
    {
     "name": "stdout",
     "output_type": "stream",
     "text": [
      "1024/12153\r1025/12153\r1026/12153\r1027/12153\r1028/12153\r"
     ]
    },
    {
     "name": "stdout",
     "output_type": "stream",
     "text": [
      "1029/12153\r1030/12153\r1031/12153\r1032/12153\r1033/12153\r1034/12153\r1035/12153"
     ]
    },
    {
     "name": "stdout",
     "output_type": "stream",
     "text": [
      "\r1036/12153\r1037/12153\r1038/12153\r1039/12153\r1040/12153\r1041/12153\r"
     ]
    },
    {
     "name": "stdout",
     "output_type": "stream",
     "text": [
      "1042/12153\r1043/12153\r1044/12153\r1045/12153\r1046/12153\r1047/12153\r"
     ]
    },
    {
     "name": "stdout",
     "output_type": "stream",
     "text": [
      "1048/12153\r1049/12153\r1050/12153\r1051/12153\r1052/12153\r1053/12153\r"
     ]
    },
    {
     "name": "stdout",
     "output_type": "stream",
     "text": [
      "1054/12153\r1055/12153\r1056/12153\r1057/12153\r"
     ]
    },
    {
     "name": "stdout",
     "output_type": "stream",
     "text": [
      "1058/12153\r"
     ]
    },
    {
     "name": "stdout",
     "output_type": "stream",
     "text": [
      "1059/12153\r"
     ]
    },
    {
     "name": "stdout",
     "output_type": "stream",
     "text": [
      "1060/12153\r1061/12153\r1062/12153\r"
     ]
    },
    {
     "name": "stdout",
     "output_type": "stream",
     "text": [
      "1063/12153\r1064/12153\r1065/12153\r1066/12153\r1067/12153\r"
     ]
    },
    {
     "name": "stdout",
     "output_type": "stream",
     "text": [
      "1068/12153\r1069/12153\r1070/12153\r1071/12153\r1072/12153\r"
     ]
    },
    {
     "name": "stdout",
     "output_type": "stream",
     "text": [
      "1073/12153\r1074/12153\r1075/12153\r1076/12153\r1077/12153\r1078/12153\r"
     ]
    },
    {
     "name": "stdout",
     "output_type": "stream",
     "text": [
      "1079/12153\r1080/12153\r1081/12153\r1082/12153\r1083/12153\r1084/12153\r"
     ]
    },
    {
     "name": "stdout",
     "output_type": "stream",
     "text": [
      "1085/12153\r1086/12153\r1087/12153\r1088/12153\r1089/12153\r1090/12153\r"
     ]
    },
    {
     "name": "stdout",
     "output_type": "stream",
     "text": [
      "1091/12153\r1092/12153\r1093/12153\r1094/12153\r1095/12153\r1096/12153\r"
     ]
    },
    {
     "name": "stdout",
     "output_type": "stream",
     "text": [
      "1097/12153\r1098/12153\r1099/12153\r1100/12153\r1101/12153\r1102/12153\r"
     ]
    },
    {
     "name": "stdout",
     "output_type": "stream",
     "text": [
      "1103/12153\r1104/12153\r1105/12153\r1106/12153\r1107/12153\r"
     ]
    },
    {
     "name": "stdout",
     "output_type": "stream",
     "text": [
      "1108/12153\r1109/12153\r1110/12153\r1111/12153\r1112/12153\r"
     ]
    },
    {
     "name": "stdout",
     "output_type": "stream",
     "text": [
      "1113/12153\r1114/12153\r1115/12153\r1116/12153\r1117/12153\r"
     ]
    },
    {
     "name": "stdout",
     "output_type": "stream",
     "text": [
      "1118/12153\r1119/12153\r1120/12153\r1121/12153\r1122/12153\r1123/12153\r"
     ]
    },
    {
     "name": "stdout",
     "output_type": "stream",
     "text": [
      "1124/12153\r1125/12153\r1126/12153\r1127/12153\r1128/12153\r1129/12153\r"
     ]
    },
    {
     "name": "stdout",
     "output_type": "stream",
     "text": [
      "1130/12153\r1131/12153\r1132/12153\r1133/12153\r1134/12153\r1135/12153\r"
     ]
    },
    {
     "name": "stdout",
     "output_type": "stream",
     "text": [
      "1136/12153\r1137/12153\r1138/12153\r1139/12153\r1140/12153\r1141/12153\r"
     ]
    },
    {
     "name": "stdout",
     "output_type": "stream",
     "text": [
      "1142/12153\r1143/12153\r1144/12153\r1145/12153\r1146/12153\r1147/12153\r"
     ]
    },
    {
     "name": "stdout",
     "output_type": "stream",
     "text": [
      "1148/12153\r1149/12153\r1150/12153\r1151/12153\r1152/12153\r1153/12153\r"
     ]
    },
    {
     "name": "stdout",
     "output_type": "stream",
     "text": [
      "1154/12153\r1155/12153\r1156/12153\r1157/12153\r1158/12153\r1159/12153\r1160/12153\r"
     ]
    },
    {
     "name": "stdout",
     "output_type": "stream",
     "text": [
      "1161/12153\r1162/12153\r1163/12153\r1164/12153\r1165/12153\r1166/12153\r"
     ]
    },
    {
     "name": "stdout",
     "output_type": "stream",
     "text": [
      "1167/12153\r1168/12153\r1169/12153\r1170/12153\r1171/12153\r"
     ]
    },
    {
     "name": "stdout",
     "output_type": "stream",
     "text": [
      "1172/12153\r1173/12153\r1174/12153\r1175/12153\r1176/12153\r1177/12153\r"
     ]
    },
    {
     "name": "stdout",
     "output_type": "stream",
     "text": [
      "1178/12153\r1179/12153\r1180/12153\r1181/12153\r1182/12153\r1183/12153\r"
     ]
    },
    {
     "name": "stdout",
     "output_type": "stream",
     "text": [
      "1184/12153\r1185/12153\r1186/12153\r1187/12153\r1188/12153\r1189/12153\r1190/12153\r"
     ]
    },
    {
     "name": "stdout",
     "output_type": "stream",
     "text": [
      "1191/12153\r1192/12153\r1193/12153\r1194/12153\r1195/12153\r1196/12153\r1197/12153"
     ]
    },
    {
     "name": "stdout",
     "output_type": "stream",
     "text": [
      "\r1198/12153\r1199/12153\r1200/12153\r1201/12153\r1202/12153\r1203/12153\r1204/12153\r"
     ]
    },
    {
     "name": "stdout",
     "output_type": "stream",
     "text": [
      "1205/12153\r1206/12153\r1207/12153\r1208/12153\r1209/12153\r1210/12153\r1211/12153\r"
     ]
    },
    {
     "name": "stdout",
     "output_type": "stream",
     "text": [
      "1212/12153\r1213/12153\r1214/12153\r1215/12153\r1216/12153\r1217/12153\r1218/12153\r"
     ]
    },
    {
     "name": "stdout",
     "output_type": "stream",
     "text": [
      "1219/12153\r1220/12153\r1221/12153\r1222/12153\r1223/12153\r1224/12153\r1225/12153\r"
     ]
    },
    {
     "name": "stdout",
     "output_type": "stream",
     "text": [
      "1226/12153\r1227/12153\r1228/12153\r1229/12153\r1230/12153\r1231/12153\r1232/12153\r"
     ]
    },
    {
     "name": "stdout",
     "output_type": "stream",
     "text": [
      "1233/12153\r1234/12153\r1235/12153\r1236/12153\r1237/12153\r1238/12153\r1239/12153\r"
     ]
    },
    {
     "name": "stdout",
     "output_type": "stream",
     "text": [
      "1240/12153\r1241/12153\r1242/12153\r1243/12153\r1244/12153\r1245/12153\r1246/12153\r"
     ]
    },
    {
     "name": "stdout",
     "output_type": "stream",
     "text": [
      "1247/12153\r1248/12153\r1249/12153\r1250/12153\r1251/12153\r1252/12153\r1253/12153\r"
     ]
    },
    {
     "name": "stdout",
     "output_type": "stream",
     "text": [
      "1254/12153\r1255/12153\r1256/12153\r1257/12153\r1258/12153\r1259/12153\r"
     ]
    },
    {
     "name": "stdout",
     "output_type": "stream",
     "text": [
      "1260/12153\r1261/12153\r1262/12153\r1263/12153\r1264/12153\r1265/12153\r"
     ]
    },
    {
     "name": "stdout",
     "output_type": "stream",
     "text": [
      "1266/12153\r1267/12153\r1268/12153\r1269/12153\r1270/12153\r1271/12153\r"
     ]
    },
    {
     "name": "stdout",
     "output_type": "stream",
     "text": [
      "1272/12153\r1273/12153\r1274/12153\r1275/12153\r1276/12153\r1277/12153\r1278/12153\r"
     ]
    },
    {
     "name": "stdout",
     "output_type": "stream",
     "text": [
      "1279/12153\r1280/12153\r1281/12153\r1282/12153\r1283/12153\r1284/12153\r1285/12153\r"
     ]
    },
    {
     "name": "stdout",
     "output_type": "stream",
     "text": [
      "1286/12153\r1287/12153\r1288/12153\r1289/12153\r1290/12153\r1291/12153\r"
     ]
    },
    {
     "name": "stdout",
     "output_type": "stream",
     "text": [
      "1292/12153\r1293/12153\r1294/12153\r1295/12153\r1296/12153\r1297/12153\r1298/12153\r"
     ]
    },
    {
     "name": "stdout",
     "output_type": "stream",
     "text": [
      "1299/12153\r1300/12153\r1301/12153\r1302/12153\r1303/12153\r1304/12153\r1305/12153\r"
     ]
    },
    {
     "name": "stdout",
     "output_type": "stream",
     "text": [
      "1306/12153\r1307/12153\r1308/12153\r1309/12153\r1310/12153\r1311/12153\r"
     ]
    },
    {
     "name": "stdout",
     "output_type": "stream",
     "text": [
      "1312/12153\r1313/12153\r1314/12153\r1315/12153\r1316/12153\r1317/12153\r"
     ]
    },
    {
     "name": "stdout",
     "output_type": "stream",
     "text": [
      "1318/12153\r1319/12153\r1320/12153\r1321/12153\r1322/12153\r1323/12153\r1324/12153"
     ]
    },
    {
     "name": "stdout",
     "output_type": "stream",
     "text": [
      "\r1325/12153\r1326/12153\r1327/12153\r1328/12153\r1329/12153\r1330/12153\r1331/12153\r"
     ]
    },
    {
     "name": "stdout",
     "output_type": "stream",
     "text": [
      "1332/12153\r1333/12153\r1334/12153\r1335/12153\r1336/12153\r1337/12153\r1338/12153\r"
     ]
    },
    {
     "name": "stdout",
     "output_type": "stream",
     "text": [
      "1339/12153\r1340/12153\r1341/12153\r1342/12153\r1343/12153\r1344/12153\r1345/12153\r"
     ]
    },
    {
     "name": "stdout",
     "output_type": "stream",
     "text": [
      "1346/12153\r1347/12153\r1348/12153\r1349/12153\r1350/12153\r1351/12153\r1352/12153\r"
     ]
    },
    {
     "name": "stdout",
     "output_type": "stream",
     "text": [
      "1353/12153\r1354/12153\r1355/12153\r1356/12153\r1357/12153\r1358/12153\r"
     ]
    },
    {
     "name": "stdout",
     "output_type": "stream",
     "text": [
      "1359/12153\r1360/12153\r1361/12153\r1362/12153\r1363/12153\r1364/12153\r"
     ]
    },
    {
     "name": "stdout",
     "output_type": "stream",
     "text": [
      "1365/12153\r1366/12153\r1367/12153\r1368/12153\r1369/12153\r1370/12153\r1371/12153\r"
     ]
    },
    {
     "name": "stdout",
     "output_type": "stream",
     "text": [
      "1372/12153\r1373/12153\r1374/12153\r1375/12153\r1376/12153\r1377/12153\r1378/12153\r"
     ]
    },
    {
     "name": "stdout",
     "output_type": "stream",
     "text": [
      "1379/12153\r1380/12153\r1381/12153\r1382/12153\r1383/12153\r1384/12153\r"
     ]
    },
    {
     "name": "stdout",
     "output_type": "stream",
     "text": [
      "1385/12153\r1386/12153\r1387/12153\r1388/12153\r1389/12153\r1390/12153\r"
     ]
    },
    {
     "name": "stdout",
     "output_type": "stream",
     "text": [
      "1391/12153\r1392/12153\r1393/12153\r1394/12153\r1395/12153\r1396/12153\r1397/12153\r"
     ]
    },
    {
     "name": "stdout",
     "output_type": "stream",
     "text": [
      "1398/12153\r1399/12153\r1400/12153\r1401/12153\r1402/12153\r1403/12153\r1404/12153\r"
     ]
    },
    {
     "name": "stdout",
     "output_type": "stream",
     "text": [
      "1405/12153\r1406/12153\r1407/12153\r1408/12153\r1409/12153\r1410/12153\r1411/12153\r"
     ]
    },
    {
     "name": "stdout",
     "output_type": "stream",
     "text": [
      "1412/12153\r1413/12153\r1414/12153\r1415/12153\r1416/12153\r1417/12153\r1418/12153\r"
     ]
    },
    {
     "name": "stdout",
     "output_type": "stream",
     "text": [
      "1419/12153\r1420/12153\r1421/12153\r1422/12153\r1423/12153\r1424/12153\r1425/12153\r"
     ]
    },
    {
     "name": "stdout",
     "output_type": "stream",
     "text": [
      "1426/12153\r1427/12153\r1428/12153\r1429/12153\r1430/12153\r1431/12153\r"
     ]
    },
    {
     "name": "stdout",
     "output_type": "stream",
     "text": [
      "1432/12153\r1433/12153\r1434/12153\r1435/12153\r1436/12153\r1437/12153\r"
     ]
    },
    {
     "name": "stdout",
     "output_type": "stream",
     "text": [
      "1438/12153\r1439/12153\r1440/12153\r1441/12153\r1442/12153\r1443/12153\r"
     ]
    },
    {
     "name": "stdout",
     "output_type": "stream",
     "text": [
      "1444/12153\r1445/12153\r1446/12153\r1447/12153\r1448/12153\r1449/12153\r1450/12153\r"
     ]
    },
    {
     "name": "stdout",
     "output_type": "stream",
     "text": [
      "1451/12153\r1452/12153\r1453/12153\r1454/12153\r1455/12153\r1456/12153\r1457/12153\r"
     ]
    },
    {
     "name": "stdout",
     "output_type": "stream",
     "text": [
      "1458/12153\r1459/12153\r1460/12153\r1461/12153\r1462/12153\r1463/12153\r1464/12153\r"
     ]
    },
    {
     "name": "stdout",
     "output_type": "stream",
     "text": [
      "1465/12153\r1466/12153\r1467/12153\r1468/12153\r1469/12153\r1470/12153\r1471/12153\r"
     ]
    },
    {
     "name": "stdout",
     "output_type": "stream",
     "text": [
      "1472/12153\r1473/12153\r1474/12153\r1475/12153\r1476/12153\r1477/12153\r1478/12153\r"
     ]
    },
    {
     "name": "stdout",
     "output_type": "stream",
     "text": [
      "1479/12153\r1480/12153\r1481/12153\r1482/12153\r1483/12153\r1484/12153\r"
     ]
    },
    {
     "name": "stdout",
     "output_type": "stream",
     "text": [
      "1485/12153\r1486/12153\r1487/12153\r1488/12153\r1489/12153\r1490/12153\r"
     ]
    },
    {
     "name": "stdout",
     "output_type": "stream",
     "text": [
      "1491/12153\r1492/12153\r1493/12153\r1494/12153\r1495/12153\r1496/12153\r1497/12153\r"
     ]
    },
    {
     "name": "stdout",
     "output_type": "stream",
     "text": [
      "1498/12153\r1499/12153\r1500/12153\r1501/12153\r1502/12153\r1503/12153\r1504/12153\r"
     ]
    },
    {
     "name": "stdout",
     "output_type": "stream",
     "text": [
      "1505/12153\r1506/12153\r1507/12153\r1508/12153\r1509/12153\r1510/12153\r"
     ]
    },
    {
     "name": "stdout",
     "output_type": "stream",
     "text": [
      "1511/12153\r1512/12153\r1513/12153\r1514/12153\r1515/12153\r1516/12153\r1517/12153\r"
     ]
    },
    {
     "name": "stdout",
     "output_type": "stream",
     "text": [
      "1518/12153\r1519/12153\r1520/12153\r1521/12153\r1522/12153\r1523/12153\r1524/12153\r"
     ]
    },
    {
     "name": "stdout",
     "output_type": "stream",
     "text": [
      "1525/12153\r1526/12153\r1527/12153\r1528/12153\r"
     ]
    },
    {
     "name": "stdout",
     "output_type": "stream",
     "text": [
      "1529/12153\r1530/12153\r1531/12153\r1532/12153\r1533/12153\r1534/12153\r"
     ]
    },
    {
     "name": "stdout",
     "output_type": "stream",
     "text": [
      "1535/12153\r1536/12153\r1537/12153\r1538/12153\r1539/12153\r"
     ]
    },
    {
     "name": "stdout",
     "output_type": "stream",
     "text": [
      "1540/12153\r1541/12153\r1542/12153\r1543/12153\r1544/12153\r"
     ]
    },
    {
     "name": "stdout",
     "output_type": "stream",
     "text": [
      "1545/12153\r1546/12153\r1547/12153\r1548/12153\r1549/12153\r1550/12153\r"
     ]
    },
    {
     "name": "stdout",
     "output_type": "stream",
     "text": [
      "1551/12153\r1552/12153\r1553/12153\r1554/12153\r1555/12153\r"
     ]
    },
    {
     "name": "stdout",
     "output_type": "stream",
     "text": [
      "1556/12153\r1557/12153\r1558/12153\r1559/12153\r1560/12153\r1561/12153\r"
     ]
    },
    {
     "name": "stdout",
     "output_type": "stream",
     "text": [
      "1562/12153\r1563/12153\r1564/12153\r1565/12153\r"
     ]
    },
    {
     "name": "stdout",
     "output_type": "stream",
     "text": [
      "1566/12153\r1567/12153\r1568/12153\r"
     ]
    },
    {
     "name": "stdout",
     "output_type": "stream",
     "text": [
      "1569/12153\r1570/12153\r1571/12153\r1572/12153\r1573/12153\r"
     ]
    },
    {
     "name": "stdout",
     "output_type": "stream",
     "text": [
      "1574/12153\r1575/12153\r1576/12153\r1577/12153\r"
     ]
    },
    {
     "name": "stdout",
     "output_type": "stream",
     "text": [
      "1578/12153\r1579/12153\r1580/12153"
     ]
    },
    {
     "name": "stdout",
     "output_type": "stream",
     "text": [
      "\r1581/12153\r1582/12153\r1583/12153\r"
     ]
    },
    {
     "name": "stdout",
     "output_type": "stream",
     "text": [
      "1584/12153\r1585/12153\r1586/12153\r1587/12153\r1588/12153\r"
     ]
    },
    {
     "name": "stdout",
     "output_type": "stream",
     "text": [
      "1589/12153\r1590/12153\r1591/12153\r1592/12153\r1593/12153"
     ]
    },
    {
     "name": "stdout",
     "output_type": "stream",
     "text": [
      "\r1594/12153\r1595/12153\r1596/12153\r1597/12153\r1598/12153\r"
     ]
    },
    {
     "name": "stdout",
     "output_type": "stream",
     "text": [
      "1599/12153\r1600/12153\r1601/12153\r1602/12153\r1603/12153\r"
     ]
    },
    {
     "name": "stdout",
     "output_type": "stream",
     "text": [
      "1604/12153\r1605/12153\r1606/12153\r1607/12153\r"
     ]
    },
    {
     "name": "stdout",
     "output_type": "stream",
     "text": [
      "1608/12153\r1609/12153\r1610/12153\r1611/12153\r"
     ]
    },
    {
     "name": "stdout",
     "output_type": "stream",
     "text": [
      "1612/12153\r1613/12153\r"
     ]
    },
    {
     "name": "stdout",
     "output_type": "stream",
     "text": [
      "1614/12153\r1615/12153\r1616/12153\r1617/12153\r1618/12153\r"
     ]
    },
    {
     "name": "stdout",
     "output_type": "stream",
     "text": [
      "1619/12153\r1620/12153\r1621/12153\r1622/12153\r1623/12153\r"
     ]
    },
    {
     "name": "stdout",
     "output_type": "stream",
     "text": [
      "1624/12153\r1625/12153\r1626/12153\r1627/12153\r1628/12153\r"
     ]
    },
    {
     "name": "stdout",
     "output_type": "stream",
     "text": [
      "1629/12153\r1630/12153\r1631/12153\r1632/12153\r1633/12153"
     ]
    },
    {
     "name": "stdout",
     "output_type": "stream",
     "text": [
      "\r1634/12153\r1635/12153\r1636/12153\r1637/12153\r"
     ]
    },
    {
     "name": "stdout",
     "output_type": "stream",
     "text": [
      "1638/12153\r1639/12153\r1640/12153\r1641/12153\r1642/12153\r1643/12153\r"
     ]
    },
    {
     "name": "stdout",
     "output_type": "stream",
     "text": [
      "1644/12153\r1645/12153\r1646/12153\r"
     ]
    },
    {
     "name": "stdout",
     "output_type": "stream",
     "text": [
      "1647/12153\r1648/12153\r1649/12153\r1650/12153\r1651/12153\r1652/12153"
     ]
    },
    {
     "name": "stdout",
     "output_type": "stream",
     "text": [
      "\r1653/12153\r1654/12153\r1655/12153\r1656/12153\r1657/12153\r1658/12153\r"
     ]
    },
    {
     "name": "stdout",
     "output_type": "stream",
     "text": [
      "1659/12153\r1660/12153\r1661/12153\r1662/12153\r1663/12153\r1664/12153\r1665/12153\r"
     ]
    },
    {
     "name": "stdout",
     "output_type": "stream",
     "text": [
      "1666/12153\r1667/12153\r1668/12153\r1669/12153\r1670/12153\r1671/12153\r1672/12153\r"
     ]
    },
    {
     "name": "stdout",
     "output_type": "stream",
     "text": [
      "1673/12153\r1674/12153\r1675/12153\r1676/12153\r1677/12153\r1678/12153\r1679/12153\r"
     ]
    },
    {
     "name": "stdout",
     "output_type": "stream",
     "text": [
      "1680/12153\r1681/12153\r1682/12153\r1683/12153\r1684/12153\r1685/12153\r1686/12153\r"
     ]
    },
    {
     "name": "stdout",
     "output_type": "stream",
     "text": [
      "1687/12153\r1688/12153\r1689/12153\r1690/12153\r1691/12153\r1692/12153\r1693/12153\r"
     ]
    },
    {
     "name": "stdout",
     "output_type": "stream",
     "text": [
      "1694/12153\r1695/12153\r1696/12153\r1697/12153\r1698/12153\r1699/12153\r1700/12153\r"
     ]
    },
    {
     "name": "stdout",
     "output_type": "stream",
     "text": [
      "1701/12153\r1702/12153\r1703/12153\r1704/12153\r1705/12153\r1706/12153\r"
     ]
    },
    {
     "name": "stdout",
     "output_type": "stream",
     "text": [
      "1707/12153\r1708/12153\r1709/12153\r1710/12153\r1711/12153\r1712/12153\r1713/12153\r"
     ]
    },
    {
     "name": "stdout",
     "output_type": "stream",
     "text": [
      "1714/12153\r1715/12153\r1716/12153\r1717/12153\r1718/12153\r1719/12153\r1720/12153\r"
     ]
    },
    {
     "name": "stdout",
     "output_type": "stream",
     "text": [
      "1721/12153\r1722/12153\r1723/12153\r1724/12153\r1725/12153\r1726/12153\r1727/12153\r"
     ]
    },
    {
     "name": "stdout",
     "output_type": "stream",
     "text": [
      "1728/12153\r1729/12153\r1730/12153\r1731/12153\r1732/12153\r1733/12153\r1734/12153\r"
     ]
    },
    {
     "name": "stdout",
     "output_type": "stream",
     "text": [
      "1735/12153\r1736/12153\r1737/12153\r1738/12153\r1739/12153\r1740/12153\r1741/12153\r1742/12153"
     ]
    },
    {
     "name": "stdout",
     "output_type": "stream",
     "text": [
      "\r1743/12153\r1744/12153\r1745/12153\r1746/12153\r1747/12153\r1748/12153\r"
     ]
    },
    {
     "name": "stdout",
     "output_type": "stream",
     "text": [
      "1749/12153\r1750/12153\r1751/12153\r1752/12153\r1753/12153\r1754/12153\r1755/12153\r"
     ]
    },
    {
     "name": "stdout",
     "output_type": "stream",
     "text": [
      "1756/12153\r1757/12153\r1758/12153\r1759/12153\r1760/12153\r1761/12153\r1762/12153\r"
     ]
    },
    {
     "name": "stdout",
     "output_type": "stream",
     "text": [
      "1763/12153\r1764/12153\r1765/12153\r1766/12153\r1767/12153\r1768/12153\r1769/12153\r"
     ]
    },
    {
     "name": "stdout",
     "output_type": "stream",
     "text": [
      "1770/12153\r1771/12153\r1772/12153\r1773/12153\r1774/12153\r1775/12153\r"
     ]
    },
    {
     "name": "stdout",
     "output_type": "stream",
     "text": [
      "1776/12153\r1777/12153\r1778/12153\r1779/12153\r1780/12153\r1781/12153\r1782/12153\r"
     ]
    },
    {
     "name": "stdout",
     "output_type": "stream",
     "text": [
      "1783/12153\r1784/12153\r1785/12153\r1786/12153\r1787/12153\r1788/12153\r1789/12153\r"
     ]
    },
    {
     "name": "stdout",
     "output_type": "stream",
     "text": [
      "1790/12153\r1791/12153\r1792/12153\r1793/12153\r1794/12153\r1795/12153\r1796/12153\r"
     ]
    },
    {
     "name": "stdout",
     "output_type": "stream",
     "text": [
      "1797/12153\r1798/12153\r1799/12153\r1800/12153\r1801/12153\r1802/12153\r1803/12153\r"
     ]
    },
    {
     "name": "stdout",
     "output_type": "stream",
     "text": [
      "1804/12153\r1805/12153\r1806/12153\r1807/12153\r1808/12153\r1809/12153\r1810/12153\r"
     ]
    },
    {
     "name": "stdout",
     "output_type": "stream",
     "text": [
      "1811/12153\r1812/12153\r1813/12153\r1814/12153\r1815/12153\r1816/12153\r1817/12153\r"
     ]
    },
    {
     "name": "stdout",
     "output_type": "stream",
     "text": [
      "1818/12153\r1819/12153\r1820/12153\r1821/12153\r1822/12153\r1823/12153\r1824/12153\r"
     ]
    },
    {
     "name": "stdout",
     "output_type": "stream",
     "text": [
      "1825/12153\r1826/12153\r1827/12153\r1828/12153\r1829/12153\r1830/12153\r1831/12153\r1832/12153"
     ]
    },
    {
     "name": "stdout",
     "output_type": "stream",
     "text": [
      "\r1833/12153\r1834/12153\r1835/12153\r1836/12153\r1837/12153\r1838/12153\r1839/12153\r"
     ]
    },
    {
     "name": "stdout",
     "output_type": "stream",
     "text": [
      "1840/12153\r1841/12153\r1842/12153\r1843/12153\r1844/12153\r1845/12153\r1846/12153\r"
     ]
    },
    {
     "name": "stdout",
     "output_type": "stream",
     "text": [
      "1847/12153\r1848/12153\r1849/12153\r1850/12153\r1851/12153\r1852/12153\r1853/12153\r"
     ]
    },
    {
     "name": "stdout",
     "output_type": "stream",
     "text": [
      "1854/12153\r1855/12153\r1856/12153\r1857/12153\r1858/12153\r1859/12153\r1860/12153\r"
     ]
    },
    {
     "name": "stdout",
     "output_type": "stream",
     "text": [
      "1861/12153\r1862/12153\r1863/12153\r1864/12153\r1865/12153\r1866/12153\r1867/12153\r"
     ]
    },
    {
     "name": "stdout",
     "output_type": "stream",
     "text": [
      "1868/12153\r1869/12153\r1870/12153\r1871/12153\r1872/12153\r1873/12153\r1874/12153\r"
     ]
    },
    {
     "name": "stdout",
     "output_type": "stream",
     "text": [
      "1875/12153\r1876/12153\r1877/12153\r1878/12153\r1879/12153\r1880/12153\r1881/12153\r"
     ]
    },
    {
     "name": "stdout",
     "output_type": "stream",
     "text": [
      "1882/12153\r1883/12153\r1884/12153\r1885/12153\r1886/12153\r1887/12153\r1888/12153\r"
     ]
    },
    {
     "name": "stdout",
     "output_type": "stream",
     "text": [
      "1889/12153\r1890/12153\r1891/12153\r1892/12153\r1893/12153\r1894/12153\r1895/12153\r"
     ]
    },
    {
     "name": "stdout",
     "output_type": "stream",
     "text": [
      "1896/12153\r1897/12153\r1898/12153\r1899/12153\r1900/12153\r1901/12153\r1902/12153\r"
     ]
    },
    {
     "name": "stdout",
     "output_type": "stream",
     "text": [
      "1903/12153\r1904/12153\r1905/12153\r1906/12153\r1907/12153\r1908/12153\r"
     ]
    },
    {
     "name": "stdout",
     "output_type": "stream",
     "text": [
      "1909/12153\r1910/12153\r1911/12153\r1912/12153\r1913/12153\r"
     ]
    },
    {
     "name": "stdout",
     "output_type": "stream",
     "text": [
      "1914/12153\r1915/12153\r1916/12153\r1917/12153\r1918/12153\r"
     ]
    },
    {
     "name": "stdout",
     "output_type": "stream",
     "text": [
      "1919/12153\r1920/12153\r1921/12153\r1922/12153\r1923/12153\r1924/12153\r1925/12153\r"
     ]
    },
    {
     "name": "stdout",
     "output_type": "stream",
     "text": [
      "1926/12153\r1927/12153\r1928/12153\r1929/12153\r1930/12153\r1931/12153\r1932/12153\r"
     ]
    },
    {
     "name": "stdout",
     "output_type": "stream",
     "text": [
      "1933/12153\r1934/12153\r1935/12153\r1936/12153\r1937/12153\r1938/12153\r1939/12153\r"
     ]
    },
    {
     "name": "stdout",
     "output_type": "stream",
     "text": [
      "1940/12153\r1941/12153\r1942/12153\r1943/12153\r1944/12153\r1945/12153\r1946/12153"
     ]
    },
    {
     "name": "stdout",
     "output_type": "stream",
     "text": [
      "\r1947/12153\r1948/12153\r1949/12153\r1950/12153\r1951/12153\r1952/12153\r"
     ]
    },
    {
     "name": "stdout",
     "output_type": "stream",
     "text": [
      "1953/12153\r1954/12153\r1955/12153\r1956/12153\r1957/12153\r1958/12153\r1959/12153\r"
     ]
    },
    {
     "name": "stdout",
     "output_type": "stream",
     "text": [
      "1960/12153\r1961/12153\r1962/12153\r1963/12153\r1964/12153\r1965/12153\r"
     ]
    },
    {
     "name": "stdout",
     "output_type": "stream",
     "text": [
      "1966/12153\r1967/12153\r1968/12153\r1969/12153\r1970/12153\r1971/12153\r"
     ]
    },
    {
     "name": "stdout",
     "output_type": "stream",
     "text": [
      "1972/12153\r1973/12153\r1974/12153\r1975/12153\r1976/12153\r"
     ]
    },
    {
     "name": "stdout",
     "output_type": "stream",
     "text": [
      "1977/12153\r1978/12153\r1979/12153\r1980/12153\r"
     ]
    },
    {
     "name": "stdout",
     "output_type": "stream",
     "text": [
      "1981/12153\r1982/12153\r1983/12153\r1984/12153\r1985/12153\r"
     ]
    },
    {
     "name": "stdout",
     "output_type": "stream",
     "text": [
      "1986/12153\r1987/12153\r"
     ]
    },
    {
     "name": "stdout",
     "output_type": "stream",
     "text": [
      "1988/12153\r1989/12153\r1990/12153\r1991/12153\r1992/12153\r"
     ]
    },
    {
     "name": "stdout",
     "output_type": "stream",
     "text": [
      "1993/12153\r1994/12153\r1995/12153\r1996/12153\r1997/12153\r1998/12153"
     ]
    },
    {
     "name": "stdout",
     "output_type": "stream",
     "text": [
      "\r1999/12153\r2000/12153\r2001/12153\r2002/12153\r2003/12153\r2004/12153\r"
     ]
    },
    {
     "name": "stdout",
     "output_type": "stream",
     "text": [
      "2005/12153\r2006/12153\r2007/12153\r2008/12153\r2009/12153\r2010/12153\r"
     ]
    },
    {
     "name": "stdout",
     "output_type": "stream",
     "text": [
      "2011/12153\r2012/12153\r2013/12153\r2014/12153\r2015/12153\r2016/12153\r"
     ]
    },
    {
     "name": "stdout",
     "output_type": "stream",
     "text": [
      "2017/12153\r2018/12153\r2019/12153\r2020/12153\r2021/12153\r2022/12153\r"
     ]
    },
    {
     "name": "stdout",
     "output_type": "stream",
     "text": [
      "2023/12153\r2024/12153\r2025/12153\r2026/12153\r2027/12153\r2028/12153\r"
     ]
    },
    {
     "name": "stdout",
     "output_type": "stream",
     "text": [
      "2029/12153\r2030/12153\r2031/12153\r2032/12153\r2033/12153\r2034/12153\r2035/12153\r"
     ]
    },
    {
     "name": "stdout",
     "output_type": "stream",
     "text": [
      "2036/12153\r2037/12153\r2038/12153\r2039/12153\r2040/12153\r2041/12153\r2042/12153\r"
     ]
    },
    {
     "name": "stdout",
     "output_type": "stream",
     "text": [
      "2043/12153\r2044/12153\r2045/12153\r2046/12153\r2047/12153\r2048/12153\r2049/12153\r"
     ]
    },
    {
     "name": "stdout",
     "output_type": "stream",
     "text": [
      "2050/12153\r2051/12153\r2052/12153\r2053/12153\r2054/12153\r2055/12153\r2056/12153\r"
     ]
    },
    {
     "name": "stdout",
     "output_type": "stream",
     "text": [
      "2057/12153\r2058/12153\r2059/12153\r2060/12153\r2061/12153\r2062/12153\r"
     ]
    },
    {
     "name": "stdout",
     "output_type": "stream",
     "text": [
      "2063/12153\r2064/12153\r2065/12153\r2066/12153\r2067/12153\r2068/12153\r2069/12153\r"
     ]
    },
    {
     "name": "stdout",
     "output_type": "stream",
     "text": [
      "2070/12153\r2071/12153\r2072/12153\r2073/12153\r2074/12153\r2075/12153\r2076/12153\r"
     ]
    },
    {
     "name": "stdout",
     "output_type": "stream",
     "text": [
      "2077/12153\r2078/12153\r2079/12153\r2080/12153\r2081/12153\r2082/12153\r"
     ]
    },
    {
     "name": "stdout",
     "output_type": "stream",
     "text": [
      "2083/12153\r2084/12153\r2085/12153\r2086/12153\r2087/12153\r2088/12153\r2089/12153\r"
     ]
    },
    {
     "name": "stdout",
     "output_type": "stream",
     "text": [
      "2090/12153\r2091/12153\r2092/12153\r2093/12153\r2094/12153\r2095/12153\r2096/12153\r"
     ]
    },
    {
     "name": "stdout",
     "output_type": "stream",
     "text": [
      "2097/12153\r2098/12153\r2099/12153\r2100/12153\r2101/12153\r2102/12153\r2103/12153\r"
     ]
    },
    {
     "name": "stdout",
     "output_type": "stream",
     "text": [
      "2104/12153\r2105/12153\r2106/12153\r2107/12153\r2108/12153\r2109/12153\r2110/12153\r"
     ]
    },
    {
     "name": "stdout",
     "output_type": "stream",
     "text": [
      "2111/12153\r2112/12153\r2113/12153\r2114/12153\r2115/12153\r2116/12153\r2117/12153\r"
     ]
    },
    {
     "name": "stdout",
     "output_type": "stream",
     "text": [
      "2118/12153\r2119/12153\r2120/12153\r2121/12153\r2122/12153\r2123/12153\r2124/12153\r"
     ]
    },
    {
     "name": "stdout",
     "output_type": "stream",
     "text": [
      "2125/12153\r2126/12153\r2127/12153\r2128/12153\r2129/12153\r2130/12153\r2131/12153\r"
     ]
    },
    {
     "name": "stdout",
     "output_type": "stream",
     "text": [
      "2132/12153\r2133/12153\r2134/12153\r2135/12153\r2136/12153\r2137/12153\r2138/12153\r"
     ]
    },
    {
     "name": "stdout",
     "output_type": "stream",
     "text": [
      "2139/12153\r2140/12153\r2141/12153\r2142/12153\r2143/12153\r2144/12153\r"
     ]
    },
    {
     "name": "stdout",
     "output_type": "stream",
     "text": [
      "2145/12153\r2146/12153\r2147/12153\r2148/12153\r2149/12153\r2150/12153\r2151/12153\r"
     ]
    },
    {
     "name": "stdout",
     "output_type": "stream",
     "text": [
      "2152/12153\r2153/12153\r2154/12153\r2155/12153\r2156/12153\r2157/12153\r2158/12153\r"
     ]
    },
    {
     "name": "stdout",
     "output_type": "stream",
     "text": [
      "2159/12153\r2160/12153\r2161/12153\r2162/12153\r2163/12153\r2164/12153\r"
     ]
    },
    {
     "name": "stdout",
     "output_type": "stream",
     "text": [
      "2165/12153\r2166/12153\r2167/12153\r2168/12153\r2169/12153\r2170/12153\r"
     ]
    },
    {
     "name": "stdout",
     "output_type": "stream",
     "text": [
      "2171/12153\r2172/12153\r2173/12153\r2174/12153\r2175/12153\r2176/12153\r"
     ]
    },
    {
     "name": "stdout",
     "output_type": "stream",
     "text": [
      "2177/12153\r2178/12153\r2179/12153\r2180/12153\r2181/12153\r2182/12153\r"
     ]
    },
    {
     "name": "stdout",
     "output_type": "stream",
     "text": [
      "2183/12153\r2184/12153\r2185/12153\r2186/12153\r2187/12153\r2188/12153\r2189/12153\r"
     ]
    },
    {
     "name": "stdout",
     "output_type": "stream",
     "text": [
      "2190/12153\r2191/12153\r2192/12153\r2193/12153\r2194/12153\r2195/12153\r2196/12153\r"
     ]
    },
    {
     "name": "stdout",
     "output_type": "stream",
     "text": [
      "2197/12153\r2198/12153\r2199/12153\r2200/12153\r2201/12153\r2202/12153\r2203/12153\r"
     ]
    },
    {
     "name": "stdout",
     "output_type": "stream",
     "text": [
      "2204/12153\r2205/12153\r2206/12153\r2207/12153\r2208/12153\r2209/12153\r"
     ]
    },
    {
     "name": "stdout",
     "output_type": "stream",
     "text": [
      "2210/12153\r2211/12153\r2212/12153\r2213/12153\r2214/12153\r2215/12153\r2216/12153\r"
     ]
    },
    {
     "name": "stdout",
     "output_type": "stream",
     "text": [
      "2217/12153\r2218/12153\r2219/12153\r2220/12153\r2221/12153\r2222/12153\r2223/12153\r"
     ]
    },
    {
     "name": "stdout",
     "output_type": "stream",
     "text": [
      "2224/12153\r2225/12153\r2226/12153\r2227/12153\r2228/12153\r2229/12153\r2230/12153\r"
     ]
    },
    {
     "name": "stdout",
     "output_type": "stream",
     "text": [
      "2231/12153\r2232/12153\r2233/12153\r2234/12153\r2235/12153\r2236/12153\r2237/12153\r"
     ]
    },
    {
     "name": "stdout",
     "output_type": "stream",
     "text": [
      "2238/12153\r2239/12153\r2240/12153\r2241/12153\r2242/12153\r2243/12153\r2244/12153\r"
     ]
    },
    {
     "name": "stdout",
     "output_type": "stream",
     "text": [
      "2245/12153\r2246/12153\r2247/12153\r2248/12153\r2249/12153\r2250/12153\r2251/12153\r"
     ]
    },
    {
     "name": "stdout",
     "output_type": "stream",
     "text": [
      "2252/12153\r2253/12153\r2254/12153\r2255/12153\r2256/12153\r2257/12153\r2258/12153\r"
     ]
    },
    {
     "name": "stdout",
     "output_type": "stream",
     "text": [
      "2259/12153\r2260/12153\r2261/12153\r2262/12153\r2263/12153\r2264/12153\r2265/12153\r"
     ]
    },
    {
     "name": "stdout",
     "output_type": "stream",
     "text": [
      "2266/12153\r2267/12153\r2268/12153\r2269/12153\r2270/12153\r2271/12153\r2272/12153\r"
     ]
    },
    {
     "name": "stdout",
     "output_type": "stream",
     "text": [
      "2273/12153\r2274/12153\r2275/12153\r2276/12153\r2277/12153\r2278/12153\r"
     ]
    },
    {
     "name": "stdout",
     "output_type": "stream",
     "text": [
      "2279/12153\r2280/12153\r2281/12153\r2282/12153\r2283/12153\r2284/12153\r"
     ]
    },
    {
     "name": "stdout",
     "output_type": "stream",
     "text": [
      "2285/12153\r2286/12153\r2287/12153\r2288/12153\r2289/12153\r"
     ]
    },
    {
     "name": "stdout",
     "output_type": "stream",
     "text": [
      "2290/12153\r2291/12153\r2292/12153\r2293/12153\r2294/12153\r2295/12153\r"
     ]
    },
    {
     "name": "stdout",
     "output_type": "stream",
     "text": [
      "2296/12153\r2297/12153\r2298/12153\r2299/12153\r2300/12153\r2301/12153\r2302/12153\r"
     ]
    },
    {
     "name": "stdout",
     "output_type": "stream",
     "text": [
      "2303/12153\r2304/12153\r2305/12153\r2306/12153\r2307/12153\r2308/12153\r2309/12153\r"
     ]
    },
    {
     "name": "stdout",
     "output_type": "stream",
     "text": [
      "2310/12153\r2311/12153\r2312/12153\r2313/12153\r2314/12153\r2315/12153\r2316/12153\r"
     ]
    },
    {
     "name": "stdout",
     "output_type": "stream",
     "text": [
      "2317/12153\r2318/12153\r2319/12153\r2320/12153\r2321/12153\r2322/12153\r"
     ]
    },
    {
     "name": "stdout",
     "output_type": "stream",
     "text": [
      "2323/12153\r2324/12153\r2325/12153\r2326/12153\r2327/12153\r2328/12153\r"
     ]
    },
    {
     "name": "stdout",
     "output_type": "stream",
     "text": [
      "2329/12153\r2330/12153\r2331/12153\r2332/12153\r2333/12153\r2334/12153\r"
     ]
    },
    {
     "name": "stdout",
     "output_type": "stream",
     "text": [
      "2335/12153\r2336/12153\r2337/12153\r2338/12153\r2339/12153\r2340/12153\r2341/12153\r"
     ]
    },
    {
     "name": "stdout",
     "output_type": "stream",
     "text": [
      "2342/12153\r2343/12153\r2344/12153\r2345/12153\r2346/12153\r2347/12153\r"
     ]
    },
    {
     "name": "stdout",
     "output_type": "stream",
     "text": [
      "2348/12153\r2349/12153\r2350/12153\r2351/12153\r2352/12153\r2353/12153\r2354/12153\r"
     ]
    },
    {
     "name": "stdout",
     "output_type": "stream",
     "text": [
      "2355/12153\r2356/12153\r2357/12153\r2358/12153\r2359/12153\r2360/12153\r2361/12153\r"
     ]
    },
    {
     "name": "stdout",
     "output_type": "stream",
     "text": [
      "2362/12153\r2363/12153\r2364/12153\r2365/12153\r2366/12153\r"
     ]
    },
    {
     "name": "stdout",
     "output_type": "stream",
     "text": [
      "2367/12153\r2368/12153\r2369/12153\r2370/12153\r2371/12153\r2372/12153\r2373/12153\r"
     ]
    },
    {
     "name": "stdout",
     "output_type": "stream",
     "text": [
      "2374/12153\r2375/12153\r2376/12153\r2377/12153\r2378/12153\r2379/12153\r2380/12153\r"
     ]
    },
    {
     "name": "stdout",
     "output_type": "stream",
     "text": [
      "2381/12153\r2382/12153\r2383/12153\r2384/12153\r2385/12153\r2386/12153\r2387/12153\r"
     ]
    },
    {
     "name": "stdout",
     "output_type": "stream",
     "text": [
      "2388/12153\r2389/12153\r2390/12153\r2391/12153\r2392/12153\r2393/12153\r2394/12153\r"
     ]
    },
    {
     "name": "stdout",
     "output_type": "stream",
     "text": [
      "2395/12153\r2396/12153\r2397/12153\r2398/12153\r2399/12153\r2400/12153\r2401/12153\r"
     ]
    },
    {
     "name": "stdout",
     "output_type": "stream",
     "text": [
      "2402/12153\r2403/12153\r2404/12153\r2405/12153\r2406/12153\r2407/12153\r2408/12153\r"
     ]
    },
    {
     "name": "stdout",
     "output_type": "stream",
     "text": [
      "2409/12153\r2410/12153\r2411/12153\r2412/12153\r2413/12153\r2414/12153\r"
     ]
    },
    {
     "name": "stdout",
     "output_type": "stream",
     "text": [
      "2415/12153\r2416/12153\r2417/12153\r2418/12153\r2419/12153\r2420/12153\r2421/12153\r"
     ]
    },
    {
     "name": "stdout",
     "output_type": "stream",
     "text": [
      "2422/12153\r2423/12153\r2424/12153\r2425/12153\r2426/12153\r2427/12153\r2428/12153"
     ]
    },
    {
     "name": "stdout",
     "output_type": "stream",
     "text": [
      "\r2429/12153\r2430/12153\r2431/12153\r2432/12153\r2433/12153\r2434/12153\r"
     ]
    },
    {
     "name": "stdout",
     "output_type": "stream",
     "text": [
      "2435/12153\r2436/12153\r2437/12153\r2438/12153\r2439/12153\r2440/12153\r2441/12153"
     ]
    },
    {
     "name": "stdout",
     "output_type": "stream",
     "text": [
      "\r2442/12153\r2443/12153\r2444/12153\r2445/12153\r2446/12153\r2447/12153\r2448/12153\r"
     ]
    },
    {
     "name": "stdout",
     "output_type": "stream",
     "text": [
      "2449/12153\r2450/12153\r2451/12153\r2452/12153\r2453/12153\r2454/12153\r2455/12153\r"
     ]
    },
    {
     "name": "stdout",
     "output_type": "stream",
     "text": [
      "2456/12153\r2457/12153\r2458/12153\r2459/12153\r2460/12153\r2461/12153\r2462/12153\r"
     ]
    },
    {
     "name": "stdout",
     "output_type": "stream",
     "text": [
      "2463/12153\r2464/12153\r2465/12153\r2466/12153\r2467/12153\r2468/12153\r2469/12153\r"
     ]
    },
    {
     "name": "stdout",
     "output_type": "stream",
     "text": [
      "2470/12153\r2471/12153\r2472/12153\r2473/12153\r2474/12153\r2475/12153\r2476/12153\r"
     ]
    },
    {
     "name": "stdout",
     "output_type": "stream",
     "text": [
      "2477/12153\r2478/12153\r2479/12153\r2480/12153\r2481/12153\r2482/12153\r2483/12153\r"
     ]
    },
    {
     "name": "stdout",
     "output_type": "stream",
     "text": [
      "2484/12153\r2485/12153\r2486/12153\r2487/12153\r2488/12153\r2489/12153\r2490/12153\r"
     ]
    },
    {
     "name": "stdout",
     "output_type": "stream",
     "text": [
      "2491/12153\r2492/12153\r2493/12153\r2494/12153\r2495/12153\r2496/12153\r2497/12153\r"
     ]
    },
    {
     "name": "stdout",
     "output_type": "stream",
     "text": [
      "2498/12153\r2499/12153\r2500/12153\r2501/12153\r2502/12153\r2503/12153\r"
     ]
    },
    {
     "name": "stdout",
     "output_type": "stream",
     "text": [
      "2504/12153\r2505/12153\r2506/12153\r2507/12153\r2508/12153\r2509/12153\r2510/12153"
     ]
    },
    {
     "name": "stdout",
     "output_type": "stream",
     "text": [
      "\r2511/12153\r2512/12153\r2513/12153\r2514/12153\r2515/12153\r2516/12153\r2517/12153\r"
     ]
    },
    {
     "name": "stdout",
     "output_type": "stream",
     "text": [
      "2518/12153\r2519/12153\r2520/12153\r2521/12153\r2522/12153\r2523/12153\r2524/12153\r"
     ]
    },
    {
     "name": "stdout",
     "output_type": "stream",
     "text": [
      "2525/12153\r2526/12153\r2527/12153\r2528/12153\r2529/12153\r2530/12153\r2531/12153\r"
     ]
    },
    {
     "name": "stdout",
     "output_type": "stream",
     "text": [
      "2532/12153\r2533/12153\r2534/12153\r2535/12153\r2536/12153\r2537/12153\r2538/12153\r"
     ]
    },
    {
     "name": "stdout",
     "output_type": "stream",
     "text": [
      "2539/12153\r2540/12153\r2541/12153\r2542/12153\r2543/12153\r2544/12153\r"
     ]
    },
    {
     "name": "stdout",
     "output_type": "stream",
     "text": [
      "2545/12153\r2546/12153\r2547/12153\r2548/12153\r2549/12153\r2550/12153\r"
     ]
    },
    {
     "name": "stdout",
     "output_type": "stream",
     "text": [
      "2551/12153\r2552/12153\r2553/12153\r2554/12153\r2555/12153\r"
     ]
    },
    {
     "name": "stdout",
     "output_type": "stream",
     "text": [
      "2556/12153\r2557/12153\r2558/12153\r2559/12153\r2560/12153\r2561/12153\r"
     ]
    },
    {
     "name": "stdout",
     "output_type": "stream",
     "text": [
      "2562/12153\r2563/12153\r2564/12153\r2565/12153\r2566/12153\r2567/12153\r2568/12153\r"
     ]
    },
    {
     "name": "stdout",
     "output_type": "stream",
     "text": [
      "2569/12153\r2570/12153\r2571/12153\r2572/12153\r2573/12153\r"
     ]
    },
    {
     "name": "stdout",
     "output_type": "stream",
     "text": [
      "2574/12153\r2575/12153\r2576/12153\r2577/12153\r2578/12153\r"
     ]
    },
    {
     "name": "stdout",
     "output_type": "stream",
     "text": [
      "2579/12153\r2580/12153\r2581/12153\r2582/12153\r2583/12153\r2584/12153\r2585/12153\r"
     ]
    },
    {
     "name": "stdout",
     "output_type": "stream",
     "text": [
      "2586/12153\r2587/12153\r2588/12153\r2589/12153\r2590/12153\r2591/12153\r2592/12153\r"
     ]
    },
    {
     "name": "stdout",
     "output_type": "stream",
     "text": [
      "2593/12153\r2594/12153\r2595/12153\r2596/12153\r2597/12153\r2598/12153\r2599/12153\r"
     ]
    },
    {
     "name": "stdout",
     "output_type": "stream",
     "text": [
      "2600/12153\r2601/12153\r2602/12153\r2603/12153\r2604/12153\r2605/12153\r2606/12153\r"
     ]
    },
    {
     "name": "stdout",
     "output_type": "stream",
     "text": [
      "2607/12153\r2608/12153\r2609/12153\r2610/12153\r2611/12153\r2612/12153\r2613/12153\r"
     ]
    },
    {
     "name": "stdout",
     "output_type": "stream",
     "text": [
      "2614/12153\r2615/12153\r2616/12153\r2617/12153\r2618/12153\r2619/12153\r2620/12153\r"
     ]
    },
    {
     "name": "stdout",
     "output_type": "stream",
     "text": [
      "2621/12153\r2622/12153\r2623/12153\r2624/12153\r2625/12153\r2626/12153\r2627/12153\r"
     ]
    },
    {
     "name": "stdout",
     "output_type": "stream",
     "text": [
      "2628/12153\r2629/12153\r2630/12153\r2631/12153\r2632/12153\r2633/12153\r"
     ]
    },
    {
     "name": "stdout",
     "output_type": "stream",
     "text": [
      "2634/12153\r2635/12153\r2636/12153\r2637/12153\r2638/12153\r2639/12153\r"
     ]
    },
    {
     "name": "stdout",
     "output_type": "stream",
     "text": [
      "2640/12153\r2641/12153\r2642/12153\r2643/12153\r2644/12153\r2645/12153\r2646/12153\r"
     ]
    },
    {
     "name": "stdout",
     "output_type": "stream",
     "text": [
      "2647/12153\r2648/12153\r2649/12153\r2650/12153\r2651/12153\r2652/12153\r2653/12153\r"
     ]
    },
    {
     "name": "stdout",
     "output_type": "stream",
     "text": [
      "2654/12153\r2655/12153\r2656/12153\r2657/12153\r2658/12153\r2659/12153\r2660/12153\r"
     ]
    },
    {
     "name": "stdout",
     "output_type": "stream",
     "text": [
      "2661/12153\r2662/12153\r2663/12153\r2664/12153\r2665/12153\r2666/12153\r2667/12153\r"
     ]
    },
    {
     "name": "stdout",
     "output_type": "stream",
     "text": [
      "2668/12153\r2669/12153\r2670/12153\r2671/12153\r2672/12153\r2673/12153\r2674/12153\r"
     ]
    },
    {
     "name": "stdout",
     "output_type": "stream",
     "text": [
      "2675/12153\r2676/12153\r2677/12153\r2678/12153\r2679/12153\r2680/12153\r2681/12153\r"
     ]
    },
    {
     "name": "stdout",
     "output_type": "stream",
     "text": [
      "2682/12153\r2683/12153\r2684/12153\r2685/12153\r2686/12153\r2687/12153\r2688/12153"
     ]
    },
    {
     "name": "stdout",
     "output_type": "stream",
     "text": [
      "\r2689/12153\r2690/12153\r2691/12153\r2692/12153\r2693/12153\r2694/12153\r2695/12153\r"
     ]
    },
    {
     "name": "stdout",
     "output_type": "stream",
     "text": [
      "2696/12153\r2697/12153\r2698/12153\r2699/12153\r2700/12153\r2701/12153\r"
     ]
    },
    {
     "name": "stdout",
     "output_type": "stream",
     "text": [
      "2702/12153\r2703/12153\r2704/12153\r2705/12153\r2706/12153\r2707/12153\r2708/12153"
     ]
    },
    {
     "name": "stdout",
     "output_type": "stream",
     "text": [
      "\r2709/12153\r2710/12153\r2711/12153\r2712/12153\r2713/12153\r2714/12153\r"
     ]
    },
    {
     "name": "stdout",
     "output_type": "stream",
     "text": [
      "2715/12153\r2716/12153\r2717/12153\r2718/12153\r2719/12153\r"
     ]
    },
    {
     "name": "stdout",
     "output_type": "stream",
     "text": [
      "2720/12153\r2721/12153\r2722/12153\r2723/12153\r2724/12153\r2725/12153\r"
     ]
    },
    {
     "name": "stdout",
     "output_type": "stream",
     "text": [
      "2726/12153\r2727/12153\r2728/12153\r2729/12153\r2730/12153\r2731/12153\r2732/12153\r"
     ]
    },
    {
     "name": "stdout",
     "output_type": "stream",
     "text": [
      "2733/12153\r2734/12153\r2735/12153\r2736/12153\r2737/12153\r2738/12153\r2739/12153"
     ]
    },
    {
     "name": "stdout",
     "output_type": "stream",
     "text": [
      "\r2740/12153\r2741/12153\r2742/12153\r2743/12153\r2744/12153\r2745/12153\r"
     ]
    },
    {
     "name": "stdout",
     "output_type": "stream",
     "text": [
      "2746/12153\r2747/12153\r2748/12153\r2749/12153\r2750/12153\r2751/12153\r"
     ]
    },
    {
     "name": "stdout",
     "output_type": "stream",
     "text": [
      "2752/12153\r2753/12153\r2754/12153\r2755/12153\r2756/12153\r2757/12153\r2758/12153\r"
     ]
    },
    {
     "name": "stdout",
     "output_type": "stream",
     "text": [
      "2759/12153\r2760/12153\r2761/12153\r2762/12153\r2763/12153\r2764/12153\r2765/12153"
     ]
    },
    {
     "name": "stdout",
     "output_type": "stream",
     "text": [
      "\r2766/12153\r2767/12153\r2768/12153\r2769/12153\r2770/12153\r2771/12153\r2772/12153\r"
     ]
    },
    {
     "name": "stdout",
     "output_type": "stream",
     "text": [
      "2773/12153\r2774/12153\r2775/12153\r2776/12153\r2777/12153\r2778/12153\r"
     ]
    },
    {
     "name": "stdout",
     "output_type": "stream",
     "text": [
      "2779/12153\r2780/12153\r2781/12153\r2782/12153\r2783/12153\r2784/12153\r2785/12153\r"
     ]
    },
    {
     "name": "stdout",
     "output_type": "stream",
     "text": [
      "2786/12153\r2787/12153\r2788/12153\r2789/12153\r2790/12153\r2791/12153\r2792/12153\r"
     ]
    },
    {
     "name": "stdout",
     "output_type": "stream",
     "text": [
      "2793/12153\r2794/12153\r2795/12153\r2796/12153\r2797/12153\r2798/12153\r2799/12153\r"
     ]
    },
    {
     "name": "stdout",
     "output_type": "stream",
     "text": [
      "2800/12153\r2801/12153\r2802/12153\r2803/12153\r2804/12153\r2805/12153\r2806/12153\r"
     ]
    },
    {
     "name": "stdout",
     "output_type": "stream",
     "text": [
      "2807/12153\r2808/12153\r2809/12153\r2810/12153\r2811/12153\r2812/12153\r2813/12153\r"
     ]
    },
    {
     "name": "stdout",
     "output_type": "stream",
     "text": [
      "2814/12153\r2815/12153\r2816/12153\r2817/12153\r2818/12153\r2819/12153\r2820/12153\r"
     ]
    },
    {
     "name": "stdout",
     "output_type": "stream",
     "text": [
      "2821/12153\r2822/12153\r2823/12153\r2824/12153\r2825/12153\r2826/12153\r2827/12153\r"
     ]
    },
    {
     "name": "stdout",
     "output_type": "stream",
     "text": [
      "2828/12153\r2829/12153\r2830/12153\r2831/12153\r2832/12153\r2833/12153\r2834/12153\r"
     ]
    },
    {
     "name": "stdout",
     "output_type": "stream",
     "text": [
      "2835/12153\r2836/12153\r2837/12153\r2838/12153\r"
     ]
    },
    {
     "name": "stdout",
     "output_type": "stream",
     "text": [
      "2839/12153\r2840/12153\r2841/12153\r2842/12153\r2843/12153\r"
     ]
    },
    {
     "name": "stdout",
     "output_type": "stream",
     "text": [
      "2844/12153\r2845/12153\r2846/12153\r"
     ]
    },
    {
     "name": "stdout",
     "output_type": "stream",
     "text": [
      "2847/12153\r2848/12153\r2849/12153\r2850/12153\r"
     ]
    },
    {
     "name": "stdout",
     "output_type": "stream",
     "text": [
      "2851/12153\r2852/12153\r2853/12153\r"
     ]
    },
    {
     "name": "stdout",
     "output_type": "stream",
     "text": [
      "2854/12153\r"
     ]
    },
    {
     "name": "stdout",
     "output_type": "stream",
     "text": [
      "2855/12153\r2856/12153\r2857/12153\r2858/12153\r2859/12153\r"
     ]
    },
    {
     "name": "stdout",
     "output_type": "stream",
     "text": [
      "2860/12153\r2861/12153\r2862/12153\r2863/12153\r"
     ]
    },
    {
     "name": "stdout",
     "output_type": "stream",
     "text": [
      "2864/12153\r2865/12153\r2866/12153\r2867/12153\r2868/12153\r2869/12153\r"
     ]
    },
    {
     "name": "stdout",
     "output_type": "stream",
     "text": [
      "2870/12153\r2871/12153\r2872/12153\r2873/12153\r2874/12153\r"
     ]
    },
    {
     "name": "stdout",
     "output_type": "stream",
     "text": [
      "2875/12153\r2876/12153\r2877/12153\r2878/12153\r2879/12153\r"
     ]
    },
    {
     "name": "stdout",
     "output_type": "stream",
     "text": [
      "2880/12153\r2881/12153\r2882/12153\r2883/12153\r2884/12153\r2885/12153\r"
     ]
    },
    {
     "name": "stdout",
     "output_type": "stream",
     "text": [
      "2886/12153\r2887/12153\r2888/12153\r2889/12153\r2890/12153\r2891/12153\r"
     ]
    },
    {
     "name": "stdout",
     "output_type": "stream",
     "text": [
      "2892/12153\r2893/12153\r2894/12153\r"
     ]
    },
    {
     "name": "stdout",
     "output_type": "stream",
     "text": [
      "2895/12153\r"
     ]
    },
    {
     "name": "stdout",
     "output_type": "stream",
     "text": [
      "2896/12153\r2897/12153\r"
     ]
    },
    {
     "name": "stdout",
     "output_type": "stream",
     "text": [
      "2898/12153\r"
     ]
    },
    {
     "name": "stdout",
     "output_type": "stream",
     "text": [
      "2899/12153\r2900/12153\r2901/12153\r"
     ]
    },
    {
     "name": "stdout",
     "output_type": "stream",
     "text": [
      "2902/12153\r2903/12153\r2904/12153\r"
     ]
    },
    {
     "name": "stdout",
     "output_type": "stream",
     "text": [
      "2905/12153\r2906/12153\r2907/12153\r2908/12153"
     ]
    },
    {
     "name": "stdout",
     "output_type": "stream",
     "text": [
      "\r2909/12153\r"
     ]
    },
    {
     "name": "stdout",
     "output_type": "stream",
     "text": [
      "2910/12153\r2911/12153\r2912/12153\r"
     ]
    },
    {
     "name": "stdout",
     "output_type": "stream",
     "text": [
      "2913/12153\r2914/12153\r2915/12153\r"
     ]
    },
    {
     "name": "stdout",
     "output_type": "stream",
     "text": [
      "2916/12153\r2917/12153\r2918/12153\r"
     ]
    },
    {
     "name": "stdout",
     "output_type": "stream",
     "text": [
      "2919/12153\r2920/12153\r2921/12153\r2922/12153\r"
     ]
    },
    {
     "name": "stdout",
     "output_type": "stream",
     "text": [
      "2923/12153\r2924/12153\r2925/12153\r"
     ]
    },
    {
     "name": "stdout",
     "output_type": "stream",
     "text": [
      "2926/12153\r2927/12153\r2928/12153\r2929/12153\r"
     ]
    },
    {
     "name": "stdout",
     "output_type": "stream",
     "text": [
      "2930/12153\r2931/12153\r2932/12153\r"
     ]
    },
    {
     "name": "stdout",
     "output_type": "stream",
     "text": [
      "2933/12153\r2934/12153\r2935/12153\r2936/12153\r"
     ]
    },
    {
     "name": "stdout",
     "output_type": "stream",
     "text": [
      "2937/12153\r2938/12153\r2939/12153\r2940/12153\r"
     ]
    },
    {
     "name": "stdout",
     "output_type": "stream",
     "text": [
      "2941/12153\r2942/12153\r2943/12153\r2944/12153\r"
     ]
    },
    {
     "name": "stdout",
     "output_type": "stream",
     "text": [
      "2945/12153\r2946/12153\r2947/12153\r2948/12153\r"
     ]
    },
    {
     "name": "stdout",
     "output_type": "stream",
     "text": [
      "2949/12153\r2950/12153\r2951/12153\r"
     ]
    },
    {
     "name": "stdout",
     "output_type": "stream",
     "text": [
      "2952/12153\r2953/12153\r2954/12153\r2955/12153\r"
     ]
    },
    {
     "name": "stdout",
     "output_type": "stream",
     "text": [
      "2956/12153\r2957/12153\r2958/12153\r2959/12153\r"
     ]
    },
    {
     "name": "stdout",
     "output_type": "stream",
     "text": [
      "2960/12153\r2961/12153\r2962/12153\r2963/12153\r2964/12153\r2965/12153\r2966/12153\r"
     ]
    },
    {
     "name": "stdout",
     "output_type": "stream",
     "text": [
      "2967/12153\r2968/12153\r2969/12153\r2970/12153\r2971/12153\r2972/12153\r"
     ]
    },
    {
     "name": "stdout",
     "output_type": "stream",
     "text": [
      "2973/12153\r2974/12153\r2975/12153\r"
     ]
    },
    {
     "name": "stdout",
     "output_type": "stream",
     "text": [
      "2976/12153\r2977/12153\r2978/12153\r2979/12153\r2980/12153\r2981/12153\r2982/12153"
     ]
    },
    {
     "name": "stdout",
     "output_type": "stream",
     "text": [
      "\r2983/12153\r2984/12153\r2985/12153\r2986/12153\r2987/12153\r2988/12153\r2989/12153\r"
     ]
    },
    {
     "name": "stdout",
     "output_type": "stream",
     "text": [
      "2990/12153\r2991/12153\r2992/12153\r2993/12153\r2994/12153\r2995/12153\r2996/12153\r"
     ]
    },
    {
     "name": "stdout",
     "output_type": "stream",
     "text": [
      "2997/12153\r2998/12153\r2999/12153\r3000/12153\r3001/12153\r3002/12153\r3003/12153\r"
     ]
    },
    {
     "name": "stdout",
     "output_type": "stream",
     "text": [
      "3004/12153\r3005/12153\r3006/12153\r3007/12153\r3008/12153\r3009/12153\r3010/12153\r"
     ]
    },
    {
     "name": "stdout",
     "output_type": "stream",
     "text": [
      "3011/12153\r3012/12153\r3013/12153\r3014/12153\r3015/12153\r3016/12153\r3017/12153\r"
     ]
    },
    {
     "name": "stdout",
     "output_type": "stream",
     "text": [
      "3018/12153\r3019/12153\r3020/12153\r3021/12153\r3022/12153\r3023/12153\r3024/12153\r"
     ]
    },
    {
     "name": "stdout",
     "output_type": "stream",
     "text": [
      "3025/12153\r3026/12153\r3027/12153\r3028/12153\r3029/12153\r3030/12153\r3031/12153\r"
     ]
    },
    {
     "name": "stdout",
     "output_type": "stream",
     "text": [
      "3032/12153\r3033/12153\r3034/12153\r3035/12153\r3036/12153\r3037/12153\r3038/12153\r"
     ]
    },
    {
     "name": "stdout",
     "output_type": "stream",
     "text": [
      "3039/12153\r3040/12153\r3041/12153\r3042/12153\r3043/12153\r3044/12153\r3045/12153\r"
     ]
    },
    {
     "name": "stdout",
     "output_type": "stream",
     "text": [
      "3046/12153\r3047/12153\r3048/12153\r3049/12153\r3050/12153\r3051/12153\r3052/12153\r"
     ]
    },
    {
     "name": "stdout",
     "output_type": "stream",
     "text": [
      "3053/12153\r3054/12153\r3055/12153\r3056/12153\r3057/12153\r3058/12153\r3059/12153\r"
     ]
    },
    {
     "name": "stdout",
     "output_type": "stream",
     "text": [
      "3060/12153\r3061/12153\r3062/12153\r3063/12153\r3064/12153\r3065/12153\r3066/12153\r"
     ]
    },
    {
     "name": "stdout",
     "output_type": "stream",
     "text": [
      "3067/12153\r3068/12153\r3069/12153\r3070/12153\r3071/12153\r3072/12153\r3073/12153\r"
     ]
    },
    {
     "name": "stdout",
     "output_type": "stream",
     "text": [
      "3074/12153\r3075/12153\r3076/12153\r3077/12153\r3078/12153\r3079/12153\r3080/12153\r"
     ]
    },
    {
     "name": "stdout",
     "output_type": "stream",
     "text": [
      "3081/12153\r3082/12153\r3083/12153\r3084/12153\r3085/12153\r3086/12153\r3087/12153\r"
     ]
    },
    {
     "name": "stdout",
     "output_type": "stream",
     "text": [
      "3088/12153\r3089/12153\r3090/12153\r3091/12153\r3092/12153\r3093/12153\r3094/12153\r"
     ]
    },
    {
     "name": "stdout",
     "output_type": "stream",
     "text": [
      "3095/12153\r3096/12153\r3097/12153\r3098/12153\r3099/12153\r3100/12153\r3101/12153\r"
     ]
    },
    {
     "name": "stdout",
     "output_type": "stream",
     "text": [
      "3102/12153\r3103/12153\r3104/12153\r3105/12153\r3106/12153\r3107/12153\r3108/12153\r"
     ]
    },
    {
     "name": "stdout",
     "output_type": "stream",
     "text": [
      "3109/12153\r3110/12153\r3111/12153\r3112/12153\r3113/12153\r3114/12153\r3115/12153\r"
     ]
    },
    {
     "name": "stdout",
     "output_type": "stream",
     "text": [
      "3116/12153\r3117/12153\r3118/12153\r3119/12153\r3120/12153\r3121/12153\r3122/12153\r"
     ]
    },
    {
     "name": "stdout",
     "output_type": "stream",
     "text": [
      "3123/12153\r3124/12153\r3125/12153\r3126/12153\r3127/12153\r3128/12153\r3129/12153\r"
     ]
    },
    {
     "name": "stdout",
     "output_type": "stream",
     "text": [
      "3130/12153\r3131/12153\r3132/12153\r3133/12153\r3134/12153\r3135/12153\r3136/12153\r"
     ]
    },
    {
     "name": "stdout",
     "output_type": "stream",
     "text": [
      "3137/12153\r3138/12153\r3139/12153\r3140/12153\r3141/12153\r3142/12153\r3143/12153\r"
     ]
    },
    {
     "name": "stdout",
     "output_type": "stream",
     "text": [
      "3144/12153\r3145/12153\r3146/12153\r3147/12153\r3148/12153\r3149/12153\r3150/12153\r"
     ]
    },
    {
     "name": "stdout",
     "output_type": "stream",
     "text": [
      "3151/12153\r3152/12153\r3153/12153\r3154/12153\r3155/12153\r3156/12153\r"
     ]
    },
    {
     "name": "stdout",
     "output_type": "stream",
     "text": [
      "3157/12153\r3158/12153\r3159/12153\r3160/12153\r3161/12153\r3162/12153\r3163/12153\r"
     ]
    },
    {
     "name": "stdout",
     "output_type": "stream",
     "text": [
      "3164/12153\r3165/12153\r3166/12153\r3167/12153\r3168/12153\r3169/12153\r"
     ]
    },
    {
     "name": "stdout",
     "output_type": "stream",
     "text": [
      "3170/12153\r3171/12153\r3172/12153\r3173/12153\r3174/12153\r3175/12153\r"
     ]
    },
    {
     "name": "stdout",
     "output_type": "stream",
     "text": [
      "3176/12153\r3177/12153\r3178/12153\r3179/12153\r3180/12153\r3181/12153\r3182/12153\r"
     ]
    },
    {
     "name": "stdout",
     "output_type": "stream",
     "text": [
      "3183/12153\r3184/12153\r3185/12153\r3186/12153\r3187/12153\r3188/12153\r3189/12153\r"
     ]
    },
    {
     "name": "stdout",
     "output_type": "stream",
     "text": [
      "3190/12153\r3191/12153\r3192/12153\r3193/12153\r3194/12153\r3195/12153\r"
     ]
    },
    {
     "name": "stdout",
     "output_type": "stream",
     "text": [
      "3196/12153\r3197/12153\r3198/12153\r3199/12153\r3200/12153\r3201/12153\r3202/12153\r"
     ]
    },
    {
     "name": "stdout",
     "output_type": "stream",
     "text": [
      "3203/12153\r3204/12153\r3205/12153\r3206/12153\r3207/12153\r3208/12153\r3209/12153\r"
     ]
    },
    {
     "name": "stdout",
     "output_type": "stream",
     "text": [
      "3210/12153\r3211/12153\r3212/12153\r3213/12153\r3214/12153\r3215/12153\r3216/12153\r"
     ]
    },
    {
     "name": "stdout",
     "output_type": "stream",
     "text": [
      "3217/12153\r3218/12153\r3219/12153\r3220/12153\r3221/12153\r3222/12153\r3223/12153\r"
     ]
    },
    {
     "name": "stdout",
     "output_type": "stream",
     "text": [
      "3224/12153\r3225/12153\r3226/12153\r3227/12153\r3228/12153\r3229/12153\r3230/12153\r"
     ]
    },
    {
     "name": "stdout",
     "output_type": "stream",
     "text": [
      "3231/12153\r3232/12153\r3233/12153\r3234/12153\r3235/12153\r3236/12153\r3237/12153\r"
     ]
    },
    {
     "name": "stdout",
     "output_type": "stream",
     "text": [
      "3238/12153\r3239/12153\r3240/12153\r3241/12153\r3242/12153\r3243/12153\r3244/12153\r"
     ]
    },
    {
     "name": "stdout",
     "output_type": "stream",
     "text": [
      "3245/12153\r3246/12153\r3247/12153\r3248/12153\r3249/12153\r"
     ]
    },
    {
     "name": "stdout",
     "output_type": "stream",
     "text": [
      "3250/12153\r3251/12153\r3252/12153\r3253/12153\r3254/12153\r"
     ]
    },
    {
     "name": "stdout",
     "output_type": "stream",
     "text": [
      "3255/12153\r3256/12153\r3257/12153\r3258/12153\r3259/12153\r3260/12153\r3261/12153\r"
     ]
    },
    {
     "name": "stdout",
     "output_type": "stream",
     "text": [
      "3262/12153\r3263/12153\r3264/12153\r3265/12153\r3266/12153\r3267/12153\r"
     ]
    },
    {
     "name": "stdout",
     "output_type": "stream",
     "text": [
      "3268/12153\r3269/12153\r3270/12153\r3271/12153\r3272/12153\r3273/12153\r3274/12153\r"
     ]
    },
    {
     "name": "stdout",
     "output_type": "stream",
     "text": [
      "3275/12153\r3276/12153\r3277/12153\r3278/12153\r3279/12153\r3280/12153\r3281/12153\r"
     ]
    },
    {
     "name": "stdout",
     "output_type": "stream",
     "text": [
      "3282/12153\r3283/12153\r3284/12153\r3285/12153\r3286/12153\r3287/12153\r3288/12153\r"
     ]
    },
    {
     "name": "stdout",
     "output_type": "stream",
     "text": [
      "3289/12153\r3290/12153\r3291/12153\r3292/12153\r3293/12153\r3294/12153\r3295/12153\r"
     ]
    },
    {
     "name": "stdout",
     "output_type": "stream",
     "text": [
      "3296/12153\r3297/12153\r3298/12153\r3299/12153\r3300/12153\r3301/12153\r3302/12153\r"
     ]
    },
    {
     "name": "stdout",
     "output_type": "stream",
     "text": [
      "3303/12153\r3304/12153\r3305/12153\r3306/12153\r3307/12153\r"
     ]
    },
    {
     "name": "stdout",
     "output_type": "stream",
     "text": [
      "3308/12153\r3309/12153\r3310/12153\r3311/12153\r"
     ]
    },
    {
     "name": "stdout",
     "output_type": "stream",
     "text": [
      "3312/12153\r3313/12153\r3314/12153\r3315/12153\r3316/12153\r"
     ]
    },
    {
     "name": "stdout",
     "output_type": "stream",
     "text": [
      "3317/12153\r3318/12153\r3319/12153\r3320/12153\r"
     ]
    },
    {
     "name": "stdout",
     "output_type": "stream",
     "text": [
      "3321/12153\r3322/12153\r3323/12153\r"
     ]
    },
    {
     "name": "stdout",
     "output_type": "stream",
     "text": [
      "3324/12153\r3325/12153\r3326/12153\r3327/12153\r3328/12153\r3329/12153\r"
     ]
    },
    {
     "name": "stdout",
     "output_type": "stream",
     "text": [
      "3330/12153\r3331/12153\r3332/12153\r3333/12153\r3334/12153\r3335/12153\r"
     ]
    },
    {
     "name": "stdout",
     "output_type": "stream",
     "text": [
      "3336/12153\r3337/12153\r3338/12153\r3339/12153\r3340/12153\r3341/12153\r3342/12153\r"
     ]
    },
    {
     "name": "stdout",
     "output_type": "stream",
     "text": [
      "3343/12153\r3344/12153\r3345/12153\r3346/12153\r3347/12153\r3348/12153\r3349/12153\r"
     ]
    },
    {
     "name": "stdout",
     "output_type": "stream",
     "text": [
      "3350/12153\r3351/12153\r3352/12153\r3353/12153\r3354/12153\r3355/12153\r3356/12153\r"
     ]
    },
    {
     "name": "stdout",
     "output_type": "stream",
     "text": [
      "3357/12153\r3358/12153\r3359/12153\r3360/12153\r3361/12153\r3362/12153\r3363/12153\r"
     ]
    },
    {
     "name": "stdout",
     "output_type": "stream",
     "text": [
      "3364/12153\r3365/12153\r3366/12153\r3367/12153\r3368/12153\r3369/12153\r3370/12153\r"
     ]
    },
    {
     "name": "stdout",
     "output_type": "stream",
     "text": [
      "3371/12153\r3372/12153\r3373/12153\r3374/12153\r3375/12153\r3376/12153\r3377/12153\r"
     ]
    },
    {
     "name": "stdout",
     "output_type": "stream",
     "text": [
      "3378/12153\r3379/12153\r3380/12153\r3381/12153\r3382/12153\r3383/12153\r3384/12153\r"
     ]
    },
    {
     "name": "stdout",
     "output_type": "stream",
     "text": [
      "3385/12153\r3386/12153\r3387/12153\r3388/12153\r3389/12153\r3390/12153\r3391/12153\r"
     ]
    },
    {
     "name": "stdout",
     "output_type": "stream",
     "text": [
      "3392/12153\r3393/12153\r3394/12153\r3395/12153\r3396/12153\r3397/12153\r3398/12153"
     ]
    },
    {
     "name": "stdout",
     "output_type": "stream",
     "text": [
      "\r3399/12153\r3400/12153\r3401/12153\r3402/12153\r3403/12153\r3404/12153\r3405/12153\r"
     ]
    },
    {
     "name": "stdout",
     "output_type": "stream",
     "text": [
      "3406/12153\r3407/12153\r3408/12153\r3409/12153\r"
     ]
    },
    {
     "name": "stdout",
     "output_type": "stream",
     "text": [
      "3410/12153\r3411/12153\r3412/12153\r3413/12153\r3414/12153\r"
     ]
    },
    {
     "name": "stdout",
     "output_type": "stream",
     "text": [
      "3415/12153\r3416/12153\r3417/12153\r3418/12153\r3419/12153\r"
     ]
    },
    {
     "name": "stdout",
     "output_type": "stream",
     "text": [
      "3420/12153\r"
     ]
    },
    {
     "name": "stdout",
     "output_type": "stream",
     "text": [
      "3421/12153\r3422/12153\r3423/12153\r3424/12153\r"
     ]
    },
    {
     "name": "stdout",
     "output_type": "stream",
     "text": [
      "3425/12153\r3426/12153\r3427/12153\r"
     ]
    },
    {
     "name": "stdout",
     "output_type": "stream",
     "text": [
      "3428/12153\r3429/12153\r"
     ]
    },
    {
     "name": "stdout",
     "output_type": "stream",
     "text": [
      "3430/12153\r3431/12153\r3432/12153\r3433/12153\r"
     ]
    },
    {
     "name": "stdout",
     "output_type": "stream",
     "text": [
      "3434/12153\r3435/12153\r"
     ]
    },
    {
     "name": "stdout",
     "output_type": "stream",
     "text": [
      "3436/12153\r3437/12153\r"
     ]
    },
    {
     "name": "stdout",
     "output_type": "stream",
     "text": [
      "3438/12153\r3439/12153\r3440/12153\r"
     ]
    },
    {
     "name": "stdout",
     "output_type": "stream",
     "text": [
      "3441/12153\r3442/12153\r3443/12153\r3444/12153\r3445/12153\r"
     ]
    },
    {
     "name": "stdout",
     "output_type": "stream",
     "text": [
      "3446/12153\r3447/12153\r3448/12153\r3449/12153\r3450/12153\r3451/12153\r"
     ]
    },
    {
     "name": "stdout",
     "output_type": "stream",
     "text": [
      "3452/12153\r3453/12153\r3454/12153\r3455/12153\r3456/12153\r3457/12153\r"
     ]
    },
    {
     "name": "stdout",
     "output_type": "stream",
     "text": [
      "3458/12153\r3459/12153\r3460/12153\r3461/12153\r3462/12153\r3463/12153\r3464/12153\r"
     ]
    },
    {
     "name": "stdout",
     "output_type": "stream",
     "text": [
      "3465/12153\r3466/12153\r3467/12153\r3468/12153\r3469/12153\r3470/12153\r3471/12153\r"
     ]
    },
    {
     "name": "stdout",
     "output_type": "stream",
     "text": [
      "3472/12153\r3473/12153\r3474/12153\r3475/12153\r3476/12153\r3477/12153\r"
     ]
    },
    {
     "name": "stdout",
     "output_type": "stream",
     "text": [
      "3478/12153\r3479/12153\r3480/12153\r3481/12153\r3482/12153\r3483/12153\r"
     ]
    },
    {
     "name": "stdout",
     "output_type": "stream",
     "text": [
      "3484/12153\r3485/12153\r3486/12153\r3487/12153\r3488/12153\r3489/12153\r"
     ]
    },
    {
     "name": "stdout",
     "output_type": "stream",
     "text": [
      "3490/12153\r3491/12153\r3492/12153\r3493/12153\r3494/12153\r3495/12153\r"
     ]
    },
    {
     "name": "stdout",
     "output_type": "stream",
     "text": [
      "3496/12153\r3497/12153\r3498/12153\r3499/12153\r3500/12153\r3501/12153\r"
     ]
    },
    {
     "name": "stdout",
     "output_type": "stream",
     "text": [
      "3502/12153\r3503/12153\r3504/12153\r3505/12153\r3506/12153\r3507/12153\r3508/12153\r"
     ]
    },
    {
     "name": "stdout",
     "output_type": "stream",
     "text": [
      "3509/12153\r3510/12153\r3511/12153\r3512/12153\r3513/12153\r3514/12153\r"
     ]
    },
    {
     "name": "stdout",
     "output_type": "stream",
     "text": [
      "3515/12153\r3516/12153\r3517/12153\r3518/12153\r3519/12153\r3520/12153\r"
     ]
    },
    {
     "name": "stdout",
     "output_type": "stream",
     "text": [
      "3521/12153\r3522/12153\r3523/12153\r3524/12153\r3525/12153\r3526/12153\r"
     ]
    },
    {
     "name": "stdout",
     "output_type": "stream",
     "text": [
      "3527/12153\r3528/12153\r3529/12153\r3530/12153\r3531/12153\r3532/12153\r3533/12153\r"
     ]
    },
    {
     "name": "stdout",
     "output_type": "stream",
     "text": [
      "3534/12153\r3535/12153\r3536/12153\r3537/12153\r3538/12153\r3539/12153\r"
     ]
    },
    {
     "name": "stdout",
     "output_type": "stream",
     "text": [
      "3540/12153\r3541/12153\r3542/12153\r3543/12153\r3544/12153\r3545/12153\r"
     ]
    },
    {
     "name": "stdout",
     "output_type": "stream",
     "text": [
      "3546/12153\r3547/12153\r3548/12153\r3549/12153\r3550/12153\r3551/12153\r"
     ]
    },
    {
     "name": "stdout",
     "output_type": "stream",
     "text": [
      "3552/12153\r3553/12153\r3554/12153\r3555/12153\r3556/12153\r3557/12153\r"
     ]
    },
    {
     "name": "stdout",
     "output_type": "stream",
     "text": [
      "3558/12153\r3559/12153\r3560/12153\r3561/12153\r3562/12153\r3563/12153\r3564/12153\r"
     ]
    },
    {
     "name": "stdout",
     "output_type": "stream",
     "text": [
      "3565/12153\r3566/12153\r3567/12153\r3568/12153\r3569/12153\r3570/12153\r"
     ]
    },
    {
     "name": "stdout",
     "output_type": "stream",
     "text": [
      "3571/12153\r3572/12153\r3573/12153\r3574/12153\r3575/12153\r3576/12153\r3577/12153"
     ]
    },
    {
     "name": "stdout",
     "output_type": "stream",
     "text": [
      "\r3578/12153\r3579/12153\r3580/12153\r3581/12153\r3582/12153\r3583/12153\r"
     ]
    },
    {
     "name": "stdout",
     "output_type": "stream",
     "text": [
      "3584/12153\r3585/12153\r3586/12153\r3587/12153\r3588/12153\r3589/12153\r3590/12153\r"
     ]
    },
    {
     "name": "stdout",
     "output_type": "stream",
     "text": [
      "3591/12153\r3592/12153\r3593/12153\r3594/12153\r3595/12153\r3596/12153\r3597/12153\r"
     ]
    },
    {
     "name": "stdout",
     "output_type": "stream",
     "text": [
      "3598/12153\r3599/12153\r3600/12153\r3601/12153\r"
     ]
    },
    {
     "name": "stdout",
     "output_type": "stream",
     "text": [
      "3602/12153\r3603/12153\r3604/12153\r3605/12153\r3606/12153\r"
     ]
    },
    {
     "name": "stdout",
     "output_type": "stream",
     "text": [
      "3607/12153\r3608/12153\r3609/12153\r3610/12153\r3611/12153\r"
     ]
    },
    {
     "name": "stdout",
     "output_type": "stream",
     "text": [
      "3612/12153\r3613/12153\r3614/12153\r3615/12153\r3616/12153\r3617/12153\r"
     ]
    },
    {
     "name": "stdout",
     "output_type": "stream",
     "text": [
      "3618/12153\r3619/12153\r3620/12153\r3621/12153\r3622/12153\r3623/12153\r"
     ]
    },
    {
     "name": "stdout",
     "output_type": "stream",
     "text": [
      "3624/12153\r3625/12153\r3626/12153\r3627/12153\r3628/12153\r3629/12153\r"
     ]
    },
    {
     "name": "stdout",
     "output_type": "stream",
     "text": [
      "3630/12153\r3631/12153\r3632/12153\r3633/12153\r3634/12153\r3635/12153\r"
     ]
    },
    {
     "name": "stdout",
     "output_type": "stream",
     "text": [
      "3636/12153\r3637/12153\r3638/12153\r3639/12153\r3640/12153\r3641/12153\r3642/12153\r"
     ]
    },
    {
     "name": "stdout",
     "output_type": "stream",
     "text": [
      "3643/12153\r3644/12153\r3645/12153\r3646/12153\r3647/12153\r3648/12153\r"
     ]
    },
    {
     "name": "stdout",
     "output_type": "stream",
     "text": [
      "3649/12153\r3650/12153\r3651/12153\r3652/12153\r3653/12153\r3654/12153\r3655/12153\r"
     ]
    },
    {
     "name": "stdout",
     "output_type": "stream",
     "text": [
      "3656/12153\r3657/12153\r3658/12153\r3659/12153\r3660/12153\r3661/12153\r3662/12153\r"
     ]
    },
    {
     "name": "stdout",
     "output_type": "stream",
     "text": [
      "3663/12153\r3664/12153\r3665/12153\r3666/12153\r3667/12153\r3668/12153\r"
     ]
    },
    {
     "name": "stdout",
     "output_type": "stream",
     "text": [
      "3669/12153\r3670/12153\r3671/12153\r3672/12153\r3673/12153\r3674/12153\r"
     ]
    },
    {
     "name": "stdout",
     "output_type": "stream",
     "text": [
      "3675/12153\r3676/12153\r3677/12153\r3678/12153\r3679/12153\r3680/12153\r3681/12153\r"
     ]
    },
    {
     "name": "stdout",
     "output_type": "stream",
     "text": [
      "3682/12153\r3683/12153\r3684/12153\r3685/12153\r3686/12153\r3687/12153\r3688/12153\r"
     ]
    },
    {
     "name": "stdout",
     "output_type": "stream",
     "text": [
      "3689/12153\r3690/12153\r3691/12153\r3692/12153\r3693/12153\r3694/12153\r"
     ]
    },
    {
     "name": "stdout",
     "output_type": "stream",
     "text": [
      "3695/12153\r3696/12153\r3697/12153\r3698/12153\r3699/12153\r3700/12153\r"
     ]
    },
    {
     "name": "stdout",
     "output_type": "stream",
     "text": [
      "3701/12153\r3702/12153\r3703/12153\r3704/12153\r3705/12153\r"
     ]
    },
    {
     "name": "stdout",
     "output_type": "stream",
     "text": [
      "3706/12153\r3707/12153\r3708/12153\r"
     ]
    },
    {
     "name": "stdout",
     "output_type": "stream",
     "text": [
      "3709/12153\r3710/12153\r3711/12153\r3712/12153\r3713/12153\r3714/12153\r"
     ]
    },
    {
     "name": "stdout",
     "output_type": "stream",
     "text": [
      "3715/12153\r3716/12153\r3717/12153\r3718/12153\r3719/12153\r3720/12153\r"
     ]
    },
    {
     "name": "stdout",
     "output_type": "stream",
     "text": [
      "3721/12153\r3722/12153\r3723/12153\r3724/12153\r3725/12153\r3726/12153\r"
     ]
    },
    {
     "name": "stdout",
     "output_type": "stream",
     "text": [
      "3727/12153\r3728/12153\r3729/12153\r3730/12153\r3731/12153\r3732/12153\r"
     ]
    },
    {
     "name": "stdout",
     "output_type": "stream",
     "text": [
      "3733/12153\r3734/12153\r3735/12153\r3736/12153\r3737/12153\r3738/12153\r"
     ]
    },
    {
     "name": "stdout",
     "output_type": "stream",
     "text": [
      "3739/12153\r3740/12153\r3741/12153\r3742/12153\r3743/12153\r3744/12153\r"
     ]
    },
    {
     "name": "stdout",
     "output_type": "stream",
     "text": [
      "3745/12153\r3746/12153\r3747/12153\r3748/12153\r"
     ]
    },
    {
     "name": "stdout",
     "output_type": "stream",
     "text": [
      "3749/12153\r3750/12153\r3751/12153\r3752/12153\r3753/12153\r3754/12153\r"
     ]
    },
    {
     "name": "stdout",
     "output_type": "stream",
     "text": [
      "3755/12153\r3756/12153\r3757/12153\r"
     ]
    },
    {
     "name": "stdout",
     "output_type": "stream",
     "text": [
      "3758/12153\r3759/12153\r3760/12153\r3761/12153\r3762/12153\r"
     ]
    },
    {
     "name": "stdout",
     "output_type": "stream",
     "text": [
      "3763/12153\r3764/12153\r3765/12153\r3766/12153\r3767/12153\r"
     ]
    },
    {
     "name": "stdout",
     "output_type": "stream",
     "text": [
      "3768/12153\r3769/12153\r3770/12153\r3771/12153\r3772/12153\r3773/12153\r"
     ]
    },
    {
     "name": "stdout",
     "output_type": "stream",
     "text": [
      "3774/12153\r3775/12153\r3776/12153\r3777/12153\r3778/12153\r3779/12153\r"
     ]
    },
    {
     "name": "stdout",
     "output_type": "stream",
     "text": [
      "3780/12153\r3781/12153\r3782/12153\r3783/12153\r3784/12153\r"
     ]
    },
    {
     "name": "stdout",
     "output_type": "stream",
     "text": [
      "3785/12153\r3786/12153\r3787/12153\r3788/12153\r3789/12153\r"
     ]
    },
    {
     "name": "stdout",
     "output_type": "stream",
     "text": [
      "3790/12153\r3791/12153\r3792/12153\r3793/12153\r3794/12153\r3795/12153\r"
     ]
    },
    {
     "name": "stdout",
     "output_type": "stream",
     "text": [
      "3796/12153\r3797/12153\r3798/12153\r3799/12153\r3800/12153\r3801/12153\r"
     ]
    },
    {
     "name": "stdout",
     "output_type": "stream",
     "text": [
      "3802/12153\r3803/12153\r3804/12153\r3805/12153\r3806/12153\r3807/12153\r3808/12153\r"
     ]
    },
    {
     "name": "stdout",
     "output_type": "stream",
     "text": [
      "3809/12153\r3810/12153\r3811/12153\r3812/12153\r3813/12153\r3814/12153\r"
     ]
    },
    {
     "name": "stdout",
     "output_type": "stream",
     "text": [
      "3815/12153\r3816/12153\r3817/12153\r3818/12153\r3819/12153\r3820/12153\r3821/12153\r"
     ]
    },
    {
     "name": "stdout",
     "output_type": "stream",
     "text": [
      "3822/12153\r3823/12153\r3824/12153\r3825/12153\r3826/12153\r"
     ]
    },
    {
     "name": "stdout",
     "output_type": "stream",
     "text": [
      "3827/12153\r3828/12153\r3829/12153\r3830/12153\r3831/12153\r"
     ]
    },
    {
     "name": "stdout",
     "output_type": "stream",
     "text": [
      "3832/12153\r3833/12153\r3834/12153\r3835/12153\r3836/12153\r"
     ]
    },
    {
     "name": "stdout",
     "output_type": "stream",
     "text": [
      "3837/12153\r3838/12153\r3839/12153\r3840/12153\r3841/12153\r3842/12153\r"
     ]
    },
    {
     "name": "stdout",
     "output_type": "stream",
     "text": [
      "3843/12153\r3844/12153\r3845/12153\r3846/12153\r3847/12153\r3848/12153\r"
     ]
    },
    {
     "name": "stdout",
     "output_type": "stream",
     "text": [
      "3849/12153\r3850/12153\r3851/12153\r3852/12153\r3853/12153\r3854/12153\r"
     ]
    },
    {
     "name": "stdout",
     "output_type": "stream",
     "text": [
      "3855/12153\r3856/12153\r3857/12153\r3858/12153\r3859/12153\r"
     ]
    },
    {
     "name": "stdout",
     "output_type": "stream",
     "text": [
      "3860/12153\r3861/12153\r3862/12153\r3863/12153\r3864/12153\r"
     ]
    },
    {
     "name": "stdout",
     "output_type": "stream",
     "text": [
      "3865/12153\r3866/12153\r3867/12153\r3868/12153\r3869/12153\r3870/12153\r3871/12153\r"
     ]
    },
    {
     "name": "stdout",
     "output_type": "stream",
     "text": [
      "3872/12153\r3873/12153\r3874/12153\r3875/12153\r3876/12153\r3877/12153\r3878/12153"
     ]
    },
    {
     "name": "stdout",
     "output_type": "stream",
     "text": [
      "\r3879/12153\r3880/12153\r3881/12153\r3882/12153\r3883/12153\r"
     ]
    },
    {
     "name": "stdout",
     "output_type": "stream",
     "text": [
      "3884/12153\r3885/12153\r3886/12153\r3887/12153\r3888/12153\r3889/12153\r3890/12153\r"
     ]
    },
    {
     "name": "stdout",
     "output_type": "stream",
     "text": [
      "3891/12153\r3892/12153\r3893/12153\r3894/12153\r3895/12153\r3896/12153\r3897/12153\r"
     ]
    },
    {
     "name": "stdout",
     "output_type": "stream",
     "text": [
      "3898/12153\r3899/12153\r3900/12153\r3901/12153\r3902/12153\r3903/12153\r"
     ]
    },
    {
     "name": "stdout",
     "output_type": "stream",
     "text": [
      "3904/12153\r3905/12153\r3906/12153\r3907/12153\r3908/12153\r3909/12153\r3910/12153\r"
     ]
    },
    {
     "name": "stdout",
     "output_type": "stream",
     "text": [
      "3911/12153\r3912/12153\r3913/12153\r3914/12153\r3915/12153\r3916/12153\r3917/12153\r"
     ]
    },
    {
     "name": "stdout",
     "output_type": "stream",
     "text": [
      "3918/12153\r3919/12153\r3920/12153\r3921/12153\r3922/12153\r3923/12153\r"
     ]
    },
    {
     "name": "stdout",
     "output_type": "stream",
     "text": [
      "3924/12153\r3925/12153\r3926/12153\r3927/12153\r3928/12153\r3929/12153\r"
     ]
    },
    {
     "name": "stdout",
     "output_type": "stream",
     "text": [
      "3930/12153\r3931/12153\r3932/12153\r3933/12153\r3934/12153\r3935/12153\r3936/12153\r"
     ]
    },
    {
     "name": "stdout",
     "output_type": "stream",
     "text": [
      "3937/12153\r3938/12153\r3939/12153\r3940/12153\r3941/12153\r3942/12153\r3943/12153\r"
     ]
    },
    {
     "name": "stdout",
     "output_type": "stream",
     "text": [
      "3944/12153\r3945/12153\r3946/12153\r3947/12153\r3948/12153\r3949/12153\r3950/12153\r"
     ]
    },
    {
     "name": "stdout",
     "output_type": "stream",
     "text": [
      "3951/12153\r3952/12153\r3953/12153\r3954/12153\r3955/12153\r3956/12153\r"
     ]
    },
    {
     "name": "stdout",
     "output_type": "stream",
     "text": [
      "3957/12153\r3958/12153\r3959/12153\r3960/12153\r3961/12153\r3962/12153\r"
     ]
    },
    {
     "name": "stdout",
     "output_type": "stream",
     "text": [
      "3963/12153\r3964/12153\r3965/12153\r3966/12153\r3967/12153\r3968/12153\r"
     ]
    },
    {
     "name": "stdout",
     "output_type": "stream",
     "text": [
      "3969/12153\r3970/12153\r3971/12153\r3972/12153\r3973/12153\r3974/12153\r"
     ]
    },
    {
     "name": "stdout",
     "output_type": "stream",
     "text": [
      "3975/12153\r3976/12153\r3977/12153\r3978/12153\r3979/12153\r3980/12153\r"
     ]
    },
    {
     "name": "stdout",
     "output_type": "stream",
     "text": [
      "3981/12153\r3982/12153\r3983/12153\r3984/12153\r3985/12153\r3986/12153\r3987/12153\r"
     ]
    },
    {
     "name": "stdout",
     "output_type": "stream",
     "text": [
      "3988/12153\r3989/12153\r3990/12153\r3991/12153\r"
     ]
    },
    {
     "name": "stdout",
     "output_type": "stream",
     "text": [
      "3992/12153\r3993/12153\r3994/12153\r3995/12153\r3996/12153\r3997/12153\r"
     ]
    },
    {
     "name": "stdout",
     "output_type": "stream",
     "text": [
      "3998/12153\r3999/12153\r4000/12153\r4001/12153\r4002/12153\r4003/12153\r"
     ]
    },
    {
     "name": "stdout",
     "output_type": "stream",
     "text": [
      "4004/12153\r4005/12153\r4006/12153\r4007/12153\r4008/12153\r4009/12153\r"
     ]
    },
    {
     "name": "stdout",
     "output_type": "stream",
     "text": [
      "4010/12153\r4011/12153\r4012/12153\r4013/12153\r4014/12153\r4015/12153\r"
     ]
    },
    {
     "name": "stdout",
     "output_type": "stream",
     "text": [
      "4016/12153\r4017/12153\r4018/12153\r4019/12153\r4020/12153\r"
     ]
    },
    {
     "name": "stdout",
     "output_type": "stream",
     "text": [
      "4021/12153\r4022/12153\r4023/12153\r4024/12153\r4025/12153\r"
     ]
    },
    {
     "name": "stdout",
     "output_type": "stream",
     "text": [
      "4026/12153\r4027/12153\r4028/12153\r4029/12153\r4030/12153\r4031/12153\r"
     ]
    },
    {
     "name": "stdout",
     "output_type": "stream",
     "text": [
      "4032/12153\r4033/12153\r4034/12153\r4035/12153\r"
     ]
    },
    {
     "name": "stdout",
     "output_type": "stream",
     "text": [
      "4036/12153\r4037/12153\r4038/12153\r4039/12153\r"
     ]
    },
    {
     "name": "stdout",
     "output_type": "stream",
     "text": [
      "4040/12153\r4041/12153\r4042/12153\r4043/12153\r"
     ]
    },
    {
     "name": "stdout",
     "output_type": "stream",
     "text": [
      "4044/12153\r4045/12153\r4046/12153\r4047/12153\r"
     ]
    },
    {
     "name": "stdout",
     "output_type": "stream",
     "text": [
      "4048/12153\r4049/12153\r4050/12153\r4051/12153\r4052/12153\r4053/12153\r"
     ]
    },
    {
     "name": "stdout",
     "output_type": "stream",
     "text": [
      "4054/12153\r4055/12153\r4056/12153\r4057/12153\r"
     ]
    },
    {
     "name": "stdout",
     "output_type": "stream",
     "text": [
      "4058/12153\r4059/12153\r4060/12153\r4061/12153\r4062/12153\r4063/12153"
     ]
    },
    {
     "name": "stdout",
     "output_type": "stream",
     "text": [
      "\r4064/12153\r4065/12153\r4066/12153\r4067/12153\r4068/12153\r"
     ]
    },
    {
     "name": "stdout",
     "output_type": "stream",
     "text": [
      "4069/12153\r4070/12153\r4071/12153\r4072/12153\r"
     ]
    },
    {
     "name": "stdout",
     "output_type": "stream",
     "text": [
      "4073/12153\r4074/12153\r4075/12153\r4076/12153\r"
     ]
    },
    {
     "name": "stdout",
     "output_type": "stream",
     "text": [
      "4077/12153\r4078/12153\r4079/12153\r"
     ]
    },
    {
     "name": "stdout",
     "output_type": "stream",
     "text": [
      "4080/12153\r4081/12153\r4082/12153\r"
     ]
    },
    {
     "name": "stdout",
     "output_type": "stream",
     "text": [
      "4083/12153\r4084/12153\r4085/12153\r4086/12153\r4087/12153"
     ]
    },
    {
     "name": "stdout",
     "output_type": "stream",
     "text": [
      "\r4088/12153\r4089/12153\r4090/12153\r4091/12153\r4092/12153\r4093/12153\r"
     ]
    },
    {
     "name": "stdout",
     "output_type": "stream",
     "text": [
      "4094/12153\r4095/12153\r4096/12153\r4097/12153\r4098/12153\r4099/12153\r4100/12153\r"
     ]
    },
    {
     "name": "stdout",
     "output_type": "stream",
     "text": [
      "4101/12153\r4102/12153\r4103/12153\r4104/12153\r4105/12153\r4106/12153\r4107/12153"
     ]
    },
    {
     "name": "stdout",
     "output_type": "stream",
     "text": [
      "\r4108/12153\r4109/12153\r4110/12153\r4111/12153\r4112/12153\r4113/12153\r4114/12153\r"
     ]
    },
    {
     "name": "stdout",
     "output_type": "stream",
     "text": [
      "4115/12153\r4116/12153\r4117/12153\r4118/12153\r4119/12153\r4120/12153\r"
     ]
    },
    {
     "name": "stdout",
     "output_type": "stream",
     "text": [
      "4121/12153\r4122/12153\r4123/12153\r4124/12153\r4125/12153\r4126/12153\r"
     ]
    },
    {
     "name": "stdout",
     "output_type": "stream",
     "text": [
      "4127/12153\r4128/12153\r4129/12153\r4130/12153\r4131/12153\r4132/12153\r"
     ]
    },
    {
     "name": "stdout",
     "output_type": "stream",
     "text": [
      "4133/12153\r4134/12153\r4135/12153\r4136/12153\r4137/12153\r4138/12153\r"
     ]
    },
    {
     "name": "stdout",
     "output_type": "stream",
     "text": [
      "4139/12153\r4140/12153\r4141/12153\r4142/12153\r4143/12153\r"
     ]
    },
    {
     "name": "stdout",
     "output_type": "stream",
     "text": [
      "4144/12153\r4145/12153\r4146/12153\r4147/12153\r4148/12153\r4149/12153\r"
     ]
    },
    {
     "name": "stdout",
     "output_type": "stream",
     "text": [
      "4150/12153\r4151/12153\r4152/12153\r4153/12153\r4154/12153\r4155/12153\r"
     ]
    },
    {
     "name": "stdout",
     "output_type": "stream",
     "text": [
      "4156/12153\r4157/12153\r4158/12153\r4159/12153\r4160/12153\r"
     ]
    },
    {
     "name": "stdout",
     "output_type": "stream",
     "text": [
      "4161/12153\r4162/12153\r4163/12153\r4164/12153\r4165/12153\r"
     ]
    },
    {
     "name": "stdout",
     "output_type": "stream",
     "text": [
      "4166/12153\r4167/12153\r4168/12153\r4169/12153\r4170/12153\r4171/12153\r"
     ]
    },
    {
     "name": "stdout",
     "output_type": "stream",
     "text": [
      "4172/12153\r4173/12153\r4174/12153\r4175/12153\r4176/12153\r"
     ]
    },
    {
     "name": "stdout",
     "output_type": "stream",
     "text": [
      "4177/12153\r4178/12153\r4179/12153\r4180/12153\r4181/12153\r4182/12153\r"
     ]
    },
    {
     "name": "stdout",
     "output_type": "stream",
     "text": [
      "4183/12153\r4184/12153\r4185/12153\r4186/12153\r4187/12153\r"
     ]
    },
    {
     "name": "stdout",
     "output_type": "stream",
     "text": [
      "4188/12153\r4189/12153\r4190/12153\r4191/12153\r4192/12153\r4193/12153\r"
     ]
    },
    {
     "name": "stdout",
     "output_type": "stream",
     "text": [
      "4194/12153\r4195/12153\r4196/12153\r4197/12153\r4198/12153\r4199/12153\r"
     ]
    },
    {
     "name": "stdout",
     "output_type": "stream",
     "text": [
      "4200/12153\r4201/12153\r4202/12153\r4203/12153\r4204/12153\r4205/12153\r"
     ]
    },
    {
     "name": "stdout",
     "output_type": "stream",
     "text": [
      "4206/12153\r4207/12153\r4208/12153\r4209/12153\r4210/12153\r4211/12153\r"
     ]
    },
    {
     "name": "stdout",
     "output_type": "stream",
     "text": [
      "4212/12153\r4213/12153\r4214/12153\r4215/12153\r4216/12153\r"
     ]
    },
    {
     "name": "stdout",
     "output_type": "stream",
     "text": [
      "4217/12153\r4218/12153\r4219/12153\r4220/12153\r4221/12153\r4222/12153\r"
     ]
    },
    {
     "name": "stdout",
     "output_type": "stream",
     "text": [
      "4223/12153\r4224/12153\r4225/12153\r4226/12153\r4227/12153\r4228/12153\r4229/12153\r"
     ]
    },
    {
     "name": "stdout",
     "output_type": "stream",
     "text": [
      "4230/12153\r4231/12153\r4232/12153\r4233/12153\r4234/12153\r4235/12153\r"
     ]
    },
    {
     "name": "stdout",
     "output_type": "stream",
     "text": [
      "4236/12153\r4237/12153\r4238/12153\r4239/12153\r4240/12153\r4241/12153\r"
     ]
    },
    {
     "name": "stdout",
     "output_type": "stream",
     "text": [
      "4242/12153\r4243/12153\r4244/12153\r4245/12153\r4246/12153\r4247/12153\r"
     ]
    },
    {
     "name": "stdout",
     "output_type": "stream",
     "text": [
      "4248/12153\r4249/12153\r4250/12153\r4251/12153\r4252/12153\r4253/12153\r"
     ]
    },
    {
     "name": "stdout",
     "output_type": "stream",
     "text": [
      "4254/12153\r4255/12153\r4256/12153\r4257/12153\r"
     ]
    },
    {
     "name": "stdout",
     "output_type": "stream",
     "text": [
      "4258/12153\r4259/12153\r4260/12153\r4261/12153\r"
     ]
    },
    {
     "name": "stdout",
     "output_type": "stream",
     "text": [
      "4262/12153\r4263/12153\r4264/12153\r4265/12153\r"
     ]
    },
    {
     "name": "stdout",
     "output_type": "stream",
     "text": [
      "4266/12153\r4267/12153\r"
     ]
    },
    {
     "name": "stdout",
     "output_type": "stream",
     "text": [
      "4268/12153\r"
     ]
    },
    {
     "name": "stdout",
     "output_type": "stream",
     "text": [
      "4269/12153\r"
     ]
    },
    {
     "name": "stdout",
     "output_type": "stream",
     "text": [
      "4270/12153\r4271/12153\r"
     ]
    },
    {
     "name": "stdout",
     "output_type": "stream",
     "text": [
      "4272/12153\r4273/12153\r4274/12153\r4275/12153\r4276/12153\r"
     ]
    },
    {
     "name": "stdout",
     "output_type": "stream",
     "text": [
      "4277/12153\r4278/12153\r4279/12153\r4280/12153\r4281/12153\r"
     ]
    },
    {
     "name": "stdout",
     "output_type": "stream",
     "text": [
      "4282/12153\r4283/12153\r4284/12153\r4285/12153\r4286/12153\r4287/12153\r"
     ]
    },
    {
     "name": "stdout",
     "output_type": "stream",
     "text": [
      "4288/12153\r4289/12153\r4290/12153\r4291/12153\r4292/12153\r4293/12153\r"
     ]
    },
    {
     "name": "stdout",
     "output_type": "stream",
     "text": [
      "4294/12153\r4295/12153\r4296/12153\r4297/12153\r4298/12153\r4299/12153\r"
     ]
    },
    {
     "name": "stdout",
     "output_type": "stream",
     "text": [
      "4300/12153\r4301/12153\r4302/12153\r4303/12153\r4304/12153\r4305/12153\r"
     ]
    },
    {
     "name": "stdout",
     "output_type": "stream",
     "text": [
      "4306/12153\r4307/12153\r4308/12153\r4309/12153\r4310/12153\r4311/12153\r"
     ]
    },
    {
     "name": "stdout",
     "output_type": "stream",
     "text": [
      "4312/12153\r4313/12153\r4314/12153\r4315/12153\r"
     ]
    },
    {
     "name": "stdout",
     "output_type": "stream",
     "text": [
      "4316/12153\r4317/12153\r4318/12153\r4319/12153\r4320/12153\r"
     ]
    },
    {
     "name": "stdout",
     "output_type": "stream",
     "text": [
      "4321/12153\r4322/12153\r4323/12153\r4324/12153\r4325/12153\r4326/12153\r"
     ]
    },
    {
     "name": "stdout",
     "output_type": "stream",
     "text": [
      "4327/12153\r4328/12153\r4329/12153\r4330/12153\r4331/12153\r4332/12153\r"
     ]
    },
    {
     "name": "stdout",
     "output_type": "stream",
     "text": [
      "4333/12153\r4334/12153\r4335/12153\r4336/12153\r4337/12153\r4338/12153\r"
     ]
    },
    {
     "name": "stdout",
     "output_type": "stream",
     "text": [
      "4339/12153\r4340/12153\r4341/12153\r4342/12153\r4343/12153\r4344/12153\r"
     ]
    },
    {
     "name": "stdout",
     "output_type": "stream",
     "text": [
      "4345/12153\r4346/12153\r4347/12153\r4348/12153\r4349/12153\r4350/12153\r"
     ]
    },
    {
     "name": "stdout",
     "output_type": "stream",
     "text": [
      "4351/12153\r4352/12153\r4353/12153\r4354/12153\r4355/12153\r4356/12153\r4357/12153"
     ]
    },
    {
     "name": "stdout",
     "output_type": "stream",
     "text": [
      "\r4358/12153\r4359/12153\r4360/12153\r4361/12153\r4362/12153\r4363/12153\r4364/12153"
     ]
    },
    {
     "name": "stdout",
     "output_type": "stream",
     "text": [
      "\r4365/12153\r4366/12153\r4367/12153\r4368/12153\r4369/12153\r4370/12153\r4371/12153\r"
     ]
    },
    {
     "name": "stdout",
     "output_type": "stream",
     "text": [
      "4372/12153\r4373/12153\r4374/12153\r4375/12153\r4376/12153\r4377/12153\r4378/12153\r"
     ]
    },
    {
     "name": "stdout",
     "output_type": "stream",
     "text": [
      "4379/12153\r4380/12153\r4381/12153\r4382/12153\r4383/12153\r4384/12153\r4385/12153\r"
     ]
    },
    {
     "name": "stdout",
     "output_type": "stream",
     "text": [
      "4386/12153\r4387/12153\r4388/12153\r4389/12153\r4390/12153\r4391/12153\r4392/12153\r"
     ]
    },
    {
     "name": "stdout",
     "output_type": "stream",
     "text": [
      "4393/12153\r4394/12153\r4395/12153\r4396/12153\r4397/12153\r4398/12153\r4399/12153\r"
     ]
    },
    {
     "name": "stdout",
     "output_type": "stream",
     "text": [
      "4400/12153\r4401/12153\r4402/12153\r4403/12153\r4404/12153\r4405/12153\r4406/12153\r"
     ]
    },
    {
     "name": "stdout",
     "output_type": "stream",
     "text": [
      "4407/12153\r4408/12153\r4409/12153\r4410/12153\r4411/12153\r4412/12153\r"
     ]
    },
    {
     "name": "stdout",
     "output_type": "stream",
     "text": [
      "4413/12153\r4414/12153\r4415/12153\r4416/12153\r4417/12153\r4418/12153\r4419/12153\r"
     ]
    },
    {
     "name": "stdout",
     "output_type": "stream",
     "text": [
      "4420/12153\r4421/12153\r4422/12153\r4423/12153\r4424/12153\r4425/12153\r4426/12153\r"
     ]
    },
    {
     "name": "stdout",
     "output_type": "stream",
     "text": [
      "4427/12153\r4428/12153\r4429/12153\r4430/12153\r4431/12153\r4432/12153\r4433/12153\r"
     ]
    },
    {
     "name": "stdout",
     "output_type": "stream",
     "text": [
      "4434/12153\r4435/12153\r4436/12153\r4437/12153\r4438/12153\r4439/12153\r4440/12153"
     ]
    },
    {
     "name": "stdout",
     "output_type": "stream",
     "text": [
      "\r4441/12153\r4442/12153\r4443/12153\r4444/12153\r4445/12153\r4446/12153\r"
     ]
    },
    {
     "name": "stdout",
     "output_type": "stream",
     "text": [
      "4447/12153\r4448/12153\r4449/12153\r4450/12153\r4451/12153\r4452/12153\r4453/12153\r"
     ]
    },
    {
     "name": "stdout",
     "output_type": "stream",
     "text": [
      "4454/12153\r4455/12153\r4456/12153\r4457/12153\r4458/12153\r4459/12153\r"
     ]
    },
    {
     "name": "stdout",
     "output_type": "stream",
     "text": [
      "4460/12153\r4461/12153\r4462/12153\r4463/12153\r4464/12153\r4465/12153\r4466/12153\r"
     ]
    },
    {
     "name": "stdout",
     "output_type": "stream",
     "text": [
      "4467/12153\r4468/12153\r4469/12153\r4470/12153\r4471/12153\r4472/12153\r4473/12153\r"
     ]
    },
    {
     "name": "stdout",
     "output_type": "stream",
     "text": [
      "4474/12153\r4475/12153\r4476/12153\r4477/12153\r4478/12153\r4479/12153\r4480/12153\r"
     ]
    },
    {
     "name": "stdout",
     "output_type": "stream",
     "text": [
      "4481/12153\r4482/12153\r4483/12153\r4484/12153\r4485/12153\r4486/12153\r"
     ]
    },
    {
     "name": "stdout",
     "output_type": "stream",
     "text": [
      "4487/12153\r4488/12153\r4489/12153\r4490/12153\r4491/12153\r4492/12153\r4493/12153\r"
     ]
    },
    {
     "name": "stdout",
     "output_type": "stream",
     "text": [
      "4494/12153\r4495/12153\r4496/12153\r4497/12153\r4498/12153\r4499/12153\r4500/12153\r"
     ]
    },
    {
     "name": "stdout",
     "output_type": "stream",
     "text": [
      "4501/12153\r4502/12153\r4503/12153\r4504/12153\r4505/12153\r4506/12153\r4507/12153\r"
     ]
    },
    {
     "name": "stdout",
     "output_type": "stream",
     "text": [
      "4508/12153\r4509/12153\r4510/12153\r4511/12153\r4512/12153\r4513/12153\r"
     ]
    },
    {
     "name": "stdout",
     "output_type": "stream",
     "text": [
      "4514/12153\r4515/12153\r4516/12153\r4517/12153\r4518/12153\r4519/12153\r4520/12153\r"
     ]
    },
    {
     "name": "stdout",
     "output_type": "stream",
     "text": [
      "4521/12153\r4522/12153\r4523/12153\r4524/12153\r4525/12153\r4526/12153\r4527/12153\r"
     ]
    },
    {
     "name": "stdout",
     "output_type": "stream",
     "text": [
      "4528/12153\r4529/12153\r4530/12153\r4531/12153\r4532/12153\r4533/12153\r4534/12153\r"
     ]
    },
    {
     "name": "stdout",
     "output_type": "stream",
     "text": [
      "4535/12153\r4536/12153\r4537/12153\r4538/12153\r4539/12153\r4540/12153\r"
     ]
    },
    {
     "name": "stdout",
     "output_type": "stream",
     "text": [
      "4541/12153\r4542/12153\r4543/12153\r4544/12153\r4545/12153\r4546/12153\r4547/12153\r"
     ]
    },
    {
     "name": "stdout",
     "output_type": "stream",
     "text": [
      "4548/12153\r4549/12153\r4550/12153\r4551/12153\r4552/12153\r4553/12153\r4554/12153"
     ]
    },
    {
     "name": "stdout",
     "output_type": "stream",
     "text": [
      "\r4555/12153\r4556/12153\r4557/12153\r4558/12153\r4559/12153\r4560/12153\r4561/12153\r"
     ]
    },
    {
     "name": "stdout",
     "output_type": "stream",
     "text": [
      "4562/12153\r4563/12153\r4564/12153\r4565/12153\r4566/12153\r4567/12153\r4568/12153\r"
     ]
    },
    {
     "name": "stdout",
     "output_type": "stream",
     "text": [
      "4569/12153\r4570/12153\r4571/12153\r4572/12153\r4573/12153\r4574/12153\r4575/12153\r"
     ]
    },
    {
     "name": "stdout",
     "output_type": "stream",
     "text": [
      "4576/12153\r4577/12153\r4578/12153\r4579/12153\r4580/12153\r4581/12153\r4582/12153\r"
     ]
    },
    {
     "name": "stdout",
     "output_type": "stream",
     "text": [
      "4583/12153\r4584/12153\r4585/12153\r4586/12153\r4587/12153\r4588/12153\r4589/12153\r"
     ]
    },
    {
     "name": "stdout",
     "output_type": "stream",
     "text": [
      "4590/12153\r4591/12153\r4592/12153\r4593/12153\r4594/12153\r4595/12153\r4596/12153\r"
     ]
    },
    {
     "name": "stdout",
     "output_type": "stream",
     "text": [
      "4597/12153\r4598/12153\r4599/12153\r4600/12153\r4601/12153\r4602/12153\r4603/12153\r"
     ]
    },
    {
     "name": "stdout",
     "output_type": "stream",
     "text": [
      "4604/12153\r4605/12153\r4606/12153\r4607/12153\r4608/12153\r4609/12153\r4610/12153\r"
     ]
    },
    {
     "name": "stdout",
     "output_type": "stream",
     "text": [
      "4611/12153\r4612/12153\r4613/12153\r4614/12153\r4615/12153\r4616/12153\r4617/12153\r"
     ]
    },
    {
     "name": "stdout",
     "output_type": "stream",
     "text": [
      "4618/12153\r4619/12153\r4620/12153\r4621/12153\r4622/12153\r4623/12153\r"
     ]
    },
    {
     "name": "stdout",
     "output_type": "stream",
     "text": [
      "4624/12153\r4625/12153\r4626/12153\r4627/12153\r4628/12153\r4629/12153\r"
     ]
    },
    {
     "name": "stdout",
     "output_type": "stream",
     "text": [
      "4630/12153\r4631/12153\r4632/12153\r4633/12153\r4634/12153\r4635/12153\r"
     ]
    },
    {
     "name": "stdout",
     "output_type": "stream",
     "text": [
      "4636/12153\r4637/12153\r4638/12153\r4639/12153\r4640/12153\r4641/12153\r"
     ]
    },
    {
     "name": "stdout",
     "output_type": "stream",
     "text": [
      "4642/12153\r4643/12153\r4644/12153\r4645/12153\r4646/12153\r4647/12153\r"
     ]
    },
    {
     "name": "stdout",
     "output_type": "stream",
     "text": [
      "4648/12153\r4649/12153\r4650/12153\r4651/12153\r4652/12153\r4653/12153\r"
     ]
    },
    {
     "name": "stdout",
     "output_type": "stream",
     "text": [
      "4654/12153\r4655/12153\r4656/12153\r4657/12153\r4658/12153\r4659/12153\r"
     ]
    },
    {
     "name": "stdout",
     "output_type": "stream",
     "text": [
      "4660/12153\r4661/12153\r4662/12153\r4663/12153\r4664/12153\r4665/12153\r"
     ]
    },
    {
     "name": "stdout",
     "output_type": "stream",
     "text": [
      "4666/12153\r4667/12153\r4668/12153\r4669/12153\r4670/12153\r4671/12153\r"
     ]
    },
    {
     "name": "stdout",
     "output_type": "stream",
     "text": [
      "4672/12153\r4673/12153\r4674/12153\r4675/12153\r4676/12153\r4677/12153\r4678/12153\r"
     ]
    },
    {
     "name": "stdout",
     "output_type": "stream",
     "text": [
      "4679/12153\r4680/12153\r4681/12153\r4682/12153\r4683/12153\r4684/12153\r4685/12153\r"
     ]
    },
    {
     "name": "stdout",
     "output_type": "stream",
     "text": [
      "4686/12153\r4687/12153\r4688/12153\r4689/12153\r4690/12153\r4691/12153\r"
     ]
    },
    {
     "name": "stdout",
     "output_type": "stream",
     "text": [
      "4692/12153\r4693/12153\r4694/12153\r4695/12153\r4696/12153\r4697/12153\r4698/12153\r"
     ]
    },
    {
     "name": "stdout",
     "output_type": "stream",
     "text": [
      "4699/12153\r4700/12153\r4701/12153\r4702/12153\r4703/12153\r4704/12153\r4705/12153\r"
     ]
    },
    {
     "name": "stdout",
     "output_type": "stream",
     "text": [
      "4706/12153\r4707/12153\r4708/12153\r4709/12153\r4710/12153\r4711/12153\r"
     ]
    },
    {
     "name": "stdout",
     "output_type": "stream",
     "text": [
      "4712/12153\r4713/12153\r4714/12153\r4715/12153\r4716/12153\r4717/12153\r4718/12153\r"
     ]
    },
    {
     "name": "stdout",
     "output_type": "stream",
     "text": [
      "4719/12153\r4720/12153\r4721/12153\r4722/12153\r4723/12153\r4724/12153\r4725/12153"
     ]
    },
    {
     "name": "stdout",
     "output_type": "stream",
     "text": [
      "\r4726/12153\r4727/12153\r4728/12153\r4729/12153\r4730/12153\r4731/12153\r4732/12153\r"
     ]
    },
    {
     "name": "stdout",
     "output_type": "stream",
     "text": [
      "4733/12153\r4734/12153\r4735/12153\r4736/12153\r4737/12153\r4738/12153\r4739/12153\r"
     ]
    },
    {
     "name": "stdout",
     "output_type": "stream",
     "text": [
      "4740/12153\r4741/12153\r4742/12153\r4743/12153\r4744/12153\r4745/12153\r"
     ]
    },
    {
     "name": "stdout",
     "output_type": "stream",
     "text": [
      "4746/12153\r4747/12153\r4748/12153\r4749/12153\r4750/12153\r4751/12153\r4752/12153\r"
     ]
    },
    {
     "name": "stdout",
     "output_type": "stream",
     "text": [
      "4753/12153\r4754/12153\r4755/12153\r4756/12153\r4757/12153\r4758/12153\r"
     ]
    },
    {
     "name": "stdout",
     "output_type": "stream",
     "text": [
      "4759/12153\r4760/12153\r4761/12153\r4762/12153\r4763/12153\r4764/12153\r"
     ]
    },
    {
     "name": "stdout",
     "output_type": "stream",
     "text": [
      "4765/12153\r4766/12153\r4767/12153\r4768/12153\r4769/12153\r4770/12153\r4771/12153\r"
     ]
    },
    {
     "name": "stdout",
     "output_type": "stream",
     "text": [
      "4772/12153\r4773/12153\r4774/12153\r4775/12153\r4776/12153\r4777/12153\r4778/12153\r"
     ]
    },
    {
     "name": "stdout",
     "output_type": "stream",
     "text": [
      "4779/12153\r4780/12153\r4781/12153\r4782/12153\r4783/12153\r4784/12153\r4785/12153\r"
     ]
    },
    {
     "name": "stdout",
     "output_type": "stream",
     "text": [
      "4786/12153\r4787/12153\r4788/12153\r4789/12153\r4790/12153\r4791/12153\r4792/12153\r"
     ]
    },
    {
     "name": "stdout",
     "output_type": "stream",
     "text": [
      "4793/12153\r4794/12153\r4795/12153\r4796/12153\r4797/12153\r4798/12153\r4799/12153"
     ]
    },
    {
     "name": "stdout",
     "output_type": "stream",
     "text": [
      "\r4800/12153\r4801/12153\r4802/12153\r4803/12153\r4804/12153\r4805/12153\r"
     ]
    },
    {
     "name": "stdout",
     "output_type": "stream",
     "text": [
      "4806/12153\r4807/12153\r4808/12153\r4809/12153\r4810/12153\r4811/12153\r4812/12153\r"
     ]
    },
    {
     "name": "stdout",
     "output_type": "stream",
     "text": [
      "4813/12153\r4814/12153\r4815/12153\r4816/12153\r4817/12153\r4818/12153\r4819/12153\r"
     ]
    },
    {
     "name": "stdout",
     "output_type": "stream",
     "text": [
      "4820/12153\r4821/12153\r4822/12153\r4823/12153\r4824/12153\r4825/12153\r4826/12153\r"
     ]
    },
    {
     "name": "stdout",
     "output_type": "stream",
     "text": [
      "4827/12153\r4828/12153\r4829/12153\r4830/12153\r4831/12153\r4832/12153\r4833/12153\r"
     ]
    },
    {
     "name": "stdout",
     "output_type": "stream",
     "text": [
      "4834/12153\r4835/12153\r4836/12153\r4837/12153\r4838/12153\r4839/12153\r4840/12153\r"
     ]
    },
    {
     "name": "stdout",
     "output_type": "stream",
     "text": [
      "4841/12153\r4842/12153\r4843/12153\r4844/12153\r4845/12153\r4846/12153\r"
     ]
    },
    {
     "name": "stdout",
     "output_type": "stream",
     "text": [
      "4847/12153\r4848/12153\r4849/12153\r4850/12153\r4851/12153\r4852/12153\r"
     ]
    },
    {
     "name": "stdout",
     "output_type": "stream",
     "text": [
      "4853/12153\r4854/12153\r4855/12153\r4856/12153\r4857/12153\r4858/12153\r4859/12153\r"
     ]
    },
    {
     "name": "stdout",
     "output_type": "stream",
     "text": [
      "4860/12153\r4861/12153\r4862/12153\r4863/12153\r4864/12153\r4865/12153\r4866/12153\r"
     ]
    },
    {
     "name": "stdout",
     "output_type": "stream",
     "text": [
      "4867/12153\r4868/12153\r4869/12153\r4870/12153\r4871/12153\r4872/12153\r4873/12153\r"
     ]
    },
    {
     "name": "stdout",
     "output_type": "stream",
     "text": [
      "4874/12153\r4875/12153\r4876/12153\r4877/12153\r4878/12153\r4879/12153\r"
     ]
    },
    {
     "name": "stdout",
     "output_type": "stream",
     "text": [
      "4880/12153\r4881/12153\r4882/12153\r4883/12153\r4884/12153\r4885/12153\r4886/12153"
     ]
    },
    {
     "name": "stdout",
     "output_type": "stream",
     "text": [
      "\r4887/12153\r4888/12153\r4889/12153\r4890/12153\r4891/12153\r4892/12153\r"
     ]
    },
    {
     "name": "stdout",
     "output_type": "stream",
     "text": [
      "4893/12153\r4894/12153\r4895/12153\r4896/12153\r4897/12153\r4898/12153\r4899/12153\r"
     ]
    },
    {
     "name": "stdout",
     "output_type": "stream",
     "text": [
      "4900/12153\r4901/12153\r4902/12153\r4903/12153\r4904/12153\r4905/12153\r"
     ]
    },
    {
     "name": "stdout",
     "output_type": "stream",
     "text": [
      "4906/12153\r4907/12153\r4908/12153\r4909/12153\r4910/12153\r"
     ]
    },
    {
     "name": "stdout",
     "output_type": "stream",
     "text": [
      "4911/12153\r4912/12153\r4913/12153\r4914/12153\r4915/12153\r4916/12153\r"
     ]
    },
    {
     "name": "stdout",
     "output_type": "stream",
     "text": [
      "4917/12153\r4918/12153\r4919/12153\r4920/12153\r4921/12153\r4922/12153\r"
     ]
    },
    {
     "name": "stdout",
     "output_type": "stream",
     "text": [
      "4923/12153\r4924/12153\r4925/12153\r4926/12153\r4927/12153\r4928/12153\r"
     ]
    },
    {
     "name": "stdout",
     "output_type": "stream",
     "text": [
      "4929/12153\r4930/12153\r4931/12153\r4932/12153\r4933/12153\r"
     ]
    },
    {
     "name": "stdout",
     "output_type": "stream",
     "text": [
      "4934/12153\r4935/12153\r"
     ]
    },
    {
     "name": "stdout",
     "output_type": "stream",
     "text": [
      "4936/12153\r4937/12153\r4938/12153"
     ]
    },
    {
     "name": "stdout",
     "output_type": "stream",
     "text": [
      "\r4939/12153\r4940/12153\r4941/12153\r4942/12153\r"
     ]
    },
    {
     "name": "stdout",
     "output_type": "stream",
     "text": [
      "4943/12153\r4944/12153\r4945/12153\r4946/12153\r4947/12153\r4948/12153\r"
     ]
    },
    {
     "name": "stdout",
     "output_type": "stream",
     "text": [
      "4949/12153\r4950/12153\r4951/12153\r4952/12153\r4953/12153\r4954/12153\r"
     ]
    },
    {
     "name": "stdout",
     "output_type": "stream",
     "text": [
      "4955/12153\r4956/12153\r4957/12153\r4958/12153\r4959/12153\r4960/12153\r4961/12153\r"
     ]
    },
    {
     "name": "stdout",
     "output_type": "stream",
     "text": [
      "4962/12153\r4963/12153\r4964/12153\r4965/12153\r"
     ]
    },
    {
     "name": "stdout",
     "output_type": "stream",
     "text": [
      "4966/12153\r4967/12153\r4968/12153\r4969/12153\r4970/12153\r4971/12153\r4972/12153\r"
     ]
    },
    {
     "name": "stdout",
     "output_type": "stream",
     "text": [
      "4973/12153\r4974/12153\r4975/12153\r4976/12153\r"
     ]
    },
    {
     "name": "stdout",
     "output_type": "stream",
     "text": [
      "4977/12153\r4978/12153\r4979/12153\r4980/12153\r4981/12153\r4982/12153\r4983/12153\r"
     ]
    },
    {
     "name": "stdout",
     "output_type": "stream",
     "text": [
      "4984/12153\r4985/12153\r4986/12153\r4987/12153\r4988/12153\r4989/12153\r4990/12153\r"
     ]
    },
    {
     "name": "stdout",
     "output_type": "stream",
     "text": [
      "4991/12153\r4992/12153\r4993/12153\r4994/12153\r4995/12153\r4996/12153\r4997/12153\r"
     ]
    },
    {
     "name": "stdout",
     "output_type": "stream",
     "text": [
      "4998/12153\r4999/12153\r5000/12153\r5001/12153\r5002/12153\r5003/12153\r5004/12153\r"
     ]
    },
    {
     "name": "stdout",
     "output_type": "stream",
     "text": [
      "5005/12153\r5006/12153\r5007/12153\r5008/12153\r5009/12153\r5010/12153\r5011/12153\r"
     ]
    },
    {
     "name": "stdout",
     "output_type": "stream",
     "text": [
      "5012/12153\r5013/12153\r5014/12153\r5015/12153\r5016/12153\r5017/12153\r5018/12153\r"
     ]
    },
    {
     "name": "stdout",
     "output_type": "stream",
     "text": [
      "5019/12153\r5020/12153\r5021/12153\r5022/12153\r"
     ]
    },
    {
     "name": "stdout",
     "output_type": "stream",
     "text": [
      "5023/12153\r5024/12153\r5025/12153\r5026/12153\r5027/12153\r5028/12153\r5029/12153"
     ]
    },
    {
     "name": "stdout",
     "output_type": "stream",
     "text": [
      "\r5030/12153\r5031/12153\r5032/12153\r5033/12153\r5034/12153\r5035/12153\r5036/12153\r"
     ]
    },
    {
     "name": "stdout",
     "output_type": "stream",
     "text": [
      "5037/12153\r5038/12153\r5039/12153\r5040/12153\r5041/12153\r"
     ]
    },
    {
     "name": "stdout",
     "output_type": "stream",
     "text": [
      "5042/12153\r5043/12153\r5044/12153\r5045/12153\r5046/12153\r"
     ]
    },
    {
     "name": "stdout",
     "output_type": "stream",
     "text": [
      "5047/12153\r5048/12153\r5049/12153\r5050/12153\r5051/12153\r5052/12153\r"
     ]
    },
    {
     "name": "stdout",
     "output_type": "stream",
     "text": [
      "5053/12153\r5054/12153\r5055/12153\r5056/12153\r5057/12153\r5058/12153\r"
     ]
    },
    {
     "name": "stdout",
     "output_type": "stream",
     "text": [
      "5059/12153\r5060/12153\r5061/12153\r5062/12153\r5063/12153\r5064/12153\r"
     ]
    },
    {
     "name": "stdout",
     "output_type": "stream",
     "text": [
      "5065/12153\r5066/12153\r5067/12153\r5068/12153\r5069/12153\r5070/12153\r"
     ]
    },
    {
     "name": "stdout",
     "output_type": "stream",
     "text": [
      "5071/12153\r5072/12153\r5073/12153\r5074/12153\r5075/12153\r5076/12153\r"
     ]
    },
    {
     "name": "stdout",
     "output_type": "stream",
     "text": [
      "5077/12153\r5078/12153\r5079/12153\r5080/12153\r5081/12153\r5082/12153\r"
     ]
    },
    {
     "name": "stdout",
     "output_type": "stream",
     "text": [
      "5083/12153\r5084/12153\r5085/12153\r5086/12153\r5087/12153\r5088/12153\r5089/12153\r"
     ]
    },
    {
     "name": "stdout",
     "output_type": "stream",
     "text": [
      "5090/12153\r5091/12153\r5092/12153\r5093/12153\r5094/12153\r5095/12153\r5096/12153\r"
     ]
    },
    {
     "name": "stdout",
     "output_type": "stream",
     "text": [
      "5097/12153\r5098/12153\r5099/12153\r5100/12153\r5101/12153\r5102/12153\r"
     ]
    },
    {
     "name": "stdout",
     "output_type": "stream",
     "text": [
      "5103/12153\r5104/12153\r5105/12153\r5106/12153\r5107/12153\r5108/12153\r5109/12153\r"
     ]
    },
    {
     "name": "stdout",
     "output_type": "stream",
     "text": [
      "5110/12153\r5111/12153\r5112/12153\r5113/12153\r5114/12153\r5115/12153\r"
     ]
    },
    {
     "name": "stdout",
     "output_type": "stream",
     "text": [
      "5116/12153\r5117/12153\r5118/12153\r5119/12153\r5120/12153\r5121/12153\r5122/12153\r"
     ]
    },
    {
     "name": "stdout",
     "output_type": "stream",
     "text": [
      "5123/12153\r5124/12153\r5125/12153\r5126/12153\r5127/12153\r5128/12153\r"
     ]
    },
    {
     "name": "stdout",
     "output_type": "stream",
     "text": [
      "5129/12153\r5130/12153\r5131/12153\r5132/12153\r5133/12153\r5134/12153\r"
     ]
    },
    {
     "name": "stdout",
     "output_type": "stream",
     "text": [
      "5135/12153\r5136/12153\r5137/12153\r5138/12153\r5139/12153\r5140/12153\r5141/12153"
     ]
    },
    {
     "name": "stdout",
     "output_type": "stream",
     "text": [
      "\r5142/12153\r5143/12153\r5144/12153\r5145/12153\r5146/12153\r5147/12153\r5148/12153\r"
     ]
    },
    {
     "name": "stdout",
     "output_type": "stream",
     "text": [
      "5149/12153\r5150/12153\r5151/12153\r5152/12153\r5153/12153\r5154/12153\r5155/12153\r"
     ]
    },
    {
     "name": "stdout",
     "output_type": "stream",
     "text": [
      "5156/12153\r5157/12153\r5158/12153\r5159/12153\r5160/12153\r5161/12153\r5162/12153\r"
     ]
    },
    {
     "name": "stdout",
     "output_type": "stream",
     "text": [
      "5163/12153\r5164/12153\r5165/12153\r5166/12153\r5167/12153\r5168/12153\r5169/12153"
     ]
    },
    {
     "name": "stdout",
     "output_type": "stream",
     "text": [
      "\r5170/12153\r5171/12153\r5172/12153\r5173/12153\r5174/12153\r5175/12153\r5176/12153\r"
     ]
    },
    {
     "name": "stdout",
     "output_type": "stream",
     "text": [
      "5177/12153\r5178/12153\r5179/12153\r5180/12153\r5181/12153\r5182/12153\r5183/12153\r"
     ]
    },
    {
     "name": "stdout",
     "output_type": "stream",
     "text": [
      "5184/12153\r5185/12153\r5186/12153\r5187/12153\r5188/12153\r5189/12153\r5190/12153\r"
     ]
    },
    {
     "name": "stdout",
     "output_type": "stream",
     "text": [
      "5191/12153\r5192/12153\r5193/12153\r5194/12153\r5195/12153\r5196/12153\r"
     ]
    },
    {
     "name": "stdout",
     "output_type": "stream",
     "text": [
      "5197/12153\r5198/12153\r5199/12153\r5200/12153\r5201/12153\r5202/12153\r"
     ]
    },
    {
     "name": "stdout",
     "output_type": "stream",
     "text": [
      "5203/12153\r5204/12153\r5205/12153\r5206/12153\r5207/12153\r5208/12153\r"
     ]
    },
    {
     "name": "stdout",
     "output_type": "stream",
     "text": [
      "5209/12153\r5210/12153\r5211/12153\r5212/12153\r5213/12153\r5214/12153\r"
     ]
    },
    {
     "name": "stdout",
     "output_type": "stream",
     "text": [
      "5215/12153\r5216/12153\r5217/12153\r5218/12153\r5219/12153\r"
     ]
    },
    {
     "name": "stdout",
     "output_type": "stream",
     "text": [
      "5220/12153\r5221/12153\r5222/12153\r5223/12153\r5224/12153\r"
     ]
    },
    {
     "name": "stdout",
     "output_type": "stream",
     "text": [
      "5225/12153\r5226/12153\r5227/12153\r5228/12153\r"
     ]
    },
    {
     "name": "stdout",
     "output_type": "stream",
     "text": [
      "5229/12153\r5230/12153\r5231/12153\r5232/12153\r5233/12153\r5234/12153\r"
     ]
    },
    {
     "name": "stdout",
     "output_type": "stream",
     "text": [
      "5235/12153\r5236/12153\r5237/12153\r5238/12153\r5239/12153\r5240/12153\r5241/12153\r"
     ]
    },
    {
     "name": "stdout",
     "output_type": "stream",
     "text": [
      "5242/12153\r5243/12153\r5244/12153\r5245/12153\r5246/12153\r5247/12153\r5248/12153\r"
     ]
    },
    {
     "name": "stdout",
     "output_type": "stream",
     "text": [
      "5249/12153\r5250/12153\r5251/12153\r5252/12153\r5253/12153\r5254/12153\r5255/12153\r"
     ]
    },
    {
     "name": "stdout",
     "output_type": "stream",
     "text": [
      "5256/12153\r5257/12153\r5258/12153\r5259/12153\r5260/12153\r5261/12153\r"
     ]
    },
    {
     "name": "stdout",
     "output_type": "stream",
     "text": [
      "5262/12153\r5263/12153\r5264/12153\r5265/12153\r5266/12153\r5267/12153\r"
     ]
    },
    {
     "name": "stdout",
     "output_type": "stream",
     "text": [
      "5268/12153\r5269/12153\r5270/12153\r5271/12153\r5272/12153\r5273/12153\r"
     ]
    },
    {
     "name": "stdout",
     "output_type": "stream",
     "text": [
      "5274/12153\r5275/12153\r5276/12153\r5277/12153\r5278/12153\r5279/12153\r"
     ]
    },
    {
     "name": "stdout",
     "output_type": "stream",
     "text": [
      "5280/12153\r5281/12153\r5282/12153\r5283/12153\r5284/12153\r"
     ]
    },
    {
     "name": "stdout",
     "output_type": "stream",
     "text": [
      "5285/12153\r5286/12153\r5287/12153\r5288/12153\r5289/12153\r5290/12153\r"
     ]
    },
    {
     "name": "stdout",
     "output_type": "stream",
     "text": [
      "5291/12153\r5292/12153\r5293/12153\r5294/12153\r5295/12153\r5296/12153\r"
     ]
    },
    {
     "name": "stdout",
     "output_type": "stream",
     "text": [
      "5297/12153\r5298/12153\r5299/12153\r5300/12153\r5301/12153\r5302/12153\r"
     ]
    },
    {
     "name": "stdout",
     "output_type": "stream",
     "text": [
      "5303/12153\r5304/12153\r5305/12153\r5306/12153\r5307/12153\r5308/12153\r5309/12153\r"
     ]
    },
    {
     "name": "stdout",
     "output_type": "stream",
     "text": [
      "5310/12153\r5311/12153\r5312/12153\r5313/12153\r5314/12153\r5315/12153\r5316/12153\r"
     ]
    },
    {
     "name": "stdout",
     "output_type": "stream",
     "text": [
      "5317/12153\r5318/12153\r5319/12153\r5320/12153\r5321/12153\r5322/12153\r5323/12153\r"
     ]
    },
    {
     "name": "stdout",
     "output_type": "stream",
     "text": [
      "5324/12153\r5325/12153\r5326/12153\r5327/12153\r5328/12153\r5329/12153\r"
     ]
    },
    {
     "name": "stdout",
     "output_type": "stream",
     "text": [
      "5330/12153\r5331/12153\r5332/12153\r5333/12153\r5334/12153\r5335/12153\r5336/12153\r"
     ]
    },
    {
     "name": "stdout",
     "output_type": "stream",
     "text": [
      "5337/12153\r5338/12153\r5339/12153\r5340/12153\r5341/12153\r5342/12153\r"
     ]
    },
    {
     "name": "stdout",
     "output_type": "stream",
     "text": [
      "5343/12153\r5344/12153\r5345/12153\r5346/12153\r5347/12153\r5348/12153\r5349/12153\r"
     ]
    },
    {
     "name": "stdout",
     "output_type": "stream",
     "text": [
      "5350/12153\r5351/12153\r5352/12153\r5353/12153\r5354/12153\r5355/12153\r5356/12153\r"
     ]
    },
    {
     "name": "stdout",
     "output_type": "stream",
     "text": [
      "5357/12153\r5358/12153\r5359/12153\r5360/12153\r5361/12153\r5362/12153\r"
     ]
    },
    {
     "name": "stdout",
     "output_type": "stream",
     "text": [
      "5363/12153\r5364/12153\r5365/12153\r5366/12153\r5367/12153\r5368/12153\r"
     ]
    },
    {
     "name": "stdout",
     "output_type": "stream",
     "text": [
      "5369/12153\r5370/12153\r5371/12153\r5372/12153\r5373/12153\r5374/12153\r"
     ]
    },
    {
     "name": "stdout",
     "output_type": "stream",
     "text": [
      "5375/12153\r5376/12153\r5377/12153\r5378/12153\r5379/12153\r5380/12153\r5381/12153"
     ]
    },
    {
     "name": "stdout",
     "output_type": "stream",
     "text": [
      "\r5382/12153\r5383/12153\r5384/12153\r5385/12153\r5386/12153\r5387/12153\r"
     ]
    },
    {
     "name": "stdout",
     "output_type": "stream",
     "text": [
      "5388/12153\r5389/12153\r"
     ]
    },
    {
     "name": "stdout",
     "output_type": "stream",
     "text": [
      "5390/12153\r5391/12153\r"
     ]
    },
    {
     "name": "stdout",
     "output_type": "stream",
     "text": [
      "5392/12153\r5393/12153\r5394/12153\r5395/12153\r5396/12153\r"
     ]
    },
    {
     "name": "stdout",
     "output_type": "stream",
     "text": [
      "5397/12153\r5398/12153\r5399/12153\r5400/12153\r5401/12153\r5402/12153\r5403/12153\r"
     ]
    },
    {
     "name": "stdout",
     "output_type": "stream",
     "text": [
      "5404/12153\r5405/12153\r5406/12153\r5407/12153\r5408/12153\r5409/12153\r5410/12153\r"
     ]
    },
    {
     "name": "stdout",
     "output_type": "stream",
     "text": [
      "5411/12153\r5412/12153\r5413/12153\r5414/12153\r5415/12153\r5416/12153\r5417/12153"
     ]
    },
    {
     "name": "stdout",
     "output_type": "stream",
     "text": [
      "\r5418/12153\r5419/12153\r5420/12153\r5421/12153\r5422/12153\r5423/12153\r5424/12153\r"
     ]
    },
    {
     "name": "stdout",
     "output_type": "stream",
     "text": [
      "5425/12153\r5426/12153\r5427/12153\r5428/12153\r5429/12153\r5430/12153\r"
     ]
    },
    {
     "name": "stdout",
     "output_type": "stream",
     "text": [
      "5431/12153\r5432/12153\r5433/12153\r5434/12153\r5435/12153\r5436/12153\r"
     ]
    },
    {
     "name": "stdout",
     "output_type": "stream",
     "text": [
      "5437/12153\r5438/12153\r5439/12153\r5440/12153\r5441/12153\r5442/12153\r"
     ]
    },
    {
     "name": "stdout",
     "output_type": "stream",
     "text": [
      "5443/12153\r5444/12153\r5445/12153\r5446/12153\r5447/12153\r5448/12153\r"
     ]
    },
    {
     "name": "stdout",
     "output_type": "stream",
     "text": [
      "5449/12153\r5450/12153\r5451/12153\r5452/12153\r5453/12153\r5454/12153\r5455/12153\r"
     ]
    },
    {
     "name": "stdout",
     "output_type": "stream",
     "text": [
      "5456/12153\r5457/12153\r5458/12153\r5459/12153\r5460/12153\r5461/12153\r5462/12153\r"
     ]
    },
    {
     "name": "stdout",
     "output_type": "stream",
     "text": [
      "5463/12153\r5464/12153\r5465/12153\r5466/12153\r5467/12153\r5468/12153\r5469/12153\r"
     ]
    },
    {
     "name": "stdout",
     "output_type": "stream",
     "text": [
      "5470/12153\r5471/12153\r5472/12153\r5473/12153\r5474/12153\r5475/12153\r5476/12153\r"
     ]
    },
    {
     "name": "stdout",
     "output_type": "stream",
     "text": [
      "5477/12153\r5478/12153\r5479/12153\r5480/12153\r5481/12153\r5482/12153\r5483/12153\r"
     ]
    },
    {
     "name": "stdout",
     "output_type": "stream",
     "text": [
      "5484/12153\r5485/12153\r5486/12153\r5487/12153\r5488/12153\r5489/12153\r"
     ]
    },
    {
     "name": "stdout",
     "output_type": "stream",
     "text": [
      "5490/12153\r5491/12153\r5492/12153\r5493/12153\r5494/12153\r5495/12153\r"
     ]
    },
    {
     "name": "stdout",
     "output_type": "stream",
     "text": [
      "5496/12153\r5497/12153\r5498/12153\r5499/12153\r5500/12153\r5501/12153\r"
     ]
    },
    {
     "name": "stdout",
     "output_type": "stream",
     "text": [
      "5502/12153\r5503/12153\r5504/12153\r5505/12153\r5506/12153\r5507/12153\r"
     ]
    },
    {
     "name": "stdout",
     "output_type": "stream",
     "text": [
      "5508/12153\r5509/12153\r5510/12153\r5511/12153\r5512/12153\r5513/12153\r"
     ]
    },
    {
     "name": "stdout",
     "output_type": "stream",
     "text": [
      "5514/12153\r5515/12153\r5516/12153\r5517/12153\r5518/12153\r5519/12153\r"
     ]
    },
    {
     "name": "stdout",
     "output_type": "stream",
     "text": [
      "5520/12153\r5521/12153\r5522/12153\r5523/12153\r5524/12153\r5525/12153\r"
     ]
    },
    {
     "name": "stdout",
     "output_type": "stream",
     "text": [
      "5526/12153\r5527/12153\r5528/12153\r5529/12153\r5530/12153\r5531/12153\r"
     ]
    },
    {
     "name": "stdout",
     "output_type": "stream",
     "text": [
      "5532/12153\r5533/12153\r5534/12153\r5535/12153\r5536/12153\r5537/12153"
     ]
    },
    {
     "name": "stdout",
     "output_type": "stream",
     "text": [
      "\r5538/12153\r5539/12153\r5540/12153\r5541/12153\r5542/12153\r5543/12153\r"
     ]
    },
    {
     "name": "stdout",
     "output_type": "stream",
     "text": [
      "5544/12153\r5545/12153\r5546/12153\r5547/12153\r5548/12153\r5549/12153\r"
     ]
    },
    {
     "name": "stdout",
     "output_type": "stream",
     "text": [
      "5550/12153\r5551/12153\r5552/12153\r5553/12153\r5554/12153\r5555/12153\r"
     ]
    },
    {
     "name": "stdout",
     "output_type": "stream",
     "text": [
      "5556/12153\r5557/12153\r5558/12153\r5559/12153\r5560/12153\r"
     ]
    },
    {
     "name": "stdout",
     "output_type": "stream",
     "text": [
      "5561/12153\r5562/12153\r5563/12153\r5564/12153\r5565/12153\r5566/12153\r"
     ]
    },
    {
     "name": "stdout",
     "output_type": "stream",
     "text": [
      "5567/12153\r5568/12153\r5569/12153\r5570/12153\r5571/12153\r"
     ]
    },
    {
     "name": "stdout",
     "output_type": "stream",
     "text": [
      "5572/12153\r5573/12153\r5574/12153\r5575/12153\r5576/12153\r"
     ]
    },
    {
     "name": "stdout",
     "output_type": "stream",
     "text": [
      "5577/12153\r5578/12153\r5579/12153\r"
     ]
    },
    {
     "name": "stdout",
     "output_type": "stream",
     "text": [
      "5580/12153\r5581/12153\r5582/12153\r5583/12153\r5584/12153\r5585/12153\r"
     ]
    },
    {
     "name": "stdout",
     "output_type": "stream",
     "text": [
      "5586/12153\r5587/12153\r5588/12153\r5589/12153\r5590/12153\r5591/12153\r"
     ]
    },
    {
     "name": "stdout",
     "output_type": "stream",
     "text": [
      "5592/12153\r5593/12153\r5594/12153\r5595/12153\r5596/12153\r5597/12153\r5598/12153\r"
     ]
    },
    {
     "name": "stdout",
     "output_type": "stream",
     "text": [
      "5599/12153\r5600/12153\r5601/12153\r5602/12153\r5603/12153\r5604/12153\r5605/12153"
     ]
    },
    {
     "name": "stdout",
     "output_type": "stream",
     "text": [
      "\r5606/12153\r5607/12153\r5608/12153\r5609/12153\r5610/12153\r5611/12153\r5612/12153\r"
     ]
    },
    {
     "name": "stdout",
     "output_type": "stream",
     "text": [
      "5613/12153\r5614/12153\r5615/12153\r5616/12153\r5617/12153\r5618/12153\r"
     ]
    },
    {
     "name": "stdout",
     "output_type": "stream",
     "text": [
      "5619/12153\r5620/12153\r5621/12153\r5622/12153\r5623/12153\r5624/12153\r5625/12153\r"
     ]
    },
    {
     "name": "stdout",
     "output_type": "stream",
     "text": [
      "5626/12153\r5627/12153\r5628/12153\r5629/12153\r5630/12153\r"
     ]
    },
    {
     "name": "stdout",
     "output_type": "stream",
     "text": [
      "5631/12153\r5632/12153\r"
     ]
    },
    {
     "name": "stdout",
     "output_type": "stream",
     "text": [
      "5633/12153\r5634/12153\r5635/12153\r5636/12153\r5637/12153\r5638/12153\r"
     ]
    },
    {
     "name": "stdout",
     "output_type": "stream",
     "text": [
      "5639/12153\r5640/12153\r5641/12153\r5642/12153\r5643/12153\r5644/12153\r"
     ]
    },
    {
     "name": "stdout",
     "output_type": "stream",
     "text": [
      "5645/12153\r5646/12153\r5647/12153\r5648/12153\r"
     ]
    },
    {
     "name": "stdout",
     "output_type": "stream",
     "text": [
      "5649/12153\r5650/12153\r5651/12153\r5652/12153\r"
     ]
    },
    {
     "name": "stdout",
     "output_type": "stream",
     "text": [
      "5653/12153\r5654/12153\r5655/12153\r5656/12153\r5657/12153\r"
     ]
    },
    {
     "name": "stdout",
     "output_type": "stream",
     "text": [
      "5658/12153\r5659/12153\r5660/12153\r5661/12153\r5662/12153\r5663/12153\r"
     ]
    },
    {
     "name": "stdout",
     "output_type": "stream",
     "text": [
      "5664/12153\r5665/12153\r5666/12153\r5667/12153\r5668/12153\r5669/12153\r5670/12153\r"
     ]
    },
    {
     "name": "stdout",
     "output_type": "stream",
     "text": [
      "5671/12153\r5672/12153\r5673/12153\r5674/12153\r5675/12153\r5676/12153\r5677/12153\r"
     ]
    },
    {
     "name": "stdout",
     "output_type": "stream",
     "text": [
      "5678/12153\r5679/12153\r5680/12153\r5681/12153\r5682/12153\r5683/12153\r"
     ]
    },
    {
     "name": "stdout",
     "output_type": "stream",
     "text": [
      "5684/12153\r5685/12153\r5686/12153\r5687/12153\r5688/12153\r5689/12153\r"
     ]
    },
    {
     "name": "stdout",
     "output_type": "stream",
     "text": [
      "5690/12153\r5691/12153\r5692/12153\r5693/12153\r5694/12153\r5695/12153\r5696/12153\r"
     ]
    },
    {
     "name": "stdout",
     "output_type": "stream",
     "text": [
      "5697/12153\r5698/12153\r5699/12153\r5700/12153\r5701/12153\r5702/12153\r5703/12153\r"
     ]
    },
    {
     "name": "stdout",
     "output_type": "stream",
     "text": [
      "5704/12153\r5705/12153\r5706/12153\r5707/12153\r5708/12153\r5709/12153\r"
     ]
    },
    {
     "name": "stdout",
     "output_type": "stream",
     "text": [
      "5710/12153\r5711/12153\r5712/12153\r5713/12153\r5714/12153\r5715/12153\r5716/12153\r"
     ]
    },
    {
     "name": "stdout",
     "output_type": "stream",
     "text": [
      "5717/12153\r5718/12153\r5719/12153\r5720/12153\r5721/12153\r5722/12153\r"
     ]
    },
    {
     "name": "stdout",
     "output_type": "stream",
     "text": [
      "5723/12153\r5724/12153\r5725/12153\r5726/12153\r5727/12153\r5728/12153\r"
     ]
    },
    {
     "name": "stdout",
     "output_type": "stream",
     "text": [
      "5729/12153\r5730/12153\r5731/12153\r5732/12153\r5733/12153\r"
     ]
    },
    {
     "name": "stdout",
     "output_type": "stream",
     "text": [
      "5734/12153\r5735/12153\r5736/12153\r5737/12153\r5738/12153\r5739/12153\r"
     ]
    },
    {
     "name": "stdout",
     "output_type": "stream",
     "text": [
      "5740/12153\r5741/12153\r5742/12153\r5743/12153\r5744/12153\r5745/12153\r"
     ]
    },
    {
     "name": "stdout",
     "output_type": "stream",
     "text": [
      "5746/12153\r5747/12153\r5748/12153\r5749/12153\r5750/12153\r5751/12153\r"
     ]
    },
    {
     "name": "stdout",
     "output_type": "stream",
     "text": [
      "5752/12153\r5753/12153\r5754/12153\r5755/12153\r5756/12153\r5757/12153\r"
     ]
    },
    {
     "name": "stdout",
     "output_type": "stream",
     "text": [
      "5758/12153\r5759/12153\r5760/12153\r5761/12153\r5762/12153\r5763/12153\r"
     ]
    },
    {
     "name": "stdout",
     "output_type": "stream",
     "text": [
      "5764/12153\r5765/12153\r5766/12153\r5767/12153\r5768/12153\r5769/12153\r"
     ]
    },
    {
     "name": "stdout",
     "output_type": "stream",
     "text": [
      "5770/12153\r5771/12153\r5772/12153\r5773/12153\r5774/12153\r5775/12153\r"
     ]
    },
    {
     "name": "stdout",
     "output_type": "stream",
     "text": [
      "5776/12153\r5777/12153\r5778/12153\r5779/12153\r5780/12153\r5781/12153\r"
     ]
    },
    {
     "name": "stdout",
     "output_type": "stream",
     "text": [
      "5782/12153\r5783/12153\r5784/12153\r5785/12153\r5786/12153\r5787/12153\r"
     ]
    },
    {
     "name": "stdout",
     "output_type": "stream",
     "text": [
      "5788/12153\r5789/12153\r5790/12153\r5791/12153\r5792/12153\r5793/12153\r"
     ]
    },
    {
     "name": "stdout",
     "output_type": "stream",
     "text": [
      "5794/12153\r5795/12153\r5796/12153\r5797/12153\r5798/12153\r"
     ]
    },
    {
     "name": "stdout",
     "output_type": "stream",
     "text": [
      "5799/12153\r5800/12153\r5801/12153\r5802/12153\r5803/12153\r5804/12153\r"
     ]
    },
    {
     "name": "stdout",
     "output_type": "stream",
     "text": [
      "5805/12153\r5806/12153\r5807/12153\r5808/12153\r"
     ]
    },
    {
     "name": "stdout",
     "output_type": "stream",
     "text": [
      "5809/12153\r5810/12153\r5811/12153\r"
     ]
    },
    {
     "name": "stdout",
     "output_type": "stream",
     "text": [
      "5812/12153\r5813/12153\r5814/12153\r5815/12153\r"
     ]
    },
    {
     "name": "stdout",
     "output_type": "stream",
     "text": [
      "5816/12153\r5817/12153\r5818/12153\r5819/12153\r5820/12153\r"
     ]
    },
    {
     "name": "stdout",
     "output_type": "stream",
     "text": [
      "5821/12153\r5822/12153\r5823/12153\r5824/12153\r5825/12153\r5826/12153\r"
     ]
    },
    {
     "name": "stdout",
     "output_type": "stream",
     "text": [
      "5827/12153\r5828/12153\r5829/12153\r5830/12153\r5831/12153\r5832/12153\r5833/12153\r"
     ]
    },
    {
     "name": "stdout",
     "output_type": "stream",
     "text": [
      "5834/12153\r5835/12153\r5836/12153\r5837/12153\r5838/12153\r5839/12153\r5840/12153\r"
     ]
    },
    {
     "name": "stdout",
     "output_type": "stream",
     "text": [
      "5841/12153\r5842/12153\r5843/12153\r5844/12153\r5845/12153\r5846/12153\r5847/12153"
     ]
    },
    {
     "name": "stdout",
     "output_type": "stream",
     "text": [
      "\r5848/12153\r5849/12153\r5850/12153\r5851/12153\r5852/12153\r5853/12153\r5854/12153\r"
     ]
    },
    {
     "name": "stdout",
     "output_type": "stream",
     "text": [
      "5855/12153\r5856/12153\r5857/12153\r5858/12153\r5859/12153\r5860/12153\r5861/12153\r"
     ]
    },
    {
     "name": "stdout",
     "output_type": "stream",
     "text": [
      "5862/12153\r5863/12153\r5864/12153\r5865/12153\r5866/12153\r5867/12153\r5868/12153\r"
     ]
    },
    {
     "name": "stdout",
     "output_type": "stream",
     "text": [
      "5869/12153\r5870/12153\r5871/12153\r5872/12153\r5873/12153\r5874/12153\r5875/12153\r"
     ]
    },
    {
     "name": "stdout",
     "output_type": "stream",
     "text": [
      "5876/12153\r5877/12153\r5878/12153\r5879/12153\r5880/12153\r5881/12153\r5882/12153"
     ]
    },
    {
     "name": "stdout",
     "output_type": "stream",
     "text": [
      "\r5883/12153\r5884/12153\r5885/12153\r5886/12153\r5887/12153\r5888/12153\r5889/12153\r"
     ]
    },
    {
     "name": "stdout",
     "output_type": "stream",
     "text": [
      "5890/12153\r5891/12153\r5892/12153\r5893/12153\r5894/12153\r5895/12153\r5896/12153\r"
     ]
    },
    {
     "name": "stdout",
     "output_type": "stream",
     "text": [
      "5897/12153\r5898/12153\r5899/12153\r5900/12153\r5901/12153\r5902/12153\r"
     ]
    },
    {
     "name": "stdout",
     "output_type": "stream",
     "text": [
      "5903/12153\r5904/12153\r5905/12153\r5906/12153\r5907/12153\r5908/12153\r5909/12153\r"
     ]
    },
    {
     "name": "stdout",
     "output_type": "stream",
     "text": [
      "5910/12153\r5911/12153\r5912/12153\r5913/12153\r5914/12153\r5915/12153\r5916/12153\r"
     ]
    },
    {
     "name": "stdout",
     "output_type": "stream",
     "text": [
      "5917/12153\r5918/12153\r5919/12153\r5920/12153\r5921/12153\r5922/12153\r5923/12153\r"
     ]
    },
    {
     "name": "stdout",
     "output_type": "stream",
     "text": [
      "5924/12153\r5925/12153\r5926/12153\r5927/12153\r5928/12153\r5929/12153\r"
     ]
    },
    {
     "name": "stdout",
     "output_type": "stream",
     "text": [
      "5930/12153\r5931/12153\r5932/12153\r5933/12153\r5934/12153\r5935/12153\r"
     ]
    },
    {
     "name": "stdout",
     "output_type": "stream",
     "text": [
      "5936/12153\r5937/12153\r5938/12153\r5939/12153\r5940/12153\r5941/12153\r5942/12153\r"
     ]
    },
    {
     "name": "stdout",
     "output_type": "stream",
     "text": [
      "5943/12153\r5944/12153\r5945/12153\r5946/12153\r5947/12153\r5948/12153\r"
     ]
    },
    {
     "name": "stdout",
     "output_type": "stream",
     "text": [
      "5949/12153\r5950/12153\r5951/12153\r5952/12153\r5953/12153\r5954/12153\r5955/12153"
     ]
    },
    {
     "name": "stdout",
     "output_type": "stream",
     "text": [
      "\r5956/12153\r5957/12153\r5958/12153\r5959/12153\r5960/12153\r5961/12153\r5962/12153\r"
     ]
    },
    {
     "name": "stdout",
     "output_type": "stream",
     "text": [
      "5963/12153\r5964/12153\r5965/12153\r5966/12153\r5967/12153\r5968/12153\r"
     ]
    },
    {
     "name": "stdout",
     "output_type": "stream",
     "text": [
      "5969/12153\r5970/12153\r5971/12153\r5972/12153\r5973/12153\r5974/12153\r"
     ]
    },
    {
     "name": "stdout",
     "output_type": "stream",
     "text": [
      "5975/12153\r5976/12153\r5977/12153\r5978/12153\r5979/12153\r5980/12153\r5981/12153\r"
     ]
    },
    {
     "name": "stdout",
     "output_type": "stream",
     "text": [
      "5982/12153\r5983/12153\r5984/12153\r5985/12153\r5986/12153\r5987/12153\r5988/12153\r"
     ]
    },
    {
     "name": "stdout",
     "output_type": "stream",
     "text": [
      "5989/12153\r5990/12153\r5991/12153\r5992/12153\r5993/12153\r5994/12153\r5995/12153\r"
     ]
    },
    {
     "name": "stdout",
     "output_type": "stream",
     "text": [
      "5996/12153\r5997/12153\r5998/12153\r5999/12153\r6000/12153\r6001/12153\r6002/12153\r"
     ]
    },
    {
     "name": "stdout",
     "output_type": "stream",
     "text": [
      "6003/12153\r6004/12153\r6005/12153\r6006/12153\r6007/12153\r6008/12153\r6009/12153\r"
     ]
    },
    {
     "name": "stdout",
     "output_type": "stream",
     "text": [
      "6010/12153\r6011/12153\r6012/12153\r6013/12153\r6014/12153\r6015/12153\r"
     ]
    },
    {
     "name": "stdout",
     "output_type": "stream",
     "text": [
      "6016/12153\r6017/12153\r6018/12153\r6019/12153\r6020/12153\r6021/12153\r"
     ]
    },
    {
     "name": "stdout",
     "output_type": "stream",
     "text": [
      "6022/12153\r6023/12153\r6024/12153\r6025/12153\r6026/12153\r6027/12153\r"
     ]
    },
    {
     "name": "stdout",
     "output_type": "stream",
     "text": [
      "6028/12153\r6029/12153\r6030/12153\r6031/12153\r6032/12153\r6033/12153\r"
     ]
    },
    {
     "name": "stdout",
     "output_type": "stream",
     "text": [
      "6034/12153\r6035/12153\r6036/12153\r6037/12153\r6038/12153\r6039/12153\r"
     ]
    },
    {
     "name": "stdout",
     "output_type": "stream",
     "text": [
      "6040/12153\r6041/12153\r6042/12153\r6043/12153\r6044/12153\r6045/12153\r"
     ]
    },
    {
     "name": "stdout",
     "output_type": "stream",
     "text": [
      "6046/12153\r6047/12153\r6048/12153\r6049/12153\r6050/12153\r6051/12153\r"
     ]
    },
    {
     "name": "stdout",
     "output_type": "stream",
     "text": [
      "6052/12153\r6053/12153\r6054/12153\r6055/12153\r6056/12153\r6057/12153\r"
     ]
    },
    {
     "name": "stdout",
     "output_type": "stream",
     "text": [
      "6058/12153\r6059/12153\r6060/12153\r6061/12153\r6062/12153\r6063/12153\r"
     ]
    },
    {
     "name": "stdout",
     "output_type": "stream",
     "text": [
      "6064/12153\r6065/12153\r6066/12153\r6067/12153\r6068/12153\r6069/12153\r"
     ]
    },
    {
     "name": "stdout",
     "output_type": "stream",
     "text": [
      "6070/12153\r6071/12153\r6072/12153\r6073/12153\r6074/12153\r6075/12153\r"
     ]
    },
    {
     "name": "stdout",
     "output_type": "stream",
     "text": [
      "6076/12153\r6077/12153\r6078/12153\r6079/12153\r6080/12153\r6081/12153\r"
     ]
    },
    {
     "name": "stdout",
     "output_type": "stream",
     "text": [
      "6082/12153\r6083/12153\r6084/12153\r6085/12153\r6086/12153\r6087/12153\r6088/12153\r"
     ]
    },
    {
     "name": "stdout",
     "output_type": "stream",
     "text": [
      "6089/12153\r6090/12153\r6091/12153\r6092/12153\r6093/12153\r6094/12153\r6095/12153\r"
     ]
    },
    {
     "name": "stdout",
     "output_type": "stream",
     "text": [
      "6096/12153\r6097/12153\r6098/12153\r6099/12153\r6100/12153\r6101/12153\r6102/12153\r"
     ]
    },
    {
     "name": "stdout",
     "output_type": "stream",
     "text": [
      "6103/12153\r6104/12153\r6105/12153\r6106/12153\r6107/12153\r6108/12153\r6109/12153\r"
     ]
    },
    {
     "name": "stdout",
     "output_type": "stream",
     "text": [
      "6110/12153\r6111/12153\r6112/12153\r6113/12153\r6114/12153\r6115/12153\r6116/12153\r"
     ]
    },
    {
     "name": "stdout",
     "output_type": "stream",
     "text": [
      "6117/12153\r6118/12153\r6119/12153\r6120/12153\r6121/12153\r6122/12153\r6123/12153\r"
     ]
    },
    {
     "name": "stdout",
     "output_type": "stream",
     "text": [
      "6124/12153\r6125/12153\r6126/12153\r6127/12153\r6128/12153\r6129/12153\r6130/12153\r"
     ]
    },
    {
     "name": "stdout",
     "output_type": "stream",
     "text": [
      "6131/12153\r6132/12153\r6133/12153\r6134/12153\r6135/12153\r6136/12153\r6137/12153\r"
     ]
    },
    {
     "name": "stdout",
     "output_type": "stream",
     "text": [
      "6138/12153\r6139/12153\r6140/12153\r6141/12153\r6142/12153\r6143/12153\r6144/12153"
     ]
    },
    {
     "name": "stdout",
     "output_type": "stream",
     "text": [
      "\r6145/12153\r6146/12153\r6147/12153\r6148/12153\r6149/12153\r6150/12153\r6151/12153\r"
     ]
    },
    {
     "name": "stdout",
     "output_type": "stream",
     "text": [
      "6152/12153\r6153/12153\r6154/12153\r6155/12153\r6156/12153\r6157/12153\r"
     ]
    },
    {
     "name": "stdout",
     "output_type": "stream",
     "text": [
      "6158/12153\r6159/12153\r6160/12153\r6161/12153\r6162/12153\r6163/12153\r6164/12153\r"
     ]
    },
    {
     "name": "stdout",
     "output_type": "stream",
     "text": [
      "6165/12153\r6166/12153\r6167/12153\r6168/12153\r6169/12153\r6170/12153\r6171/12153"
     ]
    },
    {
     "name": "stdout",
     "output_type": "stream",
     "text": [
      "\r6172/12153\r6173/12153\r6174/12153\r6175/12153\r6176/12153\r6177/12153\r6178/12153\r"
     ]
    },
    {
     "name": "stdout",
     "output_type": "stream",
     "text": [
      "6179/12153\r6180/12153\r6181/12153\r6182/12153\r6183/12153\r6184/12153\r6185/12153\r"
     ]
    },
    {
     "name": "stdout",
     "output_type": "stream",
     "text": [
      "6186/12153\r6187/12153\r6188/12153\r6189/12153\r6190/12153\r6191/12153\r6192/12153\r"
     ]
    },
    {
     "name": "stdout",
     "output_type": "stream",
     "text": [
      "6193/12153\r6194/12153\r6195/12153\r6196/12153\r6197/12153\r6198/12153\r6199/12153\r"
     ]
    },
    {
     "name": "stdout",
     "output_type": "stream",
     "text": [
      "6200/12153\r6201/12153\r6202/12153\r6203/12153\r6204/12153\r6205/12153\r"
     ]
    },
    {
     "name": "stdout",
     "output_type": "stream",
     "text": [
      "6206/12153\r6207/12153\r6208/12153\r6209/12153\r6210/12153\r6211/12153\r"
     ]
    },
    {
     "name": "stdout",
     "output_type": "stream",
     "text": [
      "6212/12153\r6213/12153\r6214/12153\r6215/12153\r6216/12153\r6217/12153\r6218/12153\r"
     ]
    },
    {
     "name": "stdout",
     "output_type": "stream",
     "text": [
      "6219/12153\r6220/12153\r6221/12153\r6222/12153\r6223/12153\r6224/12153\r"
     ]
    },
    {
     "name": "stdout",
     "output_type": "stream",
     "text": [
      "6225/12153\r6226/12153\r6227/12153\r6228/12153\r6229/12153\r6230/12153\r6231/12153\r"
     ]
    },
    {
     "name": "stdout",
     "output_type": "stream",
     "text": [
      "6232/12153\r6233/12153\r6234/12153\r6235/12153\r6236/12153\r6237/12153\r6238/12153\r"
     ]
    },
    {
     "name": "stdout",
     "output_type": "stream",
     "text": [
      "6239/12153\r6240/12153\r6241/12153\r6242/12153\r6243/12153\r6244/12153\r6245/12153\r"
     ]
    },
    {
     "name": "stdout",
     "output_type": "stream",
     "text": [
      "6246/12153\r6247/12153\r6248/12153\r6249/12153\r6250/12153\r6251/12153\r"
     ]
    },
    {
     "name": "stdout",
     "output_type": "stream",
     "text": [
      "6252/12153\r6253/12153\r6254/12153\r6255/12153\r6256/12153\r6257/12153\r6258/12153\r"
     ]
    },
    {
     "name": "stdout",
     "output_type": "stream",
     "text": [
      "6259/12153\r6260/12153\r6261/12153\r6262/12153\r6263/12153\r6264/12153\r6265/12153\r"
     ]
    },
    {
     "name": "stdout",
     "output_type": "stream",
     "text": [
      "6266/12153\r6267/12153\r6268/12153\r6269/12153\r6270/12153\r6271/12153\r6272/12153\r"
     ]
    },
    {
     "name": "stdout",
     "output_type": "stream",
     "text": [
      "6273/12153\r6274/12153\r6275/12153\r6276/12153\r6277/12153\r6278/12153\r6279/12153\r"
     ]
    },
    {
     "name": "stdout",
     "output_type": "stream",
     "text": [
      "6280/12153\r6281/12153\r6282/12153\r6283/12153\r6284/12153\r6285/12153\r"
     ]
    },
    {
     "name": "stdout",
     "output_type": "stream",
     "text": [
      "6286/12153\r6287/12153\r6288/12153\r6289/12153\r6290/12153\r6291/12153\r6292/12153\r"
     ]
    },
    {
     "name": "stdout",
     "output_type": "stream",
     "text": [
      "6293/12153\r6294/12153\r6295/12153\r6296/12153\r6297/12153\r6298/12153\r6299/12153\r"
     ]
    },
    {
     "name": "stdout",
     "output_type": "stream",
     "text": [
      "6300/12153\r6301/12153\r6302/12153\r6303/12153\r6304/12153\r6305/12153\r6306/12153\r"
     ]
    },
    {
     "name": "stdout",
     "output_type": "stream",
     "text": [
      "6307/12153\r6308/12153\r6309/12153\r6310/12153\r6311/12153\r6312/12153\r6313/12153\r"
     ]
    },
    {
     "name": "stdout",
     "output_type": "stream",
     "text": [
      "6314/12153\r6315/12153\r6316/12153\r6317/12153\r6318/12153\r6319/12153\r6320/12153\r"
     ]
    },
    {
     "name": "stdout",
     "output_type": "stream",
     "text": [
      "6321/12153\r6322/12153\r6323/12153\r6324/12153\r6325/12153\r6326/12153\r6327/12153\r"
     ]
    },
    {
     "name": "stdout",
     "output_type": "stream",
     "text": [
      "6328/12153\r6329/12153\r6330/12153\r6331/12153\r6332/12153\r6333/12153\r6334/12153\r"
     ]
    },
    {
     "name": "stdout",
     "output_type": "stream",
     "text": [
      "6335/12153\r6336/12153\r6337/12153\r6338/12153\r6339/12153\r6340/12153\r"
     ]
    },
    {
     "name": "stdout",
     "output_type": "stream",
     "text": [
      "6341/12153\r6342/12153\r6343/12153\r6344/12153\r6345/12153\r6346/12153\r6347/12153\r"
     ]
    },
    {
     "name": "stdout",
     "output_type": "stream",
     "text": [
      "6348/12153\r6349/12153\r6350/12153\r6351/12153\r6352/12153\r6353/12153\r6354/12153\r"
     ]
    },
    {
     "name": "stdout",
     "output_type": "stream",
     "text": [
      "6355/12153\r6356/12153\r6357/12153\r6358/12153\r6359/12153\r"
     ]
    },
    {
     "name": "stdout",
     "output_type": "stream",
     "text": [
      "6360/12153\r6361/12153\r6362/12153\r6363/12153\r6364/12153\r6365/12153\r"
     ]
    },
    {
     "name": "stdout",
     "output_type": "stream",
     "text": [
      "6366/12153\r6367/12153\r6368/12153\r6369/12153\r"
     ]
    },
    {
     "name": "stdout",
     "output_type": "stream",
     "text": [
      "6370/12153\r6371/12153\r6372/12153\r6373/12153\r"
     ]
    },
    {
     "name": "stdout",
     "output_type": "stream",
     "text": [
      "6374/12153\r6375/12153\r6376/12153\r"
     ]
    },
    {
     "name": "stdout",
     "output_type": "stream",
     "text": [
      "6377/12153\r6378/12153\r6379/12153\r6380/12153\r6381/12153\r"
     ]
    },
    {
     "name": "stdout",
     "output_type": "stream",
     "text": [
      "6382/12153\r6383/12153\r6384/12153\r6385/12153\r6386/12153\r6387/12153\r"
     ]
    },
    {
     "name": "stdout",
     "output_type": "stream",
     "text": [
      "6388/12153\r6389/12153\r6390/12153\r6391/12153\r6392/12153\r6393/12153\r6394/12153\r"
     ]
    },
    {
     "name": "stdout",
     "output_type": "stream",
     "text": [
      "6395/12153\r6396/12153\r6397/12153\r6398/12153\r6399/12153\r6400/12153\r6401/12153\r"
     ]
    },
    {
     "name": "stdout",
     "output_type": "stream",
     "text": [
      "6402/12153\r6403/12153\r6404/12153\r6405/12153\r6406/12153\r6407/12153\r"
     ]
    },
    {
     "name": "stdout",
     "output_type": "stream",
     "text": [
      "6408/12153\r6409/12153\r6410/12153\r6411/12153\r6412/12153\r6413/12153\r"
     ]
    },
    {
     "name": "stdout",
     "output_type": "stream",
     "text": [
      "6414/12153\r6415/12153\r6416/12153\r6417/12153\r6418/12153\r6419/12153\r"
     ]
    },
    {
     "name": "stdout",
     "output_type": "stream",
     "text": [
      "6420/12153\r6421/12153\r6422/12153\r6423/12153\r6424/12153\r6425/12153\r"
     ]
    },
    {
     "name": "stdout",
     "output_type": "stream",
     "text": [
      "6426/12153\r6427/12153\r6428/12153\r6429/12153\r6430/12153\r6431/12153\r"
     ]
    },
    {
     "name": "stdout",
     "output_type": "stream",
     "text": [
      "6432/12153\r6433/12153\r6434/12153\r6435/12153\r6436/12153\r6437/12153\r"
     ]
    },
    {
     "name": "stdout",
     "output_type": "stream",
     "text": [
      "6438/12153\r6439/12153\r6440/12153\r6441/12153\r6442/12153\r6443/12153\r"
     ]
    },
    {
     "name": "stdout",
     "output_type": "stream",
     "text": [
      "6444/12153\r6445/12153\r6446/12153\r6447/12153\r6448/12153\r6449/12153\r"
     ]
    },
    {
     "name": "stdout",
     "output_type": "stream",
     "text": [
      "6450/12153\r6451/12153\r6452/12153\r6453/12153\r6454/12153\r6455/12153\r6456/12153"
     ]
    },
    {
     "name": "stdout",
     "output_type": "stream",
     "text": [
      "\r6457/12153\r6458/12153\r6459/12153\r6460/12153\r6461/12153\r6462/12153\r"
     ]
    },
    {
     "name": "stdout",
     "output_type": "stream",
     "text": [
      "6463/12153\r6464/12153\r6465/12153\r6466/12153\r6467/12153\r6468/12153\r"
     ]
    },
    {
     "name": "stdout",
     "output_type": "stream",
     "text": [
      "6469/12153\r6470/12153\r6471/12153\r6472/12153\r6473/12153\r6474/12153\r"
     ]
    },
    {
     "name": "stdout",
     "output_type": "stream",
     "text": [
      "6475/12153\r6476/12153\r6477/12153\r6478/12153\r6479/12153\r6480/12153\r6481/12153\r"
     ]
    },
    {
     "name": "stdout",
     "output_type": "stream",
     "text": [
      "6482/12153\r6483/12153\r6484/12153\r6485/12153\r6486/12153\r6487/12153\r6488/12153\r"
     ]
    },
    {
     "name": "stdout",
     "output_type": "stream",
     "text": [
      "6489/12153\r6490/12153\r6491/12153\r6492/12153\r6493/12153\r6494/12153\r6495/12153\r"
     ]
    },
    {
     "name": "stdout",
     "output_type": "stream",
     "text": [
      "6496/12153\r6497/12153\r6498/12153\r6499/12153\r6500/12153\r6501/12153\r"
     ]
    },
    {
     "name": "stdout",
     "output_type": "stream",
     "text": [
      "6502/12153\r6503/12153\r"
     ]
    },
    {
     "name": "stdout",
     "output_type": "stream",
     "text": [
      "6504/12153\r6505/12153\r6506/12153\r6507/12153\r6508/12153\r"
     ]
    },
    {
     "name": "stdout",
     "output_type": "stream",
     "text": [
      "6509/12153\r6510/12153\r6511/12153\r6512/12153\r6513/12153\r6514/12153\r"
     ]
    },
    {
     "name": "stdout",
     "output_type": "stream",
     "text": [
      "6515/12153\r6516/12153\r6517/12153\r6518/12153\r6519/12153\r6520/12153\r"
     ]
    },
    {
     "name": "stdout",
     "output_type": "stream",
     "text": [
      "6521/12153\r6522/12153\r6523/12153\r6524/12153\r6525/12153\r6526/12153\r"
     ]
    },
    {
     "name": "stdout",
     "output_type": "stream",
     "text": [
      "6527/12153\r6528/12153\r6529/12153\r6530/12153\r6531/12153\r"
     ]
    },
    {
     "name": "stdout",
     "output_type": "stream",
     "text": [
      "6532/12153\r6533/12153\r6534/12153\r6535/12153\r6536/12153\r6537/12153\r"
     ]
    },
    {
     "name": "stdout",
     "output_type": "stream",
     "text": [
      "6538/12153\r6539/12153\r6540/12153\r6541/12153\r6542/12153\r6543/12153\r6544/12153\r"
     ]
    },
    {
     "name": "stdout",
     "output_type": "stream",
     "text": [
      "6545/12153\r6546/12153\r6547/12153\r6548/12153\r6549/12153\r6550/12153\r6551/12153\r"
     ]
    },
    {
     "name": "stdout",
     "output_type": "stream",
     "text": [
      "6552/12153\r6553/12153\r6554/12153\r6555/12153\r6556/12153\r"
     ]
    },
    {
     "name": "stdout",
     "output_type": "stream",
     "text": [
      "6557/12153\r6558/12153\r6559/12153\r6560/12153\r6561/12153\r6562/12153\r6563/12153\r"
     ]
    },
    {
     "name": "stdout",
     "output_type": "stream",
     "text": [
      "6564/12153\r6565/12153\r6566/12153\r6567/12153\r6568/12153\r6569/12153\r"
     ]
    },
    {
     "name": "stdout",
     "output_type": "stream",
     "text": [
      "6570/12153\r6571/12153\r6572/12153\r6573/12153\r6574/12153\r6575/12153\r"
     ]
    },
    {
     "name": "stdout",
     "output_type": "stream",
     "text": [
      "6576/12153\r6577/12153\r6578/12153\r6579/12153\r6580/12153\r6581/12153\r6582/12153\r"
     ]
    },
    {
     "name": "stdout",
     "output_type": "stream",
     "text": [
      "6583/12153\r6584/12153\r6585/12153\r6586/12153\r6587/12153\r6588/12153\r6589/12153\r"
     ]
    },
    {
     "name": "stdout",
     "output_type": "stream",
     "text": [
      "6590/12153\r6591/12153\r6592/12153\r6593/12153\r6594/12153\r6595/12153\r6596/12153\r"
     ]
    },
    {
     "name": "stdout",
     "output_type": "stream",
     "text": [
      "6597/12153\r6598/12153\r6599/12153\r6600/12153\r6601/12153\r6602/12153\r"
     ]
    },
    {
     "name": "stdout",
     "output_type": "stream",
     "text": [
      "6603/12153\r6604/12153\r6605/12153\r6606/12153\r"
     ]
    },
    {
     "name": "stdout",
     "output_type": "stream",
     "text": [
      "6607/12153\r6608/12153\r6609/12153\r6610/12153\r6611/12153\r6612/12153\r6613/12153\r"
     ]
    },
    {
     "name": "stdout",
     "output_type": "stream",
     "text": [
      "6614/12153\r6615/12153\r6616/12153\r6617/12153\r6618/12153\r6619/12153\r6620/12153\r"
     ]
    },
    {
     "name": "stdout",
     "output_type": "stream",
     "text": [
      "6621/12153\r6622/12153\r6623/12153\r6624/12153\r6625/12153\r6626/12153\r6627/12153\r"
     ]
    },
    {
     "name": "stdout",
     "output_type": "stream",
     "text": [
      "6628/12153\r6629/12153\r6630/12153\r6631/12153\r6632/12153\r6633/12153\r6634/12153\r"
     ]
    },
    {
     "name": "stdout",
     "output_type": "stream",
     "text": [
      "6635/12153\r6636/12153\r6637/12153\r6638/12153\r6639/12153\r6640/12153\r"
     ]
    },
    {
     "name": "stdout",
     "output_type": "stream",
     "text": [
      "6641/12153\r6642/12153\r6643/12153\r6644/12153\r6645/12153\r6646/12153\r"
     ]
    },
    {
     "name": "stdout",
     "output_type": "stream",
     "text": [
      "6647/12153\r6648/12153\r6649/12153\r6650/12153\r6651/12153\r"
     ]
    },
    {
     "name": "stdout",
     "output_type": "stream",
     "text": [
      "6652/12153\r6653/12153\r6654/12153\r6655/12153\r6656/12153\r6657/12153\r6658/12153\r"
     ]
    },
    {
     "name": "stdout",
     "output_type": "stream",
     "text": [
      "6659/12153\r6660/12153\r6661/12153\r6662/12153\r6663/12153\r6664/12153\r"
     ]
    },
    {
     "name": "stdout",
     "output_type": "stream",
     "text": [
      "6665/12153\r6666/12153\r6667/12153\r6668/12153\r6669/12153\r6670/12153\r"
     ]
    },
    {
     "name": "stdout",
     "output_type": "stream",
     "text": [
      "6671/12153\r6672/12153\r6673/12153\r6674/12153\r6675/12153\r6676/12153\r"
     ]
    },
    {
     "name": "stdout",
     "output_type": "stream",
     "text": [
      "6677/12153\r6678/12153\r6679/12153\r6680/12153\r6681/12153\r"
     ]
    },
    {
     "name": "stdout",
     "output_type": "stream",
     "text": [
      "6682/12153\r6683/12153\r6684/12153\r6685/12153\r6686/12153\r6687/12153\r"
     ]
    },
    {
     "name": "stdout",
     "output_type": "stream",
     "text": [
      "6688/12153\r6689/12153\r6690/12153\r6691/12153\r6692/12153\r"
     ]
    },
    {
     "name": "stdout",
     "output_type": "stream",
     "text": [
      "6693/12153\r6694/12153\r6695/12153\r6696/12153\r"
     ]
    },
    {
     "name": "stdout",
     "output_type": "stream",
     "text": [
      "6697/12153\r6698/12153\r6699/12153\r"
     ]
    },
    {
     "name": "stdout",
     "output_type": "stream",
     "text": [
      "6700/12153\r6701/12153\r6702/12153\r6703/12153\r"
     ]
    },
    {
     "name": "stdout",
     "output_type": "stream",
     "text": [
      "6704/12153\r6705/12153\r6706/12153\r6707/12153\r6708/12153\r6709/12153\r"
     ]
    },
    {
     "name": "stdout",
     "output_type": "stream",
     "text": [
      "6710/12153\r6711/12153\r6712/12153\r6713/12153\r6714/12153\r6715/12153\r"
     ]
    },
    {
     "name": "stdout",
     "output_type": "stream",
     "text": [
      "6716/12153\r6717/12153\r6718/12153\r6719/12153\r6720/12153\r6721/12153\r"
     ]
    },
    {
     "name": "stdout",
     "output_type": "stream",
     "text": [
      "6722/12153\r6723/12153\r6724/12153\r6725/12153\r6726/12153\r6727/12153\r"
     ]
    },
    {
     "name": "stdout",
     "output_type": "stream",
     "text": [
      "6728/12153\r6729/12153\r6730/12153\r6731/12153\r6732/12153\r6733/12153\r6734/12153\r"
     ]
    },
    {
     "name": "stdout",
     "output_type": "stream",
     "text": [
      "6735/12153\r6736/12153\r6737/12153\r6738/12153\r6739/12153\r6740/12153\r"
     ]
    },
    {
     "name": "stdout",
     "output_type": "stream",
     "text": [
      "6741/12153\r6742/12153\r6743/12153\r6744/12153\r6745/12153\r6746/12153\r"
     ]
    },
    {
     "name": "stdout",
     "output_type": "stream",
     "text": [
      "6747/12153\r6748/12153\r6749/12153\r6750/12153\r6751/12153\r6752/12153\r6753/12153\r"
     ]
    },
    {
     "name": "stdout",
     "output_type": "stream",
     "text": [
      "6754/12153\r6755/12153\r6756/12153\r6757/12153\r6758/12153\r6759/12153\r6760/12153\r"
     ]
    },
    {
     "name": "stdout",
     "output_type": "stream",
     "text": [
      "6761/12153\r6762/12153\r6763/12153\r6764/12153\r6765/12153\r6766/12153\r6767/12153\r"
     ]
    },
    {
     "name": "stdout",
     "output_type": "stream",
     "text": [
      "6768/12153\r6769/12153\r6770/12153\r6771/12153\r6772/12153\r6773/12153\r"
     ]
    },
    {
     "name": "stdout",
     "output_type": "stream",
     "text": [
      "6774/12153\r6775/12153\r6776/12153\r6777/12153\r"
     ]
    },
    {
     "name": "stdout",
     "output_type": "stream",
     "text": [
      "6778/12153\r6779/12153\r6780/12153\r6781/12153\r6782/12153\r"
     ]
    },
    {
     "name": "stdout",
     "output_type": "stream",
     "text": [
      "6783/12153\r6784/12153\r6785/12153\r6786/12153\r6787/12153\r6788/12153\r"
     ]
    },
    {
     "name": "stdout",
     "output_type": "stream",
     "text": [
      "6789/12153\r6790/12153\r6791/12153\r6792/12153\r6793/12153\r6794/12153\r6795/12153\r"
     ]
    },
    {
     "name": "stdout",
     "output_type": "stream",
     "text": [
      "6796/12153\r6797/12153\r6798/12153\r6799/12153\r6800/12153\r6801/12153\r6802/12153\r"
     ]
    },
    {
     "name": "stdout",
     "output_type": "stream",
     "text": [
      "6803/12153\r6804/12153\r6805/12153\r6806/12153\r6807/12153\r"
     ]
    },
    {
     "name": "stdout",
     "output_type": "stream",
     "text": [
      "6808/12153\r6809/12153\r6810/12153\r6811/12153\r6812/12153\r6813/12153\r"
     ]
    },
    {
     "name": "stdout",
     "output_type": "stream",
     "text": [
      "6814/12153\r6815/12153\r6816/12153\r6817/12153\r6818/12153\r"
     ]
    },
    {
     "name": "stdout",
     "output_type": "stream",
     "text": [
      "6819/12153\r6820/12153\r6821/12153\r6822/12153\r6823/12153\r6824/12153\r"
     ]
    },
    {
     "name": "stdout",
     "output_type": "stream",
     "text": [
      "6825/12153\r6826/12153\r6827/12153\r6828/12153\r6829/12153\r"
     ]
    },
    {
     "name": "stdout",
     "output_type": "stream",
     "text": [
      "6830/12153\r6831/12153\r6832/12153\r6833/12153\r6834/12153\r6835/12153\r6836/12153\r"
     ]
    },
    {
     "name": "stdout",
     "output_type": "stream",
     "text": [
      "6837/12153\r6838/12153\r6839/12153\r6840/12153\r6841/12153\r6842/12153\r6843/12153"
     ]
    },
    {
     "name": "stdout",
     "output_type": "stream",
     "text": [
      "\r6844/12153\r6845/12153\r6846/12153\r6847/12153\r6848/12153\r6849/12153\r"
     ]
    },
    {
     "name": "stdout",
     "output_type": "stream",
     "text": [
      "6850/12153\r6851/12153\r6852/12153\r6853/12153\r6854/12153\r6855/12153\r"
     ]
    },
    {
     "name": "stdout",
     "output_type": "stream",
     "text": [
      "6856/12153\r6857/12153\r6858/12153\r6859/12153\r6860/12153\r"
     ]
    },
    {
     "name": "stdout",
     "output_type": "stream",
     "text": [
      "6861/12153\r6862/12153\r6863/12153\r6864/12153\r6865/12153\r6866/12153\r"
     ]
    },
    {
     "name": "stdout",
     "output_type": "stream",
     "text": [
      "6867/12153\r6868/12153\r6869/12153\r6870/12153\r6871/12153\r6872/12153\r6873/12153\r"
     ]
    },
    {
     "name": "stdout",
     "output_type": "stream",
     "text": [
      "6874/12153\r6875/12153\r6876/12153\r6877/12153\r6878/12153\r6879/12153\r"
     ]
    },
    {
     "name": "stdout",
     "output_type": "stream",
     "text": [
      "6880/12153\r6881/12153\r6882/12153\r6883/12153\r6884/12153\r6885/12153\r"
     ]
    },
    {
     "name": "stdout",
     "output_type": "stream",
     "text": [
      "6886/12153\r6887/12153\r6888/12153\r6889/12153\r6890/12153\r6891/12153\r"
     ]
    },
    {
     "name": "stdout",
     "output_type": "stream",
     "text": [
      "6892/12153\r6893/12153\r6894/12153\r6895/12153\r6896/12153\r6897/12153\r"
     ]
    },
    {
     "name": "stdout",
     "output_type": "stream",
     "text": [
      "6898/12153\r6899/12153\r6900/12153\r6901/12153\r6902/12153\r"
     ]
    },
    {
     "name": "stdout",
     "output_type": "stream",
     "text": [
      "6903/12153\r6904/12153\r6905/12153\r6906/12153\r6907/12153\r"
     ]
    },
    {
     "name": "stdout",
     "output_type": "stream",
     "text": [
      "6908/12153\r6909/12153\r6910/12153\r6911/12153\r"
     ]
    },
    {
     "name": "stdout",
     "output_type": "stream",
     "text": [
      "6912/12153\r6913/12153\r6914/12153\r6915/12153\r"
     ]
    },
    {
     "name": "stdout",
     "output_type": "stream",
     "text": [
      "6916/12153\r6917/12153\r6918/12153\r6919/12153\r6920/12153\r"
     ]
    },
    {
     "name": "stdout",
     "output_type": "stream",
     "text": [
      "6921/12153\r6922/12153\r6923/12153\r6924/12153\r6925/12153\r6926/12153"
     ]
    },
    {
     "name": "stdout",
     "output_type": "stream",
     "text": [
      "\r6927/12153\r6928/12153\r6929/12153\r6930/12153\r6931/12153\r6932/12153\r"
     ]
    },
    {
     "name": "stdout",
     "output_type": "stream",
     "text": [
      "6933/12153\r6934/12153\r6935/12153\r6936/12153\r6937/12153\r6938/12153\r"
     ]
    },
    {
     "name": "stdout",
     "output_type": "stream",
     "text": [
      "6939/12153\r6940/12153\r6941/12153\r6942/12153\r6943/12153\r6944/12153\r"
     ]
    },
    {
     "name": "stdout",
     "output_type": "stream",
     "text": [
      "6945/12153\r6946/12153\r6947/12153\r6948/12153\r6949/12153\r6950/12153\r"
     ]
    },
    {
     "name": "stdout",
     "output_type": "stream",
     "text": [
      "6951/12153\r6952/12153\r6953/12153\r6954/12153\r6955/12153\r6956/12153\r"
     ]
    },
    {
     "name": "stdout",
     "output_type": "stream",
     "text": [
      "6957/12153\r6958/12153\r6959/12153\r6960/12153\r6961/12153\r6962/12153\r6963/12153"
     ]
    },
    {
     "name": "stdout",
     "output_type": "stream",
     "text": [
      "\r6964/12153\r6965/12153\r6966/12153\r"
     ]
    },
    {
     "name": "stdout",
     "output_type": "stream",
     "text": [
      "6967/12153\r6968/12153\r6969/12153\r"
     ]
    },
    {
     "name": "stdout",
     "output_type": "stream",
     "text": [
      "6970/12153\r"
     ]
    },
    {
     "name": "stdout",
     "output_type": "stream",
     "text": [
      "6971/12153\r6972/12153\r6973/12153\r6974/12153\r6975/12153\r6976/12153"
     ]
    },
    {
     "name": "stdout",
     "output_type": "stream",
     "text": [
      "\r6977/12153\r6978/12153\r6979/12153\r6980/12153\r6981/12153\r6982/12153\r6983/12153"
     ]
    },
    {
     "name": "stdout",
     "output_type": "stream",
     "text": [
      "\r6984/12153\r6985/12153\r6986/12153\r6987/12153\r6988/12153\r6989/12153\r"
     ]
    },
    {
     "name": "stdout",
     "output_type": "stream",
     "text": [
      "6990/12153\r6991/12153\r6992/12153\r6993/12153\r6994/12153\r6995/12153"
     ]
    },
    {
     "name": "stdout",
     "output_type": "stream",
     "text": [
      "\r6996/12153\r6997/12153\r6998/12153\r6999/12153\r"
     ]
    },
    {
     "name": "stdout",
     "output_type": "stream",
     "text": [
      "7000/12153\r7001/12153\r7002/12153\r7003/12153\r7004/12153\r7005/12153\r7006/12153\r"
     ]
    },
    {
     "name": "stdout",
     "output_type": "stream",
     "text": [
      "7007/12153\r7008/12153\r7009/12153\r7010/12153\r7011/12153\r7012/12153\r7013/12153\r"
     ]
    },
    {
     "name": "stdout",
     "output_type": "stream",
     "text": [
      "7014/12153\r7015/12153\r7016/12153\r7017/12153\r7018/12153\r7019/12153\r"
     ]
    },
    {
     "name": "stdout",
     "output_type": "stream",
     "text": [
      "7020/12153\r7021/12153\r7022/12153\r7023/12153\r7024/12153\r7025/12153\r"
     ]
    },
    {
     "name": "stdout",
     "output_type": "stream",
     "text": [
      "7026/12153\r7027/12153\r7028/12153\r7029/12153\r7030/12153\r7031/12153\r"
     ]
    },
    {
     "name": "stdout",
     "output_type": "stream",
     "text": [
      "7032/12153\r7033/12153\r7034/12153\r7035/12153\r7036/12153\r7037/12153\r"
     ]
    },
    {
     "name": "stdout",
     "output_type": "stream",
     "text": [
      "7038/12153\r7039/12153\r7040/12153\r7041/12153\r"
     ]
    },
    {
     "name": "stdout",
     "output_type": "stream",
     "text": [
      "7042/12153\r7043/12153\r7044/12153\r7045/12153\r"
     ]
    },
    {
     "name": "stdout",
     "output_type": "stream",
     "text": [
      "7046/12153\r7047/12153\r7048/12153\r7049/12153\r7050/12153\r"
     ]
    },
    {
     "name": "stdout",
     "output_type": "stream",
     "text": [
      "7051/12153\r7052/12153\r7053/12153\r7054/12153\r7055/12153\r7056/12153\r"
     ]
    },
    {
     "name": "stdout",
     "output_type": "stream",
     "text": [
      "7057/12153\r7058/12153\r7059/12153\r7060/12153\r7061/12153\r7062/12153\r7063/12153\r"
     ]
    },
    {
     "name": "stdout",
     "output_type": "stream",
     "text": [
      "7064/12153\r7065/12153\r7066/12153\r7067/12153\r7068/12153\r7069/12153\r7070/12153\r"
     ]
    },
    {
     "name": "stdout",
     "output_type": "stream",
     "text": [
      "7071/12153\r7072/12153\r7073/12153\r7074/12153\r7075/12153\r7076/12153\r7077/12153\r"
     ]
    },
    {
     "name": "stdout",
     "output_type": "stream",
     "text": [
      "7078/12153\r7079/12153\r7080/12153\r7081/12153\r7082/12153\r7083/12153\r7084/12153\r"
     ]
    },
    {
     "name": "stdout",
     "output_type": "stream",
     "text": [
      "7085/12153\r7086/12153\r7087/12153\r7088/12153\r7089/12153\r7090/12153\r7091/12153\r"
     ]
    },
    {
     "name": "stdout",
     "output_type": "stream",
     "text": [
      "7092/12153\r7093/12153\r7094/12153\r7095/12153\r7096/12153\r7097/12153\r"
     ]
    },
    {
     "name": "stdout",
     "output_type": "stream",
     "text": [
      "7098/12153\r7099/12153\r7100/12153\r7101/12153\r7102/12153\r7103/12153\r7104/12153\r"
     ]
    },
    {
     "name": "stdout",
     "output_type": "stream",
     "text": [
      "7105/12153\r7106/12153\r7107/12153\r7108/12153\r7109/12153\r7110/12153\r7111/12153\r"
     ]
    },
    {
     "name": "stdout",
     "output_type": "stream",
     "text": [
      "7112/12153\r7113/12153\r7114/12153\r7115/12153\r7116/12153\r7117/12153\r"
     ]
    },
    {
     "name": "stdout",
     "output_type": "stream",
     "text": [
      "7118/12153\r7119/12153\r7120/12153\r7121/12153\r7122/12153\r7123/12153\r7124/12153\r"
     ]
    },
    {
     "name": "stdout",
     "output_type": "stream",
     "text": [
      "7125/12153\r7126/12153\r7127/12153\r7128/12153\r7129/12153\r7130/12153\r7131/12153\r"
     ]
    },
    {
     "name": "stdout",
     "output_type": "stream",
     "text": [
      "7132/12153\r7133/12153\r7134/12153\r7135/12153\r7136/12153\r7137/12153\r"
     ]
    },
    {
     "name": "stdout",
     "output_type": "stream",
     "text": [
      "7138/12153\r7139/12153\r7140/12153\r7141/12153\r7142/12153\r7143/12153\r"
     ]
    },
    {
     "name": "stdout",
     "output_type": "stream",
     "text": [
      "7144/12153\r7145/12153\r7146/12153\r7147/12153\r7148/12153\r7149/12153\r"
     ]
    },
    {
     "name": "stdout",
     "output_type": "stream",
     "text": [
      "7150/12153\r7151/12153\r7152/12153\r7153/12153\r7154/12153\r7155/12153\r"
     ]
    },
    {
     "name": "stdout",
     "output_type": "stream",
     "text": [
      "7156/12153\r7157/12153\r7158/12153\r7159/12153\r7160/12153\r7161/12153\r7162/12153\r"
     ]
    },
    {
     "name": "stdout",
     "output_type": "stream",
     "text": [
      "7163/12153\r7164/12153\r7165/12153\r7166/12153\r7167/12153\r7168/12153\r7169/12153\r"
     ]
    },
    {
     "name": "stdout",
     "output_type": "stream",
     "text": [
      "7170/12153\r7171/12153\r7172/12153\r7173/12153\r7174/12153\r7175/12153\r7176/12153\r"
     ]
    },
    {
     "name": "stdout",
     "output_type": "stream",
     "text": [
      "7177/12153\r7178/12153\r7179/12153\r7180/12153\r7181/12153\r7182/12153\r7183/12153\r"
     ]
    },
    {
     "name": "stdout",
     "output_type": "stream",
     "text": [
      "7184/12153\r7185/12153\r7186/12153\r7187/12153\r7188/12153\r7189/12153\r"
     ]
    },
    {
     "name": "stdout",
     "output_type": "stream",
     "text": [
      "7190/12153\r7191/12153\r7192/12153\r7193/12153\r7194/12153\r7195/12153\r"
     ]
    },
    {
     "name": "stdout",
     "output_type": "stream",
     "text": [
      "7196/12153\r7197/12153\r7198/12153\r7199/12153\r7200/12153\r7201/12153\r"
     ]
    },
    {
     "name": "stdout",
     "output_type": "stream",
     "text": [
      "7202/12153\r7203/12153\r7204/12153\r7205/12153\r7206/12153\r7207/12153\r"
     ]
    },
    {
     "name": "stdout",
     "output_type": "stream",
     "text": [
      "7208/12153\r7209/12153\r7210/12153\r7211/12153\r7212/12153\r7213/12153\r"
     ]
    },
    {
     "name": "stdout",
     "output_type": "stream",
     "text": [
      "7214/12153\r7215/12153\r7216/12153\r7217/12153\r7218/12153\r7219/12153\r"
     ]
    },
    {
     "name": "stdout",
     "output_type": "stream",
     "text": [
      "7220/12153\r7221/12153\r7222/12153\r7223/12153\r7224/12153\r7225/12153\r7226/12153"
     ]
    },
    {
     "name": "stdout",
     "output_type": "stream",
     "text": [
      "\r7227/12153\r7228/12153\r7229/12153\r7230/12153\r7231/12153\r7232/12153\r"
     ]
    },
    {
     "name": "stdout",
     "output_type": "stream",
     "text": [
      "7233/12153\r7234/12153\r7235/12153\r7236/12153\r7237/12153\r7238/12153\r"
     ]
    },
    {
     "name": "stdout",
     "output_type": "stream",
     "text": [
      "7239/12153\r7240/12153\r7241/12153\r7242/12153\r7243/12153\r7244/12153\r"
     ]
    },
    {
     "name": "stdout",
     "output_type": "stream",
     "text": [
      "7245/12153\r7246/12153\r7247/12153\r7248/12153\r7249/12153\r7250/12153\r"
     ]
    },
    {
     "name": "stdout",
     "output_type": "stream",
     "text": [
      "7251/12153\r7252/12153\r7253/12153\r7254/12153\r7255/12153\r7256/12153\r"
     ]
    },
    {
     "name": "stdout",
     "output_type": "stream",
     "text": [
      "7257/12153\r7258/12153\r7259/12153\r"
     ]
    },
    {
     "name": "stdout",
     "output_type": "stream",
     "text": [
      "7260/12153\r7261/12153\r7262/12153\r7263/12153\r"
     ]
    },
    {
     "name": "stdout",
     "output_type": "stream",
     "text": [
      "7264/12153\r7265/12153\r7266/12153\r7267/12153\r7268/12153\r7269/12153\r"
     ]
    },
    {
     "name": "stdout",
     "output_type": "stream",
     "text": [
      "7270/12153\r7271/12153\r7272/12153\r7273/12153\r7274/12153\r7275/12153\r"
     ]
    },
    {
     "name": "stdout",
     "output_type": "stream",
     "text": [
      "7276/12153\r7277/12153\r7278/12153\r7279/12153\r7280/12153\r7281/12153\r"
     ]
    },
    {
     "name": "stdout",
     "output_type": "stream",
     "text": [
      "7282/12153\r7283/12153\r7284/12153\r7285/12153\r7286/12153\r7287/12153\r"
     ]
    },
    {
     "name": "stdout",
     "output_type": "stream",
     "text": [
      "7288/12153\r7289/12153\r7290/12153\r7291/12153\r"
     ]
    },
    {
     "name": "stdout",
     "output_type": "stream",
     "text": [
      "7292/12153\r7293/12153\r7294/12153\r7295/12153\r7296/12153\r"
     ]
    },
    {
     "name": "stdout",
     "output_type": "stream",
     "text": [
      "7297/12153\r7298/12153\r7299/12153\r7300/12153\r7301/12153\r7302/12153\r"
     ]
    },
    {
     "name": "stdout",
     "output_type": "stream",
     "text": [
      "7303/12153\r7304/12153\r7305/12153\r7306/12153\r7307/12153\r"
     ]
    },
    {
     "name": "stdout",
     "output_type": "stream",
     "text": [
      "7308/12153\r7309/12153\r7310/12153\r7311/12153\r7312/12153\r7313/12153\r"
     ]
    },
    {
     "name": "stdout",
     "output_type": "stream",
     "text": [
      "7314/12153\r7315/12153\r7316/12153\r7317/12153\r"
     ]
    },
    {
     "name": "stdout",
     "output_type": "stream",
     "text": [
      "7318/12153\r7319/12153\r"
     ]
    },
    {
     "name": "stdout",
     "output_type": "stream",
     "text": [
      "7320/12153\r7321/12153\r7322/12153\r"
     ]
    },
    {
     "name": "stdout",
     "output_type": "stream",
     "text": [
      "7323/12153\r7324/12153\r7325/12153\r7326/12153\r7327/12153\r"
     ]
    },
    {
     "name": "stdout",
     "output_type": "stream",
     "text": [
      "7328/12153\r7329/12153\r7330/12153\r7331/12153\r7332/12153\r7333/12153\r"
     ]
    },
    {
     "name": "stdout",
     "output_type": "stream",
     "text": [
      "7334/12153\r7335/12153\r7336/12153\r7337/12153\r7338/12153\r"
     ]
    },
    {
     "name": "stdout",
     "output_type": "stream",
     "text": [
      "7339/12153\r7340/12153\r7341/12153\r7342/12153\r7343/12153\r7344/12153\r"
     ]
    },
    {
     "name": "stdout",
     "output_type": "stream",
     "text": [
      "7345/12153\r7346/12153\r7347/12153\r7348/12153\r7349/12153\r"
     ]
    },
    {
     "name": "stdout",
     "output_type": "stream",
     "text": [
      "7350/12153\r7351/12153\r7352/12153\r7353/12153\r7354/12153\r"
     ]
    },
    {
     "name": "stdout",
     "output_type": "stream",
     "text": [
      "7355/12153\r7356/12153\r7357/12153\r7358/12153\r7359/12153\r7360/12153\r"
     ]
    },
    {
     "name": "stdout",
     "output_type": "stream",
     "text": [
      "7361/12153\r7362/12153\r7363/12153\r7364/12153\r7365/12153\r7366/12153\r"
     ]
    },
    {
     "name": "stdout",
     "output_type": "stream",
     "text": [
      "7367/12153\r7368/12153\r7369/12153\r7370/12153\r7371/12153\r"
     ]
    },
    {
     "name": "stdout",
     "output_type": "stream",
     "text": [
      "7372/12153\r7373/12153\r7374/12153\r7375/12153\r7376/12153\r"
     ]
    },
    {
     "name": "stdout",
     "output_type": "stream",
     "text": [
      "7377/12153\r7378/12153\r7379/12153\r7380/12153\r7381/12153\r"
     ]
    },
    {
     "name": "stdout",
     "output_type": "stream",
     "text": [
      "7382/12153\r7383/12153\r7384/12153\r7385/12153\r7386/12153\r"
     ]
    },
    {
     "name": "stdout",
     "output_type": "stream",
     "text": [
      "7387/12153\r7388/12153\r7389/12153\r7390/12153\r7391/12153\r"
     ]
    },
    {
     "name": "stdout",
     "output_type": "stream",
     "text": [
      "7392/12153\r7393/12153\r7394/12153\r7395/12153\r"
     ]
    },
    {
     "name": "stdout",
     "output_type": "stream",
     "text": [
      "7396/12153\r7397/12153\r7398/12153\r7399/12153\r"
     ]
    },
    {
     "name": "stdout",
     "output_type": "stream",
     "text": [
      "7400/12153\r7401/12153\r7402/12153\r7403/12153\r7404/12153\r"
     ]
    },
    {
     "name": "stdout",
     "output_type": "stream",
     "text": [
      "7405/12153\r7406/12153\r7407/12153\r"
     ]
    },
    {
     "name": "stdout",
     "output_type": "stream",
     "text": [
      "7408/12153\r7409/12153\r7410/12153\r"
     ]
    },
    {
     "name": "stdout",
     "output_type": "stream",
     "text": [
      "7411/12153\r7412/12153\r7413/12153\r7414/12153\r7415/12153\r7416/12153\r"
     ]
    },
    {
     "name": "stdout",
     "output_type": "stream",
     "text": [
      "7417/12153\r7418/12153\r7419/12153\r7420/12153\r7421/12153\r7422/12153\r"
     ]
    },
    {
     "name": "stdout",
     "output_type": "stream",
     "text": [
      "7423/12153\r7424/12153\r7425/12153\r7426/12153\r"
     ]
    },
    {
     "name": "stdout",
     "output_type": "stream",
     "text": [
      "7427/12153\r7428/12153\r7429/12153\r7430/12153\r"
     ]
    },
    {
     "name": "stdout",
     "output_type": "stream",
     "text": [
      "7431/12153\r7432/12153\r7433/12153\r7434/12153\r7435/12153"
     ]
    },
    {
     "name": "stdout",
     "output_type": "stream",
     "text": [
      "\r7436/12153\r7437/12153\r7438/12153\r7439/12153\r"
     ]
    },
    {
     "name": "stdout",
     "output_type": "stream",
     "text": [
      "7440/12153\r7441/12153\r"
     ]
    },
    {
     "name": "stdout",
     "output_type": "stream",
     "text": [
      "7442/12153\r7443/12153\r"
     ]
    },
    {
     "name": "stdout",
     "output_type": "stream",
     "text": [
      "7444/12153\r7445/12153\r7446/12153\r"
     ]
    },
    {
     "name": "stdout",
     "output_type": "stream",
     "text": [
      "7447/12153\r7448/12153\r7449/12153\r"
     ]
    },
    {
     "name": "stdout",
     "output_type": "stream",
     "text": [
      "7450/12153\r7451/12153\r7452/12153\r"
     ]
    },
    {
     "name": "stdout",
     "output_type": "stream",
     "text": [
      "7453/12153\r7454/12153\r7455/12153\r"
     ]
    },
    {
     "name": "stdout",
     "output_type": "stream",
     "text": [
      "7456/12153\r7457/12153\r7458/12153\r"
     ]
    },
    {
     "name": "stdout",
     "output_type": "stream",
     "text": [
      "7459/12153\r7460/12153\r7461/12153\r7462/12153\r7463/12153\r"
     ]
    },
    {
     "name": "stdout",
     "output_type": "stream",
     "text": [
      "7464/12153\r7465/12153\r"
     ]
    },
    {
     "name": "stdout",
     "output_type": "stream",
     "text": [
      "7466/12153\r7467/12153\r7468/12153"
     ]
    },
    {
     "name": "stdout",
     "output_type": "stream",
     "text": [
      "\r7469/12153\r7470/12153\r7471/12153\r7472/12153\r"
     ]
    },
    {
     "name": "stdout",
     "output_type": "stream",
     "text": [
      "7473/12153\r7474/12153\r7475/12153\r7476/12153\r"
     ]
    },
    {
     "name": "stdout",
     "output_type": "stream",
     "text": [
      "7477/12153\r7478/12153\r7479/12153\r7480/12153\r"
     ]
    },
    {
     "name": "stdout",
     "output_type": "stream",
     "text": [
      "7481/12153\r7482/12153\r7483/12153\r7484/12153\r"
     ]
    },
    {
     "name": "stdout",
     "output_type": "stream",
     "text": [
      "7485/12153\r7486/12153\r7487/12153\r7488/12153\r"
     ]
    },
    {
     "name": "stdout",
     "output_type": "stream",
     "text": [
      "7489/12153\r7490/12153\r7491/12153\r7492/12153\r7493/12153\r"
     ]
    },
    {
     "name": "stdout",
     "output_type": "stream",
     "text": [
      "7494/12153\r7495/12153\r7496/12153\r7497/12153\r7498/12153\r"
     ]
    },
    {
     "name": "stdout",
     "output_type": "stream",
     "text": [
      "7499/12153\r7500/12153\r7501/12153\r7502/12153\r"
     ]
    },
    {
     "name": "stdout",
     "output_type": "stream",
     "text": [
      "7503/12153\r7504/12153\r7505/12153\r7506/12153\r7507/12153\r"
     ]
    },
    {
     "name": "stdout",
     "output_type": "stream",
     "text": [
      "7508/12153\r7509/12153\r7510/12153\r7511/12153\r7512/12153\r"
     ]
    },
    {
     "name": "stdout",
     "output_type": "stream",
     "text": [
      "7513/12153\r7514/12153\r7515/12153\r7516/12153\r7517/12153\r"
     ]
    },
    {
     "name": "stdout",
     "output_type": "stream",
     "text": [
      "7518/12153\r7519/12153\r7520/12153\r7521/12153\r7522/12153\r7523/12153\r"
     ]
    },
    {
     "name": "stdout",
     "output_type": "stream",
     "text": [
      "7524/12153\r7525/12153\r7526/12153\r7527/12153\r7528/12153\r7529/12153\r"
     ]
    },
    {
     "name": "stdout",
     "output_type": "stream",
     "text": [
      "7530/12153\r7531/12153\r7532/12153\r7533/12153\r7534/12153\r7535/12153"
     ]
    },
    {
     "name": "stdout",
     "output_type": "stream",
     "text": [
      "\r7536/12153\r7537/12153\r7538/12153\r7539/12153\r7540/12153\r7541/12153\r"
     ]
    },
    {
     "name": "stdout",
     "output_type": "stream",
     "text": [
      "7542/12153\r7543/12153\r7544/12153\r7545/12153\r7546/12153\r7547/12153\r"
     ]
    },
    {
     "name": "stdout",
     "output_type": "stream",
     "text": [
      "7548/12153\r7549/12153\r7550/12153\r7551/12153\r7552/12153\r7553/12153\r"
     ]
    },
    {
     "name": "stdout",
     "output_type": "stream",
     "text": [
      "7554/12153\r7555/12153\r7556/12153\r7557/12153\r7558/12153\r"
     ]
    },
    {
     "name": "stdout",
     "output_type": "stream",
     "text": [
      "7559/12153\r7560/12153\r7561/12153\r7562/12153\r7563/12153\r7564/12153"
     ]
    },
    {
     "name": "stdout",
     "output_type": "stream",
     "text": [
      "\r7565/12153\r7566/12153\r7567/12153\r7568/12153\r7569/12153\r"
     ]
    },
    {
     "name": "stdout",
     "output_type": "stream",
     "text": [
      "7570/12153\r7571/12153\r7572/12153\r7573/12153\r7574/12153\r"
     ]
    },
    {
     "name": "stdout",
     "output_type": "stream",
     "text": [
      "7575/12153\r7576/12153\r7577/12153\r7578/12153\r7579/12153\r7580/12153\r"
     ]
    },
    {
     "name": "stdout",
     "output_type": "stream",
     "text": [
      "7581/12153\r7582/12153\r7583/12153\r7584/12153\r7585/12153\r7586/12153\r7587/12153\r"
     ]
    },
    {
     "name": "stdout",
     "output_type": "stream",
     "text": [
      "7588/12153\r7589/12153\r7590/12153\r7591/12153\r7592/12153\r7593/12153\r7594/12153\r"
     ]
    },
    {
     "name": "stdout",
     "output_type": "stream",
     "text": [
      "7595/12153\r7596/12153\r7597/12153\r7598/12153\r7599/12153\r7600/12153\r7601/12153\r"
     ]
    },
    {
     "name": "stdout",
     "output_type": "stream",
     "text": [
      "7602/12153\r7603/12153\r7604/12153\r7605/12153\r7606/12153\r7607/12153\r7608/12153\r"
     ]
    },
    {
     "name": "stdout",
     "output_type": "stream",
     "text": [
      "7609/12153\r7610/12153\r7611/12153\r7612/12153\r7613/12153\r7614/12153\r7615/12153\r"
     ]
    },
    {
     "name": "stdout",
     "output_type": "stream",
     "text": [
      "7616/12153\r7617/12153\r7618/12153\r7619/12153\r7620/12153\r7621/12153\r7622/12153\r"
     ]
    },
    {
     "name": "stdout",
     "output_type": "stream",
     "text": [
      "7623/12153\r7624/12153\r7625/12153\r7626/12153\r7627/12153\r7628/12153\r"
     ]
    },
    {
     "name": "stdout",
     "output_type": "stream",
     "text": [
      "7629/12153\r7630/12153\r7631/12153\r7632/12153\r7633/12153\r7634/12153\r7635/12153"
     ]
    },
    {
     "name": "stdout",
     "output_type": "stream",
     "text": [
      "\r7636/12153\r7637/12153\r7638/12153\r7639/12153\r7640/12153\r7641/12153\r"
     ]
    },
    {
     "name": "stdout",
     "output_type": "stream",
     "text": [
      "7642/12153\r7643/12153\r7644/12153\r7645/12153\r7646/12153\r7647/12153\r7648/12153\r"
     ]
    },
    {
     "name": "stdout",
     "output_type": "stream",
     "text": [
      "7649/12153\r7650/12153\r7651/12153\r7652/12153\r7653/12153\r7654/12153\r7655/12153\r"
     ]
    },
    {
     "name": "stdout",
     "output_type": "stream",
     "text": [
      "7656/12153\r7657/12153\r7658/12153\r7659/12153\r7660/12153\r7661/12153\r7662/12153\r"
     ]
    },
    {
     "name": "stdout",
     "output_type": "stream",
     "text": [
      "7663/12153\r7664/12153\r7665/12153\r7666/12153\r7667/12153\r7668/12153\r7669/12153\r"
     ]
    },
    {
     "name": "stdout",
     "output_type": "stream",
     "text": [
      "7670/12153\r7671/12153\r7672/12153\r7673/12153\r7674/12153\r7675/12153\r7676/12153\r"
     ]
    },
    {
     "name": "stdout",
     "output_type": "stream",
     "text": [
      "7677/12153\r7678/12153\r7679/12153\r7680/12153\r7681/12153\r7682/12153\r"
     ]
    },
    {
     "name": "stdout",
     "output_type": "stream",
     "text": [
      "7683/12153\r7684/12153\r7685/12153\r7686/12153\r7687/12153\r7688/12153\r7689/12153\r"
     ]
    },
    {
     "name": "stdout",
     "output_type": "stream",
     "text": [
      "7690/12153\r7691/12153\r7692/12153\r7693/12153\r7694/12153\r7695/12153\r"
     ]
    },
    {
     "name": "stdout",
     "output_type": "stream",
     "text": [
      "7696/12153\r7697/12153\r7698/12153\r7699/12153\r7700/12153\r7701/12153\r"
     ]
    },
    {
     "name": "stdout",
     "output_type": "stream",
     "text": [
      "7702/12153\r7703/12153\r7704/12153\r7705/12153\r7706/12153\r7707/12153\r7708/12153\r"
     ]
    },
    {
     "name": "stdout",
     "output_type": "stream",
     "text": [
      "7709/12153\r7710/12153\r7711/12153\r7712/12153\r7713/12153\r7714/12153\r"
     ]
    },
    {
     "name": "stdout",
     "output_type": "stream",
     "text": [
      "7715/12153\r7716/12153\r7717/12153\r7718/12153\r7719/12153\r7720/12153\r7721/12153\r"
     ]
    },
    {
     "name": "stdout",
     "output_type": "stream",
     "text": [
      "7722/12153\r7723/12153\r7724/12153\r7725/12153\r7726/12153\r7727/12153\r"
     ]
    },
    {
     "name": "stdout",
     "output_type": "stream",
     "text": [
      "7728/12153\r7729/12153\r7730/12153\r7731/12153\r7732/12153\r7733/12153\r"
     ]
    },
    {
     "name": "stdout",
     "output_type": "stream",
     "text": [
      "7734/12153\r7735/12153\r7736/12153\r7737/12153\r7738/12153\r7739/12153\r7740/12153\r"
     ]
    },
    {
     "name": "stdout",
     "output_type": "stream",
     "text": [
      "7741/12153\r7742/12153\r7743/12153\r7744/12153\r7745/12153\r7746/12153\r7747/12153\r"
     ]
    },
    {
     "name": "stdout",
     "output_type": "stream",
     "text": [
      "7748/12153\r7749/12153\r7750/12153\r7751/12153\r7752/12153\r7753/12153\r7754/12153\r"
     ]
    },
    {
     "name": "stdout",
     "output_type": "stream",
     "text": [
      "7755/12153\r7756/12153\r7757/12153\r7758/12153\r7759/12153\r7760/12153\r7761/12153\r"
     ]
    },
    {
     "name": "stdout",
     "output_type": "stream",
     "text": [
      "7762/12153\r7763/12153\r7764/12153\r7765/12153\r7766/12153\r7767/12153\r7768/12153\r"
     ]
    },
    {
     "name": "stdout",
     "output_type": "stream",
     "text": [
      "7769/12153\r7770/12153\r7771/12153\r7772/12153\r7773/12153\r7774/12153\r"
     ]
    },
    {
     "name": "stdout",
     "output_type": "stream",
     "text": [
      "7775/12153\r7776/12153\r7777/12153\r7778/12153\r7779/12153\r7780/12153\r7781/12153\r"
     ]
    },
    {
     "name": "stdout",
     "output_type": "stream",
     "text": [
      "7782/12153\r7783/12153\r7784/12153\r7785/12153\r7786/12153\r7787/12153\r"
     ]
    },
    {
     "name": "stdout",
     "output_type": "stream",
     "text": [
      "7788/12153\r7789/12153\r7790/12153\r"
     ]
    },
    {
     "name": "stdout",
     "output_type": "stream",
     "text": [
      "7791/12153\r7792/12153\r7793/12153\r7794/12153\r7795/12153\r"
     ]
    },
    {
     "name": "stdout",
     "output_type": "stream",
     "text": [
      "7796/12153\r7797/12153\r7798/12153\r7799/12153\r7800/12153\r7801/12153\r7802/12153\r"
     ]
    },
    {
     "name": "stdout",
     "output_type": "stream",
     "text": [
      "7803/12153\r7804/12153\r7805/12153\r7806/12153\r7807/12153\r7808/12153\r7809/12153\r"
     ]
    },
    {
     "name": "stdout",
     "output_type": "stream",
     "text": [
      "7810/12153\r7811/12153\r7812/12153\r7813/12153\r7814/12153\r7815/12153\r7816/12153"
     ]
    },
    {
     "name": "stdout",
     "output_type": "stream",
     "text": [
      "\r7817/12153\r7818/12153\r7819/12153\r7820/12153\r7821/12153\r7822/12153\r"
     ]
    },
    {
     "name": "stdout",
     "output_type": "stream",
     "text": [
      "7823/12153\r7824/12153\r7825/12153\r7826/12153\r7827/12153\r7828/12153\r7829/12153\r"
     ]
    },
    {
     "name": "stdout",
     "output_type": "stream",
     "text": [
      "7830/12153\r7831/12153\r7832/12153\r7833/12153\r7834/12153\r7835/12153\r"
     ]
    },
    {
     "name": "stdout",
     "output_type": "stream",
     "text": [
      "7836/12153\r7837/12153\r7838/12153\r7839/12153\r7840/12153\r7841/12153\r7842/12153\r"
     ]
    },
    {
     "name": "stdout",
     "output_type": "stream",
     "text": [
      "7843/12153\r7844/12153\r7845/12153\r7846/12153\r7847/12153\r7848/12153\r"
     ]
    },
    {
     "name": "stdout",
     "output_type": "stream",
     "text": [
      "7849/12153\r7850/12153\r7851/12153\r7852/12153\r7853/12153\r7854/12153\r"
     ]
    },
    {
     "name": "stdout",
     "output_type": "stream",
     "text": [
      "7855/12153\r7856/12153\r7857/12153\r7858/12153\r7859/12153\r7860/12153\r"
     ]
    },
    {
     "name": "stdout",
     "output_type": "stream",
     "text": [
      "7861/12153\r7862/12153\r7863/12153\r7864/12153\r7865/12153\r7866/12153\r7867/12153"
     ]
    },
    {
     "name": "stdout",
     "output_type": "stream",
     "text": [
      "\r7868/12153\r7869/12153\r7870/12153\r7871/12153\r7872/12153\r7873/12153\r7874/12153\r"
     ]
    },
    {
     "name": "stdout",
     "output_type": "stream",
     "text": [
      "7875/12153\r7876/12153\r7877/12153\r7878/12153\r7879/12153\r"
     ]
    },
    {
     "name": "stdout",
     "output_type": "stream",
     "text": [
      "7880/12153\r7881/12153\r7882/12153\r7883/12153\r7884/12153\r7885/12153\r"
     ]
    },
    {
     "name": "stdout",
     "output_type": "stream",
     "text": [
      "7886/12153\r7887/12153\r7888/12153\r7889/12153\r7890/12153\r7891/12153\r"
     ]
    },
    {
     "name": "stdout",
     "output_type": "stream",
     "text": [
      "7892/12153\r7893/12153\r7894/12153\r7895/12153\r7896/12153\r7897/12153\r"
     ]
    },
    {
     "name": "stdout",
     "output_type": "stream",
     "text": [
      "7898/12153\r7899/12153\r7900/12153\r7901/12153\r7902/12153\r7903/12153\r"
     ]
    },
    {
     "name": "stdout",
     "output_type": "stream",
     "text": [
      "7904/12153\r7905/12153\r7906/12153\r7907/12153\r7908/12153\r7909/12153\r"
     ]
    },
    {
     "name": "stdout",
     "output_type": "stream",
     "text": [
      "7910/12153\r7911/12153\r7912/12153\r7913/12153\r7914/12153\r7915/12153\r"
     ]
    },
    {
     "name": "stdout",
     "output_type": "stream",
     "text": [
      "7916/12153\r7917/12153\r7918/12153\r7919/12153\r7920/12153\r7921/12153\r"
     ]
    },
    {
     "name": "stdout",
     "output_type": "stream",
     "text": [
      "7922/12153\r7923/12153\r7924/12153\r7925/12153\r7926/12153\r7927/12153\r"
     ]
    },
    {
     "name": "stdout",
     "output_type": "stream",
     "text": [
      "7928/12153\r7929/12153\r7930/12153\r7931/12153\r7932/12153\r7933/12153\r"
     ]
    },
    {
     "name": "stdout",
     "output_type": "stream",
     "text": [
      "7934/12153\r7935/12153\r7936/12153\r7937/12153\r7938/12153\r7939/12153\r"
     ]
    },
    {
     "name": "stdout",
     "output_type": "stream",
     "text": [
      "7940/12153\r7941/12153\r7942/12153\r7943/12153\r7944/12153\r7945/12153\r7946/12153\r"
     ]
    },
    {
     "name": "stdout",
     "output_type": "stream",
     "text": [
      "7947/12153\r7948/12153\r7949/12153\r7950/12153\r7951/12153\r7952/12153\r7953/12153"
     ]
    },
    {
     "name": "stdout",
     "output_type": "stream",
     "text": [
      "\r7954/12153\r7955/12153\r7956/12153\r7957/12153\r7958/12153\r7959/12153\r7960/12153\r"
     ]
    },
    {
     "name": "stdout",
     "output_type": "stream",
     "text": [
      "7961/12153\r7962/12153\r7963/12153\r7964/12153\r7965/12153\r7966/12153\r7967/12153\r"
     ]
    },
    {
     "name": "stdout",
     "output_type": "stream",
     "text": [
      "7968/12153\r7969/12153\r7970/12153\r7971/12153\r7972/12153\r7973/12153\r7974/12153\r"
     ]
    },
    {
     "name": "stdout",
     "output_type": "stream",
     "text": [
      "7975/12153\r7976/12153\r7977/12153\r7978/12153\r7979/12153\r7980/12153\r7981/12153\r"
     ]
    },
    {
     "name": "stdout",
     "output_type": "stream",
     "text": [
      "7982/12153\r7983/12153\r7984/12153\r7985/12153\r7986/12153\r7987/12153\r7988/12153\r"
     ]
    },
    {
     "name": "stdout",
     "output_type": "stream",
     "text": [
      "7989/12153\r7990/12153\r7991/12153\r7992/12153\r7993/12153\r7994/12153\r7995/12153\r"
     ]
    },
    {
     "name": "stdout",
     "output_type": "stream",
     "text": [
      "7996/12153\r7997/12153\r7998/12153\r7999/12153\r8000/12153\r"
     ]
    },
    {
     "name": "stdout",
     "output_type": "stream",
     "text": [
      "8001/12153\r8002/12153\r8003/12153\r8004/12153\r8005/12153\r8006/12153\r8007/12153"
     ]
    },
    {
     "name": "stdout",
     "output_type": "stream",
     "text": [
      "\r8008/12153\r8009/12153\r8010/12153\r8011/12153\r8012/12153\r8013/12153\r8014/12153"
     ]
    },
    {
     "name": "stdout",
     "output_type": "stream",
     "text": [
      "\r8015/12153\r8016/12153\r8017/12153\r8018/12153\r8019/12153\r8020/12153\r8021/12153\r"
     ]
    },
    {
     "name": "stdout",
     "output_type": "stream",
     "text": [
      "8022/12153\r8023/12153\r8024/12153\r8025/12153\r8026/12153\r8027/12153\r8028/12153\r"
     ]
    },
    {
     "name": "stdout",
     "output_type": "stream",
     "text": [
      "8029/12153\r8030/12153\r8031/12153\r8032/12153\r8033/12153\r8034/12153\r8035/12153\r"
     ]
    },
    {
     "name": "stdout",
     "output_type": "stream",
     "text": [
      "8036/12153\r8037/12153\r8038/12153\r8039/12153\r8040/12153\r8041/12153\r"
     ]
    },
    {
     "name": "stdout",
     "output_type": "stream",
     "text": [
      "8042/12153\r8043/12153\r8044/12153\r8045/12153\r8046/12153\r8047/12153\r"
     ]
    },
    {
     "name": "stdout",
     "output_type": "stream",
     "text": [
      "8048/12153\r8049/12153\r8050/12153\r8051/12153\r8052/12153\r8053/12153\r8054/12153\r"
     ]
    },
    {
     "name": "stdout",
     "output_type": "stream",
     "text": [
      "8055/12153\r8056/12153\r8057/12153\r8058/12153\r8059/12153\r8060/12153\r8061/12153\r"
     ]
    },
    {
     "name": "stdout",
     "output_type": "stream",
     "text": [
      "8062/12153\r8063/12153\r8064/12153\r8065/12153\r8066/12153\r8067/12153\r8068/12153"
     ]
    },
    {
     "name": "stdout",
     "output_type": "stream",
     "text": [
      "\r8069/12153\r8070/12153\r8071/12153\r8072/12153\r8073/12153\r"
     ]
    },
    {
     "name": "stdout",
     "output_type": "stream",
     "text": [
      "8074/12153\r8075/12153\r8076/12153\r8077/12153\r8078/12153\r8079/12153\r8080/12153\r"
     ]
    },
    {
     "name": "stdout",
     "output_type": "stream",
     "text": [
      "8081/12153\r8082/12153\r8083/12153\r8084/12153\r8085/12153\r8086/12153\r"
     ]
    },
    {
     "name": "stdout",
     "output_type": "stream",
     "text": [
      "8087/12153\r8088/12153\r8089/12153\r8090/12153\r8091/12153\r8092/12153\r8093/12153\r"
     ]
    },
    {
     "name": "stdout",
     "output_type": "stream",
     "text": [
      "8094/12153\r8095/12153\r8096/12153\r8097/12153\r8098/12153\r8099/12153\r8100/12153\r"
     ]
    },
    {
     "name": "stdout",
     "output_type": "stream",
     "text": [
      "8101/12153\r8102/12153\r8103/12153\r8104/12153\r8105/12153\r8106/12153\r8107/12153\r"
     ]
    },
    {
     "name": "stdout",
     "output_type": "stream",
     "text": [
      "8108/12153\r8109/12153\r8110/12153\r8111/12153\r8112/12153\r8113/12153\r8114/12153\r"
     ]
    },
    {
     "name": "stdout",
     "output_type": "stream",
     "text": [
      "8115/12153\r8116/12153\r8117/12153\r8118/12153\r8119/12153\r8120/12153\r8121/12153\r"
     ]
    },
    {
     "name": "stdout",
     "output_type": "stream",
     "text": [
      "8122/12153\r8123/12153\r8124/12153\r8125/12153\r8126/12153\r8127/12153\r"
     ]
    },
    {
     "name": "stdout",
     "output_type": "stream",
     "text": [
      "8128/12153\r8129/12153\r8130/12153\r8131/12153\r8132/12153\r8133/12153\r8134/12153\r"
     ]
    },
    {
     "name": "stdout",
     "output_type": "stream",
     "text": [
      "8135/12153\r8136/12153\r8137/12153\r8138/12153\r8139/12153\r8140/12153\r8141/12153\r"
     ]
    },
    {
     "name": "stdout",
     "output_type": "stream",
     "text": [
      "8142/12153\r8143/12153\r8144/12153\r8145/12153\r8146/12153\r8147/12153\r8148/12153\r"
     ]
    },
    {
     "name": "stdout",
     "output_type": "stream",
     "text": [
      "8149/12153\r8150/12153\r8151/12153\r8152/12153\r8153/12153\r8154/12153\r"
     ]
    },
    {
     "name": "stdout",
     "output_type": "stream",
     "text": [
      "8155/12153\r8156/12153\r8157/12153\r8158/12153\r8159/12153\r8160/12153\r"
     ]
    },
    {
     "name": "stdout",
     "output_type": "stream",
     "text": [
      "8161/12153\r8162/12153\r8163/12153\r8164/12153\r8165/12153\r8166/12153\r"
     ]
    },
    {
     "name": "stdout",
     "output_type": "stream",
     "text": [
      "8167/12153\r8168/12153\r8169/12153\r8170/12153\r8171/12153\r8172/12153\r"
     ]
    },
    {
     "name": "stdout",
     "output_type": "stream",
     "text": [
      "8173/12153\r8174/12153\r8175/12153\r8176/12153\r8177/12153\r8178/12153\r"
     ]
    },
    {
     "name": "stdout",
     "output_type": "stream",
     "text": [
      "8179/12153\r8180/12153\r8181/12153\r8182/12153\r8183/12153\r8184/12153\r"
     ]
    },
    {
     "name": "stdout",
     "output_type": "stream",
     "text": [
      "8185/12153\r8186/12153\r8187/12153\r8188/12153\r8189/12153\r8190/12153\r"
     ]
    },
    {
     "name": "stdout",
     "output_type": "stream",
     "text": [
      "8191/12153\r8192/12153\r"
     ]
    },
    {
     "name": "stdout",
     "output_type": "stream",
     "text": [
      "8193/12153\r8194/12153\r"
     ]
    },
    {
     "name": "stdout",
     "output_type": "stream",
     "text": [
      "8195/12153\r8196/12153\r8197/12153\r8198/12153\r"
     ]
    },
    {
     "name": "stdout",
     "output_type": "stream",
     "text": [
      "8199/12153\r8200/12153\r8201/12153\r8202/12153\r8203/12153\r"
     ]
    },
    {
     "name": "stdout",
     "output_type": "stream",
     "text": [
      "8204/12153\r8205/12153\r8206/12153\r8207/12153\r8208/12153\r"
     ]
    },
    {
     "name": "stdout",
     "output_type": "stream",
     "text": [
      "8209/12153\r8210/12153\r8211/12153\r8212/12153\r"
     ]
    },
    {
     "name": "stdout",
     "output_type": "stream",
     "text": [
      "8213/12153\r8214/12153\r8215/12153\r"
     ]
    },
    {
     "name": "stdout",
     "output_type": "stream",
     "text": [
      "8216/12153\r8217/12153\r8218/12153\r"
     ]
    },
    {
     "name": "stdout",
     "output_type": "stream",
     "text": [
      "8219/12153\r8220/12153\r"
     ]
    },
    {
     "name": "stdout",
     "output_type": "stream",
     "text": [
      "8221/12153\r8222/12153\r"
     ]
    },
    {
     "name": "stdout",
     "output_type": "stream",
     "text": [
      "8223/12153\r8224/12153\r8225/12153\r8226/12153\r"
     ]
    },
    {
     "name": "stdout",
     "output_type": "stream",
     "text": [
      "8227/12153\r8228/12153\r8229/12153\r8230/12153\r"
     ]
    },
    {
     "name": "stdout",
     "output_type": "stream",
     "text": [
      "8231/12153\r8232/12153\r8233/12153\r8234/12153\r8235/12153\r"
     ]
    },
    {
     "name": "stdout",
     "output_type": "stream",
     "text": [
      "8236/12153\r8237/12153\r"
     ]
    },
    {
     "name": "stdout",
     "output_type": "stream",
     "text": [
      "8238/12153\r8239/12153\r8240/12153\r"
     ]
    },
    {
     "name": "stdout",
     "output_type": "stream",
     "text": [
      "8241/12153\r"
     ]
    },
    {
     "name": "stdout",
     "output_type": "stream",
     "text": [
      "8242/12153\r8243/12153\r"
     ]
    },
    {
     "name": "stdout",
     "output_type": "stream",
     "text": [
      "8244/12153\r8245/12153\r8246/12153\r"
     ]
    },
    {
     "name": "stdout",
     "output_type": "stream",
     "text": [
      "8247/12153\r"
     ]
    },
    {
     "name": "stdout",
     "output_type": "stream",
     "text": [
      "8248/12153\r8249/12153\r8250/12153\r8251/12153\r"
     ]
    },
    {
     "name": "stdout",
     "output_type": "stream",
     "text": [
      "8252/12153\r8253/12153\r8254/12153\r8255/12153\r8256/12153\r"
     ]
    },
    {
     "name": "stdout",
     "output_type": "stream",
     "text": [
      "8257/12153\r8258/12153\r8259/12153\r8260/12153\r8261/12153\r"
     ]
    },
    {
     "name": "stdout",
     "output_type": "stream",
     "text": [
      "8262/12153\r8263/12153\r8264/12153\r8265/12153\r8266/12153\r"
     ]
    },
    {
     "name": "stdout",
     "output_type": "stream",
     "text": [
      "8267/12153\r8268/12153\r8269/12153\r8270/12153\r8271/12153\r"
     ]
    },
    {
     "name": "stdout",
     "output_type": "stream",
     "text": [
      "8272/12153\r8273/12153\r8274/12153\r8275/12153\r8276/12153\r"
     ]
    },
    {
     "name": "stdout",
     "output_type": "stream",
     "text": [
      "8277/12153\r8278/12153\r8279/12153\r8280/12153\r8281/12153\r"
     ]
    },
    {
     "name": "stdout",
     "output_type": "stream",
     "text": [
      "8282/12153\r8283/12153\r8284/12153\r8285/12153\r8286/12153\r8287/12153\r8288/12153\r"
     ]
    },
    {
     "name": "stdout",
     "output_type": "stream",
     "text": [
      "8289/12153\r8290/12153\r8291/12153\r8292/12153\r8293/12153\r8294/12153\r8295/12153\r"
     ]
    },
    {
     "name": "stdout",
     "output_type": "stream",
     "text": [
      "8296/12153\r8297/12153\r8298/12153\r8299/12153\r8300/12153\r8301/12153\r8302/12153\r"
     ]
    },
    {
     "name": "stdout",
     "output_type": "stream",
     "text": [
      "8303/12153\r8304/12153\r8305/12153\r8306/12153\r8307/12153\r8308/12153\r8309/12153\r"
     ]
    },
    {
     "name": "stdout",
     "output_type": "stream",
     "text": [
      "8310/12153\r8311/12153\r8312/12153\r8313/12153\r8314/12153\r8315/12153\r8316/12153\r"
     ]
    },
    {
     "name": "stdout",
     "output_type": "stream",
     "text": [
      "8317/12153\r8318/12153\r8319/12153\r8320/12153\r8321/12153\r8322/12153\r8323/12153\r"
     ]
    },
    {
     "name": "stdout",
     "output_type": "stream",
     "text": [
      "8324/12153\r8325/12153\r8326/12153\r8327/12153\r8328/12153\r8329/12153\r8330/12153\r"
     ]
    },
    {
     "name": "stdout",
     "output_type": "stream",
     "text": [
      "8331/12153\r8332/12153\r8333/12153\r8334/12153\r8335/12153\r8336/12153\r8337/12153\r"
     ]
    },
    {
     "name": "stdout",
     "output_type": "stream",
     "text": [
      "8338/12153\r8339/12153\r8340/12153\r8341/12153\r8342/12153\r8343/12153\r8344/12153\r"
     ]
    },
    {
     "name": "stdout",
     "output_type": "stream",
     "text": [
      "8345/12153\r8346/12153\r8347/12153\r8348/12153\r8349/12153\r8350/12153\r8351/12153\r"
     ]
    },
    {
     "name": "stdout",
     "output_type": "stream",
     "text": [
      "8352/12153\r8353/12153\r8354/12153\r8355/12153\r8356/12153\r8357/12153\r8358/12153\r"
     ]
    },
    {
     "name": "stdout",
     "output_type": "stream",
     "text": [
      "8359/12153\r8360/12153\r8361/12153\r8362/12153\r8363/12153\r8364/12153\r8365/12153\r"
     ]
    },
    {
     "name": "stdout",
     "output_type": "stream",
     "text": [
      "8366/12153\r8367/12153\r8368/12153\r8369/12153\r8370/12153\r8371/12153\r8372/12153\r"
     ]
    },
    {
     "name": "stdout",
     "output_type": "stream",
     "text": [
      "8373/12153\r8374/12153\r8375/12153\r8376/12153\r8377/12153\r8378/12153\r8379/12153\r"
     ]
    },
    {
     "name": "stdout",
     "output_type": "stream",
     "text": [
      "8380/12153\r8381/12153\r8382/12153\r8383/12153\r8384/12153\r8385/12153\r8386/12153\r"
     ]
    },
    {
     "name": "stdout",
     "output_type": "stream",
     "text": [
      "8387/12153\r8388/12153\r8389/12153\r8390/12153\r8391/12153\r8392/12153\r8393/12153\r"
     ]
    },
    {
     "name": "stdout",
     "output_type": "stream",
     "text": [
      "8394/12153\r8395/12153\r8396/12153\r8397/12153\r8398/12153\r8399/12153\r8400/12153\r"
     ]
    },
    {
     "name": "stdout",
     "output_type": "stream",
     "text": [
      "8401/12153\r8402/12153\r8403/12153\r8404/12153\r8405/12153\r8406/12153\r8407/12153\r"
     ]
    },
    {
     "name": "stdout",
     "output_type": "stream",
     "text": [
      "8408/12153\r8409/12153\r8410/12153\r8411/12153\r8412/12153\r8413/12153\r8414/12153"
     ]
    },
    {
     "name": "stdout",
     "output_type": "stream",
     "text": [
      "\r8415/12153\r8416/12153\r8417/12153\r8418/12153\r8419/12153\r8420/12153\r8421/12153\r"
     ]
    },
    {
     "name": "stdout",
     "output_type": "stream",
     "text": [
      "8422/12153\r8423/12153\r8424/12153\r8425/12153\r8426/12153\r8427/12153\r8428/12153\r"
     ]
    },
    {
     "name": "stdout",
     "output_type": "stream",
     "text": [
      "8429/12153\r8430/12153\r8431/12153\r8432/12153\r8433/12153\r8434/12153\r8435/12153\r"
     ]
    },
    {
     "name": "stdout",
     "output_type": "stream",
     "text": [
      "8436/12153\r8437/12153\r8438/12153\r8439/12153\r8440/12153\r8441/12153\r8442/12153"
     ]
    },
    {
     "name": "stdout",
     "output_type": "stream",
     "text": [
      "\r8443/12153\r8444/12153\r8445/12153\r8446/12153\r8447/12153\r8448/12153\r8449/12153\r"
     ]
    },
    {
     "name": "stdout",
     "output_type": "stream",
     "text": [
      "8450/12153\r8451/12153\r8452/12153\r8453/12153\r8454/12153\r8455/12153\r8456/12153\r"
     ]
    },
    {
     "name": "stdout",
     "output_type": "stream",
     "text": [
      "8457/12153\r8458/12153\r8459/12153\r"
     ]
    },
    {
     "name": "stdout",
     "output_type": "stream",
     "text": [
      "8460/12153\r8461/12153\r8462/12153\r8463/12153\r"
     ]
    },
    {
     "name": "stdout",
     "output_type": "stream",
     "text": [
      "8464/12153\r8465/12153\r8466/12153\r8467/12153\r8468/12153\r8469/12153\r"
     ]
    },
    {
     "name": "stdout",
     "output_type": "stream",
     "text": [
      "8470/12153\r8471/12153\r8472/12153\r8473/12153\r8474/12153\r8475/12153\r8476/12153"
     ]
    },
    {
     "name": "stdout",
     "output_type": "stream",
     "text": [
      "\r8477/12153\r8478/12153\r8479/12153\r8480/12153\r8481/12153\r8482/12153\r8483/12153\r"
     ]
    },
    {
     "name": "stdout",
     "output_type": "stream",
     "text": [
      "8484/12153\r8485/12153\r8486/12153\r8487/12153\r8488/12153\r8489/12153\r"
     ]
    },
    {
     "name": "stdout",
     "output_type": "stream",
     "text": [
      "8490/12153\r8491/12153\r8492/12153\r8493/12153\r8494/12153\r"
     ]
    },
    {
     "name": "stdout",
     "output_type": "stream",
     "text": [
      "8495/12153\r8496/12153\r8497/12153\r8498/12153\r8499/12153\r8500/12153\r8501/12153\r"
     ]
    },
    {
     "name": "stdout",
     "output_type": "stream",
     "text": [
      "8502/12153\r8503/12153\r8504/12153\r8505/12153\r8506/12153\r8507/12153\r8508/12153\r"
     ]
    },
    {
     "name": "stdout",
     "output_type": "stream",
     "text": [
      "8509/12153\r8510/12153\r8511/12153\r8512/12153\r8513/12153\r8514/12153\r8515/12153\r"
     ]
    },
    {
     "name": "stdout",
     "output_type": "stream",
     "text": [
      "8516/12153\r8517/12153\r8518/12153\r8519/12153\r8520/12153\r8521/12153\r8522/12153\r"
     ]
    },
    {
     "name": "stdout",
     "output_type": "stream",
     "text": [
      "8523/12153\r8524/12153\r8525/12153\r8526/12153\r8527/12153\r8528/12153\r8529/12153"
     ]
    },
    {
     "name": "stdout",
     "output_type": "stream",
     "text": [
      "\r8530/12153\r8531/12153\r8532/12153\r8533/12153\r8534/12153\r8535/12153\r8536/12153\r"
     ]
    },
    {
     "name": "stdout",
     "output_type": "stream",
     "text": [
      "8537/12153\r8538/12153\r8539/12153\r8540/12153\r8541/12153\r8542/12153\r8543/12153\r"
     ]
    },
    {
     "name": "stdout",
     "output_type": "stream",
     "text": [
      "8544/12153\r8545/12153\r8546/12153\r8547/12153\r8548/12153\r8549/12153\r"
     ]
    },
    {
     "name": "stdout",
     "output_type": "stream",
     "text": [
      "8550/12153\r8551/12153\r8552/12153\r8553/12153\r8554/12153\r8555/12153\r"
     ]
    },
    {
     "name": "stdout",
     "output_type": "stream",
     "text": [
      "8556/12153\r8557/12153\r8558/12153\r8559/12153\r8560/12153\r8561/12153\r"
     ]
    },
    {
     "name": "stdout",
     "output_type": "stream",
     "text": [
      "8562/12153\r8563/12153\r8564/12153\r8565/12153\r8566/12153\r8567/12153\r"
     ]
    },
    {
     "name": "stdout",
     "output_type": "stream",
     "text": [
      "8568/12153\r8569/12153\r8570/12153\r8571/12153\r8572/12153\r8573/12153\r"
     ]
    },
    {
     "name": "stdout",
     "output_type": "stream",
     "text": [
      "8574/12153\r8575/12153\r8576/12153\r8577/12153\r8578/12153\r8579/12153\r8580/12153\r"
     ]
    },
    {
     "name": "stdout",
     "output_type": "stream",
     "text": [
      "8581/12153\r8582/12153\r8583/12153\r8584/12153\r8585/12153\r8586/12153\r"
     ]
    },
    {
     "name": "stdout",
     "output_type": "stream",
     "text": [
      "8587/12153\r8588/12153\r8589/12153\r8590/12153\r8591/12153\r8592/12153\r"
     ]
    },
    {
     "name": "stdout",
     "output_type": "stream",
     "text": [
      "8593/12153\r8594/12153\r8595/12153\r8596/12153\r8597/12153\r8598/12153\r"
     ]
    },
    {
     "name": "stdout",
     "output_type": "stream",
     "text": [
      "8599/12153\r8600/12153\r8601/12153\r8602/12153\r8603/12153\r8604/12153\r"
     ]
    },
    {
     "name": "stdout",
     "output_type": "stream",
     "text": [
      "8605/12153\r8606/12153\r8607/12153\r8608/12153\r8609/12153\r8610/12153\r"
     ]
    },
    {
     "name": "stdout",
     "output_type": "stream",
     "text": [
      "8611/12153\r8612/12153\r8613/12153\r8614/12153\r8615/12153\r8616/12153\r"
     ]
    },
    {
     "name": "stdout",
     "output_type": "stream",
     "text": [
      "8617/12153\r8618/12153\r8619/12153\r8620/12153\r8621/12153\r8622/12153\r8623/12153\r"
     ]
    },
    {
     "name": "stdout",
     "output_type": "stream",
     "text": [
      "8624/12153\r8625/12153\r8626/12153\r8627/12153\r8628/12153\r8629/12153\r"
     ]
    },
    {
     "name": "stdout",
     "output_type": "stream",
     "text": [
      "8630/12153\r8631/12153\r8632/12153\r8633/12153\r8634/12153\r8635/12153\r"
     ]
    },
    {
     "name": "stdout",
     "output_type": "stream",
     "text": [
      "8636/12153\r8637/12153\r8638/12153\r8639/12153\r8640/12153\r8641/12153\r8642/12153\r"
     ]
    },
    {
     "name": "stdout",
     "output_type": "stream",
     "text": [
      "8643/12153\r8644/12153\r8645/12153\r8646/12153\r8647/12153\r8648/12153\r"
     ]
    },
    {
     "name": "stdout",
     "output_type": "stream",
     "text": [
      "8649/12153\r8650/12153\r8651/12153\r8652/12153\r8653/12153\r"
     ]
    },
    {
     "name": "stdout",
     "output_type": "stream",
     "text": [
      "8654/12153\r8655/12153\r8656/12153\r8657/12153\r"
     ]
    },
    {
     "name": "stdout",
     "output_type": "stream",
     "text": [
      "8658/12153\r8659/12153\r8660/12153\r8661/12153\r"
     ]
    },
    {
     "name": "stdout",
     "output_type": "stream",
     "text": [
      "8662/12153\r8663/12153\r8664/12153\r8665/12153\r8666/12153\r8667/12153\r"
     ]
    },
    {
     "name": "stdout",
     "output_type": "stream",
     "text": [
      "8668/12153\r8669/12153\r8670/12153\r8671/12153\r8672/12153\r8673/12153\r"
     ]
    },
    {
     "name": "stdout",
     "output_type": "stream",
     "text": [
      "8674/12153\r8675/12153\r8676/12153\r8677/12153\r8678/12153\r8679/12153\r8680/12153\r"
     ]
    },
    {
     "name": "stdout",
     "output_type": "stream",
     "text": [
      "8681/12153\r8682/12153\r8683/12153\r8684/12153\r8685/12153\r8686/12153\r"
     ]
    },
    {
     "name": "stdout",
     "output_type": "stream",
     "text": [
      "8687/12153\r8688/12153\r8689/12153\r8690/12153\r8691/12153\r8692/12153\r"
     ]
    },
    {
     "name": "stdout",
     "output_type": "stream",
     "text": [
      "8693/12153\r8694/12153\r8695/12153\r8696/12153\r8697/12153\r8698/12153\r8699/12153\r"
     ]
    },
    {
     "name": "stdout",
     "output_type": "stream",
     "text": [
      "8700/12153\r8701/12153\r8702/12153\r8703/12153\r8704/12153\r8705/12153\r8706/12153\r"
     ]
    },
    {
     "name": "stdout",
     "output_type": "stream",
     "text": [
      "8707/12153\r8708/12153\r8709/12153\r8710/12153\r8711/12153\r8712/12153\r"
     ]
    },
    {
     "name": "stdout",
     "output_type": "stream",
     "text": [
      "8713/12153\r8714/12153\r8715/12153\r8716/12153\r8717/12153\r"
     ]
    },
    {
     "name": "stdout",
     "output_type": "stream",
     "text": [
      "8718/12153\r8719/12153\r8720/12153\r8721/12153\r"
     ]
    },
    {
     "name": "stdout",
     "output_type": "stream",
     "text": [
      "8722/12153\r8723/12153\r8724/12153\r"
     ]
    },
    {
     "name": "stdout",
     "output_type": "stream",
     "text": [
      "8725/12153\r8726/12153\r8727/12153\r8728/12153\r8729/12153\r"
     ]
    },
    {
     "name": "stdout",
     "output_type": "stream",
     "text": [
      "8730/12153\r8731/12153\r8732/12153\r8733/12153\r8734/12153\r"
     ]
    },
    {
     "name": "stdout",
     "output_type": "stream",
     "text": [
      "8735/12153\r8736/12153\r8737/12153\r8738/12153\r8739/12153\r"
     ]
    },
    {
     "name": "stdout",
     "output_type": "stream",
     "text": [
      "8740/12153\r8741/12153\r8742/12153\r8743/12153\r8744/12153\r"
     ]
    },
    {
     "name": "stdout",
     "output_type": "stream",
     "text": [
      "8745/12153\r8746/12153\r8747/12153\r8748/12153\r8749/12153\r"
     ]
    },
    {
     "name": "stdout",
     "output_type": "stream",
     "text": [
      "8750/12153\r8751/12153\r8752/12153\r8753/12153\r8754/12153\r"
     ]
    },
    {
     "name": "stdout",
     "output_type": "stream",
     "text": [
      "8755/12153\r8756/12153\r8757/12153\r8758/12153\r8759/12153\r"
     ]
    },
    {
     "name": "stdout",
     "output_type": "stream",
     "text": [
      "8760/12153\r8761/12153\r8762/12153\r8763/12153\r8764/12153\r"
     ]
    },
    {
     "name": "stdout",
     "output_type": "stream",
     "text": [
      "8765/12153\r8766/12153\r8767/12153\r8768/12153\r8769/12153\r8770/12153\r"
     ]
    },
    {
     "name": "stdout",
     "output_type": "stream",
     "text": [
      "8771/12153\r8772/12153\r8773/12153\r8774/12153\r8775/12153\r"
     ]
    },
    {
     "name": "stdout",
     "output_type": "stream",
     "text": [
      "8776/12153\r8777/12153\r8778/12153\r8779/12153\r8780/12153\r"
     ]
    },
    {
     "name": "stdout",
     "output_type": "stream",
     "text": [
      "8781/12153\r8782/12153\r8783/12153\r8784/12153\r8785/12153\r"
     ]
    },
    {
     "name": "stdout",
     "output_type": "stream",
     "text": [
      "8786/12153\r8787/12153\r8788/12153\r8789/12153\r8790/12153\r"
     ]
    },
    {
     "name": "stdout",
     "output_type": "stream",
     "text": [
      "8791/12153\r8792/12153\r8793/12153\r8794/12153\r8795/12153\r8796/12153\r8797/12153\r"
     ]
    },
    {
     "name": "stdout",
     "output_type": "stream",
     "text": [
      "8798/12153\r8799/12153\r8800/12153\r8801/12153\r8802/12153\r8803/12153"
     ]
    },
    {
     "name": "stdout",
     "output_type": "stream",
     "text": [
      "\r8804/12153\r8805/12153\r8806/12153\r8807/12153\r8808/12153\r8809/12153"
     ]
    },
    {
     "name": "stdout",
     "output_type": "stream",
     "text": [
      "\r8810/12153\r8811/12153\r8812/12153\r8813/12153\r"
     ]
    },
    {
     "name": "stdout",
     "output_type": "stream",
     "text": [
      "8814/12153\r8815/12153\r8816/12153\r8817/12153\r8818/12153\r"
     ]
    },
    {
     "name": "stdout",
     "output_type": "stream",
     "text": [
      "8819/12153\r8820/12153\r8821/12153\r8822/12153\r8823/12153\r"
     ]
    },
    {
     "name": "stdout",
     "output_type": "stream",
     "text": [
      "8824/12153\r8825/12153\r8826/12153\r8827/12153\r8828/12153\r8829/12153\r"
     ]
    },
    {
     "name": "stdout",
     "output_type": "stream",
     "text": [
      "8830/12153\r8831/12153\r8832/12153\r8833/12153\r8834/12153\r8835/12153\r8836/12153\r"
     ]
    },
    {
     "name": "stdout",
     "output_type": "stream",
     "text": [
      "8837/12153\r8838/12153\r8839/12153\r8840/12153\r8841/12153\r8842/12153\r8843/12153\r"
     ]
    },
    {
     "name": "stdout",
     "output_type": "stream",
     "text": [
      "8844/12153\r8845/12153\r8846/12153\r8847/12153\r8848/12153\r8849/12153\r"
     ]
    },
    {
     "name": "stdout",
     "output_type": "stream",
     "text": [
      "8850/12153\r8851/12153\r8852/12153\r8853/12153\r8854/12153\r8855/12153\r"
     ]
    },
    {
     "name": "stdout",
     "output_type": "stream",
     "text": [
      "8856/12153\r8857/12153\r8858/12153\r8859/12153\r8860/12153\r8861/12153\r"
     ]
    },
    {
     "name": "stdout",
     "output_type": "stream",
     "text": [
      "8862/12153\r8863/12153\r8864/12153\r8865/12153\r8866/12153\r8867/12153\r8868/12153"
     ]
    },
    {
     "name": "stdout",
     "output_type": "stream",
     "text": [
      "\r8869/12153\r8870/12153\r8871/12153\r8872/12153\r8873/12153\r8874/12153\r"
     ]
    },
    {
     "name": "stdout",
     "output_type": "stream",
     "text": [
      "8875/12153\r8876/12153\r8877/12153\r8878/12153\r8879/12153\r8880/12153\r8881/12153\r"
     ]
    },
    {
     "name": "stdout",
     "output_type": "stream",
     "text": [
      "8882/12153\r8883/12153\r8884/12153\r8885/12153\r8886/12153\r8887/12153\r"
     ]
    },
    {
     "name": "stdout",
     "output_type": "stream",
     "text": [
      "8888/12153\r8889/12153\r8890/12153\r8891/12153\r8892/12153\r8893/12153\r8894/12153\r"
     ]
    },
    {
     "name": "stdout",
     "output_type": "stream",
     "text": [
      "8895/12153\r8896/12153\r8897/12153\r8898/12153\r8899/12153\r8900/12153\r8901/12153\r"
     ]
    },
    {
     "name": "stdout",
     "output_type": "stream",
     "text": [
      "8902/12153\r8903/12153\r8904/12153\r8905/12153\r8906/12153\r8907/12153\r8908/12153\r"
     ]
    },
    {
     "name": "stdout",
     "output_type": "stream",
     "text": [
      "8909/12153\r8910/12153\r8911/12153\r8912/12153\r8913/12153\r8914/12153\r"
     ]
    },
    {
     "name": "stdout",
     "output_type": "stream",
     "text": [
      "8915/12153\r8916/12153\r8917/12153\r8918/12153\r8919/12153\r"
     ]
    },
    {
     "name": "stdout",
     "output_type": "stream",
     "text": [
      "8920/12153\r8921/12153\r8922/12153\r8923/12153\r8924/12153\r"
     ]
    },
    {
     "name": "stdout",
     "output_type": "stream",
     "text": [
      "8925/12153\r8926/12153\r8927/12153\r8928/12153\r8929/12153\r8930/12153"
     ]
    },
    {
     "name": "stdout",
     "output_type": "stream",
     "text": [
      "\r8931/12153\r8932/12153\r8933/12153\r8934/12153\r8935/12153\r"
     ]
    },
    {
     "name": "stdout",
     "output_type": "stream",
     "text": [
      "8936/12153\r8937/12153\r8938/12153\r8939/12153\r8940/12153\r"
     ]
    },
    {
     "name": "stdout",
     "output_type": "stream",
     "text": [
      "8941/12153\r8942/12153\r8943/12153\r8944/12153\r8945/12153\r8946/12153\r"
     ]
    },
    {
     "name": "stdout",
     "output_type": "stream",
     "text": [
      "8947/12153\r8948/12153\r8949/12153\r8950/12153\r8951/12153\r8952/12153\r"
     ]
    },
    {
     "name": "stdout",
     "output_type": "stream",
     "text": [
      "8953/12153\r8954/12153\r8955/12153\r8956/12153\r8957/12153\r8958/12153\r"
     ]
    },
    {
     "name": "stdout",
     "output_type": "stream",
     "text": [
      "8959/12153\r8960/12153\r8961/12153\r8962/12153\r8963/12153\r8964/12153\r8965/12153\r"
     ]
    },
    {
     "name": "stdout",
     "output_type": "stream",
     "text": [
      "8966/12153\r8967/12153\r8968/12153\r8969/12153\r8970/12153\r8971/12153\r"
     ]
    },
    {
     "name": "stdout",
     "output_type": "stream",
     "text": [
      "8972/12153\r8973/12153\r8974/12153\r8975/12153\r8976/12153\r8977/12153\r"
     ]
    },
    {
     "name": "stdout",
     "output_type": "stream",
     "text": [
      "8978/12153\r8979/12153\r8980/12153\r8981/12153\r8982/12153\r8983/12153\r"
     ]
    },
    {
     "name": "stdout",
     "output_type": "stream",
     "text": [
      "8984/12153\r8985/12153\r8986/12153\r8987/12153\r8988/12153\r8989/12153\r8990/12153\r"
     ]
    },
    {
     "name": "stdout",
     "output_type": "stream",
     "text": [
      "8991/12153\r8992/12153\r8993/12153\r8994/12153\r8995/12153\r"
     ]
    },
    {
     "name": "stdout",
     "output_type": "stream",
     "text": [
      "8996/12153\r8997/12153\r8998/12153\r8999/12153\r9000/12153\r9001/12153\r9002/12153"
     ]
    },
    {
     "name": "stdout",
     "output_type": "stream",
     "text": [
      "\r9003/12153\r9004/12153\r9005/12153\r9006/12153\r9007/12153\r9008/12153\r"
     ]
    },
    {
     "name": "stdout",
     "output_type": "stream",
     "text": [
      "9009/12153\r9010/12153\r9011/12153\r9012/12153\r9013/12153\r9014/12153\r"
     ]
    },
    {
     "name": "stdout",
     "output_type": "stream",
     "text": [
      "9015/12153\r9016/12153\r9017/12153\r9018/12153\r9019/12153\r"
     ]
    },
    {
     "name": "stdout",
     "output_type": "stream",
     "text": [
      "9020/12153\r9021/12153\r9022/12153\r9023/12153\r9024/12153\r9025/12153\r"
     ]
    },
    {
     "name": "stdout",
     "output_type": "stream",
     "text": [
      "9026/12153\r9027/12153\r9028/12153\r9029/12153\r9030/12153\r9031/12153\r"
     ]
    },
    {
     "name": "stdout",
     "output_type": "stream",
     "text": [
      "9032/12153\r9033/12153\r9034/12153\r9035/12153\r9036/12153\r9037/12153\r"
     ]
    },
    {
     "name": "stdout",
     "output_type": "stream",
     "text": [
      "9038/12153\r9039/12153\r9040/12153\r9041/12153\r9042/12153\r9043/12153\r9044/12153\r"
     ]
    },
    {
     "name": "stdout",
     "output_type": "stream",
     "text": [
      "9045/12153\r9046/12153\r9047/12153\r9048/12153\r9049/12153\r"
     ]
    },
    {
     "name": "stdout",
     "output_type": "stream",
     "text": [
      "9050/12153\r9051/12153\r9052/12153\r9053/12153\r9054/12153\r9055/12153\r"
     ]
    },
    {
     "name": "stdout",
     "output_type": "stream",
     "text": [
      "9056/12153\r9057/12153\r9058/12153\r9059/12153\r9060/12153\r9061/12153\r"
     ]
    },
    {
     "name": "stdout",
     "output_type": "stream",
     "text": [
      "9062/12153\r9063/12153\r9064/12153\r9065/12153\r9066/12153\r"
     ]
    },
    {
     "name": "stdout",
     "output_type": "stream",
     "text": [
      "9067/12153\r9068/12153\r9069/12153\r9070/12153\r9071/12153\r9072/12153\r"
     ]
    },
    {
     "name": "stdout",
     "output_type": "stream",
     "text": [
      "9073/12153\r9074/12153\r9075/12153\r9076/12153\r9077/12153\r"
     ]
    },
    {
     "name": "stdout",
     "output_type": "stream",
     "text": [
      "9078/12153\r9079/12153\r9080/12153\r9081/12153\r9082/12153\r"
     ]
    },
    {
     "name": "stdout",
     "output_type": "stream",
     "text": [
      "9083/12153\r9084/12153\r9085/12153\r9086/12153\r9087/12153\r9088/12153\r9089/12153"
     ]
    },
    {
     "name": "stdout",
     "output_type": "stream",
     "text": [
      "\r9090/12153\r9091/12153\r9092/12153\r9093/12153\r9094/12153\r9095/12153\r"
     ]
    },
    {
     "name": "stdout",
     "output_type": "stream",
     "text": [
      "9096/12153\r9097/12153\r9098/12153\r9099/12153\r9100/12153\r9101/12153\r9102/12153\r"
     ]
    },
    {
     "name": "stdout",
     "output_type": "stream",
     "text": [
      "9103/12153\r9104/12153\r9105/12153\r9106/12153\r9107/12153\r9108/12153\r9109/12153\r"
     ]
    },
    {
     "name": "stdout",
     "output_type": "stream",
     "text": [
      "9110/12153\r9111/12153\r9112/12153\r9113/12153\r9114/12153\r9115/12153\r"
     ]
    },
    {
     "name": "stdout",
     "output_type": "stream",
     "text": [
      "9116/12153\r9117/12153\r9118/12153\r9119/12153\r9120/12153\r9121/12153\r9122/12153\r"
     ]
    },
    {
     "name": "stdout",
     "output_type": "stream",
     "text": [
      "9123/12153\r9124/12153\r9125/12153\r9126/12153\r9127/12153\r9128/12153\r9129/12153\r"
     ]
    },
    {
     "name": "stdout",
     "output_type": "stream",
     "text": [
      "9130/12153\r9131/12153\r9132/12153\r9133/12153\r9134/12153\r9135/12153\r"
     ]
    },
    {
     "name": "stdout",
     "output_type": "stream",
     "text": [
      "9136/12153\r9137/12153\r9138/12153\r9139/12153\r9140/12153\r9141/12153\r9142/12153\r"
     ]
    },
    {
     "name": "stdout",
     "output_type": "stream",
     "text": [
      "9143/12153\r9144/12153\r9145/12153"
     ]
    },
    {
     "name": "stdout",
     "output_type": "stream",
     "text": [
      "\r9146/12153\r9147/12153\r9148/12153\r9149/12153\r9150/12153\r9151/12153\r"
     ]
    },
    {
     "name": "stdout",
     "output_type": "stream",
     "text": [
      "9152/12153\r9153/12153\r9154/12153\r9155/12153\r9156/12153\r"
     ]
    },
    {
     "name": "stdout",
     "output_type": "stream",
     "text": [
      "9157/12153\r9158/12153\r9159/12153\r9160/12153\r9161/12153\r9162/12153\r9163/12153\r"
     ]
    },
    {
     "name": "stdout",
     "output_type": "stream",
     "text": [
      "9164/12153\r9165/12153\r9166/12153\r9167/12153\r9168/12153\r9169/12153\r9170/12153\r"
     ]
    },
    {
     "name": "stdout",
     "output_type": "stream",
     "text": [
      "9171/12153\r9172/12153\r9173/12153\r9174/12153\r9175/12153\r"
     ]
    },
    {
     "name": "stdout",
     "output_type": "stream",
     "text": [
      "9176/12153\r9177/12153\r9178/12153\r9179/12153\r9180/12153\r9181/12153\r9182/12153\r"
     ]
    },
    {
     "name": "stdout",
     "output_type": "stream",
     "text": [
      "9183/12153\r9184/12153\r9185/12153\r9186/12153\r9187/12153\r9188/12153\r9189/12153\r"
     ]
    },
    {
     "name": "stdout",
     "output_type": "stream",
     "text": [
      "9190/12153\r9191/12153\r9192/12153\r9193/12153\r9194/12153\r9195/12153\r"
     ]
    },
    {
     "name": "stdout",
     "output_type": "stream",
     "text": [
      "9196/12153\r9197/12153\r9198/12153\r9199/12153\r9200/12153\r9201/12153\r"
     ]
    },
    {
     "name": "stdout",
     "output_type": "stream",
     "text": [
      "9202/12153\r9203/12153\r9204/12153\r9205/12153\r9206/12153\r9207/12153\r9208/12153\r"
     ]
    },
    {
     "name": "stdout",
     "output_type": "stream",
     "text": [
      "9209/12153\r9210/12153\r9211/12153\r9212/12153\r9213/12153\r9214/12153\r9215/12153\r"
     ]
    },
    {
     "name": "stdout",
     "output_type": "stream",
     "text": [
      "9216/12153\r9217/12153\r9218/12153\r"
     ]
    },
    {
     "name": "stdout",
     "output_type": "stream",
     "text": [
      "9219/12153\r9220/12153\r9221/12153\r9222/12153\r"
     ]
    },
    {
     "name": "stdout",
     "output_type": "stream",
     "text": [
      "9223/12153\r9224/12153\r9225/12153\r9226/12153\r"
     ]
    },
    {
     "name": "stdout",
     "output_type": "stream",
     "text": [
      "9227/12153\r9228/12153\r9229/12153\r9230/12153\r9231/12153\r"
     ]
    },
    {
     "name": "stdout",
     "output_type": "stream",
     "text": [
      "9232/12153\r9233/12153\r9234/12153\r9235/12153\r9236/12153\r9237/12153\r"
     ]
    },
    {
     "name": "stdout",
     "output_type": "stream",
     "text": [
      "9238/12153\r9239/12153\r9240/12153\r9241/12153\r9242/12153\r9243/12153\r"
     ]
    },
    {
     "name": "stdout",
     "output_type": "stream",
     "text": [
      "9244/12153\r9245/12153\r9246/12153\r9247/12153\r9248/12153\r9249/12153\r9250/12153\r"
     ]
    },
    {
     "name": "stdout",
     "output_type": "stream",
     "text": [
      "9251/12153\r9252/12153\r9253/12153\r9254/12153\r9255/12153\r9256/12153\r9257/12153\r"
     ]
    },
    {
     "name": "stdout",
     "output_type": "stream",
     "text": [
      "9258/12153\r9259/12153\r9260/12153\r9261/12153\r9262/12153\r9263/12153\r9264/12153\r"
     ]
    },
    {
     "name": "stdout",
     "output_type": "stream",
     "text": [
      "9265/12153\r9266/12153\r9267/12153\r9268/12153\r9269/12153\r9270/12153\r9271/12153\r"
     ]
    },
    {
     "name": "stdout",
     "output_type": "stream",
     "text": [
      "9272/12153\r9273/12153\r9274/12153\r9275/12153\r9276/12153\r9277/12153\r9278/12153\r"
     ]
    },
    {
     "name": "stdout",
     "output_type": "stream",
     "text": [
      "9279/12153\r9280/12153\r9281/12153\r9282/12153\r9283/12153\r9284/12153\r"
     ]
    },
    {
     "name": "stdout",
     "output_type": "stream",
     "text": [
      "9285/12153\r9286/12153\r9287/12153\r9288/12153\r9289/12153\r9290/12153\r"
     ]
    },
    {
     "name": "stdout",
     "output_type": "stream",
     "text": [
      "9291/12153\r9292/12153\r9293/12153\r9294/12153\r9295/12153\r9296/12153\r9297/12153\r"
     ]
    },
    {
     "name": "stdout",
     "output_type": "stream",
     "text": [
      "9298/12153\r9299/12153\r9300/12153\r9301/12153\r9302/12153\r"
     ]
    },
    {
     "name": "stdout",
     "output_type": "stream",
     "text": [
      "9303/12153\r9304/12153\r9305/12153\r9306/12153\r9307/12153\r9308/12153\r"
     ]
    },
    {
     "name": "stdout",
     "output_type": "stream",
     "text": [
      "9309/12153\r9310/12153\r9311/12153\r9312/12153\r9313/12153\r9314/12153\r"
     ]
    },
    {
     "name": "stdout",
     "output_type": "stream",
     "text": [
      "9315/12153\r9316/12153\r9317/12153\r9318/12153\r9319/12153\r"
     ]
    },
    {
     "name": "stdout",
     "output_type": "stream",
     "text": [
      "9320/12153\r9321/12153\r9322/12153\r9323/12153\r9324/12153\r9325/12153\r"
     ]
    },
    {
     "name": "stdout",
     "output_type": "stream",
     "text": [
      "9326/12153\r9327/12153\r9328/12153\r9329/12153\r9330/12153\r9331/12153\r9332/12153"
     ]
    },
    {
     "name": "stdout",
     "output_type": "stream",
     "text": [
      "\r9333/12153\r9334/12153\r9335/12153\r9336/12153\r9337/12153\r9338/12153\r"
     ]
    },
    {
     "name": "stdout",
     "output_type": "stream",
     "text": [
      "9339/12153\r9340/12153\r9341/12153\r9342/12153\r9343/12153\r9344/12153\r"
     ]
    },
    {
     "name": "stdout",
     "output_type": "stream",
     "text": [
      "9345/12153\r9346/12153\r9347/12153\r9348/12153\r9349/12153\r9350/12153\r"
     ]
    },
    {
     "name": "stdout",
     "output_type": "stream",
     "text": [
      "9351/12153\r9352/12153\r9353/12153\r9354/12153\r9355/12153\r9356/12153\r"
     ]
    },
    {
     "name": "stdout",
     "output_type": "stream",
     "text": [
      "9357/12153\r9358/12153\r9359/12153\r9360/12153\r9361/12153\r9362/12153\r9363/12153\r"
     ]
    },
    {
     "name": "stdout",
     "output_type": "stream",
     "text": [
      "9364/12153\r9365/12153\r9366/12153\r9367/12153\r9368/12153\r9369/12153\r9370/12153\r"
     ]
    },
    {
     "name": "stdout",
     "output_type": "stream",
     "text": [
      "9371/12153\r9372/12153\r9373/12153\r9374/12153\r9375/12153\r9376/12153\r9377/12153\r"
     ]
    },
    {
     "name": "stdout",
     "output_type": "stream",
     "text": [
      "9378/12153\r9379/12153\r9380/12153\r9381/12153\r9382/12153\r9383/12153\r"
     ]
    },
    {
     "name": "stdout",
     "output_type": "stream",
     "text": [
      "9384/12153\r9385/12153\r9386/12153\r9387/12153\r9388/12153\r9389/12153\r9390/12153\r"
     ]
    },
    {
     "name": "stdout",
     "output_type": "stream",
     "text": [
      "9391/12153\r9392/12153\r9393/12153\r9394/12153\r9395/12153\r9396/12153\r9397/12153\r"
     ]
    },
    {
     "name": "stdout",
     "output_type": "stream",
     "text": [
      "9398/12153\r9399/12153\r9400/12153\r9401/12153\r9402/12153\r9403/12153\r9404/12153\r"
     ]
    },
    {
     "name": "stdout",
     "output_type": "stream",
     "text": [
      "9405/12153\r9406/12153\r9407/12153\r9408/12153\r9409/12153\r9410/12153\r"
     ]
    },
    {
     "name": "stdout",
     "output_type": "stream",
     "text": [
      "9411/12153\r9412/12153\r9413/12153\r9414/12153\r9415/12153\r9416/12153\r9417/12153\r"
     ]
    },
    {
     "name": "stdout",
     "output_type": "stream",
     "text": [
      "9418/12153\r9419/12153\r9420/12153\r9421/12153\r9422/12153\r9423/12153\r"
     ]
    },
    {
     "name": "stdout",
     "output_type": "stream",
     "text": [
      "9424/12153\r9425/12153\r9426/12153\r9427/12153\r9428/12153\r9429/12153\r9430/12153\r"
     ]
    },
    {
     "name": "stdout",
     "output_type": "stream",
     "text": [
      "9431/12153\r9432/12153\r9433/12153\r9434/12153\r9435/12153\r9436/12153\r9437/12153\r"
     ]
    },
    {
     "name": "stdout",
     "output_type": "stream",
     "text": [
      "9438/12153\r9439/12153\r9440/12153\r9441/12153\r9442/12153\r9443/12153\r"
     ]
    },
    {
     "name": "stdout",
     "output_type": "stream",
     "text": [
      "9444/12153\r9445/12153\r9446/12153\r9447/12153\r9448/12153\r"
     ]
    },
    {
     "name": "stdout",
     "output_type": "stream",
     "text": [
      "9449/12153\r9450/12153\r9451/12153\r9452/12153\r9453/12153\r9454/12153\r"
     ]
    },
    {
     "name": "stdout",
     "output_type": "stream",
     "text": [
      "9455/12153\r9456/12153\r9457/12153\r9458/12153\r9459/12153\r9460/12153\r9461/12153\r"
     ]
    },
    {
     "name": "stdout",
     "output_type": "stream",
     "text": [
      "9462/12153\r9463/12153\r9464/12153\r9465/12153\r9466/12153\r9467/12153\r9468/12153\r"
     ]
    },
    {
     "name": "stdout",
     "output_type": "stream",
     "text": [
      "9469/12153\r9470/12153\r9471/12153\r9472/12153\r9473/12153\r9474/12153\r"
     ]
    },
    {
     "name": "stdout",
     "output_type": "stream",
     "text": [
      "9475/12153\r9476/12153\r"
     ]
    },
    {
     "name": "stdout",
     "output_type": "stream",
     "text": [
      "9477/12153\r9478/12153\r9479/12153\r"
     ]
    },
    {
     "name": "stdout",
     "output_type": "stream",
     "text": [
      "9480/12153\r9481/12153\r9482/12153\r9483/12153\r9484/12153\r9485/12153\r"
     ]
    },
    {
     "name": "stdout",
     "output_type": "stream",
     "text": [
      "9486/12153\r9487/12153\r9488/12153\r9489/12153\r9490/12153\r9491/12153\r9492/12153\r"
     ]
    },
    {
     "name": "stdout",
     "output_type": "stream",
     "text": [
      "9493/12153\r9494/12153\r9495/12153\r9496/12153\r9497/12153\r9498/12153\r9499/12153"
     ]
    },
    {
     "name": "stdout",
     "output_type": "stream",
     "text": [
      "\r9500/12153\r9501/12153\r9502/12153\r9503/12153\r9504/12153\r"
     ]
    },
    {
     "name": "stdout",
     "output_type": "stream",
     "text": [
      "9505/12153\r9506/12153\r9507/12153\r9508/12153\r9509/12153\r9510/12153\r"
     ]
    },
    {
     "name": "stdout",
     "output_type": "stream",
     "text": [
      "9511/12153\r9512/12153\r9513/12153\r9514/12153\r9515/12153\r9516/12153\r9517/12153\r"
     ]
    },
    {
     "name": "stdout",
     "output_type": "stream",
     "text": [
      "9518/12153\r9519/12153\r9520/12153\r9521/12153\r9522/12153\r9523/12153\r9524/12153\r"
     ]
    },
    {
     "name": "stdout",
     "output_type": "stream",
     "text": [
      "9525/12153\r9526/12153\r9527/12153\r9528/12153\r9529/12153\r9530/12153\r"
     ]
    },
    {
     "name": "stdout",
     "output_type": "stream",
     "text": [
      "9531/12153\r9532/12153\r9533/12153\r9534/12153\r9535/12153\r9536/12153\r"
     ]
    },
    {
     "name": "stdout",
     "output_type": "stream",
     "text": [
      "9537/12153\r9538/12153\r9539/12153\r9540/12153\r9541/12153\r9542/12153\r"
     ]
    },
    {
     "name": "stdout",
     "output_type": "stream",
     "text": [
      "9543/12153\r9544/12153\r9545/12153\r9546/12153\r9547/12153\r9548/12153\r9549/12153\r"
     ]
    },
    {
     "name": "stdout",
     "output_type": "stream",
     "text": [
      "9550/12153\r9551/12153\r9552/12153\r9553/12153\r9554/12153\r9555/12153\r9556/12153"
     ]
    },
    {
     "name": "stdout",
     "output_type": "stream",
     "text": [
      "\r9557/12153\r9558/12153\r9559/12153\r9560/12153\r9561/12153\r9562/12153\r"
     ]
    },
    {
     "name": "stdout",
     "output_type": "stream",
     "text": [
      "9563/12153\r9564/12153\r9565/12153\r9566/12153\r9567/12153\r9568/12153\r"
     ]
    },
    {
     "name": "stdout",
     "output_type": "stream",
     "text": [
      "9569/12153\r9570/12153\r9571/12153\r9572/12153\r9573/12153\r9574/12153\r"
     ]
    },
    {
     "name": "stdout",
     "output_type": "stream",
     "text": [
      "9575/12153\r9576/12153\r9577/12153\r9578/12153\r9579/12153\r9580/12153\r"
     ]
    },
    {
     "name": "stdout",
     "output_type": "stream",
     "text": [
      "9581/12153\r9582/12153\r9583/12153\r9584/12153\r9585/12153\r"
     ]
    },
    {
     "name": "stdout",
     "output_type": "stream",
     "text": [
      "9586/12153\r9587/12153\r9588/12153\r"
     ]
    },
    {
     "name": "stdout",
     "output_type": "stream",
     "text": [
      "9589/12153\r9590/12153\r9591/12153\r9592/12153\r"
     ]
    },
    {
     "name": "stdout",
     "output_type": "stream",
     "text": [
      "9593/12153\r9594/12153\r9595/12153\r"
     ]
    },
    {
     "name": "stdout",
     "output_type": "stream",
     "text": [
      "9596/12153\r9597/12153\r9598/12153\r9599/12153\r9600/12153\r9601/12153\r9602/12153\r"
     ]
    },
    {
     "name": "stdout",
     "output_type": "stream",
     "text": [
      "9603/12153\r9604/12153\r9605/12153\r9606/12153\r9607/12153\r9608/12153\r"
     ]
    },
    {
     "name": "stdout",
     "output_type": "stream",
     "text": [
      "9609/12153\r9610/12153\r9611/12153\r9612/12153\r9613/12153\r9614/12153\r9615/12153\r"
     ]
    },
    {
     "name": "stdout",
     "output_type": "stream",
     "text": [
      "9616/12153\r9617/12153\r9618/12153\r9619/12153\r9620/12153\r9621/12153\r"
     ]
    },
    {
     "name": "stdout",
     "output_type": "stream",
     "text": [
      "9622/12153\r9623/12153\r9624/12153\r9625/12153\r"
     ]
    },
    {
     "name": "stdout",
     "output_type": "stream",
     "text": [
      "9626/12153\r9627/12153\r9628/12153\r9629/12153\r9630/12153\r"
     ]
    },
    {
     "name": "stdout",
     "output_type": "stream",
     "text": [
      "9631/12153\r9632/12153\r9633/12153\r9634/12153\r9635/12153\r9636/12153\r"
     ]
    },
    {
     "name": "stdout",
     "output_type": "stream",
     "text": [
      "9637/12153\r9638/12153\r9639/12153\r9640/12153\r9641/12153\r9642/12153\r"
     ]
    },
    {
     "name": "stdout",
     "output_type": "stream",
     "text": [
      "9643/12153\r9644/12153\r9645/12153\r9646/12153\r9647/12153\r9648/12153\r9649/12153"
     ]
    },
    {
     "name": "stdout",
     "output_type": "stream",
     "text": [
      "\r9650/12153\r9651/12153\r9652/12153\r9653/12153\r9654/12153\r9655/12153\r"
     ]
    },
    {
     "name": "stdout",
     "output_type": "stream",
     "text": [
      "9656/12153\r9657/12153\r9658/12153\r9659/12153\r9660/12153\r9661/12153\r9662/12153\r"
     ]
    },
    {
     "name": "stdout",
     "output_type": "stream",
     "text": [
      "9663/12153\r9664/12153\r9665/12153\r9666/12153\r9667/12153\r9668/12153\r"
     ]
    },
    {
     "name": "stdout",
     "output_type": "stream",
     "text": [
      "9669/12153\r9670/12153\r9671/12153\r9672/12153\r9673/12153\r9674/12153\r"
     ]
    },
    {
     "name": "stdout",
     "output_type": "stream",
     "text": [
      "9675/12153\r9676/12153\r9677/12153\r9678/12153\r9679/12153\r9680/12153\r9681/12153\r"
     ]
    },
    {
     "name": "stdout",
     "output_type": "stream",
     "text": [
      "9682/12153\r9683/12153\r9684/12153\r9685/12153\r9686/12153\r9687/12153\r9688/12153\r"
     ]
    },
    {
     "name": "stdout",
     "output_type": "stream",
     "text": [
      "9689/12153\r9690/12153\r9691/12153\r9692/12153\r9693/12153\r9694/12153\r9695/12153"
     ]
    },
    {
     "name": "stdout",
     "output_type": "stream",
     "text": [
      "\r9696/12153\r9697/12153\r9698/12153\r9699/12153\r9700/12153\r9701/12153\r"
     ]
    },
    {
     "name": "stdout",
     "output_type": "stream",
     "text": [
      "9702/12153\r9703/12153\r9704/12153\r9705/12153\r9706/12153\r"
     ]
    },
    {
     "name": "stdout",
     "output_type": "stream",
     "text": [
      "9707/12153\r9708/12153\r9709/12153\r9710/12153\r"
     ]
    },
    {
     "name": "stdout",
     "output_type": "stream",
     "text": [
      "9711/12153\r9712/12153\r9713/12153\r9714/12153\r9715/12153\r9716/12153\r"
     ]
    },
    {
     "name": "stdout",
     "output_type": "stream",
     "text": [
      "9717/12153\r9718/12153\r9719/12153\r9720/12153\r9721/12153\r9722/12153\r"
     ]
    },
    {
     "name": "stdout",
     "output_type": "stream",
     "text": [
      "9723/12153\r9724/12153\r9725/12153\r9726/12153\r9727/12153\r9728/12153\r"
     ]
    },
    {
     "name": "stdout",
     "output_type": "stream",
     "text": [
      "9729/12153\r9730/12153\r9731/12153\r9732/12153\r9733/12153\r9734/12153\r"
     ]
    },
    {
     "name": "stdout",
     "output_type": "stream",
     "text": [
      "9735/12153\r9736/12153\r9737/12153\r9738/12153\r9739/12153\r9740/12153\r"
     ]
    },
    {
     "name": "stdout",
     "output_type": "stream",
     "text": [
      "9741/12153\r9742/12153\r9743/12153\r9744/12153\r9745/12153\r9746/12153\r"
     ]
    },
    {
     "name": "stdout",
     "output_type": "stream",
     "text": [
      "9747/12153\r9748/12153\r9749/12153\r9750/12153\r9751/12153\r9752/12153\r"
     ]
    },
    {
     "name": "stdout",
     "output_type": "stream",
     "text": [
      "9753/12153\r9754/12153\r9755/12153\r9756/12153\r9757/12153\r9758/12153\r"
     ]
    },
    {
     "name": "stdout",
     "output_type": "stream",
     "text": [
      "9759/12153\r9760/12153\r9761/12153\r9762/12153\r9763/12153\r9764/12153\r9765/12153\r"
     ]
    },
    {
     "name": "stdout",
     "output_type": "stream",
     "text": [
      "9766/12153\r9767/12153\r9768/12153\r9769/12153\r9770/12153\r9771/12153\r9772/12153"
     ]
    },
    {
     "name": "stdout",
     "output_type": "stream",
     "text": [
      "\r9773/12153\r9774/12153\r9775/12153\r9776/12153\r9777/12153\r9778/12153\r"
     ]
    },
    {
     "name": "stdout",
     "output_type": "stream",
     "text": [
      "9779/12153\r9780/12153\r9781/12153\r9782/12153\r9783/12153\r9784/12153\r9785/12153\r"
     ]
    },
    {
     "name": "stdout",
     "output_type": "stream",
     "text": [
      "9786/12153\r9787/12153\r9788/12153\r9789/12153\r9790/12153\r9791/12153\r9792/12153\r"
     ]
    },
    {
     "name": "stdout",
     "output_type": "stream",
     "text": [
      "9793/12153\r9794/12153\r9795/12153\r9796/12153\r9797/12153\r9798/12153\r"
     ]
    },
    {
     "name": "stdout",
     "output_type": "stream",
     "text": [
      "9799/12153\r9800/12153\r9801/12153\r9802/12153\r9803/12153\r9804/12153\r"
     ]
    },
    {
     "name": "stdout",
     "output_type": "stream",
     "text": [
      "9805/12153\r9806/12153\r9807/12153\r9808/12153\r9809/12153\r9810/12153\r"
     ]
    },
    {
     "name": "stdout",
     "output_type": "stream",
     "text": [
      "9811/12153\r9812/12153\r9813/12153\r9814/12153\r9815/12153\r9816/12153\r"
     ]
    },
    {
     "name": "stdout",
     "output_type": "stream",
     "text": [
      "9817/12153\r9818/12153\r9819/12153\r9820/12153\r9821/12153\r9822/12153\r"
     ]
    },
    {
     "name": "stdout",
     "output_type": "stream",
     "text": [
      "9823/12153\r9824/12153\r9825/12153\r9826/12153\r9827/12153\r9828/12153\r"
     ]
    },
    {
     "name": "stdout",
     "output_type": "stream",
     "text": [
      "9829/12153\r9830/12153\r9831/12153\r9832/12153\r9833/12153\r9834/12153\r"
     ]
    },
    {
     "name": "stdout",
     "output_type": "stream",
     "text": [
      "9835/12153\r9836/12153\r9837/12153\r9838/12153\r9839/12153\r9840/12153\r"
     ]
    },
    {
     "name": "stdout",
     "output_type": "stream",
     "text": [
      "9841/12153\r9842/12153\r9843/12153\r9844/12153\r9845/12153\r9846/12153\r"
     ]
    },
    {
     "name": "stdout",
     "output_type": "stream",
     "text": [
      "9847/12153\r9848/12153\r9849/12153\r9850/12153\r9851/12153\r"
     ]
    },
    {
     "name": "stdout",
     "output_type": "stream",
     "text": [
      "9852/12153\r9853/12153\r9854/12153\r9855/12153\r9856/12153\r9857/12153\r"
     ]
    },
    {
     "name": "stdout",
     "output_type": "stream",
     "text": [
      "9858/12153\r9859/12153\r9860/12153\r9861/12153\r9862/12153\r9863/12153\r9864/12153\r"
     ]
    },
    {
     "name": "stdout",
     "output_type": "stream",
     "text": [
      "9865/12153\r9866/12153\r9867/12153\r9868/12153\r9869/12153\r9870/12153\r9871/12153\r"
     ]
    },
    {
     "name": "stdout",
     "output_type": "stream",
     "text": [
      "9872/12153\r9873/12153\r9874/12153\r9875/12153\r9876/12153\r9877/12153\r9878/12153"
     ]
    },
    {
     "name": "stdout",
     "output_type": "stream",
     "text": [
      "\r9879/12153\r9880/12153\r9881/12153\r9882/12153\r9883/12153\r9884/12153\r9885/12153\r"
     ]
    },
    {
     "name": "stdout",
     "output_type": "stream",
     "text": [
      "9886/12153\r9887/12153\r9888/12153\r9889/12153\r9890/12153\r9891/12153\r"
     ]
    },
    {
     "name": "stdout",
     "output_type": "stream",
     "text": [
      "9892/12153\r9893/12153\r9894/12153\r9895/12153\r9896/12153\r9897/12153\r"
     ]
    },
    {
     "name": "stdout",
     "output_type": "stream",
     "text": [
      "9898/12153\r9899/12153\r9900/12153\r9901/12153\r9902/12153\r9903/12153\r"
     ]
    },
    {
     "name": "stdout",
     "output_type": "stream",
     "text": [
      "9904/12153\r9905/12153\r9906/12153\r9907/12153\r9908/12153\r9909/12153\r9910/12153\r"
     ]
    },
    {
     "name": "stdout",
     "output_type": "stream",
     "text": [
      "9911/12153\r9912/12153\r9913/12153\r9914/12153\r9915/12153\r9916/12153\r"
     ]
    },
    {
     "name": "stdout",
     "output_type": "stream",
     "text": [
      "9917/12153\r9918/12153\r9919/12153\r9920/12153\r9921/12153\r"
     ]
    },
    {
     "name": "stdout",
     "output_type": "stream",
     "text": [
      "9922/12153\r9923/12153\r9924/12153\r9925/12153\r9926/12153\r"
     ]
    },
    {
     "name": "stdout",
     "output_type": "stream",
     "text": [
      "9927/12153\r9928/12153\r9929/12153\r9930/12153\r9931/12153\r"
     ]
    },
    {
     "name": "stdout",
     "output_type": "stream",
     "text": [
      "9932/12153\r9933/12153\r9934/12153\r9935/12153\r9936/12153\r9937/12153\r"
     ]
    },
    {
     "name": "stdout",
     "output_type": "stream",
     "text": [
      "9938/12153\r9939/12153\r9940/12153\r9941/12153\r9942/12153\r9943/12153\r9944/12153\r"
     ]
    },
    {
     "name": "stdout",
     "output_type": "stream",
     "text": [
      "9945/12153\r9946/12153\r9947/12153\r9948/12153\r9949/12153\r9950/12153\r"
     ]
    },
    {
     "name": "stdout",
     "output_type": "stream",
     "text": [
      "9951/12153\r9952/12153\r9953/12153\r9954/12153\r9955/12153\r9956/12153\r9957/12153"
     ]
    },
    {
     "name": "stdout",
     "output_type": "stream",
     "text": [
      "\r9958/12153\r9959/12153\r9960/12153\r9961/12153\r9962/12153\r"
     ]
    },
    {
     "name": "stdout",
     "output_type": "stream",
     "text": [
      "9963/12153\r9964/12153\r9965/12153\r9966/12153\r9967/12153\r9968/12153\r9969/12153\r"
     ]
    },
    {
     "name": "stdout",
     "output_type": "stream",
     "text": [
      "9970/12153\r9971/12153\r9972/12153\r9973/12153\r9974/12153\r9975/12153\r9976/12153"
     ]
    },
    {
     "name": "stdout",
     "output_type": "stream",
     "text": [
      "\r9977/12153\r9978/12153\r9979/12153\r9980/12153\r9981/12153\r9982/12153\r9983/12153\r"
     ]
    },
    {
     "name": "stdout",
     "output_type": "stream",
     "text": [
      "9984/12153\r9985/12153\r9986/12153\r9987/12153\r9988/12153\r9989/12153\r9990/12153\r"
     ]
    },
    {
     "name": "stdout",
     "output_type": "stream",
     "text": [
      "9991/12153\r9992/12153\r9993/12153\r9994/12153\r9995/12153\r9996/12153\r9997/12153\r"
     ]
    },
    {
     "name": "stdout",
     "output_type": "stream",
     "text": [
      "9998/12153\r9999/12153\r10000/12153\r10001/12153\r10002/12153\r10003/12153\r10004/12153\r"
     ]
    },
    {
     "name": "stdout",
     "output_type": "stream",
     "text": [
      "10005/12153\r10006/12153\r10007/12153\r10008/12153\r10009/12153\r10010/12153\r10011/12153\r"
     ]
    },
    {
     "name": "stdout",
     "output_type": "stream",
     "text": [
      "10012/12153\r10013/12153\r10014/12153\r10015/12153\r10016/12153\r10017/12153\r10018/12153\r"
     ]
    },
    {
     "name": "stdout",
     "output_type": "stream",
     "text": [
      "10019/12153\r10020/12153\r10021/12153\r10022/12153\r10023/12153\r10024/12153\r"
     ]
    },
    {
     "name": "stdout",
     "output_type": "stream",
     "text": [
      "10025/12153\r10026/12153\r10027/12153\r10028/12153\r10029/12153\r10030/12153\r10031/12153"
     ]
    },
    {
     "name": "stdout",
     "output_type": "stream",
     "text": [
      "\r10032/12153\r10033/12153\r10034/12153\r10035/12153\r10036/12153\r"
     ]
    },
    {
     "name": "stdout",
     "output_type": "stream",
     "text": [
      "10037/12153\r10038/12153\r10039/12153\r10040/12153\r10041/12153\r"
     ]
    },
    {
     "name": "stdout",
     "output_type": "stream",
     "text": [
      "10042/12153\r10043/12153\r10044/12153\r10045/12153\r10046/12153\r10047/12153\r"
     ]
    },
    {
     "name": "stdout",
     "output_type": "stream",
     "text": [
      "10048/12153\r10049/12153\r10050/12153\r10051/12153\r10052/12153\r10053/12153\r"
     ]
    },
    {
     "name": "stdout",
     "output_type": "stream",
     "text": [
      "10054/12153\r10055/12153\r10056/12153\r10057/12153\r10058/12153\r10059/12153\r10060/12153"
     ]
    },
    {
     "name": "stdout",
     "output_type": "stream",
     "text": [
      "\r10061/12153\r10062/12153\r10063/12153\r10064/12153\r10065/12153\r10066/12153\r10067/12153\r"
     ]
    },
    {
     "name": "stdout",
     "output_type": "stream",
     "text": [
      "10068/12153\r10069/12153\r10070/12153\r10071/12153\r10072/12153\r10073/12153\r10074/12153\r"
     ]
    },
    {
     "name": "stdout",
     "output_type": "stream",
     "text": [
      "10075/12153\r10076/12153\r10077/12153\r10078/12153\r10079/12153\r10080/12153\r10081/12153\r"
     ]
    },
    {
     "name": "stdout",
     "output_type": "stream",
     "text": [
      "10082/12153\r10083/12153\r10084/12153\r10085/12153\r10086/12153\r10087/12153\r10088/12153\r"
     ]
    },
    {
     "name": "stdout",
     "output_type": "stream",
     "text": [
      "10089/12153\r10090/12153\r10091/12153\r10092/12153\r10093/12153\r10094/12153\r10095/12153\r"
     ]
    },
    {
     "name": "stdout",
     "output_type": "stream",
     "text": [
      "10096/12153\r10097/12153\r10098/12153\r10099/12153\r10100/12153\r10101/12153\r10102/12153\r"
     ]
    },
    {
     "name": "stdout",
     "output_type": "stream",
     "text": [
      "10103/12153\r10104/12153\r10105/12153\r10106/12153\r10107/12153\r10108/12153\r10109/12153\r"
     ]
    },
    {
     "name": "stdout",
     "output_type": "stream",
     "text": [
      "10110/12153\r10111/12153\r10112/12153\r10113/12153\r10114/12153\r10115/12153\r10116/12153\r"
     ]
    },
    {
     "name": "stdout",
     "output_type": "stream",
     "text": [
      "10117/12153\r10118/12153\r10119/12153\r10120/12153\r10121/12153\r10122/12153\r10123/12153\r"
     ]
    },
    {
     "name": "stdout",
     "output_type": "stream",
     "text": [
      "10124/12153\r10125/12153\r10126/12153\r10127/12153\r10128/12153\r10129/12153\r10130/12153\r"
     ]
    },
    {
     "name": "stdout",
     "output_type": "stream",
     "text": [
      "10131/12153\r10132/12153\r10133/12153\r10134/12153\r10135/12153\r10136/12153\r10137/12153\r"
     ]
    },
    {
     "name": "stdout",
     "output_type": "stream",
     "text": [
      "10138/12153\r10139/12153\r10140/12153\r10141/12153\r10142/12153\r10143/12153\r"
     ]
    },
    {
     "name": "stdout",
     "output_type": "stream",
     "text": [
      "10144/12153\r10145/12153\r10146/12153\r10147/12153\r10148/12153\r10149/12153\r10150/12153\r"
     ]
    },
    {
     "name": "stdout",
     "output_type": "stream",
     "text": [
      "10151/12153\r10152/12153\r10153/12153\r10154/12153\r10155/12153\r10156/12153\r"
     ]
    },
    {
     "name": "stdout",
     "output_type": "stream",
     "text": [
      "10157/12153\r10158/12153\r10159/12153\r10160/12153\r10161/12153\r10162/12153\r"
     ]
    },
    {
     "name": "stdout",
     "output_type": "stream",
     "text": [
      "10163/12153\r10164/12153\r10165/12153\r10166/12153\r10167/12153\r10168/12153\r"
     ]
    },
    {
     "name": "stdout",
     "output_type": "stream",
     "text": [
      "10169/12153\r10170/12153\r10171/12153\r10172/12153\r10173/12153\r10174/12153\r10175/12153\r"
     ]
    },
    {
     "name": "stdout",
     "output_type": "stream",
     "text": [
      "10176/12153\r10177/12153\r10178/12153\r10179/12153\r10180/12153\r10181/12153\r"
     ]
    },
    {
     "name": "stdout",
     "output_type": "stream",
     "text": [
      "10182/12153\r10183/12153\r10184/12153\r10185/12153\r10186/12153\r10187/12153\r10188/12153\r"
     ]
    },
    {
     "name": "stdout",
     "output_type": "stream",
     "text": [
      "10189/12153\r10190/12153\r10191/12153\r10192/12153\r10193/12153\r10194/12153\r10195/12153"
     ]
    },
    {
     "name": "stdout",
     "output_type": "stream",
     "text": [
      "\r10196/12153\r10197/12153\r10198/12153\r10199/12153\r10200/12153\r10201/12153\r"
     ]
    },
    {
     "name": "stdout",
     "output_type": "stream",
     "text": [
      "10202/12153\r10203/12153\r10204/12153\r10205/12153\r10206/12153\r10207/12153\r10208/12153\r"
     ]
    },
    {
     "name": "stdout",
     "output_type": "stream",
     "text": [
      "10209/12153\r10210/12153\r10211/12153\r10212/12153\r10213/12153\r10214/12153\r10215/12153\r"
     ]
    },
    {
     "name": "stdout",
     "output_type": "stream",
     "text": [
      "10216/12153\r10217/12153\r10218/12153\r10219/12153\r10220/12153\r"
     ]
    },
    {
     "name": "stdout",
     "output_type": "stream",
     "text": [
      "10221/12153\r10222/12153\r10223/12153\r10224/12153\r10225/12153\r10226/12153\r"
     ]
    },
    {
     "name": "stdout",
     "output_type": "stream",
     "text": [
      "10227/12153\r10228/12153\r10229/12153\r10230/12153\r10231/12153\r10232/12153\r"
     ]
    },
    {
     "name": "stdout",
     "output_type": "stream",
     "text": [
      "10233/12153\r10234/12153\r10235/12153\r"
     ]
    },
    {
     "name": "stdout",
     "output_type": "stream",
     "text": [
      "10236/12153\r10237/12153\r10238/12153\r10239/12153\r10240/12153\r"
     ]
    },
    {
     "name": "stdout",
     "output_type": "stream",
     "text": [
      "10241/12153\r10242/12153\r10243/12153\r10244/12153\r10245/12153\r10246/12153\r"
     ]
    },
    {
     "name": "stdout",
     "output_type": "stream",
     "text": [
      "10247/12153\r10248/12153\r10249/12153\r10250/12153\r10251/12153\r10252/12153\r"
     ]
    },
    {
     "name": "stdout",
     "output_type": "stream",
     "text": [
      "10253/12153\r10254/12153\r10255/12153\r10256/12153\r10257/12153\r10258/12153\r"
     ]
    },
    {
     "name": "stdout",
     "output_type": "stream",
     "text": [
      "10259/12153\r10260/12153\r10261/12153\r10262/12153\r10263/12153\r10264/12153\r10265/12153\r"
     ]
    },
    {
     "name": "stdout",
     "output_type": "stream",
     "text": [
      "10266/12153\r10267/12153\r10268/12153\r10269/12153\r10270/12153\r10271/12153\r10272/12153\r"
     ]
    },
    {
     "name": "stdout",
     "output_type": "stream",
     "text": [
      "10273/12153\r10274/12153\r10275/12153\r10276/12153\r10277/12153\r10278/12153\r10279/12153\r"
     ]
    },
    {
     "name": "stdout",
     "output_type": "stream",
     "text": [
      "10280/12153\r10281/12153\r10282/12153\r10283/12153\r10284/12153\r"
     ]
    },
    {
     "name": "stdout",
     "output_type": "stream",
     "text": [
      "10285/12153\r10286/12153\r10287/12153\r10288/12153\r10289/12153\r"
     ]
    },
    {
     "name": "stdout",
     "output_type": "stream",
     "text": [
      "10290/12153\r10291/12153\r10292/12153\r10293/12153\r10294/12153\r"
     ]
    },
    {
     "name": "stdout",
     "output_type": "stream",
     "text": [
      "10295/12153\r10296/12153\r10297/12153\r10298/12153\r10299/12153\r10300/12153\r"
     ]
    },
    {
     "name": "stdout",
     "output_type": "stream",
     "text": [
      "10301/12153\r10302/12153\r10303/12153\r10304/12153\r10305/12153\r10306/12153\r10307/12153"
     ]
    },
    {
     "name": "stdout",
     "output_type": "stream",
     "text": [
      "\r10308/12153\r10309/12153\r10310/12153\r10311/12153\r10312/12153\r10313/12153\r10314/12153\r"
     ]
    },
    {
     "name": "stdout",
     "output_type": "stream",
     "text": [
      "10315/12153\r10316/12153\r10317/12153\r10318/12153\r10319/12153\r10320/12153\r"
     ]
    },
    {
     "name": "stdout",
     "output_type": "stream",
     "text": [
      "10321/12153\r10322/12153\r10323/12153\r"
     ]
    },
    {
     "name": "stdout",
     "output_type": "stream",
     "text": [
      "10324/12153\r10325/12153\r"
     ]
    },
    {
     "name": "stdout",
     "output_type": "stream",
     "text": [
      "10326/12153\r10327/12153\r10328/12153\r10329/12153\r"
     ]
    },
    {
     "name": "stdout",
     "output_type": "stream",
     "text": [
      "10330/12153\r10331/12153\r10332/12153\r10333/12153\r10334/12153\r"
     ]
    },
    {
     "name": "stdout",
     "output_type": "stream",
     "text": [
      "10335/12153\r10336/12153\r10337/12153\r10338/12153\r10339/12153\r"
     ]
    },
    {
     "name": "stdout",
     "output_type": "stream",
     "text": [
      "10340/12153\r10341/12153\r10342/12153\r10343/12153\r10344/12153\r10345/12153\r"
     ]
    },
    {
     "name": "stdout",
     "output_type": "stream",
     "text": [
      "10346/12153\r10347/12153\r10348/12153\r10349/12153\r10350/12153\r10351/12153\r"
     ]
    },
    {
     "name": "stdout",
     "output_type": "stream",
     "text": [
      "10352/12153\r10353/12153\r10354/12153\r10355/12153\r10356/12153\r10357/12153\r"
     ]
    },
    {
     "name": "stdout",
     "output_type": "stream",
     "text": [
      "10358/12153\r10359/12153\r10360/12153\r10361/12153\r10362/12153\r10363/12153\r"
     ]
    },
    {
     "name": "stdout",
     "output_type": "stream",
     "text": [
      "10364/12153\r10365/12153\r10366/12153\r10367/12153\r10368/12153\r"
     ]
    },
    {
     "name": "stdout",
     "output_type": "stream",
     "text": [
      "10369/12153\r10370/12153\r10371/12153\r10372/12153\r10373/12153\r10374/12153\r"
     ]
    },
    {
     "name": "stdout",
     "output_type": "stream",
     "text": [
      "10375/12153\r10376/12153\r10377/12153\r10378/12153\r10379/12153\r10380/12153\r"
     ]
    },
    {
     "name": "stdout",
     "output_type": "stream",
     "text": [
      "10381/12153\r10382/12153\r10383/12153\r10384/12153\r10385/12153\r"
     ]
    },
    {
     "name": "stdout",
     "output_type": "stream",
     "text": [
      "10386/12153\r10387/12153\r10388/12153\r10389/12153\r10390/12153\r"
     ]
    },
    {
     "name": "stdout",
     "output_type": "stream",
     "text": [
      "10391/12153\r10392/12153\r10393/12153\r10394/12153\r10395/12153\r10396/12153\r"
     ]
    },
    {
     "name": "stdout",
     "output_type": "stream",
     "text": [
      "10397/12153\r10398/12153\r10399/12153\r10400/12153\r10401/12153\r10402/12153\r"
     ]
    },
    {
     "name": "stdout",
     "output_type": "stream",
     "text": [
      "10403/12153\r10404/12153\r10405/12153\r10406/12153\r10407/12153\r"
     ]
    },
    {
     "name": "stdout",
     "output_type": "stream",
     "text": [
      "10408/12153\r10409/12153\r10410/12153\r10411/12153\r10412/12153\r10413/12153\r"
     ]
    },
    {
     "name": "stdout",
     "output_type": "stream",
     "text": [
      "10414/12153\r10415/12153\r10416/12153\r10417/12153\r10418/12153\r10419/12153\r"
     ]
    },
    {
     "name": "stdout",
     "output_type": "stream",
     "text": [
      "10420/12153\r10421/12153\r10422/12153\r10423/12153\r10424/12153\r10425/12153\r"
     ]
    },
    {
     "name": "stdout",
     "output_type": "stream",
     "text": [
      "10426/12153\r10427/12153\r10428/12153\r10429/12153\r10430/12153\r10431/12153\r"
     ]
    },
    {
     "name": "stdout",
     "output_type": "stream",
     "text": [
      "10432/12153\r10433/12153\r10434/12153\r10435/12153\r10436/12153\r10437/12153\r10438/12153\r"
     ]
    },
    {
     "name": "stdout",
     "output_type": "stream",
     "text": [
      "10439/12153\r10440/12153\r10441/12153\r10442/12153\r10443/12153\r10444/12153\r10445/12153\r"
     ]
    },
    {
     "name": "stdout",
     "output_type": "stream",
     "text": [
      "10446/12153\r10447/12153\r10448/12153\r10449/12153\r10450/12153\r10451/12153\r10452/12153\r"
     ]
    },
    {
     "name": "stdout",
     "output_type": "stream",
     "text": [
      "10453/12153\r10454/12153\r10455/12153\r10456/12153\r10457/12153\r10458/12153\r"
     ]
    },
    {
     "name": "stdout",
     "output_type": "stream",
     "text": [
      "10459/12153\r10460/12153\r10461/12153\r10462/12153\r10463/12153\r10464/12153\r"
     ]
    },
    {
     "name": "stdout",
     "output_type": "stream",
     "text": [
      "10465/12153\r10466/12153\r10467/12153\r10468/12153\r10469/12153\r10470/12153\r10471/12153\r"
     ]
    },
    {
     "name": "stdout",
     "output_type": "stream",
     "text": [
      "10472/12153\r10473/12153\r10474/12153\r10475/12153\r10476/12153\r10477/12153\r10478/12153\r"
     ]
    },
    {
     "name": "stdout",
     "output_type": "stream",
     "text": [
      "10479/12153\r10480/12153\r10481/12153\r10482/12153\r10483/12153\r10484/12153\r"
     ]
    },
    {
     "name": "stdout",
     "output_type": "stream",
     "text": [
      "10485/12153\r10486/12153\r10487/12153\r10488/12153\r10489/12153\r10490/12153\r"
     ]
    },
    {
     "name": "stdout",
     "output_type": "stream",
     "text": [
      "10491/12153\r10492/12153\r10493/12153\r10494/12153\r"
     ]
    },
    {
     "name": "stdout",
     "output_type": "stream",
     "text": [
      "10495/12153\r10496/12153\r10497/12153\r10498/12153\r10499/12153\r"
     ]
    },
    {
     "name": "stdout",
     "output_type": "stream",
     "text": [
      "10500/12153\r10501/12153\r10502/12153\r10503/12153\r10504/12153\r10505/12153\r10506/12153\r"
     ]
    },
    {
     "name": "stdout",
     "output_type": "stream",
     "text": [
      "10507/12153\r10508/12153\r10509/12153\r10510/12153\r10511/12153\r10512/12153\r10513/12153\r"
     ]
    },
    {
     "name": "stdout",
     "output_type": "stream",
     "text": [
      "10514/12153\r10515/12153\r10516/12153\r10517/12153\r10518/12153\r10519/12153\r10520/12153"
     ]
    },
    {
     "name": "stdout",
     "output_type": "stream",
     "text": [
      "\r10521/12153\r10522/12153\r10523/12153\r10524/12153\r10525/12153\r10526/12153\r10527/12153\r"
     ]
    },
    {
     "name": "stdout",
     "output_type": "stream",
     "text": [
      "10528/12153\r10529/12153\r10530/12153\r10531/12153\r10532/12153\r10533/12153\r10534/12153\r"
     ]
    },
    {
     "name": "stdout",
     "output_type": "stream",
     "text": [
      "10535/12153\r10536/12153\r10537/12153\r10538/12153\r10539/12153\r10540/12153\r10541/12153\r"
     ]
    },
    {
     "name": "stdout",
     "output_type": "stream",
     "text": [
      "10542/12153\r10543/12153\r10544/12153\r10545/12153\r10546/12153\r10547/12153\r"
     ]
    },
    {
     "name": "stdout",
     "output_type": "stream",
     "text": [
      "10548/12153\r10549/12153\r10550/12153\r10551/12153\r10552/12153\r10553/12153\r10554/12153\r"
     ]
    },
    {
     "name": "stdout",
     "output_type": "stream",
     "text": [
      "10555/12153\r10556/12153\r10557/12153\r10558/12153\r10559/12153\r10560/12153\r10561/12153\r"
     ]
    },
    {
     "name": "stdout",
     "output_type": "stream",
     "text": [
      "10562/12153\r10563/12153\r10564/12153\r10565/12153\r10566/12153\r10567/12153\r"
     ]
    },
    {
     "name": "stdout",
     "output_type": "stream",
     "text": [
      "10568/12153\r10569/12153\r10570/12153\r10571/12153\r10572/12153\r10573/12153\r"
     ]
    },
    {
     "name": "stdout",
     "output_type": "stream",
     "text": [
      "10574/12153\r10575/12153\r10576/12153\r10577/12153\r10578/12153\r10579/12153\r10580/12153\r"
     ]
    },
    {
     "name": "stdout",
     "output_type": "stream",
     "text": [
      "10581/12153\r10582/12153\r10583/12153\r10584/12153\r10585/12153\r10586/12153\r"
     ]
    },
    {
     "name": "stdout",
     "output_type": "stream",
     "text": [
      "10587/12153\r10588/12153\r10589/12153\r10590/12153\r10591/12153\r10592/12153\r"
     ]
    },
    {
     "name": "stdout",
     "output_type": "stream",
     "text": [
      "10593/12153\r10594/12153\r10595/12153\r10596/12153\r10597/12153\r10598/12153\r"
     ]
    },
    {
     "name": "stdout",
     "output_type": "stream",
     "text": [
      "10599/12153\r10600/12153\r10601/12153\r10602/12153\r10603/12153\r10604/12153\r10605/12153\r"
     ]
    },
    {
     "name": "stdout",
     "output_type": "stream",
     "text": [
      "10606/12153\r10607/12153\r10608/12153\r10609/12153\r10610/12153\r10611/12153\r10612/12153\r"
     ]
    },
    {
     "name": "stdout",
     "output_type": "stream",
     "text": [
      "10613/12153\r10614/12153\r10615/12153\r10616/12153\r10617/12153\r"
     ]
    },
    {
     "name": "stdout",
     "output_type": "stream",
     "text": [
      "10618/12153\r10619/12153\r10620/12153\r10621/12153\r10622/12153\r10623/12153\r"
     ]
    },
    {
     "name": "stdout",
     "output_type": "stream",
     "text": [
      "10624/12153\r10625/12153\r10626/12153\r10627/12153\r10628/12153\r10629/12153\r"
     ]
    },
    {
     "name": "stdout",
     "output_type": "stream",
     "text": [
      "10630/12153\r10631/12153\r10632/12153\r10633/12153\r10634/12153\r10635/12153\r10636/12153\r"
     ]
    },
    {
     "name": "stdout",
     "output_type": "stream",
     "text": [
      "10637/12153\r10638/12153\r10639/12153\r10640/12153\r10641/12153\r10642/12153\r10643/12153"
     ]
    },
    {
     "name": "stdout",
     "output_type": "stream",
     "text": [
      "\r10644/12153\r10645/12153\r10646/12153\r10647/12153\r10648/12153\r10649/12153\r10650/12153\r"
     ]
    },
    {
     "name": "stdout",
     "output_type": "stream",
     "text": [
      "10651/12153\r10652/12153\r10653/12153\r10654/12153\r10655/12153\r10656/12153\r"
     ]
    },
    {
     "name": "stdout",
     "output_type": "stream",
     "text": [
      "10657/12153\r10658/12153\r10659/12153\r10660/12153\r10661/12153\r10662/12153\r"
     ]
    },
    {
     "name": "stdout",
     "output_type": "stream",
     "text": [
      "10663/12153\r10664/12153\r10665/12153\r10666/12153\r10667/12153\r10668/12153\r10669/12153"
     ]
    },
    {
     "name": "stdout",
     "output_type": "stream",
     "text": [
      "\r10670/12153\r10671/12153\r10672/12153\r10673/12153\r10674/12153\r10675/12153\r"
     ]
    },
    {
     "name": "stdout",
     "output_type": "stream",
     "text": [
      "10676/12153\r10677/12153\r10678/12153\r10679/12153\r10680/12153\r10681/12153\r10682/12153\r"
     ]
    },
    {
     "name": "stdout",
     "output_type": "stream",
     "text": [
      "10683/12153\r10684/12153\r10685/12153\r10686/12153\r10687/12153\r10688/12153\r"
     ]
    },
    {
     "name": "stdout",
     "output_type": "stream",
     "text": [
      "10689/12153\r10690/12153\r10691/12153\r10692/12153\r10693/12153\r10694/12153\r"
     ]
    },
    {
     "name": "stdout",
     "output_type": "stream",
     "text": [
      "10695/12153\r10696/12153\r10697/12153\r10698/12153\r10699/12153\r10700/12153\r"
     ]
    },
    {
     "name": "stdout",
     "output_type": "stream",
     "text": [
      "10701/12153\r10702/12153\r10703/12153\r10704/12153\r10705/12153\r10706/12153\r"
     ]
    },
    {
     "name": "stdout",
     "output_type": "stream",
     "text": [
      "10707/12153\r10708/12153\r10709/12153\r10710/12153\r10711/12153\r10712/12153\r"
     ]
    },
    {
     "name": "stdout",
     "output_type": "stream",
     "text": [
      "10713/12153\r10714/12153\r10715/12153\r10716/12153\r10717/12153\r10718/12153\r"
     ]
    },
    {
     "name": "stdout",
     "output_type": "stream",
     "text": [
      "10719/12153\r10720/12153\r10721/12153\r10722/12153"
     ]
    },
    {
     "name": "stdout",
     "output_type": "stream",
     "text": [
      "\r10723/12153\r10724/12153\r10725/12153\r10726/12153\r"
     ]
    },
    {
     "name": "stdout",
     "output_type": "stream",
     "text": [
      "10727/12153\r10728/12153\r10729/12153\r10730/12153\r10731/12153\r"
     ]
    },
    {
     "name": "stdout",
     "output_type": "stream",
     "text": [
      "10732/12153\r10733/12153\r10734/12153\r10735/12153"
     ]
    },
    {
     "name": "stdout",
     "output_type": "stream",
     "text": [
      "\r10736/12153\r10737/12153\r10738/12153\r10739/12153\r10740/12153\r10741/12153\r"
     ]
    },
    {
     "name": "stdout",
     "output_type": "stream",
     "text": [
      "10742/12153\r10743/12153\r10744/12153\r10745/12153\r10746/12153\r10747/12153\r10748/12153"
     ]
    },
    {
     "name": "stdout",
     "output_type": "stream",
     "text": [
      "\r10749/12153\r10750/12153\r10751/12153\r10752/12153\r10753/12153\r10754/12153\r"
     ]
    },
    {
     "name": "stdout",
     "output_type": "stream",
     "text": [
      "10755/12153\r10756/12153\r10757/12153\r10758/12153\r10759/12153\r"
     ]
    },
    {
     "name": "stdout",
     "output_type": "stream",
     "text": [
      "10760/12153\r10761/12153\r10762/12153\r10763/12153\r10764/12153\r10765/12153\r"
     ]
    },
    {
     "name": "stdout",
     "output_type": "stream",
     "text": [
      "10766/12153\r10767/12153\r10768/12153\r10769/12153\r10770/12153\r"
     ]
    },
    {
     "name": "stdout",
     "output_type": "stream",
     "text": [
      "10771/12153\r10772/12153\r10773/12153\r10774/12153\r10775/12153\r"
     ]
    },
    {
     "name": "stdout",
     "output_type": "stream",
     "text": [
      "10776/12153\r10777/12153\r10778/12153\r10779/12153\r10780/12153\r"
     ]
    },
    {
     "name": "stdout",
     "output_type": "stream",
     "text": [
      "10781/12153\r10782/12153\r10783/12153\r10784/12153\r10785/12153\r10786/12153\r"
     ]
    },
    {
     "name": "stdout",
     "output_type": "stream",
     "text": [
      "10787/12153\r10788/12153\r10789/12153\r10790/12153\r10791/12153\r10792/12153\r"
     ]
    },
    {
     "name": "stdout",
     "output_type": "stream",
     "text": [
      "10793/12153\r10794/12153\r10795/12153\r10796/12153\r10797/12153\r"
     ]
    },
    {
     "name": "stdout",
     "output_type": "stream",
     "text": [
      "10798/12153\r10799/12153\r10800/12153\r10801/12153\r10802/12153\r10803/12153\r"
     ]
    },
    {
     "name": "stdout",
     "output_type": "stream",
     "text": [
      "10804/12153\r10805/12153\r10806/12153\r10807/12153\r10808/12153\r"
     ]
    },
    {
     "name": "stdout",
     "output_type": "stream",
     "text": [
      "10809/12153\r10810/12153\r10811/12153\r10812/12153\r"
     ]
    },
    {
     "name": "stdout",
     "output_type": "stream",
     "text": [
      "10813/12153\r10814/12153\r10815/12153\r10816/12153\r10817/12153\r"
     ]
    },
    {
     "name": "stdout",
     "output_type": "stream",
     "text": [
      "10818/12153\r10819/12153\r10820/12153\r10821/12153\r10822/12153\r10823/12153\r"
     ]
    },
    {
     "name": "stdout",
     "output_type": "stream",
     "text": [
      "10824/12153\r10825/12153\r10826/12153\r10827/12153\r10828/12153\r"
     ]
    },
    {
     "name": "stdout",
     "output_type": "stream",
     "text": [
      "10829/12153\r10830/12153\r10831/12153\r10832/12153\r10833/12153\r10834/12153\r"
     ]
    },
    {
     "name": "stdout",
     "output_type": "stream",
     "text": [
      "10835/12153\r10836/12153\r10837/12153\r10838/12153\r10839/12153\r10840/12153\r"
     ]
    },
    {
     "name": "stdout",
     "output_type": "stream",
     "text": [
      "10841/12153\r10842/12153\r10843/12153\r10844/12153\r10845/12153\r10846/12153\r"
     ]
    },
    {
     "name": "stdout",
     "output_type": "stream",
     "text": [
      "10847/12153\r10848/12153\r10849/12153\r10850/12153\r10851/12153\r10852/12153\r"
     ]
    },
    {
     "name": "stdout",
     "output_type": "stream",
     "text": [
      "10853/12153\r10854/12153\r10855/12153\r10856/12153\r10857/12153\r10858/12153\r"
     ]
    },
    {
     "name": "stdout",
     "output_type": "stream",
     "text": [
      "10859/12153\r10860/12153\r10861/12153\r10862/12153\r10863/12153\r"
     ]
    },
    {
     "name": "stdout",
     "output_type": "stream",
     "text": [
      "10864/12153\r10865/12153\r10866/12153\r10867/12153\r10868/12153\r"
     ]
    },
    {
     "name": "stdout",
     "output_type": "stream",
     "text": [
      "10869/12153\r10870/12153\r10871/12153\r10872/12153\r10873/12153\r"
     ]
    },
    {
     "name": "stdout",
     "output_type": "stream",
     "text": [
      "10874/12153\r10875/12153\r10876/12153\r10877/12153\r10878/12153\r10879/12153\r10880/12153\r"
     ]
    },
    {
     "name": "stdout",
     "output_type": "stream",
     "text": [
      "10881/12153\r10882/12153\r10883/12153\r10884/12153\r10885/12153\r10886/12153\r"
     ]
    },
    {
     "name": "stdout",
     "output_type": "stream",
     "text": [
      "10887/12153\r10888/12153\r10889/12153\r10890/12153\r10891/12153\r10892/12153\r"
     ]
    },
    {
     "name": "stdout",
     "output_type": "stream",
     "text": [
      "10893/12153\r10894/12153\r10895/12153\r10896/12153\r10897/12153\r10898/12153\r"
     ]
    },
    {
     "name": "stdout",
     "output_type": "stream",
     "text": [
      "10899/12153\r10900/12153\r10901/12153\r10902/12153\r10903/12153\r10904/12153\r"
     ]
    },
    {
     "name": "stdout",
     "output_type": "stream",
     "text": [
      "10905/12153\r10906/12153\r10907/12153\r10908/12153\r10909/12153\r10910/12153\r10911/12153\r"
     ]
    },
    {
     "name": "stdout",
     "output_type": "stream",
     "text": [
      "10912/12153\r10913/12153\r10914/12153\r10915/12153\r10916/12153\r10917/12153\r10918/12153\r"
     ]
    },
    {
     "name": "stdout",
     "output_type": "stream",
     "text": [
      "10919/12153\r10920/12153\r10921/12153\r10922/12153\r10923/12153\r10924/12153\r10925/12153\r"
     ]
    },
    {
     "name": "stdout",
     "output_type": "stream",
     "text": [
      "10926/12153\r10927/12153\r10928/12153\r10929/12153\r10930/12153\r10931/12153\r10932/12153\r"
     ]
    },
    {
     "name": "stdout",
     "output_type": "stream",
     "text": [
      "10933/12153\r10934/12153\r10935/12153\r10936/12153\r10937/12153\r10938/12153\r10939/12153\r"
     ]
    },
    {
     "name": "stdout",
     "output_type": "stream",
     "text": [
      "10940/12153\r10941/12153\r10942/12153\r10943/12153\r10944/12153\r10945/12153\r10946/12153\r"
     ]
    },
    {
     "name": "stdout",
     "output_type": "stream",
     "text": [
      "10947/12153\r10948/12153\r10949/12153\r10950/12153\r10951/12153\r10952/12153\r10953/12153\r"
     ]
    },
    {
     "name": "stdout",
     "output_type": "stream",
     "text": [
      "10954/12153\r10955/12153\r10956/12153\r10957/12153\r10958/12153\r10959/12153\r10960/12153\r"
     ]
    },
    {
     "name": "stdout",
     "output_type": "stream",
     "text": [
      "10961/12153\r10962/12153\r10963/12153\r10964/12153\r10965/12153\r10966/12153\r"
     ]
    },
    {
     "name": "stdout",
     "output_type": "stream",
     "text": [
      "10967/12153\r10968/12153\r10969/12153\r10970/12153\r10971/12153\r"
     ]
    },
    {
     "name": "stdout",
     "output_type": "stream",
     "text": [
      "10972/12153\r10973/12153\r10974/12153\r10975/12153\r10976/12153\r"
     ]
    },
    {
     "name": "stdout",
     "output_type": "stream",
     "text": [
      "10977/12153\r10978/12153\r10979/12153\r10980/12153\r"
     ]
    },
    {
     "name": "stdout",
     "output_type": "stream",
     "text": [
      "10981/12153\r10982/12153\r10983/12153\r10984/12153\r10985/12153\r10986/12153\r"
     ]
    },
    {
     "name": "stdout",
     "output_type": "stream",
     "text": [
      "10987/12153\r10988/12153\r10989/12153\r10990/12153\r10991/12153\r10992/12153\r"
     ]
    },
    {
     "name": "stdout",
     "output_type": "stream",
     "text": [
      "10993/12153\r10994/12153\r10995/12153\r10996/12153\r10997/12153\r10998/12153\r10999/12153"
     ]
    },
    {
     "name": "stdout",
     "output_type": "stream",
     "text": [
      "\r11000/12153\r11001/12153\r11002/12153\r11003/12153\r11004/12153\r11005/12153\r"
     ]
    },
    {
     "name": "stdout",
     "output_type": "stream",
     "text": [
      "11006/12153\r11007/12153\r11008/12153\r11009/12153\r"
     ]
    },
    {
     "name": "stdout",
     "output_type": "stream",
     "text": [
      "11010/12153\r11011/12153\r11012/12153\r11013/12153\r11014/12153\r"
     ]
    },
    {
     "name": "stdout",
     "output_type": "stream",
     "text": [
      "11015/12153\r11016/12153\r11017/12153\r11018/12153\r11019/12153\r11020/12153\r"
     ]
    },
    {
     "name": "stdout",
     "output_type": "stream",
     "text": [
      "11021/12153\r11022/12153\r11023/12153\r11024/12153\r"
     ]
    },
    {
     "name": "stdout",
     "output_type": "stream",
     "text": [
      "11025/12153\r11026/12153\r11027/12153\r11028/12153\r11029/12153\r11030/12153\r"
     ]
    },
    {
     "name": "stdout",
     "output_type": "stream",
     "text": [
      "11031/12153\r11032/12153\r11033/12153\r11034/12153\r11035/12153\r11036/12153\r11037/12153"
     ]
    },
    {
     "name": "stdout",
     "output_type": "stream",
     "text": [
      "\r11038/12153\r11039/12153\r11040/12153\r11041/12153\r11042/12153\r11043/12153\r"
     ]
    },
    {
     "name": "stdout",
     "output_type": "stream",
     "text": [
      "11044/12153\r11045/12153\r11046/12153\r11047/12153\r11048/12153\r11049/12153\r11050/12153\r"
     ]
    },
    {
     "name": "stdout",
     "output_type": "stream",
     "text": [
      "11051/12153\r11052/12153\r11053/12153\r11054/12153\r11055/12153\r11056/12153\r"
     ]
    },
    {
     "name": "stdout",
     "output_type": "stream",
     "text": [
      "11057/12153\r11058/12153\r11059/12153\r11060/12153\r11061/12153\r"
     ]
    },
    {
     "name": "stdout",
     "output_type": "stream",
     "text": [
      "11062/12153\r11063/12153\r11064/12153\r11065/12153\r11066/12153\r11067/12153\r11068/12153\r"
     ]
    },
    {
     "name": "stdout",
     "output_type": "stream",
     "text": [
      "11069/12153\r11070/12153\r11071/12153\r11072/12153\r11073/12153\r11074/12153\r"
     ]
    },
    {
     "name": "stdout",
     "output_type": "stream",
     "text": [
      "11075/12153\r11076/12153\r11077/12153\r11078/12153\r11079/12153\r11080/12153\r"
     ]
    },
    {
     "name": "stdout",
     "output_type": "stream",
     "text": [
      "11081/12153\r11082/12153\r11083/12153\r11084/12153\r11085/12153\r11086/12153\r11087/12153\r"
     ]
    },
    {
     "name": "stdout",
     "output_type": "stream",
     "text": [
      "11088/12153\r11089/12153\r11090/12153\r11091/12153\r11092/12153\r"
     ]
    },
    {
     "name": "stdout",
     "output_type": "stream",
     "text": [
      "11093/12153\r11094/12153\r11095/12153\r11096/12153\r11097/12153\r11098/12153\r11099/12153\r"
     ]
    },
    {
     "name": "stdout",
     "output_type": "stream",
     "text": [
      "11100/12153\r11101/12153\r11102/12153\r11103/12153\r11104/12153\r11105/12153\r"
     ]
    },
    {
     "name": "stdout",
     "output_type": "stream",
     "text": [
      "11106/12153\r11107/12153\r11108/12153\r11109/12153\r11110/12153\r11111/12153\r11112/12153\r"
     ]
    },
    {
     "name": "stdout",
     "output_type": "stream",
     "text": [
      "11113/12153\r11114/12153\r11115/12153\r11116/12153\r11117/12153\r11118/12153\r"
     ]
    },
    {
     "name": "stdout",
     "output_type": "stream",
     "text": [
      "11119/12153\r11120/12153\r11121/12153\r11122/12153\r11123/12153\r11124/12153\r"
     ]
    },
    {
     "name": "stdout",
     "output_type": "stream",
     "text": [
      "11125/12153\r11126/12153\r11127/12153\r11128/12153\r11129/12153\r11130/12153"
     ]
    },
    {
     "name": "stdout",
     "output_type": "stream",
     "text": [
      "\r11131/12153\r11132/12153\r11133/12153\r11134/12153\r11135/12153\r11136/12153\r"
     ]
    },
    {
     "name": "stdout",
     "output_type": "stream",
     "text": [
      "11137/12153\r11138/12153\r11139/12153\r11140/12153\r11141/12153\r11142/12153\r"
     ]
    },
    {
     "name": "stdout",
     "output_type": "stream",
     "text": [
      "11143/12153\r11144/12153\r11145/12153\r11146/12153\r11147/12153\r11148/12153\r11149/12153\r"
     ]
    },
    {
     "name": "stdout",
     "output_type": "stream",
     "text": [
      "11150/12153\r11151/12153\r11152/12153\r11153/12153\r11154/12153\r11155/12153\r11156/12153\r"
     ]
    },
    {
     "name": "stdout",
     "output_type": "stream",
     "text": [
      "11157/12153\r11158/12153\r11159/12153\r11160/12153\r11161/12153\r11162/12153\r"
     ]
    },
    {
     "name": "stdout",
     "output_type": "stream",
     "text": [
      "11163/12153\r11164/12153\r11165/12153\r11166/12153\r11167/12153\r11168/12153\r11169/12153\r"
     ]
    },
    {
     "name": "stdout",
     "output_type": "stream",
     "text": [
      "11170/12153\r11171/12153\r11172/12153\r11173/12153\r11174/12153\r11175/12153\r11176/12153"
     ]
    },
    {
     "name": "stdout",
     "output_type": "stream",
     "text": [
      "\r11177/12153\r11178/12153\r11179/12153\r11180/12153\r11181/12153\r11182/12153\r"
     ]
    },
    {
     "name": "stdout",
     "output_type": "stream",
     "text": [
      "11183/12153\r11184/12153\r11185/12153\r11186/12153\r11187/12153\r11188/12153\r"
     ]
    },
    {
     "name": "stdout",
     "output_type": "stream",
     "text": [
      "11189/12153\r11190/12153\r11191/12153\r11192/12153\r11193/12153\r11194/12153\r11195/12153\r"
     ]
    },
    {
     "name": "stdout",
     "output_type": "stream",
     "text": [
      "11196/12153\r11197/12153\r11198/12153\r11199/12153\r11200/12153\r11201/12153\r11202/12153"
     ]
    },
    {
     "name": "stdout",
     "output_type": "stream",
     "text": [
      "\r11203/12153\r11204/12153\r11205/12153\r11206/12153\r11207/12153\r11208/12153\r"
     ]
    },
    {
     "name": "stdout",
     "output_type": "stream",
     "text": [
      "11209/12153\r11210/12153\r11211/12153\r11212/12153\r"
     ]
    },
    {
     "name": "stdout",
     "output_type": "stream",
     "text": [
      "11213/12153\r11214/12153\r11215/12153\r11216/12153\r11217/12153\r"
     ]
    },
    {
     "name": "stdout",
     "output_type": "stream",
     "text": [
      "11218/12153\r11219/12153\r11220/12153\r11221/12153\r11222/12153\r11223/12153\r"
     ]
    },
    {
     "name": "stdout",
     "output_type": "stream",
     "text": [
      "11224/12153\r11225/12153\r11226/12153\r11227/12153\r11228/12153\r11229/12153\r"
     ]
    },
    {
     "name": "stdout",
     "output_type": "stream",
     "text": [
      "11230/12153\r11231/12153\r11232/12153\r11233/12153\r11234/12153\r11235/12153\r11236/12153\r"
     ]
    },
    {
     "name": "stdout",
     "output_type": "stream",
     "text": [
      "11237/12153\r11238/12153\r11239/12153\r11240/12153\r11241/12153\r11242/12153\r"
     ]
    },
    {
     "name": "stdout",
     "output_type": "stream",
     "text": [
      "11243/12153\r11244/12153\r11245/12153\r11246/12153\r11247/12153\r11248/12153\r"
     ]
    },
    {
     "name": "stdout",
     "output_type": "stream",
     "text": [
      "11249/12153\r11250/12153\r11251/12153\r11252/12153\r11253/12153\r11254/12153\r11255/12153\r"
     ]
    },
    {
     "name": "stdout",
     "output_type": "stream",
     "text": [
      "11256/12153\r11257/12153\r11258/12153\r11259/12153\r11260/12153\r11261/12153\r"
     ]
    },
    {
     "name": "stdout",
     "output_type": "stream",
     "text": [
      "11262/12153\r11263/12153\r11264/12153\r11265/12153\r11266/12153\r11267/12153\r11268/12153\r"
     ]
    },
    {
     "name": "stdout",
     "output_type": "stream",
     "text": [
      "11269/12153\r11270/12153\r11271/12153\r11272/12153\r11273/12153\r11274/12153\r"
     ]
    },
    {
     "name": "stdout",
     "output_type": "stream",
     "text": [
      "11275/12153\r11276/12153\r11277/12153\r11278/12153\r11279/12153\r11280/12153\r"
     ]
    },
    {
     "name": "stdout",
     "output_type": "stream",
     "text": [
      "11281/12153\r11282/12153\r11283/12153\r11284/12153\r11285/12153\r11286/12153\r11287/12153\r"
     ]
    },
    {
     "name": "stdout",
     "output_type": "stream",
     "text": [
      "11288/12153\r11289/12153\r11290/12153\r11291/12153\r11292/12153\r11293/12153\r11294/12153\r"
     ]
    },
    {
     "name": "stdout",
     "output_type": "stream",
     "text": [
      "11295/12153\r11296/12153\r11297/12153\r11298/12153\r11299/12153\r11300/12153\r"
     ]
    },
    {
     "name": "stdout",
     "output_type": "stream",
     "text": [
      "11301/12153\r11302/12153\r11303/12153\r11304/12153\r11305/12153\r11306/12153\r"
     ]
    },
    {
     "name": "stdout",
     "output_type": "stream",
     "text": [
      "11307/12153\r11308/12153\r11309/12153\r11310/12153\r11311/12153\r11312/12153\r"
     ]
    },
    {
     "name": "stdout",
     "output_type": "stream",
     "text": [
      "11313/12153\r11314/12153\r11315/12153\r11316/12153\r11317/12153\r11318/12153\r11319/12153\r"
     ]
    },
    {
     "name": "stdout",
     "output_type": "stream",
     "text": [
      "11320/12153\r11321/12153\r11322/12153\r11323/12153\r11324/12153\r11325/12153\r11326/12153\r"
     ]
    },
    {
     "name": "stdout",
     "output_type": "stream",
     "text": [
      "11327/12153\r11328/12153\r11329/12153\r11330/12153\r11331/12153\r11332/12153\r11333/12153\r"
     ]
    },
    {
     "name": "stdout",
     "output_type": "stream",
     "text": [
      "11334/12153\r11335/12153\r11336/12153\r11337/12153\r11338/12153\r11339/12153\r11340/12153\r"
     ]
    },
    {
     "name": "stdout",
     "output_type": "stream",
     "text": [
      "11341/12153\r11342/12153\r11343/12153\r11344/12153\r"
     ]
    },
    {
     "name": "stdout",
     "output_type": "stream",
     "text": [
      "11345/12153\r11346/12153\r11347/12153\r"
     ]
    },
    {
     "name": "stdout",
     "output_type": "stream",
     "text": [
      "11348/12153\r11349/12153\r11350/12153\r11351/12153\r11352/12153\r11353/12153"
     ]
    },
    {
     "name": "stdout",
     "output_type": "stream",
     "text": [
      "\r11354/12153\r11355/12153\r11356/12153\r11357/12153\r11358/12153\r11359/12153\r"
     ]
    },
    {
     "name": "stdout",
     "output_type": "stream",
     "text": [
      "11360/12153\r11361/12153\r11362/12153\r11363/12153\r11364/12153\r11365/12153\r"
     ]
    },
    {
     "name": "stdout",
     "output_type": "stream",
     "text": [
      "11366/12153\r11367/12153\r11368/12153\r11369/12153\r11370/12153\r11371/12153\r11372/12153\r"
     ]
    },
    {
     "name": "stdout",
     "output_type": "stream",
     "text": [
      "11373/12153\r11374/12153\r11375/12153\r11376/12153\r11377/12153\r11378/12153\r11379/12153\r"
     ]
    },
    {
     "name": "stdout",
     "output_type": "stream",
     "text": [
      "11380/12153\r11381/12153\r11382/12153\r11383/12153\r11384/12153\r11385/12153\r11386/12153\r"
     ]
    },
    {
     "name": "stdout",
     "output_type": "stream",
     "text": [
      "11387/12153\r11388/12153\r11389/12153\r11390/12153\r11391/12153\r11392/12153\r11393/12153\r"
     ]
    },
    {
     "name": "stdout",
     "output_type": "stream",
     "text": [
      "11394/12153\r11395/12153\r11396/12153\r11397/12153\r11398/12153\r11399/12153\r11400/12153\r"
     ]
    },
    {
     "name": "stdout",
     "output_type": "stream",
     "text": [
      "11401/12153\r11402/12153\r11403/12153\r11404/12153\r"
     ]
    },
    {
     "name": "stdout",
     "output_type": "stream",
     "text": [
      "11405/12153\r11406/12153\r11407/12153\r11408/12153\r11409/12153\r"
     ]
    },
    {
     "name": "stdout",
     "output_type": "stream",
     "text": [
      "11410/12153\r11411/12153\r11412/12153\r11413/12153\r11414/12153\r11415/12153\r11416/12153\r"
     ]
    },
    {
     "name": "stdout",
     "output_type": "stream",
     "text": [
      "11417/12153\r11418/12153\r11419/12153\r11420/12153\r11421/12153\r11422/12153\r11423/12153"
     ]
    },
    {
     "name": "stdout",
     "output_type": "stream",
     "text": [
      "\r11424/12153\r11425/12153\r11426/12153\r11427/12153\r11428/12153\r11429/12153\r"
     ]
    },
    {
     "name": "stdout",
     "output_type": "stream",
     "text": [
      "11430/12153\r11431/12153\r11432/12153\r11433/12153\r11434/12153\r11435/12153\r"
     ]
    },
    {
     "name": "stdout",
     "output_type": "stream",
     "text": [
      "11436/12153\r11437/12153\r11438/12153\r11439/12153\r11440/12153\r11441/12153\r11442/12153"
     ]
    },
    {
     "name": "stdout",
     "output_type": "stream",
     "text": [
      "\r11443/12153\r11444/12153\r11445/12153\r11446/12153\r11447/12153\r11448/12153\r11449/12153\r"
     ]
    },
    {
     "name": "stdout",
     "output_type": "stream",
     "text": [
      "11450/12153\r11451/12153\r11452/12153\r11453/12153\r11454/12153\r11455/12153\r11456/12153\r"
     ]
    },
    {
     "name": "stdout",
     "output_type": "stream",
     "text": [
      "11457/12153\r11458/12153\r11459/12153\r11460/12153\r11461/12153\r"
     ]
    },
    {
     "name": "stdout",
     "output_type": "stream",
     "text": [
      "11462/12153\r11463/12153\r11464/12153\r11465/12153\r11466/12153\r11467/12153\r11468/12153\r"
     ]
    },
    {
     "name": "stdout",
     "output_type": "stream",
     "text": [
      "11469/12153\r11470/12153\r11471/12153\r11472/12153\r11473/12153\r11474/12153\r11475/12153\r"
     ]
    },
    {
     "name": "stdout",
     "output_type": "stream",
     "text": [
      "11476/12153\r11477/12153\r11478/12153\r11479/12153\r11480/12153\r11481/12153\r"
     ]
    },
    {
     "name": "stdout",
     "output_type": "stream",
     "text": [
      "11482/12153\r11483/12153\r11484/12153\r11485/12153\r11486/12153\r11487/12153\r11488/12153\r"
     ]
    },
    {
     "name": "stdout",
     "output_type": "stream",
     "text": [
      "11489/12153\r11490/12153\r11491/12153\r11492/12153\r11493/12153\r"
     ]
    },
    {
     "name": "stdout",
     "output_type": "stream",
     "text": [
      "11494/12153\r11495/12153\r11496/12153\r11497/12153\r11498/12153\r"
     ]
    },
    {
     "name": "stdout",
     "output_type": "stream",
     "text": [
      "11499/12153\r11500/12153\r11501/12153\r11502/12153\r11503/12153\r11504/12153\r"
     ]
    },
    {
     "name": "stdout",
     "output_type": "stream",
     "text": [
      "11505/12153\r11506/12153\r11507/12153\r11508/12153\r11509/12153\r"
     ]
    },
    {
     "name": "stdout",
     "output_type": "stream",
     "text": [
      "11510/12153\r11511/12153\r11512/12153\r11513/12153\r"
     ]
    },
    {
     "name": "stdout",
     "output_type": "stream",
     "text": [
      "11514/12153\r11515/12153\r11516/12153\r11517/12153\r11518/12153\r11519/12153\r"
     ]
    },
    {
     "name": "stdout",
     "output_type": "stream",
     "text": [
      "11520/12153\r11521/12153\r11522/12153\r11523/12153\r11524/12153\r11525/12153\r"
     ]
    },
    {
     "name": "stdout",
     "output_type": "stream",
     "text": [
      "11526/12153\r11527/12153\r11528/12153\r11529/12153\r11530/12153\r11531/12153\r"
     ]
    },
    {
     "name": "stdout",
     "output_type": "stream",
     "text": [
      "11532/12153\r11533/12153\r11534/12153\r11535/12153\r11536/12153\r11537/12153\r"
     ]
    },
    {
     "name": "stdout",
     "output_type": "stream",
     "text": [
      "11538/12153\r11539/12153\r11540/12153\r11541/12153\r11542/12153\r11543/12153\r"
     ]
    },
    {
     "name": "stdout",
     "output_type": "stream",
     "text": [
      "11544/12153\r11545/12153\r11546/12153\r11547/12153\r11548/12153\r11549/12153\r"
     ]
    },
    {
     "name": "stdout",
     "output_type": "stream",
     "text": [
      "11550/12153\r11551/12153\r11552/12153\r11553/12153\r11554/12153\r11555/12153\r"
     ]
    },
    {
     "name": "stdout",
     "output_type": "stream",
     "text": [
      "11556/12153\r11557/12153\r11558/12153\r11559/12153\r11560/12153\r11561/12153\r"
     ]
    },
    {
     "name": "stdout",
     "output_type": "stream",
     "text": [
      "11562/12153\r11563/12153\r11564/12153\r11565/12153\r11566/12153\r"
     ]
    },
    {
     "name": "stdout",
     "output_type": "stream",
     "text": [
      "11567/12153\r11568/12153\r11569/12153\r11570/12153\r11571/12153\r"
     ]
    },
    {
     "name": "stdout",
     "output_type": "stream",
     "text": [
      "11572/12153\r11573/12153\r11574/12153\r11575/12153\r11576/12153\r"
     ]
    },
    {
     "name": "stdout",
     "output_type": "stream",
     "text": [
      "11577/12153\r11578/12153\r11579/12153\r11580/12153\r11581/12153\r11582/12153\r"
     ]
    },
    {
     "name": "stdout",
     "output_type": "stream",
     "text": [
      "11583/12153\r11584/12153\r11585/12153\r11586/12153\r11587/12153\r"
     ]
    },
    {
     "name": "stdout",
     "output_type": "stream",
     "text": [
      "11588/12153\r11589/12153\r11590/12153\r11591/12153\r"
     ]
    },
    {
     "name": "stdout",
     "output_type": "stream",
     "text": [
      "11592/12153\r11593/12153\r11594/12153\r11595/12153\r11596/12153\r11597/12153\r"
     ]
    },
    {
     "name": "stdout",
     "output_type": "stream",
     "text": [
      "11598/12153\r11599/12153\r11600/12153\r11601/12153\r11602/12153\r11603/12153\r"
     ]
    },
    {
     "name": "stdout",
     "output_type": "stream",
     "text": [
      "11604/12153\r11605/12153\r11606/12153\r11607/12153\r11608/12153\r11609/12153\r"
     ]
    },
    {
     "name": "stdout",
     "output_type": "stream",
     "text": [
      "11610/12153\r11611/12153\r11612/12153\r11613/12153\r11614/12153\r"
     ]
    },
    {
     "name": "stdout",
     "output_type": "stream",
     "text": [
      "11615/12153\r11616/12153\r11617/12153\r11618/12153\r11619/12153\r11620/12153\r"
     ]
    },
    {
     "name": "stdout",
     "output_type": "stream",
     "text": [
      "11621/12153\r11622/12153\r11623/12153\r11624/12153\r11625/12153\r11626/12153\r11627/12153\r"
     ]
    },
    {
     "name": "stdout",
     "output_type": "stream",
     "text": [
      "11628/12153\r11629/12153\r11630/12153\r11631/12153\r11632/12153\r11633/12153\r11634/12153\r"
     ]
    },
    {
     "name": "stdout",
     "output_type": "stream",
     "text": [
      "11635/12153\r11636/12153\r11637/12153\r11638/12153\r11639/12153\r11640/12153\r11641/12153\r"
     ]
    },
    {
     "name": "stdout",
     "output_type": "stream",
     "text": [
      "11642/12153\r11643/12153\r11644/12153\r11645/12153\r11646/12153\r"
     ]
    },
    {
     "name": "stdout",
     "output_type": "stream",
     "text": [
      "11647/12153\r11648/12153\r11649/12153\r11650/12153\r11651/12153\r"
     ]
    },
    {
     "name": "stdout",
     "output_type": "stream",
     "text": [
      "11652/12153\r11653/12153\r11654/12153\r11655/12153\r11656/12153\r11657/12153\r"
     ]
    },
    {
     "name": "stdout",
     "output_type": "stream",
     "text": [
      "11658/12153\r11659/12153\r11660/12153\r11661/12153\r11662/12153\r11663/12153\r"
     ]
    },
    {
     "name": "stdout",
     "output_type": "stream",
     "text": [
      "11664/12153\r11665/12153\r11666/12153\r11667/12153\r11668/12153\r11669/12153\r11670/12153\r"
     ]
    },
    {
     "name": "stdout",
     "output_type": "stream",
     "text": [
      "11671/12153\r11672/12153\r11673/12153\r11674/12153\r11675/12153\r11676/12153\r"
     ]
    },
    {
     "name": "stdout",
     "output_type": "stream",
     "text": [
      "11677/12153\r11678/12153\r11679/12153\r11680/12153\r11681/12153\r"
     ]
    },
    {
     "name": "stdout",
     "output_type": "stream",
     "text": [
      "11682/12153\r11683/12153\r11684/12153\r11685/12153\r11686/12153\r11687/12153\r"
     ]
    },
    {
     "name": "stdout",
     "output_type": "stream",
     "text": [
      "11688/12153\r11689/12153\r11690/12153\r11691/12153\r11692/12153\r11693/12153\r"
     ]
    },
    {
     "name": "stdout",
     "output_type": "stream",
     "text": [
      "11694/12153\r11695/12153\r11696/12153\r11697/12153\r11698/12153\r11699/12153\r"
     ]
    },
    {
     "name": "stdout",
     "output_type": "stream",
     "text": [
      "11700/12153\r11701/12153\r11702/12153\r11703/12153\r11704/12153\r11705/12153\r"
     ]
    },
    {
     "name": "stdout",
     "output_type": "stream",
     "text": [
      "11706/12153\r11707/12153\r11708/12153\r11709/12153\r11710/12153\r"
     ]
    },
    {
     "name": "stdout",
     "output_type": "stream",
     "text": [
      "11711/12153\r11712/12153\r11713/12153\r11714/12153\r11715/12153\r"
     ]
    },
    {
     "name": "stdout",
     "output_type": "stream",
     "text": [
      "11716/12153\r11717/12153\r11718/12153\r11719/12153\r"
     ]
    },
    {
     "name": "stdout",
     "output_type": "stream",
     "text": [
      "11720/12153\r11721/12153\r11722/12153\r11723/12153\r11724/12153\r"
     ]
    },
    {
     "name": "stdout",
     "output_type": "stream",
     "text": [
      "11725/12153\r11726/12153\r11727/12153\r11728/12153\r11729/12153\r"
     ]
    },
    {
     "name": "stdout",
     "output_type": "stream",
     "text": [
      "11730/12153\r11731/12153\r11732/12153\r11733/12153\r11734/12153\r"
     ]
    },
    {
     "name": "stdout",
     "output_type": "stream",
     "text": [
      "11735/12153\r11736/12153\r11737/12153\r11738/12153\r11739/12153\r11740/12153\r"
     ]
    },
    {
     "name": "stdout",
     "output_type": "stream",
     "text": [
      "11741/12153\r11742/12153\r11743/12153\r11744/12153\r11745/12153\r"
     ]
    },
    {
     "name": "stdout",
     "output_type": "stream",
     "text": [
      "11746/12153\r11747/12153\r11748/12153\r11749/12153\r11750/12153\r11751/12153\r"
     ]
    },
    {
     "name": "stdout",
     "output_type": "stream",
     "text": [
      "11752/12153\r11753/12153\r11754/12153\r11755/12153\r11756/12153\r11757/12153\r"
     ]
    },
    {
     "name": "stdout",
     "output_type": "stream",
     "text": [
      "11758/12153\r11759/12153\r11760/12153\r"
     ]
    },
    {
     "name": "stdout",
     "output_type": "stream",
     "text": [
      "11761/12153\r11762/12153\r11763/12153\r11764/12153\r"
     ]
    },
    {
     "name": "stdout",
     "output_type": "stream",
     "text": [
      "11765/12153\r11766/12153\r11767/12153\r11768/12153\r11769/12153\r"
     ]
    },
    {
     "name": "stdout",
     "output_type": "stream",
     "text": [
      "11770/12153\r11771/12153\r11772/12153\r11773/12153\r11774/12153\r11775/12153\r"
     ]
    },
    {
     "name": "stdout",
     "output_type": "stream",
     "text": [
      "11776/12153\r11777/12153\r11778/12153\r11779/12153\r11780/12153\r"
     ]
    },
    {
     "name": "stdout",
     "output_type": "stream",
     "text": [
      "11781/12153\r11782/12153\r11783/12153\r11784/12153\r11785/12153\r"
     ]
    },
    {
     "name": "stdout",
     "output_type": "stream",
     "text": [
      "11786/12153\r11787/12153\r11788/12153\r11789/12153\r11790/12153\r"
     ]
    },
    {
     "name": "stdout",
     "output_type": "stream",
     "text": [
      "11791/12153\r11792/12153\r11793/12153\r11794/12153\r"
     ]
    },
    {
     "name": "stdout",
     "output_type": "stream",
     "text": [
      "11795/12153\r11796/12153\r11797/12153\r11798/12153\r"
     ]
    },
    {
     "name": "stdout",
     "output_type": "stream",
     "text": [
      "11799/12153\r11800/12153\r11801/12153\r11802/12153\r"
     ]
    },
    {
     "name": "stdout",
     "output_type": "stream",
     "text": [
      "11803/12153\r11804/12153\r11805/12153\r11806/12153\r"
     ]
    },
    {
     "name": "stdout",
     "output_type": "stream",
     "text": [
      "11807/12153\r11808/12153\r"
     ]
    },
    {
     "name": "stdout",
     "output_type": "stream",
     "text": [
      "11809/12153\r11810/12153\r11811/12153\r"
     ]
    },
    {
     "name": "stdout",
     "output_type": "stream",
     "text": [
      "11812/12153\r11813/12153\r11814/12153\r"
     ]
    },
    {
     "name": "stdout",
     "output_type": "stream",
     "text": [
      "11815/12153\r11816/12153\r11817/12153\r11818/12153\r11819/12153\r11820/12153\r"
     ]
    },
    {
     "name": "stdout",
     "output_type": "stream",
     "text": [
      "11821/12153\r11822/12153\r11823/12153\r11824/12153\r11825/12153\r11826/12153\r"
     ]
    },
    {
     "name": "stdout",
     "output_type": "stream",
     "text": [
      "11827/12153\r11828/12153\r11829/12153\r11830/12153\r11831/12153\r11832/12153\r"
     ]
    },
    {
     "name": "stdout",
     "output_type": "stream",
     "text": [
      "11833/12153\r11834/12153\r11835/12153\r11836/12153\r11837/12153\r11838/12153\r"
     ]
    },
    {
     "name": "stdout",
     "output_type": "stream",
     "text": [
      "11839/12153\r11840/12153\r11841/12153\r11842/12153\r11843/12153\r11844/12153\r"
     ]
    },
    {
     "name": "stdout",
     "output_type": "stream",
     "text": [
      "11845/12153\r11846/12153\r11847/12153\r11848/12153\r"
     ]
    },
    {
     "name": "stdout",
     "output_type": "stream",
     "text": [
      "11849/12153\r11850/12153\r"
     ]
    },
    {
     "name": "stdout",
     "output_type": "stream",
     "text": [
      "11851/12153\r11852/12153\r11853/12153\r"
     ]
    },
    {
     "name": "stdout",
     "output_type": "stream",
     "text": [
      "11854/12153\r11855/12153\r11856/12153\r11857/12153\r11858/12153\r"
     ]
    },
    {
     "name": "stdout",
     "output_type": "stream",
     "text": [
      "11859/12153\r11860/12153\r11861/12153\r11862/12153\r11863/12153\r11864/12153\r"
     ]
    },
    {
     "name": "stdout",
     "output_type": "stream",
     "text": [
      "11865/12153\r11866/12153\r11867/12153\r11868/12153\r11869/12153\r11870/12153\r"
     ]
    },
    {
     "name": "stdout",
     "output_type": "stream",
     "text": [
      "11871/12153\r11872/12153\r11873/12153\r11874/12153\r11875/12153\r11876/12153\r"
     ]
    },
    {
     "name": "stdout",
     "output_type": "stream",
     "text": [
      "11877/12153\r11878/12153\r11879/12153\r11880/12153\r11881/12153\r11882/12153\r"
     ]
    },
    {
     "name": "stdout",
     "output_type": "stream",
     "text": [
      "11883/12153\r11884/12153\r11885/12153\r11886/12153\r11887/12153\r11888/12153\r"
     ]
    },
    {
     "name": "stdout",
     "output_type": "stream",
     "text": [
      "11889/12153\r11890/12153\r11891/12153\r11892/12153\r11893/12153\r11894/12153\r"
     ]
    },
    {
     "name": "stdout",
     "output_type": "stream",
     "text": [
      "11895/12153\r11896/12153\r11897/12153\r11898/12153\r11899/12153\r11900/12153\r"
     ]
    },
    {
     "name": "stdout",
     "output_type": "stream",
     "text": [
      "11901/12153\r11902/12153\r11903/12153\r11904/12153\r11905/12153\r11906/12153\r"
     ]
    },
    {
     "name": "stdout",
     "output_type": "stream",
     "text": [
      "11907/12153\r11908/12153\r11909/12153\r11910/12153\r11911/12153\r11912/12153\r"
     ]
    },
    {
     "name": "stdout",
     "output_type": "stream",
     "text": [
      "11913/12153\r11914/12153\r11915/12153\r11916/12153\r11917/12153\r"
     ]
    },
    {
     "name": "stdout",
     "output_type": "stream",
     "text": [
      "11918/12153\r11919/12153\r11920/12153\r11921/12153\r11922/12153\r11923/12153\r"
     ]
    },
    {
     "name": "stdout",
     "output_type": "stream",
     "text": [
      "11924/12153\r11925/12153\r11926/12153\r11927/12153\r11928/12153\r11929/12153\r11930/12153\r"
     ]
    },
    {
     "name": "stdout",
     "output_type": "stream",
     "text": [
      "11931/12153\r11932/12153\r11933/12153\r11934/12153\r11935/12153\r11936/12153\r11937/12153\r"
     ]
    },
    {
     "name": "stdout",
     "output_type": "stream",
     "text": [
      "11938/12153\r11939/12153\r11940/12153\r11941/12153\r11942/12153\r11943/12153\r"
     ]
    },
    {
     "name": "stdout",
     "output_type": "stream",
     "text": [
      "11944/12153\r11945/12153\r11946/12153\r11947/12153\r11948/12153\r11949/12153\r"
     ]
    },
    {
     "name": "stdout",
     "output_type": "stream",
     "text": [
      "11950/12153\r11951/12153\r11952/12153\r11953/12153\r11954/12153\r11955/12153\r11956/12153\r"
     ]
    },
    {
     "name": "stdout",
     "output_type": "stream",
     "text": [
      "11957/12153\r11958/12153\r11959/12153\r11960/12153\r11961/12153\r11962/12153\r"
     ]
    },
    {
     "name": "stdout",
     "output_type": "stream",
     "text": [
      "11963/12153\r11964/12153\r11965/12153\r11966/12153\r11967/12153\r11968/12153\r11969/12153\r"
     ]
    },
    {
     "name": "stdout",
     "output_type": "stream",
     "text": [
      "11970/12153\r11971/12153\r11972/12153\r11973/12153\r11974/12153\r11975/12153\r11976/12153\r"
     ]
    },
    {
     "name": "stdout",
     "output_type": "stream",
     "text": [
      "11977/12153\r11978/12153\r11979/12153\r11980/12153\r11981/12153\r11982/12153\r11983/12153\r"
     ]
    },
    {
     "name": "stdout",
     "output_type": "stream",
     "text": [
      "11984/12153\r11985/12153\r11986/12153\r11987/12153\r11988/12153\r11989/12153\r11990/12153\r"
     ]
    },
    {
     "name": "stdout",
     "output_type": "stream",
     "text": [
      "11991/12153\r11992/12153\r11993/12153\r11994/12153\r11995/12153\r11996/12153\r11997/12153\r"
     ]
    },
    {
     "name": "stdout",
     "output_type": "stream",
     "text": [
      "11998/12153\r11999/12153\r12000/12153\r12001/12153\r12002/12153\r12003/12153\r12004/12153\r"
     ]
    },
    {
     "name": "stdout",
     "output_type": "stream",
     "text": [
      "12005/12153\r12006/12153\r12007/12153\r12008/12153\r12009/12153\r12010/12153\r12011/12153\r"
     ]
    },
    {
     "name": "stdout",
     "output_type": "stream",
     "text": [
      "12012/12153\r12013/12153\r12014/12153\r12015/12153\r12016/12153\r12017/12153\r"
     ]
    },
    {
     "name": "stdout",
     "output_type": "stream",
     "text": [
      "12018/12153\r12019/12153\r12020/12153\r12021/12153\r12022/12153\r12023/12153\r12024/12153\r"
     ]
    },
    {
     "name": "stdout",
     "output_type": "stream",
     "text": [
      "12025/12153\r12026/12153\r12027/12153\r12028/12153\r12029/12153\r12030/12153\r12031/12153"
     ]
    },
    {
     "name": "stdout",
     "output_type": "stream",
     "text": [
      "\r12032/12153\r12033/12153\r12034/12153\r12035/12153\r12036/12153\r12037/12153\r12038/12153\r"
     ]
    },
    {
     "name": "stdout",
     "output_type": "stream",
     "text": [
      "12039/12153\r12040/12153\r12041/12153\r12042/12153\r12043/12153\r12044/12153\r12045/12153\r"
     ]
    },
    {
     "name": "stdout",
     "output_type": "stream",
     "text": [
      "12046/12153\r12047/12153\r12048/12153\r12049/12153\r12050/12153\r12051/12153\r12052/12153\r"
     ]
    },
    {
     "name": "stdout",
     "output_type": "stream",
     "text": [
      "12053/12153\r12054/12153\r12055/12153\r12056/12153\r12057/12153\r12058/12153\r12059/12153\r"
     ]
    },
    {
     "name": "stdout",
     "output_type": "stream",
     "text": [
      "12060/12153\r12061/12153\r12062/12153\r12063/12153\r12064/12153\r12065/12153\r12066/12153\r"
     ]
    },
    {
     "name": "stdout",
     "output_type": "stream",
     "text": [
      "12067/12153\r12068/12153\r12069/12153\r12070/12153\r12071/12153\r12072/12153\r"
     ]
    },
    {
     "name": "stdout",
     "output_type": "stream",
     "text": [
      "12073/12153\r12074/12153\r12075/12153\r12076/12153\r12077/12153\r12078/12153\r12079/12153\r"
     ]
    },
    {
     "name": "stdout",
     "output_type": "stream",
     "text": [
      "12080/12153\r12081/12153\r12082/12153\r12083/12153\r12084/12153\r12085/12153\r"
     ]
    },
    {
     "name": "stdout",
     "output_type": "stream",
     "text": [
      "12086/12153\r12087/12153\r12088/12153\r12089/12153\r12090/12153\r12091/12153\r12092/12153\r"
     ]
    },
    {
     "name": "stdout",
     "output_type": "stream",
     "text": [
      "12093/12153\r12094/12153\r12095/12153\r12096/12153\r12097/12153\r12098/12153\r"
     ]
    },
    {
     "name": "stdout",
     "output_type": "stream",
     "text": [
      "12099/12153\r12100/12153\r12101/12153\r12102/12153\r12103/12153\r12104/12153\r12105/12153\r"
     ]
    },
    {
     "name": "stdout",
     "output_type": "stream",
     "text": [
      "12106/12153\r12107/12153\r12108/12153\r12109/12153\r12110/12153\r12111/12153\r12112/12153\r"
     ]
    },
    {
     "name": "stdout",
     "output_type": "stream",
     "text": [
      "12113/12153\r12114/12153\r12115/12153\r12116/12153\r12117/12153\r12118/12153\r12119/12153\r"
     ]
    },
    {
     "name": "stdout",
     "output_type": "stream",
     "text": [
      "12120/12153\r12121/12153\r12122/12153\r12123/12153\r12124/12153\r12125/12153\r12126/12153\r"
     ]
    },
    {
     "name": "stdout",
     "output_type": "stream",
     "text": [
      "12127/12153\r12128/12153\r12129/12153\r12130/12153\r12131/12153\r12132/12153\r12133/12153\r"
     ]
    },
    {
     "name": "stdout",
     "output_type": "stream",
     "text": [
      "12134/12153\r12135/12153\r12136/12153\r12137/12153\r12138/12153\r12139/12153\r"
     ]
    },
    {
     "name": "stdout",
     "output_type": "stream",
     "text": [
      "12140/12153\r12141/12153\r12142/12153\r12143/12153\r12144/12153\r12145/12153\r"
     ]
    },
    {
     "name": "stdout",
     "output_type": "stream",
     "text": [
      "12146/12153\r12147/12153\r12148/12153\r12149/12153\r12150/12153\r12151/12153\r"
     ]
    },
    {
     "name": "stdout",
     "output_type": "stream",
     "text": [
      "12152/12153\r"
     ]
    }
   ],
   "source": [
    "import numpy as np\n",
    "\n",
    "batch_x = np.ndarray((n_files, *SHAPE), dtype=np.float32)\n",
    "\n",
    "for idx, file in enumerate(files):\n",
    "    print('%04d/%04d' % (idx, n_files), end='\\r')\n",
    "    path = os.path.join(DATA_FOLDER, file)\n",
    "    img = Image.open(path)\n",
    "    img = img.resize(SHAPE[:2][::-1])\n",
    "    img = np.asarray(img, dtype=np.float32)\n",
    "    batch_x[idx] = img\n",
    "    \n",
    "batch_x = preprocess_input(batch_x)"
   ]
  },
  {
   "cell_type": "code",
   "execution_count": 25,
   "metadata": {
    "collapsed": true
   },
   "outputs": [
    {
     "name": "stdout",
     "output_type": "stream",
     "text": [
      "\r   16/12153 [..............................] - ETA: 41571s"
     ]
    },
    {
     "name": "stdout",
     "output_type": "stream",
     "text": [
      "\b\b\b\b\b\b\b\b\b\b\b\b\b\b\b\b\b\b\b\b\b\b\b\b\b\b\b\b\b\b\b\b\b\b\b\b\b\b\b\b\b\b\b\b\b\b\b\b\b\b\b\b\b\b\b\b\b\b\r   32/12153 [..............................] - ETA: 37012s"
     ]
    },
    {
     "name": "stdout",
     "output_type": "stream",
     "text": [
      "\b\b\b\b\b\b\b\b\b\b\b\b\b\b\b\b\b\b\b\b\b\b\b\b\b\b\b\b\b\b\b\b\b\b\b\b\b\b\b\b\b\b\b\b\b\b\b\b\b\b\b\b\b\b\b\b\b\b\r   48/12153 [..............................] - ETA: 34866s"
     ]
    },
    {
     "name": "stdout",
     "output_type": "stream",
     "text": [
      "\b\b\b\b\b\b\b\b\b\b\b\b\b\b\b\b\b\b\b\b\b\b\b\b\b\b\b\b\b\b\b\b\b\b\b\b\b\b\b\b\b\b\b\b\b\b\b\b\b\b\b\b\b\b\b\b\b\b\r   64/12153 [..............................] - ETA: 33456s"
     ]
    },
    {
     "name": "stdout",
     "output_type": "stream",
     "text": [
      "\b\b\b\b\b\b\b\b\b\b\b\b\b\b\b\b\b\b\b\b\b\b\b\b\b\b\b\b\b\b\b\b\b\b\b\b\b\b\b\b\b\b\b\b\b\b\b\b\b\b\b\b\b\b\b\b\b\b\r   80/12153 [..............................] - ETA: 32602s"
     ]
    },
    {
     "name": "stdout",
     "output_type": "stream",
     "text": [
      "\b\b\b\b\b\b\b\b\b\b\b\b\b\b\b\b\b\b\b\b\b\b\b\b\b\b\b\b\b\b\b\b\b\b\b\b\b\b\b\b\b\b\b\b\b\b\b\b\b\b\b\b\b\b\b\b\b\b\r   96/12153 [..............................] - ETA: 32000s"
     ]
    },
    {
     "name": "stdout",
     "output_type": "stream",
     "text": [
      "\b\b\b\b\b\b\b\b\b\b\b\b\b\b\b\b\b\b\b\b\b\b\b\b\b\b\b\b\b\b\b\b\b\b\b\b\b\b\b\b\b\b\b\b\b\b\b\b\b\b\b\b\b\b\b\b\b\b\r  112/12153 [..............................] - ETA: 31592s"
     ]
    },
    {
     "name": "stdout",
     "output_type": "stream",
     "text": [
      "\b\b\b\b\b\b\b\b\b\b\b\b\b\b\b\b\b\b\b\b\b\b\b\b\b\b\b\b\b\b\b\b\b\b\b\b\b\b\b\b\b\b\b\b\b\b\b\b\b\b\b\b\b\b\b\b\b\b\r  128/12153 [..............................] - ETA: 31278s"
     ]
    },
    {
     "name": "stdout",
     "output_type": "stream",
     "text": [
      "\b\b\b\b\b\b\b\b\b\b\b\b\b\b\b\b\b\b\b\b\b\b\b\b\b\b\b\b\b\b\b\b\b\b\b\b\b\b\b\b\b\b\b\b\b\b\b\b\b\b\b\b\b\b\b\b\b\b\r  144/12153 [..............................] - ETA: 31040s"
     ]
    },
    {
     "name": "stdout",
     "output_type": "stream",
     "text": [
      "\b\b\b\b\b\b\b\b\b\b\b\b\b\b\b\b\b\b\b\b\b\b\b\b\b\b\b\b\b\b\b\b\b\b\b\b\b\b\b\b\b\b\b\b\b\b\b\b\b\b\b\b\b\b\b\b\b\b\r  160/12153 [..............................] - ETA: 30855s"
     ]
    },
    {
     "name": "stdout",
     "output_type": "stream",
     "text": [
      "\b\b\b\b\b\b\b\b\b\b\b\b\b\b\b\b\b\b\b\b\b\b\b\b\b\b\b\b\b\b\b\b\b\b\b\b\b\b\b\b\b\b\b\b\b\b\b\b\b\b\b\b\b\b\b\b\b\b\r  176/12153 [..............................] - ETA: 30687s"
     ]
    },
    {
     "name": "stdout",
     "output_type": "stream",
     "text": [
      "\b\b\b\b\b\b\b\b\b\b\b\b\b\b\b\b\b\b\b\b\b\b\b\b\b\b\b\b\b\b\b\b\b\b\b\b\b\b\b\b\b\b\b\b\b\b\b\b\b\b\b\b\b\b\b\b\b\b\r  192/12153 [..............................] - ETA: 30543s"
     ]
    },
    {
     "name": "stdout",
     "output_type": "stream",
     "text": [
      "\b\b\b\b\b\b\b\b\b\b\b\b\b\b\b\b\b\b\b\b\b\b\b\b\b\b\b\b\b\b\b\b\b\b\b\b\b\b\b\b\b\b\b\b\b\b\b\b\b\b\b\b\b\b\b\b\b\b\r  208/12153 [..............................] - ETA: 30417s"
     ]
    },
    {
     "name": "stdout",
     "output_type": "stream",
     "text": [
      "\b\b\b\b\b\b\b\b\b\b\b\b\b\b\b\b\b\b\b\b\b\b\b\b\b\b\b\b\b\b\b\b\b\b\b\b\b\b\b\b\b\b\b\b\b\b\b\b\b\b\b\b\b\b\b\b\b\b\r  224/12153 [..............................] - ETA: 30321s"
     ]
    },
    {
     "name": "stdout",
     "output_type": "stream",
     "text": [
      "\b\b\b\b\b\b\b\b\b\b\b\b\b\b\b\b\b\b\b\b\b\b\b\b\b\b\b\b\b\b\b\b\b\b\b\b\b\b\b\b\b\b\b\b\b\b\b\b\b\b\b\b\b\b\b\b\b\b\r  240/12153 [..............................] - ETA: 30224s"
     ]
    },
    {
     "name": "stdout",
     "output_type": "stream",
     "text": [
      "\b\b\b\b\b\b\b\b\b\b\b\b\b\b\b\b\b\b\b\b\b\b\b\b\b\b\b\b\b\b\b\b\b\b\b\b\b\b\b\b\b\b\b\b\b\b\b\b\b\b\b\b\b\b\b\b\b\b\r  256/12153 [..............................] - ETA: 30148s"
     ]
    },
    {
     "name": "stdout",
     "output_type": "stream",
     "text": [
      "\b\b\b\b\b\b\b\b\b\b\b\b\b\b\b\b\b\b\b\b\b\b\b\b\b\b\b\b\b\b\b\b\b\b\b\b\b\b\b\b\b\b\b\b\b\b\b\b\b\b\b\b\b\b\b\b\b\b\r  272/12153 [..............................] - ETA: 30083s"
     ]
    },
    {
     "name": "stdout",
     "output_type": "stream",
     "text": [
      "\b\b\b\b\b\b\b\b\b\b\b\b\b\b\b\b\b\b\b\b\b\b\b\b\b\b\b\b\b\b\b\b\b\b\b\b\b\b\b\b\b\b\b\b\b\b\b\b\b\b\b\b\b\b\b\b\b\b\r  288/12153 [..............................] - ETA: 30029s"
     ]
    },
    {
     "name": "stdout",
     "output_type": "stream",
     "text": [
      "\b\b\b\b\b\b\b\b\b\b\b\b\b\b\b\b\b\b\b\b\b\b\b\b\b\b\b\b\b\b\b\b\b\b\b\b\b\b\b\b\b\b\b\b\b\b\b\b\b\b\b\b\b\b\b\b\b\b\r  304/12153 [..............................] - ETA: 29969s"
     ]
    },
    {
     "name": "stdout",
     "output_type": "stream",
     "text": [
      "\b\b\b\b\b\b\b\b\b\b\b\b\b\b\b\b\b\b\b\b\b\b\b\b\b\b\b\b\b\b\b\b\b\b\b\b\b\b\b\b\b\b\b\b\b\b\b\b\b\b\b\b\b\b\b\b\b\b\r  320/12153 [..............................] - ETA: 29905s"
     ]
    },
    {
     "name": "stdout",
     "output_type": "stream",
     "text": [
      "\b\b\b\b\b\b\b\b\b\b\b\b\b\b\b\b\b\b\b\b\b\b\b\b\b\b\b\b\b\b\b\b\b\b\b\b\b\b\b\b\b\b\b\b\b\b\b\b\b\b\b\b\b\b\b\b\b\b\r  336/12153 [..............................] - ETA: 29846s"
     ]
    },
    {
     "name": "stdout",
     "output_type": "stream",
     "text": [
      "\b\b\b\b\b\b\b\b\b\b\b\b\b\b\b\b\b\b\b\b\b\b\b\b\b\b\b\b\b\b\b\b\b\b\b\b\b\b\b\b\b\b\b\b\b\b\b\b\b\b\b\b\b\b\b\b\b\b\r  352/12153 [..............................] - ETA: 29795s"
     ]
    },
    {
     "name": "stdout",
     "output_type": "stream",
     "text": [
      "\b\b\b\b\b\b\b\b\b\b\b\b\b\b\b\b\b\b\b\b\b\b\b\b\b\b\b\b\b\b\b\b\b\b\b\b\b\b\b\b\b\b\b\b\b\b\b\b\b\b\b\b\b\b\b\b\b\b\r  368/12153 [..............................] - ETA: 29741s"
     ]
    },
    {
     "name": "stdout",
     "output_type": "stream",
     "text": [
      "\b\b\b\b\b\b\b\b\b\b\b\b\b\b\b\b\b\b\b\b\b\b\b\b\b\b\b\b\b\b\b\b\b\b\b\b\b\b\b\b\b\b\b\b\b\b\b\b\b\b\b\b\b\b\b\b\b\b\r  384/12153 [..............................] - ETA: 29673s"
     ]
    },
    {
     "name": "stdout",
     "output_type": "stream",
     "text": [
      "\b\b\b\b\b\b\b\b\b\b\b\b\b\b\b\b\b\b\b\b\b\b\b\b\b\b\b\b\b\b\b\b\b\b\b\b\b\b\b\b\b\b\b\b\b\b\b\b\b\b\b\b\b\b\b\b\b\b\r  400/12153 [..............................] - ETA: 29617s"
     ]
    },
    {
     "name": "stdout",
     "output_type": "stream",
     "text": [
      "\b\b\b\b\b\b\b\b\b\b\b\b\b\b\b\b\b\b\b\b\b\b\b\b\b\b\b\b\b\b\b\b\b\b\b\b\b\b\b\b\b\b\b\b\b\b\b\b\b\b\b\b\b\b\b\b\b\b\r  416/12153 [>.............................] - ETA: 29569s"
     ]
    },
    {
     "name": "stdout",
     "output_type": "stream",
     "text": [
      "\b\b\b\b\b\b\b\b\b\b\b\b\b\b\b\b\b\b\b\b\b\b\b\b\b\b\b\b\b\b\b\b\b\b\b\b\b\b\b\b\b\b\b\b\b\b\b\b\b\b\b\b\b\b\b\b\b\b\r  432/12153 [>.............................] - ETA: 29516s"
     ]
    },
    {
     "name": "stdout",
     "output_type": "stream",
     "text": [
      "\b\b\b\b\b\b\b\b\b\b\b\b\b\b\b\b\b\b\b\b\b\b\b\b\b\b\b\b\b\b\b\b\b\b\b\b\b\b\b\b\b\b\b\b\b\b\b\b\b\b\b\b\b\b\b\b\b\b\r  448/12153 [>.............................] - ETA: 29474s"
     ]
    },
    {
     "name": "stdout",
     "output_type": "stream",
     "text": [
      "\b\b\b\b\b\b\b\b\b\b\b\b\b\b\b\b\b\b\b\b\b\b\b\b\b\b\b\b\b\b\b\b\b\b\b\b\b\b\b\b\b\b\b\b\b\b\b\b\b\b\b\b\b\b\b\b\b\b\r  464/12153 [>.............................] - ETA: 29417s"
     ]
    },
    {
     "name": "stdout",
     "output_type": "stream",
     "text": [
      "\b\b\b\b\b\b\b\b\b\b\b\b\b\b\b\b\b\b\b\b\b\b\b\b\b\b\b\b\b\b\b\b\b\b\b\b\b\b\b\b\b\b\b\b\b\b\b\b\b\b\b\b\b\b\b\b\b\b\r  480/12153 [>.............................] - ETA: 29380s"
     ]
    },
    {
     "name": "stdout",
     "output_type": "stream",
     "text": [
      "\b\b\b\b\b\b\b\b\b\b\b\b\b\b\b\b\b\b\b\b\b\b\b\b\b\b\b\b\b\b\b\b\b\b\b\b\b\b\b\b\b\b\b\b\b\b\b\b\b\b\b\b\b\b\b\b\b\b\r  496/12153 [>.............................] - ETA: 29329s"
     ]
    },
    {
     "name": "stdout",
     "output_type": "stream",
     "text": [
      "\b\b\b\b\b\b\b\b\b\b\b\b\b\b\b\b\b\b\b\b\b\b\b\b\b\b\b\b\b\b\b\b\b\b\b\b\b\b\b\b\b\b\b\b\b\b\b\b\b\b\b\b\b\b\b\b\b\b\r  512/12153 [>.............................] - ETA: 29282s"
     ]
    },
    {
     "name": "stdout",
     "output_type": "stream",
     "text": [
      "\b\b\b\b\b\b\b\b\b\b\b\b\b\b\b\b\b\b\b\b\b\b\b\b\b\b\b\b\b\b\b\b\b\b\b\b\b\b\b\b\b\b\b\b\b\b\b\b\b\b\b\b\b\b\b\b\b\b\r  528/12153 [>.............................] - ETA: 29297s"
     ]
    },
    {
     "name": "stdout",
     "output_type": "stream",
     "text": [
      "\b\b\b\b\b\b\b\b\b\b\b\b\b\b\b\b\b\b\b\b\b\b\b\b\b\b\b\b\b\b\b\b\b\b\b\b\b\b\b\b\b\b\b\b\b\b\b\b\b\b\b\b\b\b\b\b\b\b\r  544/12153 [>.............................] - ETA: 29266s"
     ]
    },
    {
     "name": "stdout",
     "output_type": "stream",
     "text": [
      "\b\b\b\b\b\b\b\b\b\b\b\b\b\b\b\b\b\b\b\b\b\b\b\b\b\b\b\b\b\b\b\b\b\b\b\b\b\b\b\b\b\b\b\b\b\b\b\b\b\b\b\b\b\b\b\b\b\b\r  560/12153 [>.............................] - ETA: 29221s"
     ]
    },
    {
     "name": "stdout",
     "output_type": "stream",
     "text": [
      "\b\b\b\b\b\b\b\b\b\b\b\b\b\b\b\b\b\b\b\b\b\b\b\b\b\b\b\b\b\b\b\b\b\b\b\b\b\b\b\b\b\b\b\b\b\b\b\b\b\b\b\b\b\b\b\b\b\b\r  576/12153 [>.............................] - ETA: 29161s"
     ]
    },
    {
     "name": "stdout",
     "output_type": "stream",
     "text": [
      "\b\b\b\b\b\b\b\b\b\b\b\b\b\b\b\b\b\b\b\b\b\b\b\b\b\b\b\b\b\b\b\b\b\b\b\b\b\b\b\b\b\b\b\b\b\b\b\b\b\b\b\b\b\b\b\b\b\b\r  592/12153 [>.............................] - ETA: 29112s"
     ]
    },
    {
     "name": "stdout",
     "output_type": "stream",
     "text": [
      "\b\b\b\b\b\b\b\b\b\b\b\b\b\b\b\b\b\b\b\b\b\b\b\b\b\b\b\b\b\b\b\b\b\b\b\b\b\b\b\b\b\b\b\b\b\b\b\b\b\b\b\b\b\b\b\b\b\b\r  608/12153 [>.............................] - ETA: 29071s"
     ]
    },
    {
     "name": "stdout",
     "output_type": "stream",
     "text": [
      "\b\b\b\b\b\b\b\b\b\b\b\b\b\b\b\b\b\b\b\b\b\b\b\b\b\b\b\b\b\b\b\b\b\b\b\b\b\b\b\b\b\b\b\b\b\b\b\b\b\b\b\b\b\b\b\b\b\b\r  624/12153 [>.............................] - ETA: 29027s"
     ]
    },
    {
     "name": "stdout",
     "output_type": "stream",
     "text": [
      "\b\b\b\b\b\b\b\b\b\b\b\b\b\b\b\b\b\b\b\b\b\b\b\b\b\b\b\b\b\b\b\b\b\b\b\b\b\b\b\b\b\b\b\b\b\b\b\b\b\b\b\b\b\b\b\b\b\b\r  640/12153 [>.............................] - ETA: 28986s"
     ]
    },
    {
     "name": "stdout",
     "output_type": "stream",
     "text": [
      "\b\b\b\b\b\b\b\b\b\b\b\b\b\b\b\b\b\b\b\b\b\b\b\b\b\b\b\b\b\b\b\b\b\b\b\b\b\b\b\b\b\b\b\b\b\b\b\b\b\b\b\b\b\b\b\b\b\b\r  656/12153 [>.............................] - ETA: 28926s"
     ]
    },
    {
     "name": "stdout",
     "output_type": "stream",
     "text": [
      "\b\b\b\b\b\b\b\b\b\b\b\b\b\b\b\b\b\b\b\b\b\b\b\b\b\b\b\b\b\b\b\b\b\b\b\b\b\b\b\b\b\b\b\b\b\b\b\b\b\b\b\b\b\b\b\b\b\b\r  672/12153 [>.............................] - ETA: 28879s"
     ]
    },
    {
     "name": "stdout",
     "output_type": "stream",
     "text": [
      "\b\b\b\b\b\b\b\b\b\b\b\b\b\b\b\b\b\b\b\b\b\b\b\b\b\b\b\b\b\b\b\b\b\b\b\b\b\b\b\b\b\b\b\b\b\b\b\b\b\b\b\b\b\b\b\b\b\b\r  688/12153 [>.............................] - ETA: 28826s"
     ]
    },
    {
     "name": "stdout",
     "output_type": "stream",
     "text": [
      "\b\b\b\b\b\b\b\b\b\b\b\b\b\b\b\b\b\b\b\b\b\b\b\b\b\b\b\b\b\b\b\b\b\b\b\b\b\b\b\b\b\b\b\b\b\b\b\b\b\b\b\b\b\b\b\b\b\b\r  704/12153 [>.............................] - ETA: 28791s"
     ]
    },
    {
     "name": "stdout",
     "output_type": "stream",
     "text": [
      "\b\b\b\b\b\b\b\b\b\b\b\b\b\b\b\b\b\b\b\b\b\b\b\b\b\b\b\b\b\b\b\b\b\b\b\b\b\b\b\b\b\b\b\b\b\b\b\b\b\b\b\b\b\b\b\b\b\b\r  720/12153 [>.............................] - ETA: 28736s"
     ]
    },
    {
     "name": "stdout",
     "output_type": "stream",
     "text": [
      "\b\b\b\b\b\b\b\b\b\b\b\b\b\b\b\b\b\b\b\b\b\b\b\b\b\b\b\b\b\b\b\b\b\b\b\b\b\b\b\b\b\b\b\b\b\b\b\b\b\b\b\b\b\b\b\b\b\b\r  736/12153 [>.............................] - ETA: 28676s"
     ]
    },
    {
     "name": "stdout",
     "output_type": "stream",
     "text": [
      "\b\b\b\b\b\b\b\b\b\b\b\b\b\b\b\b\b\b\b\b\b\b\b\b\b\b\b\b\b\b\b\b\b\b\b\b\b\b\b\b\b\b\b\b\b\b\b\b\b\b\b\b\b\b\b\b\b\b\r  752/12153 [>.............................] - ETA: 28626s"
     ]
    },
    {
     "name": "stdout",
     "output_type": "stream",
     "text": [
      "\b\b\b\b\b\b\b\b\b\b\b\b\b\b\b\b\b\b\b\b\b\b\b\b\b\b\b\b\b\b\b\b\b\b\b\b\b\b\b\b\b\b\b\b\b\b\b\b\b\b\b\b\b\b\b\b\b\b\r  768/12153 [>.............................] - ETA: 28589s"
     ]
    },
    {
     "name": "stdout",
     "output_type": "stream",
     "text": [
      "\b\b\b\b\b\b\b\b\b\b\b\b\b\b\b\b\b\b\b\b\b\b\b\b\b\b\b\b\b\b\b\b\b\b\b\b\b\b\b\b\b\b\b\b\b\b\b\b\b\b\b\b\b\b\b\b\b\b\r  784/12153 [>.............................] - ETA: 28535s"
     ]
    },
    {
     "name": "stdout",
     "output_type": "stream",
     "text": [
      "\b\b\b\b\b\b\b\b\b\b\b\b\b\b\b\b\b\b\b\b\b\b\b\b\b\b\b\b\b\b\b\b\b\b\b\b\b\b\b\b\b\b\b\b\b\b\b\b\b\b\b\b\b\b\b\b\b\b\r  800/12153 [>.............................] - ETA: 28486s"
     ]
    },
    {
     "name": "stdout",
     "output_type": "stream",
     "text": [
      "\b\b\b\b\b\b\b\b\b\b\b\b\b\b\b\b\b\b\b\b\b\b\b\b\b\b\b\b\b\b\b\b\b\b\b\b\b\b\b\b\b\b\b\b\b\b\b\b\b\b\b\b\b\b\b\b\b\b\r  816/12153 [=>............................] - ETA: 28437s"
     ]
    },
    {
     "name": "stdout",
     "output_type": "stream",
     "text": [
      "\b\b\b\b\b\b\b\b\b\b\b\b\b\b\b\b\b\b\b\b\b\b\b\b\b\b\b\b\b\b\b\b\b\b\b\b\b\b\b\b\b\b\b\b\b\b\b\b\b\b\b\b\b\b\b\b\b\b\r  832/12153 [=>............................] - ETA: 28389s"
     ]
    },
    {
     "name": "stdout",
     "output_type": "stream",
     "text": [
      "\b\b\b\b\b\b\b\b\b\b\b\b\b\b\b\b\b\b\b\b\b\b\b\b\b\b\b\b\b\b\b\b\b\b\b\b\b\b\b\b\b\b\b\b\b\b\b\b\b\b\b\b\b\b\b\b\b\b\r  848/12153 [=>............................] - ETA: 28347s"
     ]
    },
    {
     "name": "stdout",
     "output_type": "stream",
     "text": [
      "\b\b\b\b\b\b\b\b\b\b\b\b\b\b\b\b\b\b\b\b\b\b\b\b\b\b\b\b\b\b\b\b\b\b\b\b\b\b\b\b\b\b\b\b\b\b\b\b\b\b\b\b\b\b\b\b\b\b\r  864/12153 [=>............................] - ETA: 28297s"
     ]
    },
    {
     "name": "stdout",
     "output_type": "stream",
     "text": [
      "\b\b\b\b\b\b\b\b\b\b\b\b\b\b\b\b\b\b\b\b\b\b\b\b\b\b\b\b\b\b\b\b\b\b\b\b\b\b\b\b\b\b\b\b\b\b\b\b\b\b\b\b\b\b\b\b\b\b\r  880/12153 [=>............................] - ETA: 28258s"
     ]
    },
    {
     "name": "stdout",
     "output_type": "stream",
     "text": [
      "\b\b\b\b\b\b\b\b\b\b\b\b\b\b\b\b\b\b\b\b\b\b\b\b\b\b\b\b\b\b\b\b\b\b\b\b\b\b\b\b\b\b\b\b\b\b\b\b\b\b\b\b\b\b\b\b\b\b\r  896/12153 [=>............................] - ETA: 28207s"
     ]
    },
    {
     "name": "stdout",
     "output_type": "stream",
     "text": [
      "\b\b\b\b\b\b\b\b\b\b\b\b\b\b\b\b\b\b\b\b\b\b\b\b\b\b\b\b\b\b\b\b\b\b\b\b\b\b\b\b\b\b\b\b\b\b\b\b\b\b\b\b\b\b\b\b\b\b\r  912/12153 [=>............................] - ETA: 28171s"
     ]
    },
    {
     "name": "stdout",
     "output_type": "stream",
     "text": [
      "\b\b\b\b\b\b\b\b\b\b\b\b\b\b\b\b\b\b\b\b\b\b\b\b\b\b\b\b\b\b\b\b\b\b\b\b\b\b\b\b\b\b\b\b\b\b\b\b\b\b\b\b\b\b\b\b\b\b\r  928/12153 [=>............................] - ETA: 28120s"
     ]
    },
    {
     "name": "stdout",
     "output_type": "stream",
     "text": [
      "\b\b\b\b\b\b\b\b\b\b\b\b\b\b\b\b\b\b\b\b\b\b\b\b\b\b\b\b\b\b\b\b\b\b\b\b\b\b\b\b\b\b\b\b\b\b\b\b\b\b\b\b\b\b\b\b\b\b\r  944/12153 [=>............................] - ETA: 28069s"
     ]
    },
    {
     "name": "stdout",
     "output_type": "stream",
     "text": [
      "\b\b\b\b\b\b\b\b\b\b\b\b\b\b\b\b\b\b\b\b\b\b\b\b\b\b\b\b\b\b\b\b\b\b\b\b\b\b\b\b\b\b\b\b\b\b\b\b\b\b\b\b\b\b\b\b\b\b\r  960/12153 [=>............................] - ETA: 28026s"
     ]
    },
    {
     "name": "stdout",
     "output_type": "stream",
     "text": [
      "\b\b\b\b\b\b\b\b\b\b\b\b\b\b\b\b\b\b\b\b\b\b\b\b\b\b\b\b\b\b\b\b\b\b\b\b\b\b\b\b\b\b\b\b\b\b\b\b\b\b\b\b\b\b\b\b\b\b\r  976/12153 [=>............................] - ETA: 27979s"
     ]
    },
    {
     "name": "stdout",
     "output_type": "stream",
     "text": [
      "\b\b\b\b\b\b\b\b\b\b\b\b\b\b\b\b\b\b\b\b\b\b\b\b\b\b\b\b\b\b\b\b\b\b\b\b\b\b\b\b\b\b\b\b\b\b\b\b\b\b\b\b\b\b\b\b\b\b\r  992/12153 [=>............................] - ETA: 27933s"
     ]
    },
    {
     "name": "stdout",
     "output_type": "stream",
     "text": [
      "\b\b\b\b\b\b\b\b\b\b\b\b\b\b\b\b\b\b\b\b\b\b\b\b\b\b\b\b\b\b\b\b\b\b\b\b\b\b\b\b\b\b\b\b\b\b\b\b\b\b\b\b\b\b\b\b\b\b\r 1008/12153 [=>............................] - ETA: 27886s"
     ]
    },
    {
     "name": "stdout",
     "output_type": "stream",
     "text": [
      "\b\b\b\b\b\b\b\b\b\b\b\b\b\b\b\b\b\b\b\b\b\b\b\b\b\b\b\b\b\b\b\b\b\b\b\b\b\b\b\b\b\b\b\b\b\b\b\b\b\b\b\b\b\b\b\b\b\b\r 1024/12153 [=>............................] - ETA: 27852s"
     ]
    },
    {
     "name": "stdout",
     "output_type": "stream",
     "text": [
      "\b\b\b\b\b\b\b\b\b\b\b\b\b\b\b\b\b\b\b\b\b\b\b\b\b\b\b\b\b\b\b\b\b\b\b\b\b\b\b\b\b\b\b\b\b\b\b\b\b\b\b\b\b\b\b\b\b\b\r 1040/12153 [=>............................] - ETA: 27803s"
     ]
    },
    {
     "name": "stdout",
     "output_type": "stream",
     "text": [
      "\b\b\b\b\b\b\b\b\b\b\b\b\b\b\b\b\b\b\b\b\b\b\b\b\b\b\b\b\b\b\b\b\b\b\b\b\b\b\b\b\b\b\b\b\b\b\b\b\b\b\b\b\b\b\b\b\b\b\r 1056/12153 [=>............................] - ETA: 27765s"
     ]
    },
    {
     "name": "stdout",
     "output_type": "stream",
     "text": [
      "\b\b\b\b\b\b\b\b\b\b\b\b\b\b\b\b\b\b\b\b\b\b\b\b\b\b\b\b\b\b\b\b\b\b\b\b\b\b\b\b\b\b\b\b\b\b\b\b\b\b\b\b\b\b\b\b\b\b\r 1072/12153 [=>............................] - ETA: 27722s"
     ]
    },
    {
     "name": "stdout",
     "output_type": "stream",
     "text": [
      "\b\b\b\b\b\b\b\b\b\b\b\b\b\b\b\b\b\b\b\b\b\b\b\b\b\b\b\b\b\b\b\b\b\b\b\b\b\b\b\b\b\b\b\b\b\b\b\b\b\b\b\b\b\b\b\b\b\b\r 1088/12153 [=>............................] - ETA: 27688s"
     ]
    },
    {
     "name": "stdout",
     "output_type": "stream",
     "text": [
      "\b\b\b\b\b\b\b\b\b\b\b\b\b\b\b\b\b\b\b\b\b\b\b\b\b\b\b\b\b\b\b\b\b\b\b\b\b\b\b\b\b\b\b\b\b\b\b\b\b\b\b\b\b\b\b\b\b\b\r 1104/12153 [=>............................] - ETA: 27644s"
     ]
    },
    {
     "name": "stdout",
     "output_type": "stream",
     "text": [
      "\b\b\b\b\b\b\b\b\b\b\b\b\b\b\b\b\b\b\b\b\b\b\b\b\b\b\b\b\b\b\b\b\b\b\b\b\b\b\b\b\b\b\b\b\b\b\b\b\b\b\b\b\b\b\b\b\b\b\r 1120/12153 [=>............................] - ETA: 27603s"
     ]
    },
    {
     "name": "stdout",
     "output_type": "stream",
     "text": [
      "\b\b\b\b\b\b\b\b\b\b\b\b\b\b\b\b\b\b\b\b\b\b\b\b\b\b\b\b\b\b\b\b\b\b\b\b\b\b\b\b\b\b\b\b\b\b\b\b\b\b\b\b\b\b\b\b\b\b\r 1136/12153 [=>............................] - ETA: 27558s"
     ]
    },
    {
     "name": "stdout",
     "output_type": "stream",
     "text": [
      "\b\b\b\b\b\b\b\b\b\b\b\b\b\b\b\b\b\b\b\b\b\b\b\b\b\b\b\b\b\b\b\b\b\b\b\b\b\b\b\b\b\b\b\b\b\b\b\b\b\b\b\b\b\b\b\b\b\b\r 1152/12153 [=>............................] - ETA: 27519s"
     ]
    },
    {
     "name": "stdout",
     "output_type": "stream",
     "text": [
      "\b\b\b\b\b\b\b\b\b\b\b\b\b\b\b\b\b\b\b\b\b\b\b\b\b\b\b\b\b\b\b\b\b\b\b\b\b\b\b\b\b\b\b\b\b\b\b\b\b\b\b\b\b\b\b\b\b\b\r 1168/12153 [=>............................] - ETA: 27472s"
     ]
    },
    {
     "name": "stdout",
     "output_type": "stream",
     "text": [
      "\b\b\b\b\b\b\b\b\b\b\b\b\b\b\b\b\b\b\b\b\b\b\b\b\b\b\b\b\b\b\b\b\b\b\b\b\b\b\b\b\b\b\b\b\b\b\b\b\b\b\b\b\b\b\b\b\b\b\r 1184/12153 [=>............................] - ETA: 27430s"
     ]
    },
    {
     "name": "stdout",
     "output_type": "stream",
     "text": [
      "\b\b\b\b\b\b\b\b\b\b\b\b\b\b\b\b\b\b\b\b\b\b\b\b\b\b\b\b\b\b\b\b\b\b\b\b\b\b\b\b\b\b\b\b\b\b\b\b\b\b\b\b\b\b\b\b\b\b\r 1200/12153 [=>............................] - ETA: 27386s"
     ]
    },
    {
     "name": "stdout",
     "output_type": "stream",
     "text": [
      "\b\b\b\b\b\b\b\b\b\b\b\b\b\b\b\b\b\b\b\b\b\b\b\b\b\b\b\b\b\b\b\b\b\b\b\b\b\b\b\b\b\b\b\b\b\b\b\b\b\b\b\b\b\b\b\b\b\b\r 1216/12153 [==>...........................] - ETA: 27344s"
     ]
    },
    {
     "name": "stdout",
     "output_type": "stream",
     "text": [
      "\b\b\b\b\b\b\b\b\b\b\b\b\b\b\b\b\b\b\b\b\b\b\b\b\b\b\b\b\b\b\b\b\b\b\b\b\b\b\b\b\b\b\b\b\b\b\b\b\b\b\b\b\b\b\b\b\b\b\r 1232/12153 [==>...........................] - ETA: 27307s"
     ]
    },
    {
     "name": "stdout",
     "output_type": "stream",
     "text": [
      "\b\b\b\b\b\b\b\b\b\b\b\b\b\b\b\b\b\b\b\b\b\b\b\b\b\b\b\b\b\b\b\b\b\b\b\b\b\b\b\b\b\b\b\b\b\b\b\b\b\b\b\b\b\b\b\b\b\b\r 1248/12153 [==>...........................] - ETA: 27260s"
     ]
    },
    {
     "name": "stdout",
     "output_type": "stream",
     "text": [
      "\b\b\b\b\b\b\b\b\b\b\b\b\b\b\b\b\b\b\b\b\b\b\b\b\b\b\b\b\b\b\b\b\b\b\b\b\b\b\b\b\b\b\b\b\b\b\b\b\b\b\b\b\b\b\b\b\b\b\r 1264/12153 [==>...........................] - ETA: 27214s"
     ]
    },
    {
     "name": "stdout",
     "output_type": "stream",
     "text": [
      "\b\b\b\b\b\b\b\b\b\b\b\b\b\b\b\b\b\b\b\b\b\b\b\b\b\b\b\b\b\b\b\b\b\b\b\b\b\b\b\b\b\b\b\b\b\b\b\b\b\b\b\b\b\b\b\b\b\b\r 1280/12153 [==>...........................] - ETA: 27175s"
     ]
    },
    {
     "name": "stdout",
     "output_type": "stream",
     "text": [
      "\b\b\b\b\b\b\b\b\b\b\b\b\b\b\b\b\b\b\b\b\b\b\b\b\b\b\b\b\b\b\b\b\b\b\b\b\b\b\b\b\b\b\b\b\b\b\b\b\b\b\b\b\b\b\b\b\b\b\r 1296/12153 [==>...........................] - ETA: 27130s"
     ]
    },
    {
     "name": "stdout",
     "output_type": "stream",
     "text": [
      "\b\b\b\b\b\b\b\b\b\b\b\b\b\b\b\b\b\b\b\b\b\b\b\b\b\b\b\b\b\b\b\b\b\b\b\b\b\b\b\b\b\b\b\b\b\b\b\b\b\b\b\b\b\b\b\b\b\b\r 1312/12153 [==>...........................] - ETA: 27088s"
     ]
    },
    {
     "name": "stdout",
     "output_type": "stream",
     "text": [
      "\b\b\b\b\b\b\b\b\b\b\b\b\b\b\b\b\b\b\b\b\b\b\b\b\b\b\b\b\b\b\b\b\b\b\b\b\b\b\b\b\b\b\b\b\b\b\b\b\b\b\b\b\b\b\b\b\b\b\r 1328/12153 [==>...........................] - ETA: 27042s"
     ]
    },
    {
     "name": "stdout",
     "output_type": "stream",
     "text": [
      "\b\b\b\b\b\b\b\b\b\b\b\b\b\b\b\b\b\b\b\b\b\b\b\b\b\b\b\b\b\b\b\b\b\b\b\b\b\b\b\b\b\b\b\b\b\b\b\b\b\b\b\b\b\b\b\b\b\b\r 1344/12153 [==>...........................] - ETA: 27002s"
     ]
    },
    {
     "name": "stdout",
     "output_type": "stream",
     "text": [
      "\b\b\b\b\b\b\b\b\b\b\b\b\b\b\b\b\b\b\b\b\b\b\b\b\b\b\b\b\b\b\b\b\b\b\b\b\b\b\b\b\b\b\b\b\b\b\b\b\b\b\b\b\b\b\b\b\b\b\r 1360/12153 [==>...........................] - ETA: 26959s"
     ]
    },
    {
     "name": "stdout",
     "output_type": "stream",
     "text": [
      "\b\b\b\b\b\b\b\b\b\b\b\b\b\b\b\b\b\b\b\b\b\b\b\b\b\b\b\b\b\b\b\b\b\b\b\b\b\b\b\b\b\b\b\b\b\b\b\b\b\b\b\b\b\b\b\b\b\b\r 1376/12153 [==>...........................] - ETA: 26920s"
     ]
    },
    {
     "name": "stdout",
     "output_type": "stream",
     "text": [
      "\b\b\b\b\b\b\b\b\b\b\b\b\b\b\b\b\b\b\b\b\b\b\b\b\b\b\b\b\b\b\b\b\b\b\b\b\b\b\b\b\b\b\b\b\b\b\b\b\b\b\b\b\b\b\b\b\b\b\r 1392/12153 [==>...........................] - ETA: 26876s"
     ]
    },
    {
     "name": "stdout",
     "output_type": "stream",
     "text": [
      "\b\b\b\b\b\b\b\b\b\b\b\b\b\b\b\b\b\b\b\b\b\b\b\b\b\b\b\b\b\b\b\b\b\b\b\b\b\b\b\b\b\b\b\b\b\b\b\b\b\b\b\b\b\b\b\b\b\b\r 1408/12153 [==>...........................] - ETA: 26835s"
     ]
    },
    {
     "name": "stdout",
     "output_type": "stream",
     "text": [
      "\b\b\b\b\b\b\b\b\b\b\b\b\b\b\b\b\b\b\b\b\b\b\b\b\b\b\b\b\b\b\b\b\b\b\b\b\b\b\b\b\b\b\b\b\b\b\b\b\b\b\b\b\b\b\b\b\b\b\r 1424/12153 [==>...........................] - ETA: 26790s"
     ]
    },
    {
     "name": "stdout",
     "output_type": "stream",
     "text": [
      "\b\b\b\b\b\b\b\b\b\b\b\b\b\b\b\b\b\b\b\b\b\b\b\b\b\b\b\b\b\b\b\b\b\b\b\b\b\b\b\b\b\b\b\b\b\b\b\b\b\b\b\b\b\b\b\b\b\b\r 1440/12153 [==>...........................] - ETA: 26752s"
     ]
    },
    {
     "name": "stdout",
     "output_type": "stream",
     "text": [
      "\b\b\b\b\b\b\b\b\b\b\b\b\b\b\b\b\b\b\b\b\b\b\b\b\b\b\b\b\b\b\b\b\b\b\b\b\b\b\b\b\b\b\b\b\b\b\b\b\b\b\b\b\b\b\b\b\b\b\r 1456/12153 [==>...........................] - ETA: 26710s"
     ]
    },
    {
     "name": "stdout",
     "output_type": "stream",
     "text": [
      "\b\b\b\b\b\b\b\b\b\b\b\b\b\b\b\b\b\b\b\b\b\b\b\b\b\b\b\b\b\b\b\b\b\b\b\b\b\b\b\b\b\b\b\b\b\b\b\b\b\b\b\b\b\b\b\b\b\b\r 1472/12153 [==>...........................] - ETA: 26670s"
     ]
    },
    {
     "name": "stdout",
     "output_type": "stream",
     "text": [
      "\b\b\b\b\b\b\b\b\b\b\b\b\b\b\b\b\b\b\b\b\b\b\b\b\b\b\b\b\b\b\b\b\b\b\b\b\b\b\b\b\b\b\b\b\b\b\b\b\b\b\b\b\b\b\b\b\b\b\r 1488/12153 [==>...........................] - ETA: 26633s"
     ]
    },
    {
     "name": "stdout",
     "output_type": "stream",
     "text": [
      "\b\b\b\b\b\b\b\b\b\b\b\b\b\b\b\b\b\b\b\b\b\b\b\b\b\b\b\b\b\b\b\b\b\b\b\b\b\b\b\b\b\b\b\b\b\b\b\b\b\b\b\b\b\b\b\b\b\b\r 1504/12153 [==>...........................] - ETA: 26592s"
     ]
    },
    {
     "name": "stdout",
     "output_type": "stream",
     "text": [
      "\b\b\b\b\b\b\b\b\b\b\b\b\b\b\b\b\b\b\b\b\b\b\b\b\b\b\b\b\b\b\b\b\b\b\b\b\b\b\b\b\b\b\b\b\b\b\b\b\b\b\b\b\b\b\b\b\b\b\r 1520/12153 [==>...........................] - ETA: 26551s"
     ]
    },
    {
     "name": "stdout",
     "output_type": "stream",
     "text": [
      "\b\b\b\b\b\b\b\b\b\b\b\b\b\b\b\b\b\b\b\b\b\b\b\b\b\b\b\b\b\b\b\b\b\b\b\b\b\b\b\b\b\b\b\b\b\b\b\b\b\b\b\b\b\b\b\b\b\b\r 1536/12153 [==>...........................] - ETA: 26509s"
     ]
    },
    {
     "name": "stdout",
     "output_type": "stream",
     "text": [
      "\b\b\b\b\b\b\b\b\b\b\b\b\b\b\b\b\b\b\b\b\b\b\b\b\b\b\b\b\b\b\b\b\b\b\b\b\b\b\b\b\b\b\b\b\b\b\b\b\b\b\b\b\b\b\b\b\b\b\r 1552/12153 [==>...........................] - ETA: 26467s"
     ]
    },
    {
     "name": "stdout",
     "output_type": "stream",
     "text": [
      "\b\b\b\b\b\b\b\b\b\b\b\b\b\b\b\b\b\b\b\b\b\b\b\b\b\b\b\b\b\b\b\b\b\b\b\b\b\b\b\b\b\b\b\b\b\b\b\b\b\b\b\b\b\b\b\b\b\b\r 1568/12153 [==>...........................] - ETA: 26426s"
     ]
    },
    {
     "name": "stdout",
     "output_type": "stream",
     "text": [
      "\b\b\b\b\b\b\b\b\b\b\b\b\b\b\b\b\b\b\b\b\b\b\b\b\b\b\b\b\b\b\b\b\b\b\b\b\b\b\b\b\b\b\b\b\b\b\b\b\b\b\b\b\b\b\b\b\b\b\r 1584/12153 [==>...........................] - ETA: 26385s"
     ]
    },
    {
     "name": "stdout",
     "output_type": "stream",
     "text": [
      "\b\b\b\b\b\b\b\b\b\b\b\b\b\b\b\b\b\b\b\b\b\b\b\b\b\b\b\b\b\b\b\b\b\b\b\b\b\b\b\b\b\b\b\b\b\b\b\b\b\b\b\b\b\b\b\b\b\b\r 1600/12153 [==>...........................] - ETA: 26351s"
     ]
    },
    {
     "name": "stdout",
     "output_type": "stream",
     "text": [
      "\b\b\b\b\b\b\b\b\b\b\b\b\b\b\b\b\b\b\b\b\b\b\b\b\b\b\b\b\b\b\b\b\b\b\b\b\b\b\b\b\b\b\b\b\b\b\b\b\b\b\b\b\b\b\b\b\b\b\r 1616/12153 [==>...........................] - ETA: 26311s"
     ]
    },
    {
     "name": "stdout",
     "output_type": "stream",
     "text": [
      "\b\b\b\b\b\b\b\b\b\b\b\b\b\b\b\b\b\b\b\b\b\b\b\b\b\b\b\b\b\b\b\b\b\b\b\b\b\b\b\b\b\b\b\b\b\b\b\b\b\b\b\b\b\b\b\b\b\b\r 1632/12153 [===>..........................] - ETA: 26275s"
     ]
    },
    {
     "name": "stdout",
     "output_type": "stream",
     "text": [
      "\b\b\b\b\b\b\b\b\b\b\b\b\b\b\b\b\b\b\b\b\b\b\b\b\b\b\b\b\b\b\b\b\b\b\b\b\b\b\b\b\b\b\b\b\b\b\b\b\b\b\b\b\b\b\b\b\b\b\r 1648/12153 [===>..........................] - ETA: 26239s"
     ]
    },
    {
     "name": "stdout",
     "output_type": "stream",
     "text": [
      "\b\b\b\b\b\b\b\b\b\b\b\b\b\b\b\b\b\b\b\b\b\b\b\b\b\b\b\b\b\b\b\b\b\b\b\b\b\b\b\b\b\b\b\b\b\b\b\b\b\b\b\b\b\b\b\b\b\b\r 1664/12153 [===>..........................] - ETA: 26197s"
     ]
    },
    {
     "name": "stdout",
     "output_type": "stream",
     "text": [
      "\b\b\b\b\b\b\b\b\b\b\b\b\b\b\b\b\b\b\b\b\b\b\b\b\b\b\b\b\b\b\b\b\b\b\b\b\b\b\b\b\b\b\b\b\b\b\b\b\b\b\b\b\b\b\b\b\b\b\r 1680/12153 [===>..........................] - ETA: 26153s"
     ]
    },
    {
     "name": "stdout",
     "output_type": "stream",
     "text": [
      "\b\b\b\b\b\b\b\b\b\b\b\b\b\b\b\b\b\b\b\b\b\b\b\b\b\b\b\b\b\b\b\b\b\b\b\b\b\b\b\b\b\b\b\b\b\b\b\b\b\b\b\b\b\b\b\b\b\b\r 1696/12153 [===>..........................] - ETA: 26115s"
     ]
    },
    {
     "name": "stdout",
     "output_type": "stream",
     "text": [
      "\b\b\b\b\b\b\b\b\b\b\b\b\b\b\b\b\b\b\b\b\b\b\b\b\b\b\b\b\b\b\b\b\b\b\b\b\b\b\b\b\b\b\b\b\b\b\b\b\b\b\b\b\b\b\b\b\b\b\r 1712/12153 [===>..........................] - ETA: 26070s"
     ]
    },
    {
     "name": "stdout",
     "output_type": "stream",
     "text": [
      "\b\b\b\b\b\b\b\b\b\b\b\b\b\b\b\b\b\b\b\b\b\b\b\b\b\b\b\b\b\b\b\b\b\b\b\b\b\b\b\b\b\b\b\b\b\b\b\b\b\b\b\b\b\b\b\b\b\b\r 1728/12153 [===>..........................] - ETA: 26030s"
     ]
    },
    {
     "name": "stdout",
     "output_type": "stream",
     "text": [
      "\b\b\b\b\b\b\b\b\b\b\b\b\b\b\b\b\b\b\b\b\b\b\b\b\b\b\b\b\b\b\b\b\b\b\b\b\b\b\b\b\b\b\b\b\b\b\b\b\b\b\b\b\b\b\b\b\b\b\r 1744/12153 [===>..........................] - ETA: 25992s"
     ]
    },
    {
     "name": "stdout",
     "output_type": "stream",
     "text": [
      "\b\b\b\b\b\b\b\b\b\b\b\b\b\b\b\b\b\b\b\b\b\b\b\b\b\b\b\b\b\b\b\b\b\b\b\b\b\b\b\b\b\b\b\b\b\b\b\b\b\b\b\b\b\b\b\b\b\b\r 1760/12153 [===>..........................] - ETA: 25949s"
     ]
    },
    {
     "name": "stdout",
     "output_type": "stream",
     "text": [
      "\b\b\b\b\b\b\b\b\b\b\b\b\b\b\b\b\b\b\b\b\b\b\b\b\b\b\b\b\b\b\b\b\b\b\b\b\b\b\b\b\b\b\b\b\b\b\b\b\b\b\b\b\b\b\b\b\b\b\r 1776/12153 [===>..........................] - ETA: 25909s"
     ]
    },
    {
     "name": "stdout",
     "output_type": "stream",
     "text": [
      "\b\b\b\b\b\b\b\b\b\b\b\b\b\b\b\b\b\b\b\b\b\b\b\b\b\b\b\b\b\b\b\b\b\b\b\b\b\b\b\b\b\b\b\b\b\b\b\b\b\b\b\b\b\b\b\b\b\b\r 1792/12153 [===>..........................] - ETA: 25866s"
     ]
    },
    {
     "name": "stdout",
     "output_type": "stream",
     "text": [
      "\b\b\b\b\b\b\b\b\b\b\b\b\b\b\b\b\b\b\b\b\b\b\b\b\b\b\b\b\b\b\b\b\b\b\b\b\b\b\b\b\b\b\b\b\b\b\b\b\b\b\b\b\b\b\b\b\b\b\r 1808/12153 [===>..........................] - ETA: 25826s"
     ]
    },
    {
     "name": "stdout",
     "output_type": "stream",
     "text": [
      "\b\b\b\b\b\b\b\b\b\b\b\b\b\b\b\b\b\b\b\b\b\b\b\b\b\b\b\b\b\b\b\b\b\b\b\b\b\b\b\b\b\b\b\b\b\b\b\b\b\b\b\b\b\b\b\b\b\b\r 1824/12153 [===>..........................] - ETA: 25785s"
     ]
    },
    {
     "name": "stdout",
     "output_type": "stream",
     "text": [
      "\b\b\b\b\b\b\b\b\b\b\b\b\b\b\b\b\b\b\b\b\b\b\b\b\b\b\b\b\b\b\b\b\b\b\b\b\b\b\b\b\b\b\b\b\b\b\b\b\b\b\b\b\b\b\b\b\b\b\r 1840/12153 [===>..........................] - ETA: 25742s"
     ]
    },
    {
     "name": "stdout",
     "output_type": "stream",
     "text": [
      "\b\b\b\b\b\b\b\b\b\b\b\b\b\b\b\b\b\b\b\b\b\b\b\b\b\b\b\b\b\b\b\b\b\b\b\b\b\b\b\b\b\b\b\b\b\b\b\b\b\b\b\b\b\b\b\b\b\b\r 1856/12153 [===>..........................] - ETA: 25703s"
     ]
    },
    {
     "name": "stdout",
     "output_type": "stream",
     "text": [
      "\b\b\b\b\b\b\b\b\b\b\b\b\b\b\b\b\b\b\b\b\b\b\b\b\b\b\b\b\b\b\b\b\b\b\b\b\b\b\b\b\b\b\b\b\b\b\b\b\b\b\b\b\b\b\b\b\b\b\r 1872/12153 [===>..........................] - ETA: 25661s"
     ]
    },
    {
     "name": "stdout",
     "output_type": "stream",
     "text": [
      "\b\b\b\b\b\b\b\b\b\b\b\b\b\b\b\b\b\b\b\b\b\b\b\b\b\b\b\b\b\b\b\b\b\b\b\b\b\b\b\b\b\b\b\b\b\b\b\b\b\b\b\b\b\b\b\b\b\b\r 1888/12153 [===>..........................] - ETA: 25623s"
     ]
    },
    {
     "name": "stdout",
     "output_type": "stream",
     "text": [
      "\b\b\b\b\b\b\b\b\b\b\b\b\b\b\b\b\b\b\b\b\b\b\b\b\b\b\b\b\b\b\b\b\b\b\b\b\b\b\b\b\b\b\b\b\b\b\b\b\b\b\b\b\b\b\b\b\b\b\r 1904/12153 [===>..........................] - ETA: 25584s"
     ]
    },
    {
     "name": "stdout",
     "output_type": "stream",
     "text": [
      "\b\b\b\b\b\b\b\b\b\b\b\b\b\b\b\b\b\b\b\b\b\b\b\b\b\b\b\b\b\b\b\b\b\b\b\b\b\b\b\b\b\b\b\b\b\b\b\b\b\b\b\b\b\b\b\b\b\b\r 1920/12153 [===>..........................] - ETA: 25545s"
     ]
    },
    {
     "name": "stdout",
     "output_type": "stream",
     "text": [
      "\b\b\b\b\b\b\b\b\b\b\b\b\b\b\b\b\b\b\b\b\b\b\b\b\b\b\b\b\b\b\b\b\b\b\b\b\b\b\b\b\b\b\b\b\b\b\b\b\b\b\b\b\b\b\b\b\b\b\r 1936/12153 [===>..........................] - ETA: 25503s"
     ]
    },
    {
     "name": "stdout",
     "output_type": "stream",
     "text": [
      "\b\b\b\b\b\b\b\b\b\b\b\b\b\b\b\b\b\b\b\b\b\b\b\b\b\b\b\b\b\b\b\b\b\b\b\b\b\b\b\b\b\b\b\b\b\b\b\b\b\b\b\b\b\b\b\b\b\b\r 1952/12153 [===>..........................] - ETA: 25467s"
     ]
    },
    {
     "name": "stdout",
     "output_type": "stream",
     "text": [
      "\b\b\b\b\b\b\b\b\b\b\b\b\b\b\b\b\b\b\b\b\b\b\b\b\b\b\b\b\b\b\b\b\b\b\b\b\b\b\b\b\b\b\b\b\b\b\b\b\b\b\b\b\b\b\b\b\b\b\r 1968/12153 [===>..........................] - ETA: 25426s"
     ]
    },
    {
     "name": "stdout",
     "output_type": "stream",
     "text": [
      "\b\b\b\b\b\b\b\b\b\b\b\b\b\b\b\b\b\b\b\b\b\b\b\b\b\b\b\b\b\b\b\b\b\b\b\b\b\b\b\b\b\b\b\b\b\b\b\b\b\b\b\b\b\b\b\b\b\b\r 1984/12153 [===>..........................] - ETA: 25385s"
     ]
    },
    {
     "name": "stdout",
     "output_type": "stream",
     "text": [
      "\b\b\b\b\b\b\b\b\b\b\b\b\b\b\b\b\b\b\b\b\b\b\b\b\b\b\b\b\b\b\b\b\b\b\b\b\b\b\b\b\b\b\b\b\b\b\b\b\b\b\b\b\b\b\b\b\b\b\r 2000/12153 [===>..........................] - ETA: 25349s"
     ]
    },
    {
     "name": "stdout",
     "output_type": "stream",
     "text": [
      "\b\b\b\b\b\b\b\b\b\b\b\b\b\b\b\b\b\b\b\b\b\b\b\b\b\b\b\b\b\b\b\b\b\b\b\b\b\b\b\b\b\b\b\b\b\b\b\b\b\b\b\b\b\b\b\b\b\b\r 2016/12153 [===>..........................] - ETA: 25307s"
     ]
    },
    {
     "name": "stdout",
     "output_type": "stream",
     "text": [
      "\b\b\b\b\b\b\b\b\b\b\b\b\b\b\b\b\b\b\b\b\b\b\b\b\b\b\b\b\b\b\b\b\b\b\b\b\b\b\b\b\b\b\b\b\b\b\b\b\b\b\b\b\b\b\b\b\b\b\r 2032/12153 [====>.........................] - ETA: 25272s"
     ]
    },
    {
     "name": "stdout",
     "output_type": "stream",
     "text": [
      "\b\b\b\b\b\b\b\b\b\b\b\b\b\b\b\b\b\b\b\b\b\b\b\b\b\b\b\b\b\b\b\b\b\b\b\b\b\b\b\b\b\b\b\b\b\b\b\b\b\b\b\b\b\b\b\b\b\b\r 2048/12153 [====>.........................] - ETA: 25231s"
     ]
    },
    {
     "name": "stdout",
     "output_type": "stream",
     "text": [
      "\b\b\b\b\b\b\b\b\b\b\b\b\b\b\b\b\b\b\b\b\b\b\b\b\b\b\b\b\b\b\b\b\b\b\b\b\b\b\b\b\b\b\b\b\b\b\b\b\b\b\b\b\b\b\b\b\b\b\r 2064/12153 [====>.........................] - ETA: 25187s"
     ]
    },
    {
     "name": "stdout",
     "output_type": "stream",
     "text": [
      "\b\b\b\b\b\b\b\b\b\b\b\b\b\b\b\b\b\b\b\b\b\b\b\b\b\b\b\b\b\b\b\b\b\b\b\b\b\b\b\b\b\b\b\b\b\b\b\b\b\b\b\b\b\b\b\b\b\b\r 2080/12153 [====>.........................] - ETA: 25147s"
     ]
    },
    {
     "name": "stdout",
     "output_type": "stream",
     "text": [
      "\b\b\b\b\b\b\b\b\b\b\b\b\b\b\b\b\b\b\b\b\b\b\b\b\b\b\b\b\b\b\b\b\b\b\b\b\b\b\b\b\b\b\b\b\b\b\b\b\b\b\b\b\b\b\b\b\b\b\r 2096/12153 [====>.........................] - ETA: 25105s"
     ]
    },
    {
     "name": "stdout",
     "output_type": "stream",
     "text": [
      "\b\b\b\b\b\b\b\b\b\b\b\b\b\b\b\b\b\b\b\b\b\b\b\b\b\b\b\b\b\b\b\b\b\b\b\b\b\b\b\b\b\b\b\b\b\b\b\b\b\b\b\b\b\b\b\b\b\b\r 2112/12153 [====>.........................] - ETA: 25066s"
     ]
    },
    {
     "name": "stdout",
     "output_type": "stream",
     "text": [
      "\b\b\b\b\b\b\b\b\b\b\b\b\b\b\b\b\b\b\b\b\b\b\b\b\b\b\b\b\b\b\b\b\b\b\b\b\b\b\b\b\b\b\b\b\b\b\b\b\b\b\b\b\b\b\b\b\b\b\r 2128/12153 [====>.........................] - ETA: 25023s"
     ]
    },
    {
     "name": "stdout",
     "output_type": "stream",
     "text": [
      "\b\b\b\b\b\b\b\b\b\b\b\b\b\b\b\b\b\b\b\b\b\b\b\b\b\b\b\b\b\b\b\b\b\b\b\b\b\b\b\b\b\b\b\b\b\b\b\b\b\b\b\b\b\b\b\b\b\b\r 2144/12153 [====>.........................] - ETA: 24985s"
     ]
    },
    {
     "name": "stdout",
     "output_type": "stream",
     "text": [
      "\b\b\b\b\b\b\b\b\b\b\b\b\b\b\b\b\b\b\b\b\b\b\b\b\b\b\b\b\b\b\b\b\b\b\b\b\b\b\b\b\b\b\b\b\b\b\b\b\b\b\b\b\b\b\b\b\b\b\r 2160/12153 [====>.........................] - ETA: 24947s"
     ]
    },
    {
     "name": "stdout",
     "output_type": "stream",
     "text": [
      "\b\b\b\b\b\b\b\b\b\b\b\b\b\b\b\b\b\b\b\b\b\b\b\b\b\b\b\b\b\b\b\b\b\b\b\b\b\b\b\b\b\b\b\b\b\b\b\b\b\b\b\b\b\b\b\b\b\b\r 2176/12153 [====>.........................] - ETA: 24909s"
     ]
    },
    {
     "name": "stdout",
     "output_type": "stream",
     "text": [
      "\b\b\b\b\b\b\b\b\b\b\b\b\b\b\b\b\b\b\b\b\b\b\b\b\b\b\b\b\b\b\b\b\b\b\b\b\b\b\b\b\b\b\b\b\b\b\b\b\b\b\b\b\b\b\b\b\b\b\r 2192/12153 [====>.........................] - ETA: 24866s"
     ]
    },
    {
     "name": "stdout",
     "output_type": "stream",
     "text": [
      "\b\b\b\b\b\b\b\b\b\b\b\b\b\b\b\b\b\b\b\b\b\b\b\b\b\b\b\b\b\b\b\b\b\b\b\b\b\b\b\b\b\b\b\b\b\b\b\b\b\b\b\b\b\b\b\b\b\b\r 2208/12153 [====>.........................] - ETA: 24826s"
     ]
    },
    {
     "name": "stdout",
     "output_type": "stream",
     "text": [
      "\b\b\b\b\b\b\b\b\b\b\b\b\b\b\b\b\b\b\b\b\b\b\b\b\b\b\b\b\b\b\b\b\b\b\b\b\b\b\b\b\b\b\b\b\b\b\b\b\b\b\b\b\b\b\b\b\b\b\r 2224/12153 [====>.........................] - ETA: 24786s"
     ]
    },
    {
     "name": "stdout",
     "output_type": "stream",
     "text": [
      "\b\b\b\b\b\b\b\b\b\b\b\b\b\b\b\b\b\b\b\b\b\b\b\b\b\b\b\b\b\b\b\b\b\b\b\b\b\b\b\b\b\b\b\b\b\b\b\b\b\b\b\b\b\b\b\b\b\b\r 2240/12153 [====>.........................] - ETA: 24747s"
     ]
    },
    {
     "name": "stdout",
     "output_type": "stream",
     "text": [
      "\b\b\b\b\b\b\b\b\b\b\b\b\b\b\b\b\b\b\b\b\b\b\b\b\b\b\b\b\b\b\b\b\b\b\b\b\b\b\b\b\b\b\b\b\b\b\b\b\b\b\b\b\b\b\b\b\b\b\r 2256/12153 [====>.........................] - ETA: 24706s"
     ]
    },
    {
     "name": "stdout",
     "output_type": "stream",
     "text": [
      "\b\b\b\b\b\b\b\b\b\b\b\b\b\b\b\b\b\b\b\b\b\b\b\b\b\b\b\b\b\b\b\b\b\b\b\b\b\b\b\b\b\b\b\b\b\b\b\b\b\b\b\b\b\b\b\b\b\b\r 2272/12153 [====>.........................] - ETA: 24666s"
     ]
    },
    {
     "name": "stdout",
     "output_type": "stream",
     "text": [
      "\b\b\b\b\b\b\b\b\b\b\b\b\b\b\b\b\b\b\b\b\b\b\b\b\b\b\b\b\b\b\b\b\b\b\b\b\b\b\b\b\b\b\b\b\b\b\b\b\b\b\b\b\b\b\b\b\b\b\r 2288/12153 [====>.........................] - ETA: 24623s"
     ]
    },
    {
     "name": "stdout",
     "output_type": "stream",
     "text": [
      "\b\b\b\b\b\b\b\b\b\b\b\b\b\b\b\b\b\b\b\b\b\b\b\b\b\b\b\b\b\b\b\b\b\b\b\b\b\b\b\b\b\b\b\b\b\b\b\b\b\b\b\b\b\b\b\b\b\b\r 2304/12153 [====>.........................] - ETA: 24584s"
     ]
    },
    {
     "name": "stdout",
     "output_type": "stream",
     "text": [
      "\b\b\b\b\b\b\b\b\b\b\b\b\b\b\b\b\b\b\b\b\b\b\b\b\b\b\b\b\b\b\b\b\b\b\b\b\b\b\b\b\b\b\b\b\b\b\b\b\b\b\b\b\b\b\b\b\b\b\r 2320/12153 [====>.........................] - ETA: 24542s"
     ]
    },
    {
     "name": "stdout",
     "output_type": "stream",
     "text": [
      "\b\b\b\b\b\b\b\b\b\b\b\b\b\b\b\b\b\b\b\b\b\b\b\b\b\b\b\b\b\b\b\b\b\b\b\b\b\b\b\b\b\b\b\b\b\b\b\b\b\b\b\b\b\b\b\b\b\b\r 2336/12153 [====>.........................] - ETA: 24503s"
     ]
    },
    {
     "name": "stdout",
     "output_type": "stream",
     "text": [
      "\b\b\b\b\b\b\b\b\b\b\b\b\b\b\b\b\b\b\b\b\b\b\b\b\b\b\b\b\b\b\b\b\b\b\b\b\b\b\b\b\b\b\b\b\b\b\b\b\b\b\b\b\b\b\b\b\b\b\r 2352/12153 [====>.........................] - ETA: 24458s"
     ]
    },
    {
     "name": "stdout",
     "output_type": "stream",
     "text": [
      "\b\b\b\b\b\b\b\b\b\b\b\b\b\b\b\b\b\b\b\b\b\b\b\b\b\b\b\b\b\b\b\b\b\b\b\b\b\b\b\b\b\b\b\b\b\b\b\b\b\b\b\b\b\b\b\b\b\b\r 2368/12153 [====>.........................] - ETA: 24418s"
     ]
    },
    {
     "name": "stdout",
     "output_type": "stream",
     "text": [
      "\b\b\b\b\b\b\b\b\b\b\b\b\b\b\b\b\b\b\b\b\b\b\b\b\b\b\b\b\b\b\b\b\b\b\b\b\b\b\b\b\b\b\b\b\b\b\b\b\b\b\b\b\b\b\b\b\b\b\r 2384/12153 [====>.........................] - ETA: 24377s"
     ]
    },
    {
     "name": "stdout",
     "output_type": "stream",
     "text": [
      "\b\b\b\b\b\b\b\b\b\b\b\b\b\b\b\b\b\b\b\b\b\b\b\b\b\b\b\b\b\b\b\b\b\b\b\b\b\b\b\b\b\b\b\b\b\b\b\b\b\b\b\b\b\b\b\b\b\b\r 2400/12153 [====>.........................] - ETA: 24339s"
     ]
    },
    {
     "name": "stdout",
     "output_type": "stream",
     "text": [
      "\b\b\b\b\b\b\b\b\b\b\b\b\b\b\b\b\b\b\b\b\b\b\b\b\b\b\b\b\b\b\b\b\b\b\b\b\b\b\b\b\b\b\b\b\b\b\b\b\b\b\b\b\b\b\b\b\b\b\r 2416/12153 [====>.........................] - ETA: 24297s"
     ]
    },
    {
     "name": "stdout",
     "output_type": "stream",
     "text": [
      "\b\b\b\b\b\b\b\b\b\b\b\b\b\b\b\b\b\b\b\b\b\b\b\b\b\b\b\b\b\b\b\b\b\b\b\b\b\b\b\b\b\b\b\b\b\b\b\b\b\b\b\b\b\b\b\b\b\b\r 2432/12153 [=====>........................] - ETA: 24258s"
     ]
    },
    {
     "name": "stdout",
     "output_type": "stream",
     "text": [
      "\b\b\b\b\b\b\b\b\b\b\b\b\b\b\b\b\b\b\b\b\b\b\b\b\b\b\b\b\b\b\b\b\b\b\b\b\b\b\b\b\b\b\b\b\b\b\b\b\b\b\b\b\b\b\b\b\b\b\r 2448/12153 [=====>........................] - ETA: 24218s"
     ]
    },
    {
     "name": "stdout",
     "output_type": "stream",
     "text": [
      "\b\b\b\b\b\b\b\b\b\b\b\b\b\b\b\b\b\b\b\b\b\b\b\b\b\b\b\b\b\b\b\b\b\b\b\b\b\b\b\b\b\b\b\b\b\b\b\b\b\b\b\b\b\b\b\b\b\b\r 2464/12153 [=====>........................] - ETA: 24176s"
     ]
    },
    {
     "name": "stdout",
     "output_type": "stream",
     "text": [
      "\b\b\b\b\b\b\b\b\b\b\b\b\b\b\b\b\b\b\b\b\b\b\b\b\b\b\b\b\b\b\b\b\b\b\b\b\b\b\b\b\b\b\b\b\b\b\b\b\b\b\b\b\b\b\b\b\b\b\r 2480/12153 [=====>........................] - ETA: 24135s"
     ]
    },
    {
     "name": "stdout",
     "output_type": "stream",
     "text": [
      "\b\b\b\b\b\b\b\b\b\b\b\b\b\b\b\b\b\b\b\b\b\b\b\b\b\b\b\b\b\b\b\b\b\b\b\b\b\b\b\b\b\b\b\b\b\b\b\b\b\b\b\b\b\b\b\b\b\b\r 2496/12153 [=====>........................] - ETA: 24096s"
     ]
    },
    {
     "name": "stdout",
     "output_type": "stream",
     "text": [
      "\b\b\b\b\b\b\b\b\b\b\b\b\b\b\b\b\b\b\b\b\b\b\b\b\b\b\b\b\b\b\b\b\b\b\b\b\b\b\b\b\b\b\b\b\b\b\b\b\b\b\b\b\b\b\b\b\b\b\r 2512/12153 [=====>........................] - ETA: 24055s"
     ]
    },
    {
     "name": "stdout",
     "output_type": "stream",
     "text": [
      "\b\b\b\b\b\b\b\b\b\b\b\b\b\b\b\b\b\b\b\b\b\b\b\b\b\b\b\b\b\b\b\b\b\b\b\b\b\b\b\b\b\b\b\b\b\b\b\b\b\b\b\b\b\b\b\b\b\b\r 2528/12153 [=====>........................] - ETA: 24016s"
     ]
    },
    {
     "name": "stdout",
     "output_type": "stream",
     "text": [
      "\b\b\b\b\b\b\b\b\b\b\b\b\b\b\b\b\b\b\b\b\b\b\b\b\b\b\b\b\b\b\b\b\b\b\b\b\b\b\b\b\b\b\b\b\b\b\b\b\b\b\b\b\b\b\b\b\b\b\r 2544/12153 [=====>........................] - ETA: 23978s"
     ]
    },
    {
     "name": "stdout",
     "output_type": "stream",
     "text": [
      "\b\b\b\b\b\b\b\b\b\b\b\b\b\b\b\b\b\b\b\b\b\b\b\b\b\b\b\b\b\b\b\b\b\b\b\b\b\b\b\b\b\b\b\b\b\b\b\b\b\b\b\b\b\b\b\b\b\b\r 2560/12153 [=====>........................] - ETA: 23939s"
     ]
    },
    {
     "name": "stdout",
     "output_type": "stream",
     "text": [
      "\b\b\b\b\b\b\b\b\b\b\b\b\b\b\b\b\b\b\b\b\b\b\b\b\b\b\b\b\b\b\b\b\b\b\b\b\b\b\b\b\b\b\b\b\b\b\b\b\b\b\b\b\b\b\b\b\b\b\r 2576/12153 [=====>........................] - ETA: 23897s"
     ]
    },
    {
     "name": "stdout",
     "output_type": "stream",
     "text": [
      "\b\b\b\b\b\b\b\b\b\b\b\b\b\b\b\b\b\b\b\b\b\b\b\b\b\b\b\b\b\b\b\b\b\b\b\b\b\b\b\b\b\b\b\b\b\b\b\b\b\b\b\b\b\b\b\b\b\b\r 2592/12153 [=====>........................] - ETA: 23856s"
     ]
    },
    {
     "name": "stdout",
     "output_type": "stream",
     "text": [
      "\b\b\b\b\b\b\b\b\b\b\b\b\b\b\b\b\b\b\b\b\b\b\b\b\b\b\b\b\b\b\b\b\b\b\b\b\b\b\b\b\b\b\b\b\b\b\b\b\b\b\b\b\b\b\b\b\b\b\r 2608/12153 [=====>........................] - ETA: 23816s"
     ]
    },
    {
     "name": "stdout",
     "output_type": "stream",
     "text": [
      "\b\b\b\b\b\b\b\b\b\b\b\b\b\b\b\b\b\b\b\b\b\b\b\b\b\b\b\b\b\b\b\b\b\b\b\b\b\b\b\b\b\b\b\b\b\b\b\b\b\b\b\b\b\b\b\b\b\b\r 2624/12153 [=====>........................] - ETA: 23774s"
     ]
    },
    {
     "name": "stdout",
     "output_type": "stream",
     "text": [
      "\b\b\b\b\b\b\b\b\b\b\b\b\b\b\b\b\b\b\b\b\b\b\b\b\b\b\b\b\b\b\b\b\b\b\b\b\b\b\b\b\b\b\b\b\b\b\b\b\b\b\b\b\b\b\b\b\b\b\r 2640/12153 [=====>........................] - ETA: 23736s"
     ]
    },
    {
     "name": "stdout",
     "output_type": "stream",
     "text": [
      "\b\b\b\b\b\b\b\b\b\b\b\b\b\b\b\b\b\b\b\b\b\b\b\b\b\b\b\b\b\b\b\b\b\b\b\b\b\b\b\b\b\b\b\b\b\b\b\b\b\b\b\b\b\b\b\b\b\b\r 2656/12153 [=====>........................] - ETA: 23693s"
     ]
    },
    {
     "name": "stdout",
     "output_type": "stream",
     "text": [
      "\b\b\b\b\b\b\b\b\b\b\b\b\b\b\b\b\b\b\b\b\b\b\b\b\b\b\b\b\b\b\b\b\b\b\b\b\b\b\b\b\b\b\b\b\b\b\b\b\b\b\b\b\b\b\b\b\b\b\r 2672/12153 [=====>........................] - ETA: 23652s"
     ]
    },
    {
     "name": "stdout",
     "output_type": "stream",
     "text": [
      "\b\b\b\b\b\b\b\b\b\b\b\b\b\b\b\b\b\b\b\b\b\b\b\b\b\b\b\b\b\b\b\b\b\b\b\b\b\b\b\b\b\b\b\b\b\b\b\b\b\b\b\b\b\b\b\b\b\b\r 2688/12153 [=====>........................] - ETA: 23613s"
     ]
    },
    {
     "name": "stdout",
     "output_type": "stream",
     "text": [
      "\b\b\b\b\b\b\b\b\b\b\b\b\b\b\b\b\b\b\b\b\b\b\b\b\b\b\b\b\b\b\b\b\b\b\b\b\b\b\b\b\b\b\b\b\b\b\b\b\b\b\b\b\b\b\b\b\b\b\r 2704/12153 [=====>........................] - ETA: 23571s"
     ]
    },
    {
     "name": "stdout",
     "output_type": "stream",
     "text": [
      "\b\b\b\b\b\b\b\b\b\b\b\b\b\b\b\b\b\b\b\b\b\b\b\b\b\b\b\b\b\b\b\b\b\b\b\b\b\b\b\b\b\b\b\b\b\b\b\b\b\b\b\b\b\b\b\b\b\b\r 2720/12153 [=====>........................] - ETA: 23531s"
     ]
    },
    {
     "name": "stdout",
     "output_type": "stream",
     "text": [
      "\b\b\b\b\b\b\b\b\b\b\b\b\b\b\b\b\b\b\b\b\b\b\b\b\b\b\b\b\b\b\b\b\b\b\b\b\b\b\b\b\b\b\b\b\b\b\b\b\b\b\b\b\b\b\b\b\b\b\r 2736/12153 [=====>........................] - ETA: 23491s"
     ]
    },
    {
     "name": "stdout",
     "output_type": "stream",
     "text": [
      "\b\b\b\b\b\b\b\b\b\b\b\b\b\b\b\b\b\b\b\b\b\b\b\b\b\b\b\b\b\b\b\b\b\b\b\b\b\b\b\b\b\b\b\b\b\b\b\b\b\b\b\b\b\b\b\b\b\b\r 2752/12153 [=====>........................] - ETA: 23449s"
     ]
    },
    {
     "name": "stdout",
     "output_type": "stream",
     "text": [
      "\b\b\b\b\b\b\b\b\b\b\b\b\b\b\b\b\b\b\b\b\b\b\b\b\b\b\b\b\b\b\b\b\b\b\b\b\b\b\b\b\b\b\b\b\b\b\b\b\b\b\b\b\b\b\b\b\b\b\r 2768/12153 [=====>........................] - ETA: 23409s"
     ]
    },
    {
     "name": "stdout",
     "output_type": "stream",
     "text": [
      "\b\b\b\b\b\b\b\b\b\b\b\b\b\b\b\b\b\b\b\b\b\b\b\b\b\b\b\b\b\b\b\b\b\b\b\b\b\b\b\b\b\b\b\b\b\b\b\b\b\b\b\b\b\b\b\b\b\b\r 2784/12153 [=====>........................] - ETA: 23368s"
     ]
    },
    {
     "name": "stdout",
     "output_type": "stream",
     "text": [
      "\b\b\b\b\b\b\b\b\b\b\b\b\b\b\b\b\b\b\b\b\b\b\b\b\b\b\b\b\b\b\b\b\b\b\b\b\b\b\b\b\b\b\b\b\b\b\b\b\b\b\b\b\b\b\b\b\b\b\r 2800/12153 [=====>........................] - ETA: 23329s"
     ]
    },
    {
     "name": "stdout",
     "output_type": "stream",
     "text": [
      "\b\b\b\b\b\b\b\b\b\b\b\b\b\b\b\b\b\b\b\b\b\b\b\b\b\b\b\b\b\b\b\b\b\b\b\b\b\b\b\b\b\b\b\b\b\b\b\b\b\b\b\b\b\b\b\b\b\b\r 2816/12153 [=====>........................] - ETA: 23288s"
     ]
    },
    {
     "name": "stdout",
     "output_type": "stream",
     "text": [
      "\b\b\b\b\b\b\b\b\b\b\b\b\b\b\b\b\b\b\b\b\b\b\b\b\b\b\b\b\b\b\b\b\b\b\b\b\b\b\b\b\b\b\b\b\b\b\b\b\b\b\b\b\b\b\b\b\b\b\r 2832/12153 [=====>........................] - ETA: 23247s"
     ]
    },
    {
     "name": "stdout",
     "output_type": "stream",
     "text": [
      "\b\b\b\b\b\b\b\b\b\b\b\b\b\b\b\b\b\b\b\b\b\b\b\b\b\b\b\b\b\b\b\b\b\b\b\b\b\b\b\b\b\b\b\b\b\b\b\b\b\b\b\b\b\b\b\b\b\b\r 2848/12153 [======>.......................] - ETA: 23208s"
     ]
    },
    {
     "name": "stdout",
     "output_type": "stream",
     "text": [
      "\b\b\b\b\b\b\b\b\b\b\b\b\b\b\b\b\b\b\b\b\b\b\b\b\b\b\b\b\b\b\b\b\b\b\b\b\b\b\b\b\b\b\b\b\b\b\b\b\b\b\b\b\b\b\b\b\b\b\r 2864/12153 [======>.......................] - ETA: 23167s"
     ]
    },
    {
     "name": "stdout",
     "output_type": "stream",
     "text": [
      "\b\b\b\b\b\b\b\b\b\b\b\b\b\b\b\b\b\b\b\b\b\b\b\b\b\b\b\b\b\b\b\b\b\b\b\b\b\b\b\b\b\b\b\b\b\b\b\b\b\b\b\b\b\b\b\b\b\b\r 2880/12153 [======>.......................] - ETA: 23128s"
     ]
    },
    {
     "name": "stdout",
     "output_type": "stream",
     "text": [
      "\b\b\b\b\b\b\b\b\b\b\b\b\b\b\b\b\b\b\b\b\b\b\b\b\b\b\b\b\b\b\b\b\b\b\b\b\b\b\b\b\b\b\b\b\b\b\b\b\b\b\b\b\b\b\b\b\b\b\r 2896/12153 [======>.......................] - ETA: 23087s"
     ]
    },
    {
     "name": "stdout",
     "output_type": "stream",
     "text": [
      "\b\b\b\b\b\b\b\b\b\b\b\b\b\b\b\b\b\b\b\b\b\b\b\b\b\b\b\b\b\b\b\b\b\b\b\b\b\b\b\b\b\b\b\b\b\b\b\b\b\b\b\b\b\b\b\b\b\b\r 2912/12153 [======>.......................] - ETA: 23048s"
     ]
    },
    {
     "name": "stdout",
     "output_type": "stream",
     "text": [
      "\b\b\b\b\b\b\b\b\b\b\b\b\b\b\b\b\b\b\b\b\b\b\b\b\b\b\b\b\b\b\b\b\b\b\b\b\b\b\b\b\b\b\b\b\b\b\b\b\b\b\b\b\b\b\b\b\b\b\r 2928/12153 [======>.......................] - ETA: 23007s"
     ]
    },
    {
     "name": "stdout",
     "output_type": "stream",
     "text": [
      "\b\b\b\b\b\b\b\b\b\b\b\b\b\b\b\b\b\b\b\b\b\b\b\b\b\b\b\b\b\b\b\b\b\b\b\b\b\b\b\b\b\b\b\b\b\b\b\b\b\b\b\b\b\b\b\b\b\b\r 2944/12153 [======>.......................] - ETA: 22968s"
     ]
    },
    {
     "name": "stdout",
     "output_type": "stream",
     "text": [
      "\b\b\b\b\b\b\b\b\b\b\b\b\b\b\b\b\b\b\b\b\b\b\b\b\b\b\b\b\b\b\b\b\b\b\b\b\b\b\b\b\b\b\b\b\b\b\b\b\b\b\b\b\b\b\b\b\b\b\r 2960/12153 [======>.......................] - ETA: 22926s"
     ]
    },
    {
     "name": "stdout",
     "output_type": "stream",
     "text": [
      "\b\b\b\b\b\b\b\b\b\b\b\b\b\b\b\b\b\b\b\b\b\b\b\b\b\b\b\b\b\b\b\b\b\b\b\b\b\b\b\b\b\b\b\b\b\b\b\b\b\b\b\b\b\b\b\b\b\b\r 2976/12153 [======>.......................] - ETA: 22887s"
     ]
    },
    {
     "name": "stdout",
     "output_type": "stream",
     "text": [
      "\b\b\b\b\b\b\b\b\b\b\b\b\b\b\b\b\b\b\b\b\b\b\b\b\b\b\b\b\b\b\b\b\b\b\b\b\b\b\b\b\b\b\b\b\b\b\b\b\b\b\b\b\b\b\b\b\b\b\r 2992/12153 [======>.......................] - ETA: 22846s"
     ]
    },
    {
     "name": "stdout",
     "output_type": "stream",
     "text": [
      "\b\b\b\b\b\b\b\b\b\b\b\b\b\b\b\b\b\b\b\b\b\b\b\b\b\b\b\b\b\b\b\b\b\b\b\b\b\b\b\b\b\b\b\b\b\b\b\b\b\b\b\b\b\b\b\b\b\b\r 3008/12153 [======>.......................] - ETA: 22808s"
     ]
    },
    {
     "name": "stdout",
     "output_type": "stream",
     "text": [
      "\b\b\b\b\b\b\b\b\b\b\b\b\b\b\b\b\b\b\b\b\b\b\b\b\b\b\b\b\b\b\b\b\b\b\b\b\b\b\b\b\b\b\b\b\b\b\b\b\b\b\b\b\b\b\b\b\b\b\r 3024/12153 [======>.......................] - ETA: 22766s"
     ]
    },
    {
     "name": "stdout",
     "output_type": "stream",
     "text": [
      "\b\b\b\b\b\b\b\b\b\b\b\b\b\b\b\b\b\b\b\b\b\b\b\b\b\b\b\b\b\b\b\b\b\b\b\b\b\b\b\b\b\b\b\b\b\b\b\b\b\b\b\b\b\b\b\b\b\b\r 3040/12153 [======>.......................] - ETA: 22724s"
     ]
    },
    {
     "name": "stdout",
     "output_type": "stream",
     "text": [
      "\b\b\b\b\b\b\b\b\b\b\b\b\b\b\b\b\b\b\b\b\b\b\b\b\b\b\b\b\b\b\b\b\b\b\b\b\b\b\b\b\b\b\b\b\b\b\b\b\b\b\b\b\b\b\b\b\b\b\r 3056/12153 [======>.......................] - ETA: 22682s"
     ]
    },
    {
     "name": "stdout",
     "output_type": "stream",
     "text": [
      "\b\b\b\b\b\b\b\b\b\b\b\b\b\b\b\b\b\b\b\b\b\b\b\b\b\b\b\b\b\b\b\b\b\b\b\b\b\b\b\b\b\b\b\b\b\b\b\b\b\b\b\b\b\b\b\b\b\b\r 3072/12153 [======>.......................] - ETA: 22642s"
     ]
    },
    {
     "name": "stdout",
     "output_type": "stream",
     "text": [
      "\b\b\b\b\b\b\b\b\b\b\b\b\b\b\b\b\b\b\b\b\b\b\b\b\b\b\b\b\b\b\b\b\b\b\b\b\b\b\b\b\b\b\b\b\b\b\b\b\b\b\b\b\b\b\b\b\b\b\r 3088/12153 [======>.......................] - ETA: 22603s"
     ]
    },
    {
     "name": "stdout",
     "output_type": "stream",
     "text": [
      "\b\b\b\b\b\b\b\b\b\b\b\b\b\b\b\b\b\b\b\b\b\b\b\b\b\b\b\b\b\b\b\b\b\b\b\b\b\b\b\b\b\b\b\b\b\b\b\b\b\b\b\b\b\b\b\b\b\b\r 3104/12153 [======>.......................] - ETA: 22562s"
     ]
    },
    {
     "name": "stdout",
     "output_type": "stream",
     "text": [
      "\b\b\b\b\b\b\b\b\b\b\b\b\b\b\b\b\b\b\b\b\b\b\b\b\b\b\b\b\b\b\b\b\b\b\b\b\b\b\b\b\b\b\b\b\b\b\b\b\b\b\b\b\b\b\b\b\b\b\r 3120/12153 [======>.......................] - ETA: 22521s"
     ]
    },
    {
     "name": "stdout",
     "output_type": "stream",
     "text": [
      "\b\b\b\b\b\b\b\b\b\b\b\b\b\b\b\b\b\b\b\b\b\b\b\b\b\b\b\b\b\b\b\b\b\b\b\b\b\b\b\b\b\b\b\b\b\b\b\b\b\b\b\b\b\b\b\b\b\b\r 3136/12153 [======>.......................] - ETA: 22482s"
     ]
    },
    {
     "name": "stdout",
     "output_type": "stream",
     "text": [
      "\b\b\b\b\b\b\b\b\b\b\b\b\b\b\b\b\b\b\b\b\b\b\b\b\b\b\b\b\b\b\b\b\b\b\b\b\b\b\b\b\b\b\b\b\b\b\b\b\b\b\b\b\b\b\b\b\b\b\r 3152/12153 [======>.......................] - ETA: 22442s"
     ]
    },
    {
     "name": "stdout",
     "output_type": "stream",
     "text": [
      "\b\b\b\b\b\b\b\b\b\b\b\b\b\b\b\b\b\b\b\b\b\b\b\b\b\b\b\b\b\b\b\b\b\b\b\b\b\b\b\b\b\b\b\b\b\b\b\b\b\b\b\b\b\b\b\b\b\b\r 3168/12153 [======>.......................] - ETA: 22403s"
     ]
    },
    {
     "name": "stdout",
     "output_type": "stream",
     "text": [
      "\b\b\b\b\b\b\b\b\b\b\b\b\b\b\b\b\b\b\b\b\b\b\b\b\b\b\b\b\b\b\b\b\b\b\b\b\b\b\b\b\b\b\b\b\b\b\b\b\b\b\b\b\b\b\b\b\b\b\r 3184/12153 [======>.......................] - ETA: 22362s"
     ]
    },
    {
     "name": "stdout",
     "output_type": "stream",
     "text": [
      "\b\b\b\b\b\b\b\b\b\b\b\b\b\b\b\b\b\b\b\b\b\b\b\b\b\b\b\b\b\b\b\b\b\b\b\b\b\b\b\b\b\b\b\b\b\b\b\b\b\b\b\b\b\b\b\b\b\b\r 3200/12153 [======>.......................] - ETA: 22322s"
     ]
    },
    {
     "name": "stdout",
     "output_type": "stream",
     "text": [
      "\b\b\b\b\b\b\b\b\b\b\b\b\b\b\b\b\b\b\b\b\b\b\b\b\b\b\b\b\b\b\b\b\b\b\b\b\b\b\b\b\b\b\b\b\b\b\b\b\b\b\b\b\b\b\b\b\b\b\r 3216/12153 [======>.......................] - ETA: 22283s"
     ]
    },
    {
     "name": "stdout",
     "output_type": "stream",
     "text": [
      "\b\b\b\b\b\b\b\b\b\b\b\b\b\b\b\b\b\b\b\b\b\b\b\b\b\b\b\b\b\b\b\b\b\b\b\b\b\b\b\b\b\b\b\b\b\b\b\b\b\b\b\b\b\b\b\b\b\b\r 3232/12153 [======>.......................] - ETA: 22244s"
     ]
    },
    {
     "name": "stdout",
     "output_type": "stream",
     "text": [
      "\b\b\b\b\b\b\b\b\b\b\b\b\b\b\b\b\b\b\b\b\b\b\b\b\b\b\b\b\b\b\b\b\b\b\b\b\b\b\b\b\b\b\b\b\b\b\b\b\b\b\b\b\b\b\b\b\b\b\r 3248/12153 [=======>......................] - ETA: 22204s"
     ]
    },
    {
     "name": "stdout",
     "output_type": "stream",
     "text": [
      "\b\b\b\b\b\b\b\b\b\b\b\b\b\b\b\b\b\b\b\b\b\b\b\b\b\b\b\b\b\b\b\b\b\b\b\b\b\b\b\b\b\b\b\b\b\b\b\b\b\b\b\b\b\b\b\b\b\b\r 3264/12153 [=======>......................] - ETA: 22164s"
     ]
    },
    {
     "name": "stdout",
     "output_type": "stream",
     "text": [
      "\b\b\b\b\b\b\b\b\b\b\b\b\b\b\b\b\b\b\b\b\b\b\b\b\b\b\b\b\b\b\b\b\b\b\b\b\b\b\b\b\b\b\b\b\b\b\b\b\b\b\b\b\b\b\b\b\b\b\r 3280/12153 [=======>......................] - ETA: 22122s"
     ]
    },
    {
     "name": "stdout",
     "output_type": "stream",
     "text": [
      "\b\b\b\b\b\b\b\b\b\b\b\b\b\b\b\b\b\b\b\b\b\b\b\b\b\b\b\b\b\b\b\b\b\b\b\b\b\b\b\b\b\b\b\b\b\b\b\b\b\b\b\b\b\b\b\b\b\b\r 3296/12153 [=======>......................] - ETA: 22082s"
     ]
    },
    {
     "name": "stdout",
     "output_type": "stream",
     "text": [
      "\b\b\b\b\b\b\b\b\b\b\b\b\b\b\b\b\b\b\b\b\b\b\b\b\b\b\b\b\b\b\b\b\b\b\b\b\b\b\b\b\b\b\b\b\b\b\b\b\b\b\b\b\b\b\b\b\b\b\r 3312/12153 [=======>......................] - ETA: 22042s"
     ]
    },
    {
     "name": "stdout",
     "output_type": "stream",
     "text": [
      "\b\b\b\b\b\b\b\b\b\b\b\b\b\b\b\b\b\b\b\b\b\b\b\b\b\b\b\b\b\b\b\b\b\b\b\b\b\b\b\b\b\b\b\b\b\b\b\b\b\b\b\b\b\b\b\b\b\b\r 3328/12153 [=======>......................] - ETA: 22001s"
     ]
    },
    {
     "name": "stdout",
     "output_type": "stream",
     "text": [
      "\b\b\b\b\b\b\b\b\b\b\b\b\b\b\b\b\b\b\b\b\b\b\b\b\b\b\b\b\b\b\b\b\b\b\b\b\b\b\b\b\b\b\b\b\b\b\b\b\b\b\b\b\b\b\b\b\b\b\r 3344/12153 [=======>......................] - ETA: 21961s"
     ]
    },
    {
     "name": "stdout",
     "output_type": "stream",
     "text": [
      "\b\b\b\b\b\b\b\b\b\b\b\b\b\b\b\b\b\b\b\b\b\b\b\b\b\b\b\b\b\b\b\b\b\b\b\b\b\b\b\b\b\b\b\b\b\b\b\b\b\b\b\b\b\b\b\b\b\b\r 3360/12153 [=======>......................] - ETA: 21920s"
     ]
    },
    {
     "name": "stdout",
     "output_type": "stream",
     "text": [
      "\b\b\b\b\b\b\b\b\b\b\b\b\b\b\b\b\b\b\b\b\b\b\b\b\b\b\b\b\b\b\b\b\b\b\b\b\b\b\b\b\b\b\b\b\b\b\b\b\b\b\b\b\b\b\b\b\b\b\r 3376/12153 [=======>......................] - ETA: 21882s"
     ]
    },
    {
     "name": "stdout",
     "output_type": "stream",
     "text": [
      "\b\b\b\b\b\b\b\b\b\b\b\b\b\b\b\b\b\b\b\b\b\b\b\b\b\b\b\b\b\b\b\b\b\b\b\b\b\b\b\b\b\b\b\b\b\b\b\b\b\b\b\b\b\b\b\b\b\b\r 3392/12153 [=======>......................] - ETA: 21841s"
     ]
    },
    {
     "name": "stdout",
     "output_type": "stream",
     "text": [
      "\b\b\b\b\b\b\b\b\b\b\b\b\b\b\b\b\b\b\b\b\b\b\b\b\b\b\b\b\b\b\b\b\b\b\b\b\b\b\b\b\b\b\b\b\b\b\b\b\b\b\b\b\b\b\b\b\b\b\r 3408/12153 [=======>......................] - ETA: 21800s"
     ]
    },
    {
     "name": "stdout",
     "output_type": "stream",
     "text": [
      "\b\b\b\b\b\b\b\b\b\b\b\b\b\b\b\b\b\b\b\b\b\b\b\b\b\b\b\b\b\b\b\b\b\b\b\b\b\b\b\b\b\b\b\b\b\b\b\b\b\b\b\b\b\b\b\b\b\b\r 3424/12153 [=======>......................] - ETA: 21759s"
     ]
    },
    {
     "name": "stdout",
     "output_type": "stream",
     "text": [
      "\b\b\b\b\b\b\b\b\b\b\b\b\b\b\b\b\b\b\b\b\b\b\b\b\b\b\b\b\b\b\b\b\b\b\b\b\b\b\b\b\b\b\b\b\b\b\b\b\b\b\b\b\b\b\b\b\b\b\r 3440/12153 [=======>......................] - ETA: 21719s"
     ]
    },
    {
     "name": "stdout",
     "output_type": "stream",
     "text": [
      "\b\b\b\b\b\b\b\b\b\b\b\b\b\b\b\b\b\b\b\b\b\b\b\b\b\b\b\b\b\b\b\b\b\b\b\b\b\b\b\b\b\b\b\b\b\b\b\b\b\b\b\b\b\b\b\b\b\b\r 3456/12153 [=======>......................] - ETA: 21678s"
     ]
    },
    {
     "name": "stdout",
     "output_type": "stream",
     "text": [
      "\b\b\b\b\b\b\b\b\b\b\b\b\b\b\b\b\b\b\b\b\b\b\b\b\b\b\b\b\b\b\b\b\b\b\b\b\b\b\b\b\b\b\b\b\b\b\b\b\b\b\b\b\b\b\b\b\b\b\r 3472/12153 [=======>......................] - ETA: 21638s"
     ]
    },
    {
     "name": "stdout",
     "output_type": "stream",
     "text": [
      "\b\b\b\b\b\b\b\b\b\b\b\b\b\b\b\b\b\b\b\b\b\b\b\b\b\b\b\b\b\b\b\b\b\b\b\b\b\b\b\b\b\b\b\b\b\b\b\b\b\b\b\b\b\b\b\b\b\b\r 3488/12153 [=======>......................] - ETA: 21599s"
     ]
    },
    {
     "name": "stdout",
     "output_type": "stream",
     "text": [
      "\b\b\b\b\b\b\b\b\b\b\b\b\b\b\b\b\b\b\b\b\b\b\b\b\b\b\b\b\b\b\b\b\b\b\b\b\b\b\b\b\b\b\b\b\b\b\b\b\b\b\b\b\b\b\b\b\b\b\r 3504/12153 [=======>......................] - ETA: 21558s"
     ]
    },
    {
     "name": "stdout",
     "output_type": "stream",
     "text": [
      "\b\b\b\b\b\b\b\b\b\b\b\b\b\b\b\b\b\b\b\b\b\b\b\b\b\b\b\b\b\b\b\b\b\b\b\b\b\b\b\b\b\b\b\b\b\b\b\b\b\b\b\b\b\b\b\b\b\b\r 3520/12153 [=======>......................] - ETA: 21518s"
     ]
    },
    {
     "name": "stdout",
     "output_type": "stream",
     "text": [
      "\b\b\b\b\b\b\b\b\b\b\b\b\b\b\b\b\b\b\b\b\b\b\b\b\b\b\b\b\b\b\b\b\b\b\b\b\b\b\b\b\b\b\b\b\b\b\b\b\b\b\b\b\b\b\b\b\b\b\r 3536/12153 [=======>......................] - ETA: 21478s"
     ]
    },
    {
     "name": "stdout",
     "output_type": "stream",
     "text": [
      "\b\b\b\b\b\b\b\b\b\b\b\b\b\b\b\b\b\b\b\b\b\b\b\b\b\b\b\b\b\b\b\b\b\b\b\b\b\b\b\b\b\b\b\b\b\b\b\b\b\b\b\b\b\b\b\b\b\b\r 3552/12153 [=======>......................] - ETA: 21439s"
     ]
    },
    {
     "name": "stdout",
     "output_type": "stream",
     "text": [
      "\b\b\b\b\b\b\b\b\b\b\b\b\b\b\b\b\b\b\b\b\b\b\b\b\b\b\b\b\b\b\b\b\b\b\b\b\b\b\b\b\b\b\b\b\b\b\b\b\b\b\b\b\b\b\b\b\b\b\r 3568/12153 [=======>......................] - ETA: 21401s"
     ]
    },
    {
     "name": "stdout",
     "output_type": "stream",
     "text": [
      "\b\b\b\b\b\b\b\b\b\b\b\b\b\b\b\b\b\b\b\b\b\b\b\b\b\b\b\b\b\b\b\b\b\b\b\b\b\b\b\b\b\b\b\b\b\b\b\b\b\b\b\b\b\b\b\b\b\b\r 3584/12153 [=======>......................] - ETA: 21360s"
     ]
    },
    {
     "name": "stdout",
     "output_type": "stream",
     "text": [
      "\b\b\b\b\b\b\b\b\b\b\b\b\b\b\b\b\b\b\b\b\b\b\b\b\b\b\b\b\b\b\b\b\b\b\b\b\b\b\b\b\b\b\b\b\b\b\b\b\b\b\b\b\b\b\b\b\b\b\r 3600/12153 [=======>......................] - ETA: 21321s"
     ]
    },
    {
     "name": "stdout",
     "output_type": "stream",
     "text": [
      "\b\b\b\b\b\b\b\b\b\b\b\b\b\b\b\b\b\b\b\b\b\b\b\b\b\b\b\b\b\b\b\b\b\b\b\b\b\b\b\b\b\b\b\b\b\b\b\b\b\b\b\b\b\b\b\b\b\b\r 3616/12153 [=======>......................] - ETA: 21280s"
     ]
    },
    {
     "name": "stdout",
     "output_type": "stream",
     "text": [
      "\b\b\b\b\b\b\b\b\b\b\b\b\b\b\b\b\b\b\b\b\b\b\b\b\b\b\b\b\b\b\b\b\b\b\b\b\b\b\b\b\b\b\b\b\b\b\b\b\b\b\b\b\b\b\b\b\b\b\r 3632/12153 [=======>......................] - ETA: 21241s"
     ]
    },
    {
     "name": "stdout",
     "output_type": "stream",
     "text": [
      "\b\b\b\b\b\b\b\b\b\b\b\b\b\b\b\b\b\b\b\b\b\b\b\b\b\b\b\b\b\b\b\b\b\b\b\b\b\b\b\b\b\b\b\b\b\b\b\b\b\b\b\b\b\b\b\b\b\b\r 3648/12153 [========>.....................] - ETA: 21202s"
     ]
    },
    {
     "name": "stdout",
     "output_type": "stream",
     "text": [
      "\b\b\b\b\b\b\b\b\b\b\b\b\b\b\b\b\b\b\b\b\b\b\b\b\b\b\b\b\b\b\b\b\b\b\b\b\b\b\b\b\b\b\b\b\b\b\b\b\b\b\b\b\b\b\b\b\b\b\r 3664/12153 [========>.....................] - ETA: 21161s"
     ]
    },
    {
     "name": "stdout",
     "output_type": "stream",
     "text": [
      "\b\b\b\b\b\b\b\b\b\b\b\b\b\b\b\b\b\b\b\b\b\b\b\b\b\b\b\b\b\b\b\b\b\b\b\b\b\b\b\b\b\b\b\b\b\b\b\b\b\b\b\b\b\b\b\b\b\b\r 3680/12153 [========>.....................] - ETA: 21121s"
     ]
    },
    {
     "name": "stdout",
     "output_type": "stream",
     "text": [
      "\b\b\b\b\b\b\b\b\b\b\b\b\b\b\b\b\b\b\b\b\b\b\b\b\b\b\b\b\b\b\b\b\b\b\b\b\b\b\b\b\b\b\b\b\b\b\b\b\b\b\b\b\b\b\b\b\b\b\r 3696/12153 [========>.....................] - ETA: 21083s"
     ]
    },
    {
     "name": "stdout",
     "output_type": "stream",
     "text": [
      "\b\b\b\b\b\b\b\b\b\b\b\b\b\b\b\b\b\b\b\b\b\b\b\b\b\b\b\b\b\b\b\b\b\b\b\b\b\b\b\b\b\b\b\b\b\b\b\b\b\b\b\b\b\b\b\b\b\b\r 3712/12153 [========>.....................] - ETA: 21045s"
     ]
    },
    {
     "name": "stdout",
     "output_type": "stream",
     "text": [
      "\b\b\b\b\b\b\b\b\b\b\b\b\b\b\b\b\b\b\b\b\b\b\b\b\b\b\b\b\b\b\b\b\b\b\b\b\b\b\b\b\b\b\b\b\b\b\b\b\b\b\b\b\b\b\b\b\b\b\r 3728/12153 [========>.....................] - ETA: 21003s"
     ]
    },
    {
     "name": "stdout",
     "output_type": "stream",
     "text": [
      "\b\b\b\b\b\b\b\b\b\b\b\b\b\b\b\b\b\b\b\b\b\b\b\b\b\b\b\b\b\b\b\b\b\b\b\b\b\b\b\b\b\b\b\b\b\b\b\b\b\b\b\b\b\b\b\b\b\b\r 3744/12153 [========>.....................] - ETA: 20960s"
     ]
    },
    {
     "name": "stdout",
     "output_type": "stream",
     "text": [
      "\b\b\b\b\b\b\b\b\b\b\b\b\b\b\b\b\b\b\b\b\b\b\b\b\b\b\b\b\b\b\b\b\b\b\b\b\b\b\b\b\b\b\b\b\b\b\b\b\b\b\b\b\b\b\b\b\b\b\r 3760/12153 [========>.....................] - ETA: 20918s"
     ]
    },
    {
     "name": "stdout",
     "output_type": "stream",
     "text": [
      "\b\b\b\b\b\b\b\b\b\b\b\b\b\b\b\b\b\b\b\b\b\b\b\b\b\b\b\b\b\b\b\b\b\b\b\b\b\b\b\b\b\b\b\b\b\b\b\b\b\b\b\b\b\b\b\b\b\b\r 3776/12153 [========>.....................] - ETA: 20877s"
     ]
    },
    {
     "name": "stdout",
     "output_type": "stream",
     "text": [
      "\b\b\b\b\b\b\b\b\b\b\b\b\b\b\b\b\b\b\b\b\b\b\b\b\b\b\b\b\b\b\b\b\b\b\b\b\b\b\b\b\b\b\b\b\b\b\b\b\b\b\b\b\b\b\b\b\b\b\r 3792/12153 [========>.....................] - ETA: 20837s"
     ]
    },
    {
     "name": "stdout",
     "output_type": "stream",
     "text": [
      "\b\b\b\b\b\b\b\b\b\b\b\b\b\b\b\b\b\b\b\b\b\b\b\b\b\b\b\b\b\b\b\b\b\b\b\b\b\b\b\b\b\b\b\b\b\b\b\b\b\b\b\b\b\b\b\b\b\b\r 3808/12153 [========>.....................] - ETA: 20796s"
     ]
    },
    {
     "name": "stdout",
     "output_type": "stream",
     "text": [
      "\b\b\b\b\b\b\b\b\b\b\b\b\b\b\b\b\b\b\b\b\b\b\b\b\b\b\b\b\b\b\b\b\b\b\b\b\b\b\b\b\b\b\b\b\b\b\b\b\b\b\b\b\b\b\b\b\b\b\r 3824/12153 [========>.....................] - ETA: 20755s"
     ]
    },
    {
     "name": "stdout",
     "output_type": "stream",
     "text": [
      "\b\b\b\b\b\b\b\b\b\b\b\b\b\b\b\b\b\b\b\b\b\b\b\b\b\b\b\b\b\b\b\b\b\b\b\b\b\b\b\b\b\b\b\b\b\b\b\b\b\b\b\b\b\b\b\b\b\b\r 3840/12153 [========>.....................] - ETA: 20714s"
     ]
    },
    {
     "name": "stdout",
     "output_type": "stream",
     "text": [
      "\b\b\b\b\b\b\b\b\b\b\b\b\b\b\b\b\b\b\b\b\b\b\b\b\b\b\b\b\b\b\b\b\b\b\b\b\b\b\b\b\b\b\b\b\b\b\b\b\b\b\b\b\b\b\b\b\b\b\r 3856/12153 [========>.....................] - ETA: 20674s"
     ]
    },
    {
     "name": "stdout",
     "output_type": "stream",
     "text": [
      "\b\b\b\b\b\b\b\b\b\b\b\b\b\b\b\b\b\b\b\b\b\b\b\b\b\b\b\b\b\b\b\b\b\b\b\b\b\b\b\b\b\b\b\b\b\b\b\b\b\b\b\b\b\b\b\b\b\b\r 3872/12153 [========>.....................] - ETA: 20633s"
     ]
    },
    {
     "name": "stdout",
     "output_type": "stream",
     "text": [
      "\b\b\b\b\b\b\b\b\b\b\b\b\b\b\b\b\b\b\b\b\b\b\b\b\b\b\b\b\b\b\b\b\b\b\b\b\b\b\b\b\b\b\b\b\b\b\b\b\b\b\b\b\b\b\b\b\b\b\r 3888/12153 [========>.....................] - ETA: 20594s"
     ]
    },
    {
     "name": "stdout",
     "output_type": "stream",
     "text": [
      "\b\b\b\b\b\b\b\b\b\b\b\b\b\b\b\b\b\b\b\b\b\b\b\b\b\b\b\b\b\b\b\b\b\b\b\b\b\b\b\b\b\b\b\b\b\b\b\b\b\b\b\b\b\b\b\b\b\b\r 3904/12153 [========>.....................] - ETA: 20554s"
     ]
    },
    {
     "name": "stdout",
     "output_type": "stream",
     "text": [
      "\b\b\b\b\b\b\b\b\b\b\b\b\b\b\b\b\b\b\b\b\b\b\b\b\b\b\b\b\b\b\b\b\b\b\b\b\b\b\b\b\b\b\b\b\b\b\b\b\b\b\b\b\b\b\b\b\b\b\r 3920/12153 [========>.....................] - ETA: 20514s"
     ]
    },
    {
     "name": "stdout",
     "output_type": "stream",
     "text": [
      "\b\b\b\b\b\b\b\b\b\b\b\b\b\b\b\b\b\b\b\b\b\b\b\b\b\b\b\b\b\b\b\b\b\b\b\b\b\b\b\b\b\b\b\b\b\b\b\b\b\b\b\b\b\b\b\b\b\b\r 3936/12153 [========>.....................] - ETA: 20477s"
     ]
    },
    {
     "name": "stdout",
     "output_type": "stream",
     "text": [
      "\b\b\b\b\b\b\b\b\b\b\b\b\b\b\b\b\b\b\b\b\b\b\b\b\b\b\b\b\b\b\b\b\b\b\b\b\b\b\b\b\b\b\b\b\b\b\b\b\b\b\b\b\b\b\b\b\b\b\r 3952/12153 [========>.....................] - ETA: 20440s"
     ]
    },
    {
     "name": "stdout",
     "output_type": "stream",
     "text": [
      "\b\b\b\b\b\b\b\b\b\b\b\b\b\b\b\b\b\b\b\b\b\b\b\b\b\b\b\b\b\b\b\b\b\b\b\b\b\b\b\b\b\b\b\b\b\b\b\b\b\b\b\b\b\b\b\b\b\b\r 3968/12153 [========>.....................] - ETA: 20399s"
     ]
    },
    {
     "name": "stdout",
     "output_type": "stream",
     "text": [
      "\b\b\b\b\b\b\b\b\b\b\b\b\b\b\b\b\b\b\b\b\b\b\b\b\b\b\b\b\b\b\b\b\b\b\b\b\b\b\b\b\b\b\b\b\b\b\b\b\b\b\b\b\b\b\b\b\b\b\r 3984/12153 [========>.....................] - ETA: 20358s"
     ]
    },
    {
     "name": "stdout",
     "output_type": "stream",
     "text": [
      "\b\b\b\b\b\b\b\b\b\b\b\b\b\b\b\b\b\b\b\b\b\b\b\b\b\b\b\b\b\b\b\b\b\b\b\b\b\b\b\b\b\b\b\b\b\b\b\b\b\b\b\b\b\b\b\b\b\b\r 4000/12153 [========>.....................] - ETA: 20318s"
     ]
    },
    {
     "name": "stdout",
     "output_type": "stream",
     "text": [
      "\b\b\b\b\b\b\b\b\b\b\b\b\b\b\b\b\b\b\b\b\b\b\b\b\b\b\b\b\b\b\b\b\b\b\b\b\b\b\b\b\b\b\b\b\b\b\b\b\b\b\b\b\b\b\b\b\b\b\r 4016/12153 [========>.....................] - ETA: 20277s"
     ]
    },
    {
     "name": "stdout",
     "output_type": "stream",
     "text": [
      "\b\b\b\b\b\b\b\b\b\b\b\b\b\b\b\b\b\b\b\b\b\b\b\b\b\b\b\b\b\b\b\b\b\b\b\b\b\b\b\b\b\b\b\b\b\b\b\b\b\b\b\b\b\b\b\b\b\b\r 4032/12153 [========>.....................] - ETA: 20237s"
     ]
    },
    {
     "name": "stdout",
     "output_type": "stream",
     "text": [
      "\b\b\b\b\b\b\b\b\b\b\b\b\b\b\b\b\b\b\b\b\b\b\b\b\b\b\b\b\b\b\b\b\b\b\b\b\b\b\b\b\b\b\b\b\b\b\b\b\b\b\b\b\b\b\b\b\b\b\r 4048/12153 [========>.....................] - ETA: 20198s"
     ]
    },
    {
     "name": "stdout",
     "output_type": "stream",
     "text": [
      "\b\b\b\b\b\b\b\b\b\b\b\b\b\b\b\b\b\b\b\b\b\b\b\b\b\b\b\b\b\b\b\b\b\b\b\b\b\b\b\b\b\b\b\b\b\b\b\b\b\b\b\b\b\b\b\b\b\b\r 4064/12153 [=========>....................] - ETA: 20158s"
     ]
    },
    {
     "name": "stdout",
     "output_type": "stream",
     "text": [
      "\b\b\b\b\b\b\b\b\b\b\b\b\b\b\b\b\b\b\b\b\b\b\b\b\b\b\b\b\b\b\b\b\b\b\b\b\b\b\b\b\b\b\b\b\b\b\b\b\b\b\b\b\b\b\b\b\b\b\r 4080/12153 [=========>....................] - ETA: 20118s"
     ]
    },
    {
     "name": "stdout",
     "output_type": "stream",
     "text": [
      "\b\b\b\b\b\b\b\b\b\b\b\b\b\b\b\b\b\b\b\b\b\b\b\b\b\b\b\b\b\b\b\b\b\b\b\b\b\b\b\b\b\b\b\b\b\b\b\b\b\b\b\b\b\b\b\b\b\b\r 4096/12153 [=========>....................] - ETA: 20078s"
     ]
    },
    {
     "name": "stdout",
     "output_type": "stream",
     "text": [
      "\b\b\b\b\b\b\b\b\b\b\b\b\b\b\b\b\b\b\b\b\b\b\b\b\b\b\b\b\b\b\b\b\b\b\b\b\b\b\b\b\b\b\b\b\b\b\b\b\b\b\b\b\b\b\b\b\b\b\r 4112/12153 [=========>....................] - ETA: 20038s"
     ]
    },
    {
     "name": "stdout",
     "output_type": "stream",
     "text": [
      "\b\b\b\b\b\b\b\b\b\b\b\b\b\b\b\b\b\b\b\b\b\b\b\b\b\b\b\b\b\b\b\b\b\b\b\b\b\b\b\b\b\b\b\b\b\b\b\b\b\b\b\b\b\b\b\b\b\b\r 4128/12153 [=========>....................] - ETA: 19998s"
     ]
    },
    {
     "name": "stdout",
     "output_type": "stream",
     "text": [
      "\b\b\b\b\b\b\b\b\b\b\b\b\b\b\b\b\b\b\b\b\b\b\b\b\b\b\b\b\b\b\b\b\b\b\b\b\b\b\b\b\b\b\b\b\b\b\b\b\b\b\b\b\b\b\b\b\b\b\r 4144/12153 [=========>....................] - ETA: 19959s"
     ]
    },
    {
     "name": "stdout",
     "output_type": "stream",
     "text": [
      "\b\b\b\b\b\b\b\b\b\b\b\b\b\b\b\b\b\b\b\b\b\b\b\b\b\b\b\b\b\b\b\b\b\b\b\b\b\b\b\b\b\b\b\b\b\b\b\b\b\b\b\b\b\b\b\b\b\b\r 4160/12153 [=========>....................] - ETA: 19923s"
     ]
    },
    {
     "name": "stdout",
     "output_type": "stream",
     "text": [
      "\b\b\b\b\b\b\b\b\b\b\b\b\b\b\b\b\b\b\b\b\b\b\b\b\b\b\b\b\b\b\b\b\b\b\b\b\b\b\b\b\b\b\b\b\b\b\b\b\b\b\b\b\b\b\b\b\b\b\r 4176/12153 [=========>....................] - ETA: 19886s"
     ]
    },
    {
     "name": "stdout",
     "output_type": "stream",
     "text": [
      "\b\b\b\b\b\b\b\b\b\b\b\b\b\b\b\b\b\b\b\b\b\b\b\b\b\b\b\b\b\b\b\b\b\b\b\b\b\b\b\b\b\b\b\b\b\b\b\b\b\b\b\b\b\b\b\b\b\b\r 4192/12153 [=========>....................] - ETA: 19846s"
     ]
    },
    {
     "name": "stdout",
     "output_type": "stream",
     "text": [
      "\b\b\b\b\b\b\b\b\b\b\b\b\b\b\b\b\b\b\b\b\b\b\b\b\b\b\b\b\b\b\b\b\b\b\b\b\b\b\b\b\b\b\b\b\b\b\b\b\b\b\b\b\b\b\b\b\b\b\r 4208/12153 [=========>....................] - ETA: 19804s"
     ]
    },
    {
     "name": "stdout",
     "output_type": "stream",
     "text": [
      "\b\b\b\b\b\b\b\b\b\b\b\b\b\b\b\b\b\b\b\b\b\b\b\b\b\b\b\b\b\b\b\b\b\b\b\b\b\b\b\b\b\b\b\b\b\b\b\b\b\b\b\b\b\b\b\b\b\b\r 4224/12153 [=========>....................] - ETA: 19768s"
     ]
    },
    {
     "name": "stdout",
     "output_type": "stream",
     "text": [
      "\b\b\b\b\b\b\b\b\b\b\b\b\b\b\b\b\b\b\b\b\b\b\b\b\b\b\b\b\b\b\b\b\b\b\b\b\b\b\b\b\b\b\b\b\b\b\b\b\b\b\b\b\b\b\b\b\b\b\r 4240/12153 [=========>....................] - ETA: 19730s"
     ]
    },
    {
     "name": "stdout",
     "output_type": "stream",
     "text": [
      "\b\b\b\b\b\b\b\b\b\b\b\b\b\b\b\b\b\b\b\b\b\b\b\b\b\b\b\b\b\b\b\b\b\b\b\b\b\b\b\b\b\b\b\b\b\b\b\b\b\b\b\b\b\b\b\b\b\b\r 4256/12153 [=========>....................] - ETA: 19689s"
     ]
    },
    {
     "name": "stdout",
     "output_type": "stream",
     "text": [
      "\b\b\b\b\b\b\b\b\b\b\b\b\b\b\b\b\b\b\b\b\b\b\b\b\b\b\b\b\b\b\b\b\b\b\b\b\b\b\b\b\b\b\b\b\b\b\b\b\b\b\b\b\b\b\b\b\b\b\r 4272/12153 [=========>....................] - ETA: 19650s"
     ]
    },
    {
     "name": "stdout",
     "output_type": "stream",
     "text": [
      "\b\b\b\b\b\b\b\b\b\b\b\b\b\b\b\b\b\b\b\b\b\b\b\b\b\b\b\b\b\b\b\b\b\b\b\b\b\b\b\b\b\b\b\b\b\b\b\b\b\b\b\b\b\b\b\b\b\b\r 4288/12153 [=========>....................] - ETA: 19620s"
     ]
    },
    {
     "name": "stdout",
     "output_type": "stream",
     "text": [
      "\b\b\b\b\b\b\b\b\b\b\b\b\b\b\b\b\b\b\b\b\b\b\b\b\b\b\b\b\b\b\b\b\b\b\b\b\b\b\b\b\b\b\b\b\b\b\b\b\b\b\b\b\b\b\b\b\b\b\r 4304/12153 [=========>....................] - ETA: 19585s"
     ]
    },
    {
     "name": "stdout",
     "output_type": "stream",
     "text": [
      "\b\b\b\b\b\b\b\b\b\b\b\b\b\b\b\b\b\b\b\b\b\b\b\b\b\b\b\b\b\b\b\b\b\b\b\b\b\b\b\b\b\b\b\b\b\b\b\b\b\b\b\b\b\b\b\b\b\b\r 4320/12153 [=========>....................] - ETA: 19563s"
     ]
    },
    {
     "name": "stdout",
     "output_type": "stream",
     "text": [
      "\b\b\b\b\b\b\b\b\b\b\b\b\b\b\b\b\b\b\b\b\b\b\b\b\b\b\b\b\b\b\b\b\b\b\b\b\b\b\b\b\b\b\b\b\b\b\b\b\b\b\b\b\b\b\b\b\b\b\r 4336/12153 [=========>....................] - ETA: 19538s"
     ]
    },
    {
     "name": "stdout",
     "output_type": "stream",
     "text": [
      "\b\b\b\b\b\b\b\b\b\b\b\b\b\b\b\b\b\b\b\b\b\b\b\b\b\b\b\b\b\b\b\b\b\b\b\b\b\b\b\b\b\b\b\b\b\b\b\b\b\b\b\b\b\b\b\b\b\b\r 4352/12153 [=========>....................] - ETA: 19507s"
     ]
    },
    {
     "name": "stdout",
     "output_type": "stream",
     "text": [
      "\b\b\b\b\b\b\b\b\b\b\b\b\b\b\b\b\b\b\b\b\b\b\b\b\b\b\b\b\b\b\b\b\b\b\b\b\b\b\b\b\b\b\b\b\b\b\b\b\b\b\b\b\b\b\b\b\b\b\r 4368/12153 [=========>....................] - ETA: 19466s"
     ]
    },
    {
     "name": "stdout",
     "output_type": "stream",
     "text": [
      "\b\b\b\b\b\b\b\b\b\b\b\b\b\b\b\b\b\b\b\b\b\b\b\b\b\b\b\b\b\b\b\b\b\b\b\b\b\b\b\b\b\b\b\b\b\b\b\b\b\b\b\b\b\b\b\b\b\b\r 4384/12153 [=========>....................] - ETA: 19448s"
     ]
    },
    {
     "name": "stdout",
     "output_type": "stream",
     "text": [
      "\b\b\b\b\b\b\b\b\b\b\b\b\b\b\b\b\b\b\b\b\b\b\b\b\b\b\b\b\b\b\b\b\b\b\b\b\b\b\b\b\b\b\b\b\b\b\b\b\b\b\b\b\b\b\b\b\b\b\r 4400/12153 [=========>....................] - ETA: 19437s"
     ]
    },
    {
     "name": "stdout",
     "output_type": "stream",
     "text": [
      "\b\b\b\b\b\b\b\b\b\b\b\b\b\b\b\b\b\b\b\b\b\b\b\b\b\b\b\b\b\b\b\b\b\b\b\b\b\b\b\b\b\b\b\b\b\b\b\b\b\b\b\b\b\b\b\b\b\b\r 4416/12153 [=========>....................] - ETA: 19408s"
     ]
    },
    {
     "name": "stdout",
     "output_type": "stream",
     "text": [
      "\b\b\b\b\b\b\b\b\b\b\b\b\b\b\b\b\b\b\b\b\b\b\b\b\b\b\b\b\b\b\b\b\b\b\b\b\b\b\b\b\b\b\b\b\b\b\b\b\b\b\b\b\b\b\b\b\b\b\r 4432/12153 [=========>....................] - ETA: 19370s"
     ]
    },
    {
     "name": "stdout",
     "output_type": "stream",
     "text": [
      "\b\b\b\b\b\b\b\b\b\b\b\b\b\b\b\b\b\b\b\b\b\b\b\b\b\b\b\b\b\b\b\b\b\b\b\b\b\b\b\b\b\b\b\b\b\b\b\b\b\b\b\b\b\b\b\b\b\b\r 4448/12153 [=========>....................] - ETA: 19339s"
     ]
    },
    {
     "name": "stdout",
     "output_type": "stream",
     "text": [
      "\b\b\b\b\b\b\b\b\b\b\b\b\b\b\b\b\b\b\b\b\b\b\b\b\b\b\b\b\b\b\b\b\b\b\b\b\b\b\b\b\b\b\b\b\b\b\b\b\b\b\b\b\b\b\b\b\b\b\r 4464/12153 [==========>...................] - ETA: 19309s"
     ]
    },
    {
     "name": "stdout",
     "output_type": "stream",
     "text": [
      "\b\b\b\b\b\b\b\b\b\b\b\b\b\b\b\b\b\b\b\b\b\b\b\b\b\b\b\b\b\b\b\b\b\b\b\b\b\b\b\b\b\b\b\b\b\b\b\b\b\b\b\b\b\b\b\b\b\b\r 4480/12153 [==========>...................] - ETA: 19279s"
     ]
    },
    {
     "name": "stdout",
     "output_type": "stream",
     "text": [
      "\b\b\b\b\b\b\b\b\b\b\b\b\b\b\b\b\b\b\b\b\b\b\b\b\b\b\b\b\b\b\b\b\b\b\b\b\b\b\b\b\b\b\b\b\b\b\b\b\b\b\b\b\b\b\b\b\b\b\r 4496/12153 [==========>...................] - ETA: 19240s"
     ]
    },
    {
     "name": "stdout",
     "output_type": "stream",
     "text": [
      "\b\b\b\b\b\b\b\b\b\b\b\b\b\b\b\b\b\b\b\b\b\b\b\b\b\b\b\b\b\b\b\b\b\b\b\b\b\b\b\b\b\b\b\b\b\b\b\b\b\b\b\b\b\b\b\b\b\b\r 4512/12153 [==========>...................] - ETA: 19204s"
     ]
    },
    {
     "name": "stdout",
     "output_type": "stream",
     "text": [
      "\b\b\b\b\b\b\b\b\b\b\b\b\b\b\b\b\b\b\b\b\b\b\b\b\b\b\b\b\b\b\b\b\b\b\b\b\b\b\b\b\b\b\b\b\b\b\b\b\b\b\b\b\b\b\b\b\b\b\r 4528/12153 [==========>...................] - ETA: 19183s"
     ]
    },
    {
     "name": "stdout",
     "output_type": "stream",
     "text": [
      "\b\b\b\b\b\b\b\b\b\b\b\b\b\b\b\b\b\b\b\b\b\b\b\b\b\b\b\b\b\b\b\b\b\b\b\b\b\b\b\b\b\b\b\b\b\b\b\b\b\b\b\b\b\b\b\b\b\b\r 4544/12153 [==========>...................] - ETA: 19167s"
     ]
    },
    {
     "name": "stdout",
     "output_type": "stream",
     "text": [
      "\b\b\b\b\b\b\b\b\b\b\b\b\b\b\b\b\b\b\b\b\b\b\b\b\b\b\b\b\b\b\b\b\b\b\b\b\b\b\b\b\b\b\b\b\b\b\b\b\b\b\b\b\b\b\b\b\b\b\r 4560/12153 [==========>...................] - ETA: 19138s"
     ]
    },
    {
     "name": "stdout",
     "output_type": "stream",
     "text": [
      "\b\b\b\b\b\b\b\b\b\b\b\b\b\b\b\b\b\b\b\b\b\b\b\b\b\b\b\b\b\b\b\b\b\b\b\b\b\b\b\b\b\b\b\b\b\b\b\b\b\b\b\b\b\b\b\b\b\b\r 4576/12153 [==========>...................] - ETA: 19106s"
     ]
    },
    {
     "name": "stdout",
     "output_type": "stream",
     "text": [
      "\b\b\b\b\b\b\b\b\b\b\b\b\b\b\b\b\b\b\b\b\b\b\b\b\b\b\b\b\b\b\b\b\b\b\b\b\b\b\b\b\b\b\b\b\b\b\b\b\b\b\b\b\b\b\b\b\b\b\r 4592/12153 [==========>...................] - ETA: 19070s"
     ]
    },
    {
     "name": "stdout",
     "output_type": "stream",
     "text": [
      "\b\b\b\b\b\b\b\b\b\b\b\b\b\b\b\b\b\b\b\b\b\b\b\b\b\b\b\b\b\b\b\b\b\b\b\b\b\b\b\b\b\b\b\b\b\b\b\b\b\b\b\b\b\b\b\b\b\b\r 4608/12153 [==========>...................] - ETA: 19033s"
     ]
    },
    {
     "name": "stdout",
     "output_type": "stream",
     "text": [
      "\b\b\b\b\b\b\b\b\b\b\b\b\b\b\b\b\b\b\b\b\b\b\b\b\b\b\b\b\b\b\b\b\b\b\b\b\b\b\b\b\b\b\b\b\b\b\b\b\b\b\b\b\b\b\b\b\b\b\r 4624/12153 [==========>...................] - ETA: 19008s"
     ]
    },
    {
     "name": "stdout",
     "output_type": "stream",
     "text": [
      "\b\b\b\b\b\b\b\b\b\b\b\b\b\b\b\b\b\b\b\b\b\b\b\b\b\b\b\b\b\b\b\b\b\b\b\b\b\b\b\b\b\b\b\b\b\b\b\b\b\b\b\b\b\b\b\b\b\b\r 4640/12153 [==========>...................] - ETA: 18985s"
     ]
    },
    {
     "name": "stdout",
     "output_type": "stream",
     "text": [
      "\b\b\b\b\b\b\b\b\b\b\b\b\b\b\b\b\b\b\b\b\b\b\b\b\b\b\b\b\b\b\b\b\b\b\b\b\b\b\b\b\b\b\b\b\b\b\b\b\b\b\b\b\b\b\b\b\b\b\r 4656/12153 [==========>...................] - ETA: 18959s"
     ]
    },
    {
     "name": "stdout",
     "output_type": "stream",
     "text": [
      "\b\b\b\b\b\b\b\b\b\b\b\b\b\b\b\b\b\b\b\b\b\b\b\b\b\b\b\b\b\b\b\b\b\b\b\b\b\b\b\b\b\b\b\b\b\b\b\b\b\b\b\b\b\b\b\b\b\b\r 4672/12153 [==========>...................] - ETA: 18933s"
     ]
    },
    {
     "name": "stdout",
     "output_type": "stream",
     "text": [
      "\b\b\b\b\b\b\b\b\b\b\b\b\b\b\b\b\b\b\b\b\b\b\b\b\b\b\b\b\b\b\b\b\b\b\b\b\b\b\b\b\b\b\b\b\b\b\b\b\b\b\b\b\b\b\b\b\b\b\r 4688/12153 [==========>...................] - ETA: 18913s"
     ]
    },
    {
     "name": "stdout",
     "output_type": "stream",
     "text": [
      "\b\b\b\b\b\b\b\b\b\b\b\b\b\b\b\b\b\b\b\b\b\b\b\b\b\b\b\b\b\b\b\b\b\b\b\b\b\b\b\b\b\b\b\b\b\b\b\b\b\b\b\b\b\b\b\b\b\b\r 4704/12153 [==========>...................] - ETA: 18874s"
     ]
    },
    {
     "name": "stdout",
     "output_type": "stream",
     "text": [
      "\b\b\b\b\b\b\b\b\b\b\b\b\b\b\b\b\b\b\b\b\b\b\b\b\b\b\b\b\b\b\b\b\b\b\b\b\b\b\b\b\b\b\b\b\b\b\b\b\b\b\b\b\b\b\b\b\b\b\r 4720/12153 [==========>...................] - ETA: 18834s"
     ]
    },
    {
     "name": "stdout",
     "output_type": "stream",
     "text": [
      "\b\b\b\b\b\b\b\b\b\b\b\b\b\b\b\b\b\b\b\b\b\b\b\b\b\b\b\b\b\b\b\b\b\b\b\b\b\b\b\b\b\b\b\b\b\b\b\b\b\b\b\b\b\b\b\b\b\b\r 4736/12153 [==========>...................] - ETA: 18794s"
     ]
    },
    {
     "name": "stdout",
     "output_type": "stream",
     "text": [
      "\b\b\b\b\b\b\b\b\b\b\b\b\b\b\b\b\b\b\b\b\b\b\b\b\b\b\b\b\b\b\b\b\b\b\b\b\b\b\b\b\b\b\b\b\b\b\b\b\b\b\b\b\b\b\b\b\b\b\r 4752/12153 [==========>...................] - ETA: 18755s"
     ]
    },
    {
     "name": "stdout",
     "output_type": "stream",
     "text": [
      "\b\b\b\b\b\b\b\b\b\b\b\b\b\b\b\b\b\b\b\b\b\b\b\b\b\b\b\b\b\b\b\b\b\b\b\b\b\b\b\b\b\b\b\b\b\b\b\b\b\b\b\b\b\b\b\b\b\b\r 4768/12153 [==========>...................] - ETA: 18722s"
     ]
    },
    {
     "name": "stdout",
     "output_type": "stream",
     "text": [
      "\b\b\b\b\b\b\b\b\b\b\b\b\b\b\b\b\b\b\b\b\b\b\b\b\b\b\b\b\b\b\b\b\b\b\b\b\b\b\b\b\b\b\b\b\b\b\b\b\b\b\b\b\b\b\b\b\b\b\r 4784/12153 [==========>...................] - ETA: 18691s"
     ]
    },
    {
     "name": "stdout",
     "output_type": "stream",
     "text": [
      "\b\b\b\b\b\b\b\b\b\b\b\b\b\b\b\b\b\b\b\b\b\b\b\b\b\b\b\b\b\b\b\b\b\b\b\b\b\b\b\b\b\b\b\b\b\b\b\b\b\b\b\b\b\b\b\b\b\b\r 4800/12153 [==========>...................] - ETA: 18654s"
     ]
    },
    {
     "name": "stdout",
     "output_type": "stream",
     "text": [
      "\b\b\b\b\b\b\b\b\b\b\b\b\b\b\b\b\b\b\b\b\b\b\b\b\b\b\b\b\b\b\b\b\b\b\b\b\b\b\b\b\b\b\b\b\b\b\b\b\b\b\b\b\b\b\b\b\b\b\r 4816/12153 [==========>...................] - ETA: 18617s"
     ]
    },
    {
     "name": "stdout",
     "output_type": "stream",
     "text": [
      "\b\b\b\b\b\b\b\b\b\b\b\b\b\b\b\b\b\b\b\b\b\b\b\b\b\b\b\b\b\b\b\b\b\b\b\b\b\b\b\b\b\b\b\b\b\b\b\b\b\b\b\b\b\b\b\b\b\b\r 4832/12153 [==========>...................] - ETA: 18579s"
     ]
    },
    {
     "name": "stdout",
     "output_type": "stream",
     "text": [
      "\b\b\b\b\b\b\b\b\b\b\b\b\b\b\b\b\b\b\b\b\b\b\b\b\b\b\b\b\b\b\b\b\b\b\b\b\b\b\b\b\b\b\b\b\b\b\b\b\b\b\b\b\b\b\b\b\b\b\r 4848/12153 [==========>...................] - ETA: 18543s"
     ]
    },
    {
     "name": "stdout",
     "output_type": "stream",
     "text": [
      "\b\b\b\b\b\b\b\b\b\b\b\b\b\b\b\b\b\b\b\b\b\b\b\b\b\b\b\b\b\b\b\b\b\b\b\b\b\b\b\b\b\b\b\b\b\b\b\b\b\b\b\b\b\b\b\b\b\b\r 4864/12153 [===========>..................] - ETA: 18505s"
     ]
    },
    {
     "name": "stdout",
     "output_type": "stream",
     "text": [
      "\b\b\b\b\b\b\b\b\b\b\b\b\b\b\b\b\b\b\b\b\b\b\b\b\b\b\b\b\b\b\b\b\b\b\b\b\b\b\b\b\b\b\b\b\b\b\b\b\b\b\b\b\b\b\b\b\b\b\r 4880/12153 [===========>..................] - ETA: 18468s"
     ]
    },
    {
     "name": "stdout",
     "output_type": "stream",
     "text": [
      "\b\b\b\b\b\b\b\b\b\b\b\b\b\b\b\b\b\b\b\b\b\b\b\b\b\b\b\b\b\b\b\b\b\b\b\b\b\b\b\b\b\b\b\b\b\b\b\b\b\b\b\b\b\b\b\b\b\b\r 4896/12153 [===========>..................] - ETA: 18430s"
     ]
    },
    {
     "name": "stdout",
     "output_type": "stream",
     "text": [
      "\b\b\b\b\b\b\b\b\b\b\b\b\b\b\b\b\b\b\b\b\b\b\b\b\b\b\b\b\b\b\b\b\b\b\b\b\b\b\b\b\b\b\b\b\b\b\b\b\b\b\b\b\b\b\b\b\b\b\r 4912/12153 [===========>..................] - ETA: 18393s"
     ]
    },
    {
     "name": "stdout",
     "output_type": "stream",
     "text": [
      "\b\b\b\b\b\b\b\b\b\b\b\b\b\b\b\b\b\b\b\b\b\b\b\b\b\b\b\b\b\b\b\b\b\b\b\b\b\b\b\b\b\b\b\b\b\b\b\b\b\b\b\b\b\b\b\b\b\b\r 4928/12153 [===========>..................] - ETA: 18357s"
     ]
    },
    {
     "name": "stdout",
     "output_type": "stream",
     "text": [
      "\b\b\b\b\b\b\b\b\b\b\b\b\b\b\b\b\b\b\b\b\b\b\b\b\b\b\b\b\b\b\b\b\b\b\b\b\b\b\b\b\b\b\b\b\b\b\b\b\b\b\b\b\b\b\b\b\b\b\r 4944/12153 [===========>..................] - ETA: 18319s"
     ]
    },
    {
     "name": "stdout",
     "output_type": "stream",
     "text": [
      "\b\b\b\b\b\b\b\b\b\b\b\b\b\b\b\b\b\b\b\b\b\b\b\b\b\b\b\b\b\b\b\b\b\b\b\b\b\b\b\b\b\b\b\b\b\b\b\b\b\b\b\b\b\b\b\b\b\b\r 4960/12153 [===========>..................] - ETA: 18285s"
     ]
    },
    {
     "name": "stdout",
     "output_type": "stream",
     "text": [
      "\b\b\b\b\b\b\b\b\b\b\b\b\b\b\b\b\b\b\b\b\b\b\b\b\b\b\b\b\b\b\b\b\b\b\b\b\b\b\b\b\b\b\b\b\b\b\b\b\b\b\b\b\b\b\b\b\b\b\r 4976/12153 [===========>..................] - ETA: 18247s"
     ]
    },
    {
     "name": "stdout",
     "output_type": "stream",
     "text": [
      "\b\b\b\b\b\b\b\b\b\b\b\b\b\b\b\b\b\b\b\b\b\b\b\b\b\b\b\b\b\b\b\b\b\b\b\b\b\b\b\b\b\b\b\b\b\b\b\b\b\b\b\b\b\b\b\b\b\b\r 4992/12153 [===========>..................] - ETA: 18221s"
     ]
    },
    {
     "name": "stdout",
     "output_type": "stream",
     "text": [
      "\b\b\b\b\b\b\b\b\b\b\b\b\b\b\b\b\b\b\b\b\b\b\b\b\b\b\b\b\b\b\b\b\b\b\b\b\b\b\b\b\b\b\b\b\b\b\b\b\b\b\b\b\b\b\b\b\b\b\r 5008/12153 [===========>..................] - ETA: 18193s"
     ]
    },
    {
     "name": "stdout",
     "output_type": "stream",
     "text": [
      "\b\b\b\b\b\b\b\b\b\b\b\b\b\b\b\b\b\b\b\b\b\b\b\b\b\b\b\b\b\b\b\b\b\b\b\b\b\b\b\b\b\b\b\b\b\b\b\b\b\b\b\b\b\b\b\b\b\b\r 5024/12153 [===========>..................] - ETA: 18171s"
     ]
    },
    {
     "name": "stdout",
     "output_type": "stream",
     "text": [
      "\b\b\b\b\b\b\b\b\b\b\b\b\b\b\b\b\b\b\b\b\b\b\b\b\b\b\b\b\b\b\b\b\b\b\b\b\b\b\b\b\b\b\b\b\b\b\b\b\b\b\b\b\b\b\b\b\b\b\r 5040/12153 [===========>..................] - ETA: 18146s"
     ]
    },
    {
     "name": "stdout",
     "output_type": "stream",
     "text": [
      "\b\b\b\b\b\b\b\b\b\b\b\b\b\b\b\b\b\b\b\b\b\b\b\b\b\b\b\b\b\b\b\b\b\b\b\b\b\b\b\b\b\b\b\b\b\b\b\b\b\b\b\b\b\b\b\b\b\b\r 5056/12153 [===========>..................] - ETA: 18122s"
     ]
    },
    {
     "name": "stdout",
     "output_type": "stream",
     "text": [
      "\b\b\b\b\b\b\b\b\b\b\b\b\b\b\b\b\b\b\b\b\b\b\b\b\b\b\b\b\b\b\b\b\b\b\b\b\b\b\b\b\b\b\b\b\b\b\b\b\b\b\b\b\b\b\b\b\b\b\r 5072/12153 [===========>..................] - ETA: 18088s"
     ]
    },
    {
     "name": "stdout",
     "output_type": "stream",
     "text": [
      "\b\b\b\b\b\b\b\b\b\b\b\b\b\b\b\b\b\b\b\b\b\b\b\b\b\b\b\b\b\b\b\b\b\b\b\b\b\b\b\b\b\b\b\b\b\b\b\b\b\b\b\b\b\b\b\b\b\b\r 5088/12153 [===========>..................] - ETA: 18058s"
     ]
    },
    {
     "name": "stdout",
     "output_type": "stream",
     "text": [
      "\b\b\b\b\b\b\b\b\b\b\b\b\b\b\b\b\b\b\b\b\b\b\b\b\b\b\b\b\b\b\b\b\b\b\b\b\b\b\b\b\b\b\b\b\b\b\b\b\b\b\b\b\b\b\b\b\b\b\r 5104/12153 [===========>..................] - ETA: 18018s"
     ]
    },
    {
     "name": "stdout",
     "output_type": "stream",
     "text": [
      "\b\b\b\b\b\b\b\b\b\b\b\b\b\b\b\b\b\b\b\b\b\b\b\b\b\b\b\b\b\b\b\b\b\b\b\b\b\b\b\b\b\b\b\b\b\b\b\b\b\b\b\b\b\b\b\b\b\b\r 5120/12153 [===========>..................] - ETA: 17982s"
     ]
    },
    {
     "name": "stdout",
     "output_type": "stream",
     "text": [
      "\b\b\b\b\b\b\b\b\b\b\b\b\b\b\b\b\b\b\b\b\b\b\b\b\b\b\b\b\b\b\b\b\b\b\b\b\b\b\b\b\b\b\b\b\b\b\b\b\b\b\b\b\b\b\b\b\b\b\r 5136/12153 [===========>..................] - ETA: 17944s"
     ]
    },
    {
     "name": "stdout",
     "output_type": "stream",
     "text": [
      "\b\b\b\b\b\b\b\b\b\b\b\b\b\b\b\b\b\b\b\b\b\b\b\b\b\b\b\b\b\b\b\b\b\b\b\b\b\b\b\b\b\b\b\b\b\b\b\b\b\b\b\b\b\b\b\b\b\b\r 5152/12153 [===========>..................] - ETA: 17916s"
     ]
    },
    {
     "name": "stdout",
     "output_type": "stream",
     "text": [
      "\b\b\b\b\b\b\b\b\b\b\b\b\b\b\b\b\b\b\b\b\b\b\b\b\b\b\b\b\b\b\b\b\b\b\b\b\b\b\b\b\b\b\b\b\b\b\b\b\b\b\b\b\b\b\b\b\b\b\r 5168/12153 [===========>..................] - ETA: 17899s"
     ]
    },
    {
     "name": "stdout",
     "output_type": "stream",
     "text": [
      "\b\b\b\b\b\b\b\b\b\b\b\b\b\b\b\b\b\b\b\b\b\b\b\b\b\b\b\b\b\b\b\b\b\b\b\b\b\b\b\b\b\b\b\b\b\b\b\b\b\b\b\b\b\b\b\b\b\b\r 5184/12153 [===========>..................] - ETA: 17879s"
     ]
    },
    {
     "name": "stdout",
     "output_type": "stream",
     "text": [
      "\b\b\b\b\b\b\b\b\b\b\b\b\b\b\b\b\b\b\b\b\b\b\b\b\b\b\b\b\b\b\b\b\b\b\b\b\b\b\b\b\b\b\b\b\b\b\b\b\b\b\b\b\b\b\b\b\b\b\r 5200/12153 [===========>..................] - ETA: 17860s"
     ]
    },
    {
     "name": "stdout",
     "output_type": "stream",
     "text": [
      "\b\b\b\b\b\b\b\b\b\b\b\b\b\b\b\b\b\b\b\b\b\b\b\b\b\b\b\b\b\b\b\b\b\b\b\b\b\b\b\b\b\b\b\b\b\b\b\b\b\b\b\b\b\b\b\b\b\b\r 5216/12153 [===========>..................] - ETA: 17841s"
     ]
    },
    {
     "name": "stdout",
     "output_type": "stream",
     "text": [
      "\b\b\b\b\b\b\b\b\b\b\b\b\b\b\b\b\b\b\b\b\b\b\b\b\b\b\b\b\b\b\b\b\b\b\b\b\b\b\b\b\b\b\b\b\b\b\b\b\b\b\b\b\b\b\b\b\b\b\r 5232/12153 [===========>..................] - ETA: 17811s"
     ]
    },
    {
     "name": "stdout",
     "output_type": "stream",
     "text": [
      "\b\b\b\b\b\b\b\b\b\b\b\b\b\b\b\b\b\b\b\b\b\b\b\b\b\b\b\b\b\b\b\b\b\b\b\b\b\b\b\b\b\b\b\b\b\b\b\b\b\b\b\b\b\b\b\b\b\b\r 5248/12153 [===========>..................] - ETA: 17789s"
     ]
    },
    {
     "name": "stdout",
     "output_type": "stream",
     "text": [
      "\b\b\b\b\b\b\b\b\b\b\b\b\b\b\b\b\b\b\b\b\b\b\b\b\b\b\b\b\b\b\b\b\b\b\b\b\b\b\b\b\b\b\b\b\b\b\b\b\b\b\b\b\b\b\b\b\b\b\r 5264/12153 [===========>..................] - ETA: 17753s"
     ]
    },
    {
     "name": "stdout",
     "output_type": "stream",
     "text": [
      "\b\b\b\b\b\b\b\b\b\b\b\b\b\b\b\b\b\b\b\b\b\b\b\b\b\b\b\b\b\b\b\b\b\b\b\b\b\b\b\b\b\b\b\b\b\b\b\b\b\b\b\b\b\b\b\b\b\b\r 5280/12153 [============>.................] - ETA: 17712s"
     ]
    },
    {
     "name": "stdout",
     "output_type": "stream",
     "text": [
      "\b\b\b\b\b\b\b\b\b\b\b\b\b\b\b\b\b\b\b\b\b\b\b\b\b\b\b\b\b\b\b\b\b\b\b\b\b\b\b\b\b\b\b\b\b\b\b\b\b\b\b\b\b\b\b\b\b\b\r 5296/12153 [============>.................] - ETA: 17683s"
     ]
    },
    {
     "name": "stdout",
     "output_type": "stream",
     "text": [
      "\b\b\b\b\b\b\b\b\b\b\b\b\b\b\b\b\b\b\b\b\b\b\b\b\b\b\b\b\b\b\b\b\b\b\b\b\b\b\b\b\b\b\b\b\b\b\b\b\b\b\b\b\b\b\b\b\b\b\r 5312/12153 [============>.................] - ETA: 17658s"
     ]
    },
    {
     "name": "stdout",
     "output_type": "stream",
     "text": [
      "\b\b\b\b\b\b\b\b\b\b\b\b\b\b\b\b\b\b\b\b\b\b\b\b\b\b\b\b\b\b\b\b\b\b\b\b\b\b\b\b\b\b\b\b\b\b\b\b\b\b\b\b\b\b\b\b\b\b\r 5328/12153 [============>.................] - ETA: 17624s"
     ]
    },
    {
     "name": "stdout",
     "output_type": "stream",
     "text": [
      "\b\b\b\b\b\b\b\b\b\b\b\b\b\b\b\b\b\b\b\b\b\b\b\b\b\b\b\b\b\b\b\b\b\b\b\b\b\b\b\b\b\b\b\b\b\b\b\b\b\b\b\b\b\b\b\b\b\b\r 5344/12153 [============>.................] - ETA: 17584s"
     ]
    },
    {
     "name": "stdout",
     "output_type": "stream",
     "text": [
      "\b\b\b\b\b\b\b\b\b\b\b\b\b\b\b\b\b\b\b\b\b\b\b\b\b\b\b\b\b\b\b\b\b\b\b\b\b\b\b\b\b\b\b\b\b\b\b\b\b\b\b\b\b\b\b\b\b\b\r 5360/12153 [============>.................] - ETA: 17542s"
     ]
    },
    {
     "name": "stdout",
     "output_type": "stream",
     "text": [
      "\b\b\b\b\b\b\b\b\b\b\b\b\b\b\b\b\b\b\b\b\b\b\b\b\b\b\b\b\b\b\b\b\b\b\b\b\b\b\b\b\b\b\b\b\b\b\b\b\b\b\b\b\b\b\b\b\b\b\r 5376/12153 [============>.................] - ETA: 17502s"
     ]
    },
    {
     "name": "stdout",
     "output_type": "stream",
     "text": [
      "\b\b\b\b\b\b\b\b\b\b\b\b\b\b\b\b\b\b\b\b\b\b\b\b\b\b\b\b\b\b\b\b\b\b\b\b\b\b\b\b\b\b\b\b\b\b\b\b\b\b\b\b\b\b\b\b\b\b\r 5392/12153 [============>.................] - ETA: 17460s"
     ]
    },
    {
     "name": "stdout",
     "output_type": "stream",
     "text": [
      "\b\b\b\b\b\b\b\b\b\b\b\b\b\b\b\b\b\b\b\b\b\b\b\b\b\b\b\b\b\b\b\b\b\b\b\b\b\b\b\b\b\b\b\b\b\b\b\b\b\b\b\b\b\b\b\b\b\b\r 5408/12153 [============>.................] - ETA: 17419s"
     ]
    },
    {
     "name": "stdout",
     "output_type": "stream",
     "text": [
      "\b\b\b\b\b\b\b\b\b\b\b\b\b\b\b\b\b\b\b\b\b\b\b\b\b\b\b\b\b\b\b\b\b\b\b\b\b\b\b\b\b\b\b\b\b\b\b\b\b\b\b\b\b\b\b\b\b\b\r 5424/12153 [============>.................] - ETA: 17377s"
     ]
    },
    {
     "name": "stdout",
     "output_type": "stream",
     "text": [
      "\b\b\b\b\b\b\b\b\b\b\b\b\b\b\b\b\b\b\b\b\b\b\b\b\b\b\b\b\b\b\b\b\b\b\b\b\b\b\b\b\b\b\b\b\b\b\b\b\b\b\b\b\b\b\b\b\b\b\r 5440/12153 [============>.................] - ETA: 17336s"
     ]
    },
    {
     "name": "stdout",
     "output_type": "stream",
     "text": [
      "\b\b\b\b\b\b\b\b\b\b\b\b\b\b\b\b\b\b\b\b\b\b\b\b\b\b\b\b\b\b\b\b\b\b\b\b\b\b\b\b\b\b\b\b\b\b\b\b\b\b\b\b\b\b\b\b\b\b\r 5456/12153 [============>.................] - ETA: 17293s"
     ]
    },
    {
     "name": "stdout",
     "output_type": "stream",
     "text": [
      "\b\b\b\b\b\b\b\b\b\b\b\b\b\b\b\b\b\b\b\b\b\b\b\b\b\b\b\b\b\b\b\b\b\b\b\b\b\b\b\b\b\b\b\b\b\b\b\b\b\b\b\b\b\b\b\b\b\b\r 5472/12153 [============>.................] - ETA: 17252s"
     ]
    },
    {
     "name": "stdout",
     "output_type": "stream",
     "text": [
      "\b\b\b\b\b\b\b\b\b\b\b\b\b\b\b\b\b\b\b\b\b\b\b\b\b\b\b\b\b\b\b\b\b\b\b\b\b\b\b\b\b\b\b\b\b\b\b\b\b\b\b\b\b\b\b\b\b\b\r 5488/12153 [============>.................] - ETA: 17212s"
     ]
    },
    {
     "name": "stdout",
     "output_type": "stream",
     "text": [
      "\b\b\b\b\b\b\b\b\b\b\b\b\b\b\b\b\b\b\b\b\b\b\b\b\b\b\b\b\b\b\b\b\b\b\b\b\b\b\b\b\b\b\b\b\b\b\b\b\b\b\b\b\b\b\b\b\b\b\r 5504/12153 [============>.................] - ETA: 17171s"
     ]
    },
    {
     "name": "stdout",
     "output_type": "stream",
     "text": [
      "\b\b\b\b\b\b\b\b\b\b\b\b\b\b\b\b\b\b\b\b\b\b\b\b\b\b\b\b\b\b\b\b\b\b\b\b\b\b\b\b\b\b\b\b\b\b\b\b\b\b\b\b\b\b\b\b\b\b\r 5520/12153 [============>.................] - ETA: 17129s"
     ]
    },
    {
     "name": "stdout",
     "output_type": "stream",
     "text": [
      "\b\b\b\b\b\b\b\b\b\b\b\b\b\b\b\b\b\b\b\b\b\b\b\b\b\b\b\b\b\b\b\b\b\b\b\b\b\b\b\b\b\b\b\b\b\b\b\b\b\b\b\b\b\b\b\b\b\b\r 5536/12153 [============>.................] - ETA: 17088s"
     ]
    },
    {
     "name": "stdout",
     "output_type": "stream",
     "text": [
      "\b\b\b\b\b\b\b\b\b\b\b\b\b\b\b\b\b\b\b\b\b\b\b\b\b\b\b\b\b\b\b\b\b\b\b\b\b\b\b\b\b\b\b\b\b\b\b\b\b\b\b\b\b\b\b\b\b\b\r 5552/12153 [============>.................] - ETA: 17047s"
     ]
    },
    {
     "name": "stdout",
     "output_type": "stream",
     "text": [
      "\b\b\b\b\b\b\b\b\b\b\b\b\b\b\b\b\b\b\b\b\b\b\b\b\b\b\b\b\b\b\b\b\b\b\b\b\b\b\b\b\b\b\b\b\b\b\b\b\b\b\b\b\b\b\b\b\b\b\r 5568/12153 [============>.................] - ETA: 17006s"
     ]
    },
    {
     "name": "stdout",
     "output_type": "stream",
     "text": [
      "\b\b\b\b\b\b\b\b\b\b\b\b\b\b\b\b\b\b\b\b\b\b\b\b\b\b\b\b\b\b\b\b\b\b\b\b\b\b\b\b\b\b\b\b\b\b\b\b\b\b\b\b\b\b\b\b\b\b\r 5584/12153 [============>.................] - ETA: 16966s"
     ]
    },
    {
     "name": "stdout",
     "output_type": "stream",
     "text": [
      "\b\b\b\b\b\b\b\b\b\b\b\b\b\b\b\b\b\b\b\b\b\b\b\b\b\b\b\b\b\b\b\b\b\b\b\b\b\b\b\b\b\b\b\b\b\b\b\b\b\b\b\b\b\b\b\b\b\b\r 5600/12153 [============>.................] - ETA: 16927s"
     ]
    },
    {
     "name": "stdout",
     "output_type": "stream",
     "text": [
      "\b\b\b\b\b\b\b\b\b\b\b\b\b\b\b\b\b\b\b\b\b\b\b\b\b\b\b\b\b\b\b\b\b\b\b\b\b\b\b\b\b\b\b\b\b\b\b\b\b\b\b\b\b\b\b\b\b\b\r 5616/12153 [============>.................] - ETA: 16884s"
     ]
    },
    {
     "name": "stdout",
     "output_type": "stream",
     "text": [
      "\b\b\b\b\b\b\b\b\b\b\b\b\b\b\b\b\b\b\b\b\b\b\b\b\b\b\b\b\b\b\b\b\b\b\b\b\b\b\b\b\b\b\b\b\b\b\b\b\b\b\b\b\b\b\b\b\b\b\r 5632/12153 [============>.................] - ETA: 16840s"
     ]
    },
    {
     "name": "stdout",
     "output_type": "stream",
     "text": [
      "\b\b\b\b\b\b\b\b\b\b\b\b\b\b\b\b\b\b\b\b\b\b\b\b\b\b\b\b\b\b\b\b\b\b\b\b\b\b\b\b\b\b\b\b\b\b\b\b\b\b\b\b\b\b\b\b\b\b\r 5648/12153 [============>.................] - ETA: 16797s"
     ]
    },
    {
     "name": "stdout",
     "output_type": "stream",
     "text": [
      "\b\b\b\b\b\b\b\b\b\b\b\b\b\b\b\b\b\b\b\b\b\b\b\b\b\b\b\b\b\b\b\b\b\b\b\b\b\b\b\b\b\b\b\b\b\b\b\b\b\b\b\b\b\b\b\b\b\b\r 5664/12153 [============>.................] - ETA: 16754s"
     ]
    },
    {
     "name": "stdout",
     "output_type": "stream",
     "text": [
      "\b\b\b\b\b\b\b\b\b\b\b\b\b\b\b\b\b\b\b\b\b\b\b\b\b\b\b\b\b\b\b\b\b\b\b\b\b\b\b\b\b\b\b\b\b\b\b\b\b\b\b\b\b\b\b\b\b\b\r 5680/12153 [=============>................] - ETA: 16710s"
     ]
    },
    {
     "name": "stdout",
     "output_type": "stream",
     "text": [
      "\b\b\b\b\b\b\b\b\b\b\b\b\b\b\b\b\b\b\b\b\b\b\b\b\b\b\b\b\b\b\b\b\b\b\b\b\b\b\b\b\b\b\b\b\b\b\b\b\b\b\b\b\b\b\b\b\b\b\r 5696/12153 [=============>................] - ETA: 16667s"
     ]
    },
    {
     "name": "stdout",
     "output_type": "stream",
     "text": [
      "\b\b\b\b\b\b\b\b\b\b\b\b\b\b\b\b\b\b\b\b\b\b\b\b\b\b\b\b\b\b\b\b\b\b\b\b\b\b\b\b\b\b\b\b\b\b\b\b\b\b\b\b\b\b\b\b\b\b\r 5712/12153 [=============>................] - ETA: 16624s"
     ]
    },
    {
     "name": "stdout",
     "output_type": "stream",
     "text": [
      "\b\b\b\b\b\b\b\b\b\b\b\b\b\b\b\b\b\b\b\b\b\b\b\b\b\b\b\b\b\b\b\b\b\b\b\b\b\b\b\b\b\b\b\b\b\b\b\b\b\b\b\b\b\b\b\b\b\b\r 5728/12153 [=============>................] - ETA: 16582s"
     ]
    },
    {
     "name": "stdout",
     "output_type": "stream",
     "text": [
      "\b\b\b\b\b\b\b\b\b\b\b\b\b\b\b\b\b\b\b\b\b\b\b\b\b\b\b\b\b\b\b\b\b\b\b\b\b\b\b\b\b\b\b\b\b\b\b\b\b\b\b\b\b\b\b\b\b\b\r 5744/12153 [=============>................] - ETA: 16539s"
     ]
    },
    {
     "name": "stdout",
     "output_type": "stream",
     "text": [
      "\b\b\b\b\b\b\b\b\b\b\b\b\b\b\b\b\b\b\b\b\b\b\b\b\b\b\b\b\b\b\b\b\b\b\b\b\b\b\b\b\b\b\b\b\b\b\b\b\b\b\b\b\b\b\b\b\b\b\r 5760/12153 [=============>................] - ETA: 16496s"
     ]
    },
    {
     "name": "stdout",
     "output_type": "stream",
     "text": [
      "\b\b\b\b\b\b\b\b\b\b\b\b\b\b\b\b\b\b\b\b\b\b\b\b\b\b\b\b\b\b\b\b\b\b\b\b\b\b\b\b\b\b\b\b\b\b\b\b\b\b\b\b\b\b\b\b\b\b\r 5776/12153 [=============>................] - ETA: 16454s"
     ]
    },
    {
     "name": "stdout",
     "output_type": "stream",
     "text": [
      "\b\b\b\b\b\b\b\b\b\b\b\b\b\b\b\b\b\b\b\b\b\b\b\b\b\b\b\b\b\b\b\b\b\b\b\b\b\b\b\b\b\b\b\b\b\b\b\b\b\b\b\b\b\b\b\b\b\b\r 5792/12153 [=============>................] - ETA: 16411s"
     ]
    },
    {
     "name": "stdout",
     "output_type": "stream",
     "text": [
      "\b\b\b\b\b\b\b\b\b\b\b\b\b\b\b\b\b\b\b\b\b\b\b\b\b\b\b\b\b\b\b\b\b\b\b\b\b\b\b\b\b\b\b\b\b\b\b\b\b\b\b\b\b\b\b\b\b\b\r 5808/12153 [=============>................] - ETA: 16368s"
     ]
    },
    {
     "name": "stdout",
     "output_type": "stream",
     "text": [
      "\b\b\b\b\b\b\b\b\b\b\b\b\b\b\b\b\b\b\b\b\b\b\b\b\b\b\b\b\b\b\b\b\b\b\b\b\b\b\b\b\b\b\b\b\b\b\b\b\b\b\b\b\b\b\b\b\b\b\r 5824/12153 [=============>................] - ETA: 16326s"
     ]
    },
    {
     "name": "stdout",
     "output_type": "stream",
     "text": [
      "\b\b\b\b\b\b\b\b\b\b\b\b\b\b\b\b\b\b\b\b\b\b\b\b\b\b\b\b\b\b\b\b\b\b\b\b\b\b\b\b\b\b\b\b\b\b\b\b\b\b\b\b\b\b\b\b\b\b\r 5840/12153 [=============>................] - ETA: 16284s"
     ]
    },
    {
     "name": "stdout",
     "output_type": "stream",
     "text": [
      "\b\b\b\b\b\b\b\b\b\b\b\b\b\b\b\b\b\b\b\b\b\b\b\b\b\b\b\b\b\b\b\b\b\b\b\b\b\b\b\b\b\b\b\b\b\b\b\b\b\b\b\b\b\b\b\b\b\b\r 5856/12153 [=============>................] - ETA: 16241s"
     ]
    },
    {
     "name": "stdout",
     "output_type": "stream",
     "text": [
      "\b\b\b\b\b\b\b\b\b\b\b\b\b\b\b\b\b\b\b\b\b\b\b\b\b\b\b\b\b\b\b\b\b\b\b\b\b\b\b\b\b\b\b\b\b\b\b\b\b\b\b\b\b\b\b\b\b\b\r 5872/12153 [=============>................] - ETA: 16199s"
     ]
    },
    {
     "name": "stdout",
     "output_type": "stream",
     "text": [
      "\b\b\b\b\b\b\b\b\b\b\b\b\b\b\b\b\b\b\b\b\b\b\b\b\b\b\b\b\b\b\b\b\b\b\b\b\b\b\b\b\b\b\b\b\b\b\b\b\b\b\b\b\b\b\b\b\b\b\r 5888/12153 [=============>................] - ETA: 16156s"
     ]
    },
    {
     "name": "stdout",
     "output_type": "stream",
     "text": [
      "\b\b\b\b\b\b\b\b\b\b\b\b\b\b\b\b\b\b\b\b\b\b\b\b\b\b\b\b\b\b\b\b\b\b\b\b\b\b\b\b\b\b\b\b\b\b\b\b\b\b\b\b\b\b\b\b\b\b\r 5904/12153 [=============>................] - ETA: 16114s"
     ]
    },
    {
     "name": "stdout",
     "output_type": "stream",
     "text": [
      "\b\b\b\b\b\b\b\b\b\b\b\b\b\b\b\b\b\b\b\b\b\b\b\b\b\b\b\b\b\b\b\b\b\b\b\b\b\b\b\b\b\b\b\b\b\b\b\b\b\b\b\b\b\b\b\b\b\b\r 5920/12153 [=============>................] - ETA: 16071s"
     ]
    },
    {
     "name": "stdout",
     "output_type": "stream",
     "text": [
      "\b\b\b\b\b\b\b\b\b\b\b\b\b\b\b\b\b\b\b\b\b\b\b\b\b\b\b\b\b\b\b\b\b\b\b\b\b\b\b\b\b\b\b\b\b\b\b\b\b\b\b\b\b\b\b\b\b\b\r 5936/12153 [=============>................] - ETA: 16030s"
     ]
    },
    {
     "name": "stdout",
     "output_type": "stream",
     "text": [
      "\b\b\b\b\b\b\b\b\b\b\b\b\b\b\b\b\b\b\b\b\b\b\b\b\b\b\b\b\b\b\b\b\b\b\b\b\b\b\b\b\b\b\b\b\b\b\b\b\b\b\b\b\b\b\b\b\b\b\r 5952/12153 [=============>................] - ETA: 15986s"
     ]
    },
    {
     "name": "stdout",
     "output_type": "stream",
     "text": [
      "\b\b\b\b\b\b\b\b\b\b\b\b\b\b\b\b\b\b\b\b\b\b\b\b\b\b\b\b\b\b\b\b\b\b\b\b\b\b\b\b\b\b\b\b\b\b\b\b\b\b\b\b\b\b\b\b\b\b\r 5968/12153 [=============>................] - ETA: 15944s"
     ]
    },
    {
     "name": "stdout",
     "output_type": "stream",
     "text": [
      "\b\b\b\b\b\b\b\b\b\b\b\b\b\b\b\b\b\b\b\b\b\b\b\b\b\b\b\b\b\b\b\b\b\b\b\b\b\b\b\b\b\b\b\b\b\b\b\b\b\b\b\b\b\b\b\b\b\b\r 5984/12153 [=============>................] - ETA: 15902s"
     ]
    },
    {
     "name": "stdout",
     "output_type": "stream",
     "text": [
      "\b\b\b\b\b\b\b\b\b\b\b\b\b\b\b\b\b\b\b\b\b\b\b\b\b\b\b\b\b\b\b\b\b\b\b\b\b\b\b\b\b\b\b\b\b\b\b\b\b\b\b\b\b\b\b\b\b\b\r 6000/12153 [=============>................] - ETA: 15859s"
     ]
    },
    {
     "name": "stdout",
     "output_type": "stream",
     "text": [
      "\b\b\b\b\b\b\b\b\b\b\b\b\b\b\b\b\b\b\b\b\b\b\b\b\b\b\b\b\b\b\b\b\b\b\b\b\b\b\b\b\b\b\b\b\b\b\b\b\b\b\b\b\b\b\b\b\b\b\r 6016/12153 [=============>................] - ETA: 15817s"
     ]
    },
    {
     "name": "stdout",
     "output_type": "stream",
     "text": [
      "\b\b\b\b\b\b\b\b\b\b\b\b\b\b\b\b\b\b\b\b\b\b\b\b\b\b\b\b\b\b\b\b\b\b\b\b\b\b\b\b\b\b\b\b\b\b\b\b\b\b\b\b\b\b\b\b\b\b\r 6032/12153 [=============>................] - ETA: 15775s"
     ]
    },
    {
     "name": "stdout",
     "output_type": "stream",
     "text": [
      "\b\b\b\b\b\b\b\b\b\b\b\b\b\b\b\b\b\b\b\b\b\b\b\b\b\b\b\b\b\b\b\b\b\b\b\b\b\b\b\b\b\b\b\b\b\b\b\b\b\b\b\b\b\b\b\b\b\b\r 6048/12153 [=============>................] - ETA: 15733s"
     ]
    },
    {
     "name": "stdout",
     "output_type": "stream",
     "text": [
      "\b\b\b\b\b\b\b\b\b\b\b\b\b\b\b\b\b\b\b\b\b\b\b\b\b\b\b\b\b\b\b\b\b\b\b\b\b\b\b\b\b\b\b\b\b\b\b\b\b\b\b\b\b\b\b\b\b\b\r 6064/12153 [=============>................] - ETA: 15691s"
     ]
    },
    {
     "name": "stdout",
     "output_type": "stream",
     "text": [
      "\b\b\b\b\b\b\b\b\b\b\b\b\b\b\b\b\b\b\b\b\b\b\b\b\b\b\b\b\b\b\b\b\b\b\b\b\b\b\b\b\b\b\b\b\b\b\b\b\b\b\b\b\b\b\b\b\b\b\r 6080/12153 [==============>...............] - ETA: 15656s"
     ]
    },
    {
     "name": "stdout",
     "output_type": "stream",
     "text": [
      "\b\b\b\b\b\b\b\b\b\b\b\b\b\b\b\b\b\b\b\b\b\b\b\b\b\b\b\b\b\b\b\b\b\b\b\b\b\b\b\b\b\b\b\b\b\b\b\b\b\b\b\b\b\b\b\b\b\b\r 6096/12153 [==============>...............] - ETA: 15628s"
     ]
    },
    {
     "name": "stdout",
     "output_type": "stream",
     "text": [
      "\b\b\b\b\b\b\b\b\b\b\b\b\b\b\b\b\b\b\b\b\b\b\b\b\b\b\b\b\b\b\b\b\b\b\b\b\b\b\b\b\b\b\b\b\b\b\b\b\b\b\b\b\b\b\b\b\b\b\r 6112/12153 [==============>...............] - ETA: 15587s"
     ]
    },
    {
     "name": "stdout",
     "output_type": "stream",
     "text": [
      "\b\b\b\b\b\b\b\b\b\b\b\b\b\b\b\b\b\b\b\b\b\b\b\b\b\b\b\b\b\b\b\b\b\b\b\b\b\b\b\b\b\b\b\b\b\b\b\b\b\b\b\b\b\b\b\b\b\b\r 6128/12153 [==============>...............] - ETA: 15554s"
     ]
    },
    {
     "name": "stdout",
     "output_type": "stream",
     "text": [
      "\b\b\b\b\b\b\b\b\b\b\b\b\b\b\b\b\b\b\b\b\b\b\b\b\b\b\b\b\b\b\b\b\b\b\b\b\b\b\b\b\b\b\b\b\b\b\b\b\b\b\b\b\b\b\b\b\b\b\r 6144/12153 [==============>...............] - ETA: 15520s"
     ]
    },
    {
     "name": "stdout",
     "output_type": "stream",
     "text": [
      "\b\b\b\b\b\b\b\b\b\b\b\b\b\b\b\b\b\b\b\b\b\b\b\b\b\b\b\b\b\b\b\b\b\b\b\b\b\b\b\b\b\b\b\b\b\b\b\b\b\b\b\b\b\b\b\b\b\b\r 6160/12153 [==============>...............] - ETA: 15489s"
     ]
    },
    {
     "name": "stdout",
     "output_type": "stream",
     "text": [
      "\b\b\b\b\b\b\b\b\b\b\b\b\b\b\b\b\b\b\b\b\b\b\b\b\b\b\b\b\b\b\b\b\b\b\b\b\b\b\b\b\b\b\b\b\b\b\b\b\b\b\b\b\b\b\b\b\b\b\r 6176/12153 [==============>...............] - ETA: 15455s"
     ]
    },
    {
     "name": "stdout",
     "output_type": "stream",
     "text": [
      "\b\b\b\b\b\b\b\b\b\b\b\b\b\b\b\b\b\b\b\b\b\b\b\b\b\b\b\b\b\b\b\b\b\b\b\b\b\b\b\b\b\b\b\b\b\b\b\b\b\b\b\b\b\b\b\b\b\b\r 6192/12153 [==============>...............] - ETA: 15421s"
     ]
    },
    {
     "name": "stdout",
     "output_type": "stream",
     "text": [
      "\b\b\b\b\b\b\b\b\b\b\b\b\b\b\b\b\b\b\b\b\b\b\b\b\b\b\b\b\b\b\b\b\b\b\b\b\b\b\b\b\b\b\b\b\b\b\b\b\b\b\b\b\b\b\b\b\b\b\r 6208/12153 [==============>...............] - ETA: 15385s"
     ]
    },
    {
     "name": "stdout",
     "output_type": "stream",
     "text": [
      "\b\b\b\b\b\b\b\b\b\b\b\b\b\b\b\b\b\b\b\b\b\b\b\b\b\b\b\b\b\b\b\b\b\b\b\b\b\b\b\b\b\b\b\b\b\b\b\b\b\b\b\b\b\b\b\b\b\b\r 6224/12153 [==============>...............] - ETA: 15347s"
     ]
    },
    {
     "name": "stdout",
     "output_type": "stream",
     "text": [
      "\b\b\b\b\b\b\b\b\b\b\b\b\b\b\b\b\b\b\b\b\b\b\b\b\b\b\b\b\b\b\b\b\b\b\b\b\b\b\b\b\b\b\b\b\b\b\b\b\b\b\b\b\b\b\b\b\b\b\r 6240/12153 [==============>...............] - ETA: 15309s"
     ]
    },
    {
     "name": "stdout",
     "output_type": "stream",
     "text": [
      "\b\b\b\b\b\b\b\b\b\b\b\b\b\b\b\b\b\b\b\b\b\b\b\b\b\b\b\b\b\b\b\b\b\b\b\b\b\b\b\b\b\b\b\b\b\b\b\b\b\b\b\b\b\b\b\b\b\b\r 6256/12153 [==============>...............] - ETA: 15267s"
     ]
    },
    {
     "name": "stdout",
     "output_type": "stream",
     "text": [
      "\b\b\b\b\b\b\b\b\b\b\b\b\b\b\b\b\b\b\b\b\b\b\b\b\b\b\b\b\b\b\b\b\b\b\b\b\b\b\b\b\b\b\b\b\b\b\b\b\b\b\b\b\b\b\b\b\b\b\r 6272/12153 [==============>...............] - ETA: 15234s"
     ]
    },
    {
     "name": "stdout",
     "output_type": "stream",
     "text": [
      "\b\b\b\b\b\b\b\b\b\b\b\b\b\b\b\b\b\b\b\b\b\b\b\b\b\b\b\b\b\b\b\b\b\b\b\b\b\b\b\b\b\b\b\b\b\b\b\b\b\b\b\b\b\b\b\b\b\b\r 6288/12153 [==============>...............] - ETA: 15201s"
     ]
    },
    {
     "name": "stdout",
     "output_type": "stream",
     "text": [
      "\b\b\b\b\b\b\b\b\b\b\b\b\b\b\b\b\b\b\b\b\b\b\b\b\b\b\b\b\b\b\b\b\b\b\b\b\b\b\b\b\b\b\b\b\b\b\b\b\b\b\b\b\b\b\b\b\b\b\r 6304/12153 [==============>...............] - ETA: 15161s"
     ]
    },
    {
     "name": "stdout",
     "output_type": "stream",
     "text": [
      "\b\b\b\b\b\b\b\b\b\b\b\b\b\b\b\b\b\b\b\b\b\b\b\b\b\b\b\b\b\b\b\b\b\b\b\b\b\b\b\b\b\b\b\b\b\b\b\b\b\b\b\b\b\b\b\b\b\b\r 6320/12153 [==============>...............] - ETA: 15121s"
     ]
    },
    {
     "name": "stdout",
     "output_type": "stream",
     "text": [
      "\b\b\b\b\b\b\b\b\b\b\b\b\b\b\b\b\b\b\b\b\b\b\b\b\b\b\b\b\b\b\b\b\b\b\b\b\b\b\b\b\b\b\b\b\b\b\b\b\b\b\b\b\b\b\b\b\b\b\r 6336/12153 [==============>...............] - ETA: 15079s"
     ]
    },
    {
     "name": "stdout",
     "output_type": "stream",
     "text": [
      "\b\b\b\b\b\b\b\b\b\b\b\b\b\b\b\b\b\b\b\b\b\b\b\b\b\b\b\b\b\b\b\b\b\b\b\b\b\b\b\b\b\b\b\b\b\b\b\b\b\b\b\b\b\b\b\b\b\b\r 6352/12153 [==============>...............] - ETA: 15037s"
     ]
    },
    {
     "name": "stdout",
     "output_type": "stream",
     "text": [
      "\b\b\b\b\b\b\b\b\b\b\b\b\b\b\b\b\b\b\b\b\b\b\b\b\b\b\b\b\b\b\b\b\b\b\b\b\b\b\b\b\b\b\b\b\b\b\b\b\b\b\b\b\b\b\b\b\b\b\r 6368/12153 [==============>...............] - ETA: 14995s"
     ]
    },
    {
     "name": "stdout",
     "output_type": "stream",
     "text": [
      "\b\b\b\b\b\b\b\b\b\b\b\b\b\b\b\b\b\b\b\b\b\b\b\b\b\b\b\b\b\b\b\b\b\b\b\b\b\b\b\b\b\b\b\b\b\b\b\b\b\b\b\b\b\b\b\b\b\b\r 6384/12153 [==============>...............] - ETA: 14953s"
     ]
    },
    {
     "name": "stdout",
     "output_type": "stream",
     "text": [
      "\b\b\b\b\b\b\b\b\b\b\b\b\b\b\b\b\b\b\b\b\b\b\b\b\b\b\b\b\b\b\b\b\b\b\b\b\b\b\b\b\b\b\b\b\b\b\b\b\b\b\b\b\b\b\b\b\b\b\r 6400/12153 [==============>...............] - ETA: 14911s"
     ]
    },
    {
     "name": "stdout",
     "output_type": "stream",
     "text": [
      "\b\b\b\b\b\b\b\b\b\b\b\b\b\b\b\b\b\b\b\b\b\b\b\b\b\b\b\b\b\b\b\b\b\b\b\b\b\b\b\b\b\b\b\b\b\b\b\b\b\b\b\b\b\b\b\b\b\b\r 6416/12153 [==============>...............] - ETA: 14868s"
     ]
    },
    {
     "name": "stdout",
     "output_type": "stream",
     "text": [
      "\b\b\b\b\b\b\b\b\b\b\b\b\b\b\b\b\b\b\b\b\b\b\b\b\b\b\b\b\b\b\b\b\b\b\b\b\b\b\b\b\b\b\b\b\b\b\b\b\b\b\b\b\b\b\b\b\b\b\r 6432/12153 [==============>...............] - ETA: 14826s"
     ]
    },
    {
     "name": "stdout",
     "output_type": "stream",
     "text": [
      "\b\b\b\b\b\b\b\b\b\b\b\b\b\b\b\b\b\b\b\b\b\b\b\b\b\b\b\b\b\b\b\b\b\b\b\b\b\b\b\b\b\b\b\b\b\b\b\b\b\b\b\b\b\b\b\b\b\b\r 6448/12153 [==============>...............] - ETA: 14784s"
     ]
    },
    {
     "name": "stdout",
     "output_type": "stream",
     "text": [
      "\b\b\b\b\b\b\b\b\b\b\b\b\b\b\b\b\b\b\b\b\b\b\b\b\b\b\b\b\b\b\b\b\b\b\b\b\b\b\b\b\b\b\b\b\b\b\b\b\b\b\b\b\b\b\b\b\b\b\r 6464/12153 [==============>...............] - ETA: 14741s"
     ]
    },
    {
     "name": "stdout",
     "output_type": "stream",
     "text": [
      "\b\b\b\b\b\b\b\b\b\b\b\b\b\b\b\b\b\b\b\b\b\b\b\b\b\b\b\b\b\b\b\b\b\b\b\b\b\b\b\b\b\b\b\b\b\b\b\b\b\b\b\b\b\b\b\b\b\b\r 6480/12153 [==============>...............] - ETA: 14700s"
     ]
    },
    {
     "name": "stdout",
     "output_type": "stream",
     "text": [
      "\b\b\b\b\b\b\b\b\b\b\b\b\b\b\b\b\b\b\b\b\b\b\b\b\b\b\b\b\b\b\b\b\b\b\b\b\b\b\b\b\b\b\b\b\b\b\b\b\b\b\b\b\b\b\b\b\b\b\r 6496/12153 [===============>..............] - ETA: 14657s"
     ]
    },
    {
     "name": "stdout",
     "output_type": "stream",
     "text": [
      "\b\b\b\b\b\b\b\b\b\b\b\b\b\b\b\b\b\b\b\b\b\b\b\b\b\b\b\b\b\b\b\b\b\b\b\b\b\b\b\b\b\b\b\b\b\b\b\b\b\b\b\b\b\b\b\b\b\b\r 6512/12153 [===============>..............] - ETA: 14615s"
     ]
    },
    {
     "name": "stdout",
     "output_type": "stream",
     "text": [
      "\b\b\b\b\b\b\b\b\b\b\b\b\b\b\b\b\b\b\b\b\b\b\b\b\b\b\b\b\b\b\b\b\b\b\b\b\b\b\b\b\b\b\b\b\b\b\b\b\b\b\b\b\b\b\b\b\b\b\r 6528/12153 [===============>..............] - ETA: 14573s"
     ]
    },
    {
     "name": "stdout",
     "output_type": "stream",
     "text": [
      "\b\b\b\b\b\b\b\b\b\b\b\b\b\b\b\b\b\b\b\b\b\b\b\b\b\b\b\b\b\b\b\b\b\b\b\b\b\b\b\b\b\b\b\b\b\b\b\b\b\b\b\b\b\b\b\b\b\b\r 6544/12153 [===============>..............] - ETA: 14531s"
     ]
    },
    {
     "name": "stdout",
     "output_type": "stream",
     "text": [
      "\b\b\b\b\b\b\b\b\b\b\b\b\b\b\b\b\b\b\b\b\b\b\b\b\b\b\b\b\b\b\b\b\b\b\b\b\b\b\b\b\b\b\b\b\b\b\b\b\b\b\b\b\b\b\b\b\b\b\r 6560/12153 [===============>..............] - ETA: 14488s"
     ]
    },
    {
     "name": "stdout",
     "output_type": "stream",
     "text": [
      "\b\b\b\b\b\b\b\b\b\b\b\b\b\b\b\b\b\b\b\b\b\b\b\b\b\b\b\b\b\b\b\b\b\b\b\b\b\b\b\b\b\b\b\b\b\b\b\b\b\b\b\b\b\b\b\b\b\b\r 6576/12153 [===============>..............] - ETA: 14446s"
     ]
    },
    {
     "name": "stdout",
     "output_type": "stream",
     "text": [
      "\b\b\b\b\b\b\b\b\b\b\b\b\b\b\b\b\b\b\b\b\b\b\b\b\b\b\b\b\b\b\b\b\b\b\b\b\b\b\b\b\b\b\b\b\b\b\b\b\b\b\b\b\b\b\b\b\b\b\r 6592/12153 [===============>..............] - ETA: 14404s"
     ]
    },
    {
     "name": "stdout",
     "output_type": "stream",
     "text": [
      "\b\b\b\b\b\b\b\b\b\b\b\b\b\b\b\b\b\b\b\b\b\b\b\b\b\b\b\b\b\b\b\b\b\b\b\b\b\b\b\b\b\b\b\b\b\b\b\b\b\b\b\b\b\b\b\b\b\b\r 6608/12153 [===============>..............] - ETA: 14362s"
     ]
    },
    {
     "name": "stdout",
     "output_type": "stream",
     "text": [
      "\b\b\b\b\b\b\b\b\b\b\b\b\b\b\b\b\b\b\b\b\b\b\b\b\b\b\b\b\b\b\b\b\b\b\b\b\b\b\b\b\b\b\b\b\b\b\b\b\b\b\b\b\b\b\b\b\b\b\r 6624/12153 [===============>..............] - ETA: 14320s"
     ]
    },
    {
     "name": "stdout",
     "output_type": "stream",
     "text": [
      "\b\b\b\b\b\b\b\b\b\b\b\b\b\b\b\b\b\b\b\b\b\b\b\b\b\b\b\b\b\b\b\b\b\b\b\b\b\b\b\b\b\b\b\b\b\b\b\b\b\b\b\b\b\b\b\b\b\b\r 6640/12153 [===============>..............] - ETA: 14278s"
     ]
    },
    {
     "name": "stdout",
     "output_type": "stream",
     "text": [
      "\b\b\b\b\b\b\b\b\b\b\b\b\b\b\b\b\b\b\b\b\b\b\b\b\b\b\b\b\b\b\b\b\b\b\b\b\b\b\b\b\b\b\b\b\b\b\b\b\b\b\b\b\b\b\b\b\b\b\r 6656/12153 [===============>..............] - ETA: 14236s"
     ]
    },
    {
     "name": "stdout",
     "output_type": "stream",
     "text": [
      "\b\b\b\b\b\b\b\b\b\b\b\b\b\b\b\b\b\b\b\b\b\b\b\b\b\b\b\b\b\b\b\b\b\b\b\b\b\b\b\b\b\b\b\b\b\b\b\b\b\b\b\b\b\b\b\b\b\b\r 6672/12153 [===============>..............] - ETA: 14195s"
     ]
    },
    {
     "name": "stdout",
     "output_type": "stream",
     "text": [
      "\b\b\b\b\b\b\b\b\b\b\b\b\b\b\b\b\b\b\b\b\b\b\b\b\b\b\b\b\b\b\b\b\b\b\b\b\b\b\b\b\b\b\b\b\b\b\b\b\b\b\b\b\b\b\b\b\b\b\r 6688/12153 [===============>..............] - ETA: 14152s"
     ]
    },
    {
     "name": "stdout",
     "output_type": "stream",
     "text": [
      "\b\b\b\b\b\b\b\b\b\b\b\b\b\b\b\b\b\b\b\b\b\b\b\b\b\b\b\b\b\b\b\b\b\b\b\b\b\b\b\b\b\b\b\b\b\b\b\b\b\b\b\b\b\b\b\b\b\b\r 6704/12153 [===============>..............] - ETA: 14109s"
     ]
    },
    {
     "name": "stdout",
     "output_type": "stream",
     "text": [
      "\b\b\b\b\b\b\b\b\b\b\b\b\b\b\b\b\b\b\b\b\b\b\b\b\b\b\b\b\b\b\b\b\b\b\b\b\b\b\b\b\b\b\b\b\b\b\b\b\b\b\b\b\b\b\b\b\b\b\r 6720/12153 [===============>..............] - ETA: 14067s"
     ]
    },
    {
     "name": "stdout",
     "output_type": "stream",
     "text": [
      "\b\b\b\b\b\b\b\b\b\b\b\b\b\b\b\b\b\b\b\b\b\b\b\b\b\b\b\b\b\b\b\b\b\b\b\b\b\b\b\b\b\b\b\b\b\b\b\b\b\b\b\b\b\b\b\b\b\b\r 6736/12153 [===============>..............] - ETA: 14025s"
     ]
    },
    {
     "name": "stdout",
     "output_type": "stream",
     "text": [
      "\b\b\b\b\b\b\b\b\b\b\b\b\b\b\b\b\b\b\b\b\b\b\b\b\b\b\b\b\b\b\b\b\b\b\b\b\b\b\b\b\b\b\b\b\b\b\b\b\b\b\b\b\b\b\b\b\b\b\r 6752/12153 [===============>..............] - ETA: 13982s"
     ]
    },
    {
     "name": "stdout",
     "output_type": "stream",
     "text": [
      "\b\b\b\b\b\b\b\b\b\b\b\b\b\b\b\b\b\b\b\b\b\b\b\b\b\b\b\b\b\b\b\b\b\b\b\b\b\b\b\b\b\b\b\b\b\b\b\b\b\b\b\b\b\b\b\b\b\b\r 6768/12153 [===============>..............] - ETA: 13940s"
     ]
    },
    {
     "name": "stdout",
     "output_type": "stream",
     "text": [
      "\b\b\b\b\b\b\b\b\b\b\b\b\b\b\b\b\b\b\b\b\b\b\b\b\b\b\b\b\b\b\b\b\b\b\b\b\b\b\b\b\b\b\b\b\b\b\b\b\b\b\b\b\b\b\b\b\b\b\r 6784/12153 [===============>..............] - ETA: 13897s"
     ]
    },
    {
     "name": "stdout",
     "output_type": "stream",
     "text": [
      "\b\b\b\b\b\b\b\b\b\b\b\b\b\b\b\b\b\b\b\b\b\b\b\b\b\b\b\b\b\b\b\b\b\b\b\b\b\b\b\b\b\b\b\b\b\b\b\b\b\b\b\b\b\b\b\b\b\b\r 6800/12153 [===============>..............] - ETA: 13856s"
     ]
    },
    {
     "name": "stdout",
     "output_type": "stream",
     "text": [
      "\b\b\b\b\b\b\b\b\b\b\b\b\b\b\b\b\b\b\b\b\b\b\b\b\b\b\b\b\b\b\b\b\b\b\b\b\b\b\b\b\b\b\b\b\b\b\b\b\b\b\b\b\b\b\b\b\b\b\r 6816/12153 [===============>..............] - ETA: 13814s"
     ]
    },
    {
     "name": "stdout",
     "output_type": "stream",
     "text": [
      "\b\b\b\b\b\b\b\b\b\b\b\b\b\b\b\b\b\b\b\b\b\b\b\b\b\b\b\b\b\b\b\b\b\b\b\b\b\b\b\b\b\b\b\b\b\b\b\b\b\b\b\b\b\b\b\b\b\b\r 6832/12153 [===============>..............] - ETA: 13772s"
     ]
    },
    {
     "name": "stdout",
     "output_type": "stream",
     "text": [
      "\b\b\b\b\b\b\b\b\b\b\b\b\b\b\b\b\b\b\b\b\b\b\b\b\b\b\b\b\b\b\b\b\b\b\b\b\b\b\b\b\b\b\b\b\b\b\b\b\b\b\b\b\b\b\b\b\b\b\r 6848/12153 [===============>..............] - ETA: 13729s"
     ]
    },
    {
     "name": "stdout",
     "output_type": "stream",
     "text": [
      "\b\b\b\b\b\b\b\b\b\b\b\b\b\b\b\b\b\b\b\b\b\b\b\b\b\b\b\b\b\b\b\b\b\b\b\b\b\b\b\b\b\b\b\b\b\b\b\b\b\b\b\b\b\b\b\b\b\b\r 6864/12153 [===============>..............] - ETA: 13687s"
     ]
    },
    {
     "name": "stdout",
     "output_type": "stream",
     "text": [
      "\b\b\b\b\b\b\b\b\b\b\b\b\b\b\b\b\b\b\b\b\b\b\b\b\b\b\b\b\b\b\b\b\b\b\b\b\b\b\b\b\b\b\b\b\b\b\b\b\b\b\b\b\b\b\b\b\b\b\r 6880/12153 [===============>..............] - ETA: 13645s"
     ]
    },
    {
     "name": "stdout",
     "output_type": "stream",
     "text": [
      "\b\b\b\b\b\b\b\b\b\b\b\b\b\b\b\b\b\b\b\b\b\b\b\b\b\b\b\b\b\b\b\b\b\b\b\b\b\b\b\b\b\b\b\b\b\b\b\b\b\b\b\b\b\b\b\b\b\b\r 6896/12153 [================>.............] - ETA: 13602s"
     ]
    },
    {
     "name": "stdout",
     "output_type": "stream",
     "text": [
      "\b\b\b\b\b\b\b\b\b\b\b\b\b\b\b\b\b\b\b\b\b\b\b\b\b\b\b\b\b\b\b\b\b\b\b\b\b\b\b\b\b\b\b\b\b\b\b\b\b\b\b\b\b\b\b\b\b\b\r 6912/12153 [================>.............] - ETA: 13560s"
     ]
    },
    {
     "name": "stdout",
     "output_type": "stream",
     "text": [
      "\b\b\b\b\b\b\b\b\b\b\b\b\b\b\b\b\b\b\b\b\b\b\b\b\b\b\b\b\b\b\b\b\b\b\b\b\b\b\b\b\b\b\b\b\b\b\b\b\b\b\b\b\b\b\b\b\b\b\r 6928/12153 [================>.............] - ETA: 13518s"
     ]
    },
    {
     "name": "stdout",
     "output_type": "stream",
     "text": [
      "\b\b\b\b\b\b\b\b\b\b\b\b\b\b\b\b\b\b\b\b\b\b\b\b\b\b\b\b\b\b\b\b\b\b\b\b\b\b\b\b\b\b\b\b\b\b\b\b\b\b\b\b\b\b\b\b\b\b\r 6944/12153 [================>.............] - ETA: 13476s"
     ]
    },
    {
     "name": "stdout",
     "output_type": "stream",
     "text": [
      "\b\b\b\b\b\b\b\b\b\b\b\b\b\b\b\b\b\b\b\b\b\b\b\b\b\b\b\b\b\b\b\b\b\b\b\b\b\b\b\b\b\b\b\b\b\b\b\b\b\b\b\b\b\b\b\b\b\b\r 6960/12153 [================>.............] - ETA: 13434s"
     ]
    },
    {
     "name": "stdout",
     "output_type": "stream",
     "text": [
      "\b\b\b\b\b\b\b\b\b\b\b\b\b\b\b\b\b\b\b\b\b\b\b\b\b\b\b\b\b\b\b\b\b\b\b\b\b\b\b\b\b\b\b\b\b\b\b\b\b\b\b\b\b\b\b\b\b\b\r 6976/12153 [================>.............] - ETA: 13392s"
     ]
    },
    {
     "name": "stdout",
     "output_type": "stream",
     "text": [
      "\b\b\b\b\b\b\b\b\b\b\b\b\b\b\b\b\b\b\b\b\b\b\b\b\b\b\b\b\b\b\b\b\b\b\b\b\b\b\b\b\b\b\b\b\b\b\b\b\b\b\b\b\b\b\b\b\b\b\r 6992/12153 [================>.............] - ETA: 13350s"
     ]
    },
    {
     "name": "stdout",
     "output_type": "stream",
     "text": [
      "\b\b\b\b\b\b\b\b\b\b\b\b\b\b\b\b\b\b\b\b\b\b\b\b\b\b\b\b\b\b\b\b\b\b\b\b\b\b\b\b\b\b\b\b\b\b\b\b\b\b\b\b\b\b\b\b\b\b\r 7008/12153 [================>.............] - ETA: 13307s"
     ]
    },
    {
     "name": "stdout",
     "output_type": "stream",
     "text": [
      "\b\b\b\b\b\b\b\b\b\b\b\b\b\b\b\b\b\b\b\b\b\b\b\b\b\b\b\b\b\b\b\b\b\b\b\b\b\b\b\b\b\b\b\b\b\b\b\b\b\b\b\b\b\b\b\b\b\b\r 7024/12153 [================>.............] - ETA: 13266s"
     ]
    },
    {
     "name": "stdout",
     "output_type": "stream",
     "text": [
      "\b\b\b\b\b\b\b\b\b\b\b\b\b\b\b\b\b\b\b\b\b\b\b\b\b\b\b\b\b\b\b\b\b\b\b\b\b\b\b\b\b\b\b\b\b\b\b\b\b\b\b\b\b\b\b\b\b\b\r 7040/12153 [================>.............] - ETA: 13223s"
     ]
    },
    {
     "name": "stdout",
     "output_type": "stream",
     "text": [
      "\b\b\b\b\b\b\b\b\b\b\b\b\b\b\b\b\b\b\b\b\b\b\b\b\b\b\b\b\b\b\b\b\b\b\b\b\b\b\b\b\b\b\b\b\b\b\b\b\b\b\b\b\b\b\b\b\b\b\r 7056/12153 [================>.............] - ETA: 13181s"
     ]
    },
    {
     "name": "stdout",
     "output_type": "stream",
     "text": [
      "\b\b\b\b\b\b\b\b\b\b\b\b\b\b\b\b\b\b\b\b\b\b\b\b\b\b\b\b\b\b\b\b\b\b\b\b\b\b\b\b\b\b\b\b\b\b\b\b\b\b\b\b\b\b\b\b\b\b\r 7072/12153 [================>.............] - ETA: 13139s"
     ]
    },
    {
     "name": "stdout",
     "output_type": "stream",
     "text": [
      "\b\b\b\b\b\b\b\b\b\b\b\b\b\b\b\b\b\b\b\b\b\b\b\b\b\b\b\b\b\b\b\b\b\b\b\b\b\b\b\b\b\b\b\b\b\b\b\b\b\b\b\b\b\b\b\b\b\b\r 7088/12153 [================>.............] - ETA: 13097s"
     ]
    },
    {
     "name": "stdout",
     "output_type": "stream",
     "text": [
      "\b\b\b\b\b\b\b\b\b\b\b\b\b\b\b\b\b\b\b\b\b\b\b\b\b\b\b\b\b\b\b\b\b\b\b\b\b\b\b\b\b\b\b\b\b\b\b\b\b\b\b\b\b\b\b\b\b\b\r 7104/12153 [================>.............] - ETA: 13055s"
     ]
    },
    {
     "name": "stdout",
     "output_type": "stream",
     "text": [
      "\b\b\b\b\b\b\b\b\b\b\b\b\b\b\b\b\b\b\b\b\b\b\b\b\b\b\b\b\b\b\b\b\b\b\b\b\b\b\b\b\b\b\b\b\b\b\b\b\b\b\b\b\b\b\b\b\b\b\r 7120/12153 [================>.............] - ETA: 13013s"
     ]
    },
    {
     "name": "stdout",
     "output_type": "stream",
     "text": [
      "\b\b\b\b\b\b\b\b\b\b\b\b\b\b\b\b\b\b\b\b\b\b\b\b\b\b\b\b\b\b\b\b\b\b\b\b\b\b\b\b\b\b\b\b\b\b\b\b\b\b\b\b\b\b\b\b\b\b\r 7136/12153 [================>.............] - ETA: 12971s"
     ]
    },
    {
     "name": "stdout",
     "output_type": "stream",
     "text": [
      "\b\b\b\b\b\b\b\b\b\b\b\b\b\b\b\b\b\b\b\b\b\b\b\b\b\b\b\b\b\b\b\b\b\b\b\b\b\b\b\b\b\b\b\b\b\b\b\b\b\b\b\b\b\b\b\b\b\b\r 7152/12153 [================>.............] - ETA: 12929s"
     ]
    },
    {
     "name": "stdout",
     "output_type": "stream",
     "text": [
      "\b\b\b\b\b\b\b\b\b\b\b\b\b\b\b\b\b\b\b\b\b\b\b\b\b\b\b\b\b\b\b\b\b\b\b\b\b\b\b\b\b\b\b\b\b\b\b\b\b\b\b\b\b\b\b\b\b\b\r 7168/12153 [================>.............] - ETA: 12886s"
     ]
    },
    {
     "name": "stdout",
     "output_type": "stream",
     "text": [
      "\b\b\b\b\b\b\b\b\b\b\b\b\b\b\b\b\b\b\b\b\b\b\b\b\b\b\b\b\b\b\b\b\b\b\b\b\b\b\b\b\b\b\b\b\b\b\b\b\b\b\b\b\b\b\b\b\b\b\r 7184/12153 [================>.............] - ETA: 12844s"
     ]
    },
    {
     "name": "stdout",
     "output_type": "stream",
     "text": [
      "\b\b\b\b\b\b\b\b\b\b\b\b\b\b\b\b\b\b\b\b\b\b\b\b\b\b\b\b\b\b\b\b\b\b\b\b\b\b\b\b\b\b\b\b\b\b\b\b\b\b\b\b\b\b\b\b\b\b\r 7200/12153 [================>.............] - ETA: 12802s"
     ]
    },
    {
     "name": "stdout",
     "output_type": "stream",
     "text": [
      "\b\b\b\b\b\b\b\b\b\b\b\b\b\b\b\b\b\b\b\b\b\b\b\b\b\b\b\b\b\b\b\b\b\b\b\b\b\b\b\b\b\b\b\b\b\b\b\b\b\b\b\b\b\b\b\b\b\b\r 7216/12153 [================>.............] - ETA: 12760s"
     ]
    },
    {
     "name": "stdout",
     "output_type": "stream",
     "text": [
      "\b\b\b\b\b\b\b\b\b\b\b\b\b\b\b\b\b\b\b\b\b\b\b\b\b\b\b\b\b\b\b\b\b\b\b\b\b\b\b\b\b\b\b\b\b\b\b\b\b\b\b\b\b\b\b\b\b\b\r 7232/12153 [================>.............] - ETA: 12718s"
     ]
    },
    {
     "name": "stdout",
     "output_type": "stream",
     "text": [
      "\b\b\b\b\b\b\b\b\b\b\b\b\b\b\b\b\b\b\b\b\b\b\b\b\b\b\b\b\b\b\b\b\b\b\b\b\b\b\b\b\b\b\b\b\b\b\b\b\b\b\b\b\b\b\b\b\b\b\r 7248/12153 [================>.............] - ETA: 12676s"
     ]
    },
    {
     "name": "stdout",
     "output_type": "stream",
     "text": [
      "\b\b\b\b\b\b\b\b\b\b\b\b\b\b\b\b\b\b\b\b\b\b\b\b\b\b\b\b\b\b\b\b\b\b\b\b\b\b\b\b\b\b\b\b\b\b\b\b\b\b\b\b\b\b\b\b\b\b\r 7264/12153 [================>.............] - ETA: 12634s"
     ]
    },
    {
     "name": "stdout",
     "output_type": "stream",
     "text": [
      "\b\b\b\b\b\b\b\b\b\b\b\b\b\b\b\b\b\b\b\b\b\b\b\b\b\b\b\b\b\b\b\b\b\b\b\b\b\b\b\b\b\b\b\b\b\b\b\b\b\b\b\b\b\b\b\b\b\b\r 7280/12153 [================>.............] - ETA: 12592s"
     ]
    },
    {
     "name": "stdout",
     "output_type": "stream",
     "text": [
      "\b\b\b\b\b\b\b\b\b\b\b\b\b\b\b\b\b\b\b\b\b\b\b\b\b\b\b\b\b\b\b\b\b\b\b\b\b\b\b\b\b\b\b\b\b\b\b\b\b\b\b\b\b\b\b\b\b\b\r 7296/12153 [=================>............] - ETA: 12550s"
     ]
    },
    {
     "name": "stdout",
     "output_type": "stream",
     "text": [
      "\b\b\b\b\b\b\b\b\b\b\b\b\b\b\b\b\b\b\b\b\b\b\b\b\b\b\b\b\b\b\b\b\b\b\b\b\b\b\b\b\b\b\b\b\b\b\b\b\b\b\b\b\b\b\b\b\b\b\r 7312/12153 [=================>............] - ETA: 12508s"
     ]
    },
    {
     "name": "stdout",
     "output_type": "stream",
     "text": [
      "\b\b\b\b\b\b\b\b\b\b\b\b\b\b\b\b\b\b\b\b\b\b\b\b\b\b\b\b\b\b\b\b\b\b\b\b\b\b\b\b\b\b\b\b\b\b\b\b\b\b\b\b\b\b\b\b\b\b\r 7328/12153 [=================>............] - ETA: 12466s"
     ]
    },
    {
     "name": "stdout",
     "output_type": "stream",
     "text": [
      "\b\b\b\b\b\b\b\b\b\b\b\b\b\b\b\b\b\b\b\b\b\b\b\b\b\b\b\b\b\b\b\b\b\b\b\b\b\b\b\b\b\b\b\b\b\b\b\b\b\b\b\b\b\b\b\b\b\b\r 7344/12153 [=================>............] - ETA: 12424s"
     ]
    },
    {
     "name": "stdout",
     "output_type": "stream",
     "text": [
      "\b\b\b\b\b\b\b\b\b\b\b\b\b\b\b\b\b\b\b\b\b\b\b\b\b\b\b\b\b\b\b\b\b\b\b\b\b\b\b\b\b\b\b\b\b\b\b\b\b\b\b\b\b\b\b\b\b\b\r 7360/12153 [=================>............] - ETA: 12382s"
     ]
    },
    {
     "name": "stdout",
     "output_type": "stream",
     "text": [
      "\b\b\b\b\b\b\b\b\b\b\b\b\b\b\b\b\b\b\b\b\b\b\b\b\b\b\b\b\b\b\b\b\b\b\b\b\b\b\b\b\b\b\b\b\b\b\b\b\b\b\b\b\b\b\b\b\b\b\r 7376/12153 [=================>............] - ETA: 12339s"
     ]
    },
    {
     "name": "stdout",
     "output_type": "stream",
     "text": [
      "\b\b\b\b\b\b\b\b\b\b\b\b\b\b\b\b\b\b\b\b\b\b\b\b\b\b\b\b\b\b\b\b\b\b\b\b\b\b\b\b\b\b\b\b\b\b\b\b\b\b\b\b\b\b\b\b\b\b\r 7392/12153 [=================>............] - ETA: 12297s"
     ]
    },
    {
     "name": "stdout",
     "output_type": "stream",
     "text": [
      "\b\b\b\b\b\b\b\b\b\b\b\b\b\b\b\b\b\b\b\b\b\b\b\b\b\b\b\b\b\b\b\b\b\b\b\b\b\b\b\b\b\b\b\b\b\b\b\b\b\b\b\b\b\b\b\b\b\b\r 7408/12153 [=================>............] - ETA: 12255s"
     ]
    },
    {
     "name": "stdout",
     "output_type": "stream",
     "text": [
      "\b\b\b\b\b\b\b\b\b\b\b\b\b\b\b\b\b\b\b\b\b\b\b\b\b\b\b\b\b\b\b\b\b\b\b\b\b\b\b\b\b\b\b\b\b\b\b\b\b\b\b\b\b\b\b\b\b\b\r 7424/12153 [=================>............] - ETA: 12213s"
     ]
    },
    {
     "name": "stdout",
     "output_type": "stream",
     "text": [
      "\b\b\b\b\b\b\b\b\b\b\b\b\b\b\b\b\b\b\b\b\b\b\b\b\b\b\b\b\b\b\b\b\b\b\b\b\b\b\b\b\b\b\b\b\b\b\b\b\b\b\b\b\b\b\b\b\b\b\r 7440/12153 [=================>............] - ETA: 12171s"
     ]
    },
    {
     "name": "stdout",
     "output_type": "stream",
     "text": [
      "\b\b\b\b\b\b\b\b\b\b\b\b\b\b\b\b\b\b\b\b\b\b\b\b\b\b\b\b\b\b\b\b\b\b\b\b\b\b\b\b\b\b\b\b\b\b\b\b\b\b\b\b\b\b\b\b\b\b\r 7456/12153 [=================>............] - ETA: 12128s"
     ]
    },
    {
     "name": "stdout",
     "output_type": "stream",
     "text": [
      "\b\b\b\b\b\b\b\b\b\b\b\b\b\b\b\b\b\b\b\b\b\b\b\b\b\b\b\b\b\b\b\b\b\b\b\b\b\b\b\b\b\b\b\b\b\b\b\b\b\b\b\b\b\b\b\b\b\b\r 7472/12153 [=================>............] - ETA: 12087s"
     ]
    },
    {
     "name": "stdout",
     "output_type": "stream",
     "text": [
      "\b\b\b\b\b\b\b\b\b\b\b\b\b\b\b\b\b\b\b\b\b\b\b\b\b\b\b\b\b\b\b\b\b\b\b\b\b\b\b\b\b\b\b\b\b\b\b\b\b\b\b\b\b\b\b\b\b\b\r 7488/12153 [=================>............] - ETA: 12045s"
     ]
    },
    {
     "name": "stdout",
     "output_type": "stream",
     "text": [
      "\b\b\b\b\b\b\b\b\b\b\b\b\b\b\b\b\b\b\b\b\b\b\b\b\b\b\b\b\b\b\b\b\b\b\b\b\b\b\b\b\b\b\b\b\b\b\b\b\b\b\b\b\b\b\b\b\b\b\r 7504/12153 [=================>............] - ETA: 12003s"
     ]
    },
    {
     "name": "stdout",
     "output_type": "stream",
     "text": [
      "\b\b\b\b\b\b\b\b\b\b\b\b\b\b\b\b\b\b\b\b\b\b\b\b\b\b\b\b\b\b\b\b\b\b\b\b\b\b\b\b\b\b\b\b\b\b\b\b\b\b\b\b\b\b\b\b\b\b\r 7520/12153 [=================>............] - ETA: 11961s"
     ]
    },
    {
     "name": "stdout",
     "output_type": "stream",
     "text": [
      "\b\b\b\b\b\b\b\b\b\b\b\b\b\b\b\b\b\b\b\b\b\b\b\b\b\b\b\b\b\b\b\b\b\b\b\b\b\b\b\b\b\b\b\b\b\b\b\b\b\b\b\b\b\b\b\b\b\b\r 7536/12153 [=================>............] - ETA: 11920s"
     ]
    },
    {
     "name": "stdout",
     "output_type": "stream",
     "text": [
      "\b\b\b\b\b\b\b\b\b\b\b\b\b\b\b\b\b\b\b\b\b\b\b\b\b\b\b\b\b\b\b\b\b\b\b\b\b\b\b\b\b\b\b\b\b\b\b\b\b\b\b\b\b\b\b\b\b\b\r 7552/12153 [=================>............] - ETA: 11878s"
     ]
    },
    {
     "name": "stdout",
     "output_type": "stream",
     "text": [
      "\b\b\b\b\b\b\b\b\b\b\b\b\b\b\b\b\b\b\b\b\b\b\b\b\b\b\b\b\b\b\b\b\b\b\b\b\b\b\b\b\b\b\b\b\b\b\b\b\b\b\b\b\b\b\b\b\b\b\r 7568/12153 [=================>............] - ETA: 11836s"
     ]
    },
    {
     "name": "stdout",
     "output_type": "stream",
     "text": [
      "\b\b\b\b\b\b\b\b\b\b\b\b\b\b\b\b\b\b\b\b\b\b\b\b\b\b\b\b\b\b\b\b\b\b\b\b\b\b\b\b\b\b\b\b\b\b\b\b\b\b\b\b\b\b\b\b\b\b\r 7584/12153 [=================>............] - ETA: 11794s"
     ]
    },
    {
     "name": "stdout",
     "output_type": "stream",
     "text": [
      "\b\b\b\b\b\b\b\b\b\b\b\b\b\b\b\b\b\b\b\b\b\b\b\b\b\b\b\b\b\b\b\b\b\b\b\b\b\b\b\b\b\b\b\b\b\b\b\b\b\b\b\b\b\b\b\b\b\b\r 7600/12153 [=================>............] - ETA: 11752s"
     ]
    },
    {
     "name": "stdout",
     "output_type": "stream",
     "text": [
      "\b\b\b\b\b\b\b\b\b\b\b\b\b\b\b\b\b\b\b\b\b\b\b\b\b\b\b\b\b\b\b\b\b\b\b\b\b\b\b\b\b\b\b\b\b\b\b\b\b\b\b\b\b\b\b\b\b\b\r 7616/12153 [=================>............] - ETA: 11710s"
     ]
    },
    {
     "name": "stdout",
     "output_type": "stream",
     "text": [
      "\b\b\b\b\b\b\b\b\b\b\b\b\b\b\b\b\b\b\b\b\b\b\b\b\b\b\b\b\b\b\b\b\b\b\b\b\b\b\b\b\b\b\b\b\b\b\b\b\b\b\b\b\b\b\b\b\b\b\r 7632/12153 [=================>............] - ETA: 11668s"
     ]
    },
    {
     "name": "stdout",
     "output_type": "stream",
     "text": [
      "\b\b\b\b\b\b\b\b\b\b\b\b\b\b\b\b\b\b\b\b\b\b\b\b\b\b\b\b\b\b\b\b\b\b\b\b\b\b\b\b\b\b\b\b\b\b\b\b\b\b\b\b\b\b\b\b\b\b\r 7648/12153 [=================>............] - ETA: 11626s"
     ]
    },
    {
     "name": "stdout",
     "output_type": "stream",
     "text": [
      "\b\b\b\b\b\b\b\b\b\b\b\b\b\b\b\b\b\b\b\b\b\b\b\b\b\b\b\b\b\b\b\b\b\b\b\b\b\b\b\b\b\b\b\b\b\b\b\b\b\b\b\b\b\b\b\b\b\b\r 7664/12153 [=================>............] - ETA: 11584s"
     ]
    },
    {
     "name": "stdout",
     "output_type": "stream",
     "text": [
      "\b\b\b\b\b\b\b\b\b\b\b\b\b\b\b\b\b\b\b\b\b\b\b\b\b\b\b\b\b\b\b\b\b\b\b\b\b\b\b\b\b\b\b\b\b\b\b\b\b\b\b\b\b\b\b\b\b\b\r 7680/12153 [=================>............] - ETA: 11542s"
     ]
    },
    {
     "name": "stdout",
     "output_type": "stream",
     "text": [
      "\b\b\b\b\b\b\b\b\b\b\b\b\b\b\b\b\b\b\b\b\b\b\b\b\b\b\b\b\b\b\b\b\b\b\b\b\b\b\b\b\b\b\b\b\b\b\b\b\b\b\b\b\b\b\b\b\b\b\r 7696/12153 [=================>............] - ETA: 11500s"
     ]
    },
    {
     "name": "stdout",
     "output_type": "stream",
     "text": [
      "\b\b\b\b\b\b\b\b\b\b\b\b\b\b\b\b\b\b\b\b\b\b\b\b\b\b\b\b\b\b\b\b\b\b\b\b\b\b\b\b\b\b\b\b\b\b\b\b\b\b\b\b\b\b\b\b\b\b\r 7712/12153 [==================>...........] - ETA: 11458s"
     ]
    },
    {
     "name": "stdout",
     "output_type": "stream",
     "text": [
      "\b\b\b\b\b\b\b\b\b\b\b\b\b\b\b\b\b\b\b\b\b\b\b\b\b\b\b\b\b\b\b\b\b\b\b\b\b\b\b\b\b\b\b\b\b\b\b\b\b\b\b\b\b\b\b\b\b\b\r 7728/12153 [==================>...........] - ETA: 11416s"
     ]
    },
    {
     "name": "stdout",
     "output_type": "stream",
     "text": [
      "\b\b\b\b\b\b\b\b\b\b\b\b\b\b\b\b\b\b\b\b\b\b\b\b\b\b\b\b\b\b\b\b\b\b\b\b\b\b\b\b\b\b\b\b\b\b\b\b\b\b\b\b\b\b\b\b\b\b\r 7744/12153 [==================>...........] - ETA: 11375s"
     ]
    },
    {
     "name": "stdout",
     "output_type": "stream",
     "text": [
      "\b\b\b\b\b\b\b\b\b\b\b\b\b\b\b\b\b\b\b\b\b\b\b\b\b\b\b\b\b\b\b\b\b\b\b\b\b\b\b\b\b\b\b\b\b\b\b\b\b\b\b\b\b\b\b\b\b\b\r 7760/12153 [==================>...........] - ETA: 11333s"
     ]
    },
    {
     "name": "stdout",
     "output_type": "stream",
     "text": [
      "\b\b\b\b\b\b\b\b\b\b\b\b\b\b\b\b\b\b\b\b\b\b\b\b\b\b\b\b\b\b\b\b\b\b\b\b\b\b\b\b\b\b\b\b\b\b\b\b\b\b\b\b\b\b\b\b\b\b\r 7776/12153 [==================>...........] - ETA: 11291s"
     ]
    },
    {
     "name": "stdout",
     "output_type": "stream",
     "text": [
      "\b\b\b\b\b\b\b\b\b\b\b\b\b\b\b\b\b\b\b\b\b\b\b\b\b\b\b\b\b\b\b\b\b\b\b\b\b\b\b\b\b\b\b\b\b\b\b\b\b\b\b\b\b\b\b\b\b\b\r 7792/12153 [==================>...........] - ETA: 11249s"
     ]
    },
    {
     "name": "stdout",
     "output_type": "stream",
     "text": [
      "\b\b\b\b\b\b\b\b\b\b\b\b\b\b\b\b\b\b\b\b\b\b\b\b\b\b\b\b\b\b\b\b\b\b\b\b\b\b\b\b\b\b\b\b\b\b\b\b\b\b\b\b\b\b\b\b\b\b\r 7808/12153 [==================>...........] - ETA: 11208s"
     ]
    },
    {
     "name": "stdout",
     "output_type": "stream",
     "text": [
      "\b\b\b\b\b\b\b\b\b\b\b\b\b\b\b\b\b\b\b\b\b\b\b\b\b\b\b\b\b\b\b\b\b\b\b\b\b\b\b\b\b\b\b\b\b\b\b\b\b\b\b\b\b\b\b\b\b\b\r 7824/12153 [==================>...........] - ETA: 11166s"
     ]
    },
    {
     "name": "stdout",
     "output_type": "stream",
     "text": [
      "\b\b\b\b\b\b\b\b\b\b\b\b\b\b\b\b\b\b\b\b\b\b\b\b\b\b\b\b\b\b\b\b\b\b\b\b\b\b\b\b\b\b\b\b\b\b\b\b\b\b\b\b\b\b\b\b\b\b\r 7840/12153 [==================>...........] - ETA: 11124s"
     ]
    },
    {
     "name": "stdout",
     "output_type": "stream",
     "text": [
      "\b\b\b\b\b\b\b\b\b\b\b\b\b\b\b\b\b\b\b\b\b\b\b\b\b\b\b\b\b\b\b\b\b\b\b\b\b\b\b\b\b\b\b\b\b\b\b\b\b\b\b\b\b\b\b\b\b\b\r 7856/12153 [==================>...........] - ETA: 11082s"
     ]
    },
    {
     "name": "stdout",
     "output_type": "stream",
     "text": [
      "\b\b\b\b\b\b\b\b\b\b\b\b\b\b\b\b\b\b\b\b\b\b\b\b\b\b\b\b\b\b\b\b\b\b\b\b\b\b\b\b\b\b\b\b\b\b\b\b\b\b\b\b\b\b\b\b\b\b\r 7872/12153 [==================>...........] - ETA: 11040s"
     ]
    },
    {
     "name": "stdout",
     "output_type": "stream",
     "text": [
      "\b\b\b\b\b\b\b\b\b\b\b\b\b\b\b\b\b\b\b\b\b\b\b\b\b\b\b\b\b\b\b\b\b\b\b\b\b\b\b\b\b\b\b\b\b\b\b\b\b\b\b\b\b\b\b\b\b\b\r 7888/12153 [==================>...........] - ETA: 10998s"
     ]
    },
    {
     "name": "stdout",
     "output_type": "stream",
     "text": [
      "\b\b\b\b\b\b\b\b\b\b\b\b\b\b\b\b\b\b\b\b\b\b\b\b\b\b\b\b\b\b\b\b\b\b\b\b\b\b\b\b\b\b\b\b\b\b\b\b\b\b\b\b\b\b\b\b\b\b\r 7904/12153 [==================>...........] - ETA: 10956s"
     ]
    },
    {
     "name": "stdout",
     "output_type": "stream",
     "text": [
      "\b\b\b\b\b\b\b\b\b\b\b\b\b\b\b\b\b\b\b\b\b\b\b\b\b\b\b\b\b\b\b\b\b\b\b\b\b\b\b\b\b\b\b\b\b\b\b\b\b\b\b\b\b\b\b\b\b\b\r 7920/12153 [==================>...........] - ETA: 10914s"
     ]
    },
    {
     "name": "stdout",
     "output_type": "stream",
     "text": [
      "\b\b\b\b\b\b\b\b\b\b\b\b\b\b\b\b\b\b\b\b\b\b\b\b\b\b\b\b\b\b\b\b\b\b\b\b\b\b\b\b\b\b\b\b\b\b\b\b\b\b\b\b\b\b\b\b\b\b\r 7936/12153 [==================>...........] - ETA: 10872s"
     ]
    },
    {
     "name": "stdout",
     "output_type": "stream",
     "text": [
      "\b\b\b\b\b\b\b\b\b\b\b\b\b\b\b\b\b\b\b\b\b\b\b\b\b\b\b\b\b\b\b\b\b\b\b\b\b\b\b\b\b\b\b\b\b\b\b\b\b\b\b\b\b\b\b\b\b\b\r 7952/12153 [==================>...........] - ETA: 10830s"
     ]
    },
    {
     "name": "stdout",
     "output_type": "stream",
     "text": [
      "\b\b\b\b\b\b\b\b\b\b\b\b\b\b\b\b\b\b\b\b\b\b\b\b\b\b\b\b\b\b\b\b\b\b\b\b\b\b\b\b\b\b\b\b\b\b\b\b\b\b\b\b\b\b\b\b\b\b\r 7968/12153 [==================>...........] - ETA: 10789s"
     ]
    },
    {
     "name": "stdout",
     "output_type": "stream",
     "text": [
      "\b\b\b\b\b\b\b\b\b\b\b\b\b\b\b\b\b\b\b\b\b\b\b\b\b\b\b\b\b\b\b\b\b\b\b\b\b\b\b\b\b\b\b\b\b\b\b\b\b\b\b\b\b\b\b\b\b\b\r 7984/12153 [==================>...........] - ETA: 10747s"
     ]
    },
    {
     "name": "stdout",
     "output_type": "stream",
     "text": [
      "\b\b\b\b\b\b\b\b\b\b\b\b\b\b\b\b\b\b\b\b\b\b\b\b\b\b\b\b\b\b\b\b\b\b\b\b\b\b\b\b\b\b\b\b\b\b\b\b\b\b\b\b\b\b\b\b\b\b\r 8000/12153 [==================>...........] - ETA: 10705s"
     ]
    },
    {
     "name": "stdout",
     "output_type": "stream",
     "text": [
      "\b\b\b\b\b\b\b\b\b\b\b\b\b\b\b\b\b\b\b\b\b\b\b\b\b\b\b\b\b\b\b\b\b\b\b\b\b\b\b\b\b\b\b\b\b\b\b\b\b\b\b\b\b\b\b\b\b\b\r 8016/12153 [==================>...........] - ETA: 10663s"
     ]
    },
    {
     "name": "stdout",
     "output_type": "stream",
     "text": [
      "\b\b\b\b\b\b\b\b\b\b\b\b\b\b\b\b\b\b\b\b\b\b\b\b\b\b\b\b\b\b\b\b\b\b\b\b\b\b\b\b\b\b\b\b\b\b\b\b\b\b\b\b\b\b\b\b\b\b\r 8032/12153 [==================>...........] - ETA: 10622s"
     ]
    },
    {
     "name": "stdout",
     "output_type": "stream",
     "text": [
      "\b\b\b\b\b\b\b\b\b\b\b\b\b\b\b\b\b\b\b\b\b\b\b\b\b\b\b\b\b\b\b\b\b\b\b\b\b\b\b\b\b\b\b\b\b\b\b\b\b\b\b\b\b\b\b\b\b\b\r 8048/12153 [==================>...........] - ETA: 10580s"
     ]
    },
    {
     "name": "stdout",
     "output_type": "stream",
     "text": [
      "\b\b\b\b\b\b\b\b\b\b\b\b\b\b\b\b\b\b\b\b\b\b\b\b\b\b\b\b\b\b\b\b\b\b\b\b\b\b\b\b\b\b\b\b\b\b\b\b\b\b\b\b\b\b\b\b\b\b\r 8064/12153 [==================>...........] - ETA: 10539s"
     ]
    },
    {
     "name": "stdout",
     "output_type": "stream",
     "text": [
      "\b\b\b\b\b\b\b\b\b\b\b\b\b\b\b\b\b\b\b\b\b\b\b\b\b\b\b\b\b\b\b\b\b\b\b\b\b\b\b\b\b\b\b\b\b\b\b\b\b\b\b\b\b\b\b\b\b\b\r 8080/12153 [==================>...........] - ETA: 10497s"
     ]
    },
    {
     "name": "stdout",
     "output_type": "stream",
     "text": [
      "\b\b\b\b\b\b\b\b\b\b\b\b\b\b\b\b\b\b\b\b\b\b\b\b\b\b\b\b\b\b\b\b\b\b\b\b\b\b\b\b\b\b\b\b\b\b\b\b\b\b\b\b\b\b\b\b\b\b\r 8096/12153 [==================>...........] - ETA: 10455s"
     ]
    },
    {
     "name": "stdout",
     "output_type": "stream",
     "text": [
      "\b\b\b\b\b\b\b\b\b\b\b\b\b\b\b\b\b\b\b\b\b\b\b\b\b\b\b\b\b\b\b\b\b\b\b\b\b\b\b\b\b\b\b\b\b\b\b\b\b\b\b\b\b\b\b\b\b\b\r 8112/12153 [===================>..........] - ETA: 10414s"
     ]
    },
    {
     "name": "stdout",
     "output_type": "stream",
     "text": [
      "\b\b\b\b\b\b\b\b\b\b\b\b\b\b\b\b\b\b\b\b\b\b\b\b\b\b\b\b\b\b\b\b\b\b\b\b\b\b\b\b\b\b\b\b\b\b\b\b\b\b\b\b\b\b\b\b\b\b\r 8128/12153 [===================>..........] - ETA: 10372s"
     ]
    },
    {
     "name": "stdout",
     "output_type": "stream",
     "text": [
      "\b\b\b\b\b\b\b\b\b\b\b\b\b\b\b\b\b\b\b\b\b\b\b\b\b\b\b\b\b\b\b\b\b\b\b\b\b\b\b\b\b\b\b\b\b\b\b\b\b\b\b\b\b\b\b\b\b\b\r 8144/12153 [===================>..........] - ETA: 10331s"
     ]
    },
    {
     "name": "stdout",
     "output_type": "stream",
     "text": [
      "\b\b\b\b\b\b\b\b\b\b\b\b\b\b\b\b\b\b\b\b\b\b\b\b\b\b\b\b\b\b\b\b\b\b\b\b\b\b\b\b\b\b\b\b\b\b\b\b\b\b\b\b\b\b\b\b\b\b\r 8160/12153 [===================>..........] - ETA: 10289s"
     ]
    },
    {
     "name": "stdout",
     "output_type": "stream",
     "text": [
      "\b\b\b\b\b\b\b\b\b\b\b\b\b\b\b\b\b\b\b\b\b\b\b\b\b\b\b\b\b\b\b\b\b\b\b\b\b\b\b\b\b\b\b\b\b\b\b\b\b\b\b\b\b\b\b\b\b\b\r 8176/12153 [===================>..........] - ETA: 10247s"
     ]
    },
    {
     "name": "stdout",
     "output_type": "stream",
     "text": [
      "\b\b\b\b\b\b\b\b\b\b\b\b\b\b\b\b\b\b\b\b\b\b\b\b\b\b\b\b\b\b\b\b\b\b\b\b\b\b\b\b\b\b\b\b\b\b\b\b\b\b\b\b\b\b\b\b\b\b\r 8192/12153 [===================>..........] - ETA: 10205s"
     ]
    },
    {
     "name": "stdout",
     "output_type": "stream",
     "text": [
      "\b\b\b\b\b\b\b\b\b\b\b\b\b\b\b\b\b\b\b\b\b\b\b\b\b\b\b\b\b\b\b\b\b\b\b\b\b\b\b\b\b\b\b\b\b\b\b\b\b\b\b\b\b\b\b\b\b\b\r 8208/12153 [===================>..........] - ETA: 10163s"
     ]
    },
    {
     "name": "stdout",
     "output_type": "stream",
     "text": [
      "\b\b\b\b\b\b\b\b\b\b\b\b\b\b\b\b\b\b\b\b\b\b\b\b\b\b\b\b\b\b\b\b\b\b\b\b\b\b\b\b\b\b\b\b\b\b\b\b\b\b\b\b\b\b\b\b\b\b\r 8224/12153 [===================>..........] - ETA: 10122s"
     ]
    },
    {
     "name": "stdout",
     "output_type": "stream",
     "text": [
      "\b\b\b\b\b\b\b\b\b\b\b\b\b\b\b\b\b\b\b\b\b\b\b\b\b\b\b\b\b\b\b\b\b\b\b\b\b\b\b\b\b\b\b\b\b\b\b\b\b\b\b\b\b\b\b\b\b\b\r 8240/12153 [===================>..........] - ETA: 10080s"
     ]
    },
    {
     "name": "stdout",
     "output_type": "stream",
     "text": [
      "\b\b\b\b\b\b\b\b\b\b\b\b\b\b\b\b\b\b\b\b\b\b\b\b\b\b\b\b\b\b\b\b\b\b\b\b\b\b\b\b\b\b\b\b\b\b\b\b\b\b\b\b\b\b\b\b\b\b\r 8256/12153 [===================>..........] - ETA: 10039s"
     ]
    },
    {
     "name": "stdout",
     "output_type": "stream",
     "text": [
      "\b\b\b\b\b\b\b\b\b\b\b\b\b\b\b\b\b\b\b\b\b\b\b\b\b\b\b\b\b\b\b\b\b\b\b\b\b\b\b\b\b\b\b\b\b\b\b\b\b\b\b\b\b\b\b\b\b\b\r 8272/12153 [===================>..........] - ETA: 9997s "
     ]
    },
    {
     "name": "stdout",
     "output_type": "stream",
     "text": [
      "\b\b\b\b\b\b\b\b\b\b\b\b\b\b\b\b\b\b\b\b\b\b\b\b\b\b\b\b\b\b\b\b\b\b\b\b\b\b\b\b\b\b\b\b\b\b\b\b\b\b\b\b\b\b\b\b\b\r 8288/12153 [===================>..........] - ETA: 9956s"
     ]
    },
    {
     "name": "stdout",
     "output_type": "stream",
     "text": [
      "\b\b\b\b\b\b\b\b\b\b\b\b\b\b\b\b\b\b\b\b\b\b\b\b\b\b\b\b\b\b\b\b\b\b\b\b\b\b\b\b\b\b\b\b\b\b\b\b\b\b\b\b\b\b\b\b\b\r 8304/12153 [===================>..........] - ETA: 9914s"
     ]
    },
    {
     "name": "stdout",
     "output_type": "stream",
     "text": [
      "\b\b\b\b\b\b\b\b\b\b\b\b\b\b\b\b\b\b\b\b\b\b\b\b\b\b\b\b\b\b\b\b\b\b\b\b\b\b\b\b\b\b\b\b\b\b\b\b\b\b\b\b\b\b\b\b\b\r 8320/12153 [===================>..........] - ETA: 9872s"
     ]
    },
    {
     "name": "stdout",
     "output_type": "stream",
     "text": [
      "\b\b\b\b\b\b\b\b\b\b\b\b\b\b\b\b\b\b\b\b\b\b\b\b\b\b\b\b\b\b\b\b\b\b\b\b\b\b\b\b\b\b\b\b\b\b\b\b\b\b\b\b\b\b\b\b\b\r 8336/12153 [===================>..........] - ETA: 9830s"
     ]
    },
    {
     "name": "stdout",
     "output_type": "stream",
     "text": [
      "\b\b\b\b\b\b\b\b\b\b\b\b\b\b\b\b\b\b\b\b\b\b\b\b\b\b\b\b\b\b\b\b\b\b\b\b\b\b\b\b\b\b\b\b\b\b\b\b\b\b\b\b\b\b\b\b\b\r 8352/12153 [===================>..........] - ETA: 9788s"
     ]
    },
    {
     "name": "stdout",
     "output_type": "stream",
     "text": [
      "\b\b\b\b\b\b\b\b\b\b\b\b\b\b\b\b\b\b\b\b\b\b\b\b\b\b\b\b\b\b\b\b\b\b\b\b\b\b\b\b\b\b\b\b\b\b\b\b\b\b\b\b\b\b\b\b\b\r 8368/12153 [===================>..........] - ETA: 9747s"
     ]
    },
    {
     "name": "stdout",
     "output_type": "stream",
     "text": [
      "\b\b\b\b\b\b\b\b\b\b\b\b\b\b\b\b\b\b\b\b\b\b\b\b\b\b\b\b\b\b\b\b\b\b\b\b\b\b\b\b\b\b\b\b\b\b\b\b\b\b\b\b\b\b\b\b\b\r 8384/12153 [===================>..........] - ETA: 9705s"
     ]
    },
    {
     "name": "stdout",
     "output_type": "stream",
     "text": [
      "\b\b\b\b\b\b\b\b\b\b\b\b\b\b\b\b\b\b\b\b\b\b\b\b\b\b\b\b\b\b\b\b\b\b\b\b\b\b\b\b\b\b\b\b\b\b\b\b\b\b\b\b\b\b\b\b\b\r 8400/12153 [===================>..........] - ETA: 9664s"
     ]
    },
    {
     "name": "stdout",
     "output_type": "stream",
     "text": [
      "\b\b\b\b\b\b\b\b\b\b\b\b\b\b\b\b\b\b\b\b\b\b\b\b\b\b\b\b\b\b\b\b\b\b\b\b\b\b\b\b\b\b\b\b\b\b\b\b\b\b\b\b\b\b\b\b\b\r 8416/12153 [===================>..........] - ETA: 9622s"
     ]
    },
    {
     "name": "stdout",
     "output_type": "stream",
     "text": [
      "\b\b\b\b\b\b\b\b\b\b\b\b\b\b\b\b\b\b\b\b\b\b\b\b\b\b\b\b\b\b\b\b\b\b\b\b\b\b\b\b\b\b\b\b\b\b\b\b\b\b\b\b\b\b\b\b\b\r 8432/12153 [===================>..........] - ETA: 9580s"
     ]
    },
    {
     "name": "stdout",
     "output_type": "stream",
     "text": [
      "\b\b\b\b\b\b\b\b\b\b\b\b\b\b\b\b\b\b\b\b\b\b\b\b\b\b\b\b\b\b\b\b\b\b\b\b\b\b\b\b\b\b\b\b\b\b\b\b\b\b\b\b\b\b\b\b\b\r 8448/12153 [===================>..........] - ETA: 9538s"
     ]
    },
    {
     "name": "stdout",
     "output_type": "stream",
     "text": [
      "\b\b\b\b\b\b\b\b\b\b\b\b\b\b\b\b\b\b\b\b\b\b\b\b\b\b\b\b\b\b\b\b\b\b\b\b\b\b\b\b\b\b\b\b\b\b\b\b\b\b\b\b\b\b\b\b\b\r 8464/12153 [===================>..........] - ETA: 9497s"
     ]
    },
    {
     "name": "stdout",
     "output_type": "stream",
     "text": [
      "\b\b\b\b\b\b\b\b\b\b\b\b\b\b\b\b\b\b\b\b\b\b\b\b\b\b\b\b\b\b\b\b\b\b\b\b\b\b\b\b\b\b\b\b\b\b\b\b\b\b\b\b\b\b\b\b\b\r 8480/12153 [===================>..........] - ETA: 9456s"
     ]
    },
    {
     "name": "stdout",
     "output_type": "stream",
     "text": [
      "\b\b\b\b\b\b\b\b\b\b\b\b\b\b\b\b\b\b\b\b\b\b\b\b\b\b\b\b\b\b\b\b\b\b\b\b\b\b\b\b\b\b\b\b\b\b\b\b\b\b\b\b\b\b\b\b\b\r 8496/12153 [===================>..........] - ETA: 9414s"
     ]
    },
    {
     "name": "stdout",
     "output_type": "stream",
     "text": [
      "\b\b\b\b\b\b\b\b\b\b\b\b\b\b\b\b\b\b\b\b\b\b\b\b\b\b\b\b\b\b\b\b\b\b\b\b\b\b\b\b\b\b\b\b\b\b\b\b\b\b\b\b\b\b\b\b\b\r 8512/12153 [====================>.........] - ETA: 9373s"
     ]
    },
    {
     "name": "stdout",
     "output_type": "stream",
     "text": [
      "\b\b\b\b\b\b\b\b\b\b\b\b\b\b\b\b\b\b\b\b\b\b\b\b\b\b\b\b\b\b\b\b\b\b\b\b\b\b\b\b\b\b\b\b\b\b\b\b\b\b\b\b\b\b\b\b\b\r 8528/12153 [====================>.........] - ETA: 9331s"
     ]
    },
    {
     "name": "stdout",
     "output_type": "stream",
     "text": [
      "\b\b\b\b\b\b\b\b\b\b\b\b\b\b\b\b\b\b\b\b\b\b\b\b\b\b\b\b\b\b\b\b\b\b\b\b\b\b\b\b\b\b\b\b\b\b\b\b\b\b\b\b\b\b\b\b\b\r 8544/12153 [====================>.........] - ETA: 9289s"
     ]
    },
    {
     "name": "stdout",
     "output_type": "stream",
     "text": [
      "\b\b\b\b\b\b\b\b\b\b\b\b\b\b\b\b\b\b\b\b\b\b\b\b\b\b\b\b\b\b\b\b\b\b\b\b\b\b\b\b\b\b\b\b\b\b\b\b\b\b\b\b\b\b\b\b\b\r 8560/12153 [====================>.........] - ETA: 9248s"
     ]
    },
    {
     "name": "stdout",
     "output_type": "stream",
     "text": [
      "\b\b\b\b\b\b\b\b\b\b\b\b\b\b\b\b\b\b\b\b\b\b\b\b\b\b\b\b\b\b\b\b\b\b\b\b\b\b\b\b\b\b\b\b\b\b\b\b\b\b\b\b\b\b\b\b\b\r 8576/12153 [====================>.........] - ETA: 9206s"
     ]
    },
    {
     "name": "stdout",
     "output_type": "stream",
     "text": [
      "\b\b\b\b\b\b\b\b\b\b\b\b\b\b\b\b\b\b\b\b\b\b\b\b\b\b\b\b\b\b\b\b\b\b\b\b\b\b\b\b\b\b\b\b\b\b\b\b\b\b\b\b\b\b\b\b\b\r 8592/12153 [====================>.........] - ETA: 9164s"
     ]
    },
    {
     "name": "stdout",
     "output_type": "stream",
     "text": [
      "\b\b\b\b\b\b\b\b\b\b\b\b\b\b\b\b\b\b\b\b\b\b\b\b\b\b\b\b\b\b\b\b\b\b\b\b\b\b\b\b\b\b\b\b\b\b\b\b\b\b\b\b\b\b\b\b\b\r 8608/12153 [====================>.........] - ETA: 9123s"
     ]
    },
    {
     "name": "stdout",
     "output_type": "stream",
     "text": [
      "\b\b\b\b\b\b\b\b\b\b\b\b\b\b\b\b\b\b\b\b\b\b\b\b\b\b\b\b\b\b\b\b\b\b\b\b\b\b\b\b\b\b\b\b\b\b\b\b\b\b\b\b\b\b\b\b\b\r 8624/12153 [====================>.........] - ETA: 9081s"
     ]
    },
    {
     "name": "stdout",
     "output_type": "stream",
     "text": [
      "\b\b\b\b\b\b\b\b\b\b\b\b\b\b\b\b\b\b\b\b\b\b\b\b\b\b\b\b\b\b\b\b\b\b\b\b\b\b\b\b\b\b\b\b\b\b\b\b\b\b\b\b\b\b\b\b\b\r 8640/12153 [====================>.........] - ETA: 9040s"
     ]
    },
    {
     "name": "stdout",
     "output_type": "stream",
     "text": [
      "\b\b\b\b\b\b\b\b\b\b\b\b\b\b\b\b\b\b\b\b\b\b\b\b\b\b\b\b\b\b\b\b\b\b\b\b\b\b\b\b\b\b\b\b\b\b\b\b\b\b\b\b\b\b\b\b\b\r 8656/12153 [====================>.........] - ETA: 8998s"
     ]
    },
    {
     "name": "stdout",
     "output_type": "stream",
     "text": [
      "\b\b\b\b\b\b\b\b\b\b\b\b\b\b\b\b\b\b\b\b\b\b\b\b\b\b\b\b\b\b\b\b\b\b\b\b\b\b\b\b\b\b\b\b\b\b\b\b\b\b\b\b\b\b\b\b\b\r 8672/12153 [====================>.........] - ETA: 8957s"
     ]
    },
    {
     "name": "stdout",
     "output_type": "stream",
     "text": [
      "\b\b\b\b\b\b\b\b\b\b\b\b\b\b\b\b\b\b\b\b\b\b\b\b\b\b\b\b\b\b\b\b\b\b\b\b\b\b\b\b\b\b\b\b\b\b\b\b\b\b\b\b\b\b\b\b\b\r 8688/12153 [====================>.........] - ETA: 8915s"
     ]
    },
    {
     "name": "stdout",
     "output_type": "stream",
     "text": [
      "\b\b\b\b\b\b\b\b\b\b\b\b\b\b\b\b\b\b\b\b\b\b\b\b\b\b\b\b\b\b\b\b\b\b\b\b\b\b\b\b\b\b\b\b\b\b\b\b\b\b\b\b\b\b\b\b\b\r 8704/12153 [====================>.........] - ETA: 8874s"
     ]
    },
    {
     "name": "stdout",
     "output_type": "stream",
     "text": [
      "\b\b\b\b\b\b\b\b\b\b\b\b\b\b\b\b\b\b\b\b\b\b\b\b\b\b\b\b\b\b\b\b\b\b\b\b\b\b\b\b\b\b\b\b\b\b\b\b\b\b\b\b\b\b\b\b\b\r 8720/12153 [====================>.........] - ETA: 8832s"
     ]
    },
    {
     "name": "stdout",
     "output_type": "stream",
     "text": [
      "\b\b\b\b\b\b\b\b\b\b\b\b\b\b\b\b\b\b\b\b\b\b\b\b\b\b\b\b\b\b\b\b\b\b\b\b\b\b\b\b\b\b\b\b\b\b\b\b\b\b\b\b\b\b\b\b\b\r 8736/12153 [====================>.........] - ETA: 8791s"
     ]
    },
    {
     "name": "stdout",
     "output_type": "stream",
     "text": [
      "\b\b\b\b\b\b\b\b\b\b\b\b\b\b\b\b\b\b\b\b\b\b\b\b\b\b\b\b\b\b\b\b\b\b\b\b\b\b\b\b\b\b\b\b\b\b\b\b\b\b\b\b\b\b\b\b\b\r 8752/12153 [====================>.........] - ETA: 8749s"
     ]
    },
    {
     "name": "stdout",
     "output_type": "stream",
     "text": [
      "\b\b\b\b\b\b\b\b\b\b\b\b\b\b\b\b\b\b\b\b\b\b\b\b\b\b\b\b\b\b\b\b\b\b\b\b\b\b\b\b\b\b\b\b\b\b\b\b\b\b\b\b\b\b\b\b\b\r 8768/12153 [====================>.........] - ETA: 8708s"
     ]
    },
    {
     "name": "stdout",
     "output_type": "stream",
     "text": [
      "\b\b\b\b\b\b\b\b\b\b\b\b\b\b\b\b\b\b\b\b\b\b\b\b\b\b\b\b\b\b\b\b\b\b\b\b\b\b\b\b\b\b\b\b\b\b\b\b\b\b\b\b\b\b\b\b\b\r 8784/12153 [====================>.........] - ETA: 8666s"
     ]
    },
    {
     "name": "stdout",
     "output_type": "stream",
     "text": [
      "\b\b\b\b\b\b\b\b\b\b\b\b\b\b\b\b\b\b\b\b\b\b\b\b\b\b\b\b\b\b\b\b\b\b\b\b\b\b\b\b\b\b\b\b\b\b\b\b\b\b\b\b\b\b\b\b\b\r 8800/12153 [====================>.........] - ETA: 8624s"
     ]
    },
    {
     "name": "stdout",
     "output_type": "stream",
     "text": [
      "\b\b\b\b\b\b\b\b\b\b\b\b\b\b\b\b\b\b\b\b\b\b\b\b\b\b\b\b\b\b\b\b\b\b\b\b\b\b\b\b\b\b\b\b\b\b\b\b\b\b\b\b\b\b\b\b\b\r 8816/12153 [====================>.........] - ETA: 8583s"
     ]
    },
    {
     "name": "stdout",
     "output_type": "stream",
     "text": [
      "\b\b\b\b\b\b\b\b\b\b\b\b\b\b\b\b\b\b\b\b\b\b\b\b\b\b\b\b\b\b\b\b\b\b\b\b\b\b\b\b\b\b\b\b\b\b\b\b\b\b\b\b\b\b\b\b\b\r 8832/12153 [====================>.........] - ETA: 8541s"
     ]
    },
    {
     "name": "stdout",
     "output_type": "stream",
     "text": [
      "\b\b\b\b\b\b\b\b\b\b\b\b\b\b\b\b\b\b\b\b\b\b\b\b\b\b\b\b\b\b\b\b\b\b\b\b\b\b\b\b\b\b\b\b\b\b\b\b\b\b\b\b\b\b\b\b\b\r 8848/12153 [====================>.........] - ETA: 8500s"
     ]
    },
    {
     "name": "stdout",
     "output_type": "stream",
     "text": [
      "\b\b\b\b\b\b\b\b\b\b\b\b\b\b\b\b\b\b\b\b\b\b\b\b\b\b\b\b\b\b\b\b\b\b\b\b\b\b\b\b\b\b\b\b\b\b\b\b\b\b\b\b\b\b\b\b\b\r 8864/12153 [====================>.........] - ETA: 8458s"
     ]
    },
    {
     "name": "stdout",
     "output_type": "stream",
     "text": [
      "\b\b\b\b\b\b\b\b\b\b\b\b\b\b\b\b\b\b\b\b\b\b\b\b\b\b\b\b\b\b\b\b\b\b\b\b\b\b\b\b\b\b\b\b\b\b\b\b\b\b\b\b\b\b\b\b\b\r 8880/12153 [====================>.........] - ETA: 8416s"
     ]
    },
    {
     "name": "stdout",
     "output_type": "stream",
     "text": [
      "\b\b\b\b\b\b\b\b\b\b\b\b\b\b\b\b\b\b\b\b\b\b\b\b\b\b\b\b\b\b\b\b\b\b\b\b\b\b\b\b\b\b\b\b\b\b\b\b\b\b\b\b\b\b\b\b\b\r 8896/12153 [====================>.........] - ETA: 8375s"
     ]
    },
    {
     "name": "stdout",
     "output_type": "stream",
     "text": [
      "\b\b\b\b\b\b\b\b\b\b\b\b\b\b\b\b\b\b\b\b\b\b\b\b\b\b\b\b\b\b\b\b\b\b\b\b\b\b\b\b\b\b\b\b\b\b\b\b\b\b\b\b\b\b\b\b\b\r 8912/12153 [====================>.........] - ETA: 8334s"
     ]
    },
    {
     "name": "stdout",
     "output_type": "stream",
     "text": [
      "\b\b\b\b\b\b\b\b\b\b\b\b\b\b\b\b\b\b\b\b\b\b\b\b\b\b\b\b\b\b\b\b\b\b\b\b\b\b\b\b\b\b\b\b\b\b\b\b\b\b\b\b\b\b\b\b\b\r 8928/12153 [=====================>........] - ETA: 8295s"
     ]
    },
    {
     "name": "stdout",
     "output_type": "stream",
     "text": [
      "\b\b\b\b\b\b\b\b\b\b\b\b\b\b\b\b\b\b\b\b\b\b\b\b\b\b\b\b\b\b\b\b\b\b\b\b\b\b\b\b\b\b\b\b\b\b\b\b\b\b\b\b\b\b\b\b\b\r 8944/12153 [=====================>........] - ETA: 8253s"
     ]
    },
    {
     "name": "stdout",
     "output_type": "stream",
     "text": [
      "\b\b\b\b\b\b\b\b\b\b\b\b\b\b\b\b\b\b\b\b\b\b\b\b\b\b\b\b\b\b\b\b\b\b\b\b\b\b\b\b\b\b\b\b\b\b\b\b\b\b\b\b\b\b\b\b\b\r 8960/12153 [=====================>........] - ETA: 8212s"
     ]
    },
    {
     "name": "stdout",
     "output_type": "stream",
     "text": [
      "\b\b\b\b\b\b\b\b\b\b\b\b\b\b\b\b\b\b\b\b\b\b\b\b\b\b\b\b\b\b\b\b\b\b\b\b\b\b\b\b\b\b\b\b\b\b\b\b\b\b\b\b\b\b\b\b\b\r 8976/12153 [=====================>........] - ETA: 8172s"
     ]
    },
    {
     "name": "stdout",
     "output_type": "stream",
     "text": [
      "\b\b\b\b\b\b\b\b\b\b\b\b\b\b\b\b\b\b\b\b\b\b\b\b\b\b\b\b\b\b\b\b\b\b\b\b\b\b\b\b\b\b\b\b\b\b\b\b\b\b\b\b\b\b\b\b\b\r 8992/12153 [=====================>........] - ETA: 8134s"
     ]
    },
    {
     "name": "stdout",
     "output_type": "stream",
     "text": [
      "\b\b\b\b\b\b\b\b\b\b\b\b\b\b\b\b\b\b\b\b\b\b\b\b\b\b\b\b\b\b\b\b\b\b\b\b\b\b\b\b\b\b\b\b\b\b\b\b\b\b\b\b\b\b\b\b\b\r 9008/12153 [=====================>........] - ETA: 8096s"
     ]
    },
    {
     "name": "stdout",
     "output_type": "stream",
     "text": [
      "\b\b\b\b\b\b\b\b\b\b\b\b\b\b\b\b\b\b\b\b\b\b\b\b\b\b\b\b\b\b\b\b\b\b\b\b\b\b\b\b\b\b\b\b\b\b\b\b\b\b\b\b\b\b\b\b\b\r 9024/12153 [=====================>........] - ETA: 8056s"
     ]
    },
    {
     "name": "stdout",
     "output_type": "stream",
     "text": [
      "\b\b\b\b\b\b\b\b\b\b\b\b\b\b\b\b\b\b\b\b\b\b\b\b\b\b\b\b\b\b\b\b\b\b\b\b\b\b\b\b\b\b\b\b\b\b\b\b\b\b\b\b\b\b\b\b\b\r 9040/12153 [=====================>........] - ETA: 8019s"
     ]
    },
    {
     "name": "stdout",
     "output_type": "stream",
     "text": [
      "\b\b\b\b\b\b\b\b\b\b\b\b\b\b\b\b\b\b\b\b\b\b\b\b\b\b\b\b\b\b\b\b\b\b\b\b\b\b\b\b\b\b\b\b\b\b\b\b\b\b\b\b\b\b\b\b\b\r 9056/12153 [=====================>........] - ETA: 7980s"
     ]
    },
    {
     "name": "stdout",
     "output_type": "stream",
     "text": [
      "\b\b\b\b\b\b\b\b\b\b\b\b\b\b\b\b\b\b\b\b\b\b\b\b\b\b\b\b\b\b\b\b\b\b\b\b\b\b\b\b\b\b\b\b\b\b\b\b\b\b\b\b\b\b\b\b\b\r 9072/12153 [=====================>........] - ETA: 7942s"
     ]
    },
    {
     "name": "stdout",
     "output_type": "stream",
     "text": [
      "\b\b\b\b\b\b\b\b\b\b\b\b\b\b\b\b\b\b\b\b\b\b\b\b\b\b\b\b\b\b\b\b\b\b\b\b\b\b\b\b\b\b\b\b\b\b\b\b\b\b\b\b\b\b\b\b\b\r 9088/12153 [=====================>........] - ETA: 7902s"
     ]
    },
    {
     "name": "stdout",
     "output_type": "stream",
     "text": [
      "\b\b\b\b\b\b\b\b\b\b\b\b\b\b\b\b\b\b\b\b\b\b\b\b\b\b\b\b\b\b\b\b\b\b\b\b\b\b\b\b\b\b\b\b\b\b\b\b\b\b\b\b\b\b\b\b\b\r 9104/12153 [=====================>........] - ETA: 7861s"
     ]
    },
    {
     "name": "stdout",
     "output_type": "stream",
     "text": [
      "\b\b\b\b\b\b\b\b\b\b\b\b\b\b\b\b\b\b\b\b\b\b\b\b\b\b\b\b\b\b\b\b\b\b\b\b\b\b\b\b\b\b\b\b\b\b\b\b\b\b\b\b\b\b\b\b\b\r 9120/12153 [=====================>........] - ETA: 7822s"
     ]
    },
    {
     "name": "stdout",
     "output_type": "stream",
     "text": [
      "\b\b\b\b\b\b\b\b\b\b\b\b\b\b\b\b\b\b\b\b\b\b\b\b\b\b\b\b\b\b\b\b\b\b\b\b\b\b\b\b\b\b\b\b\b\b\b\b\b\b\b\b\b\b\b\b\b\r 9136/12153 [=====================>........] - ETA: 7783s"
     ]
    },
    {
     "name": "stdout",
     "output_type": "stream",
     "text": [
      "\b\b\b\b\b\b\b\b\b\b\b\b\b\b\b\b\b\b\b\b\b\b\b\b\b\b\b\b\b\b\b\b\b\b\b\b\b\b\b\b\b\b\b\b\b\b\b\b\b\b\b\b\b\b\b\b\b\r 9152/12153 [=====================>........] - ETA: 7745s"
     ]
    },
    {
     "name": "stdout",
     "output_type": "stream",
     "text": [
      "\b\b\b\b\b\b\b\b\b\b\b\b\b\b\b\b\b\b\b\b\b\b\b\b\b\b\b\b\b\b\b\b\b\b\b\b\b\b\b\b\b\b\b\b\b\b\b\b\b\b\b\b\b\b\b\b\b\r 9168/12153 [=====================>........] - ETA: 7706s"
     ]
    },
    {
     "name": "stdout",
     "output_type": "stream",
     "text": [
      "\b\b\b\b\b\b\b\b\b\b\b\b\b\b\b\b\b\b\b\b\b\b\b\b\b\b\b\b\b\b\b\b\b\b\b\b\b\b\b\b\b\b\b\b\b\b\b\b\b\b\b\b\b\b\b\b\b\r 9184/12153 [=====================>........] - ETA: 7667s"
     ]
    },
    {
     "name": "stdout",
     "output_type": "stream",
     "text": [
      "\b\b\b\b\b\b\b\b\b\b\b\b\b\b\b\b\b\b\b\b\b\b\b\b\b\b\b\b\b\b\b\b\b\b\b\b\b\b\b\b\b\b\b\b\b\b\b\b\b\b\b\b\b\b\b\b\b\r 9200/12153 [=====================>........] - ETA: 7629s"
     ]
    },
    {
     "name": "stdout",
     "output_type": "stream",
     "text": [
      "\b\b\b\b\b\b\b\b\b\b\b\b\b\b\b\b\b\b\b\b\b\b\b\b\b\b\b\b\b\b\b\b\b\b\b\b\b\b\b\b\b\b\b\b\b\b\b\b\b\b\b\b\b\b\b\b\b\r 9216/12153 [=====================>........] - ETA: 7590s"
     ]
    },
    {
     "name": "stdout",
     "output_type": "stream",
     "text": [
      "\b\b\b\b\b\b\b\b\b\b\b\b\b\b\b\b\b\b\b\b\b\b\b\b\b\b\b\b\b\b\b\b\b\b\b\b\b\b\b\b\b\b\b\b\b\b\b\b\b\b\b\b\b\b\b\b\b\r 9232/12153 [=====================>........] - ETA: 7552s"
     ]
    },
    {
     "name": "stdout",
     "output_type": "stream",
     "text": [
      "\b\b\b\b\b\b\b\b\b\b\b\b\b\b\b\b\b\b\b\b\b\b\b\b\b\b\b\b\b\b\b\b\b\b\b\b\b\b\b\b\b\b\b\b\b\b\b\b\b\b\b\b\b\b\b\b\b\r 9248/12153 [=====================>........] - ETA: 7512s"
     ]
    },
    {
     "name": "stdout",
     "output_type": "stream",
     "text": [
      "\b\b\b\b\b\b\b\b\b\b\b\b\b\b\b\b\b\b\b\b\b\b\b\b\b\b\b\b\b\b\b\b\b\b\b\b\b\b\b\b\b\b\b\b\b\b\b\b\b\b\b\b\b\b\b\b\b\r 9264/12153 [=====================>........] - ETA: 7471s"
     ]
    },
    {
     "name": "stdout",
     "output_type": "stream",
     "text": [
      "\b\b\b\b\b\b\b\b\b\b\b\b\b\b\b\b\b\b\b\b\b\b\b\b\b\b\b\b\b\b\b\b\b\b\b\b\b\b\b\b\b\b\b\b\b\b\b\b\b\b\b\b\b\b\b\b\b\r 9280/12153 [=====================>........] - ETA: 7430s"
     ]
    },
    {
     "name": "stdout",
     "output_type": "stream",
     "text": [
      "\b\b\b\b\b\b\b\b\b\b\b\b\b\b\b\b\b\b\b\b\b\b\b\b\b\b\b\b\b\b\b\b\b\b\b\b\b\b\b\b\b\b\b\b\b\b\b\b\b\b\b\b\b\b\b\b\b\r 9296/12153 [=====================>........] - ETA: 7388s"
     ]
    },
    {
     "name": "stdout",
     "output_type": "stream",
     "text": [
      "\b\b\b\b\b\b\b\b\b\b\b\b\b\b\b\b\b\b\b\b\b\b\b\b\b\b\b\b\b\b\b\b\b\b\b\b\b\b\b\b\b\b\b\b\b\b\b\b\b\b\b\b\b\b\b\b\b\r 9312/12153 [=====================>........] - ETA: 7347s"
     ]
    },
    {
     "name": "stdout",
     "output_type": "stream",
     "text": [
      "\b\b\b\b\b\b\b\b\b\b\b\b\b\b\b\b\b\b\b\b\b\b\b\b\b\b\b\b\b\b\b\b\b\b\b\b\b\b\b\b\b\b\b\b\b\b\b\b\b\b\b\b\b\b\b\b\b\r 9328/12153 [======================>.......] - ETA: 7309s"
     ]
    },
    {
     "name": "stdout",
     "output_type": "stream",
     "text": [
      "\b\b\b\b\b\b\b\b\b\b\b\b\b\b\b\b\b\b\b\b\b\b\b\b\b\b\b\b\b\b\b\b\b\b\b\b\b\b\b\b\b\b\b\b\b\b\b\b\b\b\b\b\b\b\b\b\b\r 9344/12153 [======================>.......] - ETA: 7272s"
     ]
    },
    {
     "name": "stdout",
     "output_type": "stream",
     "text": [
      "\b\b\b\b\b\b\b\b\b\b\b\b\b\b\b\b\b\b\b\b\b\b\b\b\b\b\b\b\b\b\b\b\b\b\b\b\b\b\b\b\b\b\b\b\b\b\b\b\b\b\b\b\b\b\b\b\b\r 9360/12153 [======================>.......] - ETA: 7232s"
     ]
    },
    {
     "name": "stdout",
     "output_type": "stream",
     "text": [
      "\b\b\b\b\b\b\b\b\b\b\b\b\b\b\b\b\b\b\b\b\b\b\b\b\b\b\b\b\b\b\b\b\b\b\b\b\b\b\b\b\b\b\b\b\b\b\b\b\b\b\b\b\b\b\b\b\b\r 9376/12153 [======================>.......] - ETA: 7192s"
     ]
    },
    {
     "name": "stdout",
     "output_type": "stream",
     "text": [
      "\b\b\b\b\b\b\b\b\b\b\b\b\b\b\b\b\b\b\b\b\b\b\b\b\b\b\b\b\b\b\b\b\b\b\b\b\b\b\b\b\b\b\b\b\b\b\b\b\b\b\b\b\b\b\b\b\b\r 9392/12153 [======================>.......] - ETA: 7153s"
     ]
    },
    {
     "name": "stdout",
     "output_type": "stream",
     "text": [
      "\b\b\b\b\b\b\b\b\b\b\b\b\b\b\b\b\b\b\b\b\b\b\b\b\b\b\b\b\b\b\b\b\b\b\b\b\b\b\b\b\b\b\b\b\b\b\b\b\b\b\b\b\b\b\b\b\b\r 9408/12153 [======================>.......] - ETA: 7115s"
     ]
    },
    {
     "name": "stdout",
     "output_type": "stream",
     "text": [
      "\b\b\b\b\b\b\b\b\b\b\b\b\b\b\b\b\b\b\b\b\b\b\b\b\b\b\b\b\b\b\b\b\b\b\b\b\b\b\b\b\b\b\b\b\b\b\b\b\b\b\b\b\b\b\b\b\b\r 9424/12153 [======================>.......] - ETA: 7079s"
     ]
    },
    {
     "name": "stdout",
     "output_type": "stream",
     "text": [
      "\b\b\b\b\b\b\b\b\b\b\b\b\b\b\b\b\b\b\b\b\b\b\b\b\b\b\b\b\b\b\b\b\b\b\b\b\b\b\b\b\b\b\b\b\b\b\b\b\b\b\b\b\b\b\b\b\b\r 9440/12153 [======================>.......] - ETA: 7038s"
     ]
    },
    {
     "name": "stdout",
     "output_type": "stream",
     "text": [
      "\b\b\b\b\b\b\b\b\b\b\b\b\b\b\b\b\b\b\b\b\b\b\b\b\b\b\b\b\b\b\b\b\b\b\b\b\b\b\b\b\b\b\b\b\b\b\b\b\b\b\b\b\b\b\b\b\b\r 9456/12153 [======================>.......] - ETA: 7000s"
     ]
    },
    {
     "name": "stdout",
     "output_type": "stream",
     "text": [
      "\b\b\b\b\b\b\b\b\b\b\b\b\b\b\b\b\b\b\b\b\b\b\b\b\b\b\b\b\b\b\b\b\b\b\b\b\b\b\b\b\b\b\b\b\b\b\b\b\b\b\b\b\b\b\b\b\b\r 9472/12153 [======================>.......] - ETA: 6959s"
     ]
    },
    {
     "name": "stdout",
     "output_type": "stream",
     "text": [
      "\b\b\b\b\b\b\b\b\b\b\b\b\b\b\b\b\b\b\b\b\b\b\b\b\b\b\b\b\b\b\b\b\b\b\b\b\b\b\b\b\b\b\b\b\b\b\b\b\b\b\b\b\b\b\b\b\b\r 9488/12153 [======================>.......] - ETA: 6918s"
     ]
    },
    {
     "name": "stdout",
     "output_type": "stream",
     "text": [
      "\b\b\b\b\b\b\b\b\b\b\b\b\b\b\b\b\b\b\b\b\b\b\b\b\b\b\b\b\b\b\b\b\b\b\b\b\b\b\b\b\b\b\b\b\b\b\b\b\b\b\b\b\b\b\b\b\b\r 9504/12153 [======================>.......] - ETA: 6880s"
     ]
    },
    {
     "name": "stdout",
     "output_type": "stream",
     "text": [
      "\b\b\b\b\b\b\b\b\b\b\b\b\b\b\b\b\b\b\b\b\b\b\b\b\b\b\b\b\b\b\b\b\b\b\b\b\b\b\b\b\b\b\b\b\b\b\b\b\b\b\b\b\b\b\b\b\b\r 9520/12153 [======================>.......] - ETA: 6839s"
     ]
    },
    {
     "name": "stdout",
     "output_type": "stream",
     "text": [
      "\b\b\b\b\b\b\b\b\b\b\b\b\b\b\b\b\b\b\b\b\b\b\b\b\b\b\b\b\b\b\b\b\b\b\b\b\b\b\b\b\b\b\b\b\b\b\b\b\b\b\b\b\b\b\b\b\b\r 9536/12153 [======================>.......] - ETA: 6801s"
     ]
    },
    {
     "name": "stdout",
     "output_type": "stream",
     "text": [
      "\b\b\b\b\b\b\b\b\b\b\b\b\b\b\b\b\b\b\b\b\b\b\b\b\b\b\b\b\b\b\b\b\b\b\b\b\b\b\b\b\b\b\b\b\b\b\b\b\b\b\b\b\b\b\b\b\b\r 9552/12153 [======================>.......] - ETA: 6761s"
     ]
    },
    {
     "name": "stdout",
     "output_type": "stream",
     "text": [
      "\b\b\b\b\b\b\b\b\b\b\b\b\b\b\b\b\b\b\b\b\b\b\b\b\b\b\b\b\b\b\b\b\b\b\b\b\b\b\b\b\b\b\b\b\b\b\b\b\b\b\b\b\b\b\b\b\b\r 9568/12153 [======================>.......] - ETA: 6721s"
     ]
    },
    {
     "name": "stdout",
     "output_type": "stream",
     "text": [
      "\b\b\b\b\b\b\b\b\b\b\b\b\b\b\b\b\b\b\b\b\b\b\b\b\b\b\b\b\b\b\b\b\b\b\b\b\b\b\b\b\b\b\b\b\b\b\b\b\b\b\b\b\b\b\b\b\b\r 9584/12153 [======================>.......] - ETA: 6681s"
     ]
    },
    {
     "name": "stdout",
     "output_type": "stream",
     "text": [
      "\b\b\b\b\b\b\b\b\b\b\b\b\b\b\b\b\b\b\b\b\b\b\b\b\b\b\b\b\b\b\b\b\b\b\b\b\b\b\b\b\b\b\b\b\b\b\b\b\b\b\b\b\b\b\b\b\b\r 9600/12153 [======================>.......] - ETA: 6641s"
     ]
    },
    {
     "name": "stdout",
     "output_type": "stream",
     "text": [
      "\b\b\b\b\b\b\b\b\b\b\b\b\b\b\b\b\b\b\b\b\b\b\b\b\b\b\b\b\b\b\b\b\b\b\b\b\b\b\b\b\b\b\b\b\b\b\b\b\b\b\b\b\b\b\b\b\b\r 9616/12153 [======================>.......] - ETA: 6600s"
     ]
    },
    {
     "name": "stdout",
     "output_type": "stream",
     "text": [
      "\b\b\b\b\b\b\b\b\b\b\b\b\b\b\b\b\b\b\b\b\b\b\b\b\b\b\b\b\b\b\b\b\b\b\b\b\b\b\b\b\b\b\b\b\b\b\b\b\b\b\b\b\b\b\b\b\b\r 9632/12153 [======================>.......] - ETA: 6558s"
     ]
    },
    {
     "name": "stdout",
     "output_type": "stream",
     "text": [
      "\b\b\b\b\b\b\b\b\b\b\b\b\b\b\b\b\b\b\b\b\b\b\b\b\b\b\b\b\b\b\b\b\b\b\b\b\b\b\b\b\b\b\b\b\b\b\b\b\b\b\b\b\b\b\b\b\b\r 9648/12153 [======================>.......] - ETA: 6517s"
     ]
    },
    {
     "name": "stdout",
     "output_type": "stream",
     "text": [
      "\b\b\b\b\b\b\b\b\b\b\b\b\b\b\b\b\b\b\b\b\b\b\b\b\b\b\b\b\b\b\b\b\b\b\b\b\b\b\b\b\b\b\b\b\b\b\b\b\b\b\b\b\b\b\b\b\b\r 9664/12153 [======================>.......] - ETA: 6476s"
     ]
    },
    {
     "name": "stdout",
     "output_type": "stream",
     "text": [
      "\b\b\b\b\b\b\b\b\b\b\b\b\b\b\b\b\b\b\b\b\b\b\b\b\b\b\b\b\b\b\b\b\b\b\b\b\b\b\b\b\b\b\b\b\b\b\b\b\b\b\b\b\b\b\b\b\b\r 9680/12153 [======================>.......] - ETA: 6436s"
     ]
    },
    {
     "name": "stdout",
     "output_type": "stream",
     "text": [
      "\b\b\b\b\b\b\b\b\b\b\b\b\b\b\b\b\b\b\b\b\b\b\b\b\b\b\b\b\b\b\b\b\b\b\b\b\b\b\b\b\b\b\b\b\b\b\b\b\b\b\b\b\b\b\b\b\b\r 9696/12153 [======================>.......] - ETA: 6398s"
     ]
    },
    {
     "name": "stdout",
     "output_type": "stream",
     "text": [
      "\b\b\b\b\b\b\b\b\b\b\b\b\b\b\b\b\b\b\b\b\b\b\b\b\b\b\b\b\b\b\b\b\b\b\b\b\b\b\b\b\b\b\b\b\b\b\b\b\b\b\b\b\b\b\b\b\b\r 9712/12153 [======================>.......] - ETA: 6359s"
     ]
    },
    {
     "name": "stdout",
     "output_type": "stream",
     "text": [
      "\b\b\b\b\b\b\b\b\b\b\b\b\b\b\b\b\b\b\b\b\b\b\b\b\b\b\b\b\b\b\b\b\b\b\b\b\b\b\b\b\b\b\b\b\b\b\b\b\b\b\b\b\b\b\b\b\b\r 9728/12153 [=======================>......] - ETA: 6319s"
     ]
    },
    {
     "name": "stdout",
     "output_type": "stream",
     "text": [
      "\b\b\b\b\b\b\b\b\b\b\b\b\b\b\b\b\b\b\b\b\b\b\b\b\b\b\b\b\b\b\b\b\b\b\b\b\b\b\b\b\b\b\b\b\b\b\b\b\b\b\b\b\b\b\b\b\b\r 9744/12153 [=======================>......] - ETA: 6278s"
     ]
    },
    {
     "name": "stdout",
     "output_type": "stream",
     "text": [
      "\b\b\b\b\b\b\b\b\b\b\b\b\b\b\b\b\b\b\b\b\b\b\b\b\b\b\b\b\b\b\b\b\b\b\b\b\b\b\b\b\b\b\b\b\b\b\b\b\b\b\b\b\b\b\b\b\b\r 9760/12153 [=======================>......] - ETA: 6239s"
     ]
    },
    {
     "name": "stdout",
     "output_type": "stream",
     "text": [
      "\b\b\b\b\b\b\b\b\b\b\b\b\b\b\b\b\b\b\b\b\b\b\b\b\b\b\b\b\b\b\b\b\b\b\b\b\b\b\b\b\b\b\b\b\b\b\b\b\b\b\b\b\b\b\b\b\b\r 9776/12153 [=======================>......] - ETA: 6199s"
     ]
    },
    {
     "name": "stdout",
     "output_type": "stream",
     "text": [
      "\b\b\b\b\b\b\b\b\b\b\b\b\b\b\b\b\b\b\b\b\b\b\b\b\b\b\b\b\b\b\b\b\b\b\b\b\b\b\b\b\b\b\b\b\b\b\b\b\b\b\b\b\b\b\b\b\b\r 9792/12153 [=======================>......] - ETA: 6159s"
     ]
    },
    {
     "name": "stdout",
     "output_type": "stream",
     "text": [
      "\b\b\b\b\b\b\b\b\b\b\b\b\b\b\b\b\b\b\b\b\b\b\b\b\b\b\b\b\b\b\b\b\b\b\b\b\b\b\b\b\b\b\b\b\b\b\b\b\b\b\b\b\b\b\b\b\b\r 9808/12153 [=======================>......] - ETA: 6118s"
     ]
    },
    {
     "name": "stdout",
     "output_type": "stream",
     "text": [
      "\b\b\b\b\b\b\b\b\b\b\b\b\b\b\b\b\b\b\b\b\b\b\b\b\b\b\b\b\b\b\b\b\b\b\b\b\b\b\b\b\b\b\b\b\b\b\b\b\b\b\b\b\b\b\b\b\b\r 9824/12153 [=======================>......] - ETA: 6078s"
     ]
    },
    {
     "name": "stdout",
     "output_type": "stream",
     "text": [
      "\b\b\b\b\b\b\b\b\b\b\b\b\b\b\b\b\b\b\b\b\b\b\b\b\b\b\b\b\b\b\b\b\b\b\b\b\b\b\b\b\b\b\b\b\b\b\b\b\b\b\b\b\b\b\b\b\b\r 9840/12153 [=======================>......] - ETA: 6037s"
     ]
    },
    {
     "name": "stdout",
     "output_type": "stream",
     "text": [
      "\b\b\b\b\b\b\b\b\b\b\b\b\b\b\b\b\b\b\b\b\b\b\b\b\b\b\b\b\b\b\b\b\b\b\b\b\b\b\b\b\b\b\b\b\b\b\b\b\b\b\b\b\b\b\b\b\b\r 9856/12153 [=======================>......] - ETA: 5997s"
     ]
    },
    {
     "name": "stdout",
     "output_type": "stream",
     "text": [
      "\b\b\b\b\b\b\b\b\b\b\b\b\b\b\b\b\b\b\b\b\b\b\b\b\b\b\b\b\b\b\b\b\b\b\b\b\b\b\b\b\b\b\b\b\b\b\b\b\b\b\b\b\b\b\b\b\b\r 9872/12153 [=======================>......] - ETA: 5956s"
     ]
    },
    {
     "name": "stdout",
     "output_type": "stream",
     "text": [
      "\b\b\b\b\b\b\b\b\b\b\b\b\b\b\b\b\b\b\b\b\b\b\b\b\b\b\b\b\b\b\b\b\b\b\b\b\b\b\b\b\b\b\b\b\b\b\b\b\b\b\b\b\b\b\b\b\b\r 9888/12153 [=======================>......] - ETA: 5915s"
     ]
    },
    {
     "name": "stdout",
     "output_type": "stream",
     "text": [
      "\b\b\b\b\b\b\b\b\b\b\b\b\b\b\b\b\b\b\b\b\b\b\b\b\b\b\b\b\b\b\b\b\b\b\b\b\b\b\b\b\b\b\b\b\b\b\b\b\b\b\b\b\b\b\b\b\b\r 9904/12153 [=======================>......] - ETA: 5875s"
     ]
    },
    {
     "name": "stdout",
     "output_type": "stream",
     "text": [
      "\b\b\b\b\b\b\b\b\b\b\b\b\b\b\b\b\b\b\b\b\b\b\b\b\b\b\b\b\b\b\b\b\b\b\b\b\b\b\b\b\b\b\b\b\b\b\b\b\b\b\b\b\b\b\b\b\b\r 9920/12153 [=======================>......] - ETA: 5833s"
     ]
    },
    {
     "name": "stdout",
     "output_type": "stream",
     "text": [
      "\b\b\b\b\b\b\b\b\b\b\b\b\b\b\b\b\b\b\b\b\b\b\b\b\b\b\b\b\b\b\b\b\b\b\b\b\b\b\b\b\b\b\b\b\b\b\b\b\b\b\b\b\b\b\b\b\b\r 9936/12153 [=======================>......] - ETA: 5791s"
     ]
    },
    {
     "name": "stdout",
     "output_type": "stream",
     "text": [
      "\b\b\b\b\b\b\b\b\b\b\b\b\b\b\b\b\b\b\b\b\b\b\b\b\b\b\b\b\b\b\b\b\b\b\b\b\b\b\b\b\b\b\b\b\b\b\b\b\b\b\b\b\b\b\b\b\b\r 9952/12153 [=======================>......] - ETA: 5749s"
     ]
    },
    {
     "name": "stdout",
     "output_type": "stream",
     "text": [
      "\b\b\b\b\b\b\b\b\b\b\b\b\b\b\b\b\b\b\b\b\b\b\b\b\b\b\b\b\b\b\b\b\b\b\b\b\b\b\b\b\b\b\b\b\b\b\b\b\b\b\b\b\b\b\b\b\b\r 9968/12153 [=======================>......] - ETA: 5707s"
     ]
    },
    {
     "name": "stdout",
     "output_type": "stream",
     "text": [
      "\b\b\b\b\b\b\b\b\b\b\b\b\b\b\b\b\b\b\b\b\b\b\b\b\b\b\b\b\b\b\b\b\b\b\b\b\b\b\b\b\b\b\b\b\b\b\b\b\b\b\b\b\b\b\b\b\b\r 9984/12153 [=======================>......] - ETA: 5665s"
     ]
    },
    {
     "name": "stdout",
     "output_type": "stream",
     "text": [
      "\b\b\b\b\b\b\b\b\b\b\b\b\b\b\b\b\b\b\b\b\b\b\b\b\b\b\b\b\b\b\b\b\b\b\b\b\b\b\b\b\b\b\b\b\b\b\b\b\b\b\b\b\b\b\b\b\b\r10000/12153 [=======================>......] - ETA: 5624s"
     ]
    },
    {
     "name": "stdout",
     "output_type": "stream",
     "text": [
      "\b\b\b\b\b\b\b\b\b\b\b\b\b\b\b\b\b\b\b\b\b\b\b\b\b\b\b\b\b\b\b\b\b\b\b\b\b\b\b\b\b\b\b\b\b\b\b\b\b\b\b\b\b\b\b\b\b\r10016/12153 [=======================>......] - ETA: 5582s"
     ]
    },
    {
     "name": "stdout",
     "output_type": "stream",
     "text": [
      "\b\b\b\b\b\b\b\b\b\b\b\b\b\b\b\b\b\b\b\b\b\b\b\b\b\b\b\b\b\b\b\b\b\b\b\b\b\b\b\b\b\b\b\b\b\b\b\b\b\b\b\b\b\b\b\b\b\r10032/12153 [=======================>......] - ETA: 5540s"
     ]
    },
    {
     "name": "stdout",
     "output_type": "stream",
     "text": [
      "\b\b\b\b\b\b\b\b\b\b\b\b\b\b\b\b\b\b\b\b\b\b\b\b\b\b\b\b\b\b\b\b\b\b\b\b\b\b\b\b\b\b\b\b\b\b\b\b\b\b\b\b\b\b\b\b\b\r10048/12153 [=======================>......] - ETA: 5498s"
     ]
    },
    {
     "name": "stdout",
     "output_type": "stream",
     "text": [
      "\b\b\b\b\b\b\b\b\b\b\b\b\b\b\b\b\b\b\b\b\b\b\b\b\b\b\b\b\b\b\b\b\b\b\b\b\b\b\b\b\b\b\b\b\b\b\b\b\b\b\b\b\b\b\b\b\b\r10064/12153 [=======================>......] - ETA: 5459s"
     ]
    },
    {
     "name": "stdout",
     "output_type": "stream",
     "text": [
      "\b\b\b\b\b\b\b\b\b\b\b\b\b\b\b\b\b\b\b\b\b\b\b\b\b\b\b\b\b\b\b\b\b\b\b\b\b\b\b\b\b\b\b\b\b\b\b\b\b\b\b\b\b\b\b\b\b\r10080/12153 [=======================>......] - ETA: 5418s"
     ]
    },
    {
     "name": "stdout",
     "output_type": "stream",
     "text": [
      "\b\b\b\b\b\b\b\b\b\b\b\b\b\b\b\b\b\b\b\b\b\b\b\b\b\b\b\b\b\b\b\b\b\b\b\b\b\b\b\b\b\b\b\b\b\b\b\b\b\b\b\b\b\b\b\b\b\r10096/12153 [=======================>......] - ETA: 5377s"
     ]
    },
    {
     "name": "stdout",
     "output_type": "stream",
     "text": [
      "\b\b\b\b\b\b\b\b\b\b\b\b\b\b\b\b\b\b\b\b\b\b\b\b\b\b\b\b\b\b\b\b\b\b\b\b\b\b\b\b\b\b\b\b\b\b\b\b\b\b\b\b\b\b\b\b\b\r10112/12153 [=======================>......] - ETA: 5336s"
     ]
    },
    {
     "name": "stdout",
     "output_type": "stream",
     "text": [
      "\b\b\b\b\b\b\b\b\b\b\b\b\b\b\b\b\b\b\b\b\b\b\b\b\b\b\b\b\b\b\b\b\b\b\b\b\b\b\b\b\b\b\b\b\b\b\b\b\b\b\b\b\b\b\b\b\b\r10128/12153 [========================>.....] - ETA: 5296s"
     ]
    },
    {
     "name": "stdout",
     "output_type": "stream",
     "text": [
      "\b\b\b\b\b\b\b\b\b\b\b\b\b\b\b\b\b\b\b\b\b\b\b\b\b\b\b\b\b\b\b\b\b\b\b\b\b\b\b\b\b\b\b\b\b\b\b\b\b\b\b\b\b\b\b\b\b\r10144/12153 [========================>.....] - ETA: 5255s"
     ]
    },
    {
     "name": "stdout",
     "output_type": "stream",
     "text": [
      "\b\b\b\b\b\b\b\b\b\b\b\b\b\b\b\b\b\b\b\b\b\b\b\b\b\b\b\b\b\b\b\b\b\b\b\b\b\b\b\b\b\b\b\b\b\b\b\b\b\b\b\b\b\b\b\b\b\r10160/12153 [========================>.....] - ETA: 5215s"
     ]
    },
    {
     "name": "stdout",
     "output_type": "stream",
     "text": [
      "\b\b\b\b\b\b\b\b\b\b\b\b\b\b\b\b\b\b\b\b\b\b\b\b\b\b\b\b\b\b\b\b\b\b\b\b\b\b\b\b\b\b\b\b\b\b\b\b\b\b\b\b\b\b\b\b\b\r10176/12153 [========================>.....] - ETA: 5173s"
     ]
    },
    {
     "name": "stdout",
     "output_type": "stream",
     "text": [
      "\b\b\b\b\b\b\b\b\b\b\b\b\b\b\b\b\b\b\b\b\b\b\b\b\b\b\b\b\b\b\b\b\b\b\b\b\b\b\b\b\b\b\b\b\b\b\b\b\b\b\b\b\b\b\b\b\b\r10192/12153 [========================>.....] - ETA: 5131s"
     ]
    },
    {
     "name": "stdout",
     "output_type": "stream",
     "text": [
      "\b\b\b\b\b\b\b\b\b\b\b\b\b\b\b\b\b\b\b\b\b\b\b\b\b\b\b\b\b\b\b\b\b\b\b\b\b\b\b\b\b\b\b\b\b\b\b\b\b\b\b\b\b\b\b\b\b\r10208/12153 [========================>.....] - ETA: 5090s"
     ]
    },
    {
     "name": "stdout",
     "output_type": "stream",
     "text": [
      "\b\b\b\b\b\b\b\b\b\b\b\b\b\b\b\b\b\b\b\b\b\b\b\b\b\b\b\b\b\b\b\b\b\b\b\b\b\b\b\b\b\b\b\b\b\b\b\b\b\b\b\b\b\b\b\b\b\r10224/12153 [========================>.....] - ETA: 5049s"
     ]
    },
    {
     "name": "stdout",
     "output_type": "stream",
     "text": [
      "\b\b\b\b\b\b\b\b\b\b\b\b\b\b\b\b\b\b\b\b\b\b\b\b\b\b\b\b\b\b\b\b\b\b\b\b\b\b\b\b\b\b\b\b\b\b\b\b\b\b\b\b\b\b\b\b\b\r10240/12153 [========================>.....] - ETA: 5007s"
     ]
    },
    {
     "name": "stdout",
     "output_type": "stream",
     "text": [
      "\b\b\b\b\b\b\b\b\b\b\b\b\b\b\b\b\b\b\b\b\b\b\b\b\b\b\b\b\b\b\b\b\b\b\b\b\b\b\b\b\b\b\b\b\b\b\b\b\b\b\b\b\b\b\b\b\b\r10256/12153 [========================>.....] - ETA: 4965s"
     ]
    },
    {
     "name": "stdout",
     "output_type": "stream",
     "text": [
      "\b\b\b\b\b\b\b\b\b\b\b\b\b\b\b\b\b\b\b\b\b\b\b\b\b\b\b\b\b\b\b\b\b\b\b\b\b\b\b\b\b\b\b\b\b\b\b\b\b\b\b\b\b\b\b\b\b\r10272/12153 [========================>.....] - ETA: 4923s"
     ]
    },
    {
     "name": "stdout",
     "output_type": "stream",
     "text": [
      "\b\b\b\b\b\b\b\b\b\b\b\b\b\b\b\b\b\b\b\b\b\b\b\b\b\b\b\b\b\b\b\b\b\b\b\b\b\b\b\b\b\b\b\b\b\b\b\b\b\b\b\b\b\b\b\b\b\r10288/12153 [========================>.....] - ETA: 4881s"
     ]
    },
    {
     "name": "stdout",
     "output_type": "stream",
     "text": [
      "\b\b\b\b\b\b\b\b\b\b\b\b\b\b\b\b\b\b\b\b\b\b\b\b\b\b\b\b\b\b\b\b\b\b\b\b\b\b\b\b\b\b\b\b\b\b\b\b\b\b\b\b\b\b\b\b\b\r10304/12153 [========================>.....] - ETA: 4841s"
     ]
    },
    {
     "name": "stdout",
     "output_type": "stream",
     "text": [
      "\b\b\b\b\b\b\b\b\b\b\b\b\b\b\b\b\b\b\b\b\b\b\b\b\b\b\b\b\b\b\b\b\b\b\b\b\b\b\b\b\b\b\b\b\b\b\b\b\b\b\b\b\b\b\b\b\b\r10320/12153 [========================>.....] - ETA: 4800s"
     ]
    },
    {
     "name": "stdout",
     "output_type": "stream",
     "text": [
      "\b\b\b\b\b\b\b\b\b\b\b\b\b\b\b\b\b\b\b\b\b\b\b\b\b\b\b\b\b\b\b\b\b\b\b\b\b\b\b\b\b\b\b\b\b\b\b\b\b\b\b\b\b\b\b\b\b\r10336/12153 [========================>.....] - ETA: 4759s"
     ]
    },
    {
     "name": "stdout",
     "output_type": "stream",
     "text": [
      "\b\b\b\b\b\b\b\b\b\b\b\b\b\b\b\b\b\b\b\b\b\b\b\b\b\b\b\b\b\b\b\b\b\b\b\b\b\b\b\b\b\b\b\b\b\b\b\b\b\b\b\b\b\b\b\b\b\r10352/12153 [========================>.....] - ETA: 4720s"
     ]
    },
    {
     "name": "stdout",
     "output_type": "stream",
     "text": [
      "\b\b\b\b\b\b\b\b\b\b\b\b\b\b\b\b\b\b\b\b\b\b\b\b\b\b\b\b\b\b\b\b\b\b\b\b\b\b\b\b\b\b\b\b\b\b\b\b\b\b\b\b\b\b\b\b\b\r10368/12153 [========================>.....] - ETA: 4678s"
     ]
    },
    {
     "name": "stdout",
     "output_type": "stream",
     "text": [
      "\b\b\b\b\b\b\b\b\b\b\b\b\b\b\b\b\b\b\b\b\b\b\b\b\b\b\b\b\b\b\b\b\b\b\b\b\b\b\b\b\b\b\b\b\b\b\b\b\b\b\b\b\b\b\b\b\b\r10384/12153 [========================>.....] - ETA: 4638s"
     ]
    },
    {
     "name": "stdout",
     "output_type": "stream",
     "text": [
      "\b\b\b\b\b\b\b\b\b\b\b\b\b\b\b\b\b\b\b\b\b\b\b\b\b\b\b\b\b\b\b\b\b\b\b\b\b\b\b\b\b\b\b\b\b\b\b\b\b\b\b\b\b\b\b\b\b\r10400/12153 [========================>.....] - ETA: 4598s"
     ]
    },
    {
     "name": "stdout",
     "output_type": "stream",
     "text": [
      "\b\b\b\b\b\b\b\b\b\b\b\b\b\b\b\b\b\b\b\b\b\b\b\b\b\b\b\b\b\b\b\b\b\b\b\b\b\b\b\b\b\b\b\b\b\b\b\b\b\b\b\b\b\b\b\b\b\r10416/12153 [========================>.....] - ETA: 4557s"
     ]
    },
    {
     "name": "stdout",
     "output_type": "stream",
     "text": [
      "\b\b\b\b\b\b\b\b\b\b\b\b\b\b\b\b\b\b\b\b\b\b\b\b\b\b\b\b\b\b\b\b\b\b\b\b\b\b\b\b\b\b\b\b\b\b\b\b\b\b\b\b\b\b\b\b\b\r10432/12153 [========================>.....] - ETA: 4516s"
     ]
    },
    {
     "name": "stdout",
     "output_type": "stream",
     "text": [
      "\b\b\b\b\b\b\b\b\b\b\b\b\b\b\b\b\b\b\b\b\b\b\b\b\b\b\b\b\b\b\b\b\b\b\b\b\b\b\b\b\b\b\b\b\b\b\b\b\b\b\b\b\b\b\b\b\b\r10448/12153 [========================>.....] - ETA: 4475s"
     ]
    },
    {
     "name": "stdout",
     "output_type": "stream",
     "text": [
      "\b\b\b\b\b\b\b\b\b\b\b\b\b\b\b\b\b\b\b\b\b\b\b\b\b\b\b\b\b\b\b\b\b\b\b\b\b\b\b\b\b\b\b\b\b\b\b\b\b\b\b\b\b\b\b\b\b\r10464/12153 [========================>.....] - ETA: 4433s"
     ]
    },
    {
     "name": "stdout",
     "output_type": "stream",
     "text": [
      "\b\b\b\b\b\b\b\b\b\b\b\b\b\b\b\b\b\b\b\b\b\b\b\b\b\b\b\b\b\b\b\b\b\b\b\b\b\b\b\b\b\b\b\b\b\b\b\b\b\b\b\b\b\b\b\b\b\r10480/12153 [========================>.....] - ETA: 4391s"
     ]
    },
    {
     "name": "stdout",
     "output_type": "stream",
     "text": [
      "\b\b\b\b\b\b\b\b\b\b\b\b\b\b\b\b\b\b\b\b\b\b\b\b\b\b\b\b\b\b\b\b\b\b\b\b\b\b\b\b\b\b\b\b\b\b\b\b\b\b\b\b\b\b\b\b\b\r10496/12153 [========================>.....] - ETA: 4350s"
     ]
    },
    {
     "name": "stdout",
     "output_type": "stream",
     "text": [
      "\b\b\b\b\b\b\b\b\b\b\b\b\b\b\b\b\b\b\b\b\b\b\b\b\b\b\b\b\b\b\b\b\b\b\b\b\b\b\b\b\b\b\b\b\b\b\b\b\b\b\b\b\b\b\b\b\b\r10512/12153 [========================>.....] - ETA: 4309s"
     ]
    },
    {
     "name": "stdout",
     "output_type": "stream",
     "text": [
      "\b\b\b\b\b\b\b\b\b\b\b\b\b\b\b\b\b\b\b\b\b\b\b\b\b\b\b\b\b\b\b\b\b\b\b\b\b\b\b\b\b\b\b\b\b\b\b\b\b\b\b\b\b\b\b\b\b\r10528/12153 [========================>.....] - ETA: 4268s"
     ]
    },
    {
     "name": "stdout",
     "output_type": "stream",
     "text": [
      "\b\b\b\b\b\b\b\b\b\b\b\b\b\b\b\b\b\b\b\b\b\b\b\b\b\b\b\b\b\b\b\b\b\b\b\b\b\b\b\b\b\b\b\b\b\b\b\b\b\b\b\b\b\b\b\b\b\r10544/12153 [=========================>....] - ETA: 4227s"
     ]
    },
    {
     "name": "stdout",
     "output_type": "stream",
     "text": [
      "\b\b\b\b\b\b\b\b\b\b\b\b\b\b\b\b\b\b\b\b\b\b\b\b\b\b\b\b\b\b\b\b\b\b\b\b\b\b\b\b\b\b\b\b\b\b\b\b\b\b\b\b\b\b\b\b\b\r10560/12153 [=========================>....] - ETA: 4187s"
     ]
    },
    {
     "name": "stdout",
     "output_type": "stream",
     "text": [
      "\b\b\b\b\b\b\b\b\b\b\b\b\b\b\b\b\b\b\b\b\b\b\b\b\b\b\b\b\b\b\b\b\b\b\b\b\b\b\b\b\b\b\b\b\b\b\b\b\b\b\b\b\b\b\b\b\b\r10576/12153 [=========================>....] - ETA: 4146s"
     ]
    },
    {
     "name": "stdout",
     "output_type": "stream",
     "text": [
      "\b\b\b\b\b\b\b\b\b\b\b\b\b\b\b\b\b\b\b\b\b\b\b\b\b\b\b\b\b\b\b\b\b\b\b\b\b\b\b\b\b\b\b\b\b\b\b\b\b\b\b\b\b\b\b\b\b\r10592/12153 [=========================>....] - ETA: 4105s"
     ]
    },
    {
     "name": "stdout",
     "output_type": "stream",
     "text": [
      "\b\b\b\b\b\b\b\b\b\b\b\b\b\b\b\b\b\b\b\b\b\b\b\b\b\b\b\b\b\b\b\b\b\b\b\b\b\b\b\b\b\b\b\b\b\b\b\b\b\b\b\b\b\b\b\b\b\r10608/12153 [=========================>....] - ETA: 4064s"
     ]
    },
    {
     "name": "stdout",
     "output_type": "stream",
     "text": [
      "\b\b\b\b\b\b\b\b\b\b\b\b\b\b\b\b\b\b\b\b\b\b\b\b\b\b\b\b\b\b\b\b\b\b\b\b\b\b\b\b\b\b\b\b\b\b\b\b\b\b\b\b\b\b\b\b\b\r10624/12153 [=========================>....] - ETA: 4022s"
     ]
    },
    {
     "name": "stdout",
     "output_type": "stream",
     "text": [
      "\b\b\b\b\b\b\b\b\b\b\b\b\b\b\b\b\b\b\b\b\b\b\b\b\b\b\b\b\b\b\b\b\b\b\b\b\b\b\b\b\b\b\b\b\b\b\b\b\b\b\b\b\b\b\b\b\b\r10640/12153 [=========================>....] - ETA: 3980s"
     ]
    },
    {
     "name": "stdout",
     "output_type": "stream",
     "text": [
      "\b\b\b\b\b\b\b\b\b\b\b\b\b\b\b\b\b\b\b\b\b\b\b\b\b\b\b\b\b\b\b\b\b\b\b\b\b\b\b\b\b\b\b\b\b\b\b\b\b\b\b\b\b\b\b\b\b\r10656/12153 [=========================>....] - ETA: 3938s"
     ]
    },
    {
     "name": "stdout",
     "output_type": "stream",
     "text": [
      "\b\b\b\b\b\b\b\b\b\b\b\b\b\b\b\b\b\b\b\b\b\b\b\b\b\b\b\b\b\b\b\b\b\b\b\b\b\b\b\b\b\b\b\b\b\b\b\b\b\b\b\b\b\b\b\b\b\r10672/12153 [=========================>....] - ETA: 3896s"
     ]
    },
    {
     "name": "stdout",
     "output_type": "stream",
     "text": [
      "\b\b\b\b\b\b\b\b\b\b\b\b\b\b\b\b\b\b\b\b\b\b\b\b\b\b\b\b\b\b\b\b\b\b\b\b\b\b\b\b\b\b\b\b\b\b\b\b\b\b\b\b\b\b\b\b\b\r10688/12153 [=========================>....] - ETA: 3855s"
     ]
    },
    {
     "name": "stdout",
     "output_type": "stream",
     "text": [
      "\b\b\b\b\b\b\b\b\b\b\b\b\b\b\b\b\b\b\b\b\b\b\b\b\b\b\b\b\b\b\b\b\b\b\b\b\b\b\b\b\b\b\b\b\b\b\b\b\b\b\b\b\b\b\b\b\b\r10704/12153 [=========================>....] - ETA: 3813s"
     ]
    },
    {
     "name": "stdout",
     "output_type": "stream",
     "text": [
      "\b\b\b\b\b\b\b\b\b\b\b\b\b\b\b\b\b\b\b\b\b\b\b\b\b\b\b\b\b\b\b\b\b\b\b\b\b\b\b\b\b\b\b\b\b\b\b\b\b\b\b\b\b\b\b\b\b\r10720/12153 [=========================>....] - ETA: 3771s"
     ]
    },
    {
     "name": "stdout",
     "output_type": "stream",
     "text": [
      "\b\b\b\b\b\b\b\b\b\b\b\b\b\b\b\b\b\b\b\b\b\b\b\b\b\b\b\b\b\b\b\b\b\b\b\b\b\b\b\b\b\b\b\b\b\b\b\b\b\b\b\b\b\b\b\b\b\r10736/12153 [=========================>....] - ETA: 3731s"
     ]
    },
    {
     "name": "stdout",
     "output_type": "stream",
     "text": [
      "\b\b\b\b\b\b\b\b\b\b\b\b\b\b\b\b\b\b\b\b\b\b\b\b\b\b\b\b\b\b\b\b\b\b\b\b\b\b\b\b\b\b\b\b\b\b\b\b\b\b\b\b\b\b\b\b\b\r10752/12153 [=========================>....] - ETA: 3689s"
     ]
    },
    {
     "name": "stdout",
     "output_type": "stream",
     "text": [
      "\b\b\b\b\b\b\b\b\b\b\b\b\b\b\b\b\b\b\b\b\b\b\b\b\b\b\b\b\b\b\b\b\b\b\b\b\b\b\b\b\b\b\b\b\b\b\b\b\b\b\b\b\b\b\b\b\b\r10768/12153 [=========================>....] - ETA: 3649s"
     ]
    },
    {
     "name": "stdout",
     "output_type": "stream",
     "text": [
      "\b\b\b\b\b\b\b\b\b\b\b\b\b\b\b\b\b\b\b\b\b\b\b\b\b\b\b\b\b\b\b\b\b\b\b\b\b\b\b\b\b\b\b\b\b\b\b\b\b\b\b\b\b\b\b\b\b\r10784/12153 [=========================>....] - ETA: 3608s"
     ]
    },
    {
     "name": "stdout",
     "output_type": "stream",
     "text": [
      "\b\b\b\b\b\b\b\b\b\b\b\b\b\b\b\b\b\b\b\b\b\b\b\b\b\b\b\b\b\b\b\b\b\b\b\b\b\b\b\b\b\b\b\b\b\b\b\b\b\b\b\b\b\b\b\b\b\r10800/12153 [=========================>....] - ETA: 3566s"
     ]
    },
    {
     "name": "stdout",
     "output_type": "stream",
     "text": [
      "\b\b\b\b\b\b\b\b\b\b\b\b\b\b\b\b\b\b\b\b\b\b\b\b\b\b\b\b\b\b\b\b\b\b\b\b\b\b\b\b\b\b\b\b\b\b\b\b\b\b\b\b\b\b\b\b\b\r10816/12153 [=========================>....] - ETA: 3526s"
     ]
    },
    {
     "name": "stdout",
     "output_type": "stream",
     "text": [
      "\b\b\b\b\b\b\b\b\b\b\b\b\b\b\b\b\b\b\b\b\b\b\b\b\b\b\b\b\b\b\b\b\b\b\b\b\b\b\b\b\b\b\b\b\b\b\b\b\b\b\b\b\b\b\b\b\b\r10832/12153 [=========================>....] - ETA: 3485s"
     ]
    },
    {
     "name": "stdout",
     "output_type": "stream",
     "text": [
      "\b\b\b\b\b\b\b\b\b\b\b\b\b\b\b\b\b\b\b\b\b\b\b\b\b\b\b\b\b\b\b\b\b\b\b\b\b\b\b\b\b\b\b\b\b\b\b\b\b\b\b\b\b\b\b\b\b\r10848/12153 [=========================>....] - ETA: 3445s"
     ]
    },
    {
     "name": "stdout",
     "output_type": "stream",
     "text": [
      "\b\b\b\b\b\b\b\b\b\b\b\b\b\b\b\b\b\b\b\b\b\b\b\b\b\b\b\b\b\b\b\b\b\b\b\b\b\b\b\b\b\b\b\b\b\b\b\b\b\b\b\b\b\b\b\b\b\r10864/12153 [=========================>....] - ETA: 3403s"
     ]
    },
    {
     "name": "stdout",
     "output_type": "stream",
     "text": [
      "\b\b\b\b\b\b\b\b\b\b\b\b\b\b\b\b\b\b\b\b\b\b\b\b\b\b\b\b\b\b\b\b\b\b\b\b\b\b\b\b\b\b\b\b\b\b\b\b\b\b\b\b\b\b\b\b\b\r10880/12153 [=========================>....] - ETA: 3362s"
     ]
    },
    {
     "name": "stdout",
     "output_type": "stream",
     "text": [
      "\b\b\b\b\b\b\b\b\b\b\b\b\b\b\b\b\b\b\b\b\b\b\b\b\b\b\b\b\b\b\b\b\b\b\b\b\b\b\b\b\b\b\b\b\b\b\b\b\b\b\b\b\b\b\b\b\b\r10896/12153 [=========================>....] - ETA: 3321s"
     ]
    },
    {
     "name": "stdout",
     "output_type": "stream",
     "text": [
      "\b\b\b\b\b\b\b\b\b\b\b\b\b\b\b\b\b\b\b\b\b\b\b\b\b\b\b\b\b\b\b\b\b\b\b\b\b\b\b\b\b\b\b\b\b\b\b\b\b\b\b\b\b\b\b\b\b\r10912/12153 [=========================>....] - ETA: 3280s"
     ]
    },
    {
     "name": "stdout",
     "output_type": "stream",
     "text": [
      "\b\b\b\b\b\b\b\b\b\b\b\b\b\b\b\b\b\b\b\b\b\b\b\b\b\b\b\b\b\b\b\b\b\b\b\b\b\b\b\b\b\b\b\b\b\b\b\b\b\b\b\b\b\b\b\b\b\r10928/12153 [=========================>....] - ETA: 3238s"
     ]
    },
    {
     "name": "stdout",
     "output_type": "stream",
     "text": [
      "\b\b\b\b\b\b\b\b\b\b\b\b\b\b\b\b\b\b\b\b\b\b\b\b\b\b\b\b\b\b\b\b\b\b\b\b\b\b\b\b\b\b\b\b\b\b\b\b\b\b\b\b\b\b\b\b\b\r10944/12153 [==========================>...] - ETA: 3196s"
     ]
    },
    {
     "name": "stdout",
     "output_type": "stream",
     "text": [
      "\b\b\b\b\b\b\b\b\b\b\b\b\b\b\b\b\b\b\b\b\b\b\b\b\b\b\b\b\b\b\b\b\b\b\b\b\b\b\b\b\b\b\b\b\b\b\b\b\b\b\b\b\b\b\b\b\b\r10960/12153 [==========================>...] - ETA: 3154s"
     ]
    },
    {
     "name": "stdout",
     "output_type": "stream",
     "text": [
      "\b\b\b\b\b\b\b\b\b\b\b\b\b\b\b\b\b\b\b\b\b\b\b\b\b\b\b\b\b\b\b\b\b\b\b\b\b\b\b\b\b\b\b\b\b\b\b\b\b\b\b\b\b\b\b\b\b\r10976/12153 [==========================>...] - ETA: 3112s"
     ]
    },
    {
     "name": "stdout",
     "output_type": "stream",
     "text": [
      "\b\b\b\b\b\b\b\b\b\b\b\b\b\b\b\b\b\b\b\b\b\b\b\b\b\b\b\b\b\b\b\b\b\b\b\b\b\b\b\b\b\b\b\b\b\b\b\b\b\b\b\b\b\b\b\b\b\r10992/12153 [==========================>...] - ETA: 3070s"
     ]
    },
    {
     "name": "stdout",
     "output_type": "stream",
     "text": [
      "\b\b\b\b\b\b\b\b\b\b\b\b\b\b\b\b\b\b\b\b\b\b\b\b\b\b\b\b\b\b\b\b\b\b\b\b\b\b\b\b\b\b\b\b\b\b\b\b\b\b\b\b\b\b\b\b\b\r11008/12153 [==========================>...] - ETA: 3028s"
     ]
    },
    {
     "name": "stdout",
     "output_type": "stream",
     "text": [
      "\b\b\b\b\b\b\b\b\b\b\b\b\b\b\b\b\b\b\b\b\b\b\b\b\b\b\b\b\b\b\b\b\b\b\b\b\b\b\b\b\b\b\b\b\b\b\b\b\b\b\b\b\b\b\b\b\b\r11024/12153 [==========================>...] - ETA: 2985s"
     ]
    },
    {
     "name": "stdout",
     "output_type": "stream",
     "text": [
      "\b\b\b\b\b\b\b\b\b\b\b\b\b\b\b\b\b\b\b\b\b\b\b\b\b\b\b\b\b\b\b\b\b\b\b\b\b\b\b\b\b\b\b\b\b\b\b\b\b\b\b\b\b\b\b\b\b\r11040/12153 [==========================>...] - ETA: 2943s"
     ]
    },
    {
     "name": "stdout",
     "output_type": "stream",
     "text": [
      "\b\b\b\b\b\b\b\b\b\b\b\b\b\b\b\b\b\b\b\b\b\b\b\b\b\b\b\b\b\b\b\b\b\b\b\b\b\b\b\b\b\b\b\b\b\b\b\b\b\b\b\b\b\b\b\b\b\r11056/12153 [==========================>...] - ETA: 2901s"
     ]
    },
    {
     "name": "stdout",
     "output_type": "stream",
     "text": [
      "\b\b\b\b\b\b\b\b\b\b\b\b\b\b\b\b\b\b\b\b\b\b\b\b\b\b\b\b\b\b\b\b\b\b\b\b\b\b\b\b\b\b\b\b\b\b\b\b\b\b\b\b\b\b\b\b\b\r11072/12153 [==========================>...] - ETA: 2859s"
     ]
    },
    {
     "name": "stdout",
     "output_type": "stream",
     "text": [
      "\b\b\b\b\b\b\b\b\b\b\b\b\b\b\b\b\b\b\b\b\b\b\b\b\b\b\b\b\b\b\b\b\b\b\b\b\b\b\b\b\b\b\b\b\b\b\b\b\b\b\b\b\b\b\b\b\b\r11088/12153 [==========================>...] - ETA: 2817s"
     ]
    },
    {
     "name": "stdout",
     "output_type": "stream",
     "text": [
      "\b\b\b\b\b\b\b\b\b\b\b\b\b\b\b\b\b\b\b\b\b\b\b\b\b\b\b\b\b\b\b\b\b\b\b\b\b\b\b\b\b\b\b\b\b\b\b\b\b\b\b\b\b\b\b\b\b\r11104/12153 [==========================>...] - ETA: 2775s"
     ]
    },
    {
     "name": "stdout",
     "output_type": "stream",
     "text": [
      "\b\b\b\b\b\b\b\b\b\b\b\b\b\b\b\b\b\b\b\b\b\b\b\b\b\b\b\b\b\b\b\b\b\b\b\b\b\b\b\b\b\b\b\b\b\b\b\b\b\b\b\b\b\b\b\b\b\r11120/12153 [==========================>...] - ETA: 2733s"
     ]
    },
    {
     "name": "stdout",
     "output_type": "stream",
     "text": [
      "\b\b\b\b\b\b\b\b\b\b\b\b\b\b\b\b\b\b\b\b\b\b\b\b\b\b\b\b\b\b\b\b\b\b\b\b\b\b\b\b\b\b\b\b\b\b\b\b\b\b\b\b\b\b\b\b\b\r11136/12153 [==========================>...] - ETA: 2691s"
     ]
    },
    {
     "name": "stdout",
     "output_type": "stream",
     "text": [
      "\b\b\b\b\b\b\b\b\b\b\b\b\b\b\b\b\b\b\b\b\b\b\b\b\b\b\b\b\b\b\b\b\b\b\b\b\b\b\b\b\b\b\b\b\b\b\b\b\b\b\b\b\b\b\b\b\b\r11152/12153 [==========================>...] - ETA: 2649s"
     ]
    },
    {
     "name": "stdout",
     "output_type": "stream",
     "text": [
      "\b\b\b\b\b\b\b\b\b\b\b\b\b\b\b\b\b\b\b\b\b\b\b\b\b\b\b\b\b\b\b\b\b\b\b\b\b\b\b\b\b\b\b\b\b\b\b\b\b\b\b\b\b\b\b\b\b\r11168/12153 [==========================>...] - ETA: 2606s"
     ]
    },
    {
     "name": "stdout",
     "output_type": "stream",
     "text": [
      "\b\b\b\b\b\b\b\b\b\b\b\b\b\b\b\b\b\b\b\b\b\b\b\b\b\b\b\b\b\b\b\b\b\b\b\b\b\b\b\b\b\b\b\b\b\b\b\b\b\b\b\b\b\b\b\b\b\r11184/12153 [==========================>...] - ETA: 2564s"
     ]
    },
    {
     "name": "stdout",
     "output_type": "stream",
     "text": [
      "\b\b\b\b\b\b\b\b\b\b\b\b\b\b\b\b\b\b\b\b\b\b\b\b\b\b\b\b\b\b\b\b\b\b\b\b\b\b\b\b\b\b\b\b\b\b\b\b\b\b\b\b\b\b\b\b\b\r11200/12153 [==========================>...] - ETA: 2522s"
     ]
    },
    {
     "name": "stdout",
     "output_type": "stream",
     "text": [
      "\b\b\b\b\b\b\b\b\b\b\b\b\b\b\b\b\b\b\b\b\b\b\b\b\b\b\b\b\b\b\b\b\b\b\b\b\b\b\b\b\b\b\b\b\b\b\b\b\b\b\b\b\b\b\b\b\b\r11216/12153 [==========================>...] - ETA: 2479s"
     ]
    },
    {
     "name": "stdout",
     "output_type": "stream",
     "text": [
      "\b\b\b\b\b\b\b\b\b\b\b\b\b\b\b\b\b\b\b\b\b\b\b\b\b\b\b\b\b\b\b\b\b\b\b\b\b\b\b\b\b\b\b\b\b\b\b\b\b\b\b\b\b\b\b\b\b\r11232/12153 [==========================>...] - ETA: 2437s"
     ]
    },
    {
     "name": "stdout",
     "output_type": "stream",
     "text": [
      "\b\b\b\b\b\b\b\b\b\b\b\b\b\b\b\b\b\b\b\b\b\b\b\b\b\b\b\b\b\b\b\b\b\b\b\b\b\b\b\b\b\b\b\b\b\b\b\b\b\b\b\b\b\b\b\b\b\r11248/12153 [==========================>...] - ETA: 2395s"
     ]
    },
    {
     "name": "stdout",
     "output_type": "stream",
     "text": [
      "\b\b\b\b\b\b\b\b\b\b\b\b\b\b\b\b\b\b\b\b\b\b\b\b\b\b\b\b\b\b\b\b\b\b\b\b\b\b\b\b\b\b\b\b\b\b\b\b\b\b\b\b\b\b\b\b\b\r11264/12153 [==========================>...] - ETA: 2354s"
     ]
    },
    {
     "name": "stdout",
     "output_type": "stream",
     "text": [
      "\b\b\b\b\b\b\b\b\b\b\b\b\b\b\b\b\b\b\b\b\b\b\b\b\b\b\b\b\b\b\b\b\b\b\b\b\b\b\b\b\b\b\b\b\b\b\b\b\b\b\b\b\b\b\b\b\b\r11280/12153 [==========================>...] - ETA: 2311s"
     ]
    },
    {
     "name": "stdout",
     "output_type": "stream",
     "text": [
      "\b\b\b\b\b\b\b\b\b\b\b\b\b\b\b\b\b\b\b\b\b\b\b\b\b\b\b\b\b\b\b\b\b\b\b\b\b\b\b\b\b\b\b\b\b\b\b\b\b\b\b\b\b\b\b\b\b\r11296/12153 [==========================>...] - ETA: 2269s"
     ]
    },
    {
     "name": "stdout",
     "output_type": "stream",
     "text": [
      "\b\b\b\b\b\b\b\b\b\b\b\b\b\b\b\b\b\b\b\b\b\b\b\b\b\b\b\b\b\b\b\b\b\b\b\b\b\b\b\b\b\b\b\b\b\b\b\b\b\b\b\b\b\b\b\b\b\r11312/12153 [==========================>...] - ETA: 2228s"
     ]
    },
    {
     "name": "stdout",
     "output_type": "stream",
     "text": [
      "\b\b\b\b\b\b\b\b\b\b\b\b\b\b\b\b\b\b\b\b\b\b\b\b\b\b\b\b\b\b\b\b\b\b\b\b\b\b\b\b\b\b\b\b\b\b\b\b\b\b\b\b\b\b\b\b\b\r11328/12153 [==========================>...] - ETA: 2186s"
     ]
    },
    {
     "name": "stdout",
     "output_type": "stream",
     "text": [
      "\b\b\b\b\b\b\b\b\b\b\b\b\b\b\b\b\b\b\b\b\b\b\b\b\b\b\b\b\b\b\b\b\b\b\b\b\b\b\b\b\b\b\b\b\b\b\b\b\b\b\b\b\b\b\b\b\b\r11344/12153 [===========================>..] - ETA: 2144s"
     ]
    },
    {
     "name": "stdout",
     "output_type": "stream",
     "text": [
      "\b\b\b\b\b\b\b\b\b\b\b\b\b\b\b\b\b\b\b\b\b\b\b\b\b\b\b\b\b\b\b\b\b\b\b\b\b\b\b\b\b\b\b\b\b\b\b\b\b\b\b\b\b\b\b\b\b\r11360/12153 [===========================>..] - ETA: 2103s"
     ]
    },
    {
     "name": "stdout",
     "output_type": "stream",
     "text": [
      "\b\b\b\b\b\b\b\b\b\b\b\b\b\b\b\b\b\b\b\b\b\b\b\b\b\b\b\b\b\b\b\b\b\b\b\b\b\b\b\b\b\b\b\b\b\b\b\b\b\b\b\b\b\b\b\b\b\r11376/12153 [===========================>..] - ETA: 2061s"
     ]
    },
    {
     "name": "stdout",
     "output_type": "stream",
     "text": [
      "\b\b\b\b\b\b\b\b\b\b\b\b\b\b\b\b\b\b\b\b\b\b\b\b\b\b\b\b\b\b\b\b\b\b\b\b\b\b\b\b\b\b\b\b\b\b\b\b\b\b\b\b\b\b\b\b\b\r11392/12153 [===========================>..] - ETA: 2018s"
     ]
    },
    {
     "name": "stdout",
     "output_type": "stream",
     "text": [
      "\b\b\b\b\b\b\b\b\b\b\b\b\b\b\b\b\b\b\b\b\b\b\b\b\b\b\b\b\b\b\b\b\b\b\b\b\b\b\b\b\b\b\b\b\b\b\b\b\b\b\b\b\b\b\b\b\b\r11408/12153 [===========================>..] - ETA: 1976s"
     ]
    },
    {
     "name": "stdout",
     "output_type": "stream",
     "text": [
      "\b\b\b\b\b\b\b\b\b\b\b\b\b\b\b\b\b\b\b\b\b\b\b\b\b\b\b\b\b\b\b\b\b\b\b\b\b\b\b\b\b\b\b\b\b\b\b\b\b\b\b\b\b\b\b\b\b\r11424/12153 [===========================>..] - ETA: 1934s"
     ]
    },
    {
     "name": "stdout",
     "output_type": "stream",
     "text": [
      "\b\b\b\b\b\b\b\b\b\b\b\b\b\b\b\b\b\b\b\b\b\b\b\b\b\b\b\b\b\b\b\b\b\b\b\b\b\b\b\b\b\b\b\b\b\b\b\b\b\b\b\b\b\b\b\b\b\r11440/12153 [===========================>..] - ETA: 1891s"
     ]
    },
    {
     "name": "stdout",
     "output_type": "stream",
     "text": [
      "\b\b\b\b\b\b\b\b\b\b\b\b\b\b\b\b\b\b\b\b\b\b\b\b\b\b\b\b\b\b\b\b\b\b\b\b\b\b\b\b\b\b\b\b\b\b\b\b\b\b\b\b\b\b\b\b\b\r11456/12153 [===========================>..] - ETA: 1849s"
     ]
    },
    {
     "name": "stdout",
     "output_type": "stream",
     "text": [
      "\b\b\b\b\b\b\b\b\b\b\b\b\b\b\b\b\b\b\b\b\b\b\b\b\b\b\b\b\b\b\b\b\b\b\b\b\b\b\b\b\b\b\b\b\b\b\b\b\b\b\b\b\b\b\b\b\b\r11472/12153 [===========================>..] - ETA: 1807s"
     ]
    },
    {
     "name": "stdout",
     "output_type": "stream",
     "text": [
      "\b\b\b\b\b\b\b\b\b\b\b\b\b\b\b\b\b\b\b\b\b\b\b\b\b\b\b\b\b\b\b\b\b\b\b\b\b\b\b\b\b\b\b\b\b\b\b\b\b\b\b\b\b\b\b\b\b\r11488/12153 [===========================>..] - ETA: 1765s"
     ]
    },
    {
     "name": "stdout",
     "output_type": "stream",
     "text": [
      "\b\b\b\b\b\b\b\b\b\b\b\b\b\b\b\b\b\b\b\b\b\b\b\b\b\b\b\b\b\b\b\b\b\b\b\b\b\b\b\b\b\b\b\b\b\b\b\b\b\b\b\b\b\b\b\b\b\r11504/12153 [===========================>..] - ETA: 1722s"
     ]
    },
    {
     "name": "stdout",
     "output_type": "stream",
     "text": [
      "\b\b\b\b\b\b\b\b\b\b\b\b\b\b\b\b\b\b\b\b\b\b\b\b\b\b\b\b\b\b\b\b\b\b\b\b\b\b\b\b\b\b\b\b\b\b\b\b\b\b\b\b\b\b\b\b\b\r11520/12153 [===========================>..] - ETA: 1680s"
     ]
    },
    {
     "name": "stdout",
     "output_type": "stream",
     "text": [
      "\b\b\b\b\b\b\b\b\b\b\b\b\b\b\b\b\b\b\b\b\b\b\b\b\b\b\b\b\b\b\b\b\b\b\b\b\b\b\b\b\b\b\b\b\b\b\b\b\b\b\b\b\b\b\b\b\b\r11536/12153 [===========================>..] - ETA: 1638s"
     ]
    },
    {
     "name": "stdout",
     "output_type": "stream",
     "text": [
      "\b\b\b\b\b\b\b\b\b\b\b\b\b\b\b\b\b\b\b\b\b\b\b\b\b\b\b\b\b\b\b\b\b\b\b\b\b\b\b\b\b\b\b\b\b\b\b\b\b\b\b\b\b\b\b\b\b\r11552/12153 [===========================>..] - ETA: 1595s"
     ]
    },
    {
     "name": "stdout",
     "output_type": "stream",
     "text": [
      "\b\b\b\b\b\b\b\b\b\b\b\b\b\b\b\b\b\b\b\b\b\b\b\b\b\b\b\b\b\b\b\b\b\b\b\b\b\b\b\b\b\b\b\b\b\b\b\b\b\b\b\b\b\b\b\b\b\r11568/12153 [===========================>..] - ETA: 1553s"
     ]
    },
    {
     "name": "stdout",
     "output_type": "stream",
     "text": [
      "\b\b\b\b\b\b\b\b\b\b\b\b\b\b\b\b\b\b\b\b\b\b\b\b\b\b\b\b\b\b\b\b\b\b\b\b\b\b\b\b\b\b\b\b\b\b\b\b\b\b\b\b\b\b\b\b\b\r11584/12153 [===========================>..] - ETA: 1511s"
     ]
    },
    {
     "name": "stdout",
     "output_type": "stream",
     "text": [
      "\b\b\b\b\b\b\b\b\b\b\b\b\b\b\b\b\b\b\b\b\b\b\b\b\b\b\b\b\b\b\b\b\b\b\b\b\b\b\b\b\b\b\b\b\b\b\b\b\b\b\b\b\b\b\b\b\b\r11600/12153 [===========================>..] - ETA: 1469s"
     ]
    },
    {
     "name": "stdout",
     "output_type": "stream",
     "text": [
      "\b\b\b\b\b\b\b\b\b\b\b\b\b\b\b\b\b\b\b\b\b\b\b\b\b\b\b\b\b\b\b\b\b\b\b\b\b\b\b\b\b\b\b\b\b\b\b\b\b\b\b\b\b\b\b\b\b\r11616/12153 [===========================>..] - ETA: 1427s"
     ]
    },
    {
     "name": "stdout",
     "output_type": "stream",
     "text": [
      "\b\b\b\b\b\b\b\b\b\b\b\b\b\b\b\b\b\b\b\b\b\b\b\b\b\b\b\b\b\b\b\b\b\b\b\b\b\b\b\b\b\b\b\b\b\b\b\b\b\b\b\b\b\b\b\b\b\r11632/12153 [===========================>..] - ETA: 1384s"
     ]
    },
    {
     "name": "stdout",
     "output_type": "stream",
     "text": [
      "\b\b\b\b\b\b\b\b\b\b\b\b\b\b\b\b\b\b\b\b\b\b\b\b\b\b\b\b\b\b\b\b\b\b\b\b\b\b\b\b\b\b\b\b\b\b\b\b\b\b\b\b\b\b\b\b\b\r11648/12153 [===========================>..] - ETA: 1342s"
     ]
    },
    {
     "name": "stdout",
     "output_type": "stream",
     "text": [
      "\b\b\b\b\b\b\b\b\b\b\b\b\b\b\b\b\b\b\b\b\b\b\b\b\b\b\b\b\b\b\b\b\b\b\b\b\b\b\b\b\b\b\b\b\b\b\b\b\b\b\b\b\b\b\b\b\b\r11664/12153 [===========================>..] - ETA: 1299s"
     ]
    },
    {
     "name": "stdout",
     "output_type": "stream",
     "text": [
      "\b\b\b\b\b\b\b\b\b\b\b\b\b\b\b\b\b\b\b\b\b\b\b\b\b\b\b\b\b\b\b\b\b\b\b\b\b\b\b\b\b\b\b\b\b\b\b\b\b\b\b\b\b\b\b\b\b\r11680/12153 [===========================>..] - ETA: 1257s"
     ]
    },
    {
     "name": "stdout",
     "output_type": "stream",
     "text": [
      "\b\b\b\b\b\b\b\b\b\b\b\b\b\b\b\b\b\b\b\b\b\b\b\b\b\b\b\b\b\b\b\b\b\b\b\b\b\b\b\b\b\b\b\b\b\b\b\b\b\b\b\b\b\b\b\b\b\r11696/12153 [===========================>..] - ETA: 1214s"
     ]
    },
    {
     "name": "stdout",
     "output_type": "stream",
     "text": [
      "\b\b\b\b\b\b\b\b\b\b\b\b\b\b\b\b\b\b\b\b\b\b\b\b\b\b\b\b\b\b\b\b\b\b\b\b\b\b\b\b\b\b\b\b\b\b\b\b\b\b\b\b\b\b\b\b\b\r11712/12153 [===========================>..] - ETA: 1172s"
     ]
    },
    {
     "name": "stdout",
     "output_type": "stream",
     "text": [
      "\b\b\b\b\b\b\b\b\b\b\b\b\b\b\b\b\b\b\b\b\b\b\b\b\b\b\b\b\b\b\b\b\b\b\b\b\b\b\b\b\b\b\b\b\b\b\b\b\b\b\b\b\b\b\b\b\b\r11728/12153 [===========================>..] - ETA: 1129s"
     ]
    },
    {
     "name": "stdout",
     "output_type": "stream",
     "text": [
      "\b\b\b\b\b\b\b\b\b\b\b\b\b\b\b\b\b\b\b\b\b\b\b\b\b\b\b\b\b\b\b\b\b\b\b\b\b\b\b\b\b\b\b\b\b\b\b\b\b\b\b\b\b\b\b\b\b\r11744/12153 [===========================>..] - ETA: 1087s"
     ]
    },
    {
     "name": "stdout",
     "output_type": "stream",
     "text": [
      "\b\b\b\b\b\b\b\b\b\b\b\b\b\b\b\b\b\b\b\b\b\b\b\b\b\b\b\b\b\b\b\b\b\b\b\b\b\b\b\b\b\b\b\b\b\b\b\b\b\b\b\b\b\b\b\b\b\r11760/12153 [============================>.] - ETA: 1044s"
     ]
    },
    {
     "name": "stdout",
     "output_type": "stream",
     "text": [
      "\b\b\b\b\b\b\b\b\b\b\b\b\b\b\b\b\b\b\b\b\b\b\b\b\b\b\b\b\b\b\b\b\b\b\b\b\b\b\b\b\b\b\b\b\b\b\b\b\b\b\b\b\b\b\b\b\b\r11776/12153 [============================>.] - ETA: 1002s"
     ]
    },
    {
     "name": "stdout",
     "output_type": "stream",
     "text": [
      "\b\b\b\b\b\b\b\b\b\b\b\b\b\b\b\b\b\b\b\b\b\b\b\b\b\b\b\b\b\b\b\b\b\b\b\b\b\b\b\b\b\b\b\b\b\b\b\b\b\b\b\b\b\b\b\b\b\r11792/12153 [============================>.] - ETA: 959s "
     ]
    },
    {
     "name": "stdout",
     "output_type": "stream",
     "text": [
      "\b\b\b\b\b\b\b\b\b\b\b\b\b\b\b\b\b\b\b\b\b\b\b\b\b\b\b\b\b\b\b\b\b\b\b\b\b\b\b\b\b\b\b\b\b\b\b\b\b\b\b\b\b\b\b\b\r11808/12153 [============================>.] - ETA: 917s"
     ]
    },
    {
     "name": "stdout",
     "output_type": "stream",
     "text": [
      "\b\b\b\b\b\b\b\b\b\b\b\b\b\b\b\b\b\b\b\b\b\b\b\b\b\b\b\b\b\b\b\b\b\b\b\b\b\b\b\b\b\b\b\b\b\b\b\b\b\b\b\b\b\b\b\b\r11824/12153 [============================>.] - ETA: 875s"
     ]
    },
    {
     "name": "stdout",
     "output_type": "stream",
     "text": [
      "\b\b\b\b\b\b\b\b\b\b\b\b\b\b\b\b\b\b\b\b\b\b\b\b\b\b\b\b\b\b\b\b\b\b\b\b\b\b\b\b\b\b\b\b\b\b\b\b\b\b\b\b\b\b\b\b\r11840/12153 [============================>.] - ETA: 832s"
     ]
    },
    {
     "name": "stdout",
     "output_type": "stream",
     "text": [
      "\b\b\b\b\b\b\b\b\b\b\b\b\b\b\b\b\b\b\b\b\b\b\b\b\b\b\b\b\b\b\b\b\b\b\b\b\b\b\b\b\b\b\b\b\b\b\b\b\b\b\b\b\b\b\b\b\r11856/12153 [============================>.] - ETA: 790s"
     ]
    },
    {
     "name": "stdout",
     "output_type": "stream",
     "text": [
      "\b\b\b\b\b\b\b\b\b\b\b\b\b\b\b\b\b\b\b\b\b\b\b\b\b\b\b\b\b\b\b\b\b\b\b\b\b\b\b\b\b\b\b\b\b\b\b\b\b\b\b\b\b\b\b\b\r11872/12153 [============================>.] - ETA: 748s"
     ]
    },
    {
     "name": "stdout",
     "output_type": "stream",
     "text": [
      "\b\b\b\b\b\b\b\b\b\b\b\b\b\b\b\b\b\b\b\b\b\b\b\b\b\b\b\b\b\b\b\b\b\b\b\b\b\b\b\b\b\b\b\b\b\b\b\b\b\b\b\b\b\b\b\b\r11888/12153 [============================>.] - ETA: 705s"
     ]
    },
    {
     "name": "stdout",
     "output_type": "stream",
     "text": [
      "\b\b\b\b\b\b\b\b\b\b\b\b\b\b\b\b\b\b\b\b\b\b\b\b\b\b\b\b\b\b\b\b\b\b\b\b\b\b\b\b\b\b\b\b\b\b\b\b\b\b\b\b\b\b\b\b\r11904/12153 [============================>.] - ETA: 663s"
     ]
    },
    {
     "name": "stdout",
     "output_type": "stream",
     "text": [
      "\b\b\b\b\b\b\b\b\b\b\b\b\b\b\b\b\b\b\b\b\b\b\b\b\b\b\b\b\b\b\b\b\b\b\b\b\b\b\b\b\b\b\b\b\b\b\b\b\b\b\b\b\b\b\b\b\r11920/12153 [============================>.] - ETA: 620s"
     ]
    },
    {
     "name": "stdout",
     "output_type": "stream",
     "text": [
      "\b\b\b\b\b\b\b\b\b\b\b\b\b\b\b\b\b\b\b\b\b\b\b\b\b\b\b\b\b\b\b\b\b\b\b\b\b\b\b\b\b\b\b\b\b\b\b\b\b\b\b\b\b\b\b\b\r11936/12153 [============================>.] - ETA: 578s"
     ]
    },
    {
     "name": "stdout",
     "output_type": "stream",
     "text": [
      "\b\b\b\b\b\b\b\b\b\b\b\b\b\b\b\b\b\b\b\b\b\b\b\b\b\b\b\b\b\b\b\b\b\b\b\b\b\b\b\b\b\b\b\b\b\b\b\b\b\b\b\b\b\b\b\b\r11952/12153 [============================>.] - ETA: 535s"
     ]
    },
    {
     "name": "stdout",
     "output_type": "stream",
     "text": [
      "\b\b\b\b\b\b\b\b\b\b\b\b\b\b\b\b\b\b\b\b\b\b\b\b\b\b\b\b\b\b\b\b\b\b\b\b\b\b\b\b\b\b\b\b\b\b\b\b\b\b\b\b\b\b\b\b\r11968/12153 [============================>.] - ETA: 493s"
     ]
    },
    {
     "name": "stdout",
     "output_type": "stream",
     "text": [
      "\b\b\b\b\b\b\b\b\b\b\b\b\b\b\b\b\b\b\b\b\b\b\b\b\b\b\b\b\b\b\b\b\b\b\b\b\b\b\b\b\b\b\b\b\b\b\b\b\b\b\b\b\b\b\b\b\r11984/12153 [============================>.] - ETA: 450s"
     ]
    },
    {
     "name": "stdout",
     "output_type": "stream",
     "text": [
      "\b\b\b\b\b\b\b\b\b\b\b\b\b\b\b\b\b\b\b\b\b\b\b\b\b\b\b\b\b\b\b\b\b\b\b\b\b\b\b\b\b\b\b\b\b\b\b\b\b\b\b\b\b\b\b\b\r12000/12153 [============================>.] - ETA: 407s"
     ]
    },
    {
     "name": "stdout",
     "output_type": "stream",
     "text": [
      "\b\b\b\b\b\b\b\b\b\b\b\b\b\b\b\b\b\b\b\b\b\b\b\b\b\b\b\b\b\b\b\b\b\b\b\b\b\b\b\b\b\b\b\b\b\b\b\b\b\b\b\b\b\b\b\b\r12016/12153 [============================>.] - ETA: 365s"
     ]
    },
    {
     "name": "stdout",
     "output_type": "stream",
     "text": [
      "\b\b\b\b\b\b\b\b\b\b\b\b\b\b\b\b\b\b\b\b\b\b\b\b\b\b\b\b\b\b\b\b\b\b\b\b\b\b\b\b\b\b\b\b\b\b\b\b\b\b\b\b\b\b\b\b\r12032/12153 [============================>.] - ETA: 322s"
     ]
    },
    {
     "name": "stdout",
     "output_type": "stream",
     "text": [
      "\b\b\b\b\b\b\b\b\b\b\b\b\b\b\b\b\b\b\b\b\b\b\b\b\b\b\b\b\b\b\b\b\b\b\b\b\b\b\b\b\b\b\b\b\b\b\b\b\b\b\b\b\b\b\b\b\r12048/12153 [============================>.] - ETA: 280s"
     ]
    },
    {
     "name": "stdout",
     "output_type": "stream",
     "text": [
      "\b\b\b\b\b\b\b\b\b\b\b\b\b\b\b\b\b\b\b\b\b\b\b\b\b\b\b\b\b\b\b\b\b\b\b\b\b\b\b\b\b\b\b\b\b\b\b\b\b\b\b\b\b\b\b\b\r12064/12153 [============================>.] - ETA: 237s"
     ]
    },
    {
     "name": "stdout",
     "output_type": "stream",
     "text": [
      "\b\b\b\b\b\b\b\b\b\b\b\b\b\b\b\b\b\b\b\b\b\b\b\b\b\b\b\b\b\b\b\b\b\b\b\b\b\b\b\b\b\b\b\b\b\b\b\b\b\b\b\b\b\b\b\b\r12080/12153 [============================>.] - ETA: 194s"
     ]
    },
    {
     "name": "stdout",
     "output_type": "stream",
     "text": [
      "\b\b\b\b\b\b\b\b\b\b\b\b\b\b\b\b\b\b\b\b\b\b\b\b\b\b\b\b\b\b\b\b\b\b\b\b\b\b\b\b\b\b\b\b\b\b\b\b\b\b\b\b\b\b\b\b\r12096/12153 [============================>.] - ETA: 152s"
     ]
    },
    {
     "name": "stdout",
     "output_type": "stream",
     "text": [
      "\b\b\b\b\b\b\b\b\b\b\b\b\b\b\b\b\b\b\b\b\b\b\b\b\b\b\b\b\b\b\b\b\b\b\b\b\b\b\b\b\b\b\b\b\b\b\b\b\b\b\b\b\b\b\b\b\r12112/12153 [============================>.] - ETA: 109s"
     ]
    },
    {
     "name": "stdout",
     "output_type": "stream",
     "text": [
      "\b\b\b\b\b\b\b\b\b\b\b\b\b\b\b\b\b\b\b\b\b\b\b\b\b\b\b\b\b\b\b\b\b\b\b\b\b\b\b\b\b\b\b\b\b\b\b\b\b\b\b\b\b\b\b\b\r12128/12153 [============================>.] - ETA: 66s "
     ]
    },
    {
     "name": "stdout",
     "output_type": "stream",
     "text": [
      "\b\b\b\b\b\b\b\b\b\b\b\b\b\b\b\b\b\b\b\b\b\b\b\b\b\b\b\b\b\b\b\b\b\b\b\b\b\b\b\b\b\b\b\b\b\b\b\b\b\b\b\b\b\b\b\r12144/12153 [============================>.] - ETA: 24s"
     ]
    },
    {
     "name": "stdout",
     "output_type": "stream",
     "text": [
      "\b\b\b\b\b\b\b\b\b\b\b\b\b\b\b\b\b\b\b\b\b\b\b\b\b\b\b\b\b\b\b\b\b\b\b\b\b\b\b\b\b\b\b\b\b\b\b\b\b\b\b\b\b\b\b\r12153/12153 [==============================] - 32458s  "
     ]
    },
    {
     "name": "stdout",
     "output_type": "stream",
     "text": [
      "\n"
     ]
    }
   ],
   "source": [
    "base_model = VGG16(include_top=False, input_shape=SHAPE)\n",
    "base_model.layers.pop()\n",
    "preds = base_model.predict(batch_x, batch_size=16, verbose=1)\n",
    "\n",
    "np.save(PP_TEST_DATA, preds)"
   ]
  },
  {
   "cell_type": "code",
   "execution_count": 26,
   "metadata": {},
   "outputs": [
    {
     "data": {
      "text/plain": [
       "(12153, 9, 15, 512)"
      ]
     },
     "execution_count": 26,
     "metadata": {},
     "output_type": "execute_result"
    }
   ],
   "source": [
    "loaded_preds = np.load(PP_TEST_DATA + '.npy')\n",
    "loaded_preds.shape"
   ]
  },
  {
   "cell_type": "markdown",
   "metadata": {},
   "source": [
    "STAGE 1 EVALUATION"
   ]
  },
  {
   "cell_type": "code",
   "execution_count": 29,
   "metadata": {},
   "outputs": [],
   "source": [
    "import pandas as pd\n",
    "\n",
    "TEST_DATA = 'data/test_stg1_data.npy'\n",
    "OUTPUT_FILE = 'kaggle/submission_stg1.csv'\n",
    "METADATA = 'metadata.npy'\n",
    "\n",
    "metadata = np.load(METADATA).item()"
   ]
  },
  {
   "cell_type": "code",
   "execution_count": 30,
   "metadata": {},
   "outputs": [
    {
     "data": {
      "text/plain": [
       "(1000, 9, 15, 512)"
      ]
     },
     "execution_count": 30,
     "metadata": {},
     "output_type": "execute_result"
    }
   ],
   "source": [
    "preds = np.load(TEST_DATA)\n",
    "preds.shape"
   ]
  },
  {
   "cell_type": "markdown",
   "metadata": {},
   "source": [
    "CNN MODEL"
   ]
  },
  {
   "cell_type": "code",
   "execution_count": 33,
   "metadata": {
    "collapsed": true
   },
   "outputs": [
    {
     "name": "stdout",
     "output_type": "stream",
     "text": [
      "\r  32/1000 [..............................] - ETA: 9s"
     ]
    },
    {
     "name": "stdout",
     "output_type": "stream",
     "text": [
      "\b\b\b\b\b\b\b\b\b\b\b\b\b\b\b\b\b\b\b\b\b\b\b\b\b\b\b\b\b\b\b\b\b\b\b\b\b\b\b\b\b\b\b\b\b\b\b\b\b\b\b\b\r  64/1000 [>.............................] - ETA: 7s"
     ]
    },
    {
     "name": "stdout",
     "output_type": "stream",
     "text": [
      "\b\b\b\b\b\b\b\b\b\b\b\b\b\b\b\b\b\b\b\b\b\b\b\b\b\b\b\b\b\b\b\b\b\b\b\b\b\b\b\b\b\b\b\b\b\b\b\b\b\b\b\b\r  96/1000 [=>............................] - ETA: 7s"
     ]
    },
    {
     "name": "stdout",
     "output_type": "stream",
     "text": [
      "\b\b\b\b\b\b\b\b\b\b\b\b\b\b\b\b\b\b\b\b\b\b\b\b\b\b\b\b\b\b\b\b\b\b\b\b\b\b\b\b\b\b\b\b\b\b\b\b\b\b\b\b\r 128/1000 [==>...........................] - ETA: 6s"
     ]
    },
    {
     "name": "stdout",
     "output_type": "stream",
     "text": [
      "\b\b\b\b\b\b\b\b\b\b\b\b\b\b\b\b\b\b\b\b\b\b\b\b\b\b\b\b\b\b\b\b\b\b\b\b\b\b\b\b\b\b\b\b\b\b\b\b\b\b\b\b\r 160/1000 [===>..........................] - ETA: 6s"
     ]
    },
    {
     "name": "stdout",
     "output_type": "stream",
     "text": [
      "\b\b\b\b\b\b\b\b\b\b\b\b\b\b\b\b\b\b\b\b\b\b\b\b\b\b\b\b\b\b\b\b\b\b\b\b\b\b\b\b\b\b\b\b\b\b\b\b\b\b\b\b\r 192/1000 [====>.........................] - ETA: 5s"
     ]
    },
    {
     "name": "stdout",
     "output_type": "stream",
     "text": [
      "\b\b\b\b\b\b\b\b\b\b\b\b\b\b\b\b\b\b\b\b\b\b\b\b\b\b\b\b\b\b\b\b\b\b\b\b\b\b\b\b\b\b\b\b\b\b\b\b\b\b\b\b\r 224/1000 [=====>........................] - ETA: 5s"
     ]
    },
    {
     "name": "stdout",
     "output_type": "stream",
     "text": [
      "\b\b\b\b\b\b\b\b\b\b\b\b\b\b\b\b\b\b\b\b\b\b\b\b\b\b\b\b\b\b\b\b\b\b\b\b\b\b\b\b\b\b\b\b\b\b\b\b\b\b\b\b\r 256/1000 [======>.......................] - ETA: 5s"
     ]
    },
    {
     "name": "stdout",
     "output_type": "stream",
     "text": [
      "\b\b\b\b\b\b\b\b\b\b\b\b\b\b\b\b\b\b\b\b\b\b\b\b\b\b\b\b\b\b\b\b\b\b\b\b\b\b\b\b\b\b\b\b\b\b\b\b\b\b\b\b\r 288/1000 [=======>......................] - ETA: 5s"
     ]
    },
    {
     "name": "stdout",
     "output_type": "stream",
     "text": [
      "\b\b\b\b\b\b\b\b\b\b\b\b\b\b\b\b\b\b\b\b\b\b\b\b\b\b\b\b\b\b\b\b\b\b\b\b\b\b\b\b\b\b\b\b\b\b\b\b\b\b\b\b\r 320/1000 [========>.....................] - ETA: 4s"
     ]
    },
    {
     "name": "stdout",
     "output_type": "stream",
     "text": [
      "\b\b\b\b\b\b\b\b\b\b\b\b\b\b\b\b\b\b\b\b\b\b\b\b\b\b\b\b\b\b\b\b\b\b\b\b\b\b\b\b\b\b\b\b\b\b\b\b\b\b\b\b\r 352/1000 [=========>....................] - ETA: 4s"
     ]
    },
    {
     "name": "stdout",
     "output_type": "stream",
     "text": [
      "\b\b\b\b\b\b\b\b\b\b\b\b\b\b\b\b\b\b\b\b\b\b\b\b\b\b\b\b\b\b\b\b\b\b\b\b\b\b\b\b\b\b\b\b\b\b\b\b\b\b\b\b\r 384/1000 [==========>...................] - ETA: 4s"
     ]
    },
    {
     "name": "stdout",
     "output_type": "stream",
     "text": [
      "\b\b\b\b\b\b\b\b\b\b\b\b\b\b\b\b\b\b\b\b\b\b\b\b\b\b\b\b\b\b\b\b\b\b\b\b\b\b\b\b\b\b\b\b\b\b\b\b\b\b\b\b\r 416/1000 [===========>..................] - ETA: 4s"
     ]
    },
    {
     "name": "stdout",
     "output_type": "stream",
     "text": [
      "\b\b\b\b\b\b\b\b\b\b\b\b\b\b\b\b\b\b\b\b\b\b\b\b\b\b\b\b\b\b\b\b\b\b\b\b\b\b\b\b\b\b\b\b\b\b\b\b\b\b\b\b\r 448/1000 [============>.................] - ETA: 3s"
     ]
    },
    {
     "name": "stdout",
     "output_type": "stream",
     "text": [
      "\b\b\b\b\b\b\b\b\b\b\b\b\b\b\b\b\b\b\b\b\b\b\b\b\b\b\b\b\b\b\b\b\b\b\b\b\b\b\b\b\b\b\b\b\b\b\b\b\b\b\b\b\r 480/1000 [=============>................] - ETA: 3s"
     ]
    },
    {
     "name": "stdout",
     "output_type": "stream",
     "text": [
      "\b\b\b\b\b\b\b\b\b\b\b\b\b\b\b\b\b\b\b\b\b\b\b\b\b\b\b\b\b\b\b\b\b\b\b\b\b\b\b\b\b\b\b\b\b\b\b\b\b\b\b\b\r 512/1000 [==============>...............] - ETA: 3s"
     ]
    },
    {
     "name": "stdout",
     "output_type": "stream",
     "text": [
      "\b\b\b\b\b\b\b\b\b\b\b\b\b\b\b\b\b\b\b\b\b\b\b\b\b\b\b\b\b\b\b\b\b\b\b\b\b\b\b\b\b\b\b\b\b\b\b\b\b\b\b\b\r 544/1000 [===============>..............] - ETA: 3s"
     ]
    },
    {
     "name": "stdout",
     "output_type": "stream",
     "text": [
      "\b\b\b\b\b\b\b\b\b\b\b\b\b\b\b\b\b\b\b\b\b\b\b\b\b\b\b\b\b\b\b\b\b\b\b\b\b\b\b\b\b\b\b\b\b\b\b\b\b\b\b\b\r 576/1000 [================>.............] - ETA: 3s"
     ]
    },
    {
     "name": "stdout",
     "output_type": "stream",
     "text": [
      "\b\b\b\b\b\b\b\b\b\b\b\b\b\b\b\b\b\b\b\b\b\b\b\b\b\b\b\b\b\b\b\b\b\b\b\b\b\b\b\b\b\b\b\b\b\b\b\b\b\b\b\b\r 608/1000 [=================>............] - ETA: 2s"
     ]
    },
    {
     "name": "stdout",
     "output_type": "stream",
     "text": [
      "\b\b\b\b\b\b\b\b\b\b\b\b\b\b\b\b\b\b\b\b\b\b\b\b\b\b\b\b\b\b\b\b\b\b\b\b\b\b\b\b\b\b\b\b\b\b\b\b\b\b\b\b\r 640/1000 [==================>...........] - ETA: 2s"
     ]
    },
    {
     "name": "stdout",
     "output_type": "stream",
     "text": [
      "\b\b\b\b\b\b\b\b\b\b\b\b\b\b\b\b\b\b\b\b\b\b\b\b\b\b\b\b\b\b\b\b\b\b\b\b\b\b\b\b\b\b\b\b\b\b\b\b\b\b\b\b\r 672/1000 [===================>..........] - ETA: 2s"
     ]
    },
    {
     "name": "stdout",
     "output_type": "stream",
     "text": [
      "\b\b\b\b\b\b\b\b\b\b\b\b\b\b\b\b\b\b\b\b\b\b\b\b\b\b\b\b\b\b\b\b\b\b\b\b\b\b\b\b\b\b\b\b\b\b\b\b\b\b\b\b\r 704/1000 [====================>.........] - ETA: 2s"
     ]
    },
    {
     "name": "stdout",
     "output_type": "stream",
     "text": [
      "\b\b\b\b\b\b\b\b\b\b\b\b\b\b\b\b\b\b\b\b\b\b\b\b\b\b\b\b\b\b\b\b\b\b\b\b\b\b\b\b\b\b\b\b\b\b\b\b\b\b\b\b\r 736/1000 [=====================>........] - ETA: 1s"
     ]
    },
    {
     "name": "stdout",
     "output_type": "stream",
     "text": [
      "\b\b\b\b\b\b\b\b\b\b\b\b\b\b\b\b\b\b\b\b\b\b\b\b\b\b\b\b\b\b\b\b\b\b\b\b\b\b\b\b\b\b\b\b\b\b\b\b\b\b\b\b\r 768/1000 [======================>.......] - ETA: 1s"
     ]
    },
    {
     "name": "stdout",
     "output_type": "stream",
     "text": [
      "\b\b\b\b\b\b\b\b\b\b\b\b\b\b\b\b\b\b\b\b\b\b\b\b\b\b\b\b\b\b\b\b\b\b\b\b\b\b\b\b\b\b\b\b\b\b\b\b\b\b\b\b\r 800/1000 [=======================>......] - ETA: 1s"
     ]
    },
    {
     "name": "stdout",
     "output_type": "stream",
     "text": [
      "\b\b\b\b\b\b\b\b\b\b\b\b\b\b\b\b\b\b\b\b\b\b\b\b\b\b\b\b\b\b\b\b\b\b\b\b\b\b\b\b\b\b\b\b\b\b\b\b\b\b\b\b\r 832/1000 [=======================>......] - ETA: 1s"
     ]
    },
    {
     "name": "stdout",
     "output_type": "stream",
     "text": [
      "\b\b\b\b\b\b\b\b\b\b\b\b\b\b\b\b\b\b\b\b\b\b\b\b\b\b\b\b\b\b\b\b\b\b\b\b\b\b\b\b\b\b\b\b\b\b\b\b\b\b\b\b\r 864/1000 [========================>.....] - ETA: 0s"
     ]
    },
    {
     "name": "stdout",
     "output_type": "stream",
     "text": [
      "\b\b\b\b\b\b\b\b\b\b\b\b\b\b\b\b\b\b\b\b\b\b\b\b\b\b\b\b\b\b\b\b\b\b\b\b\b\b\b\b\b\b\b\b\b\b\b\b\b\b\b\b\r 896/1000 [=========================>....] - ETA: 0s"
     ]
    },
    {
     "name": "stdout",
     "output_type": "stream",
     "text": [
      "\b\b\b\b\b\b\b\b\b\b\b\b\b\b\b\b\b\b\b\b\b\b\b\b\b\b\b\b\b\b\b\b\b\b\b\b\b\b\b\b\b\b\b\b\b\b\b\b\b\b\b\b\r 928/1000 [==========================>...] - ETA: 0s"
     ]
    },
    {
     "name": "stdout",
     "output_type": "stream",
     "text": [
      "\b\b\b\b\b\b\b\b\b\b\b\b\b\b\b\b\b\b\b\b\b\b\b\b\b\b\b\b\b\b\b\b\b\b\b\b\b\b\b\b\b\b\b\b\b\b\b\b\b\b\b\b\r 960/1000 [===========================>..] - ETA: 0s"
     ]
    },
    {
     "name": "stdout",
     "output_type": "stream",
     "text": [
      "\b\b\b\b\b\b\b\b\b\b\b\b\b\b\b\b\b\b\b\b\b\b\b\b\b\b\b\b\b\b\b\b\b\b\b\b\b\b\b\b\b\b\b\b\b\b\b\b\b\b\b\b\r 992/1000 [============================>.] - ETA: 0s"
     ]
    },
    {
     "name": "stdout",
     "output_type": "stream",
     "text": [
      "\b\b\b\b\b\b\b\b\b\b\b\b\b\b\b\b\b\b\b\b\b\b\b\b\b\b\b\b\b\b\b\b\b\b\b\b\b\b\b\b\b\b\b\b\b\b\b\b\b\b\b\b\r1000/1000 [==============================] - 7s     "
     ]
    },
    {
     "name": "stdout",
     "output_type": "stream",
     "text": [
      "\n"
     ]
    },
    {
     "data": {
      "text/plain": [
       "array([[  2.23619409e-05,   4.22792755e-06,   1.44737151e-05, ...,\n          2.48686356e-05,   3.41681812e-06,   3.74333649e-06],\n       [  1.54747665e-01,   2.88205352e-02,   5.47705917e-03, ...,\n          2.29918538e-03,   2.31160317e-03,   7.98135400e-01],\n       [  9.99708354e-01,   1.72419575e-04,   5.77206401e-06, ...,\n          3.35141121e-05,   3.75854825e-06,   2.01945732e-05],\n       ..., \n       [  9.83398795e-01,   6.12757227e-04,   3.66106433e-05, ...,\n          2.19394831e-04,   1.56791648e-05,   5.35083353e-04],\n       [  9.99622822e-01,   2.79538974e-04,   4.42489181e-06, ...,\n          4.96254324e-06,   3.82614644e-06,   1.55961461e-05],\n       [  7.42869556e-01,   1.17047299e-02,   6.23442186e-03, ...,\n          1.56296268e-01,   6.85642846e-03,   4.04805057e-02]], dtype=float32)"
      ]
     },
     "execution_count": 33,
     "metadata": {},
     "output_type": "execute_result"
    }
   ],
   "source": [
    "from keras import backend as K\n",
    "\n",
    "def recall(y_true, y_pred):\n",
    "    true_positives = K.sum(K.round(K.clip(y_true * y_pred, 0, 1)))\n",
    "    possible_positives = K.sum(K.round(K.clip(y_true, 0, 1)))\n",
    "    recall = true_positives / (possible_positives + K.epsilon())\n",
    "    return recall\n",
    "\n",
    "def precision(y_true, y_pred):\n",
    "    true_positives = K.sum(K.round(K.clip(y_true * y_pred, 0, 1)))\n",
    "    predicted_positives = K.sum(K.round(K.clip(y_pred, 0, 1)))\n",
    "    precision = true_positives / (predicted_positives + K.epsilon())\n",
    "    return precision\n",
    "\n",
    "def f1(y_true, y_pred):\n",
    "    \n",
    "    def recall(y_true, y_pred):\n",
    "        true_positives = K.sum(K.round(K.clip(y_true * y_pred, 0, 1)))\n",
    "        possible_positives = K.sum(K.round(K.clip(y_true, 0, 1)))\n",
    "        recall = true_positives / (possible_positives + K.epsilon())\n",
    "        return recall\n",
    "    \n",
    "    def precision(y_true, y_pred):\n",
    "        true_positives = K.sum(K.round(K.clip(y_true * y_pred, 0, 1)))\n",
    "        predicted_positives = K.sum(K.round(K.clip(y_pred, 0, 1)))\n",
    "        precision = true_positives / (predicted_positives + K.epsilon())\n",
    "        return precision\n",
    "    \n",
    "    recall = recall(y_true, y_pred)\n",
    "    precision = precision(y_true, y_pred)\n",
    "    return 2*((precision*recall)/(precision+recall))\n",
    "\n",
    "cnn_model = load_model('models/CNN_Model.h5', custom_objects={'recall': recall, 'precision': precision, 'f1': f1})\n",
    "cnn_model_proba = cnn_model.predict_proba(preds)\n",
    "cnn_model_proba"
   ]
  },
  {
   "cell_type": "markdown",
   "metadata": {},
   "source": [
    "GB MODEL"
   ]
  },
  {
   "cell_type": "code",
   "execution_count": 38,
   "metadata": {},
   "outputs": [
    {
     "name": "stdout",
     "output_type": "stream",
     "text": [
      "(1000, 69120)\n"
     ]
    },
    {
     "data": {
      "text/plain": [
       "array([[  1.43487845e-03,   7.26354949e-04,   4.64960700e-04, ...,\n          4.05425089e-04,   2.95414851e-04,   3.11980402e-04],\n       [  9.55069005e-01,   3.05278762e-03,   7.22594035e-04, ...,\n          4.33499832e-03,   7.38850678e-04,   2.94824764e-02],\n       [  9.84420240e-01,   1.83814217e-03,   3.13068333e-04, ...,\n          8.24484695e-03,   3.05452064e-04,   3.37594096e-03],\n       ..., \n       [  9.91063476e-01,   2.43725325e-03,   2.60740635e-04, ...,\n          2.68390262e-03,   2.16136235e-04,   1.68453855e-03],\n       [  9.94660437e-01,   3.82431404e-04,   3.32394615e-04, ...,\n          1.06648193e-04,   1.43870406e-04,   3.24325357e-03],\n       [  3.16353291e-01,   1.94828752e-02,   4.24579810e-03, ...,\n          4.86894846e-01,   4.89160232e-03,   1.19078681e-01]], dtype=float32)"
      ]
     },
     "execution_count": 38,
     "metadata": {},
     "output_type": "execute_result"
    }
   ],
   "source": [
    "from sklearn.externals import joblib\n",
    "\n",
    "reshaped_preds = preds.reshape(preds.shape[0], -1)\n",
    "print(reshaped_preds.shape)\n",
    "\n",
    "gb_model = joblib.load(\"models/GB_Model.h5\")\n",
    "gb_model_proba = gb_model.predict_proba(reshaped_preds)\n",
    "gb_model_proba"
   ]
  },
  {
   "cell_type": "markdown",
   "metadata": {},
   "source": [
    "SOFT VOTING"
   ]
  },
  {
   "cell_type": "code",
   "execution_count": 39,
   "metadata": {},
   "outputs": [
    {
     "data": {
      "text/plain": [
       "array([[  2.24150013e-04,   1.07388931e-04,   7.88289986e-05, ...,\n          7.92338433e-05,   4.51308229e-05,   4.77772030e-05],\n       [  2.69079285e-01,   2.51394284e-02,   4.79784986e-03, ...,\n          2.59001580e-03,   2.08692424e-03,   6.88327839e-01],\n       [  9.97524338e-01,   4.10379946e-04,   4.96715310e-05, ...,\n          1.20656166e-03,   4.68576219e-05,   4.99586914e-04],\n       ..., \n       [  9.84493749e-01,   8.73399516e-04,   6.86292135e-05, ...,\n          5.71467373e-04,   4.43158892e-05,   6.99291239e-04],\n       [  9.98913910e-01,   2.94237892e-04,   5.12777094e-05, ...,\n          1.94890646e-05,   2.38324692e-05,   4.76690063e-04],\n       [  6.81938661e-01,   1.28158935e-02,   5.95033275e-03, ...,\n          2.03524636e-01,   6.57573901e-03,   5.17088164e-02]])"
      ]
     },
     "execution_count": 39,
     "metadata": {},
     "output_type": "execute_result"
    }
   ],
   "source": [
    "weights = [1, 6]\n",
    "\n",
    "proba = np.asarray([gb_model_proba, cnn_model_proba])\n",
    "proba = np.average(proba, axis=0, weights=weights)\n",
    "proba"
   ]
  },
  {
   "cell_type": "markdown",
   "metadata": {},
   "source": [
    "CSV CREATION"
   ]
  },
  {
   "cell_type": "code",
   "execution_count": 40,
   "metadata": {},
   "outputs": [
    {
     "data": {
      "text/html": [
       "<div>\n",
       "<style>\n",
       "    .dataframe thead tr:only-child th {\n",
       "        text-align: right;\n",
       "    }\n",
       "\n",
       "    .dataframe thead th {\n",
       "        text-align: left;\n",
       "    }\n",
       "\n",
       "    .dataframe tbody tr th {\n",
       "        vertical-align: top;\n",
       "    }\n",
       "</style>\n",
       "<table border=\"1\" class=\"dataframe\">\n",
       "  <thead>\n",
       "    <tr style=\"text-align: right;\">\n",
       "      <th></th>\n",
       "      <th>image</th>\n",
       "      <th>ALB</th>\n",
       "      <th>BET</th>\n",
       "      <th>DOL</th>\n",
       "      <th>LAG</th>\n",
       "      <th>NoF</th>\n",
       "      <th>OTHER</th>\n",
       "      <th>SHARK</th>\n",
       "      <th>YFT</th>\n",
       "    </tr>\n",
       "  </thead>\n",
       "  <tbody>\n",
       "    <tr>\n",
       "      <th>0</th>\n",
       "      <td>img_00005.jpg</td>\n",
       "      <td>NaN</td>\n",
       "      <td>NaN</td>\n",
       "      <td>NaN</td>\n",
       "      <td>NaN</td>\n",
       "      <td>NaN</td>\n",
       "      <td>NaN</td>\n",
       "      <td>NaN</td>\n",
       "      <td>NaN</td>\n",
       "    </tr>\n",
       "    <tr>\n",
       "      <th>1</th>\n",
       "      <td>img_00007.jpg</td>\n",
       "      <td>NaN</td>\n",
       "      <td>NaN</td>\n",
       "      <td>NaN</td>\n",
       "      <td>NaN</td>\n",
       "      <td>NaN</td>\n",
       "      <td>NaN</td>\n",
       "      <td>NaN</td>\n",
       "      <td>NaN</td>\n",
       "    </tr>\n",
       "    <tr>\n",
       "      <th>2</th>\n",
       "      <td>img_00009.jpg</td>\n",
       "      <td>NaN</td>\n",
       "      <td>NaN</td>\n",
       "      <td>NaN</td>\n",
       "      <td>NaN</td>\n",
       "      <td>NaN</td>\n",
       "      <td>NaN</td>\n",
       "      <td>NaN</td>\n",
       "      <td>NaN</td>\n",
       "    </tr>\n",
       "    <tr>\n",
       "      <th>3</th>\n",
       "      <td>img_00018.jpg</td>\n",
       "      <td>NaN</td>\n",
       "      <td>NaN</td>\n",
       "      <td>NaN</td>\n",
       "      <td>NaN</td>\n",
       "      <td>NaN</td>\n",
       "      <td>NaN</td>\n",
       "      <td>NaN</td>\n",
       "      <td>NaN</td>\n",
       "    </tr>\n",
       "    <tr>\n",
       "      <th>4</th>\n",
       "      <td>img_00027.jpg</td>\n",
       "      <td>NaN</td>\n",
       "      <td>NaN</td>\n",
       "      <td>NaN</td>\n",
       "      <td>NaN</td>\n",
       "      <td>NaN</td>\n",
       "      <td>NaN</td>\n",
       "      <td>NaN</td>\n",
       "      <td>NaN</td>\n",
       "    </tr>\n",
       "  </tbody>\n",
       "</table>\n",
       "</div>"
      ],
      "text/plain": [
       "<div>\n",
       "<style>\n",
       "    .dataframe thead tr:only-child th {\n",
       "        text-align: right;\n",
       "    }\n",
       "\n",
       "    .dataframe thead th {\n",
       "        text-align: left;\n",
       "    }\n",
       "\n",
       "    .dataframe tbody tr th {\n",
       "        vertical-align: top;\n",
       "    }\n",
       "</style>\n",
       "<table border=\"1\" class=\"dataframe\">\n",
       "  <thead>\n",
       "    <tr style=\"text-align: right;\">\n",
       "      <th></th>\n",
       "      <th>image</th>\n",
       "      <th>ALB</th>\n",
       "      <th>BET</th>\n",
       "      <th>DOL</th>\n",
       "      <th>LAG</th>\n",
       "      <th>NoF</th>\n",
       "      <th>OTHER</th>\n",
       "      <th>SHARK</th>\n",
       "      <th>YFT</th>\n",
       "    </tr>\n",
       "  </thead>\n",
       "  <tbody>\n",
       "    <tr>\n",
       "      <th>0</th>\n",
       "      <td>img_00005.jpg</td>\n",
       "      <td>NaN</td>\n",
       "      <td>NaN</td>\n",
       "      <td>NaN</td>\n",
       "      <td>NaN</td>\n",
       "      <td>NaN</td>\n",
       "      <td>NaN</td>\n",
       "      <td>NaN</td>\n",
       "      <td>NaN</td>\n",
       "    </tr>\n",
       "    <tr>\n",
       "      <th>1</th>\n",
       "      <td>img_00007.jpg</td>\n",
       "      <td>NaN</td>\n",
       "      <td>NaN</td>\n",
       "      <td>NaN</td>\n",
       "      <td>NaN</td>\n",
       "      <td>NaN</td>\n",
       "      <td>NaN</td>\n",
       "      <td>NaN</td>\n",
       "      <td>NaN</td>\n",
       "    </tr>\n",
       "    <tr>\n",
       "      <th>2</th>\n",
       "      <td>img_00009.jpg</td>\n",
       "      <td>NaN</td>\n",
       "      <td>NaN</td>\n",
       "      <td>NaN</td>\n",
       "      <td>NaN</td>\n",
       "      <td>NaN</td>\n",
       "      <td>NaN</td>\n",
       "      <td>NaN</td>\n",
       "      <td>NaN</td>\n",
       "    </tr>\n",
       "    <tr>\n",
       "      <th>3</th>\n",
       "      <td>img_00018.jpg</td>\n",
       "      <td>NaN</td>\n",
       "      <td>NaN</td>\n",
       "      <td>NaN</td>\n",
       "      <td>NaN</td>\n",
       "      <td>NaN</td>\n",
       "      <td>NaN</td>\n",
       "      <td>NaN</td>\n",
       "      <td>NaN</td>\n",
       "    </tr>\n",
       "    <tr>\n",
       "      <th>4</th>\n",
       "      <td>img_00027.jpg</td>\n",
       "      <td>NaN</td>\n",
       "      <td>NaN</td>\n",
       "      <td>NaN</td>\n",
       "      <td>NaN</td>\n",
       "      <td>NaN</td>\n",
       "      <td>NaN</td>\n",
       "      <td>NaN</td>\n",
       "      <td>NaN</td>\n",
       "    </tr>\n",
       "  </tbody>\n",
       "</table>\n",
       "</div>"
      ]
     },
     "execution_count": 40,
     "metadata": {},
     "output_type": "execute_result"
    }
   ],
   "source": [
    "DATA_FOLDER = 'original/test/test_stg1/'\n",
    "\n",
    "files = os.listdir(DATA_FOLDER)\n",
    "n_files = len(files)\n",
    "\n",
    "cols = ['image','ALB','BET','DOL','LAG','NoF','OTHER','SHARK','YFT']\n",
    "df_stg1 = pd.DataFrame(columns=cols)\n",
    "\n",
    "df_stg1['image'] = [f for f in files]\n",
    "df_stg1.head()"
   ]
  },
  {
   "cell_type": "code",
   "execution_count": 41,
   "metadata": {
    "collapsed": false
   },
   "outputs": [
    {
     "data": {
      "text/html": [
       "<div>\n",
       "<style>\n",
       "    .dataframe thead tr:only-child th {\n",
       "        text-align: right;\n",
       "    }\n",
       "\n",
       "    .dataframe thead th {\n",
       "        text-align: left;\n",
       "    }\n",
       "\n",
       "    .dataframe tbody tr th {\n",
       "        vertical-align: top;\n",
       "    }\n",
       "</style>\n",
       "<table border=\"1\" class=\"dataframe\">\n",
       "  <thead>\n",
       "    <tr style=\"text-align: right;\">\n",
       "      <th></th>\n",
       "      <th>image</th>\n",
       "      <th>ALB</th>\n",
       "      <th>BET</th>\n",
       "      <th>DOL</th>\n",
       "      <th>LAG</th>\n",
       "      <th>NoF</th>\n",
       "      <th>OTHER</th>\n",
       "      <th>SHARK</th>\n",
       "      <th>YFT</th>\n",
       "    </tr>\n",
       "  </thead>\n",
       "  <tbody>\n",
       "    <tr>\n",
       "      <th>0</th>\n",
       "      <td>img_00005.jpg</td>\n",
       "      <td>0.000224</td>\n",
       "      <td>0.000107</td>\n",
       "      <td>0.000079</td>\n",
       "      <td>0.000020</td>\n",
       "      <td>0.999397</td>\n",
       "      <td>0.000079</td>\n",
       "      <td>0.000045</td>\n",
       "      <td>0.000048</td>\n",
       "    </tr>\n",
       "    <tr>\n",
       "      <th>1</th>\n",
       "      <td>img_00007.jpg</td>\n",
       "      <td>0.269079</td>\n",
       "      <td>0.025139</td>\n",
       "      <td>0.004798</td>\n",
       "      <td>0.006323</td>\n",
       "      <td>0.001656</td>\n",
       "      <td>0.002590</td>\n",
       "      <td>0.002087</td>\n",
       "      <td>0.688328</td>\n",
       "    </tr>\n",
       "    <tr>\n",
       "      <th>2</th>\n",
       "      <td>img_00009.jpg</td>\n",
       "      <td>0.997524</td>\n",
       "      <td>0.000410</td>\n",
       "      <td>0.000050</td>\n",
       "      <td>0.000190</td>\n",
       "      <td>0.000073</td>\n",
       "      <td>0.001207</td>\n",
       "      <td>0.000047</td>\n",
       "      <td>0.000500</td>\n",
       "    </tr>\n",
       "    <tr>\n",
       "      <th>3</th>\n",
       "      <td>img_00018.jpg</td>\n",
       "      <td>0.852541</td>\n",
       "      <td>0.076867</td>\n",
       "      <td>0.000774</td>\n",
       "      <td>0.013925</td>\n",
       "      <td>0.001930</td>\n",
       "      <td>0.033990</td>\n",
       "      <td>0.001145</td>\n",
       "      <td>0.018827</td>\n",
       "    </tr>\n",
       "    <tr>\n",
       "      <th>4</th>\n",
       "      <td>img_00027.jpg</td>\n",
       "      <td>0.117429</td>\n",
       "      <td>0.009029</td>\n",
       "      <td>0.004283</td>\n",
       "      <td>0.002814</td>\n",
       "      <td>0.012798</td>\n",
       "      <td>0.760090</td>\n",
       "      <td>0.008240</td>\n",
       "      <td>0.085317</td>\n",
       "    </tr>\n",
       "  </tbody>\n",
       "</table>\n",
       "</div>"
      ],
      "text/plain": [
       "<div>\n",
       "<style>\n",
       "    .dataframe thead tr:only-child th {\n",
       "        text-align: right;\n",
       "    }\n",
       "\n",
       "    .dataframe thead th {\n",
       "        text-align: left;\n",
       "    }\n",
       "\n",
       "    .dataframe tbody tr th {\n",
       "        vertical-align: top;\n",
       "    }\n",
       "</style>\n",
       "<table border=\"1\" class=\"dataframe\">\n",
       "  <thead>\n",
       "    <tr style=\"text-align: right;\">\n",
       "      <th></th>\n",
       "      <th>image</th>\n",
       "      <th>ALB</th>\n",
       "      <th>BET</th>\n",
       "      <th>DOL</th>\n",
       "      <th>LAG</th>\n",
       "      <th>NoF</th>\n",
       "      <th>OTHER</th>\n",
       "      <th>SHARK</th>\n",
       "      <th>YFT</th>\n",
       "    </tr>\n",
       "  </thead>\n",
       "  <tbody>\n",
       "    <tr>\n",
       "      <th>0</th>\n",
       "      <td>img_00005.jpg</td>\n",
       "      <td>0.000224</td>\n",
       "      <td>0.000107</td>\n",
       "      <td>0.000079</td>\n",
       "      <td>0.000020</td>\n",
       "      <td>0.999397</td>\n",
       "      <td>0.000079</td>\n",
       "      <td>0.000045</td>\n",
       "      <td>0.000048</td>\n",
       "    </tr>\n",
       "    <tr>\n",
       "      <th>1</th>\n",
       "      <td>img_00007.jpg</td>\n",
       "      <td>0.269079</td>\n",
       "      <td>0.025139</td>\n",
       "      <td>0.004798</td>\n",
       "      <td>0.006323</td>\n",
       "      <td>0.001656</td>\n",
       "      <td>0.002590</td>\n",
       "      <td>0.002087</td>\n",
       "      <td>0.688328</td>\n",
       "    </tr>\n",
       "    <tr>\n",
       "      <th>2</th>\n",
       "      <td>img_00009.jpg</td>\n",
       "      <td>0.997524</td>\n",
       "      <td>0.000410</td>\n",
       "      <td>0.000050</td>\n",
       "      <td>0.000190</td>\n",
       "      <td>0.000073</td>\n",
       "      <td>0.001207</td>\n",
       "      <td>0.000047</td>\n",
       "      <td>0.000500</td>\n",
       "    </tr>\n",
       "    <tr>\n",
       "      <th>3</th>\n",
       "      <td>img_00018.jpg</td>\n",
       "      <td>0.852541</td>\n",
       "      <td>0.076867</td>\n",
       "      <td>0.000774</td>\n",
       "      <td>0.013925</td>\n",
       "      <td>0.001930</td>\n",
       "      <td>0.033990</td>\n",
       "      <td>0.001145</td>\n",
       "      <td>0.018827</td>\n",
       "    </tr>\n",
       "    <tr>\n",
       "      <th>4</th>\n",
       "      <td>img_00027.jpg</td>\n",
       "      <td>0.117429</td>\n",
       "      <td>0.009029</td>\n",
       "      <td>0.004283</td>\n",
       "      <td>0.002814</td>\n",
       "      <td>0.012798</td>\n",
       "      <td>0.760090</td>\n",
       "      <td>0.008240</td>\n",
       "      <td>0.085317</td>\n",
       "    </tr>\n",
       "  </tbody>\n",
       "</table>\n",
       "</div>"
      ]
     },
     "execution_count": 41,
     "metadata": {},
     "output_type": "execute_result"
    }
   ],
   "source": [
    "for col in cols[1:]:\n",
    "    df_stg1[col] = proba[:, np.argmax(metadata[col])]\n",
    "\n",
    "df_stg1.head()"
   ]
  },
  {
   "cell_type": "code",
   "execution_count": 42,
   "metadata": {},
   "outputs": [],
   "source": [
    "df_stg1.to_csv(OUTPUT_FILE, index=False)"
   ]
  },
  {
   "cell_type": "markdown",
   "metadata": {},
   "source": [
    "STAGE 2 EVALUATION"
   ]
  },
  {
   "cell_type": "code",
   "execution_count": 43,
   "metadata": {},
   "outputs": [],
   "source": [
    "TEST_DATA = 'data/test_stg2_data.npy'\n",
    "OUTPUT_FILE = 'kaggle/submission_stg2.csv'"
   ]
  },
  {
   "cell_type": "code",
   "execution_count": 44,
   "metadata": {},
   "outputs": [
    {
     "data": {
      "text/plain": [
       "(12153, 9, 15, 512)"
      ]
     },
     "execution_count": 44,
     "metadata": {},
     "output_type": "execute_result"
    }
   ],
   "source": [
    "preds = np.load(TEST_DATA)\n",
    "preds.shape"
   ]
  },
  {
   "cell_type": "markdown",
   "metadata": {},
   "source": [
    "CNN MODEL"
   ]
  },
  {
   "cell_type": "code",
   "execution_count": 45,
   "metadata": {
    "collapsed": true
   },
   "outputs": [
    {
     "name": "stdout",
     "output_type": "stream",
     "text": [
      "\r   32/12153 [..............................] - ETA: 177s"
     ]
    },
    {
     "name": "stdout",
     "output_type": "stream",
     "text": [
      "\b\b\b\b\b\b\b\b\b\b\b\b\b\b\b\b\b\b\b\b\b\b\b\b\b\b\b\b\b\b\b\b\b\b\b\b\b\b\b\b\b\b\b\b\b\b\b\b\b\b\b\b\b\b\b\b\r   64/12153 [..............................] - ETA: 146s"
     ]
    },
    {
     "name": "stdout",
     "output_type": "stream",
     "text": [
      "\b\b\b\b\b\b\b\b\b\b\b\b\b\b\b\b\b\b\b\b\b\b\b\b\b\b\b\b\b\b\b\b\b\b\b\b\b\b\b\b\b\b\b\b\b\b\b\b\b\b\b\b\b\b\b\b\r   96/12153 [..............................] - ETA: 140s"
     ]
    },
    {
     "name": "stdout",
     "output_type": "stream",
     "text": [
      "\b\b\b\b\b\b\b\b\b\b\b\b\b\b\b\b\b\b\b\b\b\b\b\b\b\b\b\b\b\b\b\b\b\b\b\b\b\b\b\b\b\b\b\b\b\b\b\b\b\b\b\b\b\b\b\b\r  128/12153 [..............................] - ETA: 133s"
     ]
    },
    {
     "name": "stdout",
     "output_type": "stream",
     "text": [
      "\b\b\b\b\b\b\b\b\b\b\b\b\b\b\b\b\b\b\b\b\b\b\b\b\b\b\b\b\b\b\b\b\b\b\b\b\b\b\b\b\b\b\b\b\b\b\b\b\b\b\b\b\b\b\b\b\r  160/12153 [..............................] - ETA: 136s"
     ]
    },
    {
     "name": "stdout",
     "output_type": "stream",
     "text": [
      "\b\b\b\b\b\b\b\b\b\b\b\b\b\b\b\b\b\b\b\b\b\b\b\b\b\b\b\b\b\b\b\b\b\b\b\b\b\b\b\b\b\b\b\b\b\b\b\b\b\b\b\b\b\b\b\b\r  192/12153 [..............................] - ETA: 128s"
     ]
    },
    {
     "name": "stdout",
     "output_type": "stream",
     "text": [
      "\b\b\b\b\b\b\b\b\b\b\b\b\b\b\b\b\b\b\b\b\b\b\b\b\b\b\b\b\b\b\b\b\b\b\b\b\b\b\b\b\b\b\b\b\b\b\b\b\b\b\b\b\b\b\b\b\r  224/12153 [..............................] - ETA: 123s"
     ]
    },
    {
     "name": "stdout",
     "output_type": "stream",
     "text": [
      "\b\b\b\b\b\b\b\b\b\b\b\b\b\b\b\b\b\b\b\b\b\b\b\b\b\b\b\b\b\b\b\b\b\b\b\b\b\b\b\b\b\b\b\b\b\b\b\b\b\b\b\b\b\b\b\b\r  256/12153 [..............................] - ETA: 118s"
     ]
    },
    {
     "name": "stdout",
     "output_type": "stream",
     "text": [
      "\b\b\b\b\b\b\b\b\b\b\b\b\b\b\b\b\b\b\b\b\b\b\b\b\b\b\b\b\b\b\b\b\b\b\b\b\b\b\b\b\b\b\b\b\b\b\b\b\b\b\b\b\b\b\b\b\r  288/12153 [..............................] - ETA: 115s"
     ]
    },
    {
     "name": "stdout",
     "output_type": "stream",
     "text": [
      "\b\b\b\b\b\b\b\b\b\b\b\b\b\b\b\b\b\b\b\b\b\b\b\b\b\b\b\b\b\b\b\b\b\b\b\b\b\b\b\b\b\b\b\b\b\b\b\b\b\b\b\b\b\b\b\b\r  320/12153 [..............................] - ETA: 112s"
     ]
    },
    {
     "name": "stdout",
     "output_type": "stream",
     "text": [
      "\b\b\b\b\b\b\b\b\b\b\b\b\b\b\b\b\b\b\b\b\b\b\b\b\b\b\b\b\b\b\b\b\b\b\b\b\b\b\b\b\b\b\b\b\b\b\b\b\b\b\b\b\b\b\b\b\r  352/12153 [..............................] - ETA: 109s"
     ]
    },
    {
     "name": "stdout",
     "output_type": "stream",
     "text": [
      "\b\b\b\b\b\b\b\b\b\b\b\b\b\b\b\b\b\b\b\b\b\b\b\b\b\b\b\b\b\b\b\b\b\b\b\b\b\b\b\b\b\b\b\b\b\b\b\b\b\b\b\b\b\b\b\b\r  384/12153 [..............................] - ETA: 107s"
     ]
    },
    {
     "name": "stdout",
     "output_type": "stream",
     "text": [
      "\b\b\b\b\b\b\b\b\b\b\b\b\b\b\b\b\b\b\b\b\b\b\b\b\b\b\b\b\b\b\b\b\b\b\b\b\b\b\b\b\b\b\b\b\b\b\b\b\b\b\b\b\b\b\b\b\r  416/12153 [>.............................] - ETA: 105s"
     ]
    },
    {
     "name": "stdout",
     "output_type": "stream",
     "text": [
      "\b\b\b\b\b\b\b\b\b\b\b\b\b\b\b\b\b\b\b\b\b\b\b\b\b\b\b\b\b\b\b\b\b\b\b\b\b\b\b\b\b\b\b\b\b\b\b\b\b\b\b\b\b\b\b\b\r  448/12153 [>.............................] - ETA: 104s"
     ]
    },
    {
     "name": "stdout",
     "output_type": "stream",
     "text": [
      "\b\b\b\b\b\b\b\b\b\b\b\b\b\b\b\b\b\b\b\b\b\b\b\b\b\b\b\b\b\b\b\b\b\b\b\b\b\b\b\b\b\b\b\b\b\b\b\b\b\b\b\b\b\b\b\b\r  480/12153 [>.............................] - ETA: 102s"
     ]
    },
    {
     "name": "stdout",
     "output_type": "stream",
     "text": [
      "\b\b\b\b\b\b\b\b\b\b\b\b\b\b\b\b\b\b\b\b\b\b\b\b\b\b\b\b\b\b\b\b\b\b\b\b\b\b\b\b\b\b\b\b\b\b\b\b\b\b\b\b\b\b\b\b\r  512/12153 [>.............................] - ETA: 101s"
     ]
    },
    {
     "name": "stdout",
     "output_type": "stream",
     "text": [
      "\b\b\b\b\b\b\b\b\b\b\b\b\b\b\b\b\b\b\b\b\b\b\b\b\b\b\b\b\b\b\b\b\b\b\b\b\b\b\b\b\b\b\b\b\b\b\b\b\b\b\b\b\b\b\b\b\r  544/12153 [>.............................] - ETA: 100s"
     ]
    },
    {
     "name": "stdout",
     "output_type": "stream",
     "text": [
      "\b\b\b\b\b\b\b\b\b\b\b\b\b\b\b\b\b\b\b\b\b\b\b\b\b\b\b\b\b\b\b\b\b\b\b\b\b\b\b\b\b\b\b\b\b\b\b\b\b\b\b\b\b\b\b\b\r  576/12153 [>.............................] - ETA: 99s "
     ]
    },
    {
     "name": "stdout",
     "output_type": "stream",
     "text": [
      "\b\b\b\b\b\b\b\b\b\b\b\b\b\b\b\b\b\b\b\b\b\b\b\b\b\b\b\b\b\b\b\b\b\b\b\b\b\b\b\b\b\b\b\b\b\b\b\b\b\b\b\b\b\b\b\r  608/12153 [>.............................] - ETA: 98s"
     ]
    },
    {
     "name": "stdout",
     "output_type": "stream",
     "text": [
      "\b\b\b\b\b\b\b\b\b\b\b\b\b\b\b\b\b\b\b\b\b\b\b\b\b\b\b\b\b\b\b\b\b\b\b\b\b\b\b\b\b\b\b\b\b\b\b\b\b\b\b\b\b\b\b\r  640/12153 [>.............................] - ETA: 97s"
     ]
    },
    {
     "name": "stdout",
     "output_type": "stream",
     "text": [
      "\b\b\b\b\b\b\b\b\b\b\b\b\b\b\b\b\b\b\b\b\b\b\b\b\b\b\b\b\b\b\b\b\b\b\b\b\b\b\b\b\b\b\b\b\b\b\b\b\b\b\b\b\b\b\b\r  672/12153 [>.............................] - ETA: 96s"
     ]
    },
    {
     "name": "stdout",
     "output_type": "stream",
     "text": [
      "\b\b\b\b\b\b\b\b\b\b\b\b\b\b\b\b\b\b\b\b\b\b\b\b\b\b\b\b\b\b\b\b\b\b\b\b\b\b\b\b\b\b\b\b\b\b\b\b\b\b\b\b\b\b\b\r  704/12153 [>.............................] - ETA: 95s"
     ]
    },
    {
     "name": "stdout",
     "output_type": "stream",
     "text": [
      "\b\b\b\b\b\b\b\b\b\b\b\b\b\b\b\b\b\b\b\b\b\b\b\b\b\b\b\b\b\b\b\b\b\b\b\b\b\b\b\b\b\b\b\b\b\b\b\b\b\b\b\b\b\b\b\r  736/12153 [>.............................] - ETA: 95s"
     ]
    },
    {
     "name": "stdout",
     "output_type": "stream",
     "text": [
      "\b\b\b\b\b\b\b\b\b\b\b\b\b\b\b\b\b\b\b\b\b\b\b\b\b\b\b\b\b\b\b\b\b\b\b\b\b\b\b\b\b\b\b\b\b\b\b\b\b\b\b\b\b\b\b\r  768/12153 [>.............................] - ETA: 94s"
     ]
    },
    {
     "name": "stdout",
     "output_type": "stream",
     "text": [
      "\b\b\b\b\b\b\b\b\b\b\b\b\b\b\b\b\b\b\b\b\b\b\b\b\b\b\b\b\b\b\b\b\b\b\b\b\b\b\b\b\b\b\b\b\b\b\b\b\b\b\b\b\b\b\b\r  800/12153 [>.............................] - ETA: 93s"
     ]
    },
    {
     "name": "stdout",
     "output_type": "stream",
     "text": [
      "\b\b\b\b\b\b\b\b\b\b\b\b\b\b\b\b\b\b\b\b\b\b\b\b\b\b\b\b\b\b\b\b\b\b\b\b\b\b\b\b\b\b\b\b\b\b\b\b\b\b\b\b\b\b\b\r  832/12153 [=>............................] - ETA: 92s"
     ]
    },
    {
     "name": "stdout",
     "output_type": "stream",
     "text": [
      "\b\b\b\b\b\b\b\b\b\b\b\b\b\b\b\b\b\b\b\b\b\b\b\b\b\b\b\b\b\b\b\b\b\b\b\b\b\b\b\b\b\b\b\b\b\b\b\b\b\b\b\b\b\b\b\r  864/12153 [=>............................] - ETA: 94s"
     ]
    },
    {
     "name": "stdout",
     "output_type": "stream",
     "text": [
      "\b\b\b\b\b\b\b\b\b\b\b\b\b\b\b\b\b\b\b\b\b\b\b\b\b\b\b\b\b\b\b\b\b\b\b\b\b\b\b\b\b\b\b\b\b\b\b\b\b\b\b\b\b\b\b\r  896/12153 [=>............................] - ETA: 94s"
     ]
    },
    {
     "name": "stdout",
     "output_type": "stream",
     "text": [
      "\b\b\b\b\b\b\b\b\b\b\b\b\b\b\b\b\b\b\b\b\b\b\b\b\b\b\b\b\b\b\b\b\b\b\b\b\b\b\b\b\b\b\b\b\b\b\b\b\b\b\b\b\b\b\b\r  928/12153 [=>............................] - ETA: 93s"
     ]
    },
    {
     "name": "stdout",
     "output_type": "stream",
     "text": [
      "\b\b\b\b\b\b\b\b\b\b\b\b\b\b\b\b\b\b\b\b\b\b\b\b\b\b\b\b\b\b\b\b\b\b\b\b\b\b\b\b\b\b\b\b\b\b\b\b\b\b\b\b\b\b\b\r  960/12153 [=>............................] - ETA: 93s"
     ]
    },
    {
     "name": "stdout",
     "output_type": "stream",
     "text": [
      "\b\b\b\b\b\b\b\b\b\b\b\b\b\b\b\b\b\b\b\b\b\b\b\b\b\b\b\b\b\b\b\b\b\b\b\b\b\b\b\b\b\b\b\b\b\b\b\b\b\b\b\b\b\b\b\r  992/12153 [=>............................] - ETA: 93s"
     ]
    },
    {
     "name": "stdout",
     "output_type": "stream",
     "text": [
      "\b\b\b\b\b\b\b\b\b\b\b\b\b\b\b\b\b\b\b\b\b\b\b\b\b\b\b\b\b\b\b\b\b\b\b\b\b\b\b\b\b\b\b\b\b\b\b\b\b\b\b\b\b\b\b\r 1024/12153 [=>............................] - ETA: 93s"
     ]
    },
    {
     "name": "stdout",
     "output_type": "stream",
     "text": [
      "\b\b\b\b\b\b\b\b\b\b\b\b\b\b\b\b\b\b\b\b\b\b\b\b\b\b\b\b\b\b\b\b\b\b\b\b\b\b\b\b\b\b\b\b\b\b\b\b\b\b\b\b\b\b\b\r 1056/12153 [=>............................] - ETA: 92s"
     ]
    },
    {
     "name": "stdout",
     "output_type": "stream",
     "text": [
      "\b\b\b\b\b\b\b\b\b\b\b\b\b\b\b\b\b\b\b\b\b\b\b\b\b\b\b\b\b\b\b\b\b\b\b\b\b\b\b\b\b\b\b\b\b\b\b\b\b\b\b\b\b\b\b\r 1088/12153 [=>............................] - ETA: 91s"
     ]
    },
    {
     "name": "stdout",
     "output_type": "stream",
     "text": [
      "\b\b\b\b\b\b\b\b\b\b\b\b\b\b\b\b\b\b\b\b\b\b\b\b\b\b\b\b\b\b\b\b\b\b\b\b\b\b\b\b\b\b\b\b\b\b\b\b\b\b\b\b\b\b\b\r 1120/12153 [=>............................] - ETA: 91s"
     ]
    },
    {
     "name": "stdout",
     "output_type": "stream",
     "text": [
      "\b\b\b\b\b\b\b\b\b\b\b\b\b\b\b\b\b\b\b\b\b\b\b\b\b\b\b\b\b\b\b\b\b\b\b\b\b\b\b\b\b\b\b\b\b\b\b\b\b\b\b\b\b\b\b\r 1152/12153 [=>............................] - ETA: 90s"
     ]
    },
    {
     "name": "stdout",
     "output_type": "stream",
     "text": [
      "\b\b\b\b\b\b\b\b\b\b\b\b\b\b\b\b\b\b\b\b\b\b\b\b\b\b\b\b\b\b\b\b\b\b\b\b\b\b\b\b\b\b\b\b\b\b\b\b\b\b\b\b\b\b\b\r 1184/12153 [=>............................] - ETA: 90s"
     ]
    },
    {
     "name": "stdout",
     "output_type": "stream",
     "text": [
      "\b\b\b\b\b\b\b\b\b\b\b\b\b\b\b\b\b\b\b\b\b\b\b\b\b\b\b\b\b\b\b\b\b\b\b\b\b\b\b\b\b\b\b\b\b\b\b\b\b\b\b\b\b\b\b\r 1216/12153 [==>...........................] - ETA: 89s"
     ]
    },
    {
     "name": "stdout",
     "output_type": "stream",
     "text": [
      "\b\b\b\b\b\b\b\b\b\b\b\b\b\b\b\b\b\b\b\b\b\b\b\b\b\b\b\b\b\b\b\b\b\b\b\b\b\b\b\b\b\b\b\b\b\b\b\b\b\b\b\b\b\b\b\r 1248/12153 [==>...........................] - ETA: 88s"
     ]
    },
    {
     "name": "stdout",
     "output_type": "stream",
     "text": [
      "\b\b\b\b\b\b\b\b\b\b\b\b\b\b\b\b\b\b\b\b\b\b\b\b\b\b\b\b\b\b\b\b\b\b\b\b\b\b\b\b\b\b\b\b\b\b\b\b\b\b\b\b\b\b\b\r 1280/12153 [==>...........................] - ETA: 88s"
     ]
    },
    {
     "name": "stdout",
     "output_type": "stream",
     "text": [
      "\b\b\b\b\b\b\b\b\b\b\b\b\b\b\b\b\b\b\b\b\b\b\b\b\b\b\b\b\b\b\b\b\b\b\b\b\b\b\b\b\b\b\b\b\b\b\b\b\b\b\b\b\b\b\b\r 1312/12153 [==>...........................] - ETA: 87s"
     ]
    },
    {
     "name": "stdout",
     "output_type": "stream",
     "text": [
      "\b\b\b\b\b\b\b\b\b\b\b\b\b\b\b\b\b\b\b\b\b\b\b\b\b\b\b\b\b\b\b\b\b\b\b\b\b\b\b\b\b\b\b\b\b\b\b\b\b\b\b\b\b\b\b\r 1344/12153 [==>...........................] - ETA: 87s"
     ]
    },
    {
     "name": "stdout",
     "output_type": "stream",
     "text": [
      "\b\b\b\b\b\b\b\b\b\b\b\b\b\b\b\b\b\b\b\b\b\b\b\b\b\b\b\b\b\b\b\b\b\b\b\b\b\b\b\b\b\b\b\b\b\b\b\b\b\b\b\b\b\b\b\r 1376/12153 [==>...........................] - ETA: 87s"
     ]
    },
    {
     "name": "stdout",
     "output_type": "stream",
     "text": [
      "\b\b\b\b\b\b\b\b\b\b\b\b\b\b\b\b\b\b\b\b\b\b\b\b\b\b\b\b\b\b\b\b\b\b\b\b\b\b\b\b\b\b\b\b\b\b\b\b\b\b\b\b\b\b\b\r 1408/12153 [==>...........................] - ETA: 87s"
     ]
    },
    {
     "name": "stdout",
     "output_type": "stream",
     "text": [
      "\b\b\b\b\b\b\b\b\b\b\b\b\b\b\b\b\b\b\b\b\b\b\b\b\b\b\b\b\b\b\b\b\b\b\b\b\b\b\b\b\b\b\b\b\b\b\b\b\b\b\b\b\b\b\b\r 1440/12153 [==>...........................] - ETA: 86s"
     ]
    },
    {
     "name": "stdout",
     "output_type": "stream",
     "text": [
      "\b\b\b\b\b\b\b\b\b\b\b\b\b\b\b\b\b\b\b\b\b\b\b\b\b\b\b\b\b\b\b\b\b\b\b\b\b\b\b\b\b\b\b\b\b\b\b\b\b\b\b\b\b\b\b\r 1472/12153 [==>...........................] - ETA: 87s"
     ]
    },
    {
     "name": "stdout",
     "output_type": "stream",
     "text": [
      "\b\b\b\b\b\b\b\b\b\b\b\b\b\b\b\b\b\b\b\b\b\b\b\b\b\b\b\b\b\b\b\b\b\b\b\b\b\b\b\b\b\b\b\b\b\b\b\b\b\b\b\b\b\b\b\r 1504/12153 [==>...........................] - ETA: 86s"
     ]
    },
    {
     "name": "stdout",
     "output_type": "stream",
     "text": [
      "\b\b\b\b\b\b\b\b\b\b\b\b\b\b\b\b\b\b\b\b\b\b\b\b\b\b\b\b\b\b\b\b\b\b\b\b\b\b\b\b\b\b\b\b\b\b\b\b\b\b\b\b\b\b\b\r 1536/12153 [==>...........................] - ETA: 86s"
     ]
    },
    {
     "name": "stdout",
     "output_type": "stream",
     "text": [
      "\b\b\b\b\b\b\b\b\b\b\b\b\b\b\b\b\b\b\b\b\b\b\b\b\b\b\b\b\b\b\b\b\b\b\b\b\b\b\b\b\b\b\b\b\b\b\b\b\b\b\b\b\b\b\b\r 1568/12153 [==>...........................] - ETA: 85s"
     ]
    },
    {
     "name": "stdout",
     "output_type": "stream",
     "text": [
      "\b\b\b\b\b\b\b\b\b\b\b\b\b\b\b\b\b\b\b\b\b\b\b\b\b\b\b\b\b\b\b\b\b\b\b\b\b\b\b\b\b\b\b\b\b\b\b\b\b\b\b\b\b\b\b\r 1600/12153 [==>...........................] - ETA: 85s"
     ]
    },
    {
     "name": "stdout",
     "output_type": "stream",
     "text": [
      "\b\b\b\b\b\b\b\b\b\b\b\b\b\b\b\b\b\b\b\b\b\b\b\b\b\b\b\b\b\b\b\b\b\b\b\b\b\b\b\b\b\b\b\b\b\b\b\b\b\b\b\b\b\b\b\r 1632/12153 [===>..........................] - ETA: 85s"
     ]
    },
    {
     "name": "stdout",
     "output_type": "stream",
     "text": [
      "\b\b\b\b\b\b\b\b\b\b\b\b\b\b\b\b\b\b\b\b\b\b\b\b\b\b\b\b\b\b\b\b\b\b\b\b\b\b\b\b\b\b\b\b\b\b\b\b\b\b\b\b\b\b\b\r 1664/12153 [===>..........................] - ETA: 84s"
     ]
    },
    {
     "name": "stdout",
     "output_type": "stream",
     "text": [
      "\b\b\b\b\b\b\b\b\b\b\b\b\b\b\b\b\b\b\b\b\b\b\b\b\b\b\b\b\b\b\b\b\b\b\b\b\b\b\b\b\b\b\b\b\b\b\b\b\b\b\b\b\b\b\b\r 1696/12153 [===>..........................] - ETA: 84s"
     ]
    },
    {
     "name": "stdout",
     "output_type": "stream",
     "text": [
      "\b\b\b\b\b\b\b\b\b\b\b\b\b\b\b\b\b\b\b\b\b\b\b\b\b\b\b\b\b\b\b\b\b\b\b\b\b\b\b\b\b\b\b\b\b\b\b\b\b\b\b\b\b\b\b\r 1728/12153 [===>..........................] - ETA: 83s"
     ]
    },
    {
     "name": "stdout",
     "output_type": "stream",
     "text": [
      "\b\b\b\b\b\b\b\b\b\b\b\b\b\b\b\b\b\b\b\b\b\b\b\b\b\b\b\b\b\b\b\b\b\b\b\b\b\b\b\b\b\b\b\b\b\b\b\b\b\b\b\b\b\b\b\r 1760/12153 [===>..........................] - ETA: 83s"
     ]
    },
    {
     "name": "stdout",
     "output_type": "stream",
     "text": [
      "\b\b\b\b\b\b\b\b\b\b\b\b\b\b\b\b\b\b\b\b\b\b\b\b\b\b\b\b\b\b\b\b\b\b\b\b\b\b\b\b\b\b\b\b\b\b\b\b\b\b\b\b\b\b\b\r 1792/12153 [===>..........................] - ETA: 83s"
     ]
    },
    {
     "name": "stdout",
     "output_type": "stream",
     "text": [
      "\b\b\b\b\b\b\b\b\b\b\b\b\b\b\b\b\b\b\b\b\b\b\b\b\b\b\b\b\b\b\b\b\b\b\b\b\b\b\b\b\b\b\b\b\b\b\b\b\b\b\b\b\b\b\b\r 1824/12153 [===>..........................] - ETA: 82s"
     ]
    },
    {
     "name": "stdout",
     "output_type": "stream",
     "text": [
      "\b\b\b\b\b\b\b\b\b\b\b\b\b\b\b\b\b\b\b\b\b\b\b\b\b\b\b\b\b\b\b\b\b\b\b\b\b\b\b\b\b\b\b\b\b\b\b\b\b\b\b\b\b\b\b\r 1856/12153 [===>..........................] - ETA: 82s"
     ]
    },
    {
     "name": "stdout",
     "output_type": "stream",
     "text": [
      "\b\b\b\b\b\b\b\b\b\b\b\b\b\b\b\b\b\b\b\b\b\b\b\b\b\b\b\b\b\b\b\b\b\b\b\b\b\b\b\b\b\b\b\b\b\b\b\b\b\b\b\b\b\b\b\r 1888/12153 [===>..........................] - ETA: 82s"
     ]
    },
    {
     "name": "stdout",
     "output_type": "stream",
     "text": [
      "\b\b\b\b\b\b\b\b\b\b\b\b\b\b\b\b\b\b\b\b\b\b\b\b\b\b\b\b\b\b\b\b\b\b\b\b\b\b\b\b\b\b\b\b\b\b\b\b\b\b\b\b\b\b\b\r 1920/12153 [===>..........................] - ETA: 81s"
     ]
    },
    {
     "name": "stdout",
     "output_type": "stream",
     "text": [
      "\b\b\b\b\b\b\b\b\b\b\b\b\b\b\b\b\b\b\b\b\b\b\b\b\b\b\b\b\b\b\b\b\b\b\b\b\b\b\b\b\b\b\b\b\b\b\b\b\b\b\b\b\b\b\b\r 1952/12153 [===>..........................] - ETA: 81s"
     ]
    },
    {
     "name": "stdout",
     "output_type": "stream",
     "text": [
      "\b\b\b\b\b\b\b\b\b\b\b\b\b\b\b\b\b\b\b\b\b\b\b\b\b\b\b\b\b\b\b\b\b\b\b\b\b\b\b\b\b\b\b\b\b\b\b\b\b\b\b\b\b\b\b\r 1984/12153 [===>..........................] - ETA: 80s"
     ]
    },
    {
     "name": "stdout",
     "output_type": "stream",
     "text": [
      "\b\b\b\b\b\b\b\b\b\b\b\b\b\b\b\b\b\b\b\b\b\b\b\b\b\b\b\b\b\b\b\b\b\b\b\b\b\b\b\b\b\b\b\b\b\b\b\b\b\b\b\b\b\b\b\r 2016/12153 [===>..........................] - ETA: 80s"
     ]
    },
    {
     "name": "stdout",
     "output_type": "stream",
     "text": [
      "\b\b\b\b\b\b\b\b\b\b\b\b\b\b\b\b\b\b\b\b\b\b\b\b\b\b\b\b\b\b\b\b\b\b\b\b\b\b\b\b\b\b\b\b\b\b\b\b\b\b\b\b\b\b\b\r 2048/12153 [====>.........................] - ETA: 80s"
     ]
    },
    {
     "name": "stdout",
     "output_type": "stream",
     "text": [
      "\b\b\b\b\b\b\b\b\b\b\b\b\b\b\b\b\b\b\b\b\b\b\b\b\b\b\b\b\b\b\b\b\b\b\b\b\b\b\b\b\b\b\b\b\b\b\b\b\b\b\b\b\b\b\b\r 2080/12153 [====>.........................] - ETA: 79s"
     ]
    },
    {
     "name": "stdout",
     "output_type": "stream",
     "text": [
      "\b\b\b\b\b\b\b\b\b\b\b\b\b\b\b\b\b\b\b\b\b\b\b\b\b\b\b\b\b\b\b\b\b\b\b\b\b\b\b\b\b\b\b\b\b\b\b\b\b\b\b\b\b\b\b\r 2112/12153 [====>.........................] - ETA: 79s"
     ]
    },
    {
     "name": "stdout",
     "output_type": "stream",
     "text": [
      "\b\b\b\b\b\b\b\b\b\b\b\b\b\b\b\b\b\b\b\b\b\b\b\b\b\b\b\b\b\b\b\b\b\b\b\b\b\b\b\b\b\b\b\b\b\b\b\b\b\b\b\b\b\b\b\r 2144/12153 [====>.........................] - ETA: 79s"
     ]
    },
    {
     "name": "stdout",
     "output_type": "stream",
     "text": [
      "\b\b\b\b\b\b\b\b\b\b\b\b\b\b\b\b\b\b\b\b\b\b\b\b\b\b\b\b\b\b\b\b\b\b\b\b\b\b\b\b\b\b\b\b\b\b\b\b\b\b\b\b\b\b\b\r 2176/12153 [====>.........................] - ETA: 79s"
     ]
    },
    {
     "name": "stdout",
     "output_type": "stream",
     "text": [
      "\b\b\b\b\b\b\b\b\b\b\b\b\b\b\b\b\b\b\b\b\b\b\b\b\b\b\b\b\b\b\b\b\b\b\b\b\b\b\b\b\b\b\b\b\b\b\b\b\b\b\b\b\b\b\b\r 2208/12153 [====>.........................] - ETA: 79s"
     ]
    },
    {
     "name": "stdout",
     "output_type": "stream",
     "text": [
      "\b\b\b\b\b\b\b\b\b\b\b\b\b\b\b\b\b\b\b\b\b\b\b\b\b\b\b\b\b\b\b\b\b\b\b\b\b\b\b\b\b\b\b\b\b\b\b\b\b\b\b\b\b\b\b\r 2240/12153 [====>.........................] - ETA: 79s"
     ]
    },
    {
     "name": "stdout",
     "output_type": "stream",
     "text": [
      "\b\b\b\b\b\b\b\b\b\b\b\b\b\b\b\b\b\b\b\b\b\b\b\b\b\b\b\b\b\b\b\b\b\b\b\b\b\b\b\b\b\b\b\b\b\b\b\b\b\b\b\b\b\b\b\r 2272/12153 [====>.........................] - ETA: 78s"
     ]
    },
    {
     "name": "stdout",
     "output_type": "stream",
     "text": [
      "\b\b\b\b\b\b\b\b\b\b\b\b\b\b\b\b\b\b\b\b\b\b\b\b\b\b\b\b\b\b\b\b\b\b\b\b\b\b\b\b\b\b\b\b\b\b\b\b\b\b\b\b\b\b\b\r 2304/12153 [====>.........................] - ETA: 78s"
     ]
    },
    {
     "name": "stdout",
     "output_type": "stream",
     "text": [
      "\b\b\b\b\b\b\b\b\b\b\b\b\b\b\b\b\b\b\b\b\b\b\b\b\b\b\b\b\b\b\b\b\b\b\b\b\b\b\b\b\b\b\b\b\b\b\b\b\b\b\b\b\b\b\b\r 2336/12153 [====>.........................] - ETA: 78s"
     ]
    },
    {
     "name": "stdout",
     "output_type": "stream",
     "text": [
      "\b\b\b\b\b\b\b\b\b\b\b\b\b\b\b\b\b\b\b\b\b\b\b\b\b\b\b\b\b\b\b\b\b\b\b\b\b\b\b\b\b\b\b\b\b\b\b\b\b\b\b\b\b\b\b\r 2368/12153 [====>.........................] - ETA: 78s"
     ]
    },
    {
     "name": "stdout",
     "output_type": "stream",
     "text": [
      "\b\b\b\b\b\b\b\b\b\b\b\b\b\b\b\b\b\b\b\b\b\b\b\b\b\b\b\b\b\b\b\b\b\b\b\b\b\b\b\b\b\b\b\b\b\b\b\b\b\b\b\b\b\b\b\r 2400/12153 [====>.........................] - ETA: 78s"
     ]
    },
    {
     "name": "stdout",
     "output_type": "stream",
     "text": [
      "\b\b\b\b\b\b\b\b\b\b\b\b\b\b\b\b\b\b\b\b\b\b\b\b\b\b\b\b\b\b\b\b\b\b\b\b\b\b\b\b\b\b\b\b\b\b\b\b\b\b\b\b\b\b\b\r 2432/12153 [=====>........................] - ETA: 77s"
     ]
    },
    {
     "name": "stdout",
     "output_type": "stream",
     "text": [
      "\b\b\b\b\b\b\b\b\b\b\b\b\b\b\b\b\b\b\b\b\b\b\b\b\b\b\b\b\b\b\b\b\b\b\b\b\b\b\b\b\b\b\b\b\b\b\b\b\b\b\b\b\b\b\b\r 2464/12153 [=====>........................] - ETA: 77s"
     ]
    },
    {
     "name": "stdout",
     "output_type": "stream",
     "text": [
      "\b\b\b\b\b\b\b\b\b\b\b\b\b\b\b\b\b\b\b\b\b\b\b\b\b\b\b\b\b\b\b\b\b\b\b\b\b\b\b\b\b\b\b\b\b\b\b\b\b\b\b\b\b\b\b\r 2496/12153 [=====>........................] - ETA: 77s"
     ]
    },
    {
     "name": "stdout",
     "output_type": "stream",
     "text": [
      "\b\b\b\b\b\b\b\b\b\b\b\b\b\b\b\b\b\b\b\b\b\b\b\b\b\b\b\b\b\b\b\b\b\b\b\b\b\b\b\b\b\b\b\b\b\b\b\b\b\b\b\b\b\b\b\r 2528/12153 [=====>........................] - ETA: 76s"
     ]
    },
    {
     "name": "stdout",
     "output_type": "stream",
     "text": [
      "\b\b\b\b\b\b\b\b\b\b\b\b\b\b\b\b\b\b\b\b\b\b\b\b\b\b\b\b\b\b\b\b\b\b\b\b\b\b\b\b\b\b\b\b\b\b\b\b\b\b\b\b\b\b\b\r 2560/12153 [=====>........................] - ETA: 76s"
     ]
    },
    {
     "name": "stdout",
     "output_type": "stream",
     "text": [
      "\b\b\b\b\b\b\b\b\b\b\b\b\b\b\b\b\b\b\b\b\b\b\b\b\b\b\b\b\b\b\b\b\b\b\b\b\b\b\b\b\b\b\b\b\b\b\b\b\b\b\b\b\b\b\b\r 2592/12153 [=====>........................] - ETA: 76s"
     ]
    },
    {
     "name": "stdout",
     "output_type": "stream",
     "text": [
      "\b\b\b\b\b\b\b\b\b\b\b\b\b\b\b\b\b\b\b\b\b\b\b\b\b\b\b\b\b\b\b\b\b\b\b\b\b\b\b\b\b\b\b\b\b\b\b\b\b\b\b\b\b\b\b\r 2624/12153 [=====>........................] - ETA: 75s"
     ]
    },
    {
     "name": "stdout",
     "output_type": "stream",
     "text": [
      "\b\b\b\b\b\b\b\b\b\b\b\b\b\b\b\b\b\b\b\b\b\b\b\b\b\b\b\b\b\b\b\b\b\b\b\b\b\b\b\b\b\b\b\b\b\b\b\b\b\b\b\b\b\b\b\r 2656/12153 [=====>........................] - ETA: 75s"
     ]
    },
    {
     "name": "stdout",
     "output_type": "stream",
     "text": [
      "\b\b\b\b\b\b\b\b\b\b\b\b\b\b\b\b\b\b\b\b\b\b\b\b\b\b\b\b\b\b\b\b\b\b\b\b\b\b\b\b\b\b\b\b\b\b\b\b\b\b\b\b\b\b\b\r 2688/12153 [=====>........................] - ETA: 75s"
     ]
    },
    {
     "name": "stdout",
     "output_type": "stream",
     "text": [
      "\b\b\b\b\b\b\b\b\b\b\b\b\b\b\b\b\b\b\b\b\b\b\b\b\b\b\b\b\b\b\b\b\b\b\b\b\b\b\b\b\b\b\b\b\b\b\b\b\b\b\b\b\b\b\b\r 2720/12153 [=====>........................] - ETA: 75s"
     ]
    },
    {
     "name": "stdout",
     "output_type": "stream",
     "text": [
      "\b\b\b\b\b\b\b\b\b\b\b\b\b\b\b\b\b\b\b\b\b\b\b\b\b\b\b\b\b\b\b\b\b\b\b\b\b\b\b\b\b\b\b\b\b\b\b\b\b\b\b\b\b\b\b\r 2752/12153 [=====>........................] - ETA: 74s"
     ]
    },
    {
     "name": "stdout",
     "output_type": "stream",
     "text": [
      "\b\b\b\b\b\b\b\b\b\b\b\b\b\b\b\b\b\b\b\b\b\b\b\b\b\b\b\b\b\b\b\b\b\b\b\b\b\b\b\b\b\b\b\b\b\b\b\b\b\b\b\b\b\b\b\r 2784/12153 [=====>........................] - ETA: 74s"
     ]
    },
    {
     "name": "stdout",
     "output_type": "stream",
     "text": [
      "\b\b\b\b\b\b\b\b\b\b\b\b\b\b\b\b\b\b\b\b\b\b\b\b\b\b\b\b\b\b\b\b\b\b\b\b\b\b\b\b\b\b\b\b\b\b\b\b\b\b\b\b\b\b\b\r 2816/12153 [=====>........................] - ETA: 74s"
     ]
    },
    {
     "name": "stdout",
     "output_type": "stream",
     "text": [
      "\b\b\b\b\b\b\b\b\b\b\b\b\b\b\b\b\b\b\b\b\b\b\b\b\b\b\b\b\b\b\b\b\b\b\b\b\b\b\b\b\b\b\b\b\b\b\b\b\b\b\b\b\b\b\b\r 2848/12153 [======>.......................] - ETA: 73s"
     ]
    },
    {
     "name": "stdout",
     "output_type": "stream",
     "text": [
      "\b\b\b\b\b\b\b\b\b\b\b\b\b\b\b\b\b\b\b\b\b\b\b\b\b\b\b\b\b\b\b\b\b\b\b\b\b\b\b\b\b\b\b\b\b\b\b\b\b\b\b\b\b\b\b\r 2880/12153 [======>.......................] - ETA: 73s"
     ]
    },
    {
     "name": "stdout",
     "output_type": "stream",
     "text": [
      "\b\b\b\b\b\b\b\b\b\b\b\b\b\b\b\b\b\b\b\b\b\b\b\b\b\b\b\b\b\b\b\b\b\b\b\b\b\b\b\b\b\b\b\b\b\b\b\b\b\b\b\b\b\b\b\r 2912/12153 [======>.......................] - ETA: 73s"
     ]
    },
    {
     "name": "stdout",
     "output_type": "stream",
     "text": [
      "\b\b\b\b\b\b\b\b\b\b\b\b\b\b\b\b\b\b\b\b\b\b\b\b\b\b\b\b\b\b\b\b\b\b\b\b\b\b\b\b\b\b\b\b\b\b\b\b\b\b\b\b\b\b\b\r 2944/12153 [======>.......................] - ETA: 73s"
     ]
    },
    {
     "name": "stdout",
     "output_type": "stream",
     "text": [
      "\b\b\b\b\b\b\b\b\b\b\b\b\b\b\b\b\b\b\b\b\b\b\b\b\b\b\b\b\b\b\b\b\b\b\b\b\b\b\b\b\b\b\b\b\b\b\b\b\b\b\b\b\b\b\b\r 2976/12153 [======>.......................] - ETA: 75s"
     ]
    },
    {
     "name": "stdout",
     "output_type": "stream",
     "text": [
      "\b\b\b\b\b\b\b\b\b\b\b\b\b\b\b\b\b\b\b\b\b\b\b\b\b\b\b\b\b\b\b\b\b\b\b\b\b\b\b\b\b\b\b\b\b\b\b\b\b\b\b\b\b\b\b\r 3008/12153 [======>.......................] - ETA: 75s"
     ]
    },
    {
     "name": "stdout",
     "output_type": "stream",
     "text": [
      "\b\b\b\b\b\b\b\b\b\b\b\b\b\b\b\b\b\b\b\b\b\b\b\b\b\b\b\b\b\b\b\b\b\b\b\b\b\b\b\b\b\b\b\b\b\b\b\b\b\b\b\b\b\b\b\r 3040/12153 [======>.......................] - ETA: 76s"
     ]
    },
    {
     "name": "stdout",
     "output_type": "stream",
     "text": [
      "\b\b\b\b\b\b\b\b\b\b\b\b\b\b\b\b\b\b\b\b\b\b\b\b\b\b\b\b\b\b\b\b\b\b\b\b\b\b\b\b\b\b\b\b\b\b\b\b\b\b\b\b\b\b\b\r 3072/12153 [======>.......................] - ETA: 76s"
     ]
    },
    {
     "name": "stdout",
     "output_type": "stream",
     "text": [
      "\b\b\b\b\b\b\b\b\b\b\b\b\b\b\b\b\b\b\b\b\b\b\b\b\b\b\b\b\b\b\b\b\b\b\b\b\b\b\b\b\b\b\b\b\b\b\b\b\b\b\b\b\b\b\b\r 3104/12153 [======>.......................] - ETA: 77s"
     ]
    },
    {
     "name": "stdout",
     "output_type": "stream",
     "text": [
      "\b\b\b\b\b\b\b\b\b\b\b\b\b\b\b\b\b\b\b\b\b\b\b\b\b\b\b\b\b\b\b\b\b\b\b\b\b\b\b\b\b\b\b\b\b\b\b\b\b\b\b\b\b\b\b\r 3136/12153 [======>.......................] - ETA: 77s"
     ]
    },
    {
     "name": "stdout",
     "output_type": "stream",
     "text": [
      "\b\b\b\b\b\b\b\b\b\b\b\b\b\b\b\b\b\b\b\b\b\b\b\b\b\b\b\b\b\b\b\b\b\b\b\b\b\b\b\b\b\b\b\b\b\b\b\b\b\b\b\b\b\b\b\r 3168/12153 [======>.......................] - ETA: 78s"
     ]
    },
    {
     "name": "stdout",
     "output_type": "stream",
     "text": [
      "\b\b\b\b\b\b\b\b\b\b\b\b\b\b\b\b\b\b\b\b\b\b\b\b\b\b\b\b\b\b\b\b\b\b\b\b\b\b\b\b\b\b\b\b\b\b\b\b\b\b\b\b\b\b\b\r 3200/12153 [======>.......................] - ETA: 78s"
     ]
    },
    {
     "name": "stdout",
     "output_type": "stream",
     "text": [
      "\b\b\b\b\b\b\b\b\b\b\b\b\b\b\b\b\b\b\b\b\b\b\b\b\b\b\b\b\b\b\b\b\b\b\b\b\b\b\b\b\b\b\b\b\b\b\b\b\b\b\b\b\b\b\b\r 3232/12153 [======>.......................] - ETA: 77s"
     ]
    },
    {
     "name": "stdout",
     "output_type": "stream",
     "text": [
      "\b\b\b\b\b\b\b\b\b\b\b\b\b\b\b\b\b\b\b\b\b\b\b\b\b\b\b\b\b\b\b\b\b\b\b\b\b\b\b\b\b\b\b\b\b\b\b\b\b\b\b\b\b\b\b\r 3264/12153 [=======>......................] - ETA: 77s"
     ]
    },
    {
     "name": "stdout",
     "output_type": "stream",
     "text": [
      "\b\b\b\b\b\b\b\b\b\b\b\b\b\b\b\b\b\b\b\b\b\b\b\b\b\b\b\b\b\b\b\b\b\b\b\b\b\b\b\b\b\b\b\b\b\b\b\b\b\b\b\b\b\b\b\r 3296/12153 [=======>......................] - ETA: 77s"
     ]
    },
    {
     "name": "stdout",
     "output_type": "stream",
     "text": [
      "\b\b\b\b\b\b\b\b\b\b\b\b\b\b\b\b\b\b\b\b\b\b\b\b\b\b\b\b\b\b\b\b\b\b\b\b\b\b\b\b\b\b\b\b\b\b\b\b\b\b\b\b\b\b\b\r 3328/12153 [=======>......................] - ETA: 76s"
     ]
    },
    {
     "name": "stdout",
     "output_type": "stream",
     "text": [
      "\b\b\b\b\b\b\b\b\b\b\b\b\b\b\b\b\b\b\b\b\b\b\b\b\b\b\b\b\b\b\b\b\b\b\b\b\b\b\b\b\b\b\b\b\b\b\b\b\b\b\b\b\b\b\b\r 3360/12153 [=======>......................] - ETA: 76s"
     ]
    },
    {
     "name": "stdout",
     "output_type": "stream",
     "text": [
      "\b\b\b\b\b\b\b\b\b\b\b\b\b\b\b\b\b\b\b\b\b\b\b\b\b\b\b\b\b\b\b\b\b\b\b\b\b\b\b\b\b\b\b\b\b\b\b\b\b\b\b\b\b\b\b\r 3392/12153 [=======>......................] - ETA: 76s"
     ]
    },
    {
     "name": "stdout",
     "output_type": "stream",
     "text": [
      "\b\b\b\b\b\b\b\b\b\b\b\b\b\b\b\b\b\b\b\b\b\b\b\b\b\b\b\b\b\b\b\b\b\b\b\b\b\b\b\b\b\b\b\b\b\b\b\b\b\b\b\b\b\b\b\r 3424/12153 [=======>......................] - ETA: 76s"
     ]
    },
    {
     "name": "stdout",
     "output_type": "stream",
     "text": [
      "\b\b\b\b\b\b\b\b\b\b\b\b\b\b\b\b\b\b\b\b\b\b\b\b\b\b\b\b\b\b\b\b\b\b\b\b\b\b\b\b\b\b\b\b\b\b\b\b\b\b\b\b\b\b\b\r 3456/12153 [=======>......................] - ETA: 75s"
     ]
    },
    {
     "name": "stdout",
     "output_type": "stream",
     "text": [
      "\b\b\b\b\b\b\b\b\b\b\b\b\b\b\b\b\b\b\b\b\b\b\b\b\b\b\b\b\b\b\b\b\b\b\b\b\b\b\b\b\b\b\b\b\b\b\b\b\b\b\b\b\b\b\b\r 3488/12153 [=======>......................] - ETA: 75s"
     ]
    },
    {
     "name": "stdout",
     "output_type": "stream",
     "text": [
      "\b\b\b\b\b\b\b\b\b\b\b\b\b\b\b\b\b\b\b\b\b\b\b\b\b\b\b\b\b\b\b\b\b\b\b\b\b\b\b\b\b\b\b\b\b\b\b\b\b\b\b\b\b\b\b\r 3520/12153 [=======>......................] - ETA: 74s"
     ]
    },
    {
     "name": "stdout",
     "output_type": "stream",
     "text": [
      "\b\b\b\b\b\b\b\b\b\b\b\b\b\b\b\b\b\b\b\b\b\b\b\b\b\b\b\b\b\b\b\b\b\b\b\b\b\b\b\b\b\b\b\b\b\b\b\b\b\b\b\b\b\b\b\r 3552/12153 [=======>......................] - ETA: 74s"
     ]
    },
    {
     "name": "stdout",
     "output_type": "stream",
     "text": [
      "\b\b\b\b\b\b\b\b\b\b\b\b\b\b\b\b\b\b\b\b\b\b\b\b\b\b\b\b\b\b\b\b\b\b\b\b\b\b\b\b\b\b\b\b\b\b\b\b\b\b\b\b\b\b\b\r 3584/12153 [=======>......................] - ETA: 74s"
     ]
    },
    {
     "name": "stdout",
     "output_type": "stream",
     "text": [
      "\b\b\b\b\b\b\b\b\b\b\b\b\b\b\b\b\b\b\b\b\b\b\b\b\b\b\b\b\b\b\b\b\b\b\b\b\b\b\b\b\b\b\b\b\b\b\b\b\b\b\b\b\b\b\b\r 3616/12153 [=======>......................] - ETA: 73s"
     ]
    },
    {
     "name": "stdout",
     "output_type": "stream",
     "text": [
      "\b\b\b\b\b\b\b\b\b\b\b\b\b\b\b\b\b\b\b\b\b\b\b\b\b\b\b\b\b\b\b\b\b\b\b\b\b\b\b\b\b\b\b\b\b\b\b\b\b\b\b\b\b\b\b\r 3648/12153 [========>.....................] - ETA: 73s"
     ]
    },
    {
     "name": "stdout",
     "output_type": "stream",
     "text": [
      "\b\b\b\b\b\b\b\b\b\b\b\b\b\b\b\b\b\b\b\b\b\b\b\b\b\b\b\b\b\b\b\b\b\b\b\b\b\b\b\b\b\b\b\b\b\b\b\b\b\b\b\b\b\b\b\r 3680/12153 [========>.....................] - ETA: 72s"
     ]
    },
    {
     "name": "stdout",
     "output_type": "stream",
     "text": [
      "\b\b\b\b\b\b\b\b\b\b\b\b\b\b\b\b\b\b\b\b\b\b\b\b\b\b\b\b\b\b\b\b\b\b\b\b\b\b\b\b\b\b\b\b\b\b\b\b\b\b\b\b\b\b\b\r 3712/12153 [========>.....................] - ETA: 72s"
     ]
    },
    {
     "name": "stdout",
     "output_type": "stream",
     "text": [
      "\b\b\b\b\b\b\b\b\b\b\b\b\b\b\b\b\b\b\b\b\b\b\b\b\b\b\b\b\b\b\b\b\b\b\b\b\b\b\b\b\b\b\b\b\b\b\b\b\b\b\b\b\b\b\b\r 3744/12153 [========>.....................] - ETA: 72s"
     ]
    },
    {
     "name": "stdout",
     "output_type": "stream",
     "text": [
      "\b\b\b\b\b\b\b\b\b\b\b\b\b\b\b\b\b\b\b\b\b\b\b\b\b\b\b\b\b\b\b\b\b\b\b\b\b\b\b\b\b\b\b\b\b\b\b\b\b\b\b\b\b\b\b\r 3776/12153 [========>.....................] - ETA: 71s"
     ]
    },
    {
     "name": "stdout",
     "output_type": "stream",
     "text": [
      "\b\b\b\b\b\b\b\b\b\b\b\b\b\b\b\b\b\b\b\b\b\b\b\b\b\b\b\b\b\b\b\b\b\b\b\b\b\b\b\b\b\b\b\b\b\b\b\b\b\b\b\b\b\b\b\r 3808/12153 [========>.....................] - ETA: 71s"
     ]
    },
    {
     "name": "stdout",
     "output_type": "stream",
     "text": [
      "\b\b\b\b\b\b\b\b\b\b\b\b\b\b\b\b\b\b\b\b\b\b\b\b\b\b\b\b\b\b\b\b\b\b\b\b\b\b\b\b\b\b\b\b\b\b\b\b\b\b\b\b\b\b\b\r 3840/12153 [========>.....................] - ETA: 70s"
     ]
    },
    {
     "name": "stdout",
     "output_type": "stream",
     "text": [
      "\b\b\b\b\b\b\b\b\b\b\b\b\b\b\b\b\b\b\b\b\b\b\b\b\b\b\b\b\b\b\b\b\b\b\b\b\b\b\b\b\b\b\b\b\b\b\b\b\b\b\b\b\b\b\b\r 3872/12153 [========>.....................] - ETA: 70s"
     ]
    },
    {
     "name": "stdout",
     "output_type": "stream",
     "text": [
      "\b\b\b\b\b\b\b\b\b\b\b\b\b\b\b\b\b\b\b\b\b\b\b\b\b\b\b\b\b\b\b\b\b\b\b\b\b\b\b\b\b\b\b\b\b\b\b\b\b\b\b\b\b\b\b\r 3904/12153 [========>.....................] - ETA: 70s"
     ]
    },
    {
     "name": "stdout",
     "output_type": "stream",
     "text": [
      "\b\b\b\b\b\b\b\b\b\b\b\b\b\b\b\b\b\b\b\b\b\b\b\b\b\b\b\b\b\b\b\b\b\b\b\b\b\b\b\b\b\b\b\b\b\b\b\b\b\b\b\b\b\b\b\r 3936/12153 [========>.....................] - ETA: 69s"
     ]
    },
    {
     "name": "stdout",
     "output_type": "stream",
     "text": [
      "\b\b\b\b\b\b\b\b\b\b\b\b\b\b\b\b\b\b\b\b\b\b\b\b\b\b\b\b\b\b\b\b\b\b\b\b\b\b\b\b\b\b\b\b\b\b\b\b\b\b\b\b\b\b\b\r 3968/12153 [========>.....................] - ETA: 69s"
     ]
    },
    {
     "name": "stdout",
     "output_type": "stream",
     "text": [
      "\b\b\b\b\b\b\b\b\b\b\b\b\b\b\b\b\b\b\b\b\b\b\b\b\b\b\b\b\b\b\b\b\b\b\b\b\b\b\b\b\b\b\b\b\b\b\b\b\b\b\b\b\b\b\b\r 4000/12153 [========>.....................] - ETA: 68s"
     ]
    },
    {
     "name": "stdout",
     "output_type": "stream",
     "text": [
      "\b\b\b\b\b\b\b\b\b\b\b\b\b\b\b\b\b\b\b\b\b\b\b\b\b\b\b\b\b\b\b\b\b\b\b\b\b\b\b\b\b\b\b\b\b\b\b\b\b\b\b\b\b\b\b\r 4032/12153 [========>.....................] - ETA: 68s"
     ]
    },
    {
     "name": "stdout",
     "output_type": "stream",
     "text": [
      "\b\b\b\b\b\b\b\b\b\b\b\b\b\b\b\b\b\b\b\b\b\b\b\b\b\b\b\b\b\b\b\b\b\b\b\b\b\b\b\b\b\b\b\b\b\b\b\b\b\b\b\b\b\b\b\r 4064/12153 [=========>....................] - ETA: 68s"
     ]
    },
    {
     "name": "stdout",
     "output_type": "stream",
     "text": [
      "\b\b\b\b\b\b\b\b\b\b\b\b\b\b\b\b\b\b\b\b\b\b\b\b\b\b\b\b\b\b\b\b\b\b\b\b\b\b\b\b\b\b\b\b\b\b\b\b\b\b\b\b\b\b\b\r 4096/12153 [=========>....................] - ETA: 67s"
     ]
    },
    {
     "name": "stdout",
     "output_type": "stream",
     "text": [
      "\b\b\b\b\b\b\b\b\b\b\b\b\b\b\b\b\b\b\b\b\b\b\b\b\b\b\b\b\b\b\b\b\b\b\b\b\b\b\b\b\b\b\b\b\b\b\b\b\b\b\b\b\b\b\b\r 4128/12153 [=========>....................] - ETA: 67s"
     ]
    },
    {
     "name": "stdout",
     "output_type": "stream",
     "text": [
      "\b\b\b\b\b\b\b\b\b\b\b\b\b\b\b\b\b\b\b\b\b\b\b\b\b\b\b\b\b\b\b\b\b\b\b\b\b\b\b\b\b\b\b\b\b\b\b\b\b\b\b\b\b\b\b\r 4160/12153 [=========>....................] - ETA: 67s"
     ]
    },
    {
     "name": "stdout",
     "output_type": "stream",
     "text": [
      "\b\b\b\b\b\b\b\b\b\b\b\b\b\b\b\b\b\b\b\b\b\b\b\b\b\b\b\b\b\b\b\b\b\b\b\b\b\b\b\b\b\b\b\b\b\b\b\b\b\b\b\b\b\b\b\r 4192/12153 [=========>....................] - ETA: 66s"
     ]
    },
    {
     "name": "stdout",
     "output_type": "stream",
     "text": [
      "\b\b\b\b\b\b\b\b\b\b\b\b\b\b\b\b\b\b\b\b\b\b\b\b\b\b\b\b\b\b\b\b\b\b\b\b\b\b\b\b\b\b\b\b\b\b\b\b\b\b\b\b\b\b\b\r 4224/12153 [=========>....................] - ETA: 66s"
     ]
    },
    {
     "name": "stdout",
     "output_type": "stream",
     "text": [
      "\b\b\b\b\b\b\b\b\b\b\b\b\b\b\b\b\b\b\b\b\b\b\b\b\b\b\b\b\b\b\b\b\b\b\b\b\b\b\b\b\b\b\b\b\b\b\b\b\b\b\b\b\b\b\b\r 4256/12153 [=========>....................] - ETA: 66s"
     ]
    },
    {
     "name": "stdout",
     "output_type": "stream",
     "text": [
      "\b\b\b\b\b\b\b\b\b\b\b\b\b\b\b\b\b\b\b\b\b\b\b\b\b\b\b\b\b\b\b\b\b\b\b\b\b\b\b\b\b\b\b\b\b\b\b\b\b\b\b\b\b\b\b\r 4288/12153 [=========>....................] - ETA: 66s"
     ]
    },
    {
     "name": "stdout",
     "output_type": "stream",
     "text": [
      "\b\b\b\b\b\b\b\b\b\b\b\b\b\b\b\b\b\b\b\b\b\b\b\b\b\b\b\b\b\b\b\b\b\b\b\b\b\b\b\b\b\b\b\b\b\b\b\b\b\b\b\b\b\b\b\r 4320/12153 [=========>....................] - ETA: 66s"
     ]
    },
    {
     "name": "stdout",
     "output_type": "stream",
     "text": [
      "\b\b\b\b\b\b\b\b\b\b\b\b\b\b\b\b\b\b\b\b\b\b\b\b\b\b\b\b\b\b\b\b\b\b\b\b\b\b\b\b\b\b\b\b\b\b\b\b\b\b\b\b\b\b\b\r 4352/12153 [=========>....................] - ETA: 65s"
     ]
    },
    {
     "name": "stdout",
     "output_type": "stream",
     "text": [
      "\b\b\b\b\b\b\b\b\b\b\b\b\b\b\b\b\b\b\b\b\b\b\b\b\b\b\b\b\b\b\b\b\b\b\b\b\b\b\b\b\b\b\b\b\b\b\b\b\b\b\b\b\b\b\b\r 4384/12153 [=========>....................] - ETA: 65s"
     ]
    },
    {
     "name": "stdout",
     "output_type": "stream",
     "text": [
      "\b\b\b\b\b\b\b\b\b\b\b\b\b\b\b\b\b\b\b\b\b\b\b\b\b\b\b\b\b\b\b\b\b\b\b\b\b\b\b\b\b\b\b\b\b\b\b\b\b\b\b\b\b\b\b\r 4416/12153 [=========>....................] - ETA: 65s"
     ]
    },
    {
     "name": "stdout",
     "output_type": "stream",
     "text": [
      "\b\b\b\b\b\b\b\b\b\b\b\b\b\b\b\b\b\b\b\b\b\b\b\b\b\b\b\b\b\b\b\b\b\b\b\b\b\b\b\b\b\b\b\b\b\b\b\b\b\b\b\b\b\b\b\r 4448/12153 [=========>....................] - ETA: 65s"
     ]
    },
    {
     "name": "stdout",
     "output_type": "stream",
     "text": [
      "\b\b\b\b\b\b\b\b\b\b\b\b\b\b\b\b\b\b\b\b\b\b\b\b\b\b\b\b\b\b\b\b\b\b\b\b\b\b\b\b\b\b\b\b\b\b\b\b\b\b\b\b\b\b\b\r 4480/12153 [==========>...................] - ETA: 64s"
     ]
    },
    {
     "name": "stdout",
     "output_type": "stream",
     "text": [
      "\b\b\b\b\b\b\b\b\b\b\b\b\b\b\b\b\b\b\b\b\b\b\b\b\b\b\b\b\b\b\b\b\b\b\b\b\b\b\b\b\b\b\b\b\b\b\b\b\b\b\b\b\b\b\b\r 4512/12153 [==========>...................] - ETA: 64s"
     ]
    },
    {
     "name": "stdout",
     "output_type": "stream",
     "text": [
      "\b\b\b\b\b\b\b\b\b\b\b\b\b\b\b\b\b\b\b\b\b\b\b\b\b\b\b\b\b\b\b\b\b\b\b\b\b\b\b\b\b\b\b\b\b\b\b\b\b\b\b\b\b\b\b\r 4544/12153 [==========>...................] - ETA: 64s"
     ]
    },
    {
     "name": "stdout",
     "output_type": "stream",
     "text": [
      "\b\b\b\b\b\b\b\b\b\b\b\b\b\b\b\b\b\b\b\b\b\b\b\b\b\b\b\b\b\b\b\b\b\b\b\b\b\b\b\b\b\b\b\b\b\b\b\b\b\b\b\b\b\b\b\r 4576/12153 [==========>...................] - ETA: 63s"
     ]
    },
    {
     "name": "stdout",
     "output_type": "stream",
     "text": [
      "\b\b\b\b\b\b\b\b\b\b\b\b\b\b\b\b\b\b\b\b\b\b\b\b\b\b\b\b\b\b\b\b\b\b\b\b\b\b\b\b\b\b\b\b\b\b\b\b\b\b\b\b\b\b\b\r 4608/12153 [==========>...................] - ETA: 63s"
     ]
    },
    {
     "name": "stdout",
     "output_type": "stream",
     "text": [
      "\b\b\b\b\b\b\b\b\b\b\b\b\b\b\b\b\b\b\b\b\b\b\b\b\b\b\b\b\b\b\b\b\b\b\b\b\b\b\b\b\b\b\b\b\b\b\b\b\b\b\b\b\b\b\b\r 4640/12153 [==========>...................] - ETA: 63s"
     ]
    },
    {
     "name": "stdout",
     "output_type": "stream",
     "text": [
      "\b\b\b\b\b\b\b\b\b\b\b\b\b\b\b\b\b\b\b\b\b\b\b\b\b\b\b\b\b\b\b\b\b\b\b\b\b\b\b\b\b\b\b\b\b\b\b\b\b\b\b\b\b\b\b\r 4672/12153 [==========>...................] - ETA: 62s"
     ]
    },
    {
     "name": "stdout",
     "output_type": "stream",
     "text": [
      "\b\b\b\b\b\b\b\b\b\b\b\b\b\b\b\b\b\b\b\b\b\b\b\b\b\b\b\b\b\b\b\b\b\b\b\b\b\b\b\b\b\b\b\b\b\b\b\b\b\b\b\b\b\b\b\r 4704/12153 [==========>...................] - ETA: 62s"
     ]
    },
    {
     "name": "stdout",
     "output_type": "stream",
     "text": [
      "\b\b\b\b\b\b\b\b\b\b\b\b\b\b\b\b\b\b\b\b\b\b\b\b\b\b\b\b\b\b\b\b\b\b\b\b\b\b\b\b\b\b\b\b\b\b\b\b\b\b\b\b\b\b\b\r 4736/12153 [==========>...................] - ETA: 62s"
     ]
    },
    {
     "name": "stdout",
     "output_type": "stream",
     "text": [
      "\b\b\b\b\b\b\b\b\b\b\b\b\b\b\b\b\b\b\b\b\b\b\b\b\b\b\b\b\b\b\b\b\b\b\b\b\b\b\b\b\b\b\b\b\b\b\b\b\b\b\b\b\b\b\b\r 4768/12153 [==========>...................] - ETA: 61s"
     ]
    },
    {
     "name": "stdout",
     "output_type": "stream",
     "text": [
      "\b\b\b\b\b\b\b\b\b\b\b\b\b\b\b\b\b\b\b\b\b\b\b\b\b\b\b\b\b\b\b\b\b\b\b\b\b\b\b\b\b\b\b\b\b\b\b\b\b\b\b\b\b\b\b\r 4800/12153 [==========>...................] - ETA: 61s"
     ]
    },
    {
     "name": "stdout",
     "output_type": "stream",
     "text": [
      "\b\b\b\b\b\b\b\b\b\b\b\b\b\b\b\b\b\b\b\b\b\b\b\b\b\b\b\b\b\b\b\b\b\b\b\b\b\b\b\b\b\b\b\b\b\b\b\b\b\b\b\b\b\b\b\r 4832/12153 [==========>...................] - ETA: 61s"
     ]
    },
    {
     "name": "stdout",
     "output_type": "stream",
     "text": [
      "\b\b\b\b\b\b\b\b\b\b\b\b\b\b\b\b\b\b\b\b\b\b\b\b\b\b\b\b\b\b\b\b\b\b\b\b\b\b\b\b\b\b\b\b\b\b\b\b\b\b\b\b\b\b\b\r 4864/12153 [===========>..................] - ETA: 60s"
     ]
    },
    {
     "name": "stdout",
     "output_type": "stream",
     "text": [
      "\b\b\b\b\b\b\b\b\b\b\b\b\b\b\b\b\b\b\b\b\b\b\b\b\b\b\b\b\b\b\b\b\b\b\b\b\b\b\b\b\b\b\b\b\b\b\b\b\b\b\b\b\b\b\b\r 4896/12153 [===========>..................] - ETA: 60s"
     ]
    },
    {
     "name": "stdout",
     "output_type": "stream",
     "text": [
      "\b\b\b\b\b\b\b\b\b\b\b\b\b\b\b\b\b\b\b\b\b\b\b\b\b\b\b\b\b\b\b\b\b\b\b\b\b\b\b\b\b\b\b\b\b\b\b\b\b\b\b\b\b\b\b\r 4928/12153 [===========>..................] - ETA: 60s"
     ]
    },
    {
     "name": "stdout",
     "output_type": "stream",
     "text": [
      "\b\b\b\b\b\b\b\b\b\b\b\b\b\b\b\b\b\b\b\b\b\b\b\b\b\b\b\b\b\b\b\b\b\b\b\b\b\b\b\b\b\b\b\b\b\b\b\b\b\b\b\b\b\b\b\r 4960/12153 [===========>..................] - ETA: 60s"
     ]
    },
    {
     "name": "stdout",
     "output_type": "stream",
     "text": [
      "\b\b\b\b\b\b\b\b\b\b\b\b\b\b\b\b\b\b\b\b\b\b\b\b\b\b\b\b\b\b\b\b\b\b\b\b\b\b\b\b\b\b\b\b\b\b\b\b\b\b\b\b\b\b\b\r 4992/12153 [===========>..................] - ETA: 59s"
     ]
    },
    {
     "name": "stdout",
     "output_type": "stream",
     "text": [
      "\b\b\b\b\b\b\b\b\b\b\b\b\b\b\b\b\b\b\b\b\b\b\b\b\b\b\b\b\b\b\b\b\b\b\b\b\b\b\b\b\b\b\b\b\b\b\b\b\b\b\b\b\b\b\b\r 5024/12153 [===========>..................] - ETA: 59s"
     ]
    },
    {
     "name": "stdout",
     "output_type": "stream",
     "text": [
      "\b\b\b\b\b\b\b\b\b\b\b\b\b\b\b\b\b\b\b\b\b\b\b\b\b\b\b\b\b\b\b\b\b\b\b\b\b\b\b\b\b\b\b\b\b\b\b\b\b\b\b\b\b\b\b\r 5056/12153 [===========>..................] - ETA: 59s"
     ]
    },
    {
     "name": "stdout",
     "output_type": "stream",
     "text": [
      "\b\b\b\b\b\b\b\b\b\b\b\b\b\b\b\b\b\b\b\b\b\b\b\b\b\b\b\b\b\b\b\b\b\b\b\b\b\b\b\b\b\b\b\b\b\b\b\b\b\b\b\b\b\b\b\r 5088/12153 [===========>..................] - ETA: 58s"
     ]
    },
    {
     "name": "stdout",
     "output_type": "stream",
     "text": [
      "\b\b\b\b\b\b\b\b\b\b\b\b\b\b\b\b\b\b\b\b\b\b\b\b\b\b\b\b\b\b\b\b\b\b\b\b\b\b\b\b\b\b\b\b\b\b\b\b\b\b\b\b\b\b\b\r 5120/12153 [===========>..................] - ETA: 58s"
     ]
    },
    {
     "name": "stdout",
     "output_type": "stream",
     "text": [
      "\b\b\b\b\b\b\b\b\b\b\b\b\b\b\b\b\b\b\b\b\b\b\b\b\b\b\b\b\b\b\b\b\b\b\b\b\b\b\b\b\b\b\b\b\b\b\b\b\b\b\b\b\b\b\b\r 5152/12153 [===========>..................] - ETA: 58s"
     ]
    },
    {
     "name": "stdout",
     "output_type": "stream",
     "text": [
      "\b\b\b\b\b\b\b\b\b\b\b\b\b\b\b\b\b\b\b\b\b\b\b\b\b\b\b\b\b\b\b\b\b\b\b\b\b\b\b\b\b\b\b\b\b\b\b\b\b\b\b\b\b\b\b\r 5184/12153 [===========>..................] - ETA: 58s"
     ]
    },
    {
     "name": "stdout",
     "output_type": "stream",
     "text": [
      "\b\b\b\b\b\b\b\b\b\b\b\b\b\b\b\b\b\b\b\b\b\b\b\b\b\b\b\b\b\b\b\b\b\b\b\b\b\b\b\b\b\b\b\b\b\b\b\b\b\b\b\b\b\b\b\r 5216/12153 [===========>..................] - ETA: 57s"
     ]
    },
    {
     "name": "stdout",
     "output_type": "stream",
     "text": [
      "\b\b\b\b\b\b\b\b\b\b\b\b\b\b\b\b\b\b\b\b\b\b\b\b\b\b\b\b\b\b\b\b\b\b\b\b\b\b\b\b\b\b\b\b\b\b\b\b\b\b\b\b\b\b\b\r 5248/12153 [===========>..................] - ETA: 57s"
     ]
    },
    {
     "name": "stdout",
     "output_type": "stream",
     "text": [
      "\b\b\b\b\b\b\b\b\b\b\b\b\b\b\b\b\b\b\b\b\b\b\b\b\b\b\b\b\b\b\b\b\b\b\b\b\b\b\b\b\b\b\b\b\b\b\b\b\b\b\b\b\b\b\b\r 5280/12153 [============>.................] - ETA: 57s"
     ]
    },
    {
     "name": "stdout",
     "output_type": "stream",
     "text": [
      "\b\b\b\b\b\b\b\b\b\b\b\b\b\b\b\b\b\b\b\b\b\b\b\b\b\b\b\b\b\b\b\b\b\b\b\b\b\b\b\b\b\b\b\b\b\b\b\b\b\b\b\b\b\b\b\r 5312/12153 [============>.................] - ETA: 56s"
     ]
    },
    {
     "name": "stdout",
     "output_type": "stream",
     "text": [
      "\b\b\b\b\b\b\b\b\b\b\b\b\b\b\b\b\b\b\b\b\b\b\b\b\b\b\b\b\b\b\b\b\b\b\b\b\b\b\b\b\b\b\b\b\b\b\b\b\b\b\b\b\b\b\b\r 5344/12153 [============>.................] - ETA: 56s"
     ]
    },
    {
     "name": "stdout",
     "output_type": "stream",
     "text": [
      "\b\b\b\b\b\b\b\b\b\b\b\b\b\b\b\b\b\b\b\b\b\b\b\b\b\b\b\b\b\b\b\b\b\b\b\b\b\b\b\b\b\b\b\b\b\b\b\b\b\b\b\b\b\b\b\r 5376/12153 [============>.................] - ETA: 56s"
     ]
    },
    {
     "name": "stdout",
     "output_type": "stream",
     "text": [
      "\b\b\b\b\b\b\b\b\b\b\b\b\b\b\b\b\b\b\b\b\b\b\b\b\b\b\b\b\b\b\b\b\b\b\b\b\b\b\b\b\b\b\b\b\b\b\b\b\b\b\b\b\b\b\b\r 5408/12153 [============>.................] - ETA: 56s"
     ]
    },
    {
     "name": "stdout",
     "output_type": "stream",
     "text": [
      "\b\b\b\b\b\b\b\b\b\b\b\b\b\b\b\b\b\b\b\b\b\b\b\b\b\b\b\b\b\b\b\b\b\b\b\b\b\b\b\b\b\b\b\b\b\b\b\b\b\b\b\b\b\b\b\r 5440/12153 [============>.................] - ETA: 55s"
     ]
    },
    {
     "name": "stdout",
     "output_type": "stream",
     "text": [
      "\b\b\b\b\b\b\b\b\b\b\b\b\b\b\b\b\b\b\b\b\b\b\b\b\b\b\b\b\b\b\b\b\b\b\b\b\b\b\b\b\b\b\b\b\b\b\b\b\b\b\b\b\b\b\b\r 5472/12153 [============>.................] - ETA: 55s"
     ]
    },
    {
     "name": "stdout",
     "output_type": "stream",
     "text": [
      "\b\b\b\b\b\b\b\b\b\b\b\b\b\b\b\b\b\b\b\b\b\b\b\b\b\b\b\b\b\b\b\b\b\b\b\b\b\b\b\b\b\b\b\b\b\b\b\b\b\b\b\b\b\b\b\r 5504/12153 [============>.................] - ETA: 55s"
     ]
    },
    {
     "name": "stdout",
     "output_type": "stream",
     "text": [
      "\b\b\b\b\b\b\b\b\b\b\b\b\b\b\b\b\b\b\b\b\b\b\b\b\b\b\b\b\b\b\b\b\b\b\b\b\b\b\b\b\b\b\b\b\b\b\b\b\b\b\b\b\b\b\b\r 5536/12153 [============>.................] - ETA: 54s"
     ]
    },
    {
     "name": "stdout",
     "output_type": "stream",
     "text": [
      "\b\b\b\b\b\b\b\b\b\b\b\b\b\b\b\b\b\b\b\b\b\b\b\b\b\b\b\b\b\b\b\b\b\b\b\b\b\b\b\b\b\b\b\b\b\b\b\b\b\b\b\b\b\b\b\r 5568/12153 [============>.................] - ETA: 54s"
     ]
    },
    {
     "name": "stdout",
     "output_type": "stream",
     "text": [
      "\b\b\b\b\b\b\b\b\b\b\b\b\b\b\b\b\b\b\b\b\b\b\b\b\b\b\b\b\b\b\b\b\b\b\b\b\b\b\b\b\b\b\b\b\b\b\b\b\b\b\b\b\b\b\b\r 5600/12153 [============>.................] - ETA: 54s"
     ]
    },
    {
     "name": "stdout",
     "output_type": "stream",
     "text": [
      "\b\b\b\b\b\b\b\b\b\b\b\b\b\b\b\b\b\b\b\b\b\b\b\b\b\b\b\b\b\b\b\b\b\b\b\b\b\b\b\b\b\b\b\b\b\b\b\b\b\b\b\b\b\b\b\r 5632/12153 [============>.................] - ETA: 53s"
     ]
    },
    {
     "name": "stdout",
     "output_type": "stream",
     "text": [
      "\b\b\b\b\b\b\b\b\b\b\b\b\b\b\b\b\b\b\b\b\b\b\b\b\b\b\b\b\b\b\b\b\b\b\b\b\b\b\b\b\b\b\b\b\b\b\b\b\b\b\b\b\b\b\b\r 5664/12153 [============>.................] - ETA: 53s"
     ]
    },
    {
     "name": "stdout",
     "output_type": "stream",
     "text": [
      "\b\b\b\b\b\b\b\b\b\b\b\b\b\b\b\b\b\b\b\b\b\b\b\b\b\b\b\b\b\b\b\b\b\b\b\b\b\b\b\b\b\b\b\b\b\b\b\b\b\b\b\b\b\b\b\r 5696/12153 [=============>................] - ETA: 53s"
     ]
    },
    {
     "name": "stdout",
     "output_type": "stream",
     "text": [
      "\b\b\b\b\b\b\b\b\b\b\b\b\b\b\b\b\b\b\b\b\b\b\b\b\b\b\b\b\b\b\b\b\b\b\b\b\b\b\b\b\b\b\b\b\b\b\b\b\b\b\b\b\b\b\b\r 5728/12153 [=============>................] - ETA: 53s"
     ]
    },
    {
     "name": "stdout",
     "output_type": "stream",
     "text": [
      "\b\b\b\b\b\b\b\b\b\b\b\b\b\b\b\b\b\b\b\b\b\b\b\b\b\b\b\b\b\b\b\b\b\b\b\b\b\b\b\b\b\b\b\b\b\b\b\b\b\b\b\b\b\b\b\r 5760/12153 [=============>................] - ETA: 52s"
     ]
    },
    {
     "name": "stdout",
     "output_type": "stream",
     "text": [
      "\b\b\b\b\b\b\b\b\b\b\b\b\b\b\b\b\b\b\b\b\b\b\b\b\b\b\b\b\b\b\b\b\b\b\b\b\b\b\b\b\b\b\b\b\b\b\b\b\b\b\b\b\b\b\b\r 5792/12153 [=============>................] - ETA: 52s"
     ]
    },
    {
     "name": "stdout",
     "output_type": "stream",
     "text": [
      "\b\b\b\b\b\b\b\b\b\b\b\b\b\b\b\b\b\b\b\b\b\b\b\b\b\b\b\b\b\b\b\b\b\b\b\b\b\b\b\b\b\b\b\b\b\b\b\b\b\b\b\b\b\b\b\r 5824/12153 [=============>................] - ETA: 52s"
     ]
    },
    {
     "name": "stdout",
     "output_type": "stream",
     "text": [
      "\b\b\b\b\b\b\b\b\b\b\b\b\b\b\b\b\b\b\b\b\b\b\b\b\b\b\b\b\b\b\b\b\b\b\b\b\b\b\b\b\b\b\b\b\b\b\b\b\b\b\b\b\b\b\b\r 5856/12153 [=============>................] - ETA: 52s"
     ]
    },
    {
     "name": "stdout",
     "output_type": "stream",
     "text": [
      "\b\b\b\b\b\b\b\b\b\b\b\b\b\b\b\b\b\b\b\b\b\b\b\b\b\b\b\b\b\b\b\b\b\b\b\b\b\b\b\b\b\b\b\b\b\b\b\b\b\b\b\b\b\b\b\r 5888/12153 [=============>................] - ETA: 52s"
     ]
    },
    {
     "name": "stdout",
     "output_type": "stream",
     "text": [
      "\b\b\b\b\b\b\b\b\b\b\b\b\b\b\b\b\b\b\b\b\b\b\b\b\b\b\b\b\b\b\b\b\b\b\b\b\b\b\b\b\b\b\b\b\b\b\b\b\b\b\b\b\b\b\b\r 5920/12153 [=============>................] - ETA: 52s"
     ]
    },
    {
     "name": "stdout",
     "output_type": "stream",
     "text": [
      "\b\b\b\b\b\b\b\b\b\b\b\b\b\b\b\b\b\b\b\b\b\b\b\b\b\b\b\b\b\b\b\b\b\b\b\b\b\b\b\b\b\b\b\b\b\b\b\b\b\b\b\b\b\b\b\r 5952/12153 [=============>................] - ETA: 52s"
     ]
    },
    {
     "name": "stdout",
     "output_type": "stream",
     "text": [
      "\b\b\b\b\b\b\b\b\b\b\b\b\b\b\b\b\b\b\b\b\b\b\b\b\b\b\b\b\b\b\b\b\b\b\b\b\b\b\b\b\b\b\b\b\b\b\b\b\b\b\b\b\b\b\b\r 5984/12153 [=============>................] - ETA: 52s"
     ]
    },
    {
     "name": "stdout",
     "output_type": "stream",
     "text": [
      "\b\b\b\b\b\b\b\b\b\b\b\b\b\b\b\b\b\b\b\b\b\b\b\b\b\b\b\b\b\b\b\b\b\b\b\b\b\b\b\b\b\b\b\b\b\b\b\b\b\b\b\b\b\b\b\r 6016/12153 [=============>................] - ETA: 51s"
     ]
    },
    {
     "name": "stdout",
     "output_type": "stream",
     "text": [
      "\b\b\b\b\b\b\b\b\b\b\b\b\b\b\b\b\b\b\b\b\b\b\b\b\b\b\b\b\b\b\b\b\b\b\b\b\b\b\b\b\b\b\b\b\b\b\b\b\b\b\b\b\b\b\b\r 6048/12153 [=============>................] - ETA: 51s"
     ]
    },
    {
     "name": "stdout",
     "output_type": "stream",
     "text": [
      "\b\b\b\b\b\b\b\b\b\b\b\b\b\b\b\b\b\b\b\b\b\b\b\b\b\b\b\b\b\b\b\b\b\b\b\b\b\b\b\b\b\b\b\b\b\b\b\b\b\b\b\b\b\b\b\r 6080/12153 [==============>...............] - ETA: 51s"
     ]
    },
    {
     "name": "stdout",
     "output_type": "stream",
     "text": [
      "\b\b\b\b\b\b\b\b\b\b\b\b\b\b\b\b\b\b\b\b\b\b\b\b\b\b\b\b\b\b\b\b\b\b\b\b\b\b\b\b\b\b\b\b\b\b\b\b\b\b\b\b\b\b\b\r 6112/12153 [==============>...............] - ETA: 51s"
     ]
    },
    {
     "name": "stdout",
     "output_type": "stream",
     "text": [
      "\b\b\b\b\b\b\b\b\b\b\b\b\b\b\b\b\b\b\b\b\b\b\b\b\b\b\b\b\b\b\b\b\b\b\b\b\b\b\b\b\b\b\b\b\b\b\b\b\b\b\b\b\b\b\b\r 6144/12153 [==============>...............] - ETA: 50s"
     ]
    },
    {
     "name": "stdout",
     "output_type": "stream",
     "text": [
      "\b\b\b\b\b\b\b\b\b\b\b\b\b\b\b\b\b\b\b\b\b\b\b\b\b\b\b\b\b\b\b\b\b\b\b\b\b\b\b\b\b\b\b\b\b\b\b\b\b\b\b\b\b\b\b\r 6176/12153 [==============>...............] - ETA: 50s"
     ]
    },
    {
     "name": "stdout",
     "output_type": "stream",
     "text": [
      "\b\b\b\b\b\b\b\b\b\b\b\b\b\b\b\b\b\b\b\b\b\b\b\b\b\b\b\b\b\b\b\b\b\b\b\b\b\b\b\b\b\b\b\b\b\b\b\b\b\b\b\b\b\b\b\r 6208/12153 [==============>...............] - ETA: 50s"
     ]
    },
    {
     "name": "stdout",
     "output_type": "stream",
     "text": [
      "\b\b\b\b\b\b\b\b\b\b\b\b\b\b\b\b\b\b\b\b\b\b\b\b\b\b\b\b\b\b\b\b\b\b\b\b\b\b\b\b\b\b\b\b\b\b\b\b\b\b\b\b\b\b\b\r 6240/12153 [==============>...............] - ETA: 50s"
     ]
    },
    {
     "name": "stdout",
     "output_type": "stream",
     "text": [
      "\b\b\b\b\b\b\b\b\b\b\b\b\b\b\b\b\b\b\b\b\b\b\b\b\b\b\b\b\b\b\b\b\b\b\b\b\b\b\b\b\b\b\b\b\b\b\b\b\b\b\b\b\b\b\b\r 6272/12153 [==============>...............] - ETA: 49s"
     ]
    },
    {
     "name": "stdout",
     "output_type": "stream",
     "text": [
      "\b\b\b\b\b\b\b\b\b\b\b\b\b\b\b\b\b\b\b\b\b\b\b\b\b\b\b\b\b\b\b\b\b\b\b\b\b\b\b\b\b\b\b\b\b\b\b\b\b\b\b\b\b\b\b\r 6304/12153 [==============>...............] - ETA: 49s"
     ]
    },
    {
     "name": "stdout",
     "output_type": "stream",
     "text": [
      "\b\b\b\b\b\b\b\b\b\b\b\b\b\b\b\b\b\b\b\b\b\b\b\b\b\b\b\b\b\b\b\b\b\b\b\b\b\b\b\b\b\b\b\b\b\b\b\b\b\b\b\b\b\b\b\r 6336/12153 [==============>...............] - ETA: 49s"
     ]
    },
    {
     "name": "stdout",
     "output_type": "stream",
     "text": [
      "\b\b\b\b\b\b\b\b\b\b\b\b\b\b\b\b\b\b\b\b\b\b\b\b\b\b\b\b\b\b\b\b\b\b\b\b\b\b\b\b\b\b\b\b\b\b\b\b\b\b\b\b\b\b\b\r 6368/12153 [==============>...............] - ETA: 49s"
     ]
    },
    {
     "name": "stdout",
     "output_type": "stream",
     "text": [
      "\b\b\b\b\b\b\b\b\b\b\b\b\b\b\b\b\b\b\b\b\b\b\b\b\b\b\b\b\b\b\b\b\b\b\b\b\b\b\b\b\b\b\b\b\b\b\b\b\b\b\b\b\b\b\b\r 6400/12153 [==============>...............] - ETA: 49s"
     ]
    },
    {
     "name": "stdout",
     "output_type": "stream",
     "text": [
      "\b\b\b\b\b\b\b\b\b\b\b\b\b\b\b\b\b\b\b\b\b\b\b\b\b\b\b\b\b\b\b\b\b\b\b\b\b\b\b\b\b\b\b\b\b\b\b\b\b\b\b\b\b\b\b\r 6432/12153 [==============>...............] - ETA: 49s"
     ]
    },
    {
     "name": "stdout",
     "output_type": "stream",
     "text": [
      "\b\b\b\b\b\b\b\b\b\b\b\b\b\b\b\b\b\b\b\b\b\b\b\b\b\b\b\b\b\b\b\b\b\b\b\b\b\b\b\b\b\b\b\b\b\b\b\b\b\b\b\b\b\b\b\r 6464/12153 [==============>...............] - ETA: 49s"
     ]
    },
    {
     "name": "stdout",
     "output_type": "stream",
     "text": [
      "\b\b\b\b\b\b\b\b\b\b\b\b\b\b\b\b\b\b\b\b\b\b\b\b\b\b\b\b\b\b\b\b\b\b\b\b\b\b\b\b\b\b\b\b\b\b\b\b\b\b\b\b\b\b\b\r 6496/12153 [===============>..............] - ETA: 49s"
     ]
    },
    {
     "name": "stdout",
     "output_type": "stream",
     "text": [
      "\b\b\b\b\b\b\b\b\b\b\b\b\b\b\b\b\b\b\b\b\b\b\b\b\b\b\b\b\b\b\b\b\b\b\b\b\b\b\b\b\b\b\b\b\b\b\b\b\b\b\b\b\b\b\b\r 6528/12153 [===============>..............] - ETA: 49s"
     ]
    },
    {
     "name": "stdout",
     "output_type": "stream",
     "text": [
      "\b\b\b\b\b\b\b\b\b\b\b\b\b\b\b\b\b\b\b\b\b\b\b\b\b\b\b\b\b\b\b\b\b\b\b\b\b\b\b\b\b\b\b\b\b\b\b\b\b\b\b\b\b\b\b\r 6560/12153 [===============>..............] - ETA: 48s"
     ]
    },
    {
     "name": "stdout",
     "output_type": "stream",
     "text": [
      "\b\b\b\b\b\b\b\b\b\b\b\b\b\b\b\b\b\b\b\b\b\b\b\b\b\b\b\b\b\b\b\b\b\b\b\b\b\b\b\b\b\b\b\b\b\b\b\b\b\b\b\b\b\b\b\r 6592/12153 [===============>..............] - ETA: 48s"
     ]
    },
    {
     "name": "stdout",
     "output_type": "stream",
     "text": [
      "\b\b\b\b\b\b\b\b\b\b\b\b\b\b\b\b\b\b\b\b\b\b\b\b\b\b\b\b\b\b\b\b\b\b\b\b\b\b\b\b\b\b\b\b\b\b\b\b\b\b\b\b\b\b\b\r 6624/12153 [===============>..............] - ETA: 48s"
     ]
    },
    {
     "name": "stdout",
     "output_type": "stream",
     "text": [
      "\b\b\b\b\b\b\b\b\b\b\b\b\b\b\b\b\b\b\b\b\b\b\b\b\b\b\b\b\b\b\b\b\b\b\b\b\b\b\b\b\b\b\b\b\b\b\b\b\b\b\b\b\b\b\b\r 6656/12153 [===============>..............] - ETA: 48s"
     ]
    },
    {
     "name": "stdout",
     "output_type": "stream",
     "text": [
      "\b\b\b\b\b\b\b\b\b\b\b\b\b\b\b\b\b\b\b\b\b\b\b\b\b\b\b\b\b\b\b\b\b\b\b\b\b\b\b\b\b\b\b\b\b\b\b\b\b\b\b\b\b\b\b\r 6688/12153 [===============>..............] - ETA: 47s"
     ]
    },
    {
     "name": "stdout",
     "output_type": "stream",
     "text": [
      "\b\b\b\b\b\b\b\b\b\b\b\b\b\b\b\b\b\b\b\b\b\b\b\b\b\b\b\b\b\b\b\b\b\b\b\b\b\b\b\b\b\b\b\b\b\b\b\b\b\b\b\b\b\b\b\r 6720/12153 [===============>..............] - ETA: 47s"
     ]
    },
    {
     "name": "stdout",
     "output_type": "stream",
     "text": [
      "\b\b\b\b\b\b\b\b\b\b\b\b\b\b\b\b\b\b\b\b\b\b\b\b\b\b\b\b\b\b\b\b\b\b\b\b\b\b\b\b\b\b\b\b\b\b\b\b\b\b\b\b\b\b\b\r 6752/12153 [===============>..............] - ETA: 47s"
     ]
    },
    {
     "name": "stdout",
     "output_type": "stream",
     "text": [
      "\b\b\b\b\b\b\b\b\b\b\b\b\b\b\b\b\b\b\b\b\b\b\b\b\b\b\b\b\b\b\b\b\b\b\b\b\b\b\b\b\b\b\b\b\b\b\b\b\b\b\b\b\b\b\b\r 6784/12153 [===============>..............] - ETA: 47s"
     ]
    },
    {
     "name": "stdout",
     "output_type": "stream",
     "text": [
      "\b\b\b\b\b\b\b\b\b\b\b\b\b\b\b\b\b\b\b\b\b\b\b\b\b\b\b\b\b\b\b\b\b\b\b\b\b\b\b\b\b\b\b\b\b\b\b\b\b\b\b\b\b\b\b\r 6816/12153 [===============>..............] - ETA: 46s"
     ]
    },
    {
     "name": "stdout",
     "output_type": "stream",
     "text": [
      "\b\b\b\b\b\b\b\b\b\b\b\b\b\b\b\b\b\b\b\b\b\b\b\b\b\b\b\b\b\b\b\b\b\b\b\b\b\b\b\b\b\b\b\b\b\b\b\b\b\b\b\b\b\b\b\r 6848/12153 [===============>..............] - ETA: 46s"
     ]
    },
    {
     "name": "stdout",
     "output_type": "stream",
     "text": [
      "\b\b\b\b\b\b\b\b\b\b\b\b\b\b\b\b\b\b\b\b\b\b\b\b\b\b\b\b\b\b\b\b\b\b\b\b\b\b\b\b\b\b\b\b\b\b\b\b\b\b\b\b\b\b\b\r 6880/12153 [===============>..............] - ETA: 46s"
     ]
    },
    {
     "name": "stdout",
     "output_type": "stream",
     "text": [
      "\b\b\b\b\b\b\b\b\b\b\b\b\b\b\b\b\b\b\b\b\b\b\b\b\b\b\b\b\b\b\b\b\b\b\b\b\b\b\b\b\b\b\b\b\b\b\b\b\b\b\b\b\b\b\b\r 6912/12153 [================>.............] - ETA: 46s"
     ]
    },
    {
     "name": "stdout",
     "output_type": "stream",
     "text": [
      "\b\b\b\b\b\b\b\b\b\b\b\b\b\b\b\b\b\b\b\b\b\b\b\b\b\b\b\b\b\b\b\b\b\b\b\b\b\b\b\b\b\b\b\b\b\b\b\b\b\b\b\b\b\b\b\r 6944/12153 [================>.............] - ETA: 46s"
     ]
    },
    {
     "name": "stdout",
     "output_type": "stream",
     "text": [
      "\b\b\b\b\b\b\b\b\b\b\b\b\b\b\b\b\b\b\b\b\b\b\b\b\b\b\b\b\b\b\b\b\b\b\b\b\b\b\b\b\b\b\b\b\b\b\b\b\b\b\b\b\b\b\b\r 6976/12153 [================>.............] - ETA: 46s"
     ]
    },
    {
     "name": "stdout",
     "output_type": "stream",
     "text": [
      "\b\b\b\b\b\b\b\b\b\b\b\b\b\b\b\b\b\b\b\b\b\b\b\b\b\b\b\b\b\b\b\b\b\b\b\b\b\b\b\b\b\b\b\b\b\b\b\b\b\b\b\b\b\b\b\r 7008/12153 [================>.............] - ETA: 45s"
     ]
    },
    {
     "name": "stdout",
     "output_type": "stream",
     "text": [
      "\b\b\b\b\b\b\b\b\b\b\b\b\b\b\b\b\b\b\b\b\b\b\b\b\b\b\b\b\b\b\b\b\b\b\b\b\b\b\b\b\b\b\b\b\b\b\b\b\b\b\b\b\b\b\b\r 7040/12153 [================>.............] - ETA: 45s"
     ]
    },
    {
     "name": "stdout",
     "output_type": "stream",
     "text": [
      "\b\b\b\b\b\b\b\b\b\b\b\b\b\b\b\b\b\b\b\b\b\b\b\b\b\b\b\b\b\b\b\b\b\b\b\b\b\b\b\b\b\b\b\b\b\b\b\b\b\b\b\b\b\b\b\r 7072/12153 [================>.............] - ETA: 45s"
     ]
    },
    {
     "name": "stdout",
     "output_type": "stream",
     "text": [
      "\b\b\b\b\b\b\b\b\b\b\b\b\b\b\b\b\b\b\b\b\b\b\b\b\b\b\b\b\b\b\b\b\b\b\b\b\b\b\b\b\b\b\b\b\b\b\b\b\b\b\b\b\b\b\b\r 7104/12153 [================>.............] - ETA: 45s"
     ]
    },
    {
     "name": "stdout",
     "output_type": "stream",
     "text": [
      "\b\b\b\b\b\b\b\b\b\b\b\b\b\b\b\b\b\b\b\b\b\b\b\b\b\b\b\b\b\b\b\b\b\b\b\b\b\b\b\b\b\b\b\b\b\b\b\b\b\b\b\b\b\b\b\r 7136/12153 [================>.............] - ETA: 44s"
     ]
    },
    {
     "name": "stdout",
     "output_type": "stream",
     "text": [
      "\b\b\b\b\b\b\b\b\b\b\b\b\b\b\b\b\b\b\b\b\b\b\b\b\b\b\b\b\b\b\b\b\b\b\b\b\b\b\b\b\b\b\b\b\b\b\b\b\b\b\b\b\b\b\b\r 7168/12153 [================>.............] - ETA: 44s"
     ]
    },
    {
     "name": "stdout",
     "output_type": "stream",
     "text": [
      "\b\b\b\b\b\b\b\b\b\b\b\b\b\b\b\b\b\b\b\b\b\b\b\b\b\b\b\b\b\b\b\b\b\b\b\b\b\b\b\b\b\b\b\b\b\b\b\b\b\b\b\b\b\b\b\r 7200/12153 [================>.............] - ETA: 44s"
     ]
    },
    {
     "name": "stdout",
     "output_type": "stream",
     "text": [
      "\b\b\b\b\b\b\b\b\b\b\b\b\b\b\b\b\b\b\b\b\b\b\b\b\b\b\b\b\b\b\b\b\b\b\b\b\b\b\b\b\b\b\b\b\b\b\b\b\b\b\b\b\b\b\b\r 7232/12153 [================>.............] - ETA: 43s"
     ]
    },
    {
     "name": "stdout",
     "output_type": "stream",
     "text": [
      "\b\b\b\b\b\b\b\b\b\b\b\b\b\b\b\b\b\b\b\b\b\b\b\b\b\b\b\b\b\b\b\b\b\b\b\b\b\b\b\b\b\b\b\b\b\b\b\b\b\b\b\b\b\b\b\r 7264/12153 [================>.............] - ETA: 43s"
     ]
    },
    {
     "name": "stdout",
     "output_type": "stream",
     "text": [
      "\b\b\b\b\b\b\b\b\b\b\b\b\b\b\b\b\b\b\b\b\b\b\b\b\b\b\b\b\b\b\b\b\b\b\b\b\b\b\b\b\b\b\b\b\b\b\b\b\b\b\b\b\b\b\b\r 7296/12153 [=================>............] - ETA: 43s"
     ]
    },
    {
     "name": "stdout",
     "output_type": "stream",
     "text": [
      "\b\b\b\b\b\b\b\b\b\b\b\b\b\b\b\b\b\b\b\b\b\b\b\b\b\b\b\b\b\b\b\b\b\b\b\b\b\b\b\b\b\b\b\b\b\b\b\b\b\b\b\b\b\b\b\r 7328/12153 [=================>............] - ETA: 42s"
     ]
    },
    {
     "name": "stdout",
     "output_type": "stream",
     "text": [
      "\b\b\b\b\b\b\b\b\b\b\b\b\b\b\b\b\b\b\b\b\b\b\b\b\b\b\b\b\b\b\b\b\b\b\b\b\b\b\b\b\b\b\b\b\b\b\b\b\b\b\b\b\b\b\b\r 7360/12153 [=================>............] - ETA: 42s"
     ]
    },
    {
     "name": "stdout",
     "output_type": "stream",
     "text": [
      "\b\b\b\b\b\b\b\b\b\b\b\b\b\b\b\b\b\b\b\b\b\b\b\b\b\b\b\b\b\b\b\b\b\b\b\b\b\b\b\b\b\b\b\b\b\b\b\b\b\b\b\b\b\b\b\r 7392/12153 [=================>............] - ETA: 42s"
     ]
    },
    {
     "name": "stdout",
     "output_type": "stream",
     "text": [
      "\b\b\b\b\b\b\b\b\b\b\b\b\b\b\b\b\b\b\b\b\b\b\b\b\b\b\b\b\b\b\b\b\b\b\b\b\b\b\b\b\b\b\b\b\b\b\b\b\b\b\b\b\b\b\b\r 7424/12153 [=================>............] - ETA: 41s"
     ]
    },
    {
     "name": "stdout",
     "output_type": "stream",
     "text": [
      "\b\b\b\b\b\b\b\b\b\b\b\b\b\b\b\b\b\b\b\b\b\b\b\b\b\b\b\b\b\b\b\b\b\b\b\b\b\b\b\b\b\b\b\b\b\b\b\b\b\b\b\b\b\b\b\r 7456/12153 [=================>............] - ETA: 41s"
     ]
    },
    {
     "name": "stdout",
     "output_type": "stream",
     "text": [
      "\b\b\b\b\b\b\b\b\b\b\b\b\b\b\b\b\b\b\b\b\b\b\b\b\b\b\b\b\b\b\b\b\b\b\b\b\b\b\b\b\b\b\b\b\b\b\b\b\b\b\b\b\b\b\b\r 7488/12153 [=================>............] - ETA: 41s"
     ]
    },
    {
     "name": "stdout",
     "output_type": "stream",
     "text": [
      "\b\b\b\b\b\b\b\b\b\b\b\b\b\b\b\b\b\b\b\b\b\b\b\b\b\b\b\b\b\b\b\b\b\b\b\b\b\b\b\b\b\b\b\b\b\b\b\b\b\b\b\b\b\b\b\r 7520/12153 [=================>............] - ETA: 41s"
     ]
    },
    {
     "name": "stdout",
     "output_type": "stream",
     "text": [
      "\b\b\b\b\b\b\b\b\b\b\b\b\b\b\b\b\b\b\b\b\b\b\b\b\b\b\b\b\b\b\b\b\b\b\b\b\b\b\b\b\b\b\b\b\b\b\b\b\b\b\b\b\b\b\b\r 7552/12153 [=================>............] - ETA: 40s"
     ]
    },
    {
     "name": "stdout",
     "output_type": "stream",
     "text": [
      "\b\b\b\b\b\b\b\b\b\b\b\b\b\b\b\b\b\b\b\b\b\b\b\b\b\b\b\b\b\b\b\b\b\b\b\b\b\b\b\b\b\b\b\b\b\b\b\b\b\b\b\b\b\b\b\r 7584/12153 [=================>............] - ETA: 40s"
     ]
    },
    {
     "name": "stdout",
     "output_type": "stream",
     "text": [
      "\b\b\b\b\b\b\b\b\b\b\b\b\b\b\b\b\b\b\b\b\b\b\b\b\b\b\b\b\b\b\b\b\b\b\b\b\b\b\b\b\b\b\b\b\b\b\b\b\b\b\b\b\b\b\b\r 7616/12153 [=================>............] - ETA: 40s"
     ]
    },
    {
     "name": "stdout",
     "output_type": "stream",
     "text": [
      "\b\b\b\b\b\b\b\b\b\b\b\b\b\b\b\b\b\b\b\b\b\b\b\b\b\b\b\b\b\b\b\b\b\b\b\b\b\b\b\b\b\b\b\b\b\b\b\b\b\b\b\b\b\b\b\r 7648/12153 [=================>............] - ETA: 39s"
     ]
    },
    {
     "name": "stdout",
     "output_type": "stream",
     "text": [
      "\b\b\b\b\b\b\b\b\b\b\b\b\b\b\b\b\b\b\b\b\b\b\b\b\b\b\b\b\b\b\b\b\b\b\b\b\b\b\b\b\b\b\b\b\b\b\b\b\b\b\b\b\b\b\b\r 7680/12153 [=================>............] - ETA: 39s"
     ]
    },
    {
     "name": "stdout",
     "output_type": "stream",
     "text": [
      "\b\b\b\b\b\b\b\b\b\b\b\b\b\b\b\b\b\b\b\b\b\b\b\b\b\b\b\b\b\b\b\b\b\b\b\b\b\b\b\b\b\b\b\b\b\b\b\b\b\b\b\b\b\b\b\r 7712/12153 [==================>...........] - ETA: 39s"
     ]
    },
    {
     "name": "stdout",
     "output_type": "stream",
     "text": [
      "\b\b\b\b\b\b\b\b\b\b\b\b\b\b\b\b\b\b\b\b\b\b\b\b\b\b\b\b\b\b\b\b\b\b\b\b\b\b\b\b\b\b\b\b\b\b\b\b\b\b\b\b\b\b\b\r 7744/12153 [==================>...........] - ETA: 38s"
     ]
    },
    {
     "name": "stdout",
     "output_type": "stream",
     "text": [
      "\b\b\b\b\b\b\b\b\b\b\b\b\b\b\b\b\b\b\b\b\b\b\b\b\b\b\b\b\b\b\b\b\b\b\b\b\b\b\b\b\b\b\b\b\b\b\b\b\b\b\b\b\b\b\b\r 7776/12153 [==================>...........] - ETA: 38s"
     ]
    },
    {
     "name": "stdout",
     "output_type": "stream",
     "text": [
      "\b\b\b\b\b\b\b\b\b\b\b\b\b\b\b\b\b\b\b\b\b\b\b\b\b\b\b\b\b\b\b\b\b\b\b\b\b\b\b\b\b\b\b\b\b\b\b\b\b\b\b\b\b\b\b\r 7808/12153 [==================>...........] - ETA: 38s"
     ]
    },
    {
     "name": "stdout",
     "output_type": "stream",
     "text": [
      "\b\b\b\b\b\b\b\b\b\b\b\b\b\b\b\b\b\b\b\b\b\b\b\b\b\b\b\b\b\b\b\b\b\b\b\b\b\b\b\b\b\b\b\b\b\b\b\b\b\b\b\b\b\b\b\r 7840/12153 [==================>...........] - ETA: 37s"
     ]
    },
    {
     "name": "stdout",
     "output_type": "stream",
     "text": [
      "\b\b\b\b\b\b\b\b\b\b\b\b\b\b\b\b\b\b\b\b\b\b\b\b\b\b\b\b\b\b\b\b\b\b\b\b\b\b\b\b\b\b\b\b\b\b\b\b\b\b\b\b\b\b\b\r 7872/12153 [==================>...........] - ETA: 37s"
     ]
    },
    {
     "name": "stdout",
     "output_type": "stream",
     "text": [
      "\b\b\b\b\b\b\b\b\b\b\b\b\b\b\b\b\b\b\b\b\b\b\b\b\b\b\b\b\b\b\b\b\b\b\b\b\b\b\b\b\b\b\b\b\b\b\b\b\b\b\b\b\b\b\b\r 7904/12153 [==================>...........] - ETA: 37s"
     ]
    },
    {
     "name": "stdout",
     "output_type": "stream",
     "text": [
      "\b\b\b\b\b\b\b\b\b\b\b\b\b\b\b\b\b\b\b\b\b\b\b\b\b\b\b\b\b\b\b\b\b\b\b\b\b\b\b\b\b\b\b\b\b\b\b\b\b\b\b\b\b\b\b\r 7936/12153 [==================>...........] - ETA: 37s"
     ]
    },
    {
     "name": "stdout",
     "output_type": "stream",
     "text": [
      "\b\b\b\b\b\b\b\b\b\b\b\b\b\b\b\b\b\b\b\b\b\b\b\b\b\b\b\b\b\b\b\b\b\b\b\b\b\b\b\b\b\b\b\b\b\b\b\b\b\b\b\b\b\b\b\r 7968/12153 [==================>...........] - ETA: 36s"
     ]
    },
    {
     "name": "stdout",
     "output_type": "stream",
     "text": [
      "\b\b\b\b\b\b\b\b\b\b\b\b\b\b\b\b\b\b\b\b\b\b\b\b\b\b\b\b\b\b\b\b\b\b\b\b\b\b\b\b\b\b\b\b\b\b\b\b\b\b\b\b\b\b\b\r 8000/12153 [==================>...........] - ETA: 36s"
     ]
    },
    {
     "name": "stdout",
     "output_type": "stream",
     "text": [
      "\b\b\b\b\b\b\b\b\b\b\b\b\b\b\b\b\b\b\b\b\b\b\b\b\b\b\b\b\b\b\b\b\b\b\b\b\b\b\b\b\b\b\b\b\b\b\b\b\b\b\b\b\b\b\b\r 8032/12153 [==================>...........] - ETA: 36s"
     ]
    },
    {
     "name": "stdout",
     "output_type": "stream",
     "text": [
      "\b\b\b\b\b\b\b\b\b\b\b\b\b\b\b\b\b\b\b\b\b\b\b\b\b\b\b\b\b\b\b\b\b\b\b\b\b\b\b\b\b\b\b\b\b\b\b\b\b\b\b\b\b\b\b\r 8064/12153 [==================>...........] - ETA: 35s"
     ]
    },
    {
     "name": "stdout",
     "output_type": "stream",
     "text": [
      "\b\b\b\b\b\b\b\b\b\b\b\b\b\b\b\b\b\b\b\b\b\b\b\b\b\b\b\b\b\b\b\b\b\b\b\b\b\b\b\b\b\b\b\b\b\b\b\b\b\b\b\b\b\b\b\r 8096/12153 [==================>...........] - ETA: 35s"
     ]
    },
    {
     "name": "stdout",
     "output_type": "stream",
     "text": [
      "\b\b\b\b\b\b\b\b\b\b\b\b\b\b\b\b\b\b\b\b\b\b\b\b\b\b\b\b\b\b\b\b\b\b\b\b\b\b\b\b\b\b\b\b\b\b\b\b\b\b\b\b\b\b\b\r 8128/12153 [===================>..........] - ETA: 35s"
     ]
    },
    {
     "name": "stdout",
     "output_type": "stream",
     "text": [
      "\b\b\b\b\b\b\b\b\b\b\b\b\b\b\b\b\b\b\b\b\b\b\b\b\b\b\b\b\b\b\b\b\b\b\b\b\b\b\b\b\b\b\b\b\b\b\b\b\b\b\b\b\b\b\b\r 8160/12153 [===================>..........] - ETA: 34s"
     ]
    },
    {
     "name": "stdout",
     "output_type": "stream",
     "text": [
      "\b\b\b\b\b\b\b\b\b\b\b\b\b\b\b\b\b\b\b\b\b\b\b\b\b\b\b\b\b\b\b\b\b\b\b\b\b\b\b\b\b\b\b\b\b\b\b\b\b\b\b\b\b\b\b\r 8192/12153 [===================>..........] - ETA: 34s"
     ]
    },
    {
     "name": "stdout",
     "output_type": "stream",
     "text": [
      "\b\b\b\b\b\b\b\b\b\b\b\b\b\b\b\b\b\b\b\b\b\b\b\b\b\b\b\b\b\b\b\b\b\b\b\b\b\b\b\b\b\b\b\b\b\b\b\b\b\b\b\b\b\b\b\r 8224/12153 [===================>..........] - ETA: 34s"
     ]
    },
    {
     "name": "stdout",
     "output_type": "stream",
     "text": [
      "\b\b\b\b\b\b\b\b\b\b\b\b\b\b\b\b\b\b\b\b\b\b\b\b\b\b\b\b\b\b\b\b\b\b\b\b\b\b\b\b\b\b\b\b\b\b\b\b\b\b\b\b\b\b\b\r 8256/12153 [===================>..........] - ETA: 33s"
     ]
    },
    {
     "name": "stdout",
     "output_type": "stream",
     "text": [
      "\b\b\b\b\b\b\b\b\b\b\b\b\b\b\b\b\b\b\b\b\b\b\b\b\b\b\b\b\b\b\b\b\b\b\b\b\b\b\b\b\b\b\b\b\b\b\b\b\b\b\b\b\b\b\b\r 8288/12153 [===================>..........] - ETA: 33s"
     ]
    },
    {
     "name": "stdout",
     "output_type": "stream",
     "text": [
      "\b\b\b\b\b\b\b\b\b\b\b\b\b\b\b\b\b\b\b\b\b\b\b\b\b\b\b\b\b\b\b\b\b\b\b\b\b\b\b\b\b\b\b\b\b\b\b\b\b\b\b\b\b\b\b\r 8320/12153 [===================>..........] - ETA: 33s"
     ]
    },
    {
     "name": "stdout",
     "output_type": "stream",
     "text": [
      "\b\b\b\b\b\b\b\b\b\b\b\b\b\b\b\b\b\b\b\b\b\b\b\b\b\b\b\b\b\b\b\b\b\b\b\b\b\b\b\b\b\b\b\b\b\b\b\b\b\b\b\b\b\b\b\r 8352/12153 [===================>..........] - ETA: 33s"
     ]
    },
    {
     "name": "stdout",
     "output_type": "stream",
     "text": [
      "\b\b\b\b\b\b\b\b\b\b\b\b\b\b\b\b\b\b\b\b\b\b\b\b\b\b\b\b\b\b\b\b\b\b\b\b\b\b\b\b\b\b\b\b\b\b\b\b\b\b\b\b\b\b\b\r 8384/12153 [===================>..........] - ETA: 32s"
     ]
    },
    {
     "name": "stdout",
     "output_type": "stream",
     "text": [
      "\b\b\b\b\b\b\b\b\b\b\b\b\b\b\b\b\b\b\b\b\b\b\b\b\b\b\b\b\b\b\b\b\b\b\b\b\b\b\b\b\b\b\b\b\b\b\b\b\b\b\b\b\b\b\b\r 8416/12153 [===================>..........] - ETA: 32s"
     ]
    },
    {
     "name": "stdout",
     "output_type": "stream",
     "text": [
      "\b\b\b\b\b\b\b\b\b\b\b\b\b\b\b\b\b\b\b\b\b\b\b\b\b\b\b\b\b\b\b\b\b\b\b\b\b\b\b\b\b\b\b\b\b\b\b\b\b\b\b\b\b\b\b\r 8448/12153 [===================>..........] - ETA: 32s"
     ]
    },
    {
     "name": "stdout",
     "output_type": "stream",
     "text": [
      "\b\b\b\b\b\b\b\b\b\b\b\b\b\b\b\b\b\b\b\b\b\b\b\b\b\b\b\b\b\b\b\b\b\b\b\b\b\b\b\b\b\b\b\b\b\b\b\b\b\b\b\b\b\b\b\r 8480/12153 [===================>..........] - ETA: 31s"
     ]
    },
    {
     "name": "stdout",
     "output_type": "stream",
     "text": [
      "\b\b\b\b\b\b\b\b\b\b\b\b\b\b\b\b\b\b\b\b\b\b\b\b\b\b\b\b\b\b\b\b\b\b\b\b\b\b\b\b\b\b\b\b\b\b\b\b\b\b\b\b\b\b\b\r 8512/12153 [====================>.........] - ETA: 31s"
     ]
    },
    {
     "name": "stdout",
     "output_type": "stream",
     "text": [
      "\b\b\b\b\b\b\b\b\b\b\b\b\b\b\b\b\b\b\b\b\b\b\b\b\b\b\b\b\b\b\b\b\b\b\b\b\b\b\b\b\b\b\b\b\b\b\b\b\b\b\b\b\b\b\b\r 8544/12153 [====================>.........] - ETA: 31s"
     ]
    },
    {
     "name": "stdout",
     "output_type": "stream",
     "text": [
      "\b\b\b\b\b\b\b\b\b\b\b\b\b\b\b\b\b\b\b\b\b\b\b\b\b\b\b\b\b\b\b\b\b\b\b\b\b\b\b\b\b\b\b\b\b\b\b\b\b\b\b\b\b\b\b\r 8576/12153 [====================>.........] - ETA: 31s"
     ]
    },
    {
     "name": "stdout",
     "output_type": "stream",
     "text": [
      "\b\b\b\b\b\b\b\b\b\b\b\b\b\b\b\b\b\b\b\b\b\b\b\b\b\b\b\b\b\b\b\b\b\b\b\b\b\b\b\b\b\b\b\b\b\b\b\b\b\b\b\b\b\b\b\r 8608/12153 [====================>.........] - ETA: 30s"
     ]
    },
    {
     "name": "stdout",
     "output_type": "stream",
     "text": [
      "\b\b\b\b\b\b\b\b\b\b\b\b\b\b\b\b\b\b\b\b\b\b\b\b\b\b\b\b\b\b\b\b\b\b\b\b\b\b\b\b\b\b\b\b\b\b\b\b\b\b\b\b\b\b\b\r 8640/12153 [====================>.........] - ETA: 30s"
     ]
    },
    {
     "name": "stdout",
     "output_type": "stream",
     "text": [
      "\b\b\b\b\b\b\b\b\b\b\b\b\b\b\b\b\b\b\b\b\b\b\b\b\b\b\b\b\b\b\b\b\b\b\b\b\b\b\b\b\b\b\b\b\b\b\b\b\b\b\b\b\b\b\b\r 8672/12153 [====================>.........] - ETA: 30s"
     ]
    },
    {
     "name": "stdout",
     "output_type": "stream",
     "text": [
      "\b\b\b\b\b\b\b\b\b\b\b\b\b\b\b\b\b\b\b\b\b\b\b\b\b\b\b\b\b\b\b\b\b\b\b\b\b\b\b\b\b\b\b\b\b\b\b\b\b\b\b\b\b\b\b\r 8704/12153 [====================>.........] - ETA: 29s"
     ]
    },
    {
     "name": "stdout",
     "output_type": "stream",
     "text": [
      "\b\b\b\b\b\b\b\b\b\b\b\b\b\b\b\b\b\b\b\b\b\b\b\b\b\b\b\b\b\b\b\b\b\b\b\b\b\b\b\b\b\b\b\b\b\b\b\b\b\b\b\b\b\b\b\r 8736/12153 [====================>.........] - ETA: 29s"
     ]
    },
    {
     "name": "stdout",
     "output_type": "stream",
     "text": [
      "\b\b\b\b\b\b\b\b\b\b\b\b\b\b\b\b\b\b\b\b\b\b\b\b\b\b\b\b\b\b\b\b\b\b\b\b\b\b\b\b\b\b\b\b\b\b\b\b\b\b\b\b\b\b\b\r 8768/12153 [====================>.........] - ETA: 29s"
     ]
    },
    {
     "name": "stdout",
     "output_type": "stream",
     "text": [
      "\b\b\b\b\b\b\b\b\b\b\b\b\b\b\b\b\b\b\b\b\b\b\b\b\b\b\b\b\b\b\b\b\b\b\b\b\b\b\b\b\b\b\b\b\b\b\b\b\b\b\b\b\b\b\b\r 8800/12153 [====================>.........] - ETA: 28s"
     ]
    },
    {
     "name": "stdout",
     "output_type": "stream",
     "text": [
      "\b\b\b\b\b\b\b\b\b\b\b\b\b\b\b\b\b\b\b\b\b\b\b\b\b\b\b\b\b\b\b\b\b\b\b\b\b\b\b\b\b\b\b\b\b\b\b\b\b\b\b\b\b\b\b\r 8832/12153 [====================>.........] - ETA: 28s"
     ]
    },
    {
     "name": "stdout",
     "output_type": "stream",
     "text": [
      "\b\b\b\b\b\b\b\b\b\b\b\b\b\b\b\b\b\b\b\b\b\b\b\b\b\b\b\b\b\b\b\b\b\b\b\b\b\b\b\b\b\b\b\b\b\b\b\b\b\b\b\b\b\b\b\r 8864/12153 [====================>.........] - ETA: 28s"
     ]
    },
    {
     "name": "stdout",
     "output_type": "stream",
     "text": [
      "\b\b\b\b\b\b\b\b\b\b\b\b\b\b\b\b\b\b\b\b\b\b\b\b\b\b\b\b\b\b\b\b\b\b\b\b\b\b\b\b\b\b\b\b\b\b\b\b\b\b\b\b\b\b\b\r 8896/12153 [====================>.........] - ETA: 28s"
     ]
    },
    {
     "name": "stdout",
     "output_type": "stream",
     "text": [
      "\b\b\b\b\b\b\b\b\b\b\b\b\b\b\b\b\b\b\b\b\b\b\b\b\b\b\b\b\b\b\b\b\b\b\b\b\b\b\b\b\b\b\b\b\b\b\b\b\b\b\b\b\b\b\b\r 8928/12153 [=====================>........] - ETA: 27s"
     ]
    },
    {
     "name": "stdout",
     "output_type": "stream",
     "text": [
      "\b\b\b\b\b\b\b\b\b\b\b\b\b\b\b\b\b\b\b\b\b\b\b\b\b\b\b\b\b\b\b\b\b\b\b\b\b\b\b\b\b\b\b\b\b\b\b\b\b\b\b\b\b\b\b\r 8960/12153 [=====================>........] - ETA: 27s"
     ]
    },
    {
     "name": "stdout",
     "output_type": "stream",
     "text": [
      "\b\b\b\b\b\b\b\b\b\b\b\b\b\b\b\b\b\b\b\b\b\b\b\b\b\b\b\b\b\b\b\b\b\b\b\b\b\b\b\b\b\b\b\b\b\b\b\b\b\b\b\b\b\b\b\r 8992/12153 [=====================>........] - ETA: 27s"
     ]
    },
    {
     "name": "stdout",
     "output_type": "stream",
     "text": [
      "\b\b\b\b\b\b\b\b\b\b\b\b\b\b\b\b\b\b\b\b\b\b\b\b\b\b\b\b\b\b\b\b\b\b\b\b\b\b\b\b\b\b\b\b\b\b\b\b\b\b\b\b\b\b\b\r 9024/12153 [=====================>........] - ETA: 26s"
     ]
    },
    {
     "name": "stdout",
     "output_type": "stream",
     "text": [
      "\b\b\b\b\b\b\b\b\b\b\b\b\b\b\b\b\b\b\b\b\b\b\b\b\b\b\b\b\b\b\b\b\b\b\b\b\b\b\b\b\b\b\b\b\b\b\b\b\b\b\b\b\b\b\b\r 9056/12153 [=====================>........] - ETA: 26s"
     ]
    },
    {
     "name": "stdout",
     "output_type": "stream",
     "text": [
      "\b\b\b\b\b\b\b\b\b\b\b\b\b\b\b\b\b\b\b\b\b\b\b\b\b\b\b\b\b\b\b\b\b\b\b\b\b\b\b\b\b\b\b\b\b\b\b\b\b\b\b\b\b\b\b\r 9088/12153 [=====================>........] - ETA: 26s"
     ]
    },
    {
     "name": "stdout",
     "output_type": "stream",
     "text": [
      "\b\b\b\b\b\b\b\b\b\b\b\b\b\b\b\b\b\b\b\b\b\b\b\b\b\b\b\b\b\b\b\b\b\b\b\b\b\b\b\b\b\b\b\b\b\b\b\b\b\b\b\b\b\b\b\r 9120/12153 [=====================>........] - ETA: 26s"
     ]
    },
    {
     "name": "stdout",
     "output_type": "stream",
     "text": [
      "\b\b\b\b\b\b\b\b\b\b\b\b\b\b\b\b\b\b\b\b\b\b\b\b\b\b\b\b\b\b\b\b\b\b\b\b\b\b\b\b\b\b\b\b\b\b\b\b\b\b\b\b\b\b\b\r 9152/12153 [=====================>........] - ETA: 25s"
     ]
    },
    {
     "name": "stdout",
     "output_type": "stream",
     "text": [
      "\b\b\b\b\b\b\b\b\b\b\b\b\b\b\b\b\b\b\b\b\b\b\b\b\b\b\b\b\b\b\b\b\b\b\b\b\b\b\b\b\b\b\b\b\b\b\b\b\b\b\b\b\b\b\b\r 9184/12153 [=====================>........] - ETA: 25s"
     ]
    },
    {
     "name": "stdout",
     "output_type": "stream",
     "text": [
      "\b\b\b\b\b\b\b\b\b\b\b\b\b\b\b\b\b\b\b\b\b\b\b\b\b\b\b\b\b\b\b\b\b\b\b\b\b\b\b\b\b\b\b\b\b\b\b\b\b\b\b\b\b\b\b\r 9216/12153 [=====================>........] - ETA: 25s"
     ]
    },
    {
     "name": "stdout",
     "output_type": "stream",
     "text": [
      "\b\b\b\b\b\b\b\b\b\b\b\b\b\b\b\b\b\b\b\b\b\b\b\b\b\b\b\b\b\b\b\b\b\b\b\b\b\b\b\b\b\b\b\b\b\b\b\b\b\b\b\b\b\b\b\r 9248/12153 [=====================>........] - ETA: 24s"
     ]
    },
    {
     "name": "stdout",
     "output_type": "stream",
     "text": [
      "\b\b\b\b\b\b\b\b\b\b\b\b\b\b\b\b\b\b\b\b\b\b\b\b\b\b\b\b\b\b\b\b\b\b\b\b\b\b\b\b\b\b\b\b\b\b\b\b\b\b\b\b\b\b\b\r 9280/12153 [=====================>........] - ETA: 24s"
     ]
    },
    {
     "name": "stdout",
     "output_type": "stream",
     "text": [
      "\b\b\b\b\b\b\b\b\b\b\b\b\b\b\b\b\b\b\b\b\b\b\b\b\b\b\b\b\b\b\b\b\b\b\b\b\b\b\b\b\b\b\b\b\b\b\b\b\b\b\b\b\b\b\b\r 9312/12153 [=====================>........] - ETA: 24s"
     ]
    },
    {
     "name": "stdout",
     "output_type": "stream",
     "text": [
      "\b\b\b\b\b\b\b\b\b\b\b\b\b\b\b\b\b\b\b\b\b\b\b\b\b\b\b\b\b\b\b\b\b\b\b\b\b\b\b\b\b\b\b\b\b\b\b\b\b\b\b\b\b\b\b\r 9344/12153 [======================>.......] - ETA: 24s"
     ]
    },
    {
     "name": "stdout",
     "output_type": "stream",
     "text": [
      "\b\b\b\b\b\b\b\b\b\b\b\b\b\b\b\b\b\b\b\b\b\b\b\b\b\b\b\b\b\b\b\b\b\b\b\b\b\b\b\b\b\b\b\b\b\b\b\b\b\b\b\b\b\b\b\r 9376/12153 [======================>.......] - ETA: 23s"
     ]
    },
    {
     "name": "stdout",
     "output_type": "stream",
     "text": [
      "\b\b\b\b\b\b\b\b\b\b\b\b\b\b\b\b\b\b\b\b\b\b\b\b\b\b\b\b\b\b\b\b\b\b\b\b\b\b\b\b\b\b\b\b\b\b\b\b\b\b\b\b\b\b\b\r 9408/12153 [======================>.......] - ETA: 23s"
     ]
    },
    {
     "name": "stdout",
     "output_type": "stream",
     "text": [
      "\b\b\b\b\b\b\b\b\b\b\b\b\b\b\b\b\b\b\b\b\b\b\b\b\b\b\b\b\b\b\b\b\b\b\b\b\b\b\b\b\b\b\b\b\b\b\b\b\b\b\b\b\b\b\b\r 9440/12153 [======================>.......] - ETA: 23s"
     ]
    },
    {
     "name": "stdout",
     "output_type": "stream",
     "text": [
      "\b\b\b\b\b\b\b\b\b\b\b\b\b\b\b\b\b\b\b\b\b\b\b\b\b\b\b\b\b\b\b\b\b\b\b\b\b\b\b\b\b\b\b\b\b\b\b\b\b\b\b\b\b\b\b\r 9472/12153 [======================>.......] - ETA: 22s"
     ]
    },
    {
     "name": "stdout",
     "output_type": "stream",
     "text": [
      "\b\b\b\b\b\b\b\b\b\b\b\b\b\b\b\b\b\b\b\b\b\b\b\b\b\b\b\b\b\b\b\b\b\b\b\b\b\b\b\b\b\b\b\b\b\b\b\b\b\b\b\b\b\b\b\r 9504/12153 [======================>.......] - ETA: 22s"
     ]
    },
    {
     "name": "stdout",
     "output_type": "stream",
     "text": [
      "\b\b\b\b\b\b\b\b\b\b\b\b\b\b\b\b\b\b\b\b\b\b\b\b\b\b\b\b\b\b\b\b\b\b\b\b\b\b\b\b\b\b\b\b\b\b\b\b\b\b\b\b\b\b\b\r 9536/12153 [======================>.......] - ETA: 22s"
     ]
    },
    {
     "name": "stdout",
     "output_type": "stream",
     "text": [
      "\b\b\b\b\b\b\b\b\b\b\b\b\b\b\b\b\b\b\b\b\b\b\b\b\b\b\b\b\b\b\b\b\b\b\b\b\b\b\b\b\b\b\b\b\b\b\b\b\b\b\b\b\b\b\b\r 9568/12153 [======================>.......] - ETA: 22s"
     ]
    },
    {
     "name": "stdout",
     "output_type": "stream",
     "text": [
      "\b\b\b\b\b\b\b\b\b\b\b\b\b\b\b\b\b\b\b\b\b\b\b\b\b\b\b\b\b\b\b\b\b\b\b\b\b\b\b\b\b\b\b\b\b\b\b\b\b\b\b\b\b\b\b\r 9600/12153 [======================>.......] - ETA: 21s"
     ]
    },
    {
     "name": "stdout",
     "output_type": "stream",
     "text": [
      "\b\b\b\b\b\b\b\b\b\b\b\b\b\b\b\b\b\b\b\b\b\b\b\b\b\b\b\b\b\b\b\b\b\b\b\b\b\b\b\b\b\b\b\b\b\b\b\b\b\b\b\b\b\b\b\r 9632/12153 [======================>.......] - ETA: 21s"
     ]
    },
    {
     "name": "stdout",
     "output_type": "stream",
     "text": [
      "\b\b\b\b\b\b\b\b\b\b\b\b\b\b\b\b\b\b\b\b\b\b\b\b\b\b\b\b\b\b\b\b\b\b\b\b\b\b\b\b\b\b\b\b\b\b\b\b\b\b\b\b\b\b\b\r 9664/12153 [======================>.......] - ETA: 21s"
     ]
    },
    {
     "name": "stdout",
     "output_type": "stream",
     "text": [
      "\b\b\b\b\b\b\b\b\b\b\b\b\b\b\b\b\b\b\b\b\b\b\b\b\b\b\b\b\b\b\b\b\b\b\b\b\b\b\b\b\b\b\b\b\b\b\b\b\b\b\b\b\b\b\b\r 9696/12153 [======================>.......] - ETA: 20s"
     ]
    },
    {
     "name": "stdout",
     "output_type": "stream",
     "text": [
      "\b\b\b\b\b\b\b\b\b\b\b\b\b\b\b\b\b\b\b\b\b\b\b\b\b\b\b\b\b\b\b\b\b\b\b\b\b\b\b\b\b\b\b\b\b\b\b\b\b\b\b\b\b\b\b\r 9728/12153 [=======================>......] - ETA: 20s"
     ]
    },
    {
     "name": "stdout",
     "output_type": "stream",
     "text": [
      "\b\b\b\b\b\b\b\b\b\b\b\b\b\b\b\b\b\b\b\b\b\b\b\b\b\b\b\b\b\b\b\b\b\b\b\b\b\b\b\b\b\b\b\b\b\b\b\b\b\b\b\b\b\b\b\r 9760/12153 [=======================>......] - ETA: 20s"
     ]
    },
    {
     "name": "stdout",
     "output_type": "stream",
     "text": [
      "\b\b\b\b\b\b\b\b\b\b\b\b\b\b\b\b\b\b\b\b\b\b\b\b\b\b\b\b\b\b\b\b\b\b\b\b\b\b\b\b\b\b\b\b\b\b\b\b\b\b\b\b\b\b\b\r 9792/12153 [=======================>......] - ETA: 20s"
     ]
    },
    {
     "name": "stdout",
     "output_type": "stream",
     "text": [
      "\b\b\b\b\b\b\b\b\b\b\b\b\b\b\b\b\b\b\b\b\b\b\b\b\b\b\b\b\b\b\b\b\b\b\b\b\b\b\b\b\b\b\b\b\b\b\b\b\b\b\b\b\b\b\b\r 9824/12153 [=======================>......] - ETA: 19s"
     ]
    },
    {
     "name": "stdout",
     "output_type": "stream",
     "text": [
      "\b\b\b\b\b\b\b\b\b\b\b\b\b\b\b\b\b\b\b\b\b\b\b\b\b\b\b\b\b\b\b\b\b\b\b\b\b\b\b\b\b\b\b\b\b\b\b\b\b\b\b\b\b\b\b\r 9856/12153 [=======================>......] - ETA: 19s"
     ]
    },
    {
     "name": "stdout",
     "output_type": "stream",
     "text": [
      "\b\b\b\b\b\b\b\b\b\b\b\b\b\b\b\b\b\b\b\b\b\b\b\b\b\b\b\b\b\b\b\b\b\b\b\b\b\b\b\b\b\b\b\b\b\b\b\b\b\b\b\b\b\b\b\r 9888/12153 [=======================>......] - ETA: 19s"
     ]
    },
    {
     "name": "stdout",
     "output_type": "stream",
     "text": [
      "\b\b\b\b\b\b\b\b\b\b\b\b\b\b\b\b\b\b\b\b\b\b\b\b\b\b\b\b\b\b\b\b\b\b\b\b\b\b\b\b\b\b\b\b\b\b\b\b\b\b\b\b\b\b\b\r 9920/12153 [=======================>......] - ETA: 18s"
     ]
    },
    {
     "name": "stdout",
     "output_type": "stream",
     "text": [
      "\b\b\b\b\b\b\b\b\b\b\b\b\b\b\b\b\b\b\b\b\b\b\b\b\b\b\b\b\b\b\b\b\b\b\b\b\b\b\b\b\b\b\b\b\b\b\b\b\b\b\b\b\b\b\b\r 9952/12153 [=======================>......] - ETA: 18s"
     ]
    },
    {
     "name": "stdout",
     "output_type": "stream",
     "text": [
      "\b\b\b\b\b\b\b\b\b\b\b\b\b\b\b\b\b\b\b\b\b\b\b\b\b\b\b\b\b\b\b\b\b\b\b\b\b\b\b\b\b\b\b\b\b\b\b\b\b\b\b\b\b\b\b\r 9984/12153 [=======================>......] - ETA: 18s"
     ]
    },
    {
     "name": "stdout",
     "output_type": "stream",
     "text": [
      "\b\b\b\b\b\b\b\b\b\b\b\b\b\b\b\b\b\b\b\b\b\b\b\b\b\b\b\b\b\b\b\b\b\b\b\b\b\b\b\b\b\b\b\b\b\b\b\b\b\b\b\b\b\b\b\r10016/12153 [=======================>......] - ETA: 18s"
     ]
    },
    {
     "name": "stdout",
     "output_type": "stream",
     "text": [
      "\b\b\b\b\b\b\b\b\b\b\b\b\b\b\b\b\b\b\b\b\b\b\b\b\b\b\b\b\b\b\b\b\b\b\b\b\b\b\b\b\b\b\b\b\b\b\b\b\b\b\b\b\b\b\b\r10048/12153 [=======================>......] - ETA: 17s"
     ]
    },
    {
     "name": "stdout",
     "output_type": "stream",
     "text": [
      "\b\b\b\b\b\b\b\b\b\b\b\b\b\b\b\b\b\b\b\b\b\b\b\b\b\b\b\b\b\b\b\b\b\b\b\b\b\b\b\b\b\b\b\b\b\b\b\b\b\b\b\b\b\b\b\r10080/12153 [=======================>......] - ETA: 17s"
     ]
    },
    {
     "name": "stdout",
     "output_type": "stream",
     "text": [
      "\b\b\b\b\b\b\b\b\b\b\b\b\b\b\b\b\b\b\b\b\b\b\b\b\b\b\b\b\b\b\b\b\b\b\b\b\b\b\b\b\b\b\b\b\b\b\b\b\b\b\b\b\b\b\b\r10112/12153 [=======================>......] - ETA: 17s"
     ]
    },
    {
     "name": "stdout",
     "output_type": "stream",
     "text": [
      "\b\b\b\b\b\b\b\b\b\b\b\b\b\b\b\b\b\b\b\b\b\b\b\b\b\b\b\b\b\b\b\b\b\b\b\b\b\b\b\b\b\b\b\b\b\b\b\b\b\b\b\b\b\b\b\r10144/12153 [========================>.....] - ETA: 17s"
     ]
    },
    {
     "name": "stdout",
     "output_type": "stream",
     "text": [
      "\b\b\b\b\b\b\b\b\b\b\b\b\b\b\b\b\b\b\b\b\b\b\b\b\b\b\b\b\b\b\b\b\b\b\b\b\b\b\b\b\b\b\b\b\b\b\b\b\b\b\b\b\b\b\b\r10176/12153 [========================>.....] - ETA: 16s"
     ]
    },
    {
     "name": "stdout",
     "output_type": "stream",
     "text": [
      "\b\b\b\b\b\b\b\b\b\b\b\b\b\b\b\b\b\b\b\b\b\b\b\b\b\b\b\b\b\b\b\b\b\b\b\b\b\b\b\b\b\b\b\b\b\b\b\b\b\b\b\b\b\b\b\r10208/12153 [========================>.....] - ETA: 16s"
     ]
    },
    {
     "name": "stdout",
     "output_type": "stream",
     "text": [
      "\b\b\b\b\b\b\b\b\b\b\b\b\b\b\b\b\b\b\b\b\b\b\b\b\b\b\b\b\b\b\b\b\b\b\b\b\b\b\b\b\b\b\b\b\b\b\b\b\b\b\b\b\b\b\b\r10240/12153 [========================>.....] - ETA: 16s"
     ]
    },
    {
     "name": "stdout",
     "output_type": "stream",
     "text": [
      "\b\b\b\b\b\b\b\b\b\b\b\b\b\b\b\b\b\b\b\b\b\b\b\b\b\b\b\b\b\b\b\b\b\b\b\b\b\b\b\b\b\b\b\b\b\b\b\b\b\b\b\b\b\b\b\r10272/12153 [========================>.....] - ETA: 15s"
     ]
    },
    {
     "name": "stdout",
     "output_type": "stream",
     "text": [
      "\b\b\b\b\b\b\b\b\b\b\b\b\b\b\b\b\b\b\b\b\b\b\b\b\b\b\b\b\b\b\b\b\b\b\b\b\b\b\b\b\b\b\b\b\b\b\b\b\b\b\b\b\b\b\b\r10304/12153 [========================>.....] - ETA: 15s"
     ]
    },
    {
     "name": "stdout",
     "output_type": "stream",
     "text": [
      "\b\b\b\b\b\b\b\b\b\b\b\b\b\b\b\b\b\b\b\b\b\b\b\b\b\b\b\b\b\b\b\b\b\b\b\b\b\b\b\b\b\b\b\b\b\b\b\b\b\b\b\b\b\b\b\r10336/12153 [========================>.....] - ETA: 15s"
     ]
    },
    {
     "name": "stdout",
     "output_type": "stream",
     "text": [
      "\b\b\b\b\b\b\b\b\b\b\b\b\b\b\b\b\b\b\b\b\b\b\b\b\b\b\b\b\b\b\b\b\b\b\b\b\b\b\b\b\b\b\b\b\b\b\b\b\b\b\b\b\b\b\b\r10368/12153 [========================>.....] - ETA: 15s"
     ]
    },
    {
     "name": "stdout",
     "output_type": "stream",
     "text": [
      "\b\b\b\b\b\b\b\b\b\b\b\b\b\b\b\b\b\b\b\b\b\b\b\b\b\b\b\b\b\b\b\b\b\b\b\b\b\b\b\b\b\b\b\b\b\b\b\b\b\b\b\b\b\b\b\r10400/12153 [========================>.....] - ETA: 14s"
     ]
    },
    {
     "name": "stdout",
     "output_type": "stream",
     "text": [
      "\b\b\b\b\b\b\b\b\b\b\b\b\b\b\b\b\b\b\b\b\b\b\b\b\b\b\b\b\b\b\b\b\b\b\b\b\b\b\b\b\b\b\b\b\b\b\b\b\b\b\b\b\b\b\b\r10432/12153 [========================>.....] - ETA: 14s"
     ]
    },
    {
     "name": "stdout",
     "output_type": "stream",
     "text": [
      "\b\b\b\b\b\b\b\b\b\b\b\b\b\b\b\b\b\b\b\b\b\b\b\b\b\b\b\b\b\b\b\b\b\b\b\b\b\b\b\b\b\b\b\b\b\b\b\b\b\b\b\b\b\b\b\r10464/12153 [========================>.....] - ETA: 14s"
     ]
    },
    {
     "name": "stdout",
     "output_type": "stream",
     "text": [
      "\b\b\b\b\b\b\b\b\b\b\b\b\b\b\b\b\b\b\b\b\b\b\b\b\b\b\b\b\b\b\b\b\b\b\b\b\b\b\b\b\b\b\b\b\b\b\b\b\b\b\b\b\b\b\b\r10496/12153 [========================>.....] - ETA: 13s"
     ]
    },
    {
     "name": "stdout",
     "output_type": "stream",
     "text": [
      "\b\b\b\b\b\b\b\b\b\b\b\b\b\b\b\b\b\b\b\b\b\b\b\b\b\b\b\b\b\b\b\b\b\b\b\b\b\b\b\b\b\b\b\b\b\b\b\b\b\b\b\b\b\b\b\r10528/12153 [========================>.....] - ETA: 13s"
     ]
    },
    {
     "name": "stdout",
     "output_type": "stream",
     "text": [
      "\b\b\b\b\b\b\b\b\b\b\b\b\b\b\b\b\b\b\b\b\b\b\b\b\b\b\b\b\b\b\b\b\b\b\b\b\b\b\b\b\b\b\b\b\b\b\b\b\b\b\b\b\b\b\b\r10560/12153 [=========================>....] - ETA: 13s"
     ]
    },
    {
     "name": "stdout",
     "output_type": "stream",
     "text": [
      "\b\b\b\b\b\b\b\b\b\b\b\b\b\b\b\b\b\b\b\b\b\b\b\b\b\b\b\b\b\b\b\b\b\b\b\b\b\b\b\b\b\b\b\b\b\b\b\b\b\b\b\b\b\b\b\r10592/12153 [=========================>....] - ETA: 13s"
     ]
    },
    {
     "name": "stdout",
     "output_type": "stream",
     "text": [
      "\b\b\b\b\b\b\b\b\b\b\b\b\b\b\b\b\b\b\b\b\b\b\b\b\b\b\b\b\b\b\b\b\b\b\b\b\b\b\b\b\b\b\b\b\b\b\b\b\b\b\b\b\b\b\b\r10624/12153 [=========================>....] - ETA: 12s"
     ]
    },
    {
     "name": "stdout",
     "output_type": "stream",
     "text": [
      "\b\b\b\b\b\b\b\b\b\b\b\b\b\b\b\b\b\b\b\b\b\b\b\b\b\b\b\b\b\b\b\b\b\b\b\b\b\b\b\b\b\b\b\b\b\b\b\b\b\b\b\b\b\b\b\r10656/12153 [=========================>....] - ETA: 12s"
     ]
    },
    {
     "name": "stdout",
     "output_type": "stream",
     "text": [
      "\b\b\b\b\b\b\b\b\b\b\b\b\b\b\b\b\b\b\b\b\b\b\b\b\b\b\b\b\b\b\b\b\b\b\b\b\b\b\b\b\b\b\b\b\b\b\b\b\b\b\b\b\b\b\b\r10688/12153 [=========================>....] - ETA: 12s"
     ]
    },
    {
     "name": "stdout",
     "output_type": "stream",
     "text": [
      "\b\b\b\b\b\b\b\b\b\b\b\b\b\b\b\b\b\b\b\b\b\b\b\b\b\b\b\b\b\b\b\b\b\b\b\b\b\b\b\b\b\b\b\b\b\b\b\b\b\b\b\b\b\b\b\r10720/12153 [=========================>....] - ETA: 12s"
     ]
    },
    {
     "name": "stdout",
     "output_type": "stream",
     "text": [
      "\b\b\b\b\b\b\b\b\b\b\b\b\b\b\b\b\b\b\b\b\b\b\b\b\b\b\b\b\b\b\b\b\b\b\b\b\b\b\b\b\b\b\b\b\b\b\b\b\b\b\b\b\b\b\b\r10752/12153 [=========================>....] - ETA: 11s"
     ]
    },
    {
     "name": "stdout",
     "output_type": "stream",
     "text": [
      "\b\b\b\b\b\b\b\b\b\b\b\b\b\b\b\b\b\b\b\b\b\b\b\b\b\b\b\b\b\b\b\b\b\b\b\b\b\b\b\b\b\b\b\b\b\b\b\b\b\b\b\b\b\b\b\r10784/12153 [=========================>....] - ETA: 11s"
     ]
    },
    {
     "name": "stdout",
     "output_type": "stream",
     "text": [
      "\b\b\b\b\b\b\b\b\b\b\b\b\b\b\b\b\b\b\b\b\b\b\b\b\b\b\b\b\b\b\b\b\b\b\b\b\b\b\b\b\b\b\b\b\b\b\b\b\b\b\b\b\b\b\b\r10816/12153 [=========================>....] - ETA: 11s"
     ]
    },
    {
     "name": "stdout",
     "output_type": "stream",
     "text": [
      "\b\b\b\b\b\b\b\b\b\b\b\b\b\b\b\b\b\b\b\b\b\b\b\b\b\b\b\b\b\b\b\b\b\b\b\b\b\b\b\b\b\b\b\b\b\b\b\b\b\b\b\b\b\b\b\r10848/12153 [=========================>....] - ETA: 10s"
     ]
    },
    {
     "name": "stdout",
     "output_type": "stream",
     "text": [
      "\b\b\b\b\b\b\b\b\b\b\b\b\b\b\b\b\b\b\b\b\b\b\b\b\b\b\b\b\b\b\b\b\b\b\b\b\b\b\b\b\b\b\b\b\b\b\b\b\b\b\b\b\b\b\b\r10880/12153 [=========================>....] - ETA: 10s"
     ]
    },
    {
     "name": "stdout",
     "output_type": "stream",
     "text": [
      "\b\b\b\b\b\b\b\b\b\b\b\b\b\b\b\b\b\b\b\b\b\b\b\b\b\b\b\b\b\b\b\b\b\b\b\b\b\b\b\b\b\b\b\b\b\b\b\b\b\b\b\b\b\b\b\r10912/12153 [=========================>....] - ETA: 10s"
     ]
    },
    {
     "name": "stdout",
     "output_type": "stream",
     "text": [
      "\b\b\b\b\b\b\b\b\b\b\b\b\b\b\b\b\b\b\b\b\b\b\b\b\b\b\b\b\b\b\b\b\b\b\b\b\b\b\b\b\b\b\b\b\b\b\b\b\b\b\b\b\b\b\b\r10944/12153 [==========================>...] - ETA: 10s"
     ]
    },
    {
     "name": "stdout",
     "output_type": "stream",
     "text": [
      "\b\b\b\b\b\b\b\b\b\b\b\b\b\b\b\b\b\b\b\b\b\b\b\b\b\b\b\b\b\b\b\b\b\b\b\b\b\b\b\b\b\b\b\b\b\b\b\b\b\b\b\b\b\b\b\r10976/12153 [==========================>...] - ETA: 9s "
     ]
    },
    {
     "name": "stdout",
     "output_type": "stream",
     "text": [
      "\b\b\b\b\b\b\b\b\b\b\b\b\b\b\b\b\b\b\b\b\b\b\b\b\b\b\b\b\b\b\b\b\b\b\b\b\b\b\b\b\b\b\b\b\b\b\b\b\b\b\b\b\b\b\r11008/12153 [==========================>...] - ETA: 9s"
     ]
    },
    {
     "name": "stdout",
     "output_type": "stream",
     "text": [
      "\b\b\b\b\b\b\b\b\b\b\b\b\b\b\b\b\b\b\b\b\b\b\b\b\b\b\b\b\b\b\b\b\b\b\b\b\b\b\b\b\b\b\b\b\b\b\b\b\b\b\b\b\b\b\r11040/12153 [==========================>...] - ETA: 9s"
     ]
    },
    {
     "name": "stdout",
     "output_type": "stream",
     "text": [
      "\b\b\b\b\b\b\b\b\b\b\b\b\b\b\b\b\b\b\b\b\b\b\b\b\b\b\b\b\b\b\b\b\b\b\b\b\b\b\b\b\b\b\b\b\b\b\b\b\b\b\b\b\b\b\r11072/12153 [==========================>...] - ETA: 9s"
     ]
    },
    {
     "name": "stdout",
     "output_type": "stream",
     "text": [
      "\b\b\b\b\b\b\b\b\b\b\b\b\b\b\b\b\b\b\b\b\b\b\b\b\b\b\b\b\b\b\b\b\b\b\b\b\b\b\b\b\b\b\b\b\b\b\b\b\b\b\b\b\b\b\r11104/12153 [==========================>...] - ETA: 8s"
     ]
    },
    {
     "name": "stdout",
     "output_type": "stream",
     "text": [
      "\b\b\b\b\b\b\b\b\b\b\b\b\b\b\b\b\b\b\b\b\b\b\b\b\b\b\b\b\b\b\b\b\b\b\b\b\b\b\b\b\b\b\b\b\b\b\b\b\b\b\b\b\b\b\r11136/12153 [==========================>...] - ETA: 8s"
     ]
    },
    {
     "name": "stdout",
     "output_type": "stream",
     "text": [
      "\b\b\b\b\b\b\b\b\b\b\b\b\b\b\b\b\b\b\b\b\b\b\b\b\b\b\b\b\b\b\b\b\b\b\b\b\b\b\b\b\b\b\b\b\b\b\b\b\b\b\b\b\b\b\r11168/12153 [==========================>...] - ETA: 8s"
     ]
    },
    {
     "name": "stdout",
     "output_type": "stream",
     "text": [
      "\b\b\b\b\b\b\b\b\b\b\b\b\b\b\b\b\b\b\b\b\b\b\b\b\b\b\b\b\b\b\b\b\b\b\b\b\b\b\b\b\b\b\b\b\b\b\b\b\b\b\b\b\b\b\r11200/12153 [==========================>...] - ETA: 7s"
     ]
    },
    {
     "name": "stdout",
     "output_type": "stream",
     "text": [
      "\b\b\b\b\b\b\b\b\b\b\b\b\b\b\b\b\b\b\b\b\b\b\b\b\b\b\b\b\b\b\b\b\b\b\b\b\b\b\b\b\b\b\b\b\b\b\b\b\b\b\b\b\b\b\r11232/12153 [==========================>...] - ETA: 7s"
     ]
    },
    {
     "name": "stdout",
     "output_type": "stream",
     "text": [
      "\b\b\b\b\b\b\b\b\b\b\b\b\b\b\b\b\b\b\b\b\b\b\b\b\b\b\b\b\b\b\b\b\b\b\b\b\b\b\b\b\b\b\b\b\b\b\b\b\b\b\b\b\b\b\r11264/12153 [==========================>...] - ETA: 7s"
     ]
    },
    {
     "name": "stdout",
     "output_type": "stream",
     "text": [
      "\b\b\b\b\b\b\b\b\b\b\b\b\b\b\b\b\b\b\b\b\b\b\b\b\b\b\b\b\b\b\b\b\b\b\b\b\b\b\b\b\b\b\b\b\b\b\b\b\b\b\b\b\b\b\r11296/12153 [==========================>...] - ETA: 7s"
     ]
    },
    {
     "name": "stdout",
     "output_type": "stream",
     "text": [
      "\b\b\b\b\b\b\b\b\b\b\b\b\b\b\b\b\b\b\b\b\b\b\b\b\b\b\b\b\b\b\b\b\b\b\b\b\b\b\b\b\b\b\b\b\b\b\b\b\b\b\b\b\b\b\r11328/12153 [==========================>...] - ETA: 6s"
     ]
    },
    {
     "name": "stdout",
     "output_type": "stream",
     "text": [
      "\b\b\b\b\b\b\b\b\b\b\b\b\b\b\b\b\b\b\b\b\b\b\b\b\b\b\b\b\b\b\b\b\b\b\b\b\b\b\b\b\b\b\b\b\b\b\b\b\b\b\b\b\b\b\r11360/12153 [===========================>..] - ETA: 6s"
     ]
    },
    {
     "name": "stdout",
     "output_type": "stream",
     "text": [
      "\b\b\b\b\b\b\b\b\b\b\b\b\b\b\b\b\b\b\b\b\b\b\b\b\b\b\b\b\b\b\b\b\b\b\b\b\b\b\b\b\b\b\b\b\b\b\b\b\b\b\b\b\b\b\r11392/12153 [===========================>..] - ETA: 6s"
     ]
    },
    {
     "name": "stdout",
     "output_type": "stream",
     "text": [
      "\b\b\b\b\b\b\b\b\b\b\b\b\b\b\b\b\b\b\b\b\b\b\b\b\b\b\b\b\b\b\b\b\b\b\b\b\b\b\b\b\b\b\b\b\b\b\b\b\b\b\b\b\b\b\r11424/12153 [===========================>..] - ETA: 6s"
     ]
    },
    {
     "name": "stdout",
     "output_type": "stream",
     "text": [
      "\b\b\b\b\b\b\b\b\b\b\b\b\b\b\b\b\b\b\b\b\b\b\b\b\b\b\b\b\b\b\b\b\b\b\b\b\b\b\b\b\b\b\b\b\b\b\b\b\b\b\b\b\b\b\r11456/12153 [===========================>..] - ETA: 5s"
     ]
    },
    {
     "name": "stdout",
     "output_type": "stream",
     "text": [
      "\b\b\b\b\b\b\b\b\b\b\b\b\b\b\b\b\b\b\b\b\b\b\b\b\b\b\b\b\b\b\b\b\b\b\b\b\b\b\b\b\b\b\b\b\b\b\b\b\b\b\b\b\b\b\r11488/12153 [===========================>..] - ETA: 5s"
     ]
    },
    {
     "name": "stdout",
     "output_type": "stream",
     "text": [
      "\b\b\b\b\b\b\b\b\b\b\b\b\b\b\b\b\b\b\b\b\b\b\b\b\b\b\b\b\b\b\b\b\b\b\b\b\b\b\b\b\b\b\b\b\b\b\b\b\b\b\b\b\b\b\r11520/12153 [===========================>..] - ETA: 5s"
     ]
    },
    {
     "name": "stdout",
     "output_type": "stream",
     "text": [
      "\b\b\b\b\b\b\b\b\b\b\b\b\b\b\b\b\b\b\b\b\b\b\b\b\b\b\b\b\b\b\b\b\b\b\b\b\b\b\b\b\b\b\b\b\b\b\b\b\b\b\b\b\b\b\r11552/12153 [===========================>..] - ETA: 4s"
     ]
    },
    {
     "name": "stdout",
     "output_type": "stream",
     "text": [
      "\b\b\b\b\b\b\b\b\b\b\b\b\b\b\b\b\b\b\b\b\b\b\b\b\b\b\b\b\b\b\b\b\b\b\b\b\b\b\b\b\b\b\b\b\b\b\b\b\b\b\b\b\b\b\r11584/12153 [===========================>..] - ETA: 4s"
     ]
    },
    {
     "name": "stdout",
     "output_type": "stream",
     "text": [
      "\b\b\b\b\b\b\b\b\b\b\b\b\b\b\b\b\b\b\b\b\b\b\b\b\b\b\b\b\b\b\b\b\b\b\b\b\b\b\b\b\b\b\b\b\b\b\b\b\b\b\b\b\b\b\r11616/12153 [===========================>..] - ETA: 4s"
     ]
    },
    {
     "name": "stdout",
     "output_type": "stream",
     "text": [
      "\b\b\b\b\b\b\b\b\b\b\b\b\b\b\b\b\b\b\b\b\b\b\b\b\b\b\b\b\b\b\b\b\b\b\b\b\b\b\b\b\b\b\b\b\b\b\b\b\b\b\b\b\b\b\r11648/12153 [===========================>..] - ETA: 4s"
     ]
    },
    {
     "name": "stdout",
     "output_type": "stream",
     "text": [
      "\b\b\b\b\b\b\b\b\b\b\b\b\b\b\b\b\b\b\b\b\b\b\b\b\b\b\b\b\b\b\b\b\b\b\b\b\b\b\b\b\b\b\b\b\b\b\b\b\b\b\b\b\b\b\r11680/12153 [===========================>..] - ETA: 3s"
     ]
    },
    {
     "name": "stdout",
     "output_type": "stream",
     "text": [
      "\b\b\b\b\b\b\b\b\b\b\b\b\b\b\b\b\b\b\b\b\b\b\b\b\b\b\b\b\b\b\b\b\b\b\b\b\b\b\b\b\b\b\b\b\b\b\b\b\b\b\b\b\b\b\r11712/12153 [===========================>..] - ETA: 3s"
     ]
    },
    {
     "name": "stdout",
     "output_type": "stream",
     "text": [
      "\b\b\b\b\b\b\b\b\b\b\b\b\b\b\b\b\b\b\b\b\b\b\b\b\b\b\b\b\b\b\b\b\b\b\b\b\b\b\b\b\b\b\b\b\b\b\b\b\b\b\b\b\b\b\r11744/12153 [===========================>..] - ETA: 3s"
     ]
    },
    {
     "name": "stdout",
     "output_type": "stream",
     "text": [
      "\b\b\b\b\b\b\b\b\b\b\b\b\b\b\b\b\b\b\b\b\b\b\b\b\b\b\b\b\b\b\b\b\b\b\b\b\b\b\b\b\b\b\b\b\b\b\b\b\b\b\b\b\b\b\r11776/12153 [============================>.] - ETA: 3s"
     ]
    },
    {
     "name": "stdout",
     "output_type": "stream",
     "text": [
      "\b\b\b\b\b\b\b\b\b\b\b\b\b\b\b\b\b\b\b\b\b\b\b\b\b\b\b\b\b\b\b\b\b\b\b\b\b\b\b\b\b\b\b\b\b\b\b\b\b\b\b\b\b\b\r11808/12153 [============================>.] - ETA: 2s"
     ]
    },
    {
     "name": "stdout",
     "output_type": "stream",
     "text": [
      "\b\b\b\b\b\b\b\b\b\b\b\b\b\b\b\b\b\b\b\b\b\b\b\b\b\b\b\b\b\b\b\b\b\b\b\b\b\b\b\b\b\b\b\b\b\b\b\b\b\b\b\b\b\b\r11840/12153 [============================>.] - ETA: 2s"
     ]
    },
    {
     "name": "stdout",
     "output_type": "stream",
     "text": [
      "\b\b\b\b\b\b\b\b\b\b\b\b\b\b\b\b\b\b\b\b\b\b\b\b\b\b\b\b\b\b\b\b\b\b\b\b\b\b\b\b\b\b\b\b\b\b\b\b\b\b\b\b\b\b\r11872/12153 [============================>.] - ETA: 2s"
     ]
    },
    {
     "name": "stdout",
     "output_type": "stream",
     "text": [
      "\b\b\b\b\b\b\b\b\b\b\b\b\b\b\b\b\b\b\b\b\b\b\b\b\b\b\b\b\b\b\b\b\b\b\b\b\b\b\b\b\b\b\b\b\b\b\b\b\b\b\b\b\b\b\r11904/12153 [============================>.] - ETA: 2s"
     ]
    },
    {
     "name": "stdout",
     "output_type": "stream",
     "text": [
      "\b\b\b\b\b\b\b\b\b\b\b\b\b\b\b\b\b\b\b\b\b\b\b\b\b\b\b\b\b\b\b\b\b\b\b\b\b\b\b\b\b\b\b\b\b\b\b\b\b\b\b\b\b\b\r11936/12153 [============================>.] - ETA: 1s"
     ]
    },
    {
     "name": "stdout",
     "output_type": "stream",
     "text": [
      "\b\b\b\b\b\b\b\b\b\b\b\b\b\b\b\b\b\b\b\b\b\b\b\b\b\b\b\b\b\b\b\b\b\b\b\b\b\b\b\b\b\b\b\b\b\b\b\b\b\b\b\b\b\b\r11968/12153 [============================>.] - ETA: 1s"
     ]
    },
    {
     "name": "stdout",
     "output_type": "stream",
     "text": [
      "\b\b\b\b\b\b\b\b\b\b\b\b\b\b\b\b\b\b\b\b\b\b\b\b\b\b\b\b\b\b\b\b\b\b\b\b\b\b\b\b\b\b\b\b\b\b\b\b\b\b\b\b\b\b\r12000/12153 [============================>.] - ETA: 1s"
     ]
    },
    {
     "name": "stdout",
     "output_type": "stream",
     "text": [
      "\b\b\b\b\b\b\b\b\b\b\b\b\b\b\b\b\b\b\b\b\b\b\b\b\b\b\b\b\b\b\b\b\b\b\b\b\b\b\b\b\b\b\b\b\b\b\b\b\b\b\b\b\b\b\r12032/12153 [============================>.] - ETA: 0s"
     ]
    },
    {
     "name": "stdout",
     "output_type": "stream",
     "text": [
      "\b\b\b\b\b\b\b\b\b\b\b\b\b\b\b\b\b\b\b\b\b\b\b\b\b\b\b\b\b\b\b\b\b\b\b\b\b\b\b\b\b\b\b\b\b\b\b\b\b\b\b\b\b\b\r12064/12153 [============================>.] - ETA: 0s"
     ]
    },
    {
     "name": "stdout",
     "output_type": "stream",
     "text": [
      "\b\b\b\b\b\b\b\b\b\b\b\b\b\b\b\b\b\b\b\b\b\b\b\b\b\b\b\b\b\b\b\b\b\b\b\b\b\b\b\b\b\b\b\b\b\b\b\b\b\b\b\b\b\b\r12096/12153 [============================>.] - ETA: 0s"
     ]
    },
    {
     "name": "stdout",
     "output_type": "stream",
     "text": [
      "\b\b\b\b\b\b\b\b\b\b\b\b\b\b\b\b\b\b\b\b\b\b\b\b\b\b\b\b\b\b\b\b\b\b\b\b\b\b\b\b\b\b\b\b\b\b\b\b\b\b\b\b\b\b\r12128/12153 [============================>.] - ETA: 0s"
     ]
    },
    {
     "name": "stdout",
     "output_type": "stream",
     "text": [
      "\b\b\b\b\b\b\b\b\b\b\b\b\b\b\b\b\b\b\b\b\b\b\b\b\b\b\b\b\b\b\b\b\b\b\b\b\b\b\b\b\b\b\b\b\b\b\b\b\b\b\b\b\b\b\r12153/12153 [==============================] - 100s   "
     ]
    },
    {
     "name": "stdout",
     "output_type": "stream",
     "text": [
      "\n"
     ]
    },
    {
     "data": {
      "text/plain": [
       "array([[  1.24729546e-02,   1.24272180e-03,   1.05710246e-03, ...,\n          3.75759928e-03,   2.73199426e-03,   8.60748813e-03],\n       [  9.87300754e-01,   6.55616808e-04,   5.51136269e-04, ...,\n          4.42503399e-04,   1.27762774e-04,   1.91338288e-04],\n       [  3.78755713e-03,   9.19874466e-04,   4.10197274e-04, ...,\n          1.11058832e-03,   1.55001151e-04,   4.16732219e-04],\n       ..., \n       [  7.40019321e-01,   7.80680124e-03,   7.67658558e-03, ...,\n          5.79838827e-03,   1.76442191e-02,   3.69352140e-02],\n       [  9.05613229e-02,   1.24205265e-03,   1.19844917e-03, ...,\n          2.10608263e-03,   9.80667537e-04,   1.36044680e-03],\n       [  9.54289258e-01,   2.09394954e-02,   1.26955099e-03, ...,\n          9.25760483e-04,   6.09100622e-04,   8.82385578e-03]], dtype=float32)"
      ]
     },
     "execution_count": 45,
     "metadata": {},
     "output_type": "execute_result"
    }
   ],
   "source": [
    "cnn_model_proba = cnn_model.predict_proba(preds)\n",
    "cnn_model_proba"
   ]
  },
  {
   "cell_type": "markdown",
   "metadata": {},
   "source": [
    "GB MODEL"
   ]
  },
  {
   "cell_type": "code",
   "execution_count": 47,
   "metadata": {},
   "outputs": [],
   "source": [
    "reshaped_preds = preds.reshape(preds.shape[0], -1)\n",
    "\n",
    "gb_model_proba = gb_model.predict_proba(reshaped_preds)\n",
    "gb_model_proba"
   ]
  },
  {
   "cell_type": "markdown",
   "metadata": {},
   "source": [
    "SOFT VOTING"
   ]
  },
  {
   "cell_type": "code",
   "execution_count": 48,
   "metadata": {},
   "outputs": [
    {
     "data": {
      "text/plain": [
       "array([[  1.17536704e-01,   6.33585909e-03,   1.51205971e-03, ...,\n          3.97438889e-03,   8.47329239e-03,   1.75621435e-02],\n       [  9.80524761e-01,   1.47924820e-03,   1.23790550e-03, ...,\n          7.70976892e-04,   3.07610446e-04,   3.66432001e-03],\n       [  1.14100167e-01,   3.70710771e-03,   1.17634341e-03, ...,\n          3.02418504e-03,   1.03339065e-03,   2.02717303e-02],\n       ..., \n       [  7.52202860e-01,   7.59715334e-03,   6.77886998e-03, ...,\n          5.27546954e-03,   1.54218589e-02,   3.51385623e-02],\n       [  1.70540480e-01,   4.25578404e-03,   1.82043309e-03, ...,\n          4.49415483e-03,   3.21990099e-03,   1.37362762e-02],\n       [  8.69658909e-01,   1.97057771e-02,   1.39998089e-03, ...,\n          1.09301770e-03,   8.03367617e-04,   9.97538439e-03]])"
      ]
     },
     "execution_count": 48,
     "metadata": {},
     "output_type": "execute_result"
    }
   ],
   "source": [
    "weights = [1, 6]\n",
    "\n",
    "proba = np.asarray([gb_model_proba, cnn_model_proba])\n",
    "proba = np.average(proba, axis=0, weights=weights)\n",
    "proba"
   ]
  },
  {
   "cell_type": "markdown",
   "metadata": {},
   "source": [
    "CSV CREATION"
   ]
  },
  {
   "cell_type": "code",
   "execution_count": 56,
   "metadata": {},
   "outputs": [
    {
     "data": {
      "text/html": [
       "<div>\n",
       "<style>\n",
       "    .dataframe thead tr:only-child th {\n",
       "        text-align: right;\n",
       "    }\n",
       "\n",
       "    .dataframe thead th {\n",
       "        text-align: left;\n",
       "    }\n",
       "\n",
       "    .dataframe tbody tr th {\n",
       "        vertical-align: top;\n",
       "    }\n",
       "</style>\n",
       "<table border=\"1\" class=\"dataframe\">\n",
       "  <thead>\n",
       "    <tr style=\"text-align: right;\">\n",
       "      <th></th>\n",
       "      <th>image</th>\n",
       "      <th>ALB</th>\n",
       "      <th>BET</th>\n",
       "      <th>DOL</th>\n",
       "      <th>LAG</th>\n",
       "      <th>NoF</th>\n",
       "      <th>OTHER</th>\n",
       "      <th>SHARK</th>\n",
       "      <th>YFT</th>\n",
       "    </tr>\n",
       "  </thead>\n",
       "  <tbody>\n",
       "    <tr>\n",
       "      <th>0</th>\n",
       "      <td>test_stg2/image_00001.jpg</td>\n",
       "      <td>NaN</td>\n",
       "      <td>NaN</td>\n",
       "      <td>NaN</td>\n",
       "      <td>NaN</td>\n",
       "      <td>NaN</td>\n",
       "      <td>NaN</td>\n",
       "      <td>NaN</td>\n",
       "      <td>NaN</td>\n",
       "    </tr>\n",
       "    <tr>\n",
       "      <th>1</th>\n",
       "      <td>test_stg2/image_00002.jpg</td>\n",
       "      <td>NaN</td>\n",
       "      <td>NaN</td>\n",
       "      <td>NaN</td>\n",
       "      <td>NaN</td>\n",
       "      <td>NaN</td>\n",
       "      <td>NaN</td>\n",
       "      <td>NaN</td>\n",
       "      <td>NaN</td>\n",
       "    </tr>\n",
       "    <tr>\n",
       "      <th>2</th>\n",
       "      <td>test_stg2/image_00003.jpg</td>\n",
       "      <td>NaN</td>\n",
       "      <td>NaN</td>\n",
       "      <td>NaN</td>\n",
       "      <td>NaN</td>\n",
       "      <td>NaN</td>\n",
       "      <td>NaN</td>\n",
       "      <td>NaN</td>\n",
       "      <td>NaN</td>\n",
       "    </tr>\n",
       "    <tr>\n",
       "      <th>3</th>\n",
       "      <td>test_stg2/image_00004.jpg</td>\n",
       "      <td>NaN</td>\n",
       "      <td>NaN</td>\n",
       "      <td>NaN</td>\n",
       "      <td>NaN</td>\n",
       "      <td>NaN</td>\n",
       "      <td>NaN</td>\n",
       "      <td>NaN</td>\n",
       "      <td>NaN</td>\n",
       "    </tr>\n",
       "    <tr>\n",
       "      <th>4</th>\n",
       "      <td>test_stg2/image_00005.jpg</td>\n",
       "      <td>NaN</td>\n",
       "      <td>NaN</td>\n",
       "      <td>NaN</td>\n",
       "      <td>NaN</td>\n",
       "      <td>NaN</td>\n",
       "      <td>NaN</td>\n",
       "      <td>NaN</td>\n",
       "      <td>NaN</td>\n",
       "    </tr>\n",
       "  </tbody>\n",
       "</table>\n",
       "</div>"
      ],
      "text/plain": [
       "<div>\n",
       "<style>\n",
       "    .dataframe thead tr:only-child th {\n",
       "        text-align: right;\n",
       "    }\n",
       "\n",
       "    .dataframe thead th {\n",
       "        text-align: left;\n",
       "    }\n",
       "\n",
       "    .dataframe tbody tr th {\n",
       "        vertical-align: top;\n",
       "    }\n",
       "</style>\n",
       "<table border=\"1\" class=\"dataframe\">\n",
       "  <thead>\n",
       "    <tr style=\"text-align: right;\">\n",
       "      <th></th>\n",
       "      <th>image</th>\n",
       "      <th>ALB</th>\n",
       "      <th>BET</th>\n",
       "      <th>DOL</th>\n",
       "      <th>LAG</th>\n",
       "      <th>NoF</th>\n",
       "      <th>OTHER</th>\n",
       "      <th>SHARK</th>\n",
       "      <th>YFT</th>\n",
       "    </tr>\n",
       "  </thead>\n",
       "  <tbody>\n",
       "    <tr>\n",
       "      <th>0</th>\n",
       "      <td>test_stg2/image_00001.jpg</td>\n",
       "      <td>NaN</td>\n",
       "      <td>NaN</td>\n",
       "      <td>NaN</td>\n",
       "      <td>NaN</td>\n",
       "      <td>NaN</td>\n",
       "      <td>NaN</td>\n",
       "      <td>NaN</td>\n",
       "      <td>NaN</td>\n",
       "    </tr>\n",
       "    <tr>\n",
       "      <th>1</th>\n",
       "      <td>test_stg2/image_00002.jpg</td>\n",
       "      <td>NaN</td>\n",
       "      <td>NaN</td>\n",
       "      <td>NaN</td>\n",
       "      <td>NaN</td>\n",
       "      <td>NaN</td>\n",
       "      <td>NaN</td>\n",
       "      <td>NaN</td>\n",
       "      <td>NaN</td>\n",
       "    </tr>\n",
       "    <tr>\n",
       "      <th>2</th>\n",
       "      <td>test_stg2/image_00003.jpg</td>\n",
       "      <td>NaN</td>\n",
       "      <td>NaN</td>\n",
       "      <td>NaN</td>\n",
       "      <td>NaN</td>\n",
       "      <td>NaN</td>\n",
       "      <td>NaN</td>\n",
       "      <td>NaN</td>\n",
       "      <td>NaN</td>\n",
       "    </tr>\n",
       "    <tr>\n",
       "      <th>3</th>\n",
       "      <td>test_stg2/image_00004.jpg</td>\n",
       "      <td>NaN</td>\n",
       "      <td>NaN</td>\n",
       "      <td>NaN</td>\n",
       "      <td>NaN</td>\n",
       "      <td>NaN</td>\n",
       "      <td>NaN</td>\n",
       "      <td>NaN</td>\n",
       "      <td>NaN</td>\n",
       "    </tr>\n",
       "    <tr>\n",
       "      <th>4</th>\n",
       "      <td>test_stg2/image_00005.jpg</td>\n",
       "      <td>NaN</td>\n",
       "      <td>NaN</td>\n",
       "      <td>NaN</td>\n",
       "      <td>NaN</td>\n",
       "      <td>NaN</td>\n",
       "      <td>NaN</td>\n",
       "      <td>NaN</td>\n",
       "      <td>NaN</td>\n",
       "    </tr>\n",
       "  </tbody>\n",
       "</table>\n",
       "</div>"
      ]
     },
     "execution_count": 56,
     "metadata": {},
     "output_type": "execute_result"
    }
   ],
   "source": [
    "DATA_FOLDER = 'original/test/test_stg2/'\n",
    "\n",
    "files = os.listdir(DATA_FOLDER)\n",
    "n_files = len(files)\n",
    "\n",
    "cols = ['image','ALB','BET','DOL','LAG','NoF','OTHER','SHARK','YFT']\n",
    "df_stg2 = pd.DataFrame(columns=cols)\n",
    "\n",
    "df_stg2['image'] = ['test_stg2/' + f for f in files]\n",
    "df_stg2.head()"
   ]
  },
  {
   "cell_type": "code",
   "execution_count": 57,
   "metadata": {},
   "outputs": [
    {
     "data": {
      "text/html": [
       "<div>\n",
       "<style>\n",
       "    .dataframe thead tr:only-child th {\n",
       "        text-align: right;\n",
       "    }\n",
       "\n",
       "    .dataframe thead th {\n",
       "        text-align: left;\n",
       "    }\n",
       "\n",
       "    .dataframe tbody tr th {\n",
       "        vertical-align: top;\n",
       "    }\n",
       "</style>\n",
       "<table border=\"1\" class=\"dataframe\">\n",
       "  <thead>\n",
       "    <tr style=\"text-align: right;\">\n",
       "      <th></th>\n",
       "      <th>image</th>\n",
       "      <th>ALB</th>\n",
       "      <th>BET</th>\n",
       "      <th>DOL</th>\n",
       "      <th>LAG</th>\n",
       "      <th>NoF</th>\n",
       "      <th>OTHER</th>\n",
       "      <th>SHARK</th>\n",
       "      <th>YFT</th>\n",
       "    </tr>\n",
       "  </thead>\n",
       "  <tbody>\n",
       "    <tr>\n",
       "      <th>0</th>\n",
       "      <td>test_stg2/image_00001.jpg</td>\n",
       "      <td>0.117537</td>\n",
       "      <td>0.006336</td>\n",
       "      <td>0.001512</td>\n",
       "      <td>0.001108</td>\n",
       "      <td>0.843498</td>\n",
       "      <td>0.003974</td>\n",
       "      <td>0.008473</td>\n",
       "      <td>0.017562</td>\n",
       "    </tr>\n",
       "    <tr>\n",
       "      <th>1</th>\n",
       "      <td>test_stg2/image_00002.jpg</td>\n",
       "      <td>0.980525</td>\n",
       "      <td>0.001479</td>\n",
       "      <td>0.001238</td>\n",
       "      <td>0.000322</td>\n",
       "      <td>0.011693</td>\n",
       "      <td>0.000771</td>\n",
       "      <td>0.000308</td>\n",
       "      <td>0.003664</td>\n",
       "    </tr>\n",
       "    <tr>\n",
       "      <th>2</th>\n",
       "      <td>test_stg2/image_00003.jpg</td>\n",
       "      <td>0.114100</td>\n",
       "      <td>0.003707</td>\n",
       "      <td>0.001176</td>\n",
       "      <td>0.000713</td>\n",
       "      <td>0.855974</td>\n",
       "      <td>0.003024</td>\n",
       "      <td>0.001033</td>\n",
       "      <td>0.020272</td>\n",
       "    </tr>\n",
       "    <tr>\n",
       "      <th>3</th>\n",
       "      <td>test_stg2/image_00004.jpg</td>\n",
       "      <td>0.424327</td>\n",
       "      <td>0.007337</td>\n",
       "      <td>0.016792</td>\n",
       "      <td>0.002820</td>\n",
       "      <td>0.093860</td>\n",
       "      <td>0.011438</td>\n",
       "      <td>0.006954</td>\n",
       "      <td>0.436471</td>\n",
       "    </tr>\n",
       "    <tr>\n",
       "      <th>4</th>\n",
       "      <td>test_stg2/image_00005.jpg</td>\n",
       "      <td>0.955083</td>\n",
       "      <td>0.003621</td>\n",
       "      <td>0.001609</td>\n",
       "      <td>0.000597</td>\n",
       "      <td>0.027578</td>\n",
       "      <td>0.003878</td>\n",
       "      <td>0.000895</td>\n",
       "      <td>0.006740</td>\n",
       "    </tr>\n",
       "  </tbody>\n",
       "</table>\n",
       "</div>"
      ],
      "text/plain": [
       "<div>\n",
       "<style>\n",
       "    .dataframe thead tr:only-child th {\n",
       "        text-align: right;\n",
       "    }\n",
       "\n",
       "    .dataframe thead th {\n",
       "        text-align: left;\n",
       "    }\n",
       "\n",
       "    .dataframe tbody tr th {\n",
       "        vertical-align: top;\n",
       "    }\n",
       "</style>\n",
       "<table border=\"1\" class=\"dataframe\">\n",
       "  <thead>\n",
       "    <tr style=\"text-align: right;\">\n",
       "      <th></th>\n",
       "      <th>image</th>\n",
       "      <th>ALB</th>\n",
       "      <th>BET</th>\n",
       "      <th>DOL</th>\n",
       "      <th>LAG</th>\n",
       "      <th>NoF</th>\n",
       "      <th>OTHER</th>\n",
       "      <th>SHARK</th>\n",
       "      <th>YFT</th>\n",
       "    </tr>\n",
       "  </thead>\n",
       "  <tbody>\n",
       "    <tr>\n",
       "      <th>0</th>\n",
       "      <td>test_stg2/image_00001.jpg</td>\n",
       "      <td>0.117537</td>\n",
       "      <td>0.006336</td>\n",
       "      <td>0.001512</td>\n",
       "      <td>0.001108</td>\n",
       "      <td>0.843498</td>\n",
       "      <td>0.003974</td>\n",
       "      <td>0.008473</td>\n",
       "      <td>0.017562</td>\n",
       "    </tr>\n",
       "    <tr>\n",
       "      <th>1</th>\n",
       "      <td>test_stg2/image_00002.jpg</td>\n",
       "      <td>0.980525</td>\n",
       "      <td>0.001479</td>\n",
       "      <td>0.001238</td>\n",
       "      <td>0.000322</td>\n",
       "      <td>0.011693</td>\n",
       "      <td>0.000771</td>\n",
       "      <td>0.000308</td>\n",
       "      <td>0.003664</td>\n",
       "    </tr>\n",
       "    <tr>\n",
       "      <th>2</th>\n",
       "      <td>test_stg2/image_00003.jpg</td>\n",
       "      <td>0.114100</td>\n",
       "      <td>0.003707</td>\n",
       "      <td>0.001176</td>\n",
       "      <td>0.000713</td>\n",
       "      <td>0.855974</td>\n",
       "      <td>0.003024</td>\n",
       "      <td>0.001033</td>\n",
       "      <td>0.020272</td>\n",
       "    </tr>\n",
       "    <tr>\n",
       "      <th>3</th>\n",
       "      <td>test_stg2/image_00004.jpg</td>\n",
       "      <td>0.424327</td>\n",
       "      <td>0.007337</td>\n",
       "      <td>0.016792</td>\n",
       "      <td>0.002820</td>\n",
       "      <td>0.093860</td>\n",
       "      <td>0.011438</td>\n",
       "      <td>0.006954</td>\n",
       "      <td>0.436471</td>\n",
       "    </tr>\n",
       "    <tr>\n",
       "      <th>4</th>\n",
       "      <td>test_stg2/image_00005.jpg</td>\n",
       "      <td>0.955083</td>\n",
       "      <td>0.003621</td>\n",
       "      <td>0.001609</td>\n",
       "      <td>0.000597</td>\n",
       "      <td>0.027578</td>\n",
       "      <td>0.003878</td>\n",
       "      <td>0.000895</td>\n",
       "      <td>0.006740</td>\n",
       "    </tr>\n",
       "  </tbody>\n",
       "</table>\n",
       "</div>"
      ]
     },
     "execution_count": 57,
     "metadata": {},
     "output_type": "execute_result"
    }
   ],
   "source": [
    "for col in cols[1:]:\n",
    "    df_stg2[col] = proba[:, np.argmax(metadata[col])]\n",
    "\n",
    "df_stg2.head()"
   ]
  },
  {
   "cell_type": "code",
   "execution_count": 58,
   "metadata": {},
   "outputs": [],
   "source": [
    "df_stg2.to_csv(OUTPUT_FILE, index=False)"
   ]
  },
  {
   "cell_type": "markdown",
   "metadata": {},
   "source": [
    "MERGE SUBMISSIONS"
   ]
  },
  {
   "cell_type": "code",
   "execution_count": 59,
   "metadata": {
    "collapsed": false
   },
   "outputs": [
    {
     "data": {
      "text/html": [
       "<div>\n",
       "<style>\n",
       "    .dataframe thead tr:only-child th {\n",
       "        text-align: right;\n",
       "    }\n",
       "\n",
       "    .dataframe thead th {\n",
       "        text-align: left;\n",
       "    }\n",
       "\n",
       "    .dataframe tbody tr th {\n",
       "        vertical-align: top;\n",
       "    }\n",
       "</style>\n",
       "<table border=\"1\" class=\"dataframe\">\n",
       "  <thead>\n",
       "    <tr style=\"text-align: right;\">\n",
       "      <th></th>\n",
       "      <th>image</th>\n",
       "      <th>ALB</th>\n",
       "      <th>BET</th>\n",
       "      <th>DOL</th>\n",
       "      <th>LAG</th>\n",
       "      <th>NoF</th>\n",
       "      <th>OTHER</th>\n",
       "      <th>SHARK</th>\n",
       "      <th>YFT</th>\n",
       "    </tr>\n",
       "  </thead>\n",
       "  <tbody>\n",
       "    <tr>\n",
       "      <th>0</th>\n",
       "      <td>img_00005.jpg</td>\n",
       "      <td>0.000224</td>\n",
       "      <td>0.000107</td>\n",
       "      <td>0.000079</td>\n",
       "      <td>0.000020</td>\n",
       "      <td>0.999397</td>\n",
       "      <td>0.000079</td>\n",
       "      <td>0.000045</td>\n",
       "      <td>0.000048</td>\n",
       "    </tr>\n",
       "    <tr>\n",
       "      <th>1</th>\n",
       "      <td>img_00007.jpg</td>\n",
       "      <td>0.269079</td>\n",
       "      <td>0.025139</td>\n",
       "      <td>0.004798</td>\n",
       "      <td>0.006323</td>\n",
       "      <td>0.001656</td>\n",
       "      <td>0.002590</td>\n",
       "      <td>0.002087</td>\n",
       "      <td>0.688328</td>\n",
       "    </tr>\n",
       "    <tr>\n",
       "      <th>2</th>\n",
       "      <td>img_00009.jpg</td>\n",
       "      <td>0.997524</td>\n",
       "      <td>0.000410</td>\n",
       "      <td>0.000050</td>\n",
       "      <td>0.000190</td>\n",
       "      <td>0.000073</td>\n",
       "      <td>0.001207</td>\n",
       "      <td>0.000047</td>\n",
       "      <td>0.000500</td>\n",
       "    </tr>\n",
       "    <tr>\n",
       "      <th>3</th>\n",
       "      <td>img_00018.jpg</td>\n",
       "      <td>0.852541</td>\n",
       "      <td>0.076867</td>\n",
       "      <td>0.000774</td>\n",
       "      <td>0.013925</td>\n",
       "      <td>0.001930</td>\n",
       "      <td>0.033990</td>\n",
       "      <td>0.001145</td>\n",
       "      <td>0.018827</td>\n",
       "    </tr>\n",
       "    <tr>\n",
       "      <th>4</th>\n",
       "      <td>img_00027.jpg</td>\n",
       "      <td>0.117429</td>\n",
       "      <td>0.009029</td>\n",
       "      <td>0.004283</td>\n",
       "      <td>0.002814</td>\n",
       "      <td>0.012798</td>\n",
       "      <td>0.760090</td>\n",
       "      <td>0.008240</td>\n",
       "      <td>0.085317</td>\n",
       "    </tr>\n",
       "  </tbody>\n",
       "</table>\n",
       "</div>"
      ],
      "text/plain": [
       "<div>\n",
       "<style>\n",
       "    .dataframe thead tr:only-child th {\n",
       "        text-align: right;\n",
       "    }\n",
       "\n",
       "    .dataframe thead th {\n",
       "        text-align: left;\n",
       "    }\n",
       "\n",
       "    .dataframe tbody tr th {\n",
       "        vertical-align: top;\n",
       "    }\n",
       "</style>\n",
       "<table border=\"1\" class=\"dataframe\">\n",
       "  <thead>\n",
       "    <tr style=\"text-align: right;\">\n",
       "      <th></th>\n",
       "      <th>image</th>\n",
       "      <th>ALB</th>\n",
       "      <th>BET</th>\n",
       "      <th>DOL</th>\n",
       "      <th>LAG</th>\n",
       "      <th>NoF</th>\n",
       "      <th>OTHER</th>\n",
       "      <th>SHARK</th>\n",
       "      <th>YFT</th>\n",
       "    </tr>\n",
       "  </thead>\n",
       "  <tbody>\n",
       "    <tr>\n",
       "      <th>0</th>\n",
       "      <td>img_00005.jpg</td>\n",
       "      <td>0.000224</td>\n",
       "      <td>0.000107</td>\n",
       "      <td>0.000079</td>\n",
       "      <td>0.000020</td>\n",
       "      <td>0.999397</td>\n",
       "      <td>0.000079</td>\n",
       "      <td>0.000045</td>\n",
       "      <td>0.000048</td>\n",
       "    </tr>\n",
       "    <tr>\n",
       "      <th>1</th>\n",
       "      <td>img_00007.jpg</td>\n",
       "      <td>0.269079</td>\n",
       "      <td>0.025139</td>\n",
       "      <td>0.004798</td>\n",
       "      <td>0.006323</td>\n",
       "      <td>0.001656</td>\n",
       "      <td>0.002590</td>\n",
       "      <td>0.002087</td>\n",
       "      <td>0.688328</td>\n",
       "    </tr>\n",
       "    <tr>\n",
       "      <th>2</th>\n",
       "      <td>img_00009.jpg</td>\n",
       "      <td>0.997524</td>\n",
       "      <td>0.000410</td>\n",
       "      <td>0.000050</td>\n",
       "      <td>0.000190</td>\n",
       "      <td>0.000073</td>\n",
       "      <td>0.001207</td>\n",
       "      <td>0.000047</td>\n",
       "      <td>0.000500</td>\n",
       "    </tr>\n",
       "    <tr>\n",
       "      <th>3</th>\n",
       "      <td>img_00018.jpg</td>\n",
       "      <td>0.852541</td>\n",
       "      <td>0.076867</td>\n",
       "      <td>0.000774</td>\n",
       "      <td>0.013925</td>\n",
       "      <td>0.001930</td>\n",
       "      <td>0.033990</td>\n",
       "      <td>0.001145</td>\n",
       "      <td>0.018827</td>\n",
       "    </tr>\n",
       "    <tr>\n",
       "      <th>4</th>\n",
       "      <td>img_00027.jpg</td>\n",
       "      <td>0.117429</td>\n",
       "      <td>0.009029</td>\n",
       "      <td>0.004283</td>\n",
       "      <td>0.002814</td>\n",
       "      <td>0.012798</td>\n",
       "      <td>0.760090</td>\n",
       "      <td>0.008240</td>\n",
       "      <td>0.085317</td>\n",
       "    </tr>\n",
       "  </tbody>\n",
       "</table>\n",
       "</div>"
      ]
     },
     "execution_count": 59,
     "metadata": {},
     "output_type": "execute_result"
    }
   ],
   "source": [
    "df1 = pd.read_csv('kaggle/submission_stg1.csv')\n",
    "df1.sort_values('image', inplace=True)\n",
    "\n",
    "df2 = pd.read_csv('kaggle/submission_stg2.csv')\n",
    "df2.sort_values('image', inplace=True)\n",
    "\n",
    "df = df1.append(df2)\n",
    "df.head()"
   ]
  },
  {
   "cell_type": "code",
   "execution_count": 60,
   "metadata": {},
   "outputs": [],
   "source": [
    "df.to_csv('kaggle/submission.csv', index=False)"
   ]
  },
  {
   "cell_type": "code",
   "execution_count": null,
   "metadata": {},
   "outputs": [],
   "source": [
    ""
   ]
  }
 ],
 "metadata": {
  "kernelspec": {
   "display_name": "Python 2",
   "language": "python",
   "name": "python2"
  },
  "language_info": {
   "codemirror_mode": {
    "name": "ipython",
    "version": 2.0
   },
   "file_extension": ".py",
   "mimetype": "text/x-python",
   "name": "python",
   "nbconvert_exporter": "python",
   "pygments_lexer": "ipython2",
   "version": "2.7.6"
  }
 },
 "nbformat": 4,
 "nbformat_minor": 0
}