{
 "cells": [
  {
   "cell_type": "code",
   "execution_count": 1,
   "metadata": {
    "collapsed": true
   },
   "outputs": [],
   "source": [
    "import h5py\n",
    "import pandas as pd\n",
    "import numpy as np\n",
    "import matplotlib.pyplot as plt\n",
    "from sklearn.model_selection import GridSearchCV\n",
    "from sklearn.model_selection import cross_val_score\n",
    "\n",
    "%matplotlib inline"
   ]
  },
  {
   "cell_type": "code",
   "execution_count": 2,
   "metadata": {},
   "outputs": [],
   "source": [
    "DATA_FILE = 'data/original_train_data.h5'\n",
    "METADATA = 'metadata.npy'\n",
    "\n",
    "f = h5py.File(DATA_FILE, 'r')\n",
    "data_x = f['x']\n",
    "data_y = f['y']\n",
    "metadata = np.load(METADATA).item()"
   ]
  },
  {
   "cell_type": "code",
   "execution_count": 3,
   "metadata": {},
   "outputs": [],
   "source": [
    "import pandas as pd\n",
    "from sklearn import metrics\n",
    "\n",
    "results = pd.DataFrame(columns=['Model', 'Accuracy', 'Precision', 'Recall', 'F1', 'LogLoss'])"
   ]
  },
  {
   "cell_type": "code",
   "execution_count": 4,
   "metadata": {},
   "outputs": [],
   "source": [
    "from sklearn.model_selection import train_test_split\n",
    "\n",
    "data_x = np.asarray(data_x)\n",
    "data_x = data_x.reshape(data_x.shape[0], -1)\n",
    "data_y = np.asarray(data_y)\n",
    "X_train, X_val, y_train, y_val = train_test_split(data_x, data_y, test_size=0.15, random_state=42)"
   ]
  },
  {
   "cell_type": "markdown",
   "metadata": {},
   "source": [
    "Gradient Boosting Model"
   ]
  },
  {
   "cell_type": "code",
   "execution_count": 7,
   "metadata": {},
   "outputs": [
    {
     "name": "stderr",
     "output_type": "stream",
     "text": [
      "/Library/Frameworks/Python.framework/Versions/3.5/lib/python3.5/site-packages/sklearn/cross_validation.py:44: DeprecationWarning: This module was deprecated in version 0.18 in favor of the model_selection module into which all the refactored classes and functions are moved. Also note that the interface of the new CV iterators are different from that of this module. This module will be removed in 0.20.\n  \"This module will be removed in 0.20.\", DeprecationWarning)\n"
     ]
    }
   ],
   "source": [
    "from xgboost import XGBClassifier"
   ]
  },
  {
   "cell_type": "code",
   "execution_count": 8,
   "metadata": {},
   "outputs": [
    {
     "name": "stdout",
     "output_type": "stream",
     "text": [
      "(3210, 8)\n(3210,)\n"
     ]
    },
    {
     "data": {
      "text/plain": [
       "XGBClassifier(base_score=0.5, colsample_bylevel=1, colsample_bytree=1,\n       gamma=0, learning_rate=0.1, max_delta_step=0, max_depth=50,\n       min_child_weight=1, missing=None, n_estimators=200, nthread=-1,\n       objective='multi:softprob', reg_alpha=0, reg_lambda=1,\n       scale_pos_weight=1, seed=0, silent=False, subsample=1)"
      ]
     },
     "execution_count": 8,
     "metadata": {},
     "output_type": "execute_result"
    }
   ],
   "source": [
    "n_estimators = 200\n",
    "max_depth = 50\n",
    "learning_rate = 0.1\n",
    "\n",
    "y_train_reshape = y_train.argmax(1)\n",
    "print(y_train.shape)\n",
    "print(y_train_reshape.shape)\n",
    "gb_model = XGBClassifier(n_estimators=n_estimators, max_depth=max_depth, learning_rate=learning_rate, silent=False)\n",
    "gb_model.fit(X_train, y_train_reshape)"
   ]
  },
  {
   "cell_type": "code",
   "execution_count": 9,
   "metadata": {},
   "outputs": [
    {
     "name": "stdout",
     "output_type": "stream",
     "text": [
      "[7 0 6 0 4 7 6 7 1 0 0 4 6 5 0 6 0 0 0 3 0 0 0 7 0 7 5 7 0 0 5 7 7 0 0 0 7\n 0 6 5 0 0 0 4 0 0 0 7 7 0 5 0 4 7 4 0 4 0 6 0 0 0 7 0 7 0 7 4 0 0 0 0 6 3\n 0 0 1 4 0 7 2 7 2 0 0 0 7 4 4 4 0 1 1 0 5 0 7 5 5 0 4 0 0 4 0 1 0 4 0 0 2\n 0 0 0 0 5 7 7 0 0 0 0 5 5 4 7 0 0 0 5 0 0 0 0 3 4 7 7 0 0 0 0 0 0 0 5 0 7\n 0 0 0 7 5 0 7 6 0 4 0 7 2 7 0 0 7 0 3 0 1 0 0 0 0 0 7 6 7 0 0 0 7 4 7 7 7\n 0 5 4 4 1 0 0 7 3 0 0 7 5 0 7 7 6 0 0 0 0 7 1 0 7 0 7 0 0 4 0 5 0 0 0 0 5\n 0 1 0 0 0 0 7 4 5 0 7 0 0 4 0 0 1 5 7 0 0 0 0 7 0 0 0 0 0 6 0 4 4 0 0 4 0\n 0 7 2 0 0 0 5 6 0 0 7 0 0 0 0 7 7 7 0 4 0 0 1 5 4 0 0 6 7 0 4 0 0 0 0 0 0\n 0 7 0 6 0 4 1 0 0 2 0 4 6 0 6 0 0 0 7 0 7 6 0 5 5 5 7 1 0 0 7 0 2 6 0 0 7\n 5 0 7 1 0 4 0 0 0 1 0 2 7 5 0 6 7 1 0 0 0 0 0 0 7 0 0 0 0 7 0 4 6 0 4 0 0\n 7 0 2 4 4 0 7 0 0 0 2 0 0 0 4 0 7 7 0 4 0 7 4 0 7 0 7 1 0 1 0 5 5 0 0 6 5\n 7 6 5 0 0 0 4 1 0 0 5 5 0 7 1 0 1 4 7 0 0 5 4 7 7 0 0 1 0 4 7 0 0 5 5 1 7\n 0 0 7 0 7 4 0 0 4 7 0 2 0 0 4 7 4 0 1 0 0 0 4 6 6 2 5 0 7 0 4 6 0 2 0 5 0\n 0 0 7 0 7 0 0 7 0 4 0 0 4 0 7 7 7 4 7 0 4 0 0 0 7 6 0 2 7 0 5 0 2 0 7 0 7\n 0 0 0 0 0 2 4 0 0 7 4 7 0 0 0 0 7 6 0 0 5 0 4 3 1 4 4 7 0 7 1 0 0 6 4 0 0\n 7 7 7 7 0 4 7 0 0 0 0 2]\n"
     ]
    },
    {
     "name": "stdout",
     "output_type": "stream",
     "text": [
      "[[  1.41552379e-02   3.56436614e-03   3.81787220e-04 ...,   2.24787183e-03\n    7.64663506e-04   9.77745891e-01]\n [  9.88884091e-01   1.22723781e-04   1.24228463e-04 ...,   4.91133018e-04\n    3.20333638e-04   9.59310215e-03]\n [  6.78266538e-03   1.71843392e-03   6.69499743e-04 ...,   2.37684441e-03\n    9.82036054e-01   5.12925163e-03]\n ..., \n [  9.96762633e-01   1.45370679e-04   2.38086257e-04 ...,   1.01654987e-04\n    7.72333951e-05   9.61314945e-04]\n [  9.99212861e-01   1.47608182e-04   3.24116736e-05 ...,   2.30838472e-04\n    3.65355154e-05   1.74910994e-04]\n [  3.85983469e-04   4.24594386e-04   9.29917395e-01 ...,   2.14068597e-04\n    5.97974868e-04   6.79094195e-02]]\n"
     ]
    },
    {
     "data": {
      "text/html": [
       "<div>\n",
       "<style>\n",
       "    .dataframe thead tr:only-child th {\n",
       "        text-align: right;\n",
       "    }\n",
       "\n",
       "    .dataframe thead th {\n",
       "        text-align: left;\n",
       "    }\n",
       "\n",
       "    .dataframe tbody tr th {\n",
       "        vertical-align: top;\n",
       "    }\n",
       "</style>\n",
       "<table border=\"1\" class=\"dataframe\">\n",
       "  <thead>\n",
       "    <tr style=\"text-align: right;\">\n",
       "      <th></th>\n",
       "      <th>Model</th>\n",
       "      <th>Accuracy</th>\n",
       "      <th>Precision</th>\n",
       "      <th>Recall</th>\n",
       "      <th>F1</th>\n",
       "      <th>LogLoss</th>\n",
       "    </tr>\n",
       "  </thead>\n",
       "  <tbody>\n",
       "    <tr>\n",
       "      <th>1</th>\n",
       "      <td>Random Forest, n=200.000000 depth=60.000000</td>\n",
       "      <td>0.850088</td>\n",
       "      <td>0.971774</td>\n",
       "      <td>0.850088</td>\n",
       "      <td>0.906867</td>\n",
       "      <td>1.113198</td>\n",
       "    </tr>\n",
       "    <tr>\n",
       "      <th>2</th>\n",
       "      <td>Gradient Boosting, n=200.000000 depth=50.000000</td>\n",
       "      <td>0.955908</td>\n",
       "      <td>0.955908</td>\n",
       "      <td>0.955908</td>\n",
       "      <td>0.955908</td>\n",
       "      <td>0.188240</td>\n",
       "    </tr>\n",
       "  </tbody>\n",
       "</table>\n",
       "</div>"
      ],
      "text/plain": [
       "<div>\n",
       "<style>\n",
       "    .dataframe thead tr:only-child th {\n",
       "        text-align: right;\n",
       "    }\n",
       "\n",
       "    .dataframe thead th {\n",
       "        text-align: left;\n",
       "    }\n",
       "\n",
       "    .dataframe tbody tr th {\n",
       "        vertical-align: top;\n",
       "    }\n",
       "</style>\n",
       "<table border=\"1\" class=\"dataframe\">\n",
       "  <thead>\n",
       "    <tr style=\"text-align: right;\">\n",
       "      <th></th>\n",
       "      <th>Model</th>\n",
       "      <th>Accuracy</th>\n",
       "      <th>Precision</th>\n",
       "      <th>Recall</th>\n",
       "      <th>F1</th>\n",
       "      <th>LogLoss</th>\n",
       "    </tr>\n",
       "  </thead>\n",
       "  <tbody>\n",
       "    <tr>\n",
       "      <th>1</th>\n",
       "      <td>Random Forest, n=200.000000 depth=60.000000</td>\n",
       "      <td>0.850088</td>\n",
       "      <td>0.971774</td>\n",
       "      <td>0.850088</td>\n",
       "      <td>0.906867</td>\n",
       "      <td>1.113198</td>\n",
       "    </tr>\n",
       "    <tr>\n",
       "      <th>2</th>\n",
       "      <td>Gradient Boosting, n=200.000000 depth=50.000000</td>\n",
       "      <td>0.955908</td>\n",
       "      <td>0.955908</td>\n",
       "      <td>0.955908</td>\n",
       "      <td>0.955908</td>\n",
       "      <td>0.188240</td>\n",
       "    </tr>\n",
       "  </tbody>\n",
       "</table>\n",
       "</div>"
      ]
     },
     "execution_count": 9,
     "metadata": {},
     "output_type": "execute_result"
    }
   ],
   "source": [
    "preds = gb_model.predict(X_val)\n",
    "print(preds)\n",
    "\n",
    "proba = gb_model.predict_proba(X_val)\n",
    "print(proba)\n",
    "\n",
    "y_val_reshape = y_val.argmax(1)\n",
    "\n",
    "idx = len(results) + 1\n",
    "\n",
    "results.loc[idx] = ['Gradient Boosting, n=%f' % n_estimators + ' depth=%f' % max_depth,\n",
    "                       metrics.accuracy_score(y_val_reshape, preds),\n",
    "                       metrics.precision_score(y_val_reshape, preds, average=\"micro\"),\n",
    "                       metrics.recall_score(y_val_reshape, preds, average=\"micro\"),\n",
    "                       metrics.f1_score(y_val_reshape, preds, average=\"micro\"),\n",
    "                       metrics.log_loss(y_val_reshape, proba)]\n",
    "\n",
    "results"
   ]
  },
  {
   "cell_type": "code",
   "execution_count": 12,
   "metadata": {},
   "outputs": [
    {
     "data": {
      "text/plain": [
       "['models/GB_Model.h5']"
      ]
     },
     "execution_count": 12,
     "metadata": {},
     "output_type": "execute_result"
    }
   ],
   "source": [
    "from sklearn.externals import joblib\n",
    "\n",
    "joblib.dump(gb_model, \"models/GB_Model.h5\")"
   ]
  },
  {
   "cell_type": "code",
   "execution_count": null,
   "metadata": {},
   "outputs": [],
   "source": [
    ""
   ]
  }
 ],
 "metadata": {
  "kernelspec": {
   "display_name": "Python 2",
   "language": "python",
   "name": "python2"
  },
  "language_info": {
   "codemirror_mode": {
    "name": "ipython",
    "version": 2.0
   },
   "file_extension": ".py",
   "mimetype": "text/x-python",
   "name": "python",
   "nbconvert_exporter": "python",
   "pygments_lexer": "ipython2",
   "version": "2.7.6"
  }
 },
 "nbformat": 4,
 "nbformat_minor": 0
}