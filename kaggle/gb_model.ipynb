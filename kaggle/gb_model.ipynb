{
 "cells": [
  {
   "cell_type": "code",
   "execution_count": 1,
   "metadata": {
    "collapsed": true
   },
   "outputs": [],
   "source": [
    "import h5py\n",
    "import pandas as pd\n",
    "import numpy as np\n",
    "import matplotlib.pyplot as plt\n",
    "from sklearn.model_selection import GridSearchCV\n",
    "from sklearn.model_selection import cross_val_score\n",
    "\n",
    "%matplotlib inline"
   ]
  },
  {
   "cell_type": "code",
   "execution_count": 2,
   "metadata": {},
   "outputs": [],
   "source": [
    "DATA_FILE = 'data/original_train_data.h5'\n",
    "METADATA = 'metadata.npy'\n",
    "\n",
    "f = h5py.File(DATA_FILE, 'r')\n",
    "data_x = f['x']\n",
    "data_y = f['y']\n",
    "metadata = np.load(METADATA).item()"
   ]
  },
  {
   "cell_type": "code",
   "execution_count": 3,
   "metadata": {},
   "outputs": [],
   "source": [
    "import pandas as pd\n",
    "from sklearn import metrics\n",
    "\n",
    "results = pd.DataFrame(columns=['Model', 'Accuracy', 'Precision', 'Recall', 'F1', 'LogLoss'])"
   ]
  },
  {
   "cell_type": "code",
   "execution_count": 4,
   "metadata": {},
   "outputs": [],
   "source": [
    "from sklearn.model_selection import train_test_split\n",
    "\n",
    "data_x = np.asarray(data_x)\n",
    "data_x = data_x.reshape(data_x.shape[0], -1)\n",
    "data_y = np.asarray(data_y)\n",
    "X_train, X_val, y_train, y_val = train_test_split(data_x, data_y, test_size=0.15, random_state=42)"
   ]
  },
  {
   "cell_type": "markdown",
   "metadata": {},
   "source": [
    "Gradient Boosting Model"
   ]
  },
  {
   "cell_type": "code",
   "execution_count": 5,
   "metadata": {},
   "outputs": [
    {
     "name": "stderr",
     "output_type": "stream",
     "text": [
      "/Library/Frameworks/Python.framework/Versions/3.5/lib/python3.5/site-packages/sklearn/cross_validation.py:44: DeprecationWarning: This module was deprecated in version 0.18 in favor of the model_selection module into which all the refactored classes and functions are moved. Also note that the interface of the new CV iterators are different from that of this module. This module will be removed in 0.20.\n  \"This module will be removed in 0.20.\", DeprecationWarning)\n"
     ]
    }
   ],
   "source": [
    "from xgboost import XGBClassifier"
   ]
  },
  {
   "cell_type": "code",
   "execution_count": 6,
   "metadata": {},
   "outputs": [
    {
     "data": {
      "text/plain": [
       "XGBClassifier(base_score=0.5, colsample_bylevel=1, colsample_bytree=1,\n       gamma=0, learning_rate=0.1, max_delta_step=0, max_depth=50,\n       min_child_weight=1, missing=None, n_estimators=200, nthread=-1,\n       objective='multi:softprob', reg_alpha=0, reg_lambda=1,\n       scale_pos_weight=1, seed=0, silent=False, subsample=1)"
      ]
     },
     "execution_count": 6,
     "metadata": {},
     "output_type": "execute_result"
    }
   ],
   "source": [
    "n_estimators = 200\n",
    "max_depth = 50\n",
    "learning_rate = 0.1\n",
    "\n",
    "gb_model = XGBClassifier(n_estimators=n_estimators, max_depth=max_depth, learning_rate=learning_rate, silent=False)\n",
    "gb_model.fit(data_x, data_y.argmax(1))"
   ]
  },
  {
   "cell_type": "code",
   "execution_count": 7,
   "metadata": {},
   "outputs": [
    {
     "name": "stdout",
     "output_type": "stream",
     "text": [
      "[7 0 6 0 4 7 6 7 0 0 0 4 6 5 0 6 0 0 0 3 0 0 0 7 0 7 5 7 0 0 5 7 7 0 0 0 7\n 0 6 5 0 0 0 4 0 0 7 7 7 4 5 0 4 7 4 0 4 0 6 0 0 0 7 0 7 0 7 4 7 0 6 0 6 3\n 0 0 1 4 0 7 2 7 2 0 0 0 7 4 4 4 0 1 1 0 5 0 7 5 5 0 4 0 0 4 0 1 0 4 0 0 2\n 0 0 0 0 5 7 7 0 0 0 0 5 5 4 7 0 0 0 5 0 0 0 0 3 4 7 7 0 0 0 0 0 0 2 5 0 7\n 0 0 0 7 5 0 7 6 0 4 0 7 2 7 0 0 7 0 3 0 1 0 0 0 0 0 7 6 7 0 0 0 7 4 7 7 7\n 0 5 4 4 1 0 4 7 3 4 0 7 5 0 7 7 6 0 0 0 0 7 1 0 7 0 7 0 0 4 0 5 0 5 0 0 5\n 4 1 0 0 0 0 7 4 5 0 7 0 0 4 0 0 1 5 2 0 0 0 0 7 0 0 0 0 0 6 0 4 4 0 0 4 0\n 0 7 2 0 0 0 5 6 0 0 7 0 0 0 0 7 7 7 4 4 0 0 1 5 4 0 0 6 7 0 4 0 0 0 0 0 0\n 0 7 0 6 0 4 1 0 0 2 0 4 6 0 6 0 0 0 7 0 7 6 4 5 5 5 7 1 0 0 7 0 2 6 0 0 7\n 5 0 7 1 0 4 0 1 0 1 0 2 7 5 0 6 7 1 0 0 0 0 2 0 7 0 0 0 0 7 4 4 6 0 4 0 0\n 7 0 2 4 4 0 7 0 0 0 2 7 0 0 4 0 0 7 0 4 0 7 4 0 0 0 7 1 1 1 0 5 5 0 0 6 5\n 7 6 5 0 0 0 4 1 0 0 5 5 0 7 1 0 1 4 7 0 0 5 4 7 7 0 0 1 0 4 7 0 0 5 5 4 7\n 0 0 7 0 7 4 0 0 4 7 0 2 0 0 0 7 4 0 1 0 0 0 4 6 6 2 5 0 7 0 4 6 0 2 0 5 0\n 0 0 7 0 7 2 0 7 0 4 0 0 4 0 7 7 7 4 7 0 4 0 0 0 7 6 0 2 7 0 5 0 2 0 7 0 0\n 0 0 0 0 0 2 4 0 0 7 4 7 0 0 0 0 7 6 0 0 5 0 4 3 1 4 4 7 0 7 1 0 0 6 4 0 0\n 7 7 7 7 0 4 7 1 0 0 0 2]\n"
     ]
    },
    {
     "name": "stdout",
     "output_type": "stream",
     "text": [
      "[[  1.32511486e-03   2.66747724e-04   1.20993049e-04 ...,   3.63940140e-04\n    8.01237402e-05   9.97595608e-01]\n [  9.98491883e-01   4.62035096e-05   6.29660353e-05 ...,   1.27557738e-04\n    8.01819551e-05   1.03422825e-03]\n [  9.99830314e-04   2.61057459e-04   1.62297220e-04 ...,   6.13722077e-04\n    9.96487737e-01   1.00173627e-03]\n ..., \n [  9.98476803e-01   8.08840923e-05   7.48760722e-05 ...,   6.66264023e-05\n    3.95513307e-05   5.04741154e-04]\n [  9.99345005e-01   1.04659754e-04   5.71017044e-05 ...,   1.71472071e-04\n    2.59108383e-05   1.70765779e-04]\n [  1.83245036e-04   1.19380449e-04   9.95298445e-01 ...,   8.65925103e-05\n    2.09242062e-04   3.92362196e-03]]\n"
     ]
    },
    {
     "data": {
      "text/html": [
       "<div>\n",
       "<style>\n",
       "    .dataframe thead tr:only-child th {\n",
       "        text-align: right;\n",
       "    }\n",
       "\n",
       "    .dataframe thead th {\n",
       "        text-align: left;\n",
       "    }\n",
       "\n",
       "    .dataframe tbody tr th {\n",
       "        vertical-align: top;\n",
       "    }\n",
       "</style>\n",
       "<table border=\"1\" class=\"dataframe\">\n",
       "  <thead>\n",
       "    <tr style=\"text-align: right;\">\n",
       "      <th></th>\n",
       "      <th>Model</th>\n",
       "      <th>Accuracy</th>\n",
       "      <th>Precision</th>\n",
       "      <th>Recall</th>\n",
       "      <th>F1</th>\n",
       "      <th>LogLoss</th>\n",
       "    </tr>\n",
       "  </thead>\n",
       "  <tbody>\n",
       "    <tr>\n",
       "      <th>1</th>\n",
       "      <td>Gradient Boosting, n=200.000000 depth=50.000000</td>\n",
       "      <td>1.0</td>\n",
       "      <td>1.0</td>\n",
       "      <td>1.0</td>\n",
       "      <td>1.0</td>\n",
       "      <td>0.002185</td>\n",
       "    </tr>\n",
       "  </tbody>\n",
       "</table>\n",
       "</div>"
      ],
      "text/plain": [
       "<div>\n",
       "<style>\n",
       "    .dataframe thead tr:only-child th {\n",
       "        text-align: right;\n",
       "    }\n",
       "\n",
       "    .dataframe thead th {\n",
       "        text-align: left;\n",
       "    }\n",
       "\n",
       "    .dataframe tbody tr th {\n",
       "        vertical-align: top;\n",
       "    }\n",
       "</style>\n",
       "<table border=\"1\" class=\"dataframe\">\n",
       "  <thead>\n",
       "    <tr style=\"text-align: right;\">\n",
       "      <th></th>\n",
       "      <th>Model</th>\n",
       "      <th>Accuracy</th>\n",
       "      <th>Precision</th>\n",
       "      <th>Recall</th>\n",
       "      <th>F1</th>\n",
       "      <th>LogLoss</th>\n",
       "    </tr>\n",
       "  </thead>\n",
       "  <tbody>\n",
       "    <tr>\n",
       "      <th>1</th>\n",
       "      <td>Gradient Boosting, n=200.000000 depth=50.000000</td>\n",
       "      <td>1.0</td>\n",
       "      <td>1.0</td>\n",
       "      <td>1.0</td>\n",
       "      <td>1.0</td>\n",
       "      <td>0.002185</td>\n",
       "    </tr>\n",
       "  </tbody>\n",
       "</table>\n",
       "</div>"
      ]
     },
     "execution_count": 7,
     "metadata": {},
     "output_type": "execute_result"
    }
   ],
   "source": [
    "preds = gb_model.predict(X_val)\n",
    "print(preds)\n",
    "\n",
    "proba = gb_model.predict_proba(X_val)\n",
    "print(proba)\n",
    "\n",
    "y_val_reshape = y_val.argmax(1)\n",
    "\n",
    "idx = len(results) + 1\n",
    "\n",
    "results.loc[idx] = ['Gradient Boosting, n=%f' % n_estimators + ' depth=%f' % max_depth,\n",
    "                       metrics.accuracy_score(y_val_reshape, preds),\n",
    "                       metrics.precision_score(y_val_reshape, preds, average=\"micro\"),\n",
    "                       metrics.recall_score(y_val_reshape, preds, average=\"micro\"),\n",
    "                       metrics.f1_score(y_val_reshape, preds, average=\"micro\"),\n",
    "                       metrics.log_loss(y_val_reshape, proba)]\n",
    "\n",
    "results"
   ]
  },
  {
   "cell_type": "code",
   "execution_count": 8,
   "metadata": {},
   "outputs": [
    {
     "data": {
      "text/plain": [
       "['models/GB_Model_Full_200_50.h5']"
      ]
     },
     "execution_count": 8,
     "metadata": {},
     "output_type": "execute_result"
    }
   ],
   "source": [
    "from sklearn.externals import joblib\n",
    "\n",
    "joblib.dump(gb_model, \"models/GB_Model_Full_200_50.h5\")"
   ]
  },
  {
   "cell_type": "code",
   "execution_count": null,
   "metadata": {},
   "outputs": [],
   "source": [
    ""
   ]
  }
 ],
 "metadata": {
  "kernelspec": {
   "display_name": "Python 2",
   "language": "python",
   "name": "python2"
  },
  "language_info": {
   "codemirror_mode": {
    "name": "ipython",
    "version": 2.0
   },
   "file_extension": ".py",
   "mimetype": "text/x-python",
   "name": "python",
   "nbconvert_exporter": "python",
   "pygments_lexer": "ipython2",
   "version": "2.7.6"
  }
 },
 "nbformat": 4,
 "nbformat_minor": 0
}