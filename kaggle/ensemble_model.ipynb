{
 "cells": [
  {
   "cell_type": "code",
   "execution_count": 1,
   "metadata": {
    "collapsed": true
   },
   "outputs": [],
   "source": [
    "import h5py\n",
    "import pandas as pd\n",
    "import numpy as np\n",
    "import matplotlib.pyplot as plt\n",
    "from sklearn.ensemble import RandomForestClassifier\n",
    "from sklearn.svm import SVC\n",
    "from sklearn.model_selection import GridSearchCV\n",
    "from sklearn.model_selection import cross_val_score\n",
    "\n",
    "%matplotlib inline"
   ]
  },
  {
   "cell_type": "code",
   "execution_count": 2,
   "metadata": {},
   "outputs": [],
   "source": [
    "DATA_FILE = 'data/original_train_data.h5'\n",
    "METADATA = 'metadata.npy'\n",
    "\n",
    "f = h5py.File(DATA_FILE, 'r')\n",
    "data_x = f['x']\n",
    "data_y = f['y']\n",
    "metadata = np.load(METADATA).item()"
   ]
  },
  {
   "cell_type": "code",
   "execution_count": 3,
   "metadata": {},
   "outputs": [],
   "source": [
    "import pandas as pd\n",
    "from sklearn import metrics\n",
    "\n",
    "results = pd.DataFrame(columns=['Model', 'Accuracy', 'Precision', 'Recall', 'F1', 'LogLoss'])"
   ]
  },
  {
   "cell_type": "code",
   "execution_count": 4,
   "metadata": {},
   "outputs": [],
   "source": [
    "from sklearn.model_selection import train_test_split\n",
    "\n",
    "data_x = np.asarray(data_x)\n",
    "data_x = data_x.reshape(data_x.shape[0], -1)\n",
    "data_y = np.asarray(data_y)\n",
    "X_train, X_val, y_train, y_val = train_test_split(data_x, data_y, test_size=0.15, random_state=42)"
   ]
  },
  {
   "cell_type": "markdown",
   "metadata": {},
   "source": [
    "RANDOM FOREST MODEL"
   ]
  },
  {
   "cell_type": "code",
   "execution_count": 5,
   "metadata": {},
   "outputs": [
    {
     "data": {
      "text/plain": [
       "RandomForestClassifier(bootstrap=True, class_weight=None, criterion='gini',\n            max_depth=60, max_features='auto', max_leaf_nodes=None,\n            min_impurity_split=1e-07, min_samples_leaf=1,\n            min_samples_split=2, min_weight_fraction_leaf=0.0,\n            n_estimators=200, n_jobs=1, oob_score=False, random_state=42,\n            verbose=0, warm_start=False)"
      ]
     },
     "execution_count": 5,
     "metadata": {},
     "output_type": "execute_result"
    }
   ],
   "source": [
    "n_estimators = 200\n",
    "max_depth = 60\n",
    "model = RandomForestClassifier(n_estimators=n_estimators, max_depth=max_depth, random_state=42)\n",
    "model.fit(X_train, y_train)"
   ]
  },
  {
   "cell_type": "code",
   "execution_count": 7,
   "metadata": {
    "collapsed": false
   },
   "outputs": [
    {
     "name": "stdout",
     "output_type": "stream",
     "text": [
      "(567, 8)\n"
     ]
    },
    {
     "data": {
      "text/html": [
       "<div>\n",
       "<style>\n",
       "    .dataframe thead tr:only-child th {\n",
       "        text-align: right;\n",
       "    }\n",
       "\n",
       "    .dataframe thead th {\n",
       "        text-align: left;\n",
       "    }\n",
       "\n",
       "    .dataframe tbody tr th {\n",
       "        vertical-align: top;\n",
       "    }\n",
       "</style>\n",
       "<table border=\"1\" class=\"dataframe\">\n",
       "  <thead>\n",
       "    <tr style=\"text-align: right;\">\n",
       "      <th></th>\n",
       "      <th>Model</th>\n",
       "      <th>Accuracy</th>\n",
       "      <th>Precision</th>\n",
       "      <th>Recall</th>\n",
       "      <th>F1</th>\n",
       "      <th>LogLoss</th>\n",
       "    </tr>\n",
       "  </thead>\n",
       "  <tbody>\n",
       "    <tr>\n",
       "      <th>1</th>\n",
       "      <td>Random Forest, n=200.000000 depth=60.000000</td>\n",
       "      <td>0.850088</td>\n",
       "      <td>0.971774</td>\n",
       "      <td>0.850088</td>\n",
       "      <td>0.906867</td>\n",
       "      <td>1.113198</td>\n",
       "    </tr>\n",
       "    <tr>\n",
       "      <th>2</th>\n",
       "      <td>Random Forest, n=200.000000 depth=60.000000</td>\n",
       "      <td>0.850088</td>\n",
       "      <td>0.971774</td>\n",
       "      <td>0.850088</td>\n",
       "      <td>0.906867</td>\n",
       "      <td>1.113198</td>\n",
       "    </tr>\n",
       "  </tbody>\n",
       "</table>\n",
       "</div>"
      ],
      "text/plain": [
       "<div>\n",
       "<style>\n",
       "    .dataframe thead tr:only-child th {\n",
       "        text-align: right;\n",
       "    }\n",
       "\n",
       "    .dataframe thead th {\n",
       "        text-align: left;\n",
       "    }\n",
       "\n",
       "    .dataframe tbody tr th {\n",
       "        vertical-align: top;\n",
       "    }\n",
       "</style>\n",
       "<table border=\"1\" class=\"dataframe\">\n",
       "  <thead>\n",
       "    <tr style=\"text-align: right;\">\n",
       "      <th></th>\n",
       "      <th>Model</th>\n",
       "      <th>Accuracy</th>\n",
       "      <th>Precision</th>\n",
       "      <th>Recall</th>\n",
       "      <th>F1</th>\n",
       "      <th>LogLoss</th>\n",
       "    </tr>\n",
       "  </thead>\n",
       "  <tbody>\n",
       "    <tr>\n",
       "      <th>1</th>\n",
       "      <td>Random Forest, n=200.000000 depth=60.000000</td>\n",
       "      <td>0.850088</td>\n",
       "      <td>0.971774</td>\n",
       "      <td>0.850088</td>\n",
       "      <td>0.906867</td>\n",
       "      <td>1.113198</td>\n",
       "    </tr>\n",
       "    <tr>\n",
       "      <th>2</th>\n",
       "      <td>Random Forest, n=200.000000 depth=60.000000</td>\n",
       "      <td>0.850088</td>\n",
       "      <td>0.971774</td>\n",
       "      <td>0.850088</td>\n",
       "      <td>0.906867</td>\n",
       "      <td>1.113198</td>\n",
       "    </tr>\n",
       "  </tbody>\n",
       "</table>\n",
       "</div>"
      ]
     },
     "execution_count": 7,
     "metadata": {},
     "output_type": "execute_result"
    }
   ],
   "source": [
    "preds = model.predict(X_val)\n",
    "print(preds.shape)\n",
    "idx = len(results) + 1\n",
    "\n",
    "results.loc[idx] = ['Random Forest, n=%f' % n_estimators + ' depth=%f' % max_depth,\n",
    "                       metrics.accuracy_score(y_val, preds),\n",
    "                       metrics.precision_score(y_val, preds, average=\"micro\"),\n",
    "                       metrics.recall_score(y_val, preds, average=\"micro\"),\n",
    "                       metrics.f1_score(y_val, preds, average=\"micro\"),\n",
    "                       metrics.log_loss(y_val, preds)]\n",
    "\n",
    "results"
   ]
  },
  {
   "cell_type": "markdown",
   "metadata": {},
   "source": [
    "Gradient Boosting Model"
   ]
  },
  {
   "cell_type": "code",
   "execution_count": 5,
   "metadata": {},
   "outputs": [
    {
     "name": "stderr",
     "output_type": "stream",
     "text": [
      "/Library/Frameworks/Python.framework/Versions/3.5/lib/python3.5/site-packages/sklearn/cross_validation.py:44: DeprecationWarning: This module was deprecated in version 0.18 in favor of the model_selection module into which all the refactored classes and functions are moved. Also note that the interface of the new CV iterators are different from that of this module. This module will be removed in 0.20.\n  \"This module will be removed in 0.20.\", DeprecationWarning)\n"
     ]
    }
   ],
   "source": [
    "from xgboost import XGBClassifier"
   ]
  },
  {
   "cell_type": "code",
   "execution_count": 6,
   "metadata": {},
   "outputs": [
    {
     "name": "stdout",
     "output_type": "stream",
     "text": [
      "(3210, 8)\n(3210,)\n"
     ]
    },
    {
     "data": {
      "text/plain": [
       "XGBClassifier(base_score=0.5, colsample_bylevel=1, colsample_bytree=1,\n       gamma=0, learning_rate=0.1, max_delta_step=0, max_depth=3,\n       min_child_weight=1, missing=None, n_estimators=10, nthread=-1,\n       objective='multi:softprob', reg_alpha=0, reg_lambda=1,\n       scale_pos_weight=1, seed=0, silent=False, subsample=1)"
      ]
     },
     "execution_count": 6,
     "metadata": {},
     "output_type": "execute_result"
    }
   ],
   "source": [
    "n_estimators = 10\n",
    "max_depth = 3\n",
    "learning_rate = 0.1\n",
    "\n",
    "y_train_reshape = y_train.argmax(1)\n",
    "print(y_train.shape)\n",
    "print(y_train_reshape.shape)\n",
    "gb_model = XGBClassifier(n_estimators=n_estimators, max_depth=max_depth, learning_rate=learning_rate, silent=False)\n",
    "gb_model.fit(X_train, y_train_reshape)"
   ]
  },
  {
   "cell_type": "code",
   "execution_count": 8,
   "metadata": {},
   "outputs": [
    {
     "name": "stdout",
     "output_type": "stream",
     "text": [
      "[0 7 6 7 4 7 6 0 0 0 7 0 0 5 0 6 0 0 0 3 0 0 0 7 0 7 0 7 0 0 0 7 7 0 0 0 7\n 0 6 0 0 0 0 4 0 0 0 7 7 0 5 0 4 7 4 0 0 0 6 0 0 0 7 0 0 0 7 4 0 0 0 0 6 3\n 0 0 1 0 0 2 2 7 7 0 0 0 7 4 0 4 0 1 0 0 5 0 7 5 5 0 4 0 0 4 0 1 0 7 6 0 2\n 0 0 0 0 5 7 0 0 0 0 0 5 0 4 7 0 0 0 5 0 0 0 0 0 7 6 0 0 0 0 0 0 0 0 5 0 7\n 0 0 0 7 0 0 7 6 0 0 0 7 0 7 0 0 7 0 3 0 1 0 0 0 0 0 7 6 0 0 0 0 7 4 7 7 7\n 0 5 4 4 1 0 0 0 0 0 0 0 0 0 7 7 6 0 0 0 0 0 4 0 7 0 7 0 0 0 0 5 0 0 0 0 0\n 0 1 0 0 0 0 7 7 5 0 0 0 0 4 0 0 0 5 7 0 0 0 0 0 0 0 0 0 0 6 0 4 4 0 0 4 0\n 0 0 2 0 0 7 5 6 0 0 7 0 0 0 7 7 7 0 0 0 0 0 1 5 0 0 0 6 2 0 0 0 0 0 0 0 0\n 0 0 0 6 0 0 0 0 0 7 0 4 6 0 6 0 0 0 7 0 0 6 0 5 5 0 7 0 0 0 7 0 2 6 0 0 0\n 0 0 7 0 7 4 0 0 0 0 0 7 7 5 0 6 7 1 0 0 0 0 0 0 0 0 0 0 0 7 0 4 6 0 0 0 0\n 7 0 7 4 4 0 7 0 0 0 0 0 0 0 0 0 0 7 0 4 0 7 4 0 0 0 7 1 0 1 0 7 5 0 0 6 5\n 7 6 0 0 0 0 4 7 0 0 0 5 0 7 1 0 1 4 7 0 0 5 4 7 0 0 0 1 0 0 7 0 0 5 5 1 0\n 0 0 7 0 7 4 0 0 4 0 0 7 0 0 4 7 4 0 1 0 0 0 4 6 6 7 0 0 0 0 4 6 0 2 0 0 0\n 0 0 7 0 7 0 0 7 0 4 0 0 4 0 7 7 7 0 7 0 7 0 0 0 7 1 0 2 7 0 7 0 2 0 0 0 7\n 0 0 0 0 0 2 4 0 0 7 4 0 0 0 0 0 7 6 0 0 0 0 4 3 1 4 0 7 0 7 1 0 0 6 4 0 0\n 7 7 7 7 0 4 7 0 0 0 0 2]\n"
     ]
    }
   ],
   "source": [
    "preds = gb_model.predict(X_val)\n",
    "print(preds)"
   ]
  },
  {
   "cell_type": "code",
   "execution_count": null,
   "metadata": {},
   "outputs": [],
   "source": [
    ""
   ]
  }
 ],
 "metadata": {
  "kernelspec": {
   "display_name": "Python 2",
   "language": "python",
   "name": "python2"
  },
  "language_info": {
   "codemirror_mode": {
    "name": "ipython",
    "version": 2.0
   },
   "file_extension": ".py",
   "mimetype": "text/x-python",
   "name": "python",
   "nbconvert_exporter": "python",
   "pygments_lexer": "ipython2",
   "version": "2.7.6"
  }
 },
 "nbformat": 4,
 "nbformat_minor": 0
}